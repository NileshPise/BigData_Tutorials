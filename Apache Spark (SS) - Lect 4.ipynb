{
 "cells": [
  {
   "cell_type": "markdown",
   "id": "f49320fd",
   "metadata": {},
   "source": [
    "### Join Operations\n",
    "\n",
    "Structured Streaming supports joining a streaming Dataset/DataFrame with a static Dataset/DataFrame as well as another streaming Dataset/DataFrame. The result of the streaming join is generated incrementally, similar to the results of streaming aggregations in the previous section. In this section we will explore what type of joins (i.e. inner, outer, semi, etc.) are supported in the above cases. Note that in all the supported join types, the result of the join with a streaming Dataset/DataFrame will be the exactly the same as if it was with a static Dataset/DataFrame containing the same data in the stream.\n",
    "### Stream-static Joins\n",
    "\n",
    "Since the introduction in Spark 2.0, Structured Streaming has supported joins (inner join and some type of outer joins) between a streaming and a static DataFrame/Dataset. Here is a simple example."
   ]
  },
  {
   "cell_type": "code",
   "execution_count": 1,
   "id": "06cc5fa3",
   "metadata": {},
   "outputs": [
    {
     "name": "stderr",
     "output_type": "stream",
     "text": [
      "Setting default log level to \"WARN\".\n",
      "To adjust logging level use sc.setLogLevel(newLevel). For SparkR, use setLogLevel(newLevel).\n",
      "23/01/10 14:55:10 WARN Utils: Service 'SparkUI' could not bind on port 4040. Attempting port 4041.\n"
     ]
    }
   ],
   "source": [
    "from pyspark.sql import SparkSession\n",
    "from pyspark import SparkConf\n",
    "from pyspark.sql.functions import *\n",
    "from pyspark.sql.types import *\n",
    "\n",
    "sparkSession = SparkSession.builder.config(conf=SparkConf() \\\n",
    "                        .setAppName('SS') \\\n",
    "                        .setMaster('local[4]')).enableHiveSupport().getOrCreate()"
   ]
  },
  {
   "cell_type": "code",
   "execution_count": 2,
   "id": "a9e454ff",
   "metadata": {},
   "outputs": [
    {
     "name": "stderr",
     "output_type": "stream",
     "text": [
      "                                                                                \r"
     ]
    }
   ],
   "source": [
    "card = sparkSession.read.csv(path='/Datasets/CardBase.csv', inferSchema=True, header=True)\n",
    "card = card.cache()"
   ]
  },
  {
   "cell_type": "code",
   "execution_count": 3,
   "id": "2a7b541e",
   "metadata": {},
   "outputs": [
    {
     "data": {
      "text/plain": [
       "['Card_Number', 'Card_Family', 'Credit_Limit', 'Cust_ID']"
      ]
     },
     "execution_count": 3,
     "metadata": {},
     "output_type": "execute_result"
    }
   ],
   "source": [
    "card.columns"
   ]
  },
  {
   "cell_type": "code",
   "execution_count": 4,
   "id": "92838b16",
   "metadata": {},
   "outputs": [],
   "source": [
    "schema = StructType([StructField('Transaction_ID', StringType(), True) \\\n",
    "            , StructField('Transaction_Date', StringType(), True) \\\n",
    "            , StructField('Transaction_Value', IntegerType(), True) \\\n",
    "            , StructField('Transaction_Segment', StringType(), True) \\\n",
    "            , StructField('Credit_Card_ID', StringType(), True)])\n",
    "trans = sparkSession.readStream.schema(schema).csv('/Spark_streaming/TransactionBasenew3/') \\\n",
    "            .select('Transaction_ID', \\\n",
    "                    to_timestamp('Transaction_Date').alias('Transaction_Date'), \\\n",
    "                    'Transaction_Value','Transaction_Segment','Credit_Card_ID')"
   ]
  },
  {
   "cell_type": "code",
   "execution_count": null,
   "id": "e5da9d76",
   "metadata": {},
   "outputs": [],
   "source": [
    "schema = StructType([StructField('Transaction_ID', StringType(), True) \\\n",
    "            , StructField('Transaction_Date', StringType(), True) \\\n",
    "            , StructField('Transaction_Value', IntegerType(), True) \\\n",
    "            , StructField('Transaction_Segment', StringType(), True) \\\n",
    "            , StructField('Credit_Card_ID', StringType(), True)])\n",
    "trans = sparkSession.readStream.schema(schema).csv('/Spark_streaming/TransactionBasenew3/') \\\n",
    "            .select('Transaction_ID', \\\n",
    "                    to_timestamp('Transaction_Date').alias('Transaction_Date'), \\\n",
    "                    'Transaction_Value','Transaction_Segment','Credit_Card_ID') \\\n",
    "            .withWatermark('Transaction_Date', '10 minutes')"
   ]
  },
  {
   "cell_type": "code",
   "execution_count": 5,
   "id": "3cc9b3a5",
   "metadata": {},
   "outputs": [],
   "source": [
    "df = trans.join(card, card.Card_Number==trans.Credit_Card_ID, 'inner')\n",
    "\n",
    "df = df.filter(df.Transaction_Value > df.Credit_Limit) \\\n",
    "            .select('Transaction_ID','Transaction_Value','Credit_Limit','Card_Family')\n",
    "\n",
    "query = df \\\n",
    "    .writeStream \\\n",
    "    .outputMode(\"append\") \\\n",
    "    .format(\"console\") \\\n",
    "    .start(truncate=False)\n",
    "\n",
    "query.awaitTermination()"
   ]
  },
  {
   "cell_type": "code",
   "execution_count": 8,
   "id": "c1851bd1",
   "metadata": {},
   "outputs": [
    {
     "name": "stderr",
     "output_type": "stream",
     "text": [
      "23/01/10 14:57:29 WARN ResolveWriteToStream: Temporary checkpoint location created which is deleted normally when the query didn't fail: /tmp/temporary-224be1eb-0d14-4901-8281-0fde70994be8. If it's required to delete it under any circumstances, please set spark.sql.streaming.forceDeleteTempCheckpointLocation to true. Important to know deleting temp checkpoint folder is best effort.\n",
      "23/01/10 14:57:29 WARN ResolveWriteToStream: spark.sql.adaptive.enabled is not supported in streaming DataFrames/Datasets and will be disabled.\n",
      "                                                                                \r"
     ]
    },
    {
     "name": "stdout",
     "output_type": "stream",
     "text": [
      "-------------------------------------------\n",
      "Batch: 0\n",
      "-------------------------------------------\n",
      "+-----------------+-----------------+------------+-----------+\n",
      "|Transaction_ID   |Transaction_Value|Credit_Limit|Card_Family|\n",
      "+-----------------+-----------------+------------+-----------+\n",
      "|CTID2035953710722|36384            |24000       |Gold       |\n",
      "|CTID2035953712306|40795            |6000        |Gold       |\n",
      "|CTID2035953717060|22160            |6000        |Gold       |\n",
      "|CTID2035953727360|39678            |11000       |Gold       |\n",
      "|CTID2035953732113|47252            |30000       |Gold       |\n",
      "|CTID2035953736075|7170             |2000        |Gold       |\n",
      "|CTID2035953743205|36334            |27000       |Gold       |\n",
      "|CTID2035953746374|49253            |17000       |Gold       |\n",
      "|CTID2035953755090|39666            |26000       |Gold       |\n",
      "|CTID2035953758259|44747            |15000       |Gold       |\n",
      "|CTID2035953767766|12118            |10000       |Gold       |\n",
      "|CTID2035953778858|43339            |12000       |Gold       |\n",
      "|CTID2035953780443|16108            |13000       |Gold       |\n",
      "|CTID2035953782027|44279            |20000       |Gold       |\n",
      "|CTID2302988783674|32039            |6000        |Gold       |\n",
      "|CTID2302988792389|32892            |4000        |Gold       |\n",
      "|CTID2302988799520|35626            |27000       |Gold       |\n",
      "|CTID2302988802689|12958            |12000       |Gold       |\n",
      "|CTID2302988808235|13619            |2000        |Gold       |\n",
      "|CTID2302988813781|33799            |29000       |Gold       |\n",
      "+-----------------+-----------------+------------+-----------+\n",
      "only showing top 20 rows\n",
      "\n",
      "-------------------------------------------\n",
      "Batch: 1\n",
      "-------------------------------------------\n",
      "+--------------+-----------------+------------+-----------+\n",
      "|Transaction_ID|Transaction_Value|Credit_Limit|Card_Family|\n",
      "+--------------+-----------------+------------+-----------+\n",
      "+--------------+-----------------+------------+-----------+\n",
      "\n",
      "-------------------------------------------\n",
      "Batch: 2\n",
      "-------------------------------------------\n",
      "+-----------------+-----------------+------------+-----------+\n",
      "|Transaction_ID   |Transaction_Value|Credit_Limit|Card_Family|\n",
      "+-----------------+-----------------+------------+-----------+\n",
      "|CTID1258532734622|47505            |34000       |Gold       |\n",
      "+-----------------+-----------------+------------+-----------+\n",
      "\n",
      "-------------------------------------------\n",
      "Batch: 3\n",
      "-------------------------------------------\n",
      "+-----------------+-----------------+------------+-----------+\n",
      "|Transaction_ID   |Transaction_Value|Credit_Limit|Card_Family|\n",
      "+-----------------+-----------------+------------+-----------+\n",
      "|CTID1529869534727|46653            |11000       |Gold       |\n",
      "+-----------------+-----------------+------------+-----------+\n",
      "\n",
      "-------------------------------------------\n",
      "Batch: 4\n",
      "-------------------------------------------\n",
      "+-----------------+-----------------+------------+-----------+\n",
      "|Transaction_ID   |Transaction_Value|Credit_Limit|Card_Family|\n",
      "+-----------------+-----------------+------------+-----------+\n",
      "|CTID1793262229972|39437            |2000        |Gold       |\n",
      "+-----------------+-----------------+------------+-----------+\n",
      "\n",
      "-------------------------------------------\n",
      "Batch: 5\n",
      "-------------------------------------------\n",
      "+-----------------+-----------------+------------+-----------+\n",
      "|Transaction_ID   |Transaction_Value|Credit_Limit|Card_Family|\n",
      "+-----------------+-----------------+------------+-----------+\n",
      "|CTID2061023542330|47195            |28000       |Gold       |\n",
      "+-----------------+-----------------+------------+-----------+\n",
      "\n",
      "-------------------------------------------\n",
      "Batch: 6\n",
      "-------------------------------------------\n",
      "+--------------+-----------------+------------+-----------+\n",
      "|Transaction_ID|Transaction_Value|Credit_Limit|Card_Family|\n",
      "+--------------+-----------------+------------+-----------+\n",
      "+--------------+-----------------+------------+-----------+\n",
      "\n",
      "-------------------------------------------\n",
      "Batch: 7\n",
      "-------------------------------------------\n",
      "+--------------+-----------------+------------+-----------+\n",
      "|Transaction_ID|Transaction_Value|Credit_Limit|Card_Family|\n",
      "+--------------+-----------------+------------+-----------+\n",
      "+--------------+-----------------+------------+-----------+\n",
      "\n",
      "-------------------------------------------\n",
      "Batch: 8\n",
      "-------------------------------------------\n",
      "+-----------------+-----------------+------------+-----------+\n",
      "|Transaction_ID   |Transaction_Value|Credit_Limit|Card_Family|\n",
      "+-----------------+-----------------+------------+-----------+\n",
      "|CTID2863434575201|37666            |30000       |Gold       |\n",
      "+-----------------+-----------------+------------+-----------+\n",
      "\n",
      "-------------------------------------------\n",
      "Batch: 9\n",
      "-------------------------------------------\n",
      "+--------------+-----------------+------------+-----------+\n",
      "|Transaction_ID|Transaction_Value|Credit_Limit|Card_Family|\n",
      "+--------------+-----------------+------------+-----------+\n",
      "+--------------+-----------------+------------+-----------+\n",
      "\n",
      "-------------------------------------------\n",
      "Batch: 10\n",
      "-------------------------------------------\n",
      "+--------------+-----------------+------------+-----------+\n",
      "|Transaction_ID|Transaction_Value|Credit_Limit|Card_Family|\n",
      "+--------------+-----------------+------------+-----------+\n",
      "+--------------+-----------------+------------+-----------+\n",
      "\n",
      "-------------------------------------------\n",
      "Batch: 11\n",
      "-------------------------------------------\n",
      "+-----------------+-----------------+------------+-----------+\n",
      "|Transaction_ID   |Transaction_Value|Credit_Limit|Card_Family|\n",
      "+-----------------+-----------------+------------+-----------+\n",
      "|CTID3659146454945|39247            |32000       |Gold       |\n",
      "+-----------------+-----------------+------------+-----------+\n",
      "\n"
     ]
    },
    {
     "name": "stderr",
     "output_type": "stream",
     "text": [
      "ERROR:root:KeyboardInterrupt while sending command.\n",
      "Traceback (most recent call last):\n",
      "  File \"/home/audacious/.local/lib/python3.10/site-packages/py4j/java_gateway.py\", line 1038, in send_command\n",
      "    response = connection.send_command(command)\n",
      "  File \"/home/audacious/.local/lib/python3.10/site-packages/py4j/clientserver.py\", line 511, in send_command\n",
      "    answer = smart_decode(self.stream.readline()[:-1])\n",
      "  File \"/usr/lib/python3.10/socket.py\", line 705, in readinto\n",
      "    return self._sock.recv_into(b)\n",
      "KeyboardInterrupt\n"
     ]
    },
    {
     "ename": "KeyboardInterrupt",
     "evalue": "",
     "output_type": "error",
     "traceback": [
      "\u001b[0;31m---------------------------------------------------------------------------\u001b[0m",
      "\u001b[0;31mKeyboardInterrupt\u001b[0m                         Traceback (most recent call last)",
      "\u001b[0;32m/tmp/ipykernel_302909/2658209172.py\u001b[0m in \u001b[0;36m<module>\u001b[0;34m\u001b[0m\n\u001b[1;32m     10\u001b[0m     \u001b[0;34m.\u001b[0m\u001b[0mstart\u001b[0m\u001b[0;34m(\u001b[0m\u001b[0mtruncate\u001b[0m\u001b[0;34m=\u001b[0m\u001b[0;32mFalse\u001b[0m\u001b[0;34m)\u001b[0m\u001b[0;34m\u001b[0m\u001b[0;34m\u001b[0m\u001b[0m\n\u001b[1;32m     11\u001b[0m \u001b[0;34m\u001b[0m\u001b[0m\n\u001b[0;32m---> 12\u001b[0;31m \u001b[0mquery\u001b[0m\u001b[0;34m.\u001b[0m\u001b[0mawaitTermination\u001b[0m\u001b[0;34m(\u001b[0m\u001b[0;34m)\u001b[0m\u001b[0;34m\u001b[0m\u001b[0;34m\u001b[0m\u001b[0m\n\u001b[0m",
      "\u001b[0;32m~/.local/lib/python3.10/site-packages/pyspark/sql/streaming.py\u001b[0m in \u001b[0;36mawaitTermination\u001b[0;34m(self, timeout)\u001b[0m\n\u001b[1;32m    105\u001b[0m             \u001b[0;32mreturn\u001b[0m \u001b[0mself\u001b[0m\u001b[0;34m.\u001b[0m\u001b[0m_jsq\u001b[0m\u001b[0;34m.\u001b[0m\u001b[0mawaitTermination\u001b[0m\u001b[0;34m(\u001b[0m\u001b[0mint\u001b[0m\u001b[0;34m(\u001b[0m\u001b[0mtimeout\u001b[0m \u001b[0;34m*\u001b[0m \u001b[0;36m1000\u001b[0m\u001b[0;34m)\u001b[0m\u001b[0;34m)\u001b[0m\u001b[0;34m\u001b[0m\u001b[0;34m\u001b[0m\u001b[0m\n\u001b[1;32m    106\u001b[0m         \u001b[0;32melse\u001b[0m\u001b[0;34m:\u001b[0m\u001b[0;34m\u001b[0m\u001b[0;34m\u001b[0m\u001b[0m\n\u001b[0;32m--> 107\u001b[0;31m             \u001b[0;32mreturn\u001b[0m \u001b[0mself\u001b[0m\u001b[0;34m.\u001b[0m\u001b[0m_jsq\u001b[0m\u001b[0;34m.\u001b[0m\u001b[0mawaitTermination\u001b[0m\u001b[0;34m(\u001b[0m\u001b[0;34m)\u001b[0m\u001b[0;34m\u001b[0m\u001b[0;34m\u001b[0m\u001b[0m\n\u001b[0m\u001b[1;32m    108\u001b[0m \u001b[0;34m\u001b[0m\u001b[0m\n\u001b[1;32m    109\u001b[0m     \u001b[0;34m@\u001b[0m\u001b[0mproperty\u001b[0m  \u001b[0;31m# type: ignore[misc]\u001b[0m\u001b[0;34m\u001b[0m\u001b[0;34m\u001b[0m\u001b[0m\n",
      "\u001b[0;32m~/.local/lib/python3.10/site-packages/py4j/java_gateway.py\u001b[0m in \u001b[0;36m__call__\u001b[0;34m(self, *args)\u001b[0m\n\u001b[1;32m   1318\u001b[0m             \u001b[0mproto\u001b[0m\u001b[0;34m.\u001b[0m\u001b[0mEND_COMMAND_PART\u001b[0m\u001b[0;34m\u001b[0m\u001b[0;34m\u001b[0m\u001b[0m\n\u001b[1;32m   1319\u001b[0m \u001b[0;34m\u001b[0m\u001b[0m\n\u001b[0;32m-> 1320\u001b[0;31m         \u001b[0manswer\u001b[0m \u001b[0;34m=\u001b[0m \u001b[0mself\u001b[0m\u001b[0;34m.\u001b[0m\u001b[0mgateway_client\u001b[0m\u001b[0;34m.\u001b[0m\u001b[0msend_command\u001b[0m\u001b[0;34m(\u001b[0m\u001b[0mcommand\u001b[0m\u001b[0;34m)\u001b[0m\u001b[0;34m\u001b[0m\u001b[0;34m\u001b[0m\u001b[0m\n\u001b[0m\u001b[1;32m   1321\u001b[0m         return_value = get_return_value(\n\u001b[1;32m   1322\u001b[0m             answer, self.gateway_client, self.target_id, self.name)\n",
      "\u001b[0;32m~/.local/lib/python3.10/site-packages/py4j/java_gateway.py\u001b[0m in \u001b[0;36msend_command\u001b[0;34m(self, command, retry, binary)\u001b[0m\n\u001b[1;32m   1036\u001b[0m         \u001b[0mconnection\u001b[0m \u001b[0;34m=\u001b[0m \u001b[0mself\u001b[0m\u001b[0;34m.\u001b[0m\u001b[0m_get_connection\u001b[0m\u001b[0;34m(\u001b[0m\u001b[0;34m)\u001b[0m\u001b[0;34m\u001b[0m\u001b[0;34m\u001b[0m\u001b[0m\n\u001b[1;32m   1037\u001b[0m         \u001b[0;32mtry\u001b[0m\u001b[0;34m:\u001b[0m\u001b[0;34m\u001b[0m\u001b[0;34m\u001b[0m\u001b[0m\n\u001b[0;32m-> 1038\u001b[0;31m             \u001b[0mresponse\u001b[0m \u001b[0;34m=\u001b[0m \u001b[0mconnection\u001b[0m\u001b[0;34m.\u001b[0m\u001b[0msend_command\u001b[0m\u001b[0;34m(\u001b[0m\u001b[0mcommand\u001b[0m\u001b[0;34m)\u001b[0m\u001b[0;34m\u001b[0m\u001b[0;34m\u001b[0m\u001b[0m\n\u001b[0m\u001b[1;32m   1039\u001b[0m             \u001b[0;32mif\u001b[0m \u001b[0mbinary\u001b[0m\u001b[0;34m:\u001b[0m\u001b[0;34m\u001b[0m\u001b[0;34m\u001b[0m\u001b[0m\n\u001b[1;32m   1040\u001b[0m                 \u001b[0;32mreturn\u001b[0m \u001b[0mresponse\u001b[0m\u001b[0;34m,\u001b[0m \u001b[0mself\u001b[0m\u001b[0;34m.\u001b[0m\u001b[0m_create_connection_guard\u001b[0m\u001b[0;34m(\u001b[0m\u001b[0mconnection\u001b[0m\u001b[0;34m)\u001b[0m\u001b[0;34m\u001b[0m\u001b[0;34m\u001b[0m\u001b[0m\n",
      "\u001b[0;32m~/.local/lib/python3.10/site-packages/py4j/clientserver.py\u001b[0m in \u001b[0;36msend_command\u001b[0;34m(self, command)\u001b[0m\n\u001b[1;32m    509\u001b[0m         \u001b[0;32mtry\u001b[0m\u001b[0;34m:\u001b[0m\u001b[0;34m\u001b[0m\u001b[0;34m\u001b[0m\u001b[0m\n\u001b[1;32m    510\u001b[0m             \u001b[0;32mwhile\u001b[0m \u001b[0;32mTrue\u001b[0m\u001b[0;34m:\u001b[0m\u001b[0;34m\u001b[0m\u001b[0;34m\u001b[0m\u001b[0m\n\u001b[0;32m--> 511\u001b[0;31m                 \u001b[0manswer\u001b[0m \u001b[0;34m=\u001b[0m \u001b[0msmart_decode\u001b[0m\u001b[0;34m(\u001b[0m\u001b[0mself\u001b[0m\u001b[0;34m.\u001b[0m\u001b[0mstream\u001b[0m\u001b[0;34m.\u001b[0m\u001b[0mreadline\u001b[0m\u001b[0;34m(\u001b[0m\u001b[0;34m)\u001b[0m\u001b[0;34m[\u001b[0m\u001b[0;34m:\u001b[0m\u001b[0;34m-\u001b[0m\u001b[0;36m1\u001b[0m\u001b[0;34m]\u001b[0m\u001b[0;34m)\u001b[0m\u001b[0;34m\u001b[0m\u001b[0;34m\u001b[0m\u001b[0m\n\u001b[0m\u001b[1;32m    512\u001b[0m                 \u001b[0mlogger\u001b[0m\u001b[0;34m.\u001b[0m\u001b[0mdebug\u001b[0m\u001b[0;34m(\u001b[0m\u001b[0;34m\"Answer received: {0}\"\u001b[0m\u001b[0;34m.\u001b[0m\u001b[0mformat\u001b[0m\u001b[0;34m(\u001b[0m\u001b[0manswer\u001b[0m\u001b[0;34m)\u001b[0m\u001b[0;34m)\u001b[0m\u001b[0;34m\u001b[0m\u001b[0;34m\u001b[0m\u001b[0m\n\u001b[1;32m    513\u001b[0m                 \u001b[0;31m# Happens when a the other end is dead. There might be an empty\u001b[0m\u001b[0;34m\u001b[0m\u001b[0;34m\u001b[0m\u001b[0m\n",
      "\u001b[0;32m/usr/lib/python3.10/socket.py\u001b[0m in \u001b[0;36mreadinto\u001b[0;34m(self, b)\u001b[0m\n\u001b[1;32m    703\u001b[0m         \u001b[0;32mwhile\u001b[0m \u001b[0;32mTrue\u001b[0m\u001b[0;34m:\u001b[0m\u001b[0;34m\u001b[0m\u001b[0;34m\u001b[0m\u001b[0m\n\u001b[1;32m    704\u001b[0m             \u001b[0;32mtry\u001b[0m\u001b[0;34m:\u001b[0m\u001b[0;34m\u001b[0m\u001b[0;34m\u001b[0m\u001b[0m\n\u001b[0;32m--> 705\u001b[0;31m                 \u001b[0;32mreturn\u001b[0m \u001b[0mself\u001b[0m\u001b[0;34m.\u001b[0m\u001b[0m_sock\u001b[0m\u001b[0;34m.\u001b[0m\u001b[0mrecv_into\u001b[0m\u001b[0;34m(\u001b[0m\u001b[0mb\u001b[0m\u001b[0;34m)\u001b[0m\u001b[0;34m\u001b[0m\u001b[0;34m\u001b[0m\u001b[0m\n\u001b[0m\u001b[1;32m    706\u001b[0m             \u001b[0;32mexcept\u001b[0m \u001b[0mtimeout\u001b[0m\u001b[0;34m:\u001b[0m\u001b[0;34m\u001b[0m\u001b[0;34m\u001b[0m\u001b[0m\n\u001b[1;32m    707\u001b[0m                 \u001b[0mself\u001b[0m\u001b[0;34m.\u001b[0m\u001b[0m_timeout_occurred\u001b[0m \u001b[0;34m=\u001b[0m \u001b[0;32mTrue\u001b[0m\u001b[0;34m\u001b[0m\u001b[0;34m\u001b[0m\u001b[0m\n",
      "\u001b[0;31mKeyboardInterrupt\u001b[0m: "
     ]
    }
   ],
   "source": [
    "df = trans.join(card, card.Card_Number==trans.Credit_Card_ID, 'left')\n",
    "\n",
    "df = df.filter(df.Transaction_Value > df.Credit_Limit) \\\n",
    "            .select('Transaction_ID','Transaction_Value','Credit_Limit','Card_Family')\n",
    "\n",
    "query = df \\\n",
    "    .writeStream \\\n",
    "    .outputMode(\"append\") \\\n",
    "    .format(\"console\") \\\n",
    "    .start(truncate=False)\n",
    "\n",
    "query.awaitTermination()"
   ]
  },
  {
   "cell_type": "code",
   "execution_count": null,
   "id": "f1175e52",
   "metadata": {},
   "outputs": [],
   "source": []
  }
 ],
 "metadata": {
  "kernelspec": {
   "display_name": "Python 3 (ipykernel)",
   "language": "python",
   "name": "python3"
  },
  "language_info": {
   "codemirror_mode": {
    "name": "ipython",
    "version": 3
   },
   "file_extension": ".py",
   "mimetype": "text/x-python",
   "name": "python",
   "nbconvert_exporter": "python",
   "pygments_lexer": "ipython3",
   "version": "3.10.6"
  }
 },
 "nbformat": 4,
 "nbformat_minor": 5
}
