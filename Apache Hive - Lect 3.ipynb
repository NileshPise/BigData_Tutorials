{
 "cells": [
  {
   "cell_type": "markdown",
   "id": "b8e8b2cd",
   "metadata": {},
   "source": [
    "### Select Statement"
   ]
  },
  {
   "cell_type": "raw",
   "id": "2aea6b60",
   "metadata": {},
   "source": [
    "#cte common table expression\n",
    "\n",
    "with data as (\n",
    "    select * from testing.health h where h.age > 40\n",
    "    )\n",
    "select * from data d where d.sex == 1;"
   ]
  },
  {
   "cell_type": "raw",
   "id": "c509f701",
   "metadata": {},
   "source": [
    "select * from testing.health h where h.age < 10 and h.sex == 2;"
   ]
  },
  {
   "cell_type": "raw",
   "id": "2d4203f6",
   "metadata": {},
   "source": [
    "select distinct h.sex from testing.health h;"
   ]
  },
  {
   "cell_type": "raw",
   "id": "cca326b6",
   "metadata": {},
   "source": [
    "select distinct h.sex, h.age from testing.health h where h.diabetes == 2 limit 10;"
   ]
  },
  {
   "cell_type": "raw",
   "id": "c1a7ebb6",
   "metadata": {},
   "source": [
    "select distinct h.sex, h.diabetes from testing.health h where h.age > 40;"
   ]
  },
  {
   "cell_type": "raw",
   "id": "dbc9a50f",
   "metadata": {},
   "source": [
    "select h.diabetes, h.age from (select g.diabetes diabetes, sum(g.age) age from testing.health g group by g.diabetes) h"
   ]
  },
  {
   "cell_type": "raw",
   "id": "cfaefea9",
   "metadata": {},
   "source": [
    "#when to use having clause\n",
    "\n",
    "select h.diabetes from (select g.diabetes diabetes, sum(g.age) age from testing.health g group by g.diabetes) h where h.age > 170000;\n",
    "\n",
    "select h.diabetes from testing.health h group by h.diabetes having sum(h.age)>170000;"
   ]
  },
  {
   "cell_type": "raw",
   "id": "b8ff6845",
   "metadata": {},
   "source": [
    "select h.sex, h.age from testing.health h order by h.age desc limit 5;"
   ]
  },
  {
   "cell_type": "raw",
   "id": "0731c6e1",
   "metadata": {},
   "source": [
    "select h.sex, h.age from testing.health h order by h.age desc limit 2,5;"
   ]
  },
  {
   "cell_type": "markdown",
   "id": "4f2733d0",
   "metadata": {},
   "source": [
    "### GroupBy Statement"
   ]
  },
  {
   "cell_type": "raw",
   "id": "630db773",
   "metadata": {},
   "source": [
    "select department, max(age) from emp1 group by department;"
   ]
  },
  {
   "cell_type": "raw",
   "id": "d7be0e3a",
   "metadata": {},
   "source": [
    "select department, max(age) from emp1 group by department;"
   ]
  },
  {
   "cell_type": "raw",
   "id": "5df1d2aa",
   "metadata": {},
   "source": [
    "select department, gender, max(age) from emp1 group by department, gender;"
   ]
  },
  {
   "cell_type": "raw",
   "id": "60734f2d",
   "metadata": {},
   "source": [
    "select department, gender, min(age) from emp1 group by department, gender;"
   ]
  },
  {
   "cell_type": "raw",
   "id": "410b0937",
   "metadata": {},
   "source": [
    "select department, count(1) from emp1 group by department;"
   ]
  },
  {
   "cell_type": "raw",
   "id": "6d44eb27",
   "metadata": {},
   "source": [
    "select department, gender, sum(monthlyincome) from emp1 group by department, gender;"
   ]
  },
  {
   "cell_type": "raw",
   "id": "eee5b754",
   "metadata": {},
   "source": [
    "select department, gender, count(1), sum(monthlyincome), avg(monthlyincome), min(monthlyincome), max(monthlyincome) from emp1 group by department, gender;"
   ]
  },
  {
   "cell_type": "markdown",
   "id": "17295796",
   "metadata": {},
   "source": [
    "### Windows function"
   ]
  },
  {
   "cell_type": "markdown",
   "id": "4f0ecb9f",
   "metadata": {},
   "source": [
    "#### Agrregation function\n"
   ]
  },
  {
   "cell_type": "raw",
   "id": "3e1499d7",
   "metadata": {},
   "source": [
    "select department,gender, max(age) over(partition by department) from emp limit 5;"
   ]
  },
  {
   "cell_type": "raw",
   "id": "0473f400",
   "metadata": {},
   "source": [
    "select distinct department,gender, max(age) over(partition by department) from emp;"
   ]
  },
  {
   "cell_type": "raw",
   "id": "9d3cb555",
   "metadata": {},
   "source": [
    "select department, gender, min(monthlyincome) over(partition by department) from emp1 limit 5;"
   ]
  },
  {
   "cell_type": "raw",
   "id": "4fc65959",
   "metadata": {},
   "source": [
    "select department, gender, sum(monthlyincome) over(partition by department) from emp1 limit 5;"
   ]
  },
  {
   "cell_type": "raw",
   "id": "63a80fcc",
   "metadata": {},
   "source": [
    "select department, gender, count(1) over(partition by department), avg(monthlyincome) over(partition by department) from emp1 limit 5;"
   ]
  },
  {
   "cell_type": "raw",
   "id": "00825f2f",
   "metadata": {},
   "source": [
    "select department,avg(monthlyincome) over(partition by department), max(monthlyincome) over(partition by department),min(monthlyincome) over(partition by department) ,sum(monthlyincome) over(partition by department), count(1) over(partition by department), collect_list(monthlyincome) over(partition by department) from emp1 limit 5;"
   ]
  },
  {
   "cell_type": "raw",
   "id": "012b618c",
   "metadata": {},
   "source": [
    "select department, avg(age) over(partition by department) avg_age, max(age) over(partition by department) max_age, collect_list(age) over(partition by department) list_age from emp1 limit 10;"
   ]
  },
  {
   "cell_type": "raw",
   "id": "55185472",
   "metadata": {},
   "source": [
    "select department, avg(age) over(partition by department order by age) avg_age, max(age) over(partition by department order by age) max_age, collect_list(age) over(partition by department order by age) list_age from emp1 limit 10;"
   ]
  },
  {
   "cell_type": "raw",
   "id": "1b239853",
   "metadata": {},
   "source": [
    "select department, avg(age) over(partition by department order by age rows between 1 preceding and current row) avg_age, max(age) over(partition by department order by age rows between 1 preceding and current row) max_age, collect_list(age) over(partition by department order by age rows between 1 preceding and current row) list_age from emp1 limit 10; "
   ]
  },
  {
   "cell_type": "raw",
   "id": "d8bb3bce",
   "metadata": {},
   "source": [
    "select department, avg(age) over(partition by department order by age rows between 2 preceding and current row) avg_age, max(age) over(partition by department order by age rows between 2 preceding and current row) max_age, collect_list(age) over(partition by department order by age rows between 2 preceding and current row) list_age from emp1 limit 10; \n",
    "\n"
   ]
  },
  {
   "cell_type": "raw",
   "id": "ffc28573",
   "metadata": {},
   "source": [
    "select department, avg(age) over(partition by department order by age rows between 1 preceding and 1 following) avg_age, max(age) over(partition by department order by age rows between 1 preceding and 1 following) max_age, collect_list(age) over(partition by department order by age rows between 1 preceding and 1 following) list_age from emp1 limit 10; \n",
    "\n"
   ]
  },
  {
   "cell_type": "raw",
   "id": "66b33af0",
   "metadata": {},
   "source": [
    "select department, avg(age) over(partition by department order by age rows between current row and 1 following) avg_age, max(age) over(partition by department order by age rows between current row and 1 following) max_age, collect_list(age) over(partition by department order by age rows between current row and 1 following) list_age from emp1 limit 10;"
   ]
  },
  {
   "cell_type": "raw",
   "id": "8fda9876",
   "metadata": {},
   "source": [
    "select department, avg(age) over(partition by department order by age rows between current row and 2 following) avg_age, max(age) over(partition by department order by age rows between current row and 2 following) max_age, collect_list(age) over(partition by department order by age rows between current row and 2 following) list_age from emp1 limit 10;"
   ]
  },
  {
   "cell_type": "markdown",
   "id": "ab6068d3",
   "metadata": {},
   "source": [
    "#### Analytical Function"
   ]
  },
  {
   "cell_type": "raw",
   "id": "56a881f4",
   "metadata": {},
   "source": [
    "select department, age, lead(age, 1) over(partition by department) from emp1 limit 5;"
   ]
  },
  {
   "cell_type": "raw",
   "id": "42605b67",
   "metadata": {},
   "source": [
    "select department, age, lead(age, 2) over(partition by department) from emp1 limit 5;"
   ]
  },
  {
   "cell_type": "raw",
   "id": "db1ce794",
   "metadata": {},
   "source": [
    "select department, age, lead(age, 1) over(partition by department order by age) from emp1 limit 5;"
   ]
  },
  {
   "cell_type": "raw",
   "id": "ecc77de0",
   "metadata": {},
   "source": [
    "select department, age, lead(age, 1) over(partition by department order by age) from emp1 limit 5;"
   ]
  },
  {
   "cell_type": "raw",
   "id": "3c793388",
   "metadata": {},
   "source": [
    "select department, age, lag(age, 1) over(partition by department order by age) from emp1 limit 5;"
   ]
  },
  {
   "cell_type": "raw",
   "id": "0c0b97a7",
   "metadata": {},
   "source": [
    "select department, age, lag(age, 2) over(partition by department order by age) from emp1 limit 5"
   ]
  },
  {
   "cell_type": "raw",
   "id": "27e3e17c",
   "metadata": {},
   "source": [
    "select department, age, lag(age, 2) over(partition by department) from emp1 limit 5"
   ]
  },
  {
   "cell_type": "raw",
   "id": "9b4f82af",
   "metadata": {},
   "source": [
    "select department, age, first_value(age) over(partition by department order by age) from emp1 limit 5;"
   ]
  },
  {
   "cell_type": "raw",
   "id": "9c689d56",
   "metadata": {},
   "source": [
    "select department, age, first_value(age) over(partition by department) from emp1 limit 5;"
   ]
  },
  {
   "cell_type": "raw",
   "id": "b088c113",
   "metadata": {},
   "source": [
    "select department, age, last_value(age) over(partition by department order by age) from emp1 limit 5;"
   ]
  },
  {
   "cell_type": "raw",
   "id": "3cdcabbe",
   "metadata": {},
   "source": [
    "select department, age, last_value(age) over(partition by department) from emp1 limit 5;"
   ]
  },
  {
   "cell_type": "markdown",
   "id": "52da986e",
   "metadata": {},
   "source": [
    "#### Ranking Function"
   ]
  },
  {
   "cell_type": "raw",
   "id": "f48fe27d",
   "metadata": {},
   "source": [
    "select department, age, gender, monthlyincome, row_number() over(partition by department order by monthlyincome) from emp1 limit 5;"
   ]
  },
  {
   "cell_type": "raw",
   "id": "86228e44",
   "metadata": {},
   "source": [
    "select department, age, gender, monthlyincome, row_number() over(partition by department) from emp1 limit 5;"
   ]
  },
  {
   "cell_type": "raw",
   "id": "7842da5e",
   "metadata": {},
   "source": [
    "select department, age, gender, monthlyincome, row_number() over(order by monthlyincome) ro1 from emp1 limit 5;"
   ]
  },
  {
   "cell_type": "raw",
   "id": "52e1c572",
   "metadata": {},
   "source": [
    "select department, age, monthlyincome, rank() over(partition by department order by monthlyincome) \n",
    "from emp1 limit 5;"
   ]
  },
  {
   "cell_type": "raw",
   "id": "af54b32e",
   "metadata": {},
   "source": [
    "select department, age, monthlyincome, dense_rank() over(partition by department order by monthlyincome) from emp1 limit 5;"
   ]
  },
  {
   "cell_type": "raw",
   "id": "4d241eb8",
   "metadata": {},
   "source": [
    "select department, age, monthlyincome, ntile(10) over(partition by department order by monthlyincome) from emp1 limit 5;"
   ]
  },
  {
   "cell_type": "raw",
   "id": "10ea6833",
   "metadata": {},
   "source": [
    "select department, age, monthlyincome, ntile(2) over(partition by department order by monthlyincome) from emp1 limit 5;"
   ]
  },
  {
   "cell_type": "raw",
   "id": "7d831ac2",
   "metadata": {},
   "source": [
    "select department, age, monthlyincome, percent_rank() over(partition by department order by monthlyincome) from emp1 limit 5;"
   ]
  },
  {
   "cell_type": "code",
   "execution_count": null,
   "id": "33988d54",
   "metadata": {},
   "outputs": [],
   "source": []
  }
 ],
 "metadata": {
  "kernelspec": {
   "display_name": "Python 3 (ipykernel)",
   "language": "python",
   "name": "python3"
  },
  "language_info": {
   "codemirror_mode": {
    "name": "ipython",
    "version": 3
   },
   "file_extension": ".py",
   "mimetype": "text/x-python",
   "name": "python",
   "nbconvert_exporter": "python",
   "pygments_lexer": "ipython3",
   "version": "3.10.6"
  }
 },
 "nbformat": 4,
 "nbformat_minor": 5
}
