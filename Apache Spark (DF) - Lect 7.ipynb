{
 "cells": [
  {
   "cell_type": "code",
   "execution_count": 1,
   "id": "fed1c5ed",
   "metadata": {},
   "outputs": [
    {
     "name": "stderr",
     "output_type": "stream",
     "text": [
      "Setting default log level to \"WARN\".\n",
      "To adjust logging level use sc.setLogLevel(newLevel). For SparkR, use setLogLevel(newLevel).\n",
      "23/01/03 11:34:27 WARN Utils: Service 'SparkUI' could not bind on port 4040. Attempting port 4041.\n",
      "23/01/03 11:34:27 WARN Utils: Service 'SparkUI' could not bind on port 4041. Attempting port 4042.\n",
      "23/01/03 11:34:27 WARN Utils: Service 'SparkUI' could not bind on port 4042. Attempting port 4043.\n",
      "23/01/03 11:34:27 WARN Utils: Service 'SparkUI' could not bind on port 4043. Attempting port 4044.\n",
      "23/01/03 11:34:27 WARN Utils: Service 'SparkUI' could not bind on port 4044. Attempting port 4045.\n",
      "23/01/03 11:34:27 WARN Utils: Service 'SparkUI' could not bind on port 4045. Attempting port 4046.\n",
      "23/01/03 11:34:27 WARN Utils: Service 'SparkUI' could not bind on port 4046. Attempting port 4047.\n",
      "23/01/03 11:34:27 WARN Utils: Service 'SparkUI' could not bind on port 4047. Attempting port 4048.\n",
      "23/01/03 11:34:27 WARN Utils: Service 'SparkUI' could not bind on port 4048. Attempting port 4049.\n"
     ]
    }
   ],
   "source": [
    "from pyspark.sql import SparkSession\n",
    "from pyspark import SparkConf\n",
    "\n",
    "sparkSession = SparkSession.builder.config(conf=SparkConf() \\\n",
    "                            .setAppName('data to hive tables') \\\n",
    "                            .setMaster('local[2]')).enableHiveSupport().getOrCreate()"
   ]
  },
  {
   "cell_type": "code",
   "execution_count": 29,
   "id": "8cc3febb",
   "metadata": {},
   "outputs": [
    {
     "name": "stdout",
     "output_type": "stream",
     "text": [
      "+-----+------------+---+------------+----------+-------+---------+---+--------+--------+----+------+-------+------------+-------------+--------------+-------+-------------+-------+--------------------+---+\n",
      "|USMER|MEDICAL_UNIT|SEX|PATIENT_TYPE| DATE_DIED|INTUBED|PNEUMONIA|AGE|PREGNANT|DIABETES|COPD|ASTHMA|INMSUPR|HIPERTENSION|OTHER_DISEASE|CARDIOVASCULAR|OBESITY|RENAL_CHRONIC|TOBACCO|CLASIFFICATION_FINAL|ICU|\n",
      "+-----+------------+---+------------+----------+-------+---------+---+--------+--------+----+------+-------+------------+-------------+--------------+-------+-------------+-------+--------------------+---+\n",
      "|    2|           1|  1|           1|03/05/2020|     97|        1| 65|       2|       2|   2|     2|      2|           1|            2|             2|      2|            2|      2|                   3| 97|\n",
      "|    2|           1|  2|           1|03/06/2020|     97|        1| 72|      97|       2|   2|     2|      2|           1|            2|             2|      1|            1|      2|                   5| 97|\n",
      "+-----+------------+---+------------+----------+-------+---------+---+--------+--------+----+------+-------+------------+-------------+--------------+-------+-------------+-------+--------------------+---+\n",
      "only showing top 2 rows\n",
      "\n"
     ]
    },
    {
     "name": "stderr",
     "output_type": "stream",
     "text": [
      "23/01/03 12:13:10 INFO HiveMetaStore: 0: get_table : db=testing tbl=health\n",
      "23/01/03 12:13:10 INFO audit: ugi=audacious\tip=unknown-ip-addr\tcmd=get_table : db=testing tbl=health\t\n",
      "23/01/03 12:13:10 INFO HiveMetaStore: 0: get_database: testing\n",
      "23/01/03 12:13:10 INFO audit: ugi=audacious\tip=unknown-ip-addr\tcmd=get_database: testing\t\n",
      "23/01/03 12:13:10 INFO HiveMetaStore: 0: get_table : db=testing tbl=health\n",
      "23/01/03 12:13:10 INFO audit: ugi=audacious\tip=unknown-ip-addr\tcmd=get_table : db=testing tbl=health\t\n",
      "23/01/03 12:13:10 INFO HiveMetaStore: 0: get_table : db=testing tbl=health\n",
      "23/01/03 12:13:10 INFO audit: ugi=audacious\tip=unknown-ip-addr\tcmd=get_table : db=testing tbl=health\t\n",
      "23/01/03 12:13:10 INFO HiveMetaStore: 0: get_database: testing\n",
      "23/01/03 12:13:10 INFO audit: ugi=audacious\tip=unknown-ip-addr\tcmd=get_database: testing\t\n",
      "23/01/03 12:13:10 INFO HiveMetaStore: 0: get_table : db=testing tbl=health\n",
      "23/01/03 12:13:10 INFO audit: ugi=audacious\tip=unknown-ip-addr\tcmd=get_table : db=testing tbl=health\t\n",
      "23/01/03 12:13:10 INFO HiveMetaStore: 0: get_database: testing\n",
      "23/01/03 12:13:10 INFO audit: ugi=audacious\tip=unknown-ip-addr\tcmd=get_database: testing\t\n",
      "23/01/03 12:13:10 INFO HiveMetaStore: 0: get_table : db=testing tbl=health\n",
      "23/01/03 12:13:10 INFO audit: ugi=audacious\tip=unknown-ip-addr\tcmd=get_table : db=testing tbl=health\t\n",
      "23/01/03 12:13:10 INFO HiveMetaStore: 0: drop_table : db=testing tbl=health\n",
      "23/01/03 12:13:10 INFO audit: ugi=audacious\tip=unknown-ip-addr\tcmd=drop_table : db=testing tbl=health\t\n",
      "23/01/03 12:13:10 INFO HiveMetaStore: 0: get_table : db=testing tbl=health\n",
      "23/01/03 12:13:10 INFO audit: ugi=audacious\tip=unknown-ip-addr\tcmd=get_table : db=testing tbl=health\t\n",
      "23/01/03 12:13:10 INFO HiveMetaStore: 0: get_database: testing\n",
      "23/01/03 12:13:10 INFO audit: ugi=audacious\tip=unknown-ip-addr\tcmd=get_database: testing\t\n",
      "23/01/03 12:13:10 INFO HiveMetaStore: 0: get_database: testing\n",
      "23/01/03 12:13:10 INFO audit: ugi=audacious\tip=unknown-ip-addr\tcmd=get_database: testing\t\n",
      "23/01/03 12:13:10 INFO HiveMetaStore: 0: get_database: testing\n",
      "23/01/03 12:13:10 INFO audit: ugi=audacious\tip=unknown-ip-addr\tcmd=get_database: testing\t\n",
      "23/01/03 12:13:10 INFO HiveMetaStore: 0: get_database: testing\n",
      "23/01/03 12:13:10 INFO audit: ugi=audacious\tip=unknown-ip-addr\tcmd=get_database: testing\t\n",
      "23/01/03 12:13:18 INFO HiveMetaStore: 0: get_database: testing                  \n",
      "23/01/03 12:13:18 INFO audit: ugi=audacious\tip=unknown-ip-addr\tcmd=get_database: testing\t\n",
      "23/01/03 12:13:18 INFO HiveMetaStore: 0: get_table : db=testing tbl=health\n",
      "23/01/03 12:13:18 INFO audit: ugi=audacious\tip=unknown-ip-addr\tcmd=get_table : db=testing tbl=health\t\n",
      "23/01/03 12:13:18 INFO HiveMetaStore: 0: get_database: testing\n",
      "23/01/03 12:13:18 INFO audit: ugi=audacious\tip=unknown-ip-addr\tcmd=get_database: testing\t\n",
      "23/01/03 12:13:18 INFO HiveMetaStore: 0: get_table : db=testing tbl=health\n",
      "23/01/03 12:13:18 INFO audit: ugi=audacious\tip=unknown-ip-addr\tcmd=get_table : db=testing tbl=health\t\n",
      "23/01/03 12:13:18 INFO HiveMetaStore: 0: create_table: Table(tableName:health, dbName:testing, owner:audacious, createTime:1672728190, lastAccessTime:0, retention:0, sd:StorageDescriptor(cols:[FieldSchema(name:USMER, type:string, comment:null), FieldSchema(name:MEDICAL_UNIT, type:string, comment:null), FieldSchema(name:SEX, type:string, comment:null), FieldSchema(name:PATIENT_TYPE, type:string, comment:null), FieldSchema(name:DATE_DIED, type:string, comment:null), FieldSchema(name:INTUBED, type:string, comment:null), FieldSchema(name:PNEUMONIA, type:string, comment:null), FieldSchema(name:AGE, type:string, comment:null), FieldSchema(name:PREGNANT, type:string, comment:null), FieldSchema(name:DIABETES, type:string, comment:null), FieldSchema(name:COPD, type:string, comment:null), FieldSchema(name:ASTHMA, type:string, comment:null), FieldSchema(name:INMSUPR, type:string, comment:null), FieldSchema(name:HIPERTENSION, type:string, comment:null), FieldSchema(name:OTHER_DISEASE, type:string, comment:null), FieldSchema(name:CARDIOVASCULAR, type:string, comment:null), FieldSchema(name:OBESITY, type:string, comment:null), FieldSchema(name:RENAL_CHRONIC, type:string, comment:null), FieldSchema(name:TOBACCO, type:string, comment:null), FieldSchema(name:CLASIFFICATION_FINAL, type:string, comment:null), FieldSchema(name:ICU, type:string, comment:null)], location:null, inputFormat:org.apache.hadoop.hive.ql.io.parquet.MapredParquetInputFormat, outputFormat:org.apache.hadoop.hive.ql.io.parquet.MapredParquetOutputFormat, compressed:false, numBuckets:-1, serdeInfo:SerDeInfo(name:null, serializationLib:org.apache.hadoop.hive.ql.io.parquet.serde.ParquetHiveSerDe, parameters:{path=hdfs://localhost:9000/user/hive/warehouse/testing.db/health, serialization.format=1}), bucketCols:[], sortCols:[], parameters:{}, skewedInfo:SkewedInfo(skewedColNames:[], skewedColValues:[], skewedColValueLocationMaps:{})), partitionKeys:[], parameters:{spark.sql.sources.schema={\"type\":\"struct\",\"fields\":[{\"name\":\"USMER\",\"type\":\"string\",\"nullable\":true,\"metadata\":{}},{\"name\":\"MEDICAL_UNIT\",\"type\":\"string\",\"nullable\":true,\"metadata\":{}},{\"name\":\"SEX\",\"type\":\"string\",\"nullable\":true,\"metadata\":{}},{\"name\":\"PATIENT_TYPE\",\"type\":\"string\",\"nullable\":true,\"metadata\":{}},{\"name\":\"DATE_DIED\",\"type\":\"string\",\"nullable\":true,\"metadata\":{}},{\"name\":\"INTUBED\",\"type\":\"string\",\"nullable\":true,\"metadata\":{}},{\"name\":\"PNEUMONIA\",\"type\":\"string\",\"nullable\":true,\"metadata\":{}},{\"name\":\"AGE\",\"type\":\"string\",\"nullable\":true,\"metadata\":{}},{\"name\":\"PREGNANT\",\"type\":\"string\",\"nullable\":true,\"metadata\":{}},{\"name\":\"DIABETES\",\"type\":\"string\",\"nullable\":true,\"metadata\":{}},{\"name\":\"COPD\",\"type\":\"string\",\"nullable\":true,\"metadata\":{}},{\"name\":\"ASTHMA\",\"type\":\"string\",\"nullable\":true,\"metadata\":{}},{\"name\":\"INMSUPR\",\"type\":\"string\",\"nullable\":true,\"metadata\":{}},{\"name\":\"HIPERTENSION\",\"type\":\"string\",\"nullable\":true,\"metadata\":{}},{\"name\":\"OTHER_DISEASE\",\"type\":\"string\",\"nullable\":true,\"metadata\":{}},{\"name\":\"CARDIOVASCULAR\",\"type\":\"string\",\"nullable\":true,\"metadata\":{}},{\"name\":\"OBESITY\",\"type\":\"string\",\"nullable\":true,\"metadata\":{}},{\"name\":\"RENAL_CHRONIC\",\"type\":\"string\",\"nullable\":true,\"metadata\":{}},{\"name\":\"TOBACCO\",\"type\":\"string\",\"nullable\":true,\"metadata\":{}},{\"name\":\"CLASIFFICATION_FINAL\",\"type\":\"string\",\"nullable\":true,\"metadata\":{}},{\"name\":\"ICU\",\"type\":\"string\",\"nullable\":true,\"metadata\":{}}]}, spark.sql.sources.provider=parquet, spark.sql.create.version=3.3.1}, viewOriginalText:null, viewExpandedText:null, tableType:MANAGED_TABLE, privileges:PrincipalPrivilegeSet(userPrivileges:{audacious=[PrivilegeGrantInfo(privilege:INSERT, createTime:-1, grantor:audacious, grantorType:USER, grantOption:true), PrivilegeGrantInfo(privilege:SELECT, createTime:-1, grantor:audacious, grantorType:USER, grantOption:true), PrivilegeGrantInfo(privilege:UPDATE, createTime:-1, grantor:audacious, grantorType:USER, grantOption:true), PrivilegeGrantInfo(privilege:DELETE, createTime:-1, grantor:audacious, grantorType:USER, grantOption:true)]}, groupPrivileges:null, rolePrivileges:null))\n",
      "23/01/03 12:13:18 INFO audit: ugi=audacious\tip=unknown-ip-addr\tcmd=create_table: Table(tableName:health, dbName:testing, owner:audacious, createTime:1672728190, lastAccessTime:0, retention:0, sd:StorageDescriptor(cols:[FieldSchema(name:USMER, type:string, comment:null), FieldSchema(name:MEDICAL_UNIT, type:string, comment:null), FieldSchema(name:SEX, type:string, comment:null), FieldSchema(name:PATIENT_TYPE, type:string, comment:null), FieldSchema(name:DATE_DIED, type:string, comment:null), FieldSchema(name:INTUBED, type:string, comment:null), FieldSchema(name:PNEUMONIA, type:string, comment:null), FieldSchema(name:AGE, type:string, comment:null), FieldSchema(name:PREGNANT, type:string, comment:null), FieldSchema(name:DIABETES, type:string, comment:null), FieldSchema(name:COPD, type:string, comment:null), FieldSchema(name:ASTHMA, type:string, comment:null), FieldSchema(name:INMSUPR, type:string, comment:null), FieldSchema(name:HIPERTENSION, type:string, comment:null), FieldSchema(name:OTHER_DISEASE, type:string, comment:null), FieldSchema(name:CARDIOVASCULAR, type:string, comment:null), FieldSchema(name:OBESITY, type:string, comment:null), FieldSchema(name:RENAL_CHRONIC, type:string, comment:null), FieldSchema(name:TOBACCO, type:string, comment:null), FieldSchema(name:CLASIFFICATION_FINAL, type:string, comment:null), FieldSchema(name:ICU, type:string, comment:null)], location:null, inputFormat:org.apache.hadoop.hive.ql.io.parquet.MapredParquetInputFormat, outputFormat:org.apache.hadoop.hive.ql.io.parquet.MapredParquetOutputFormat, compressed:false, numBuckets:-1, serdeInfo:SerDeInfo(name:null, serializationLib:org.apache.hadoop.hive.ql.io.parquet.serde.ParquetHiveSerDe, parameters:{path=hdfs://localhost:9000/user/hive/warehouse/testing.db/health, serialization.format=1}), bucketCols:[], sortCols:[], parameters:{}, skewedInfo:SkewedInfo(skewedColNames:[], skewedColValues:[], skewedColValueLocationMaps:{})), partitionKeys:[], parameters:{spark.sql.sources.schema={\"type\":\"struct\",\"fields\":[{\"name\":\"USMER\",\"type\":\"string\",\"nullable\":true,\"metadata\":{}},{\"name\":\"MEDICAL_UNIT\",\"type\":\"string\",\"nullable\":true,\"metadata\":{}},{\"name\":\"SEX\",\"type\":\"string\",\"nullable\":true,\"metadata\":{}},{\"name\":\"PATIENT_TYPE\",\"type\":\"string\",\"nullable\":true,\"metadata\":{}},{\"name\":\"DATE_DIED\",\"type\":\"string\",\"nullable\":true,\"metadata\":{}},{\"name\":\"INTUBED\",\"type\":\"string\",\"nullable\":true,\"metadata\":{}},{\"name\":\"PNEUMONIA\",\"type\":\"string\",\"nullable\":true,\"metadata\":{}},{\"name\":\"AGE\",\"type\":\"string\",\"nullable\":true,\"metadata\":{}},{\"name\":\"PREGNANT\",\"type\":\"string\",\"nullable\":true,\"metadata\":{}},{\"name\":\"DIABETES\",\"type\":\"string\",\"nullable\":true,\"metadata\":{}},{\"name\":\"COPD\",\"type\":\"string\",\"nullable\":true,\"metadata\":{}},{\"name\":\"ASTHMA\",\"type\":\"string\",\"nullable\":true,\"metadata\":{}},{\"name\":\"INMSUPR\",\"type\":\"string\",\"nullable\":true,\"metadata\":{}},{\"name\":\"HIPERTENSION\",\"type\":\"string\",\"nullable\":true,\"metadata\":{}},{\"name\":\"OTHER_DISEASE\",\"type\":\"string\",\"nullable\":true,\"metadata\":{}},{\"name\":\"CARDIOVASCULAR\",\"type\":\"string\",\"nullable\":true,\"metadata\":{}},{\"name\":\"OBESITY\",\"type\":\"string\",\"nullable\":true,\"metadata\":{}},{\"name\":\"RENAL_CHRONIC\",\"type\":\"string\",\"nullable\":true,\"metadata\":{}},{\"name\":\"TOBACCO\",\"type\":\"string\",\"nullable\":true,\"metadata\":{}},{\"name\":\"CLASIFFICATION_FINAL\",\"type\":\"string\",\"nullable\":true,\"metadata\":{}},{\"name\":\"ICU\",\"type\":\"string\",\"nullable\":true,\"metadata\":{}}]}, spark.sql.sources.provider=parquet, spark.sql.create.version=3.3.1}, viewOriginalText:null, viewExpandedText:null, tableType:MANAGED_TABLE, privileges:PrincipalPrivilegeSet(userPrivileges:{audacious=[PrivilegeGrantInfo(privilege:INSERT, createTime:-1, grantor:audacious, grantorType:USER, grantOption:true), PrivilegeGrantInfo(privilege:SELECT, createTime:-1, grantor:audacious, grantorType:USER, grantOption:true), PrivilegeGrantInfo(privilege:UPDATE, createTime:-1, grantor:audacious, grantorType:USER, grantOption:true), PrivilegeGrantInfo(privilege:DELETE, createTime:-1, grantor:audacious, grantorType:USER, grantOption:true)]}, groupPrivileges:null, rolePrivileges:null))\t\n",
      "23/01/03 12:13:18 INFO log: Updating table stats fast for health\n",
      "23/01/03 12:13:18 INFO log: Updated size of table health to 3288053\n"
     ]
    }
   ],
   "source": [
    "df = sparkSession.read.csv('/Datasets/data.csv', header=True)\n",
    "df.show(2)\n",
    "df.write.saveAsTable('testing.health', mode='overwrite')"
   ]
  },
  {
   "cell_type": "code",
   "execution_count": 5,
   "id": "ab5ee60a",
   "metadata": {},
   "outputs": [
    {
     "name": "stdout",
     "output_type": "stream",
     "text": [
      "+---------+-----------------+--------------------+----------------------+---------------+---------------+------------------+----------------+---------------+---------------+\n",
      "|  country|total_consumption|recorded_consumption|unrecorded_consumption|beer_percentage|wine_percentage|spirits_percentage|other_percentage|2020_projection|2025_projection|\n",
      "+---------+-----------------+--------------------+----------------------+---------------+---------------+------------------+----------------+---------------+---------------+\n",
      "|  Estonia|             16.9|                15.8|                   1.1|           32.7|            7.4|              50.3|             9.6|           11.5|           11.9|\n",
      "|Lithuania|             15.0|                13.8|                   1.2|           43.6|            7.3|              37.1|            12.1|           14.4|           13.9|\n",
      "+---------+-----------------+--------------------+----------------------+---------------+---------------+------------------+----------------+---------------+---------------+\n",
      "only showing top 2 rows\n",
      "\n"
     ]
    }
   ],
   "source": [
    "df = sparkSession.read.csv('/Datasets/alcohol.csv', inferSchema=True, header=True)\n",
    "df.show(2)\n",
    "df.write.saveAsTable('testing.alcohol', mode='overwrite')"
   ]
  },
  {
   "cell_type": "code",
   "execution_count": 7,
   "id": "4e8d5928",
   "metadata": {},
   "outputs": [
    {
     "name": "stdout",
     "output_type": "stream",
     "text": [
      "+-------+---+----------------+----------------------+\n",
      "|Cust_ID|Age|Customer_Segment|Customer_Vintage_Group|\n",
      "+-------+---+----------------+----------------------+\n",
      "|CC25034| 35|         Diamond|                   VG1|\n",
      "|CC59625| 22|         Diamond|                   VG1|\n",
      "+-------+---+----------------+----------------------+\n",
      "only showing top 2 rows\n",
      "\n"
     ]
    }
   ],
   "source": [
    "df = sparkSession.read.csv('/Datasets/CustomerBase.csv', inferSchema=True, header=True)\n",
    "df.show(2)\n",
    "df.write.saveAsTable('testing.customer', mode='overwrite')"
   ]
  },
  {
   "cell_type": "code",
   "execution_count": 9,
   "id": "e74ad7f0",
   "metadata": {},
   "outputs": [
    {
     "name": "stdout",
     "output_type": "stream",
     "text": [
      "+--------------+----------+\n",
      "|Transaction_ID|Fraud_Flag|\n",
      "+--------------+----------+\n",
      "|  CTID50558449|         1|\n",
      "|  CTID55936882|         1|\n",
      "+--------------+----------+\n",
      "only showing top 2 rows\n",
      "\n"
     ]
    }
   ],
   "source": [
    "df = sparkSession.read.csv('/Datasets/FraudBase.csv', inferSchema=True, header=True)\n",
    "df.show(2)\n",
    "df.write.saveAsTable('testing.fraudbase', mode='overwrite')"
   ]
  },
  {
   "cell_type": "code",
   "execution_count": 11,
   "id": "2eaca54c",
   "metadata": {},
   "outputs": [
    {
     "name": "stdout",
     "output_type": "stream",
     "text": [
      "+--------------+----------------+-------------------+-----------------+-------------------+\n",
      "|Transaction_ID|Transaction_Date|     Credit_Card_ID|Transaction_Value|Transaction_Segment|\n",
      "+--------------+----------------+-------------------+-----------------+-------------------+\n",
      "|  CTID28830551|       24-Apr-16|1629-9566-3285-2123|            23649|              SEG25|\n",
      "|  CTID45504917|       11-Feb-16|3697-6001-4909-5350|            26726|              SEG16|\n",
      "+--------------+----------------+-------------------+-----------------+-------------------+\n",
      "only showing top 2 rows\n",
      "\n"
     ]
    }
   ],
   "source": [
    "df = sparkSession.read.csv('/Datasets/TransactionBase.csv', inferSchema=True, header=True)\n",
    "df.show(2)\n",
    "df.write.saveAsTable('testing.transactionbase', mode='overwrite')"
   ]
  },
  {
   "cell_type": "code",
   "execution_count": 30,
   "id": "ffca2898",
   "metadata": {},
   "outputs": [
    {
     "name": "stdout",
     "output_type": "stream",
     "text": [
      "+---+---------+-----------------+---------+--------------------+----------------+---------+--------------+-------------+--------------+-----------------------+------+----------+--------------+--------+------------------+---------------+-------------+-------------+-----------+------------------+------+--------+-----------------+-----------------+------------------------+-------------+----------------+-----------------+---------------------+---------------+--------------+------------------+-----------------------+--------------------+\n",
      "|Age|Attrition|   BusinessTravel|DailyRate|          Department|DistanceFromHome|Education|EducationField|EmployeeCount|EmployeeNumber|EnvironmentSatisfaction|Gender|HourlyRate|JobInvolvement|JobLevel|           JobRole|JobSatisfaction|MaritalStatus|MonthlyIncome|MonthlyRate|NumCompaniesWorked|Over18|OverTime|PercentSalaryHike|PerformanceRating|RelationshipSatisfaction|StandardHours|StockOptionLevel|TotalWorkingYears|TrainingTimesLastYear|WorkLifeBalance|YearsAtCompany|YearsInCurrentRole|YearsSinceLastPromotion|YearsWithCurrManager|\n",
      "+---+---------+-----------------+---------+--------------------+----------------+---------+--------------+-------------+--------------+-----------------------+------+----------+--------------+--------+------------------+---------------+-------------+-------------+-----------+------------------+------+--------+-----------------+-----------------+------------------------+-------------+----------------+-----------------+---------------------+---------------+--------------+------------------+-----------------------+--------------------+\n",
      "| 41|        1|    Travel_Rarely|     1102|               Sales|               1|        2| Life Sciences|            1|             1|                      2|Female|        94|             3|       2|   Sales Executive|              4|       Single|         5993|      19479|                 8|     Y|     Yes|               11|                3|                       1|           80|               0|                8|                    0|              1|             6|                 4|                      0|                   5|\n",
      "| 49|        0|Travel_Frequently|      279|Research & Develo...|               8|        1| Life Sciences|            1|             2|                      3|  Male|        61|             2|       2|Research Scientist|              2|      Married|         5130|      24907|                 1|     Y|      No|               23|                4|                       4|           80|               1|               10|                    3|              3|            10|                 7|                      1|                   7|\n",
      "+---+---------+-----------------+---------+--------------------+----------------+---------+--------------+-------------+--------------+-----------------------+------+----------+--------------+--------+------------------+---------------+-------------+-------------+-----------+------------------+------+--------+-----------------+-----------------+------------------------+-------------+----------------+-----------------+---------------------+---------------+--------------+------------------+-----------------------+--------------------+\n",
      "only showing top 2 rows\n",
      "\n"
     ]
    }
   ],
   "source": [
    "df = sparkSession.read.csv('/Datasets/emp/train.csv', inferSchema=True, header=True)\n",
    "df.show(2)"
   ]
  },
  {
   "cell_type": "code",
   "execution_count": 31,
   "id": "bb199f64",
   "metadata": {},
   "outputs": [
    {
     "name": "stderr",
     "output_type": "stream",
     "text": [
      "23/01/03 12:20:38 INFO HiveMetaStore: 0: get_table : db=testing tbl=employe\n",
      "23/01/03 12:20:38 INFO audit: ugi=audacious\tip=unknown-ip-addr\tcmd=get_table : db=testing tbl=employe\t\n",
      "23/01/03 12:20:38 INFO HiveMetaStore: 0: get_database: testing\n",
      "23/01/03 12:20:38 INFO audit: ugi=audacious\tip=unknown-ip-addr\tcmd=get_database: testing\t\n",
      "23/01/03 12:20:38 INFO HiveMetaStore: 0: get_table : db=testing tbl=employe\n",
      "23/01/03 12:20:38 INFO audit: ugi=audacious\tip=unknown-ip-addr\tcmd=get_table : db=testing tbl=employe\t\n",
      "23/01/03 12:20:38 INFO HiveMetaStore: 0: get_table : db=testing tbl=employe\n",
      "23/01/03 12:20:38 INFO audit: ugi=audacious\tip=unknown-ip-addr\tcmd=get_table : db=testing tbl=employe\t\n",
      "23/01/03 12:20:38 INFO HiveMetaStore: 0: get_database: testing\n",
      "23/01/03 12:20:38 INFO audit: ugi=audacious\tip=unknown-ip-addr\tcmd=get_database: testing\t\n",
      "23/01/03 12:20:38 INFO HiveMetaStore: 0: get_table : db=testing tbl=employe\n",
      "23/01/03 12:20:38 INFO audit: ugi=audacious\tip=unknown-ip-addr\tcmd=get_table : db=testing tbl=employe\t\n",
      "23/01/03 12:20:39 INFO HiveMetaStore: 0: get_database: testing\n",
      "23/01/03 12:20:39 INFO audit: ugi=audacious\tip=unknown-ip-addr\tcmd=get_database: testing\t\n",
      "23/01/03 12:20:39 INFO HiveMetaStore: 0: get_table : db=testing tbl=employe\n",
      "23/01/03 12:20:39 INFO audit: ugi=audacious\tip=unknown-ip-addr\tcmd=get_table : db=testing tbl=employe\t\n",
      "23/01/03 12:20:39 INFO HiveMetaStore: 0: drop_table : db=testing tbl=employe\n",
      "23/01/03 12:20:39 INFO audit: ugi=audacious\tip=unknown-ip-addr\tcmd=drop_table : db=testing tbl=employe\t\n",
      "23/01/03 12:20:39 INFO HiveMetaStore: 0: get_table : db=testing tbl=employe\n",
      "23/01/03 12:20:39 INFO audit: ugi=audacious\tip=unknown-ip-addr\tcmd=get_table : db=testing tbl=employe\t\n",
      "23/01/03 12:20:39 INFO HiveMetaStore: 0: get_database: testing\n",
      "23/01/03 12:20:39 INFO audit: ugi=audacious\tip=unknown-ip-addr\tcmd=get_database: testing\t\n",
      "23/01/03 12:20:39 INFO HiveMetaStore: 0: get_database: testing\n",
      "23/01/03 12:20:39 INFO audit: ugi=audacious\tip=unknown-ip-addr\tcmd=get_database: testing\t\n",
      "23/01/03 12:20:39 INFO HiveMetaStore: 0: get_database: testing\n",
      "23/01/03 12:20:39 INFO audit: ugi=audacious\tip=unknown-ip-addr\tcmd=get_database: testing\t\n",
      "23/01/03 12:20:39 INFO HiveMetaStore: 0: get_database: testing\n",
      "23/01/03 12:20:39 INFO audit: ugi=audacious\tip=unknown-ip-addr\tcmd=get_database: testing\t\n",
      "23/01/03 12:20:39 INFO HiveMetaStore: 0: get_database: testing\n",
      "23/01/03 12:20:39 INFO audit: ugi=audacious\tip=unknown-ip-addr\tcmd=get_database: testing\t\n",
      "23/01/03 12:20:39 INFO HiveMetaStore: 0: get_table : db=testing tbl=employe\n",
      "23/01/03 12:20:39 INFO audit: ugi=audacious\tip=unknown-ip-addr\tcmd=get_table : db=testing tbl=employe\t\n",
      "23/01/03 12:20:39 INFO HiveMetaStore: 0: get_database: testing\n",
      "23/01/03 12:20:39 INFO audit: ugi=audacious\tip=unknown-ip-addr\tcmd=get_database: testing\t\n",
      "23/01/03 12:20:39 INFO HiveMetaStore: 0: get_table : db=testing tbl=employe\n",
      "23/01/03 12:20:39 INFO audit: ugi=audacious\tip=unknown-ip-addr\tcmd=get_table : db=testing tbl=employe\t\n",
      "23/01/03 12:20:39 INFO HiveMetaStore: 0: create_table: Table(tableName:employe, dbName:testing, owner:audacious, createTime:1672728639, lastAccessTime:0, retention:0, sd:StorageDescriptor(cols:[FieldSchema(name:Age, type:int, comment:null), FieldSchema(name:Attrition, type:int, comment:null), FieldSchema(name:BusinessTravel, type:string, comment:null), FieldSchema(name:DailyRate, type:int, comment:null), FieldSchema(name:Department, type:string, comment:null), FieldSchema(name:DistanceFromHome, type:int, comment:null), FieldSchema(name:Education, type:int, comment:null), FieldSchema(name:EducationField, type:string, comment:null), FieldSchema(name:EmployeeCount, type:int, comment:null), FieldSchema(name:EmployeeNumber, type:int, comment:null), FieldSchema(name:EnvironmentSatisfaction, type:int, comment:null), FieldSchema(name:Gender, type:string, comment:null), FieldSchema(name:HourlyRate, type:int, comment:null), FieldSchema(name:JobInvolvement, type:int, comment:null), FieldSchema(name:JobLevel, type:int, comment:null), FieldSchema(name:JobRole, type:string, comment:null), FieldSchema(name:JobSatisfaction, type:int, comment:null), FieldSchema(name:MaritalStatus, type:string, comment:null), FieldSchema(name:MonthlyIncome, type:int, comment:null), FieldSchema(name:MonthlyRate, type:int, comment:null), FieldSchema(name:NumCompaniesWorked, type:int, comment:null), FieldSchema(name:Over18, type:string, comment:null), FieldSchema(name:OverTime, type:string, comment:null), FieldSchema(name:PercentSalaryHike, type:int, comment:null), FieldSchema(name:PerformanceRating, type:int, comment:null), FieldSchema(name:RelationshipSatisfaction, type:int, comment:null), FieldSchema(name:StandardHours, type:int, comment:null), FieldSchema(name:StockOptionLevel, type:int, comment:null), FieldSchema(name:TotalWorkingYears, type:int, comment:null), FieldSchema(name:TrainingTimesLastYear, type:int, comment:null), FieldSchema(name:WorkLifeBalance, type:int, comment:null), FieldSchema(name:YearsAtCompany, type:int, comment:null), FieldSchema(name:YearsInCurrentRole, type:int, comment:null), FieldSchema(name:YearsSinceLastPromotion, type:int, comment:null), FieldSchema(name:YearsWithCurrManager, type:int, comment:null)], location:null, inputFormat:org.apache.hadoop.hive.ql.io.parquet.MapredParquetInputFormat, outputFormat:org.apache.hadoop.hive.ql.io.parquet.MapredParquetOutputFormat, compressed:false, numBuckets:-1, serdeInfo:SerDeInfo(name:null, serializationLib:org.apache.hadoop.hive.ql.io.parquet.serde.ParquetHiveSerDe, parameters:{path=hdfs://localhost:9000/user/hive/warehouse/testing.db/employe, serialization.format=1}), bucketCols:[], sortCols:[], parameters:{}, skewedInfo:SkewedInfo(skewedColNames:[], skewedColValues:[], skewedColValueLocationMaps:{})), partitionKeys:[], parameters:{spark.sql.sources.schema={\"type\":\"struct\",\"fields\":[{\"name\":\"Age\",\"type\":\"integer\",\"nullable\":true,\"metadata\":{}},{\"name\":\"Attrition\",\"type\":\"integer\",\"nullable\":true,\"metadata\":{}},{\"name\":\"BusinessTravel\",\"type\":\"string\",\"nullable\":true,\"metadata\":{}},{\"name\":\"DailyRate\",\"type\":\"integer\",\"nullable\":true,\"metadata\":{}},{\"name\":\"Department\",\"type\":\"string\",\"nullable\":true,\"metadata\":{}},{\"name\":\"DistanceFromHome\",\"type\":\"integer\",\"nullable\":true,\"metadata\":{}},{\"name\":\"Education\",\"type\":\"integer\",\"nullable\":true,\"metadata\":{}},{\"name\":\"EducationField\",\"type\":\"string\",\"nullable\":true,\"metadata\":{}},{\"name\":\"EmployeeCount\",\"type\":\"integer\",\"nullable\":true,\"metadata\":{}},{\"name\":\"EmployeeNumber\",\"type\":\"integer\",\"nullable\":true,\"metadata\":{}},{\"name\":\"EnvironmentSatisfaction\",\"type\":\"integer\",\"nullable\":true,\"metadata\":{}},{\"name\":\"Gender\",\"type\":\"string\",\"nullable\":true,\"metadata\":{}},{\"name\":\"HourlyRate\",\"type\":\"integer\",\"nullable\":true,\"metadata\":{}},{\"name\":\"JobInvolvement\",\"type\":\"integer\",\"nullable\":true,\"metadata\":{}},{\"name\":\"JobLevel\",\"type\":\"integer\",\"nullable\":true,\"metadata\":{}},{\"name\":\"JobRole\",\"type\":\"string\",\"nullable\":true,\"metadata\":{}},{\"name\":\"JobSatisfaction\",\"type\":\"integer\",\"nullable\":true,\"metadata\":{}},{\"name\":\"MaritalStatus\",\"type\":\"string\",\"nullable\":true,\"metadata\":{}},{\"name\":\"MonthlyIncome\",\"type\":\"integer\",\"nullable\":true,\"metadata\":{}},{\"name\":\"MonthlyRate\",\"type\":\"integer\",\"nullable\":true,\"metadata\":{}},{\"name\":\"NumCompaniesWorked\",\"type\":\"integer\",\"nullable\":true,\"metadata\":{}},{\"name\":\"Over18\",\"type\":\"string\",\"nullable\":true,\"metadata\":{}},{\"name\":\"OverTime\",\"type\":\"string\",\"nullable\":true,\"metadata\":{}},{\"name\":\"PercentSalaryHike\",\"type\":\"integer\",\"nullable\":true,\"metadata\":{}},{\"name\":\"PerformanceRating\",\"type\":\"integer\",\"nullable\":true,\"metadata\":{}},{\"name\":\"RelationshipSatisfaction\",\"type\":\"integer\",\"nullable\":true,\"metadata\":{}},{\"name\":\"StandardHours\",\"type\":\"integer\",\"nullable\":true,\"metadata\":{}},{\"name\":\"StockOptionLevel\",\"type\":\"integer\",\"nullable\":true,\"metadata\":{}},{\"name\":\"TotalWorkingYears\",\"type\":\"integer\",\"nullable\":true,\"metadata\":{}},{\"name\":\"TrainingTimesLastYear\",\"type\":\"integer\",\"nullable\":true,\"metadata\":{}},{\"name\":\"WorkLifeBalance\",\"type\":\"integer\",\"nullable\":true,\"metadata\":{}},{\"name\":\"YearsAtCompany\",\"type\":\"integer\",\"nullable\":true,\"metadata\":{}},{\"name\":\"YearsInCurrentRole\",\"type\":\"integer\",\"nullable\":true,\"metadata\":{}},{\"name\":\"YearsSinceLastPromotion\",\"type\":\"integer\",\"nullable\":true,\"metadata\":{}},{\"name\":\"YearsWithCurrManager\",\"type\":\"integer\",\"nullable\":true,\"metadata\":{}}]}, spark.sql.sources.provider=parquet, spark.sql.create.version=3.3.1}, viewOriginalText:null, viewExpandedText:null, tableType:MANAGED_TABLE, privileges:PrincipalPrivilegeSet(userPrivileges:{audacious=[PrivilegeGrantInfo(privilege:INSERT, createTime:-1, grantor:audacious, grantorType:USER, grantOption:true), PrivilegeGrantInfo(privilege:SELECT, createTime:-1, grantor:audacious, grantorType:USER, grantOption:true), PrivilegeGrantInfo(privilege:UPDATE, createTime:-1, grantor:audacious, grantorType:USER, grantOption:true), PrivilegeGrantInfo(privilege:DELETE, createTime:-1, grantor:audacious, grantorType:USER, grantOption:true)]}, groupPrivileges:null, rolePrivileges:null))\n",
      "23/01/03 12:20:39 INFO audit: ugi=audacious\tip=unknown-ip-addr\tcmd=create_table: Table(tableName:employe, dbName:testing, owner:audacious, createTime:1672728639, lastAccessTime:0, retention:0, sd:StorageDescriptor(cols:[FieldSchema(name:Age, type:int, comment:null), FieldSchema(name:Attrition, type:int, comment:null), FieldSchema(name:BusinessTravel, type:string, comment:null), FieldSchema(name:DailyRate, type:int, comment:null), FieldSchema(name:Department, type:string, comment:null), FieldSchema(name:DistanceFromHome, type:int, comment:null), FieldSchema(name:Education, type:int, comment:null), FieldSchema(name:EducationField, type:string, comment:null), FieldSchema(name:EmployeeCount, type:int, comment:null), FieldSchema(name:EmployeeNumber, type:int, comment:null), FieldSchema(name:EnvironmentSatisfaction, type:int, comment:null), FieldSchema(name:Gender, type:string, comment:null), FieldSchema(name:HourlyRate, type:int, comment:null), FieldSchema(name:JobInvolvement, type:int, comment:null), FieldSchema(name:JobLevel, type:int, comment:null), FieldSchema(name:JobRole, type:string, comment:null), FieldSchema(name:JobSatisfaction, type:int, comment:null), FieldSchema(name:MaritalStatus, type:string, comment:null), FieldSchema(name:MonthlyIncome, type:int, comment:null), FieldSchema(name:MonthlyRate, type:int, comment:null), FieldSchema(name:NumCompaniesWorked, type:int, comment:null), FieldSchema(name:Over18, type:string, comment:null), FieldSchema(name:OverTime, type:string, comment:null), FieldSchema(name:PercentSalaryHike, type:int, comment:null), FieldSchema(name:PerformanceRating, type:int, comment:null), FieldSchema(name:RelationshipSatisfaction, type:int, comment:null), FieldSchema(name:StandardHours, type:int, comment:null), FieldSchema(name:StockOptionLevel, type:int, comment:null), FieldSchema(name:TotalWorkingYears, type:int, comment:null), FieldSchema(name:TrainingTimesLastYear, type:int, comment:null), FieldSchema(name:WorkLifeBalance, type:int, comment:null), FieldSchema(name:YearsAtCompany, type:int, comment:null), FieldSchema(name:YearsInCurrentRole, type:int, comment:null), FieldSchema(name:YearsSinceLastPromotion, type:int, comment:null), FieldSchema(name:YearsWithCurrManager, type:int, comment:null)], location:null, inputFormat:org.apache.hadoop.hive.ql.io.parquet.MapredParquetInputFormat, outputFormat:org.apache.hadoop.hive.ql.io.parquet.MapredParquetOutputFormat, compressed:false, numBuckets:-1, serdeInfo:SerDeInfo(name:null, serializationLib:org.apache.hadoop.hive.ql.io.parquet.serde.ParquetHiveSerDe, parameters:{path=hdfs://localhost:9000/user/hive/warehouse/testing.db/employe, serialization.format=1}), bucketCols:[], sortCols:[], parameters:{}, skewedInfo:SkewedInfo(skewedColNames:[], skewedColValues:[], skewedColValueLocationMaps:{})), partitionKeys:[], parameters:{spark.sql.sources.schema={\"type\":\"struct\",\"fields\":[{\"name\":\"Age\",\"type\":\"integer\",\"nullable\":true,\"metadata\":{}},{\"name\":\"Attrition\",\"type\":\"integer\",\"nullable\":true,\"metadata\":{}},{\"name\":\"BusinessTravel\",\"type\":\"string\",\"nullable\":true,\"metadata\":{}},{\"name\":\"DailyRate\",\"type\":\"integer\",\"nullable\":true,\"metadata\":{}},{\"name\":\"Department\",\"type\":\"string\",\"nullable\":true,\"metadata\":{}},{\"name\":\"DistanceFromHome\",\"type\":\"integer\",\"nullable\":true,\"metadata\":{}},{\"name\":\"Education\",\"type\":\"integer\",\"nullable\":true,\"metadata\":{}},{\"name\":\"EducationField\",\"type\":\"string\",\"nullable\":true,\"metadata\":{}},{\"name\":\"EmployeeCount\",\"type\":\"integer\",\"nullable\":true,\"metadata\":{}},{\"name\":\"EmployeeNumber\",\"type\":\"integer\",\"nullable\":true,\"metadata\":{}},{\"name\":\"EnvironmentSatisfaction\",\"type\":\"integer\",\"nullable\":true,\"metadata\":{}},{\"name\":\"Gender\",\"type\":\"string\",\"nullable\":true,\"metadata\":{}},{\"name\":\"HourlyRate\",\"type\":\"integer\",\"nullable\":true,\"metadata\":{}},{\"name\":\"JobInvolvement\",\"type\":\"integer\",\"nullable\":true,\"metadata\":{}},{\"name\":\"JobLevel\",\"type\":\"integer\",\"nullable\":true,\"metadata\":{}},{\"name\":\"JobRole\",\"type\":\"string\",\"nullable\":true,\"metadata\":{}},{\"name\":\"JobSatisfaction\",\"type\":\"integer\",\"nullable\":true,\"metadata\":{}},{\"name\":\"MaritalStatus\",\"type\":\"string\",\"nullable\":true,\"metadata\":{}},{\"name\":\"MonthlyIncome\",\"type\":\"integer\",\"nullable\":true,\"metadata\":{}},{\"name\":\"MonthlyRate\",\"type\":\"integer\",\"nullable\":true,\"metadata\":{}},{\"name\":\"NumCompaniesWorked\",\"type\":\"integer\",\"nullable\":true,\"metadata\":{}},{\"name\":\"Over18\",\"type\":\"string\",\"nullable\":true,\"metadata\":{}},{\"name\":\"OverTime\",\"type\":\"string\",\"nullable\":true,\"metadata\":{}},{\"name\":\"PercentSalaryHike\",\"type\":\"integer\",\"nullable\":true,\"metadata\":{}},{\"name\":\"PerformanceRating\",\"type\":\"integer\",\"nullable\":true,\"metadata\":{}},{\"name\":\"RelationshipSatisfaction\",\"type\":\"integer\",\"nullable\":true,\"metadata\":{}},{\"name\":\"StandardHours\",\"type\":\"integer\",\"nullable\":true,\"metadata\":{}},{\"name\":\"StockOptionLevel\",\"type\":\"integer\",\"nullable\":true,\"metadata\":{}},{\"name\":\"TotalWorkingYears\",\"type\":\"integer\",\"nullable\":true,\"metadata\":{}},{\"name\":\"TrainingTimesLastYear\",\"type\":\"integer\",\"nullable\":true,\"metadata\":{}},{\"name\":\"WorkLifeBalance\",\"type\":\"integer\",\"nullable\":true,\"metadata\":{}},{\"name\":\"YearsAtCompany\",\"type\":\"integer\",\"nullable\":true,\"metadata\":{}},{\"name\":\"YearsInCurrentRole\",\"type\":\"integer\",\"nullable\":true,\"metadata\":{}},{\"name\":\"YearsSinceLastPromotion\",\"type\":\"integer\",\"nullable\":true,\"metadata\":{}},{\"name\":\"YearsWithCurrManager\",\"type\":\"integer\",\"nullable\":true,\"metadata\":{}}]}, spark.sql.sources.provider=parquet, spark.sql.create.version=3.3.1}, viewOriginalText:null, viewExpandedText:null, tableType:MANAGED_TABLE, privileges:PrincipalPrivilegeSet(userPrivileges:{audacious=[PrivilegeGrantInfo(privilege:INSERT, createTime:-1, grantor:audacious, grantorType:USER, grantOption:true), PrivilegeGrantInfo(privilege:SELECT, createTime:-1, grantor:audacious, grantorType:USER, grantOption:true), PrivilegeGrantInfo(privilege:UPDATE, createTime:-1, grantor:audacious, grantorType:USER, grantOption:true), PrivilegeGrantInfo(privilege:DELETE, createTime:-1, grantor:audacious, grantorType:USER, grantOption:true)]}, groupPrivileges:null, rolePrivileges:null))\t\n",
      "23/01/03 12:20:39 INFO log: Updating table stats fast for employe\n",
      "23/01/03 12:20:39 INFO log: Updated size of table employe to 40753\n"
     ]
    }
   ],
   "source": [
    "df.write.saveAsTable('testing.employe', mode='overwrite')"
   ]
  },
  {
   "cell_type": "code",
   "execution_count": 32,
   "id": "43fd6fc1",
   "metadata": {},
   "outputs": [
    {
     "name": "stderr",
     "output_type": "stream",
     "text": [
      "23/01/03 12:58:46 INFO HiveMetaStore: 0: get_database: testing\n",
      "23/01/03 12:58:46 INFO audit: ugi=audacious\tip=unknown-ip-addr\tcmd=get_database: testing\t\n",
      "23/01/03 12:58:46 INFO HiveMetaStore: 0: get_table : db=testing tbl=employee\n",
      "23/01/03 12:58:46 INFO audit: ugi=audacious\tip=unknown-ip-addr\tcmd=get_table : db=testing tbl=employee\t\n",
      "23/01/03 12:58:46 INFO HiveMetaStore: 0: get_table : db=testing tbl=employee\n",
      "23/01/03 12:58:46 INFO audit: ugi=audacious\tip=unknown-ip-addr\tcmd=get_table : db=testing tbl=employee\t\n"
     ]
    },
    {
     "name": "stdout",
     "output_type": "stream",
     "text": [
      "+-------------+\n",
      "|MonthlyIncome|\n",
      "+-------------+\n",
      "|         5993|\n",
      "|         5130|\n",
      "+-------------+\n",
      "\n"
     ]
    },
    {
     "name": "stderr",
     "output_type": "stream",
     "text": [
      "23/01/03 20:05:33 WARN DataStreamer: Exception for BP-241050457-127.0.0.1-1670841776195:blk_1073762846_22047\n",
      "java.net.SocketTimeoutException: 65000 millis timeout while waiting for channel to be ready for read. ch : java.nio.channels.SocketChannel[connected local=/127.0.0.1:34038 remote=/127.0.0.1:9866]\n",
      "\tat org.apache.hadoop.net.SocketIOWithTimeout.doIO(SocketIOWithTimeout.java:163)\n",
      "\tat org.apache.hadoop.net.SocketInputStream.read(SocketInputStream.java:161)\n",
      "\tat org.apache.hadoop.net.SocketInputStream.read(SocketInputStream.java:131)\n",
      "\tat org.apache.hadoop.net.SocketInputStream.read(SocketInputStream.java:118)\n",
      "\tat java.io.FilterInputStream.read(FilterInputStream.java:83)\n",
      "\tat java.io.FilterInputStream.read(FilterInputStream.java:83)\n",
      "\tat org.apache.hadoop.hdfs.protocolPB.PBHelperClient.vintPrefixed(PBHelperClient.java:519)\n",
      "\tat org.apache.hadoop.hdfs.protocol.datatransfer.PipelineAck.readFields(PipelineAck.java:213)\n",
      "\tat org.apache.hadoop.hdfs.DataStreamer$ResponseProcessor.run(DataStreamer.java:1137)\n"
     ]
    }
   ],
   "source": [
    "sparkSession.sql(\"select MonthlyIncome from testing.employee limit 2\").show()"
   ]
  },
  {
   "cell_type": "code",
   "execution_count": null,
   "id": "a8011d28",
   "metadata": {},
   "outputs": [],
   "source": []
  }
 ],
 "metadata": {
  "kernelspec": {
   "display_name": "Python 3 (ipykernel)",
   "language": "python",
   "name": "python3"
  },
  "language_info": {
   "codemirror_mode": {
    "name": "ipython",
    "version": 3
   },
   "file_extension": ".py",
   "mimetype": "text/x-python",
   "name": "python",
   "nbconvert_exporter": "python",
   "pygments_lexer": "ipython3",
   "version": "3.10.6"
  }
 },
 "nbformat": 4,
 "nbformat_minor": 5
}
