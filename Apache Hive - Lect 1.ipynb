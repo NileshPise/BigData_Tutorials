{
 "cells": [
  {
   "cell_type": "markdown",
   "id": "bf22be84",
   "metadata": {},
   "source": [
    "### Hive CLI\n",
    "\n",
    "HIVE_HOME/bin/hive is a shell utility which can be used to run Hive queries in either interactive or batch mode.\n",
    "\n",
    "HiveServer2 (introduced in Hive 0.11) has its own CLI called Beeline, which is a JDBC client based on SQLLine.  Due to new development being focused on HiveServer2, Hive CLI will soon be deprecated in favor of Beeline (HIVE-10511)."
   ]
  },
  {
   "cell_type": "markdown",
   "id": "22c76ecf",
   "metadata": {},
   "source": [
    "#### Example of running a query from the command line"
   ]
  },
  {
   "cell_type": "raw",
   "id": "ac80556c",
   "metadata": {},
   "source": [
    "hive -e 'select * from testing.employee'"
   ]
  },
  {
   "cell_type": "markdown",
   "id": "2f8ff6e2",
   "metadata": {},
   "source": [
    "#### Example of setting Hive configuration variables"
   ]
  },
  {
   "cell_type": "raw",
   "id": "2b20c9d1",
   "metadata": {},
   "source": [
    "hive -e 'select * from testing.employee' --hiveconf mapred.reduce.task=32"
   ]
  },
  {
   "cell_type": "markdown",
   "id": "2a2e1a4e",
   "metadata": {},
   "source": [
    "#### Example of dumping data out from a query into a file using silent mode"
   ]
  },
  {
   "cell_type": "raw",
   "id": "13425db1",
   "metadata": {},
   "source": [
    "hive -S -e 'select a.MonthlyIncome from testing.employee a limit 5' > monthly_in.txt"
   ]
  },
  {
   "cell_type": "markdown",
   "id": "fc37b0cd",
   "metadata": {},
   "source": [
    "#### Example of running a script non-interactively from local disk"
   ]
  },
  {
   "cell_type": "raw",
   "id": "d807fdbf",
   "metadata": {},
   "source": [
    "hive -f hive_script.sql "
   ]
  },
  {
   "cell_type": "markdown",
   "id": "81b72beb",
   "metadata": {},
   "source": [
    "#### Example of running a script non-interactively from a Hadoop supported filesystem"
   ]
  },
  {
   "cell_type": "raw",
   "id": "4530c67b",
   "metadata": {},
   "source": [
    "hive -f hdfs://localhost:9000/hive_script.sql"
   ]
  },
  {
   "cell_type": "markdown",
   "id": "79df92c1",
   "metadata": {},
   "source": [
    "### Beeline – Command Line Shell\n",
    "\n",
    "HiveServer2 supports a command shell Beeline that works with HiveServer2. It's a JDBC client that is based on the SQLLine CLI (http://sqlline.sourceforge.net/). There’s detailed documentation of SQLLine which is applicable to Beeline as well.\n",
    "\n",
    "Replacing the Implementation of Hive CLI Using Beeline\n",
    "\n",
    "The Beeline shell works in both embedded mode as well as remote mode. In the embedded mode, it runs an embedded Hive (similar to Hive CLI) whereas remote mode is for connecting to a separate HiveServer2 process over Thrift. Starting in Hive 0.14, when Beeline is used with HiveServer2, it also prints the log messages from HiveServer2 for queries it executes to STDERR. Remote HiveServer2 mode is recommended for production use, as it is more secure and doesn't require direct HDFS/metastore access to be granted for users."
   ]
  },
  {
   "cell_type": "raw",
   "id": "026feae5",
   "metadata": {},
   "source": [
    "beeline"
   ]
  },
  {
   "cell_type": "raw",
   "id": "5f079ded",
   "metadata": {},
   "source": [
    "!connect jdbc:hive2://localhost:10000"
   ]
  },
  {
   "cell_type": "raw",
   "id": "28ab755b",
   "metadata": {},
   "source": [
    "beeline -u jdbc:hive2://localhost:10000"
   ]
  },
  {
   "cell_type": "markdown",
   "id": "ba9b0ebb",
   "metadata": {},
   "source": [
    "#### Example of running a query from the command line"
   ]
  },
  {
   "cell_type": "raw",
   "id": "1e522ea7",
   "metadata": {},
   "source": [
    "beeline -u jdbc:hive2://localhost:10000 -e 'select * from testing.employee limit 5;'"
   ]
  },
  {
   "cell_type": "markdown",
   "id": "55dc5612",
   "metadata": {},
   "source": [
    "#### Example of setting Hive configuration variables"
   ]
  },
  {
   "cell_type": "raw",
   "id": "a513cafd",
   "metadata": {},
   "source": [
    "beeline -u jdbc:hive2://localhost:10000 -e 'select * from testing.employee limit 5;' --hiveconf mapred.reduce.task=32"
   ]
  },
  {
   "cell_type": "markdown",
   "id": "8a79f0b7",
   "metadata": {},
   "source": [
    "#### Example of dumping data out from a query into a file using silent mode"
   ]
  },
  {
   "cell_type": "code",
   "execution_count": null,
   "id": "cfc79e7e",
   "metadata": {},
   "outputs": [],
   "source": [
    "beeline -u jdbc:hive2://localhost:10000 --silent -e 'select * from testing.employee limit 5;' >> query.txt"
   ]
  },
  {
   "cell_type": "markdown",
   "id": "9cdaaf05",
   "metadata": {},
   "source": [
    "#### Example of running a script non-interactively from local disk"
   ]
  },
  {
   "cell_type": "code",
   "execution_count": null,
   "id": "c24b18e8",
   "metadata": {},
   "outputs": [],
   "source": [
    "beeline -u jdbc:hive2://localhost:10000 -f hive_script.sql"
   ]
  },
  {
   "cell_type": "markdown",
   "id": "9a176d02",
   "metadata": {},
   "source": [
    "### Create Database"
   ]
  },
  {
   "cell_type": "raw",
   "id": "0d3a502c",
   "metadata": {},
   "source": [
    "CREATE [REMOTE] (DATABASE|SCHEMA) [IF NOT EXISTS] database_name\n",
    "  [COMMENT database_comment]\n",
    "  [LOCATION hdfs_path]\n",
    "  [MANAGEDLOCATION hdfs_path]\n",
    "  [WITH DBPROPERTIES (property_name=property_value, ...)];"
   ]
  },
  {
   "cell_type": "raw",
   "id": "4f311dba",
   "metadata": {},
   "source": [
    "CREATE DATABASE IF NOT EXISTS pretest;"
   ]
  },
  {
   "cell_type": "raw",
   "id": "aaca813e",
   "metadata": {},
   "source": [
    "SHOW DATABASES;"
   ]
  },
  {
   "cell_type": "raw",
   "id": "24fb8ac2",
   "metadata": {},
   "source": [
    "CREATE DATABASE IF NOT EXISTS pretest1 COMMENT 'pre testing database';"
   ]
  },
  {
   "cell_type": "raw",
   "id": "98c1e337",
   "metadata": {},
   "source": [
    "CREATE DATABASE IF NOT EXISTS pretest2 LOCATION'/databases/pretest2';"
   ]
  },
  {
   "cell_type": "markdown",
   "id": "16acb294",
   "metadata": {},
   "source": [
    "### Drop Database"
   ]
  },
  {
   "cell_type": "raw",
   "id": "5066df81",
   "metadata": {},
   "source": [
    "DROP (DATABASE|SCHEMA) [IF EXISTS] database_name [RESTRICT|CASCADE];"
   ]
  },
  {
   "cell_type": "raw",
   "id": "f2d381c1",
   "metadata": {},
   "source": [
    "DROP DATABASE IF EXISTS pretest CASCADE;"
   ]
  },
  {
   "cell_type": "raw",
   "id": "9027a4b5",
   "metadata": {},
   "source": [
    "DROP DATABASE IF EXISTS pretest;"
   ]
  },
  {
   "cell_type": "markdown",
   "id": "b71e1a9b",
   "metadata": {},
   "source": [
    "### Alter Database"
   ]
  },
  {
   "cell_type": "raw",
   "id": "5178de40",
   "metadata": {},
   "source": [
    "\n",
    "ALTER (DATABASE|SCHEMA) database_name SET DBPROPERTIES (property_name=property_value, ...);   -- (Note: SCHEMA added in Hive 0.14.0)\n",
    " \n",
    "ALTER (DATABASE|SCHEMA) database_name SET OWNER [USER|ROLE] user_or_role;   -- (Note: Hive 0.13.0 and later; SCHEMA added in Hive 0.14.0)\n",
    "  \n",
    "ALTER (DATABASE|SCHEMA) database_name SET LOCATION hdfs_path; -- (Note: Hive 2.2.1, 2.4.0 and later)\n",
    " \n",
    "ALTER (DATABASE|SCHEMA) database_name SET MANAGEDLOCATION hdfs_path; -- (Note: Hive 4.0.0 and later)"
   ]
  },
  {
   "cell_type": "markdown",
   "id": "ea813078",
   "metadata": {},
   "source": [
    "### Use Database\n"
   ]
  },
  {
   "cell_type": "raw",
   "id": "b1118cee",
   "metadata": {},
   "source": [
    "USE DEFAULT;"
   ]
  },
  {
   "cell_type": "raw",
   "id": "29a8b93c",
   "metadata": {},
   "source": [
    "USE pretest2;"
   ]
  },
  {
   "cell_type": "code",
   "execution_count": null,
   "id": "b842c3b3",
   "metadata": {},
   "outputs": [],
   "source": []
  },
  {
   "cell_type": "code",
   "execution_count": null,
   "id": "a33e22dc",
   "metadata": {},
   "outputs": [],
   "source": []
  }
 ],
 "metadata": {
  "kernelspec": {
   "display_name": "Python 3 (ipykernel)",
   "language": "python",
   "name": "python3"
  },
  "language_info": {
   "codemirror_mode": {
    "name": "ipython",
    "version": 3
   },
   "file_extension": ".py",
   "mimetype": "text/x-python",
   "name": "python",
   "nbconvert_exporter": "python",
   "pygments_lexer": "ipython3",
   "version": "3.10.6"
  }
 },
 "nbformat": 4,
 "nbformat_minor": 5
}
