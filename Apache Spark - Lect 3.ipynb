{
 "cells": [
  {
   "cell_type": "markdown",
   "id": "52115099",
   "metadata": {},
   "source": [
    "### I/O in PySpark\n",
    "\n",
    "File input/output (I/O) operations are an integral part of many software activities and for data\n",
    "\n",
    "A data scientist deals with many types of files, including text files, comma-separated values (CSV) files, JavaScript Object Notation (JSON) files, and many more. The Hadoop Distributed File System (HDFS) is a very good distributed file system.\n",
    "\n",
    "#### Read a Simple Text File\n",
    "#### Problem\n",
    "\n",
    "You want to read a simple text file.\n",
    "#### Solution\n",
    "You have a simple text file named shakespearePlays.txt. The file content is as follows:\n",
    "\n",
    "    Love’s Labour’s Lost\n",
    "\n",
    "    A Midsummer Night’s Dream\n",
    "\n",
    "    Much Ado About Nothing\n",
    "\n",
    "    As You Like It\n",
    "\n",
    "The shakespearePlays.txt file has four lines. You want to read this file by using PySpark. After reading the file, you want to calculate the following:\n",
    "\n",
    "    Total number of lines in the file\n",
    "\n",
    "    Total number of characters in the file\n",
    "\n",
    "To read a simple file, you can use two functions: textFile() and wholeTextFiles(). These two functions are defined on our SparkContext object.\n",
    "\n",
    "The textFile() method reads a text file and results in an RDD of lines. The textFile() method is a transformation, so textFile() does not read the data until the first action is called. Because the file is not available at the time textFile() is run, it will not throw an error. It will throw an error when the first action is called. Why is this? Like other transformations, the textFile() function will be called when the first action is called.\n",
    "\n",
    "Another method, wholeTextFiles(), works in similar way as textFile() except it reads the file as a key/value pair. The file name is read as the key, and the file data is read as the value associated with that key.\n",
    "How It Works\n",
    "\n",
    "Let’s see how these built-in methods work.\n",
    "#### Reading a Text File by Using the textFile() Function\n",
    "\n",
    "The textFile() function takes three inputs. The first input to textFile() is the path of the file that has to be read. The second argument is minPartitions, which defines the minimum number of data partitions in the RDD. The third argument is use_unicode. If use_unicode is False, the file is read as a string. Here is the textFile() function:"
   ]
  },
  {
   "cell_type": "code",
   "execution_count": 2,
   "id": "2a89383a",
   "metadata": {},
   "outputs": [
    {
     "name": "stderr",
     "output_type": "stream",
     "text": [
      "22/12/23 18:49:26 WARN SparkContext: Another SparkContext is being constructed (or threw an exception in its constructor). This may indicate an error, since only one SparkContext should be running in this JVM (see SPARK-2243). The other SparkContext was created at:\n",
      "org.apache.spark.api.java.JavaSparkContext.<init>(JavaSparkContext.scala:58)\n",
      "sun.reflect.NativeConstructorAccessorImpl.newInstance0(Native Method)\n",
      "sun.reflect.NativeConstructorAccessorImpl.newInstance(NativeConstructorAccessorImpl.java:62)\n",
      "sun.reflect.DelegatingConstructorAccessorImpl.newInstance(DelegatingConstructorAccessorImpl.java:45)\n",
      "java.lang.reflect.Constructor.newInstance(Constructor.java:423)\n",
      "py4j.reflection.MethodInvoker.invoke(MethodInvoker.java:247)\n",
      "py4j.reflection.ReflectionEngine.invoke(ReflectionEngine.java:357)\n",
      "py4j.Gateway.invoke(Gateway.java:238)\n",
      "py4j.commands.ConstructorCommand.invokeConstructor(ConstructorCommand.java:80)\n",
      "py4j.commands.ConstructorCommand.execute(ConstructorCommand.java:69)\n",
      "py4j.ClientServerConnection.waitForCommands(ClientServerConnection.java:182)\n",
      "py4j.ClientServerConnection.run(ClientServerConnection.java:106)\n",
      "java.lang.Thread.run(Thread.java:750)\n",
      "22/12/23 18:49:26 WARN Client: Neither spark.yarn.jars nor spark.yarn.archive is set, falling back to uploading libraries under SPARK_HOME.\n"
     ]
    }
   ],
   "source": [
    "from pyspark import SparkContext\n",
    "sc = SparkContext()"
   ]
  },
  {
   "cell_type": "code",
   "execution_count": 3,
   "id": "de98d50f",
   "metadata": {},
   "outputs": [
    {
     "name": "stderr",
     "output_type": "stream",
     "text": [
      "                                                                                \r"
     ]
    },
    {
     "data": {
      "text/plain": [
       "['    Love’s Labour’s Lost',\n",
       " '',\n",
       " '    A Midsummer Night’s Dream',\n",
       " '',\n",
       " '    Much Ado About Nothing',\n",
       " '',\n",
       " '    As You Like It']"
      ]
     },
     "execution_count": 3,
     "metadata": {},
     "output_type": "execute_result"
    }
   ],
   "source": [
    "testfile = sc.textFile('/user/shakespear.txt', 2)\n",
    "testfile.collect()"
   ]
  },
  {
   "cell_type": "markdown",
   "id": "a6b4a88a",
   "metadata": {},
   "source": [
    "#### Reading a Text File by Using wholeTextFiles()\n",
    "\n",
    "The wholeTextFiles() function also takes three inputs. The first input to wholeTextFiles() is the path of the file that has to be read. The second argument is minPartitions, which defines the minimum number of data partitions in the RDD. The third argument is use_unicode. If use_unicode is False, the file is read as a string. Let’s read the same text file, this time by using the wholeTextFiles() function:"
   ]
  },
  {
   "cell_type": "code",
   "execution_count": 12,
   "id": "80f43d8f",
   "metadata": {},
   "outputs": [
    {
     "name": "stderr",
     "output_type": "stream",
     "text": [
      "\r",
      "                                                                                \r"
     ]
    },
    {
     "data": {
      "text/plain": [
       "[('hdfs://localhost:9000/user/shakespear.txt',\n",
       "  '    Love’s Labour’s Lost\\n\\n    A Midsummer Night’s Dream\\n\\n    Much Ado About Nothing\\n\\n    As You Like It\\n')]"
      ]
     },
     "execution_count": 12,
     "metadata": {},
     "output_type": "execute_result"
    }
   ],
   "source": [
    "testfile = sc.wholeTextFiles('/user/shakespear.txt', 2)\n",
    "testfile.collect()"
   ]
  },
  {
   "cell_type": "code",
   "execution_count": 13,
   "id": "f144422c",
   "metadata": {},
   "outputs": [
    {
     "data": {
      "text/plain": [
       "['hdfs://localhost:9000/user/shakespear.txt']"
      ]
     },
     "execution_count": 13,
     "metadata": {},
     "output_type": "execute_result"
    }
   ],
   "source": [
    "testfile.keys().collect()"
   ]
  },
  {
   "cell_type": "markdown",
   "id": "1b3c1c97",
   "metadata": {},
   "source": [
    "### Write an RDD to a Simple Text File\n",
    "#### Problem\n",
    "\n",
    "You want to write an RDD to a simple text file .\n",
    "#### Solution\n",
    "\n",
    " you calculated the number of characters in each line as the RDD playDataLineLength. Now you want to save it in a text file.\n",
    "\n",
    "We can save an RDD as a text file by using the saveAsTextFile() function . This method is defined on the RDD—not on SparkContext, as we saw in the case of the textFile() and wholeTextFiles() functions. You have to provide the output directory. The file name is not required. The directory name you are providing must not already exist; otherwise, the write operation will fail. The RDD exists in partitions. So PySpark will start many processes in parallel to write the file.\n",
    "\n",
    "The saveAsTextFile() function takes two inputs. The first input is path, which is basically the path of the directory where the RDD has to be saved. The second argument is compressionCodecClass, an optional argument with a default value of None. We can use compression codecs such as Gzip to compress files and thereby provide more-efficient computations.\n",
    "\n",
    "#### How It Works\n",
    "\n",
    "So first let’s start with the code for counting the number of characters in each line. We have already done it, but for the sake of clarity, I have provided the code for calculating the number of characters in each line again.\n",
    "Step 6-2-1. Counting the Number of Characters on Each Line\n",
    "\n",
    "Let’s read the file and count the number of characters per line:"
   ]
  },
  {
   "cell_type": "code",
   "execution_count": 14,
   "id": "90ccbc3f",
   "metadata": {},
   "outputs": [
    {
     "data": {
      "text/plain": [
       "[24, 0, 29, 0, 26, 0, 18]"
      ]
     },
     "execution_count": 14,
     "metadata": {},
     "output_type": "execute_result"
    }
   ],
   "source": [
    "testfile = sc.textFile('/user/shakespear.txt', 2)\n",
    "data = testfile.map(lambda data: len(data))\n",
    "data.collect()"
   ]
  },
  {
   "cell_type": "markdown",
   "id": "f0547fea",
   "metadata": {},
   "source": [
    "Saving the RDD to a File\n",
    "\n",
    "Now that we have the counted RDD, we want to save that RDD into a directory called savedData:\n"
   ]
  },
  {
   "cell_type": "code",
   "execution_count": 15,
   "id": "a6f08508",
   "metadata": {},
   "outputs": [
    {
     "name": "stderr",
     "output_type": "stream",
     "text": [
      "\r",
      "[Stage 6:=============================>                             (1 + 1) / 2]\r",
      "\r",
      "                                                                                \r"
     ]
    }
   ],
   "source": [
    "data.saveAsTextFile('/user/output_data/shake')"
   ]
  },
  {
   "cell_type": "markdown",
   "id": "8a0d3b7f",
   "metadata": {},
   "source": [
    "### Read a Directory\n",
    "#### Problem\n",
    "\n",
    "You want to read a directory .\n",
    "#### Solution\n",
    "\n",
    "In a directory, there are many files. You want to read the directory (all files at once).\n",
    "\n",
    "Reading many files together from a directory is a very common task nowadays. To read a directory, we use the textFile() function or the wholetextFiles() function. The textFile() function reads small files in the directory and merges them. In contrast, the wholeTextFiles() function reads files as a key/value pair, with the name of file as the key, and the content of the file as the value.\n",
    "\n",
    "You are provided with the directory name manyFiles. This directory consists of two files named playData1.txt and playData2.txt. Let’s investigate the content of these files one by one:\n",
    "\n",
    "You job is to read all these files from the directory in one go.\n",
    "How It Works\n",
    "\n",
    "We will use both functions, textFile() and wholeTextFiles(), one at a time, to read the directory noted previously. \n",
    "#### Reading a Directory by Using textFile()\n",
    "\n",
    "In previous recipes, we provided the absolute file path as the input to the textFile() function in order to read the file. The best part of the textFile() function is that just by changing the path input, we can change how this function reads data. In order to read all files from a directory, we have to provide the absolute path of the directory as input to textFile(). The following line of code reads all the files in the manyFiles directory by using the textFile() function:"
   ]
  },
  {
   "cell_type": "code",
   "execution_count": 18,
   "id": "58922195",
   "metadata": {},
   "outputs": [
    {
     "data": {
      "text/plain": [
       "['hi there\\\\n how are you',\n",
       " 'okay \\\\n i am good \\\\n what about you',\n",
       " 'i am coool\\\\n thanks for asking']"
      ]
     },
     "execution_count": 18,
     "metadata": {},
     "output_type": "execute_result"
    }
   ],
   "source": [
    "data = sc.textFile('/user/test_data/', 2)\n",
    "data.collect()"
   ]
  },
  {
   "cell_type": "markdown",
   "id": "037714db",
   "metadata": {},
   "source": [
    "The output is very clear. The textFile() function has read all the files in the directory and merged the content in the files. It has created an RDD of the merged data.\n",
    "#### Reading a Directory by Using wholeTextFiles()\n",
    "\n",
    "Let’s now read the same set of files by using the wholeTextFiles() function . As we did with textFile(), here we also provide the path of the directory as one of the inputs to the wholeTextFiles() function. The following code shows the use of the wholeTextFiles() function to read a directory:"
   ]
  },
  {
   "cell_type": "code",
   "execution_count": 19,
   "id": "9c5f38b0",
   "metadata": {},
   "outputs": [
    {
     "data": {
      "text/plain": [
       "[('hdfs://localhost:9000/user/test_data/test1.txt',\n",
       "  'hi there\\\\n how are you\\n'),\n",
       " ('hdfs://localhost:9000/user/test_data/test2.txt',\n",
       "  'okay \\\\n i am good \\\\n what about you\\n'),\n",
       " ('hdfs://localhost:9000/user/test_data/test3.txt',\n",
       "  'i am coool\\\\n thanks for asking\\n')]"
      ]
     },
     "execution_count": 19,
     "metadata": {},
     "output_type": "execute_result"
    }
   ],
   "source": [
    "data2 = sc.wholeTextFiles('/user/test_data/', 2)\n",
    "data2.collect()"
   ]
  },
  {
   "cell_type": "markdown",
   "id": "e2f81448",
   "metadata": {},
   "source": [
    "#### Read Data from HDFS\n",
    "#### Problem\n",
    "\n",
    "You want to read a file from HDFS by using PySpark.\n",
    "#### Solution\n",
    "\n",
    "HDFS is very good for storing high-volume files. You are given the file filamentData.csv in HDFS. This file is under the bookData directory. Our bookData is under the root directory of HDFS. You want to read this file by using PySpark.\n",
    "\n",
    "To read a file from HDFS, we first need to know the fs.default.name property from the core-site.xml property file. We are going to get the core-site.xml file inside the Hadoop configuration directory. For us, the value of fs.default.name is hdfs://localhost:9746. The full path of our file in HDFS will be hdfs://localhost:9746/bookData/ filamentData.csv.\n",
    "\n",
    "We can use the textFile() function to read the file from HDFS by using the full path of the file.\n",
    "#### How It Works\n",
    "\n",
    "Reading a file from HDFS is as easy as reading data from a local machine. In the following code line, we use the textFile() function to read the required file:"
   ]
  },
  {
   "cell_type": "code",
   "execution_count": 20,
   "id": "10d9edcc",
   "metadata": {},
   "outputs": [
    {
     "data": {
      "text/plain": [
       "['i am coool\\\\n thanks for asking']"
      ]
     },
     "execution_count": 20,
     "metadata": {},
     "output_type": "execute_result"
    }
   ],
   "source": [
    "data = sc.textFile('hdfs://localhost:9000/user/test_data/test3.txt', 2)\n",
    "data.collect()"
   ]
  },
  {
   "cell_type": "markdown",
   "id": "466714c2",
   "metadata": {},
   "source": [
    "#### Save RDD Data to HDFS\n",
    "#### Problem\n",
    "\n",
    "You want to save RDD data to HDFS .\n",
    "#### Solution\n",
    "\n",
    "RDD data can be saved to HDFS by using the saveAsTextFile() function. In Recipe 6-2, we saved the RDD in a file on the local file system. We are going to save the same RDD, playDataLineLength, to HDFS.\n",
    "\n",
    "Similar to the way we worked with the textFile() function, we have to provide the full path of the file, including the NameNode URI, to saveAsTextFile() to write an RDD to HDFS.\n",
    "#### How It Works\n",
    "\n",
    "Because you are a keen reader and might not be looking for distractions, we’ll start with writing code that counts the total number of characters in each line.\n",
    "Counting the Number of Characters on Each Line"
   ]
  },
  {
   "cell_type": "code",
   "execution_count": 22,
   "id": "a18752b2",
   "metadata": {},
   "outputs": [
    {
     "name": "stderr",
     "output_type": "stream",
     "text": [
      "\r",
      "[Stage 11:>                                                         (0 + 1) / 2]\r",
      "\r",
      "                                                                                \r"
     ]
    }
   ],
   "source": [
    "data.map(lambda data: len(data)).saveAsTextFile('hdfs://localhost:9000/user/test_data/output_data/')"
   ]
  },
  {
   "cell_type": "markdown",
   "id": "332e8716",
   "metadata": {},
   "source": [
    "#### Saving an RDD to HDFS\n",
    "\n",
    "The playDataLineLength RDD is written using following code line:\n",
    "\n",
    "We have saved the RDD in the savedData directory, which is inside the root directory of HDFS. Remember that the savedData directory didn’t exist before we saved the data; otherwise, the saveAsTextFile() function would throw an error. We have saved the RDD. Now we are going to investigate the saved data. We will find five files in the savedData directory: part-00000, part-00001, part-0002, part-00003, and our _SUCCESS file. Let’s see the data of each file, one by one, by using the HDFS cat command. This command displays file data to the console: \n",
    "\n",
    "hdfs dfs -ls /user/output_data/"
   ]
  },
  {
   "cell_type": "markdown",
   "id": "9cb144f4",
   "metadata": {},
   "source": [
    "#### Write Data to a Sequential File\n",
    "#### Problem\n",
    "\n",
    "You want to write data into a sequential file .\n",
    "#### Solution\n",
    "Many times we like to save the results from PySpark processing to a sequence file. We have an RDD of subject data, as shown in Table 6-2, and you want to write it to a sequence file.\n",
    "\n",
    "#### How It Works\n",
    "\n",
    "In this recipe, we are first going to create an RDD and then save it into a sequence file."
   ]
  },
  {
   "cell_type": "code",
   "execution_count": 23,
   "id": "233eb7fa",
   "metadata": {},
   "outputs": [],
   "source": [
    "subjectsData = [('si1','Python'),\n",
    "                 ('si3','Java'),\n",
    "                 ('si1','Java'),\n",
    "                 ('si2','Python'),\n",
    "                 ('si3','Ruby'),\n",
    "                 ('si4','C++'),\n",
    "                 ('si5','C'),\n",
    "                 ('si4','Python'),\n",
    "                 ('si2','Java')]"
   ]
  },
  {
   "cell_type": "code",
   "execution_count": 24,
   "id": "ed810769",
   "metadata": {},
   "outputs": [
    {
     "data": {
      "text/plain": [
       "[('si1', 'Python'),\n",
       " ('si3', 'Java'),\n",
       " ('si1', 'Java'),\n",
       " ('si2', 'Python'),\n",
       " ('si3', 'Ruby'),\n",
       " ('si4', 'C++'),\n",
       " ('si5', 'C'),\n",
       " ('si4', 'Python'),\n",
       " ('si2', 'Java')]"
      ]
     },
     "execution_count": 24,
     "metadata": {},
     "output_type": "execute_result"
    }
   ],
   "source": [
    "subjectDataRDD = sc.parallelize(subjectsData, 2)\n",
    "subjectDataRDD.collect()"
   ]
  },
  {
   "cell_type": "code",
   "execution_count": 25,
   "id": "7d128c52",
   "metadata": {},
   "outputs": [],
   "source": [
    "subjectDataRDD.saveAsSequenceFile('hdfs://localhost:9000/user/test_data/output_data/sequence')"
   ]
  },
  {
   "cell_type": "markdown",
   "id": "8636b832",
   "metadata": {},
   "source": [
    "#### Read Data from a Sequential File\n",
    "#### Problem\n",
    "\n",
    "You want to read data from a sequential file .\n",
    "#### Solution\n",
    "\n",
    "A sequential file uses the key/value file format. Here, the key values are in binary format. This is a commonly used file format for Hadoop. The keys and values are types of the Hadoop Writable class.\n",
    "We have data in a sequential file in HDFS, in the sequenceFileToRead directory inside the root directory. In the file inside the directory, we have the data in Table 6-1.\n",
    "\n",
    "                                    Table 6-1. Sequential File Data\n",
    "<img src='430628_1_En_6_Figa_HTML.gif'>\n",
    "\n",
    "We can read the sequence file by using the sequenceFile() method defined in the SparkContext class.\n",
    "How It Works\n",
    "\n",
    "The sequenceFile() function takes many arguments. Let me discuss some of them. The first argument is path, which is the path of the sequential file. The second argument is keyClass, which indicates the key class of data in the sequence file. The argument valueClass represents the data type of the values. Remember that the key and value classes are children of the Hadoop Writable classes."
   ]
  },
  {
   "cell_type": "code",
   "execution_count": 28,
   "id": "f435efdb",
   "metadata": {},
   "outputs": [
    {
     "data": {
      "text/plain": [
       "[('si1', 'Python'),\n",
       " ('si3', 'Java'),\n",
       " ('si1', 'Java'),\n",
       " ('si2', 'Python'),\n",
       " ('si3', 'Ruby'),\n",
       " ('si4', 'C++'),\n",
       " ('si5', 'C'),\n",
       " ('si4', 'Python'),\n",
       " ('si2', 'Java')]"
      ]
     },
     "execution_count": 28,
     "metadata": {},
     "output_type": "execute_result"
    }
   ],
   "source": [
    "subjectData = sc.sequenceFile('hdfs://localhost:9000/user/test_data/output_data/sequence/')\n",
    "subjectData.collect()"
   ]
  },
  {
   "cell_type": "markdown",
   "id": "e72eb31b",
   "metadata": {},
   "source": [
    "#### Reading csv file"
   ]
  },
  {
   "cell_type": "code",
   "execution_count": 55,
   "id": "341367b2",
   "metadata": {},
   "outputs": [
    {
     "name": "stderr",
     "output_type": "stream",
     "text": [
      "\r",
      "                                                                                \r"
     ]
    },
    {
     "data": {
      "text/plain": [
       "['country,total_consumption,recorded_consumption,unrecorded_consumption,beer_percentage,wine_percentage,spirits_percentage,other_percentage,2020_projection,2025_projection',\n",
       " 'Estonia,16.9,15.8,1.1,32.7,7.4,50.3,9.6,11.5,11.9',\n",
       " 'Lithuania,15.0,13.8,1.2,43.6,7.3,37.1,12.1,14.4,13.9',\n",
       " 'Czech Republic,14.3,12.4,1.4,53.3,21.3,25.4,0.0,11.2,11.4',\n",
       " 'Seychelles,13.8,12.4,1.4,68.9,22.4,6.3,2.5,10.4,10.6',\n",
       " 'Germany,13.4,11.3,1.4,52.6,28.4,18.9,0.0,12.8,12.6',\n",
       " 'Nigeria,13.4,9.6,3.8,7.9,0.4,0.6,91.1,13.0,12.5',\n",
       " 'Ireland,13.0,11.3,1.4,47.0,28.0,18.8,6.2,13.5,13.9',\n",
       " 'Moldova,13.0,11.5,1.4,35.4,44.6,20.0,0.0,12.6,12.4',\n",
       " 'Latvia,12.9,11.1,1.9,42.8,11.1,40.0,6.1,14.0,15.1',\n",
       " 'Bulgaria,12.7,11.4,1.3,38.8,17.2,42.9,1.2,13.0,13.4',\n",
       " 'France,12.6,11.8,1.5,18.8,58.8,20.7,1.7,12.3,12.1',\n",
       " 'Romania,12.6,10.4,2.2,55.6,28.1,16.4,0.0,13.2,13.8',\n",
       " 'Slovenia,12.6,10.8,1.8,41.4,50.6,8.0,0.0,11.6,10.6',\n",
       " 'Portugal,12.3,10.6,2.1,26.1,61.5,7.7,4.7,11.8,11.0',\n",
       " 'Luxembourg,12.3,10.6,2.1,26.1,61.5,7.7,4.7,11.8,11.0',\n",
       " 'Belgium,12.1,10.4,1.0,44.4,38.3,14.2,3.1,12.2,12.3',\n",
       " 'Russia,11.7,8.1,3.6,39.0,12.8,38.6,9.5,12.3,12.4',\n",
       " 'Austria,11.6,11.4,0.4,53.5,31.6,14.9,0.0,11.7,11.4',\n",
       " 'Poland,11.6,10.4,1.7,56.1,7.8,36.1,0.0,12.0,12.7',\n",
       " 'Gabon,11.5,9.5,1.9,76.3,9.2,13.4,1.1,10.7,10.9',\n",
       " 'Slovakia,11.5,10.4,1.6,33.7,20.9,41.9,3.5,11.2,11.3',\n",
       " 'Switzerland,11.5,9.5,1.2,32.1,48.1,18.5,1.2,10.9,10.3',\n",
       " 'Hungary,11.4,10.9,1.5,35.5,32.2,32.3,0.0,11.2,10.9',\n",
       " 'United Kingdom,11.4,9.8,1.1,35.0,35.7,22.5,6.7,11.5,11.8',\n",
       " 'Andorra,11.3,10.1,1.6,34.1,42.0,23.9,0.0,11.0,10.5',\n",
       " 'Equatorial Guinea,11.3,9.9,1.4,83.0,17.0,0.0,0.0,11.8,12.4',\n",
       " 'Belarus,11.2,9.6,1.5,22.8,2.2,49.0,26.0,12.4,13.2',\n",
       " 'Serbia,11.1,9.2,1.8,32.0,42.5,25.4,0.1,11.3,11.6',\n",
       " 'Cyprus,10.8,9.6,1.8,29.7,28.4,41.9,0.0,11.0,11.6',\n",
       " 'Uruguay,10.8,9.0,1.9,35.2,43.7,21.1,0.0,12.1,13.3',\n",
       " 'Finland,10.7,8.4,2.0,48.8,20.6,21.5,9.1,10.8,10.9',\n",
       " 'New Zealand,10.7,9.1,1.3,37.4,33.4,28.9,0.3,10.6,10.4',\n",
       " 'Australia,10.6,9.6,0.8,39.9,37.5,12.9,9.8,10.5,10.3',\n",
       " 'Cook Islands,10.6,10.0,0.6,31.7,16.1,52.2,0.0,16.2,18.3',\n",
       " 'Denmark,10.4,9.5,1.2,37.4,44.7,17.1,0.8,10.3,10.3',\n",
       " 'Greece,10.4,6.4,4.3,31.5,45.5,21.8,1.3,10.7,10.8',\n",
       " 'Laos,10.4,7.0,3.4,50.1,0.0,49.8,0.0,10.5,10.9',\n",
       " 'South Korea,10.2,9.1,1.2,22.2,1.9,7.1,68.9,10.4,10.6',\n",
       " 'Spain,10.0,8.5,1.8,54.2,18.0,27.8,0.0,9.6,8.9',\n",
       " 'Eswatini,9.9,7.4,2.7,24.6,16.1,0.0,59.3,10.0,10.1',\n",
       " 'Saint Lucia,9.9,9.7,1.5,35.4,13.2,50.0,1.4,9.6,9.1',\n",
       " 'Argentina,9.8,8.4,1.3,39.9,40.2,9.6,10.3,10.0,10.3',\n",
       " 'Georgia,9.8,7.4,2.3,18.4,43.0,38.5,0.1,10.5,11.6',\n",
       " 'Namibia,9.8,7.8,2.0,60.2,10.4,13.9,15.6,9.2,8.5',\n",
       " 'United States,9.8,8.8,0.8,47.0,18.1,34.9,0.0,10.1,10.3',\n",
       " 'Barbados,9.6,9.2,1.4,37.6,10.5,50.0,1.9,9.9,10.5',\n",
       " 'Uganda,9.5,7.6,1.8,11.0,0.1,3.1,85.8,9.8,10.3',\n",
       " 'Saint Kitts and Nevis,9.4,8.9,0.5,47.8,6.5,43.4,2.3,9.7,10.3',\n",
       " 'Tanzania,9.4,6.2,3.2,12.2,0.4,1.6,85.8,9.6,9.9',\n",
       " 'Chile,9.3,7.9,1.4,36.1,33.1,30.8,0.0,9.2,9.1',\n",
       " 'Grenada,9.3,8.8,1.4,40.9,7.0,48.3,3.8,9.4,9.6',\n",
       " 'South Africa,9.3,7.1,2.2,56.0,18.5,17.8,7.6,9.2,9.0',\n",
       " 'Sweden,9.2,7.2,2.0,36.4,47.8,14.1,1.7,9.8,10.1',\n",
       " 'Iceland,9.1,7.7,1.5,56.5,27.9,15.5,0.0,9.5,10.6',\n",
       " 'Rwanda,9.0,6.9,2.1,14.8,0.2,2.7,82.3,8.4,7.6',\n",
       " 'Cameroon,8.9,6.5,2.4,43.5,1.4,0.1,54.9,9.5,10.2',\n",
       " 'Canada,8.9,8.1,0.9,45.1,25.6,25.6,3.7,9.1,9.2',\n",
       " 'Croatia,8.9,9.9,1.4,44.5,39.0,13.0,3.5,8.8,8.2',\n",
       " 'Netherlands,8.7,7.5,0.6,47.8,35.8,16.4,0.0,9.0,8.8',\n",
       " 'Ukraine,8.6,5.4,3.1,42.3,5.4,51.5,0.8,9.5,10.0',\n",
       " 'Botswana,8.4,6.2,2.2,48.1,23.5,4.4,24.0,10.0,11.8',\n",
       " 'Ivory Coast,8.4,4.8,3.6,21.9,5.0,0.2,72.9,8.4,8.5',\n",
       " 'Trinidad and Tobago,8.4,7.3,1.1,57.9,3.3,37.1,1.7,9.0,9.5',\n",
       " 'Thailand,8.3,6.6,1.7,28.3,2.7,68.9,0.0,8.7,9.3',\n",
       " 'Vietnam,8.3,3.1,5.3,91.5,0.8,7.7,0.0,9.9,11.4',\n",
       " 'Burkina Faso,8.2,4.9,3.3,18.0,2.7,5.0,74.2,8.2,8.3',\n",
       " 'Dominica,8.2,7.3,1.8,11.1,0.0,88.9,0.0,7.5,6.9',\n",
       " 'Saint Vincent and the Grenadines,8.2,7.4,1.4,36.6,3.6,57.2,2.6,8.4,8.7',\n",
       " 'Malta,8.1,7.8,1.2,36.4,29.9,28.7,4.9,8.3,8.5',\n",
       " 'North Macedonia,8.1,4.9,3.6,35.3,46.6,17.4,0.7,7.5,6.6',\n",
       " 'Japan,8.0,6.9,1.1,18.2,5.5,40.0,36.3,8.0,7.9',\n",
       " 'Montenegro,8.0,6.4,1.7,10.8,43.1,44.1,2.0,7.9,7.9',\n",
       " 'Panama,7.9,6.8,1.2,76.9,3.5,19.4,0.3,8.0,8.4',\n",
       " 'Brazil,7.8,6.5,1.2,61.8,3.4,34.3,0.5,7.8,8.3',\n",
       " 'Congo,7.8,4.9,3.0,84.4,4.7,10.3,0.6,7.8,8.2',\n",
       " 'Kazakhstan,7.7,5.8,1.9,30.5,6.5,62.9,0.0,8.1,8.8',\n",
       " 'Albania,7.5,5.0,2.5,34.3,26.5,37.6,1.7,8.3,9.2',\n",
       " 'Burundi,7.5,4.1,3.4,39.3,0.1,0.1,60.5,7.0,6.6',\n",
       " 'Italy,7.5,7.1,0.5,25.4,64.8,9.8,0.0,7.0,6.1',\n",
       " 'Norway,7.5,6.0,1.1,43.9,36.7,16.7,2.7,7.8,8.2',\n",
       " 'Mongolia,7.4,5.7,1.7,43.6,1.9,54.5,0.0,6.2,9.1',\n",
       " 'China,7.2,5.7,1.5,29.6,3.1,67.2,0.0,7.5,8.1',\n",
       " 'Paraguay,7.2,5.7,1.7,54.2,17.4,27.3,1.1,8.3,9.7',\n",
       " 'Antigua and Barbuda,7.0,8.4,1.2,33.0,18.3,45.4,3.2,7.6,8.4',\n",
       " 'Niue,7.0,6.0,1.0,56.3,13.1,30.6,0.0,7.0,7.0',\n",
       " 'Dominican Republic,6.9,5.7,1.3,52.2,4.4,41.9,1.5,7.3,8.0',\n",
       " 'São Tomé and Príncipe,6.8,4.9,2.0,19.8,80.2,0.0,0.0,7.1,7.4',\n",
       " 'Belize,6.7,6.2,1.4,69.1,1.9,26.7,2.3,7.0,7.2',\n",
       " 'Cambodia,6.7,3.5,3.2,88.1,0.6,11.2,0.1,7.2,8.1',\n",
       " 'Philippines,6.6,4.5,2.1,27.3,0.4,72.0,0.3,6.8,7.0',\n",
       " 'Mexico,6.5,5.4,1.4,77.1,2.1,20.4,0.5,7.0,7.7',\n",
       " 'Angola,6.4,5.0,1.4,70.3,17.6,11.3,0.8,6.1,6.6',\n",
       " 'Bosnia and Herzegovina,6.4,4.4,1.8,75.8,8.6,12.4,3.2,7.0,7.8',\n",
       " 'Guyana,6.3,5.1,1.2,48.4,0.2,50.8,0.6,6.3,6.1',\n",
       " 'Peru,6.3,5.1,1.2,60.1,8.1,31.8,0.0,6.3,6.4',\n",
       " 'Kyrgyzstan,6.2,4.1,2.1,11.6,2.2,86.2,0.0,6.5,7.4',\n",
       " 'Cuba,6.1,4.7,1.5,37.3,4.9,57.4,0.4,6.1,6.4',\n",
       " 'Nauru,6.0,3.5,2.5,22.0,3.7,74.3,0.0,0.0,6.3',\n",
       " 'Colombia,5.8,4.4,1.4,71.3,1.1,27.2,0.3,5.6,5.3',\n",
       " 'Haiti,5.8,5.8,0.0,2.3,0.3,97.3,0.1,5.9,6.0',\n",
       " 'Liberia,5.8,3.5,2.2,9.4,1.8,88.2,0.6,5.4,4.9',\n",
       " 'Cape Verde,5.7,4.1,1.6,55.0,45.0,0.0,0.0,6.0,6.2',\n",
       " 'India,5.7,3.0,2.6,7.5,0.1,92.4,0.0,6.6,7.9',\n",
       " 'Sierra Leone,5.7,3.4,2.2,4.0,1.1,0.0,94.9,5.2,4.7',\n",
       " 'Venezuela,5.6,4.6,1.1,69.2,0.3,29.2,1.3,4.5,3.9',\n",
       " 'Armenia,5.5,3.8,1.7,10.6,7.0,82.3,0.1,5.7,6.1',\n",
       " 'Turkmenistan,5.4,3.4,2.0,26.8,35.1,38.0,0.0,6.0,6.8',\n",
       " 'Nicaragua,5.2,3.8,1.4,39.7,0.8,59.5,0.1,5.4,5.8',\n",
       " 'Suriname,5.1,4.3,0.9,44.9,3.5,48.8,2.8,5.1,5.1',\n",
       " 'Lesotho,5.0,3.0,2.0,57.4,3.2,10.5,28.9,4.6,4.6',\n",
       " 'Bolivia,4.8,3.6,1.2,72.8,4.3,21.3,1.6,4.9,5.2',\n",
       " 'Costa Rica,4.8,3.7,1.1,64.1,7.2,27.9,0.8,4.8,4.8',\n",
       " 'Guinea-Bissau,4.8,2.8,1.9,13.7,31.3,13.7,41.2,4.8,4.8',\n",
       " 'Myanmar,4.8,1.6,3.2,22.4,9.8,67.7,0.0,5.9,6.4',\n",
       " 'Zambia,4.8,2.9,2.0,36.4,2.7,0.4,60.4,4.8,4.7',\n",
       " 'Zimbabwe,4.8,3.6,1.3,62.8,1.3,12.0,23.9,4.5,4.2',\n",
       " 'Bahamas,4.4,8.6,1.2,39.2,16.6,41.2,3.0,4.4,4.3',\n",
       " 'Ecuador,4.4,3.3,1.1,79.9,1.5,17.8,0.7,4.5,5.1',\n",
       " 'Sri Lanka,4.3,2.7,1.6,13.2,0.3,84.9,1.5,4.6,5.1',\n",
       " 'Jamaica,4.2,3.4,1.1,36.3,4.8,54.2,4.6,4.1,4.0',\n",
       " 'Honduras,4.0,2.9,1.2,46.6,1.2,52.1,0.1,4.1,4.3',\n",
       " 'North Korea,3.9,3.4,0.5,2.7,0.0,97.3,0.0,3.6,3.3',\n",
       " 'Gambia,3.8,3.0,0.9,8.5,2.1,0.0,89.4,3.9,4.1',\n",
       " 'Israel,3.8,2.6,1.2,54.4,4.7,39.5,1.4,4.0,4.3',\n",
       " 'United Arab Emirates,3.8,2.1,1.8,10.1,7.7,81.9,0.3,4.2,5.5',\n",
       " 'El Salvador,3.7,2.7,1.1,47.8,1.3,50.7,0.1,4.1,4.9',\n",
       " 'Malawi,3.7,2.0,1.7,8.8,0.8,11.3,79.1,3.9,4.3',\n",
       " 'Mauritius,3.6,2.6,1.2,53.9,15.4,30.8,0.0,3.6,3.5',\n",
       " 'Kenya,3.4,1.9,1.5,39.8,1.8,21.4,37.0,2.7,3.1',\n",
       " 'Central African Republic,3.3,1.7,1.6,25.9,0.7,0.0,73.5,3.2,3.2',\n",
       " 'Tajikistan,3.3,0.9,2.3,37.9,0.7,60.9,0.4,4.0,4.9',\n",
       " 'Togo,3.1,1.7,1.4,37.0,16.0,18.2,28.8,3.1,3.1',\n",
       " 'Benin,3.0,1.6,1.5,63.7,9.6,13.1,13.6,3.7,4.6',\n",
       " 'Fiji,3.0,2.2,1.0,69.8,1.2,28.9,0.0,3.0,3.1',\n",
       " 'Ethiopia,2.8,1.4,1.4,54.6,0.3,8.3,36.9,3.5,3.7',\n",
       " 'Ghana,2.7,1.6,1.1,28.3,6.6,8.0,57.1,2.7,2.7',\n",
       " 'Maldives,2.7,1.3,1.9,30.8,37.2,31.9,0.0,3.0,3.0',\n",
       " 'Uzbekistan,2.7,1.6,1.1,34.4,8.6,56.9,0.0,2.6,2.6',\n",
       " 'DR Congo,2.6,1.3,1.3,38.9,0.6,0.7,59.9,3.2,3.4',\n",
       " 'Micronesia,2.5,1.6,0.9,58.1,8.5,32.8,0.6,8.3,2.9',\n",
       " 'Samoa,2.5,2.0,0.7,94.1,5.9,0.0,0.0,2.9,3.3',\n",
       " 'Guatemala,2.4,1.6,0.9,56.1,2.1,41.7,0.2,2.4,2.3',\n",
       " 'Mozambique,2.4,1.3,1.1,78.7,8.3,12.4,0.6,2.5,2.6',\n",
       " 'East Timor,2.1,0.6,1.5,67.6,32.4,0.0,0.0,3.8,5.5',\n",
       " 'Nepal,2.0,0.6,1.4,31.0,49.0,20.0,0.0,2.3,2.6',\n",
       " 'Qatar,2.0,1.3,0.7,25.9,10.2,63.4,0.5,2.1,2.2',\n",
       " 'Singapore,2.0,1.8,0.3,70.0,14.6,13.4,2.1,2.0,2.0',\n",
       " 'Turkey,2.0,1.3,0.7,57.6,8.6,33.8,0.0,1.9,1.9',\n",
       " 'Bahrain,1.9,2.1,0.1,19.0,6.2,45.2,29.6,1.9,1.8',\n",
       " 'Madagascar,1.9,0.9,1.1,53.8,8.2,38.0,0.0,1.8,1.6',\n",
       " 'Tunisia,1.9,1.4,0.6,72.2,23.9,3.8,0.1,2.0,2.1',\n",
       " 'Tuvalu,1.7,1.2,0.5,0.6,84.7,14.1,0.0,1.7,1.7',\n",
       " 'Chad,1.5,0.7,0.9,70.2,1.0,5.3,23.5,1.7,1.8',\n",
       " 'Lebanon,1.5,1.2,0.4,33.9,15.4,49.2,1.5,1.4,1.2',\n",
       " 'Tonga,1.5,1.1,0.7,60.7,11.5,27.9,0.0,1.6,1.7',\n",
       " 'Solomon Islands,1.4,1.0,0.4,93.3,2.9,3.3,0.5,1.3,1.2',\n",
       " 'Eritrea,1.3,0.6,0.7,62.1,0.1,0.2,37.7,1.9,2.8',\n",
       " 'Guinea,1.3,0.4,0.9,91.1,8.9,0.0,0.0,1.1,1.0',\n",
       " 'Mali,1.3,0.6,0.7,15.8,1.2,0.0,83.0,1.3,1.3',\n",
       " 'Papua New Guinea,1.2,0.7,0.5,95.2,2.7,2.1,0.0,1.2,1.1',\n",
       " 'Iran,1.0,0.0,1.0,,,,,1.0,1.0',\n",
       " 'Vanuatu,1.0,0.8,0.4,38.5,25.4,36.1,0.0,1.4,1.5',\n",
       " 'Algeria,0.9,0.6,0.4,57.3,24.4,18.3,0.0,1.0,1.1',\n",
       " 'Comoros,0.9,0.1,0.8,24.6,30.6,44.8,0.0,1.0,1.1',\n",
       " 'Malaysia,0.9,0.6,0.4,60.7,21.0,17.4,0.8,0.9,0.8',\n",
       " 'Azerbaijan,0.8,0.5,0.3,61.5,36.9,0.0,1.5,0.7,0.9',\n",
       " 'Indonesia,0.8,0.3,0.5,18.5,76.4,4.6,0.6,1.1,1.6',\n",
       " 'Oman,0.8,0.4,0.4,39.8,2.8,57.0,0.3,0.8,0.9',\n",
       " 'Jordan,0.7,0.4,0.4,19.9,2.6,75.9,1.6,0.8,1.0',\n",
       " 'Senegal,0.7,0.2,0.5,56.4,34.1,8.5,1.0,0.7,0.6',\n",
       " 'Bhutan,0.6,0.2,0.4,46.2,4.2,49.6,0.0,0.5,0.4',\n",
       " 'Morocco,0.6,0.4,0.3,42.9,39.8,17.0,0.4,0.7,0.7',\n",
       " 'Djibouti,0.5,0.4,0.2,27.5,16.7,55.0,0.9,0.6,0.7',\n",
       " 'Niger,0.5,0.1,0.4,45.0,13.7,41.4,0.0,0.6,0.7',\n",
       " 'Sudan,0.5,0.0,0.5,,,,,0.0,0.0',\n",
       " 'Brunei,0.4,0.6,0.2,100.0,0.0,0.0,0.0,0.4,0.3',\n",
       " 'Egypt,0.4,0.2,0.2,62.0,4.4,33.1,0.6,0.4,0.5',\n",
       " 'Iraq,0.4,0.2,0.2,71.0,2.4,25.7,0.9,0.5,0.6',\n",
       " 'Kiribati,0.4,0.4,0.2,100.0,0.0,0.0,0.0,0.4,0.4',\n",
       " 'Pakistan,0.3,0.0,0.3,,,,,0.3,0.4',\n",
       " 'Syria,0.3,0.2,0.1,11.6,1.1,87.2,0.0,0.3,0.3',\n",
       " 'Afghanistan,0.2,0.0,0.2,,,,,0.2,0.2',\n",
       " 'Saudi Arabia,0.2,0.1,0.2,,,,,0.2,0.2',\n",
       " 'Yemen,0.1,0.0,0.0,89.5,0.0,10.5,0.0,0.1,0.1',\n",
       " 'Bangladesh,0.0,0.0,0.0,,,,,0.0,0.0',\n",
       " 'Kuwait,0.0,0.0,0.0,,,,,0.0,0.0',\n",
       " 'Libya,0.0,0.0,0.0,,,,,0.0,0.0',\n",
       " 'Mauritania,0.0,0.0,0.0,,,,,0.0,0.0',\n",
       " 'Somalia,0.0,0.0,0.0,,,,,0.0,0.0']"
      ]
     },
     "execution_count": 55,
     "metadata": {},
     "output_type": "execute_result"
    }
   ],
   "source": [
    "data = sc.textFile('/user/alcohol-consumption.csv')\n",
    "data.collect()"
   ]
  },
  {
   "cell_type": "code",
   "execution_count": 57,
   "id": "06668db8",
   "metadata": {},
   "outputs": [
    {
     "data": {
      "text/plain": [
       "[('country',\n",
       "  ['total_consumption',\n",
       "   'recorded_consumption',\n",
       "   'unrecorded_consumption',\n",
       "   'beer_percentage',\n",
       "   'wine_percentage',\n",
       "   'spirits_percentage',\n",
       "   'other_percentage',\n",
       "   '2020_projection',\n",
       "   '2025_projection']),\n",
       " ('Estonia',\n",
       "  ['16.9', '15.8', '1.1', '32.7', '7.4', '50.3', '9.6', '11.5', '11.9']),\n",
       " ('Lithuania',\n",
       "  ['15.0', '13.8', '1.2', '43.6', '7.3', '37.1', '12.1', '14.4', '13.9']),\n",
       " ('Czech Republic',\n",
       "  ['14.3', '12.4', '1.4', '53.3', '21.3', '25.4', '0.0', '11.2', '11.4']),\n",
       " ('Seychelles',\n",
       "  ['13.8', '12.4', '1.4', '68.9', '22.4', '6.3', '2.5', '10.4', '10.6']),\n",
       " ('Germany',\n",
       "  ['13.4', '11.3', '1.4', '52.6', '28.4', '18.9', '0.0', '12.8', '12.6']),\n",
       " ('Nigeria',\n",
       "  ['13.4', '9.6', '3.8', '7.9', '0.4', '0.6', '91.1', '13.0', '12.5']),\n",
       " ('Ireland',\n",
       "  ['13.0', '11.3', '1.4', '47.0', '28.0', '18.8', '6.2', '13.5', '13.9']),\n",
       " ('Moldova',\n",
       "  ['13.0', '11.5', '1.4', '35.4', '44.6', '20.0', '0.0', '12.6', '12.4']),\n",
       " ('Latvia',\n",
       "  ['12.9', '11.1', '1.9', '42.8', '11.1', '40.0', '6.1', '14.0', '15.1']),\n",
       " ('Bulgaria',\n",
       "  ['12.7', '11.4', '1.3', '38.8', '17.2', '42.9', '1.2', '13.0', '13.4']),\n",
       " ('France',\n",
       "  ['12.6', '11.8', '1.5', '18.8', '58.8', '20.7', '1.7', '12.3', '12.1']),\n",
       " ('Romania',\n",
       "  ['12.6', '10.4', '2.2', '55.6', '28.1', '16.4', '0.0', '13.2', '13.8']),\n",
       " ('Slovenia',\n",
       "  ['12.6', '10.8', '1.8', '41.4', '50.6', '8.0', '0.0', '11.6', '10.6']),\n",
       " ('Portugal',\n",
       "  ['12.3', '10.6', '2.1', '26.1', '61.5', '7.7', '4.7', '11.8', '11.0']),\n",
       " ('Luxembourg',\n",
       "  ['12.3', '10.6', '2.1', '26.1', '61.5', '7.7', '4.7', '11.8', '11.0']),\n",
       " ('Belgium',\n",
       "  ['12.1', '10.4', '1.0', '44.4', '38.3', '14.2', '3.1', '12.2', '12.3']),\n",
       " ('Russia',\n",
       "  ['11.7', '8.1', '3.6', '39.0', '12.8', '38.6', '9.5', '12.3', '12.4']),\n",
       " ('Austria',\n",
       "  ['11.6', '11.4', '0.4', '53.5', '31.6', '14.9', '0.0', '11.7', '11.4']),\n",
       " ('Poland',\n",
       "  ['11.6', '10.4', '1.7', '56.1', '7.8', '36.1', '0.0', '12.0', '12.7']),\n",
       " ('Gabon',\n",
       "  ['11.5', '9.5', '1.9', '76.3', '9.2', '13.4', '1.1', '10.7', '10.9']),\n",
       " ('Slovakia',\n",
       "  ['11.5', '10.4', '1.6', '33.7', '20.9', '41.9', '3.5', '11.2', '11.3']),\n",
       " ('Switzerland',\n",
       "  ['11.5', '9.5', '1.2', '32.1', '48.1', '18.5', '1.2', '10.9', '10.3']),\n",
       " ('Hungary',\n",
       "  ['11.4', '10.9', '1.5', '35.5', '32.2', '32.3', '0.0', '11.2', '10.9']),\n",
       " ('United Kingdom',\n",
       "  ['11.4', '9.8', '1.1', '35.0', '35.7', '22.5', '6.7', '11.5', '11.8']),\n",
       " ('Andorra',\n",
       "  ['11.3', '10.1', '1.6', '34.1', '42.0', '23.9', '0.0', '11.0', '10.5']),\n",
       " ('Equatorial Guinea',\n",
       "  ['11.3', '9.9', '1.4', '83.0', '17.0', '0.0', '0.0', '11.8', '12.4']),\n",
       " ('Belarus',\n",
       "  ['11.2', '9.6', '1.5', '22.8', '2.2', '49.0', '26.0', '12.4', '13.2']),\n",
       " ('Serbia',\n",
       "  ['11.1', '9.2', '1.8', '32.0', '42.5', '25.4', '0.1', '11.3', '11.6']),\n",
       " ('Cyprus',\n",
       "  ['10.8', '9.6', '1.8', '29.7', '28.4', '41.9', '0.0', '11.0', '11.6']),\n",
       " ('Uruguay',\n",
       "  ['10.8', '9.0', '1.9', '35.2', '43.7', '21.1', '0.0', '12.1', '13.3']),\n",
       " ('Finland',\n",
       "  ['10.7', '8.4', '2.0', '48.8', '20.6', '21.5', '9.1', '10.8', '10.9']),\n",
       " ('New Zealand',\n",
       "  ['10.7', '9.1', '1.3', '37.4', '33.4', '28.9', '0.3', '10.6', '10.4']),\n",
       " ('Australia',\n",
       "  ['10.6', '9.6', '0.8', '39.9', '37.5', '12.9', '9.8', '10.5', '10.3']),\n",
       " ('Cook Islands',\n",
       "  ['10.6', '10.0', '0.6', '31.7', '16.1', '52.2', '0.0', '16.2', '18.3']),\n",
       " ('Denmark',\n",
       "  ['10.4', '9.5', '1.2', '37.4', '44.7', '17.1', '0.8', '10.3', '10.3']),\n",
       " ('Greece',\n",
       "  ['10.4', '6.4', '4.3', '31.5', '45.5', '21.8', '1.3', '10.7', '10.8']),\n",
       " ('Laos',\n",
       "  ['10.4', '7.0', '3.4', '50.1', '0.0', '49.8', '0.0', '10.5', '10.9']),\n",
       " ('South Korea',\n",
       "  ['10.2', '9.1', '1.2', '22.2', '1.9', '7.1', '68.9', '10.4', '10.6']),\n",
       " ('Spain',\n",
       "  ['10.0', '8.5', '1.8', '54.2', '18.0', '27.8', '0.0', '9.6', '8.9']),\n",
       " ('Eswatini',\n",
       "  ['9.9', '7.4', '2.7', '24.6', '16.1', '0.0', '59.3', '10.0', '10.1']),\n",
       " ('Saint Lucia',\n",
       "  ['9.9', '9.7', '1.5', '35.4', '13.2', '50.0', '1.4', '9.6', '9.1']),\n",
       " ('Argentina',\n",
       "  ['9.8', '8.4', '1.3', '39.9', '40.2', '9.6', '10.3', '10.0', '10.3']),\n",
       " ('Georgia',\n",
       "  ['9.8', '7.4', '2.3', '18.4', '43.0', '38.5', '0.1', '10.5', '11.6']),\n",
       " ('Namibia',\n",
       "  ['9.8', '7.8', '2.0', '60.2', '10.4', '13.9', '15.6', '9.2', '8.5']),\n",
       " ('United States',\n",
       "  ['9.8', '8.8', '0.8', '47.0', '18.1', '34.9', '0.0', '10.1', '10.3']),\n",
       " ('Barbados',\n",
       "  ['9.6', '9.2', '1.4', '37.6', '10.5', '50.0', '1.9', '9.9', '10.5']),\n",
       " ('Uganda',\n",
       "  ['9.5', '7.6', '1.8', '11.0', '0.1', '3.1', '85.8', '9.8', '10.3']),\n",
       " ('Saint Kitts and Nevis',\n",
       "  ['9.4', '8.9', '0.5', '47.8', '6.5', '43.4', '2.3', '9.7', '10.3']),\n",
       " ('Tanzania',\n",
       "  ['9.4', '6.2', '3.2', '12.2', '0.4', '1.6', '85.8', '9.6', '9.9']),\n",
       " ('Chile', ['9.3', '7.9', '1.4', '36.1', '33.1', '30.8', '0.0', '9.2', '9.1']),\n",
       " ('Grenada',\n",
       "  ['9.3', '8.8', '1.4', '40.9', '7.0', '48.3', '3.8', '9.4', '9.6']),\n",
       " ('South Africa',\n",
       "  ['9.3', '7.1', '2.2', '56.0', '18.5', '17.8', '7.6', '9.2', '9.0']),\n",
       " ('Sweden',\n",
       "  ['9.2', '7.2', '2.0', '36.4', '47.8', '14.1', '1.7', '9.8', '10.1']),\n",
       " ('Iceland',\n",
       "  ['9.1', '7.7', '1.5', '56.5', '27.9', '15.5', '0.0', '9.5', '10.6']),\n",
       " ('Rwanda', ['9.0', '6.9', '2.1', '14.8', '0.2', '2.7', '82.3', '8.4', '7.6']),\n",
       " ('Cameroon',\n",
       "  ['8.9', '6.5', '2.4', '43.5', '1.4', '0.1', '54.9', '9.5', '10.2']),\n",
       " ('Canada',\n",
       "  ['8.9', '8.1', '0.9', '45.1', '25.6', '25.6', '3.7', '9.1', '9.2']),\n",
       " ('Croatia',\n",
       "  ['8.9', '9.9', '1.4', '44.5', '39.0', '13.0', '3.5', '8.8', '8.2']),\n",
       " ('Netherlands',\n",
       "  ['8.7', '7.5', '0.6', '47.8', '35.8', '16.4', '0.0', '9.0', '8.8']),\n",
       " ('Ukraine',\n",
       "  ['8.6', '5.4', '3.1', '42.3', '5.4', '51.5', '0.8', '9.5', '10.0']),\n",
       " ('Botswana',\n",
       "  ['8.4', '6.2', '2.2', '48.1', '23.5', '4.4', '24.0', '10.0', '11.8']),\n",
       " ('Ivory Coast',\n",
       "  ['8.4', '4.8', '3.6', '21.9', '5.0', '0.2', '72.9', '8.4', '8.5']),\n",
       " ('Trinidad and Tobago',\n",
       "  ['8.4', '7.3', '1.1', '57.9', '3.3', '37.1', '1.7', '9.0', '9.5']),\n",
       " ('Thailand',\n",
       "  ['8.3', '6.6', '1.7', '28.3', '2.7', '68.9', '0.0', '8.7', '9.3']),\n",
       " ('Vietnam',\n",
       "  ['8.3', '3.1', '5.3', '91.5', '0.8', '7.7', '0.0', '9.9', '11.4']),\n",
       " ('Burkina Faso',\n",
       "  ['8.2', '4.9', '3.3', '18.0', '2.7', '5.0', '74.2', '8.2', '8.3']),\n",
       " ('Dominica',\n",
       "  ['8.2', '7.3', '1.8', '11.1', '0.0', '88.9', '0.0', '7.5', '6.9']),\n",
       " ('Saint Vincent and the Grenadines',\n",
       "  ['8.2', '7.4', '1.4', '36.6', '3.6', '57.2', '2.6', '8.4', '8.7']),\n",
       " ('Malta', ['8.1', '7.8', '1.2', '36.4', '29.9', '28.7', '4.9', '8.3', '8.5']),\n",
       " ('North Macedonia',\n",
       "  ['8.1', '4.9', '3.6', '35.3', '46.6', '17.4', '0.7', '7.5', '6.6']),\n",
       " ('Japan', ['8.0', '6.9', '1.1', '18.2', '5.5', '40.0', '36.3', '8.0', '7.9']),\n",
       " ('Montenegro',\n",
       "  ['8.0', '6.4', '1.7', '10.8', '43.1', '44.1', '2.0', '7.9', '7.9']),\n",
       " ('Panama', ['7.9', '6.8', '1.2', '76.9', '3.5', '19.4', '0.3', '8.0', '8.4']),\n",
       " ('Brazil', ['7.8', '6.5', '1.2', '61.8', '3.4', '34.3', '0.5', '7.8', '8.3']),\n",
       " ('Congo', ['7.8', '4.9', '3.0', '84.4', '4.7', '10.3', '0.6', '7.8', '8.2']),\n",
       " ('Kazakhstan',\n",
       "  ['7.7', '5.8', '1.9', '30.5', '6.5', '62.9', '0.0', '8.1', '8.8']),\n",
       " ('Albania',\n",
       "  ['7.5', '5.0', '2.5', '34.3', '26.5', '37.6', '1.7', '8.3', '9.2']),\n",
       " ('Burundi',\n",
       "  ['7.5', '4.1', '3.4', '39.3', '0.1', '0.1', '60.5', '7.0', '6.6']),\n",
       " ('Italy', ['7.5', '7.1', '0.5', '25.4', '64.8', '9.8', '0.0', '7.0', '6.1']),\n",
       " ('Norway',\n",
       "  ['7.5', '6.0', '1.1', '43.9', '36.7', '16.7', '2.7', '7.8', '8.2']),\n",
       " ('Mongolia',\n",
       "  ['7.4', '5.7', '1.7', '43.6', '1.9', '54.5', '0.0', '6.2', '9.1']),\n",
       " ('China', ['7.2', '5.7', '1.5', '29.6', '3.1', '67.2', '0.0', '7.5', '8.1']),\n",
       " ('Paraguay',\n",
       "  ['7.2', '5.7', '1.7', '54.2', '17.4', '27.3', '1.1', '8.3', '9.7']),\n",
       " ('Antigua and Barbuda',\n",
       "  ['7.0', '8.4', '1.2', '33.0', '18.3', '45.4', '3.2', '7.6', '8.4']),\n",
       " ('Niue', ['7.0', '6.0', '1.0', '56.3', '13.1', '30.6', '0.0', '7.0', '7.0']),\n",
       " ('Dominican Republic',\n",
       "  ['6.9', '5.7', '1.3', '52.2', '4.4', '41.9', '1.5', '7.3', '8.0']),\n",
       " ('São Tomé and Príncipe',\n",
       "  ['6.8', '4.9', '2.0', '19.8', '80.2', '0.0', '0.0', '7.1', '7.4']),\n",
       " ('Belize', ['6.7', '6.2', '1.4', '69.1', '1.9', '26.7', '2.3', '7.0', '7.2']),\n",
       " ('Cambodia',\n",
       "  ['6.7', '3.5', '3.2', '88.1', '0.6', '11.2', '0.1', '7.2', '8.1']),\n",
       " ('Philippines',\n",
       "  ['6.6', '4.5', '2.1', '27.3', '0.4', '72.0', '0.3', '6.8', '7.0']),\n",
       " ('Mexico', ['6.5', '5.4', '1.4', '77.1', '2.1', '20.4', '0.5', '7.0', '7.7']),\n",
       " ('Angola',\n",
       "  ['6.4', '5.0', '1.4', '70.3', '17.6', '11.3', '0.8', '6.1', '6.6']),\n",
       " ('Bosnia and Herzegovina',\n",
       "  ['6.4', '4.4', '1.8', '75.8', '8.6', '12.4', '3.2', '7.0', '7.8']),\n",
       " ('Guyana', ['6.3', '5.1', '1.2', '48.4', '0.2', '50.8', '0.6', '6.3', '6.1']),\n",
       " ('Peru', ['6.3', '5.1', '1.2', '60.1', '8.1', '31.8', '0.0', '6.3', '6.4']),\n",
       " ('Kyrgyzstan',\n",
       "  ['6.2', '4.1', '2.1', '11.6', '2.2', '86.2', '0.0', '6.5', '7.4']),\n",
       " ('Cuba', ['6.1', '4.7', '1.5', '37.3', '4.9', '57.4', '0.4', '6.1', '6.4']),\n",
       " ('Nauru', ['6.0', '3.5', '2.5', '22.0', '3.7', '74.3', '0.0', '0.0', '6.3']),\n",
       " ('Colombia',\n",
       "  ['5.8', '4.4', '1.4', '71.3', '1.1', '27.2', '0.3', '5.6', '5.3']),\n",
       " ('Haiti', ['5.8', '5.8', '0.0', '2.3', '0.3', '97.3', '0.1', '5.9', '6.0']),\n",
       " ('Liberia', ['5.8', '3.5', '2.2', '9.4', '1.8', '88.2', '0.6', '5.4', '4.9']),\n",
       " ('Cape Verde',\n",
       "  ['5.7', '4.1', '1.6', '55.0', '45.0', '0.0', '0.0', '6.0', '6.2']),\n",
       " ('India', ['5.7', '3.0', '2.6', '7.5', '0.1', '92.4', '0.0', '6.6', '7.9']),\n",
       " ('Sierra Leone',\n",
       "  ['5.7', '3.4', '2.2', '4.0', '1.1', '0.0', '94.9', '5.2', '4.7']),\n",
       " ('Venezuela',\n",
       "  ['5.6', '4.6', '1.1', '69.2', '0.3', '29.2', '1.3', '4.5', '3.9']),\n",
       " ('Armenia',\n",
       "  ['5.5', '3.8', '1.7', '10.6', '7.0', '82.3', '0.1', '5.7', '6.1']),\n",
       " ('Turkmenistan',\n",
       "  ['5.4', '3.4', '2.0', '26.8', '35.1', '38.0', '0.0', '6.0', '6.8']),\n",
       " ('Nicaragua',\n",
       "  ['5.2', '3.8', '1.4', '39.7', '0.8', '59.5', '0.1', '5.4', '5.8']),\n",
       " ('Suriname',\n",
       "  ['5.1', '4.3', '0.9', '44.9', '3.5', '48.8', '2.8', '5.1', '5.1']),\n",
       " ('Lesotho',\n",
       "  ['5.0', '3.0', '2.0', '57.4', '3.2', '10.5', '28.9', '4.6', '4.6']),\n",
       " ('Bolivia',\n",
       "  ['4.8', '3.6', '1.2', '72.8', '4.3', '21.3', '1.6', '4.9', '5.2']),\n",
       " ('Costa Rica',\n",
       "  ['4.8', '3.7', '1.1', '64.1', '7.2', '27.9', '0.8', '4.8', '4.8']),\n",
       " ('Guinea-Bissau',\n",
       "  ['4.8', '2.8', '1.9', '13.7', '31.3', '13.7', '41.2', '4.8', '4.8']),\n",
       " ('Myanmar',\n",
       "  ['4.8', '1.6', '3.2', '22.4', '9.8', '67.7', '0.0', '5.9', '6.4']),\n",
       " ('Zambia', ['4.8', '2.9', '2.0', '36.4', '2.7', '0.4', '60.4', '4.8', '4.7']),\n",
       " ('Zimbabwe',\n",
       "  ['4.8', '3.6', '1.3', '62.8', '1.3', '12.0', '23.9', '4.5', '4.2']),\n",
       " ('Bahamas',\n",
       "  ['4.4', '8.6', '1.2', '39.2', '16.6', '41.2', '3.0', '4.4', '4.3']),\n",
       " ('Ecuador',\n",
       "  ['4.4', '3.3', '1.1', '79.9', '1.5', '17.8', '0.7', '4.5', '5.1']),\n",
       " ('Sri Lanka',\n",
       "  ['4.3', '2.7', '1.6', '13.2', '0.3', '84.9', '1.5', '4.6', '5.1']),\n",
       " ('Jamaica',\n",
       "  ['4.2', '3.4', '1.1', '36.3', '4.8', '54.2', '4.6', '4.1', '4.0']),\n",
       " ('Honduras',\n",
       "  ['4.0', '2.9', '1.2', '46.6', '1.2', '52.1', '0.1', '4.1', '4.3']),\n",
       " ('North Korea',\n",
       "  ['3.9', '3.4', '0.5', '2.7', '0.0', '97.3', '0.0', '3.6', '3.3']),\n",
       " ('Gambia', ['3.8', '3.0', '0.9', '8.5', '2.1', '0.0', '89.4', '3.9', '4.1']),\n",
       " ('Israel', ['3.8', '2.6', '1.2', '54.4', '4.7', '39.5', '1.4', '4.0', '4.3']),\n",
       " ('United Arab Emirates',\n",
       "  ['3.8', '2.1', '1.8', '10.1', '7.7', '81.9', '0.3', '4.2', '5.5']),\n",
       " ('El Salvador',\n",
       "  ['3.7', '2.7', '1.1', '47.8', '1.3', '50.7', '0.1', '4.1', '4.9']),\n",
       " ('Malawi', ['3.7', '2.0', '1.7', '8.8', '0.8', '11.3', '79.1', '3.9', '4.3']),\n",
       " ('Mauritius',\n",
       "  ['3.6', '2.6', '1.2', '53.9', '15.4', '30.8', '0.0', '3.6', '3.5']),\n",
       " ('Kenya', ['3.4', '1.9', '1.5', '39.8', '1.8', '21.4', '37.0', '2.7', '3.1']),\n",
       " ('Central African Republic',\n",
       "  ['3.3', '1.7', '1.6', '25.9', '0.7', '0.0', '73.5', '3.2', '3.2']),\n",
       " ('Tajikistan',\n",
       "  ['3.3', '0.9', '2.3', '37.9', '0.7', '60.9', '0.4', '4.0', '4.9']),\n",
       " ('Togo', ['3.1', '1.7', '1.4', '37.0', '16.0', '18.2', '28.8', '3.1', '3.1']),\n",
       " ('Benin', ['3.0', '1.6', '1.5', '63.7', '9.6', '13.1', '13.6', '3.7', '4.6']),\n",
       " ('Fiji', ['3.0', '2.2', '1.0', '69.8', '1.2', '28.9', '0.0', '3.0', '3.1']),\n",
       " ('Ethiopia',\n",
       "  ['2.8', '1.4', '1.4', '54.6', '0.3', '8.3', '36.9', '3.5', '3.7']),\n",
       " ('Ghana', ['2.7', '1.6', '1.1', '28.3', '6.6', '8.0', '57.1', '2.7', '2.7']),\n",
       " ('Maldives',\n",
       "  ['2.7', '1.3', '1.9', '30.8', '37.2', '31.9', '0.0', '3.0', '3.0']),\n",
       " ('Uzbekistan',\n",
       "  ['2.7', '1.6', '1.1', '34.4', '8.6', '56.9', '0.0', '2.6', '2.6']),\n",
       " ('DR Congo',\n",
       "  ['2.6', '1.3', '1.3', '38.9', '0.6', '0.7', '59.9', '3.2', '3.4']),\n",
       " ('Micronesia',\n",
       "  ['2.5', '1.6', '0.9', '58.1', '8.5', '32.8', '0.6', '8.3', '2.9']),\n",
       " ('Samoa', ['2.5', '2.0', '0.7', '94.1', '5.9', '0.0', '0.0', '2.9', '3.3']),\n",
       " ('Guatemala',\n",
       "  ['2.4', '1.6', '0.9', '56.1', '2.1', '41.7', '0.2', '2.4', '2.3']),\n",
       " ('Mozambique',\n",
       "  ['2.4', '1.3', '1.1', '78.7', '8.3', '12.4', '0.6', '2.5', '2.6']),\n",
       " ('East Timor',\n",
       "  ['2.1', '0.6', '1.5', '67.6', '32.4', '0.0', '0.0', '3.8', '5.5']),\n",
       " ('Nepal', ['2.0', '0.6', '1.4', '31.0', '49.0', '20.0', '0.0', '2.3', '2.6']),\n",
       " ('Qatar', ['2.0', '1.3', '0.7', '25.9', '10.2', '63.4', '0.5', '2.1', '2.2']),\n",
       " ('Singapore',\n",
       "  ['2.0', '1.8', '0.3', '70.0', '14.6', '13.4', '2.1', '2.0', '2.0']),\n",
       " ('Turkey', ['2.0', '1.3', '0.7', '57.6', '8.6', '33.8', '0.0', '1.9', '1.9']),\n",
       " ('Bahrain',\n",
       "  ['1.9', '2.1', '0.1', '19.0', '6.2', '45.2', '29.6', '1.9', '1.8']),\n",
       " ('Madagascar',\n",
       "  ['1.9', '0.9', '1.1', '53.8', '8.2', '38.0', '0.0', '1.8', '1.6']),\n",
       " ('Tunisia',\n",
       "  ['1.9', '1.4', '0.6', '72.2', '23.9', '3.8', '0.1', '2.0', '2.1']),\n",
       " ('Tuvalu', ['1.7', '1.2', '0.5', '0.6', '84.7', '14.1', '0.0', '1.7', '1.7']),\n",
       " ('Chad', ['1.5', '0.7', '0.9', '70.2', '1.0', '5.3', '23.5', '1.7', '1.8']),\n",
       " ('Lebanon',\n",
       "  ['1.5', '1.2', '0.4', '33.9', '15.4', '49.2', '1.5', '1.4', '1.2']),\n",
       " ('Tonga', ['1.5', '1.1', '0.7', '60.7', '11.5', '27.9', '0.0', '1.6', '1.7']),\n",
       " ('Solomon Islands',\n",
       "  ['1.4', '1.0', '0.4', '93.3', '2.9', '3.3', '0.5', '1.3', '1.2']),\n",
       " ('Eritrea',\n",
       "  ['1.3', '0.6', '0.7', '62.1', '0.1', '0.2', '37.7', '1.9', '2.8']),\n",
       " ('Guinea', ['1.3', '0.4', '0.9', '91.1', '8.9', '0.0', '0.0', '1.1', '1.0']),\n",
       " ('Mali', ['1.3', '0.6', '0.7', '15.8', '1.2', '0.0', '83.0', '1.3', '1.3']),\n",
       " ('Papua New Guinea',\n",
       "  ['1.2', '0.7', '0.5', '95.2', '2.7', '2.1', '0.0', '1.2', '1.1']),\n",
       " ('Iran', ['1.0', '0.0', '1.0', '', '', '', '', '1.0', '1.0']),\n",
       " ('Vanuatu',\n",
       "  ['1.0', '0.8', '0.4', '38.5', '25.4', '36.1', '0.0', '1.4', '1.5']),\n",
       " ('Algeria',\n",
       "  ['0.9', '0.6', '0.4', '57.3', '24.4', '18.3', '0.0', '1.0', '1.1']),\n",
       " ('Comoros',\n",
       "  ['0.9', '0.1', '0.8', '24.6', '30.6', '44.8', '0.0', '1.0', '1.1']),\n",
       " ('Malaysia',\n",
       "  ['0.9', '0.6', '0.4', '60.7', '21.0', '17.4', '0.8', '0.9', '0.8']),\n",
       " ('Azerbaijan',\n",
       "  ['0.8', '0.5', '0.3', '61.5', '36.9', '0.0', '1.5', '0.7', '0.9']),\n",
       " ('Indonesia',\n",
       "  ['0.8', '0.3', '0.5', '18.5', '76.4', '4.6', '0.6', '1.1', '1.6']),\n",
       " ('Oman', ['0.8', '0.4', '0.4', '39.8', '2.8', '57.0', '0.3', '0.8', '0.9']),\n",
       " ('Jordan', ['0.7', '0.4', '0.4', '19.9', '2.6', '75.9', '1.6', '0.8', '1.0']),\n",
       " ('Senegal',\n",
       "  ['0.7', '0.2', '0.5', '56.4', '34.1', '8.5', '1.0', '0.7', '0.6']),\n",
       " ('Bhutan', ['0.6', '0.2', '0.4', '46.2', '4.2', '49.6', '0.0', '0.5', '0.4']),\n",
       " ('Morocco',\n",
       "  ['0.6', '0.4', '0.3', '42.9', '39.8', '17.0', '0.4', '0.7', '0.7']),\n",
       " ('Djibouti',\n",
       "  ['0.5', '0.4', '0.2', '27.5', '16.7', '55.0', '0.9', '0.6', '0.7']),\n",
       " ('Niger', ['0.5', '0.1', '0.4', '45.0', '13.7', '41.4', '0.0', '0.6', '0.7']),\n",
       " ('Sudan', ['0.5', '0.0', '0.5', '', '', '', '', '0.0', '0.0']),\n",
       " ('Brunei', ['0.4', '0.6', '0.2', '100.0', '0.0', '0.0', '0.0', '0.4', '0.3']),\n",
       " ('Egypt', ['0.4', '0.2', '0.2', '62.0', '4.4', '33.1', '0.6', '0.4', '0.5']),\n",
       " ('Iraq', ['0.4', '0.2', '0.2', '71.0', '2.4', '25.7', '0.9', '0.5', '0.6']),\n",
       " ('Kiribati',\n",
       "  ['0.4', '0.4', '0.2', '100.0', '0.0', '0.0', '0.0', '0.4', '0.4']),\n",
       " ('Pakistan', ['0.3', '0.0', '0.3', '', '', '', '', '0.3', '0.4']),\n",
       " ('Syria', ['0.3', '0.2', '0.1', '11.6', '1.1', '87.2', '0.0', '0.3', '0.3']),\n",
       " ('Afghanistan', ['0.2', '0.0', '0.2', '', '', '', '', '0.2', '0.2']),\n",
       " ('Saudi Arabia', ['0.2', '0.1', '0.2', '', '', '', '', '0.2', '0.2']),\n",
       " ('Yemen', ['0.1', '0.0', '0.0', '89.5', '0.0', '10.5', '0.0', '0.1', '0.1']),\n",
       " ('Bangladesh', ['0.0', '0.0', '0.0', '', '', '', '', '0.0', '0.0']),\n",
       " ('Kuwait', ['0.0', '0.0', '0.0', '', '', '', '', '0.0', '0.0']),\n",
       " ('Libya', ['0.0', '0.0', '0.0', '', '', '', '', '0.0', '0.0']),\n",
       " ('Mauritania', ['0.0', '0.0', '0.0', '', '', '', '', '0.0', '0.0']),\n",
       " ('Somalia', ['0.0', '0.0', '0.0', '', '', '', '', '0.0', '0.0'])]"
      ]
     },
     "execution_count": 57,
     "metadata": {},
     "output_type": "execute_result"
    }
   ],
   "source": [
    "data.map(lambda da: da.split(',')).map(lambda ll: (ll[0], ll[1:])).collect()"
   ]
  },
  {
   "cell_type": "code",
   "execution_count": null,
   "id": "467ef508",
   "metadata": {},
   "outputs": [],
   "source": []
  }
 ],
 "metadata": {
  "kernelspec": {
   "display_name": "Python 3 (ipykernel)",
   "language": "python",
   "name": "python3"
  },
  "language_info": {
   "codemirror_mode": {
    "name": "ipython",
    "version": 3
   },
   "file_extension": ".py",
   "mimetype": "text/x-python",
   "name": "python",
   "nbconvert_exporter": "python",
   "pygments_lexer": "ipython3",
   "version": "3.10.6"
  }
 },
 "nbformat": 4,
 "nbformat_minor": 5
}
