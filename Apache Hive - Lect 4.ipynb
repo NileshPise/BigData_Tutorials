{
 "cells": [
  {
   "cell_type": "markdown",
   "id": "8eaf3a1a",
   "metadata": {},
   "source": [
    "### Common Table Expression\n",
    "A Common Table Expression (CTE) is a temporary result set derived from a simple query specified in a WITH clause, which immediately precedes a SELECT or INSERT keyword.  The CTE is defined only within the execution scope of a single statement.  One or more CTEs can be used in a Hive SELECT, INSERT, CREATE TABLE AS SELECT, or CREATE VIEW AS SELECT statement."
   ]
  },
  {
   "cell_type": "markdown",
   "id": "47c63e97",
   "metadata": {},
   "source": [
    "#### CTE in Select Statements"
   ]
  },
  {
   "cell_type": "raw",
   "id": "5205348c",
   "metadata": {},
   "source": [
    "with q1 as ( select key from src where key = '5')\n",
    "select *\n",
    "from q1;\n"
   ]
  },
  {
   "cell_type": "markdown",
   "id": "4779c580",
   "metadata": {},
   "source": [
    "####  from style"
   ]
  },
  {
   "cell_type": "raw",
   "id": "7f16f596",
   "metadata": {},
   "source": [
    "with q1 as (select * from src where key= '5')\n",
    "from q1\n",
    "select *;\n"
   ]
  },
  {
   "cell_type": "markdown",
   "id": "3cc7933c",
   "metadata": {},
   "source": [
    "#### chaining CTEs"
   ]
  },
  {
   "cell_type": "raw",
   "id": "fe6446f1",
   "metadata": {},
   "source": [
    "with q1 as ( select key from q2 where key = '5'),\n",
    "q2 as ( select key from src where key = '5')\n",
    "select * from (select key from q1) a;\n"
   ]
  },
  {
   "cell_type": "markdown",
   "id": "7b935818",
   "metadata": {},
   "source": [
    "#### union example"
   ]
  },
  {
   "cell_type": "raw",
   "id": "ff5846bb",
   "metadata": {},
   "source": [
    "with q1 as (select * from src where key= '5'),\n",
    "q2 as (select * from src s2 where key = '4')\n",
    "select * from q1 union all select * from q2;"
   ]
  },
  {
   "cell_type": "markdown",
   "id": "024642f3",
   "metadata": {},
   "source": [
    "#### CTE in Views, CTAS, and Insert Statements"
   ]
  },
  {
   "cell_type": "raw",
   "id": "d98c098d",
   "metadata": {},
   "source": [
    "# -- insert example\n",
    "\n",
    "create table s1 like src;\n",
    "with q1 as ( select key, value from src where key = '5')\n",
    "from q1\n",
    "insert overwrite table s1\n",
    "select *;"
   ]
  },
  {
   "cell_type": "raw",
   "id": "4a9acbc2",
   "metadata": {},
   "source": [
    "#-- ctas example\n",
    "\n",
    "create table s2 as\n",
    "with q1 as ( select key from src where key = '4')\n",
    "select * from q1;"
   ]
  },
  {
   "cell_type": "raw",
   "id": "211c9f64",
   "metadata": {},
   "source": [
    "#-- view example\n",
    "\n",
    "create view v1 as\n",
    "with q1 as ( select key from src where key = '5')\n",
    "select * from q1;\n",
    "select * from v1;"
   ]
  },
  {
   "cell_type": "raw",
   "id": "03b0448f",
   "metadata": {},
   "source": [
    "#-- view example, name collision\n",
    "\n",
    "create view v1 as\n",
    "with q1 as ( select key from src where key = '5')\n",
    "select * from q1;\n",
    "with q1 as ( select key from src where key = '4')\n",
    "select * from v1;"
   ]
  },
  {
   "cell_type": "markdown",
   "id": "801bcfe9",
   "metadata": {},
   "source": [
    "#### Example"
   ]
  },
  {
   "cell_type": "raw",
   "id": "0dd31f8c",
   "metadata": {},
   "source": [
    "with cte_em as (select * from emp1 where gender == 'Male')\n",
    "select * from cte_em limit 5;"
   ]
  },
  {
   "cell_type": "raw",
   "id": "b7bff6db",
   "metadata": {},
   "source": [
    "with cte_em1 as (select * from emp1)\n",
    "select * from cte_em1 where age > 50"
   ]
  },
  {
   "cell_type": "raw",
   "id": "b6e57131",
   "metadata": {},
   "source": [
    "with cte_em1 as (select * from emp1)\n",
    "from cte_em1 \n",
    "select * where age < 20"
   ]
  },
  {
   "cell_type": "raw",
   "id": "088305c1",
   "metadata": {},
   "source": [
    "with cte_em2 as (select department, gender, max(age) max_age, min(age) min_age \n",
    "             from emp1 group by department, gender)\n",
    "from cte_em2\n",
    "select * where max_age >50;"
   ]
  },
  {
   "cell_type": "raw",
   "id": "64c19ebb",
   "metadata": {},
   "source": [
    "with cte1 as (select department, gender, max(age) over(partition by department) max_age, row_number() over(partition by department order by monthlyincome) ro1 from emp1),\n",
    "cte2 as (select department, gender, min(age) over(partition by department) min_age, row_number() over(partition by department order by monthlyincome) ro2 from emp1)\n",
    "\n",
    "from cte1, cte2\n",
    "select * where cte1.ro1 == cte2.ro2 limit 5\n"
   ]
  },
  {
   "cell_type": "raw",
   "id": "be0c1100",
   "metadata": {},
   "source": [
    "create table test_em like emp1;\n",
    "\n",
    "with cte1 as(select * from emp1 where gender == 'Male')\n",
    "from cte1\n",
    "insert into table test_em \n",
    "select * where age > 50;"
   ]
  },
  {
   "cell_type": "raw",
   "id": "0f6dda67",
   "metadata": {},
   "source": [
    "create table test_em1 like emp1;\n",
    "\n",
    "with cte1 as(select * from emp1 where gender == 'Male')\n",
    "from cte1\n",
    "insert overwrite table test_em1 \n",
    "select * where age > 50;"
   ]
  },
  {
   "cell_type": "raw",
   "id": "b39f93b2",
   "metadata": {},
   "source": [
    "create table s2 as \n",
    "with cte1 as (select * from emp1 where gender == 'Male')\n",
    "select * from cte1 where age > 50;"
   ]
  },
  {
   "cell_type": "raw",
   "id": "4b112447",
   "metadata": {},
   "source": [
    "create view s22 as \n",
    "with cte1 as (select * from emp1 where gender == 'Male')\n",
    "select * from cte1 where age > 50;"
   ]
  },
  {
   "cell_type": "raw",
   "id": "36114c18",
   "metadata": {},
   "source": [
    "select department, gender, age, (case when gender == 'Male' then 1 else 0 end )gender_num from emp1 limit 5"
   ]
  },
  {
   "cell_type": "raw",
   "id": "fdcf0d9d",
   "metadata": {},
   "source": [
    "select department, gender, age, (case when gender == 'Male' then 1 else 0 end) gender_num,\n",
    "        (case when age > 50 then 'old' when age > 25 then 'young' \n",
    "         when age < 25 then 'jr' else 'diff' end) age_gp \n",
    "    from emp1 limit 5"
   ]
  },
  {
   "cell_type": "raw",
   "id": "6973a740",
   "metadata": {},
   "source": [
    "with cte1 as (\n",
    "select department, gender, age, (case when gender == 'Male' then 1 else 0 end) gender_num,\n",
    "        (case when age > 50 then 'old' when age > 25 then 'young' \n",
    "         when age < 25 then 'jr' else 'diff' end) age_gp \n",
    "    from emp1 limit 5)\n",
    "\n",
    "from cte1\n",
    "select * where age_gp == 'jr'"
   ]
  },
  {
   "cell_type": "code",
   "execution_count": null,
   "id": "32e5bef2",
   "metadata": {},
   "outputs": [],
   "source": []
  },
  {
   "cell_type": "code",
   "execution_count": null,
   "id": "f087374e",
   "metadata": {},
   "outputs": [],
   "source": []
  }
 ],
 "metadata": {
  "kernelspec": {
   "display_name": "Python 3 (ipykernel)",
   "language": "python",
   "name": "python3"
  },
  "language_info": {
   "codemirror_mode": {
    "name": "ipython",
    "version": 3
   },
   "file_extension": ".py",
   "mimetype": "text/x-python",
   "name": "python",
   "nbconvert_exporter": "python",
   "pygments_lexer": "ipython3",
   "version": "3.10.6"
  }
 },
 "nbformat": 4,
 "nbformat_minor": 5
}
