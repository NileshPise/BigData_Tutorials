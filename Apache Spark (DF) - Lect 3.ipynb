{
 "cells": [
  {
   "cell_type": "code",
   "execution_count": 1,
   "id": "14f6b4d5",
   "metadata": {},
   "outputs": [
    {
     "name": "stderr",
     "output_type": "stream",
     "text": [
      "Setting default log level to \"WARN\".\n",
      "To adjust logging level use sc.setLogLevel(newLevel). For SparkR, use setLogLevel(newLevel).\n",
      "22/12/30 17:45:18 WARN Client: Neither spark.yarn.jars nor spark.yarn.archive is set, falling back to uploading libraries under SPARK_HOME.\n"
     ]
    }
   ],
   "source": [
    "from pyspark.sql import SparkSession\n",
    "from pyspark.sql import functions as F\n",
    "from pyspark import SparkConf\n",
    "\n",
    "sparkSession = SparkSession.builder.appName('DF test') \\\n",
    "                            .config(conf=SparkConf() \\\n",
    "                                   .setMaster('yarn')) \\\n",
    "                                    .enableHiveSupport() \\\n",
    "                                    .getOrCreate()"
   ]
  },
  {
   "cell_type": "code",
   "execution_count": 2,
   "id": "be9047e9",
   "metadata": {},
   "outputs": [
    {
     "name": "stderr",
     "output_type": "stream",
     "text": [
      "[Stage 1:>                                                          (0 + 1) / 1]\r"
     ]
    },
    {
     "name": "stdout",
     "output_type": "stream",
     "text": [
      "+-----+------------+------------+----------+-------+---------+---+--------+--------+----+------+-------+------------+-------------+--------------+-------+-------------+-------+--------------------+---+---+\n",
      "|USMER|MEDICAL_UNIT|PATIENT_TYPE| DATE_DIED|INTUBED|PNEUMONIA|AGE|PREGNANT|DIABETES|COPD|ASTHMA|INMSUPR|HIPERTENSION|OTHER_DISEASE|CARDIOVASCULAR|OBESITY|RENAL_CHRONIC|TOBACCO|CLASIFFICATION_FINAL|ICU|SEX|\n",
      "+-----+------------+------------+----------+-------+---------+---+--------+--------+----+------+-------+------------+-------------+--------------+-------+-------------+-------+--------------------+---+---+\n",
      "|    2|           1|           1|03/06/2020|     97|        1| 72|      97|       2|   2|     2|      2|           1|            2|             2|      1|            1|      2|                   5| 97|  2|\n",
      "|    2|           1|           2|09/06/2020|      1|        2| 55|      97|       1|   2|     2|      2|           2|            2|             2|      2|            2|      2|                   3|  2|  2|\n",
      "|    2|           1|           1|21/06/2020|     97|        2| 68|      97|       1|   2|     2|      2|           1|            2|             2|      2|            2|      2|                   3| 97|  2|\n",
      "|    2|           1|           2|9999-99-99|      2|        2| 24|      97|       2|   2|     2|      2|           2|            2|             2|      2|            2|      2|                   3|  2|  2|\n",
      "|    2|           1|           2|9999-99-99|      2|        2| 30|      97|       2|   2|     2|      2|           2|            2|             2|      2|            2|      2|                   3|  2|  2|\n",
      "+-----+------------+------------+----------+-------+---------+---+--------+--------+----+------+-------+------------+-------------+--------------+-------+-------------+-------+--------------------+---+---+\n",
      "only showing top 5 rows\n",
      "\n"
     ]
    },
    {
     "name": "stderr",
     "output_type": "stream",
     "text": [
      "\r",
      "                                                                                \r"
     ]
    }
   ],
   "source": [
    "df = sparkSession.read.parquet('/Datasets/health')\n",
    "df.show(5)"
   ]
  },
  {
   "cell_type": "markdown",
   "id": "e6b5bb3d",
   "metadata": {},
   "source": [
    "#### pyspark.sql.DataFrame.agg\n",
    "Aggregate on the entire DataFrame without groups (shorthand for df.groupBy().agg())."
   ]
  },
  {
   "cell_type": "code",
   "execution_count": 6,
   "id": "da9f6aab",
   "metadata": {},
   "outputs": [
    {
     "name": "stdout",
     "output_type": "stream",
     "text": [
      "+--------+\n",
      "|max(AGE)|\n",
      "+--------+\n",
      "|     121|\n",
      "+--------+\n",
      "\n"
     ]
    }
   ],
   "source": [
    "df.agg({'AGE':'max'}).show()"
   ]
  },
  {
   "cell_type": "code",
   "execution_count": 7,
   "id": "449939dd",
   "metadata": {},
   "outputs": [
    {
     "name": "stdout",
     "output_type": "stream",
     "text": [
      "+------------------+\n",
      "|          avg(AGE)|\n",
      "+------------------+\n",
      "|41.794102472403026|\n",
      "+------------------+\n",
      "\n"
     ]
    }
   ],
   "source": [
    "df.agg({'AGE':'avg'}).show()"
   ]
  },
  {
   "cell_type": "code",
   "execution_count": 8,
   "id": "d2eaabce",
   "metadata": {},
   "outputs": [
    {
     "name": "stdout",
     "output_type": "stream",
     "text": [
      "+----------+\n",
      "|count(AGE)|\n",
      "+----------+\n",
      "|   1048575|\n",
      "+----------+\n",
      "\n"
     ]
    }
   ],
   "source": [
    "df.agg(F.count(df.AGE)).show()"
   ]
  },
  {
   "cell_type": "markdown",
   "id": "d4eb816c",
   "metadata": {},
   "source": [
    "#### pyspark.sql.DataFrame.alias\n",
    "This DF alias is useful while doing join operation, bcoz in both DF sometime we have same names of the column"
   ]
  },
  {
   "cell_type": "code",
   "execution_count": 10,
   "id": "077d4838",
   "metadata": {},
   "outputs": [],
   "source": [
    "df = df.alias('Patient')"
   ]
  },
  {
   "cell_type": "code",
   "execution_count": 11,
   "id": "60b21cc3",
   "metadata": {},
   "outputs": [
    {
     "name": "stdout",
     "output_type": "stream",
     "text": [
      "+---+---+\n",
      "|AGE|SEX|\n",
      "+---+---+\n",
      "| 72|  2|\n",
      "| 55|  2|\n",
      "| 68|  2|\n",
      "| 24|  2|\n",
      "| 30|  2|\n",
      "+---+---+\n",
      "only showing top 5 rows\n",
      "\n"
     ]
    }
   ],
   "source": [
    "df.select('Patient.AGE', 'Patient.SEX').show(5)"
   ]
  },
  {
   "cell_type": "code",
   "execution_count": 12,
   "id": "dd8a7a32",
   "metadata": {},
   "outputs": [
    {
     "name": "stdout",
     "output_type": "stream",
     "text": [
      "+---+---+\n",
      "|AGE|SEX|\n",
      "+---+---+\n",
      "| 72|  2|\n",
      "| 55|  2|\n",
      "| 68|  2|\n",
      "| 24|  2|\n",
      "| 30|  2|\n",
      "+---+---+\n",
      "only showing top 5 rows\n",
      "\n"
     ]
    }
   ],
   "source": [
    "df.select('AGE', 'SEX').show(5)"
   ]
  },
  {
   "cell_type": "markdown",
   "id": "eb6c6568",
   "metadata": {},
   "source": [
    "\n",
    "#### pyspark.sql.DataFrame.approxQuantile\n",
    "\n",
    "Can be a single column name, or a list of names for multiple columns.\n",
    "\n",
    "a list of quantile probabilities Each number must belong to [0, 1]. For example 0 is the minimum, 0.5 is the median, 1 is the maximum.\n",
    "        relativeErrorfloat\n",
    "The relative target precision to achieve (>= 0). If set to zero, the exact quantiles are computed, which could be very expensive. Note that values greater than 1 are accepted but give the same result as 1.\n",
    "\n",
    "the approximate quantiles at the given probabilities. If the input col is a string, the output is a list of floats. If the input col is a list or tuple of strings, the output is also a list, but each element in it is a list of floats, i.e., the output is a list of list of floats.\n",
    "\n"
   ]
  },
  {
   "cell_type": "code",
   "execution_count": 14,
   "id": "ecd50756",
   "metadata": {},
   "outputs": [
    {
     "name": "stderr",
     "output_type": "stream",
     "text": [
      "                                                                                \r"
     ]
    },
    {
     "data": {
      "text/plain": [
       "[40.0]"
      ]
     },
     "execution_count": 14,
     "metadata": {},
     "output_type": "execute_result"
    }
   ],
   "source": [
    "df.approxQuantile('AGE',[0.50],0)"
   ]
  },
  {
   "cell_type": "code",
   "execution_count": 16,
   "id": "27d38e0c",
   "metadata": {},
   "outputs": [
    {
     "name": "stderr",
     "output_type": "stream",
     "text": [
      "                                                                                \r"
     ]
    },
    {
     "data": {
      "text/plain": [
       "[30.0]"
      ]
     },
     "execution_count": 16,
     "metadata": {},
     "output_type": "execute_result"
    }
   ],
   "source": [
    "df.approxQuantile('AGE',[0.25],0)"
   ]
  },
  {
   "cell_type": "code",
   "execution_count": 17,
   "id": "337f0dcc",
   "metadata": {},
   "outputs": [
    {
     "name": "stderr",
     "output_type": "stream",
     "text": [
      "                                                                                \r"
     ]
    },
    {
     "data": {
      "text/plain": [
       "[53.0]"
      ]
     },
     "execution_count": 17,
     "metadata": {},
     "output_type": "execute_result"
    }
   ],
   "source": [
    "df.approxQuantile('AGE',[0.75],0)"
   ]
  },
  {
   "cell_type": "markdown",
   "id": "ef8ec2c0",
   "metadata": {},
   "source": [
    "#### pyspark.sql.DataFrame.cache\n",
    "Persists the DataFrame with the default storage level (MEMORY_AND_DISK)."
   ]
  },
  {
   "cell_type": "code",
   "execution_count": 20,
   "id": "cc0c9145",
   "metadata": {},
   "outputs": [
    {
     "name": "stderr",
     "output_type": "stream",
     "text": [
      "22/12/29 14:35:13 WARN CacheManager: Asked to cache already cached data.\n"
     ]
    },
    {
     "data": {
      "text/plain": [
       "DataFrame[USMER: int, MEDICAL_UNIT: int, PATIENT_TYPE: int, DATE_DIED: string, INTUBED: int, PNEUMONIA: int, AGE: int, PREGNANT: int, DIABETES: int, COPD: int, ASTHMA: int, INMSUPR: int, HIPERTENSION: int, OTHER_DISEASE: int, CARDIOVASCULAR: int, OBESITY: int, RENAL_CHRONIC: int, TOBACCO: int, CLASIFFICATION_FINAL: int, ICU: int, SEX: int]"
      ]
     },
     "execution_count": 20,
     "metadata": {},
     "output_type": "execute_result"
    }
   ],
   "source": [
    "df.cache()"
   ]
  },
  {
   "cell_type": "markdown",
   "id": "036297b6",
   "metadata": {},
   "source": [
    "#### pyspark.sql.DataFrame.checkpoint\n",
    "Returns a checkpointed version of this DataFrame. Checkpointing can be used to truncate the logical plan of this DataFrame, which is especially useful in iterative algorithms where the plan may grow exponentially. It will be saved to files inside the checkpoint directory set with SparkContext.setCheckpointDir()."
   ]
  },
  {
   "cell_type": "code",
   "execution_count": 22,
   "id": "36d806ef",
   "metadata": {},
   "outputs": [
    {
     "name": "stderr",
     "output_type": "stream",
     "text": [
      "22/12/29 14:36:37 WARN SparkContext: Spark is not running in local mode, therefore the checkpoint directory must not be on the local filesystem. Directory '/Spark_checkpointing_dir/' appears to be on the local filesystem.\n"
     ]
    }
   ],
   "source": [
    "sparkSession.sparkContext.setCheckpointDir('/Spark_checkpointing_dir/')"
   ]
  },
  {
   "cell_type": "code",
   "execution_count": 23,
   "id": "6ab300ff",
   "metadata": {},
   "outputs": [
    {
     "name": "stderr",
     "output_type": "stream",
     "text": [
      "                                                                                \r"
     ]
    },
    {
     "data": {
      "text/plain": [
       "DataFrame[USMER: int, MEDICAL_UNIT: int, PATIENT_TYPE: int, DATE_DIED: string, INTUBED: int, PNEUMONIA: int, AGE: int, PREGNANT: int, DIABETES: int, COPD: int, ASTHMA: int, INMSUPR: int, HIPERTENSION: int, OTHER_DISEASE: int, CARDIOVASCULAR: int, OBESITY: int, RENAL_CHRONIC: int, TOBACCO: int, CLASIFFICATION_FINAL: int, ICU: int, SEX: int]"
      ]
     },
     "execution_count": 23,
     "metadata": {},
     "output_type": "execute_result"
    }
   ],
   "source": [
    "df.checkpoint()"
   ]
  },
  {
   "cell_type": "markdown",
   "id": "809d38b5",
   "metadata": {},
   "source": [
    "#### coalesce()\n",
    "\n",
    "RDD coalesce() is used only to reduce the number of partitions. This is an optimized or improved version of repartition() where the movement of the data across the partitions is lower using coalesce.\n",
    "\n",
    "Similar to coalesce defined on an RDD, this operation results in a narrow dependency, e.g. if you go from 1000 partitions to 100 partitions, there will not be a shuffle, instead each of the 100 new partitions will claim 10 of the current partitions. If a larger number of partitions is requested, it will stay at the current number of partitions.\n",
    "\n",
    "However, if you’re doing a drastic coalesce, e.g. to numPartitions = 1, this may result in your computation taking place on fewer nodes than you like (e.g. one node in the case of numPartitions = 1). To avoid this, you can call repartition(). This will add a shuffle step, but means the current upstream partitions will be executed in parallel (per whatever the current partitioning is)."
   ]
  },
  {
   "cell_type": "code",
   "execution_count": 25,
   "id": "9381bbb2",
   "metadata": {},
   "outputs": [
    {
     "data": {
      "text/plain": [
       "2"
      ]
     },
     "execution_count": 25,
     "metadata": {},
     "output_type": "execute_result"
    }
   ],
   "source": [
    "df.rdd.getNumPartitions()"
   ]
  },
  {
   "cell_type": "code",
   "execution_count": 26,
   "id": "a6af1b75",
   "metadata": {},
   "outputs": [
    {
     "data": {
      "text/plain": [
       "1"
      ]
     },
     "execution_count": 26,
     "metadata": {},
     "output_type": "execute_result"
    }
   ],
   "source": [
    "df.rdd.coalesce(1).getNumPartitions()"
   ]
  },
  {
   "cell_type": "markdown",
   "id": "4d25657f",
   "metadata": {},
   "source": [
    "#### pyspark.sql.DataFrame.colRegex¶\n",
    "Selects column based on the column name specified as a regex and returns it as "
   ]
  },
  {
   "cell_type": "code",
   "execution_count": 33,
   "id": "740919f3",
   "metadata": {},
   "outputs": [
    {
     "name": "stdout",
     "output_type": "stream",
     "text": [
      "+---+\n",
      "|SEX|\n",
      "+---+\n",
      "|  2|\n",
      "|  2|\n",
      "|  2|\n",
      "|  2|\n",
      "|  2|\n",
      "|  2|\n",
      "|  2|\n",
      "|  2|\n",
      "|  2|\n",
      "|  2|\n",
      "|  2|\n",
      "|  2|\n",
      "|  2|\n",
      "|  2|\n",
      "|  2|\n",
      "|  2|\n",
      "|  2|\n",
      "|  2|\n",
      "|  2|\n",
      "|  2|\n",
      "+---+\n",
      "only showing top 20 rows\n",
      "\n"
     ]
    }
   ],
   "source": [
    "df.select(df.colRegex(\"`SE+.`\")).show()"
   ]
  },
  {
   "cell_type": "markdown",
   "id": "26ad1934",
   "metadata": {},
   "source": [
    "#### pyspark.sql.DataFrame.collect\n",
    "Returns all the records as a list of Row."
   ]
  },
  {
   "cell_type": "code",
   "execution_count": 35,
   "id": "23071300",
   "metadata": {},
   "outputs": [
    {
     "name": "stderr",
     "output_type": "stream",
     "text": [
      "                                                                                \r"
     ]
    },
    {
     "data": {
      "text/plain": [
       "[Row(USMER=2, MEDICAL_UNIT=1, PATIENT_TYPE=1, DATE_DIED='03/06/2020', INTUBED=97, PNEUMONIA=1, AGE=72, PREGNANT=97, DIABETES=2, COPD=2, ASTHMA=2, INMSUPR=2, HIPERTENSION=1, OTHER_DISEASE=2, CARDIOVASCULAR=2, OBESITY=1, RENAL_CHRONIC=1, TOBACCO=2, CLASIFFICATION_FINAL=5, ICU=97, SEX=2),\n",
       " Row(USMER=2, MEDICAL_UNIT=1, PATIENT_TYPE=2, DATE_DIED='09/06/2020', INTUBED=1, PNEUMONIA=2, AGE=55, PREGNANT=97, DIABETES=1, COPD=2, ASTHMA=2, INMSUPR=2, HIPERTENSION=2, OTHER_DISEASE=2, CARDIOVASCULAR=2, OBESITY=2, RENAL_CHRONIC=2, TOBACCO=2, CLASIFFICATION_FINAL=3, ICU=2, SEX=2),\n",
       " Row(USMER=2, MEDICAL_UNIT=1, PATIENT_TYPE=1, DATE_DIED='21/06/2020', INTUBED=97, PNEUMONIA=2, AGE=68, PREGNANT=97, DIABETES=1, COPD=2, ASTHMA=2, INMSUPR=2, HIPERTENSION=1, OTHER_DISEASE=2, CARDIOVASCULAR=2, OBESITY=2, RENAL_CHRONIC=2, TOBACCO=2, CLASIFFICATION_FINAL=3, ICU=97, SEX=2),\n",
       " Row(USMER=2, MEDICAL_UNIT=1, PATIENT_TYPE=2, DATE_DIED='9999-99-99', INTUBED=2, PNEUMONIA=2, AGE=24, PREGNANT=97, DIABETES=2, COPD=2, ASTHMA=2, INMSUPR=2, HIPERTENSION=2, OTHER_DISEASE=2, CARDIOVASCULAR=2, OBESITY=2, RENAL_CHRONIC=2, TOBACCO=2, CLASIFFICATION_FINAL=3, ICU=2, SEX=2),\n",
       " Row(USMER=2, MEDICAL_UNIT=1, PATIENT_TYPE=2, DATE_DIED='9999-99-99', INTUBED=2, PNEUMONIA=2, AGE=30, PREGNANT=97, DIABETES=2, COPD=2, ASTHMA=2, INMSUPR=2, HIPERTENSION=2, OTHER_DISEASE=2, CARDIOVASCULAR=2, OBESITY=2, RENAL_CHRONIC=2, TOBACCO=2, CLASIFFICATION_FINAL=3, ICU=2, SEX=2),\n",
       " Row(USMER=2, MEDICAL_UNIT=1, PATIENT_TYPE=1, DATE_DIED='9999-99-99', INTUBED=97, PNEUMONIA=2, AGE=55, PREGNANT=97, DIABETES=2, COPD=2, ASTHMA=2, INMSUPR=2, HIPERTENSION=2, OTHER_DISEASE=2, CARDIOVASCULAR=2, OBESITY=2, RENAL_CHRONIC=2, TOBACCO=2, CLASIFFICATION_FINAL=3, ICU=97, SEX=2),\n",
       " Row(USMER=2, MEDICAL_UNIT=1, PATIENT_TYPE=1, DATE_DIED='9999-99-99', INTUBED=97, PNEUMONIA=2, AGE=61, PREGNANT=97, DIABETES=2, COPD=2, ASTHMA=2, INMSUPR=2, HIPERTENSION=2, OTHER_DISEASE=2, CARDIOVASCULAR=2, OBESITY=2, RENAL_CHRONIC=2, TOBACCO=2, CLASIFFICATION_FINAL=3, ICU=97, SEX=2),\n",
       " Row(USMER=2, MEDICAL_UNIT=1, PATIENT_TYPE=1, DATE_DIED='9999-99-99', INTUBED=97, PNEUMONIA=2, AGE=54, PREGNANT=97, DIABETES=2, COPD=2, ASTHMA=2, INMSUPR=2, HIPERTENSION=2, OTHER_DISEASE=2, CARDIOVASCULAR=2, OBESITY=2, RENAL_CHRONIC=2, TOBACCO=2, CLASIFFICATION_FINAL=3, ICU=97, SEX=2),\n",
       " Row(USMER=2, MEDICAL_UNIT=1, PATIENT_TYPE=2, DATE_DIED='9999-99-99', INTUBED=2, PNEUMONIA=1, AGE=59, PREGNANT=97, DIABETES=1, COPD=2, ASTHMA=2, INMSUPR=2, HIPERTENSION=2, OTHER_DISEASE=2, CARDIOVASCULAR=2, OBESITY=2, RENAL_CHRONIC=2, TOBACCO=1, CLASIFFICATION_FINAL=3, ICU=1, SEX=2),\n",
       " Row(USMER=2, MEDICAL_UNIT=1, PATIENT_TYPE=1, DATE_DIED='9999-99-99', INTUBED=97, PNEUMONIA=2, AGE=30, PREGNANT=97, DIABETES=2, COPD=2, ASTHMA=2, INMSUPR=2, HIPERTENSION=2, OTHER_DISEASE=2, CARDIOVASCULAR=2, OBESITY=2, RENAL_CHRONIC=2, TOBACCO=2, CLASIFFICATION_FINAL=3, ICU=97, SEX=2),\n",
       " Row(USMER=2, MEDICAL_UNIT=1, PATIENT_TYPE=1, DATE_DIED='9999-99-99', INTUBED=97, PNEUMONIA=2, AGE=45, PREGNANT=97, DIABETES=2, COPD=2, ASTHMA=2, INMSUPR=2, HIPERTENSION=2, OTHER_DISEASE=2, CARDIOVASCULAR=2, OBESITY=2, RENAL_CHRONIC=2, TOBACCO=2, CLASIFFICATION_FINAL=3, ICU=97, SEX=2),\n",
       " Row(USMER=2, MEDICAL_UNIT=1, PATIENT_TYPE=1, DATE_DIED='9999-99-99', INTUBED=97, PNEUMONIA=2, AGE=24, PREGNANT=97, DIABETES=2, COPD=2, ASTHMA=2, INMSUPR=2, HIPERTENSION=2, OTHER_DISEASE=2, CARDIOVASCULAR=2, OBESITY=2, RENAL_CHRONIC=2, TOBACCO=2, CLASIFFICATION_FINAL=3, ICU=97, SEX=2),\n",
       " Row(USMER=2, MEDICAL_UNIT=1, PATIENT_TYPE=1, DATE_DIED='9999-99-99', INTUBED=97, PNEUMONIA=2, AGE=32, PREGNANT=97, DIABETES=2, COPD=2, ASTHMA=2, INMSUPR=2, HIPERTENSION=2, OTHER_DISEASE=2, CARDIOVASCULAR=2, OBESITY=2, RENAL_CHRONIC=2, TOBACCO=2, CLASIFFICATION_FINAL=3, ICU=97, SEX=2),\n",
       " Row(USMER=2, MEDICAL_UNIT=1, PATIENT_TYPE=1, DATE_DIED='9999-99-99', INTUBED=97, PNEUMONIA=2, AGE=49, PREGNANT=97, DIABETES=2, COPD=2, ASTHMA=2, INMSUPR=2, HIPERTENSION=2, OTHER_DISEASE=2, CARDIOVASCULAR=2, OBESITY=2, RENAL_CHRONIC=2, TOBACCO=2, CLASIFFICATION_FINAL=3, ICU=97, SEX=2),\n",
       " Row(USMER=2, MEDICAL_UNIT=1, PATIENT_TYPE=1, DATE_DIED='9999-99-99', INTUBED=97, PNEUMONIA=2, AGE=39, PREGNANT=97, DIABETES=2, COPD=2, ASTHMA=2, INMSUPR=2, HIPERTENSION=2, OTHER_DISEASE=2, CARDIOVASCULAR=2, OBESITY=2, RENAL_CHRONIC=2, TOBACCO=1, CLASIFFICATION_FINAL=3, ICU=97, SEX=2),\n",
       " Row(USMER=2, MEDICAL_UNIT=1, PATIENT_TYPE=1, DATE_DIED='9999-99-99', INTUBED=97, PNEUMONIA=2, AGE=27, PREGNANT=97, DIABETES=2, COPD=2, ASTHMA=2, INMSUPR=2, HIPERTENSION=2, OTHER_DISEASE=2, CARDIOVASCULAR=2, OBESITY=2, RENAL_CHRONIC=2, TOBACCO=2, CLASIFFICATION_FINAL=3, ICU=97, SEX=2),\n",
       " Row(USMER=2, MEDICAL_UNIT=1, PATIENT_TYPE=2, DATE_DIED='9999-99-99', INTUBED=2, PNEUMONIA=1, AGE=45, PREGNANT=97, DIABETES=2, COPD=2, ASTHMA=2, INMSUPR=2, HIPERTENSION=2, OTHER_DISEASE=2, CARDIOVASCULAR=2, OBESITY=2, RENAL_CHRONIC=2, TOBACCO=2, CLASIFFICATION_FINAL=3, ICU=2, SEX=2),\n",
       " Row(USMER=2, MEDICAL_UNIT=1, PATIENT_TYPE=1, DATE_DIED='9999-99-99', INTUBED=97, PNEUMONIA=2, AGE=25, PREGNANT=97, DIABETES=2, COPD=2, ASTHMA=2, INMSUPR=2, HIPERTENSION=2, OTHER_DISEASE=2, CARDIOVASCULAR=2, OBESITY=2, RENAL_CHRONIC=2, TOBACCO=2, CLASIFFICATION_FINAL=3, ICU=97, SEX=2),\n",
       " Row(USMER=2, MEDICAL_UNIT=1, PATIENT_TYPE=1, DATE_DIED='9999-99-99', INTUBED=97, PNEUMONIA=2, AGE=37, PREGNANT=97, DIABETES=2, COPD=2, ASTHMA=2, INMSUPR=2, HIPERTENSION=2, OTHER_DISEASE=2, CARDIOVASCULAR=2, OBESITY=2, RENAL_CHRONIC=2, TOBACCO=2, CLASIFFICATION_FINAL=3, ICU=97, SEX=2),\n",
       " Row(USMER=2, MEDICAL_UNIT=1, PATIENT_TYPE=1, DATE_DIED='9999-99-99', INTUBED=97, PNEUMONIA=2, AGE=45, PREGNANT=97, DIABETES=2, COPD=2, ASTHMA=2, INMSUPR=2, HIPERTENSION=2, OTHER_DISEASE=2, CARDIOVASCULAR=2, OBESITY=2, RENAL_CHRONIC=2, TOBACCO=2, CLASIFFICATION_FINAL=3, ICU=97, SEX=2),\n",
       " Row(USMER=2, MEDICAL_UNIT=1, PATIENT_TYPE=1, DATE_DIED='9999-99-99', INTUBED=97, PNEUMONIA=2, AGE=47, PREGNANT=97, DIABETES=2, COPD=2, ASTHMA=1, INMSUPR=2, HIPERTENSION=2, OTHER_DISEASE=1, CARDIOVASCULAR=1, OBESITY=2, RENAL_CHRONIC=2, TOBACCO=2, CLASIFFICATION_FINAL=3, ICU=97, SEX=2),\n",
       " Row(USMER=2, MEDICAL_UNIT=1, PATIENT_TYPE=2, DATE_DIED='9999-99-99', INTUBED=1, PNEUMONIA=1, AGE=45, PREGNANT=97, DIABETES=2, COPD=2, ASTHMA=2, INMSUPR=2, HIPERTENSION=2, OTHER_DISEASE=2, CARDIOVASCULAR=2, OBESITY=2, RENAL_CHRONIC=2, TOBACCO=2, CLASIFFICATION_FINAL=3, ICU=1, SEX=2),\n",
       " Row(USMER=2, MEDICAL_UNIT=1, PATIENT_TYPE=1, DATE_DIED='9999-99-99', INTUBED=97, PNEUMONIA=2, AGE=27, PREGNANT=97, DIABETES=2, COPD=2, ASTHMA=2, INMSUPR=2, HIPERTENSION=2, OTHER_DISEASE=2, CARDIOVASCULAR=2, OBESITY=2, RENAL_CHRONIC=2, TOBACCO=2, CLASIFFICATION_FINAL=5, ICU=97, SEX=2),\n",
       " Row(USMER=2, MEDICAL_UNIT=1, PATIENT_TYPE=1, DATE_DIED='9999-99-99', INTUBED=97, PNEUMONIA=2, AGE=28, PREGNANT=97, DIABETES=2, COPD=2, ASTHMA=2, INMSUPR=2, HIPERTENSION=2, OTHER_DISEASE=2, CARDIOVASCULAR=2, OBESITY=2, RENAL_CHRONIC=2, TOBACCO=2, CLASIFFICATION_FINAL=6, ICU=97, SEX=2),\n",
       " Row(USMER=2, MEDICAL_UNIT=1, PATIENT_TYPE=1, DATE_DIED='9999-99-99', INTUBED=97, PNEUMONIA=2, AGE=59, PREGNANT=97, DIABETES=2, COPD=1, ASTHMA=2, INMSUPR=2, HIPERTENSION=2, OTHER_DISEASE=2, CARDIOVASCULAR=2, OBESITY=2, RENAL_CHRONIC=2, TOBACCO=1, CLASIFFICATION_FINAL=7, ICU=97, SEX=2),\n",
       " Row(USMER=2, MEDICAL_UNIT=1, PATIENT_TYPE=1, DATE_DIED='9999-99-99', INTUBED=97, PNEUMONIA=2, AGE=33, PREGNANT=97, DIABETES=2, COPD=2, ASTHMA=2, INMSUPR=2, HIPERTENSION=2, OTHER_DISEASE=2, CARDIOVASCULAR=2, OBESITY=2, RENAL_CHRONIC=2, TOBACCO=2, CLASIFFICATION_FINAL=7, ICU=97, SEX=2),\n",
       " Row(USMER=2, MEDICAL_UNIT=1, PATIENT_TYPE=2, DATE_DIED='9999-99-99', INTUBED=2, PNEUMONIA=2, AGE=16, PREGNANT=97, DIABETES=2, COPD=2, ASTHMA=2, INMSUPR=2, HIPERTENSION=2, OTHER_DISEASE=2, CARDIOVASCULAR=2, OBESITY=2, RENAL_CHRONIC=2, TOBACCO=2, CLASIFFICATION_FINAL=7, ICU=2, SEX=2),\n",
       " Row(USMER=2, MEDICAL_UNIT=1, PATIENT_TYPE=2, DATE_DIED='9999-99-99', INTUBED=2, PNEUMONIA=2, AGE=56, PREGNANT=97, DIABETES=2, COPD=2, ASTHMA=2, INMSUPR=2, HIPERTENSION=2, OTHER_DISEASE=2, CARDIOVASCULAR=2, OBESITY=2, RENAL_CHRONIC=2, TOBACCO=2, CLASIFFICATION_FINAL=7, ICU=2, SEX=2),\n",
       " Row(USMER=2, MEDICAL_UNIT=1, PATIENT_TYPE=2, DATE_DIED='9999-99-99', INTUBED=2, PNEUMONIA=1, AGE=36, PREGNANT=97, DIABETES=2, COPD=2, ASTHMA=2, INMSUPR=2, HIPERTENSION=2, OTHER_DISEASE=2, CARDIOVASCULAR=2, OBESITY=2, RENAL_CHRONIC=2, TOBACCO=1, CLASIFFICATION_FINAL=7, ICU=1, SEX=2),\n",
       " Row(USMER=2, MEDICAL_UNIT=1, PATIENT_TYPE=1, DATE_DIED='9999-99-99', INTUBED=97, PNEUMONIA=2, AGE=33, PREGNANT=97, DIABETES=2, COPD=2, ASTHMA=2, INMSUPR=2, HIPERTENSION=2, OTHER_DISEASE=2, CARDIOVASCULAR=2, OBESITY=2, RENAL_CHRONIC=2, TOBACCO=2, CLASIFFICATION_FINAL=7, ICU=97, SEX=2),\n",
       " Row(USMER=2, MEDICAL_UNIT=1, PATIENT_TYPE=2, DATE_DIED='9999-99-99', INTUBED=2, PNEUMONIA=2, AGE=30, PREGNANT=97, DIABETES=1, COPD=2, ASTHMA=2, INMSUPR=2, HIPERTENSION=2, OTHER_DISEASE=2, CARDIOVASCULAR=2, OBESITY=1, RENAL_CHRONIC=2, TOBACCO=1, CLASIFFICATION_FINAL=7, ICU=2, SEX=2),\n",
       " Row(USMER=2, MEDICAL_UNIT=1, PATIENT_TYPE=2, DATE_DIED='9999-99-99', INTUBED=1, PNEUMONIA=1, AGE=27, PREGNANT=97, DIABETES=2, COPD=2, ASTHMA=2, INMSUPR=2, HIPERTENSION=2, OTHER_DISEASE=2, CARDIOVASCULAR=2, OBESITY=2, RENAL_CHRONIC=2, TOBACCO=1, CLASIFFICATION_FINAL=7, ICU=1, SEX=2),\n",
       " Row(USMER=2, MEDICAL_UNIT=1, PATIENT_TYPE=1, DATE_DIED='9999-99-99', INTUBED=97, PNEUMONIA=2, AGE=57, PREGNANT=97, DIABETES=2, COPD=2, ASTHMA=2, INMSUPR=2, HIPERTENSION=2, OTHER_DISEASE=2, CARDIOVASCULAR=2, OBESITY=1, RENAL_CHRONIC=2, TOBACCO=2, CLASIFFICATION_FINAL=7, ICU=97, SEX=2),\n",
       " Row(USMER=2, MEDICAL_UNIT=1, PATIENT_TYPE=1, DATE_DIED='9999-99-99', INTUBED=97, PNEUMONIA=2, AGE=57, PREGNANT=97, DIABETES=2, COPD=2, ASTHMA=2, INMSUPR=2, HIPERTENSION=2, OTHER_DISEASE=2, CARDIOVASCULAR=2, OBESITY=2, RENAL_CHRONIC=2, TOBACCO=1, CLASIFFICATION_FINAL=7, ICU=97, SEX=2),\n",
       " Row(USMER=2, MEDICAL_UNIT=1, PATIENT_TYPE=1, DATE_DIED='9999-99-99', INTUBED=97, PNEUMONIA=2, AGE=57, PREGNANT=97, DIABETES=2, COPD=2, ASTHMA=2, INMSUPR=2, HIPERTENSION=2, OTHER_DISEASE=2, CARDIOVASCULAR=2, OBESITY=2, RENAL_CHRONIC=2, TOBACCO=2, CLASIFFICATION_FINAL=7, ICU=97, SEX=2),\n",
       " Row(USMER=2, MEDICAL_UNIT=1, PATIENT_TYPE=1, DATE_DIED='9999-99-99', INTUBED=97, PNEUMONIA=2, AGE=66, PREGNANT=97, DIABETES=2, COPD=2, ASTHMA=2, INMSUPR=2, HIPERTENSION=1, OTHER_DISEASE=2, CARDIOVASCULAR=2, OBESITY=2, RENAL_CHRONIC=2, TOBACCO=2, CLASIFFICATION_FINAL=7, ICU=97, SEX=2),\n",
       " Row(USMER=2, MEDICAL_UNIT=1, PATIENT_TYPE=1, DATE_DIED='9999-99-99', INTUBED=97, PNEUMONIA=2, AGE=19, PREGNANT=97, DIABETES=2, COPD=2, ASTHMA=2, INMSUPR=2, HIPERTENSION=2, OTHER_DISEASE=2, CARDIOVASCULAR=2, OBESITY=2, RENAL_CHRONIC=2, TOBACCO=2, CLASIFFICATION_FINAL=7, ICU=97, SEX=2),\n",
       " Row(USMER=2, MEDICAL_UNIT=1, PATIENT_TYPE=2, DATE_DIED='9999-99-99', INTUBED=2, PNEUMONIA=2, AGE=90, PREGNANT=97, DIABETES=2, COPD=2, ASTHMA=2, INMSUPR=2, HIPERTENSION=2, OTHER_DISEASE=2, CARDIOVASCULAR=2, OBESITY=2, RENAL_CHRONIC=2, TOBACCO=2, CLASIFFICATION_FINAL=7, ICU=2, SEX=2),\n",
       " Row(USMER=2, MEDICAL_UNIT=1, PATIENT_TYPE=1, DATE_DIED='9999-99-99', INTUBED=97, PNEUMONIA=2, AGE=34, PREGNANT=97, DIABETES=2, COPD=2, ASTHMA=2, INMSUPR=2, HIPERTENSION=1, OTHER_DISEASE=2, CARDIOVASCULAR=2, OBESITY=2, RENAL_CHRONIC=2, TOBACCO=2, CLASIFFICATION_FINAL=7, ICU=97, SEX=2),\n",
       " Row(USMER=2, MEDICAL_UNIT=1, PATIENT_TYPE=1, DATE_DIED='9999-99-99', INTUBED=97, PNEUMONIA=2, AGE=62, PREGNANT=97, DIABETES=1, COPD=2, ASTHMA=2, INMSUPR=2, HIPERTENSION=2, OTHER_DISEASE=2, CARDIOVASCULAR=2, OBESITY=2, RENAL_CHRONIC=2, TOBACCO=2, CLASIFFICATION_FINAL=7, ICU=97, SEX=2),\n",
       " Row(USMER=2, MEDICAL_UNIT=1, PATIENT_TYPE=1, DATE_DIED='9999-99-99', INTUBED=97, PNEUMONIA=2, AGE=38, PREGNANT=97, DIABETES=2, COPD=2, ASTHMA=2, INMSUPR=2, HIPERTENSION=2, OTHER_DISEASE=2, CARDIOVASCULAR=2, OBESITY=2, RENAL_CHRONIC=2, TOBACCO=2, CLASIFFICATION_FINAL=7, ICU=97, SEX=2),\n",
       " Row(USMER=2, MEDICAL_UNIT=1, PATIENT_TYPE=1, DATE_DIED='9999-99-99', INTUBED=97, PNEUMONIA=2, AGE=28, PREGNANT=97, DIABETES=2, COPD=2, ASTHMA=2, INMSUPR=2, HIPERTENSION=2, OTHER_DISEASE=2, CARDIOVASCULAR=2, OBESITY=2, RENAL_CHRONIC=2, TOBACCO=2, CLASIFFICATION_FINAL=7, ICU=97, SEX=2),\n",
       " Row(USMER=2, MEDICAL_UNIT=1, PATIENT_TYPE=1, DATE_DIED='9999-99-99', INTUBED=97, PNEUMONIA=2, AGE=27, PREGNANT=97, DIABETES=2, COPD=2, ASTHMA=2, INMSUPR=2, HIPERTENSION=2, OTHER_DISEASE=2, CARDIOVASCULAR=2, OBESITY=2, RENAL_CHRONIC=2, TOBACCO=1, CLASIFFICATION_FINAL=7, ICU=97, SEX=2),\n",
       " Row(USMER=2, MEDICAL_UNIT=1, PATIENT_TYPE=1, DATE_DIED='9999-99-99', INTUBED=97, PNEUMONIA=2, AGE=52, PREGNANT=97, DIABETES=2, COPD=2, ASTHMA=2, INMSUPR=2, HIPERTENSION=2, OTHER_DISEASE=2, CARDIOVASCULAR=2, OBESITY=2, RENAL_CHRONIC=2, TOBACCO=2, CLASIFFICATION_FINAL=7, ICU=97, SEX=2),\n",
       " Row(USMER=2, MEDICAL_UNIT=1, PATIENT_TYPE=2, DATE_DIED='9999-99-99', INTUBED=1, PNEUMONIA=1, AGE=30, PREGNANT=97, DIABETES=2, COPD=2, ASTHMA=2, INMSUPR=2, HIPERTENSION=2, OTHER_DISEASE=2, CARDIOVASCULAR=2, OBESITY=2, RENAL_CHRONIC=2, TOBACCO=1, CLASIFFICATION_FINAL=7, ICU=1, SEX=2),\n",
       " Row(USMER=2, MEDICAL_UNIT=1, PATIENT_TYPE=2, DATE_DIED='9999-99-99', INTUBED=2, PNEUMONIA=1, AGE=46, PREGNANT=97, DIABETES=2, COPD=2, ASTHMA=2, INMSUPR=2, HIPERTENSION=2, OTHER_DISEASE=2, CARDIOVASCULAR=2, OBESITY=2, RENAL_CHRONIC=2, TOBACCO=1, CLASIFFICATION_FINAL=7, ICU=1, SEX=2),\n",
       " Row(USMER=2, MEDICAL_UNIT=1, PATIENT_TYPE=1, DATE_DIED='9999-99-99', INTUBED=97, PNEUMONIA=2, AGE=56, PREGNANT=97, DIABETES=1, COPD=2, ASTHMA=2, INMSUPR=2, HIPERTENSION=2, OTHER_DISEASE=2, CARDIOVASCULAR=2, OBESITY=2, RENAL_CHRONIC=2, TOBACCO=2, CLASIFFICATION_FINAL=7, ICU=97, SEX=2),\n",
       " Row(USMER=2, MEDICAL_UNIT=1, PATIENT_TYPE=1, DATE_DIED='9999-99-99', INTUBED=97, PNEUMONIA=2, AGE=33, PREGNANT=97, DIABETES=2, COPD=2, ASTHMA=2, INMSUPR=2, HIPERTENSION=2, OTHER_DISEASE=2, CARDIOVASCULAR=2, OBESITY=2, RENAL_CHRONIC=2, TOBACCO=2, CLASIFFICATION_FINAL=7, ICU=97, SEX=2),\n",
       " Row(USMER=2, MEDICAL_UNIT=1, PATIENT_TYPE=1, DATE_DIED='9999-99-99', INTUBED=97, PNEUMONIA=2, AGE=38, PREGNANT=97, DIABETES=2, COPD=2, ASTHMA=2, INMSUPR=2, HIPERTENSION=2, OTHER_DISEASE=2, CARDIOVASCULAR=2, OBESITY=2, RENAL_CHRONIC=2, TOBACCO=2, CLASIFFICATION_FINAL=7, ICU=97, SEX=2),\n",
       " Row(USMER=2, MEDICAL_UNIT=1, PATIENT_TYPE=1, DATE_DIED='9999-99-99', INTUBED=97, PNEUMONIA=2, AGE=22, PREGNANT=97, DIABETES=2, COPD=2, ASTHMA=2, INMSUPR=2, HIPERTENSION=2, OTHER_DISEASE=2, CARDIOVASCULAR=2, OBESITY=2, RENAL_CHRONIC=2, TOBACCO=2, CLASIFFICATION_FINAL=7, ICU=97, SEX=2),\n",
       " Row(USMER=2, MEDICAL_UNIT=1, PATIENT_TYPE=1, DATE_DIED='9999-99-99', INTUBED=97, PNEUMONIA=2, AGE=39, PREGNANT=97, DIABETES=2, COPD=2, ASTHMA=2, INMSUPR=2, HIPERTENSION=2, OTHER_DISEASE=2, CARDIOVASCULAR=2, OBESITY=2, RENAL_CHRONIC=2, TOBACCO=2, CLASIFFICATION_FINAL=7, ICU=97, SEX=2),\n",
       " Row(USMER=2, MEDICAL_UNIT=1, PATIENT_TYPE=1, DATE_DIED='9999-99-99', INTUBED=97, PNEUMONIA=2, AGE=59, PREGNANT=97, DIABETES=2, COPD=2, ASTHMA=2, INMSUPR=2, HIPERTENSION=2, OTHER_DISEASE=2, CARDIOVASCULAR=2, OBESITY=2, RENAL_CHRONIC=2, TOBACCO=2, CLASIFFICATION_FINAL=7, ICU=97, SEX=2),\n",
       " Row(USMER=2, MEDICAL_UNIT=1, PATIENT_TYPE=1, DATE_DIED='9999-99-99', INTUBED=97, PNEUMONIA=2, AGE=66, PREGNANT=97, DIABETES=2, COPD=2, ASTHMA=2, INMSUPR=2, HIPERTENSION=2, OTHER_DISEASE=2, CARDIOVASCULAR=2, OBESITY=2, RENAL_CHRONIC=2, TOBACCO=2, CLASIFFICATION_FINAL=7, ICU=97, SEX=2),\n",
       " Row(USMER=2, MEDICAL_UNIT=1, PATIENT_TYPE=1, DATE_DIED='9999-99-99', INTUBED=97, PNEUMONIA=2, AGE=58, PREGNANT=97, DIABETES=2, COPD=2, ASTHMA=2, INMSUPR=2, HIPERTENSION=2, OTHER_DISEASE=2, CARDIOVASCULAR=2, OBESITY=2, RENAL_CHRONIC=2, TOBACCO=2, CLASIFFICATION_FINAL=7, ICU=97, SEX=2),\n",
       " Row(USMER=2, MEDICAL_UNIT=1, PATIENT_TYPE=1, DATE_DIED='9999-99-99', INTUBED=97, PNEUMONIA=2, AGE=34, PREGNANT=97, DIABETES=2, COPD=2, ASTHMA=2, INMSUPR=2, HIPERTENSION=2, OTHER_DISEASE=2, CARDIOVASCULAR=2, OBESITY=2, RENAL_CHRONIC=2, TOBACCO=2, CLASIFFICATION_FINAL=7, ICU=97, SEX=2),\n",
       " Row(USMER=2, MEDICAL_UNIT=1, PATIENT_TYPE=1, DATE_DIED='9999-99-99', INTUBED=97, PNEUMONIA=2, AGE=68, PREGNANT=97, DIABETES=2, COPD=2, ASTHMA=2, INMSUPR=2, HIPERTENSION=2, OTHER_DISEASE=2, CARDIOVASCULAR=2, OBESITY=2, RENAL_CHRONIC=2, TOBACCO=2, CLASIFFICATION_FINAL=7, ICU=97, SEX=2),\n",
       " Row(USMER=2, MEDICAL_UNIT=1, PATIENT_TYPE=1, DATE_DIED='9999-99-99', INTUBED=97, PNEUMONIA=2, AGE=31, PREGNANT=97, DIABETES=2, COPD=2, ASTHMA=2, INMSUPR=2, HIPERTENSION=2, OTHER_DISEASE=2, CARDIOVASCULAR=2, OBESITY=2, RENAL_CHRONIC=2, TOBACCO=2, CLASIFFICATION_FINAL=7, ICU=97, SEX=2),\n",
       " Row(USMER=2, MEDICAL_UNIT=1, PATIENT_TYPE=1, DATE_DIED='9999-99-99', INTUBED=97, PNEUMONIA=2, AGE=50, PREGNANT=97, DIABETES=2, COPD=2, ASTHMA=2, INMSUPR=2, HIPERTENSION=1, OTHER_DISEASE=2, CARDIOVASCULAR=2, OBESITY=2, RENAL_CHRONIC=2, TOBACCO=2, CLASIFFICATION_FINAL=7, ICU=97, SEX=2),\n",
       " Row(USMER=2, MEDICAL_UNIT=1, PATIENT_TYPE=1, DATE_DIED='9999-99-99', INTUBED=97, PNEUMONIA=2, AGE=30, PREGNANT=97, DIABETES=2, COPD=2, ASTHMA=2, INMSUPR=2, HIPERTENSION=2, OTHER_DISEASE=2, CARDIOVASCULAR=2, OBESITY=2, RENAL_CHRONIC=2, TOBACCO=2, CLASIFFICATION_FINAL=7, ICU=97, SEX=2),\n",
       " Row(USMER=2, MEDICAL_UNIT=1, PATIENT_TYPE=1, DATE_DIED='9999-99-99', INTUBED=97, PNEUMONIA=2, AGE=31, PREGNANT=97, DIABETES=2, COPD=2, ASTHMA=2, INMSUPR=2, HIPERTENSION=2, OTHER_DISEASE=2, CARDIOVASCULAR=2, OBESITY=1, RENAL_CHRONIC=2, TOBACCO=2, CLASIFFICATION_FINAL=7, ICU=97, SEX=2),\n",
       " Row(USMER=2, MEDICAL_UNIT=1, PATIENT_TYPE=1, DATE_DIED='9999-99-99', INTUBED=97, PNEUMONIA=2, AGE=30, PREGNANT=97, DIABETES=2, COPD=2, ASTHMA=2, INMSUPR=2, HIPERTENSION=2, OTHER_DISEASE=2, CARDIOVASCULAR=2, OBESITY=2, RENAL_CHRONIC=2, TOBACCO=1, CLASIFFICATION_FINAL=7, ICU=97, SEX=2),\n",
       " Row(USMER=2, MEDICAL_UNIT=1, PATIENT_TYPE=1, DATE_DIED='9999-99-99', INTUBED=97, PNEUMONIA=2, AGE=51, PREGNANT=97, DIABETES=2, COPD=2, ASTHMA=2, INMSUPR=2, HIPERTENSION=2, OTHER_DISEASE=2, CARDIOVASCULAR=2, OBESITY=2, RENAL_CHRONIC=2, TOBACCO=2, CLASIFFICATION_FINAL=7, ICU=97, SEX=2),\n",
       " Row(USMER=2, MEDICAL_UNIT=1, PATIENT_TYPE=1, DATE_DIED='9999-99-99', INTUBED=97, PNEUMONIA=2, AGE=30, PREGNANT=97, DIABETES=2, COPD=2, ASTHMA=2, INMSUPR=2, HIPERTENSION=2, OTHER_DISEASE=2, CARDIOVASCULAR=2, OBESITY=2, RENAL_CHRONIC=2, TOBACCO=1, CLASIFFICATION_FINAL=7, ICU=97, SEX=2),\n",
       " Row(USMER=2, MEDICAL_UNIT=1, PATIENT_TYPE=1, DATE_DIED='9999-99-99', INTUBED=97, PNEUMONIA=1, AGE=24, PREGNANT=97, DIABETES=2, COPD=2, ASTHMA=2, INMSUPR=2, HIPERTENSION=2, OTHER_DISEASE=2, CARDIOVASCULAR=2, OBESITY=2, RENAL_CHRONIC=2, TOBACCO=2, CLASIFFICATION_FINAL=7, ICU=97, SEX=2),\n",
       " Row(USMER=1, MEDICAL_UNIT=2, PATIENT_TYPE=2, DATE_DIED='05/04/2020', INTUBED=1, PNEUMONIA=1, AGE=14, PREGNANT=97, DIABETES=2, COPD=2, ASTHMA=2, INMSUPR=2, HIPERTENSION=2, OTHER_DISEASE=2, CARDIOVASCULAR=2, OBESITY=2, RENAL_CHRONIC=2, TOBACCO=2, CLASIFFICATION_FINAL=7, ICU=2, SEX=2),\n",
       " Row(USMER=1, MEDICAL_UNIT=2, PATIENT_TYPE=2, DATE_DIED='20/05/2020', INTUBED=1, PNEUMONIA=1, AGE=17, PREGNANT=97, DIABETES=2, COPD=2, ASTHMA=2, INMSUPR=2, HIPERTENSION=2, OTHER_DISEASE=2, CARDIOVASCULAR=2, OBESITY=2, RENAL_CHRONIC=2, TOBACCO=2, CLASIFFICATION_FINAL=7, ICU=2, SEX=2),\n",
       " Row(USMER=1, MEDICAL_UNIT=2, PATIENT_TYPE=2, DATE_DIED='17/07/2020', INTUBED=99, PNEUMONIA=1, AGE=0, PREGNANT=97, DIABETES=2, COPD=2, ASTHMA=2, INMSUPR=2, HIPERTENSION=2, OTHER_DISEASE=2, CARDIOVASCULAR=1, OBESITY=2, RENAL_CHRONIC=2, TOBACCO=2, CLASIFFICATION_FINAL=5, ICU=99, SEX=2),\n",
       " Row(USMER=2, MEDICAL_UNIT=2, PATIENT_TYPE=1, DATE_DIED='9999-99-99', INTUBED=97, PNEUMONIA=2, AGE=46, PREGNANT=97, DIABETES=2, COPD=2, ASTHMA=2, INMSUPR=2, HIPERTENSION=2, OTHER_DISEASE=2, CARDIOVASCULAR=2, OBESITY=2, RENAL_CHRONIC=2, TOBACCO=2, CLASIFFICATION_FINAL=3, ICU=97, SEX=2),\n",
       " Row(USMER=1, MEDICAL_UNIT=2, PATIENT_TYPE=1, DATE_DIED='9999-99-99', INTUBED=97, PNEUMONIA=2, AGE=17, PREGNANT=97, DIABETES=2, COPD=2, ASTHMA=2, INMSUPR=2, HIPERTENSION=2, OTHER_DISEASE=2, CARDIOVASCULAR=2, OBESITY=2, RENAL_CHRONIC=2, TOBACCO=2, CLASIFFICATION_FINAL=3, ICU=97, SEX=2),\n",
       " Row(USMER=1, MEDICAL_UNIT=2, PATIENT_TYPE=2, DATE_DIED='9999-99-99', INTUBED=2, PNEUMONIA=2, AGE=2, PREGNANT=97, DIABETES=2, COPD=2, ASTHMA=2, INMSUPR=2, HIPERTENSION=2, OTHER_DISEASE=2, CARDIOVASCULAR=2, OBESITY=2, RENAL_CHRONIC=2, TOBACCO=2, CLASIFFICATION_FINAL=3, ICU=2, SEX=2),\n",
       " Row(USMER=1, MEDICAL_UNIT=2, PATIENT_TYPE=2, DATE_DIED='9999-99-99', INTUBED=2, PNEUMONIA=2, AGE=1, PREGNANT=97, DIABETES=2, COPD=2, ASTHMA=2, INMSUPR=2, HIPERTENSION=2, OTHER_DISEASE=2, CARDIOVASCULAR=2, OBESITY=2, RENAL_CHRONIC=2, TOBACCO=2, CLASIFFICATION_FINAL=3, ICU=2, SEX=2),\n",
       " Row(USMER=1, MEDICAL_UNIT=2, PATIENT_TYPE=1, DATE_DIED='9999-99-99', INTUBED=97, PNEUMONIA=2, AGE=2, PREGNANT=97, DIABETES=2, COPD=2, ASTHMA=2, INMSUPR=2, HIPERTENSION=2, OTHER_DISEASE=2, CARDIOVASCULAR=2, OBESITY=2, RENAL_CHRONIC=2, TOBACCO=2, CLASIFFICATION_FINAL=3, ICU=97, SEX=2),\n",
       " Row(USMER=1, MEDICAL_UNIT=2, PATIENT_TYPE=2, DATE_DIED='9999-99-99', INTUBED=2, PNEUMONIA=1, AGE=14, PREGNANT=97, DIABETES=2, COPD=2, ASTHMA=2, INMSUPR=2, HIPERTENSION=2, OTHER_DISEASE=2, CARDIOVASCULAR=2, OBESITY=2, RENAL_CHRONIC=2, TOBACCO=2, CLASIFFICATION_FINAL=3, ICU=2, SEX=2),\n",
       " Row(USMER=1, MEDICAL_UNIT=2, PATIENT_TYPE=1, DATE_DIED='9999-99-99', INTUBED=97, PNEUMONIA=99, AGE=13, PREGNANT=97, DIABETES=2, COPD=2, ASTHMA=2, INMSUPR=2, HIPERTENSION=2, OTHER_DISEASE=2, CARDIOVASCULAR=2, OBESITY=2, RENAL_CHRONIC=2, TOBACCO=2, CLASIFFICATION_FINAL=6, ICU=97, SEX=2),\n",
       " Row(USMER=1, MEDICAL_UNIT=2, PATIENT_TYPE=1, DATE_DIED='9999-99-99', INTUBED=97, PNEUMONIA=99, AGE=2, PREGNANT=97, DIABETES=2, COPD=2, ASTHMA=2, INMSUPR=2, HIPERTENSION=2, OTHER_DISEASE=2, CARDIOVASCULAR=2, OBESITY=2, RENAL_CHRONIC=2, TOBACCO=2, CLASIFFICATION_FINAL=6, ICU=97, SEX=2),\n",
       " Row(USMER=1, MEDICAL_UNIT=2, PATIENT_TYPE=1, DATE_DIED='9999-99-99', INTUBED=97, PNEUMONIA=2, AGE=7, PREGNANT=97, DIABETES=2, COPD=2, ASTHMA=2, INMSUPR=2, HIPERTENSION=2, OTHER_DISEASE=2, CARDIOVASCULAR=2, OBESITY=2, RENAL_CHRONIC=2, TOBACCO=2, CLASIFFICATION_FINAL=6, ICU=97, SEX=2),\n",
       " Row(USMER=1, MEDICAL_UNIT=2, PATIENT_TYPE=1, DATE_DIED='9999-99-99', INTUBED=97, PNEUMONIA=2, AGE=6, PREGNANT=97, DIABETES=2, COPD=2, ASTHMA=2, INMSUPR=2, HIPERTENSION=2, OTHER_DISEASE=2, CARDIOVASCULAR=2, OBESITY=2, RENAL_CHRONIC=2, TOBACCO=2, CLASIFFICATION_FINAL=6, ICU=97, SEX=2),\n",
       " Row(USMER=1, MEDICAL_UNIT=2, PATIENT_TYPE=1, DATE_DIED='9999-99-99', INTUBED=97, PNEUMONIA=2, AGE=0, PREGNANT=97, DIABETES=2, COPD=2, ASTHMA=2, INMSUPR=2, HIPERTENSION=2, OTHER_DISEASE=2, CARDIOVASCULAR=2, OBESITY=2, RENAL_CHRONIC=2, TOBACCO=2, CLASIFFICATION_FINAL=6, ICU=97, SEX=2),\n",
       " Row(USMER=1, MEDICAL_UNIT=2, PATIENT_TYPE=1, DATE_DIED='9999-99-99', INTUBED=97, PNEUMONIA=2, AGE=12, PREGNANT=97, DIABETES=2, COPD=2, ASTHMA=2, INMSUPR=2, HIPERTENSION=2, OTHER_DISEASE=2, CARDIOVASCULAR=2, OBESITY=2, RENAL_CHRONIC=2, TOBACCO=2, CLASIFFICATION_FINAL=6, ICU=97, SEX=2),\n",
       " Row(USMER=1, MEDICAL_UNIT=2, PATIENT_TYPE=1, DATE_DIED='9999-99-99', INTUBED=97, PNEUMONIA=2, AGE=1, PREGNANT=97, DIABETES=2, COPD=2, ASTHMA=2, INMSUPR=2, HIPERTENSION=2, OTHER_DISEASE=2, CARDIOVASCULAR=2, OBESITY=2, RENAL_CHRONIC=2, TOBACCO=2, CLASIFFICATION_FINAL=6, ICU=97, SEX=2),\n",
       " Row(USMER=1, MEDICAL_UNIT=2, PATIENT_TYPE=1, DATE_DIED='9999-99-99', INTUBED=97, PNEUMONIA=2, AGE=13, PREGNANT=97, DIABETES=2, COPD=2, ASTHMA=2, INMSUPR=2, HIPERTENSION=2, OTHER_DISEASE=2, CARDIOVASCULAR=2, OBESITY=2, RENAL_CHRONIC=2, TOBACCO=2, CLASIFFICATION_FINAL=6, ICU=97, SEX=2),\n",
       " Row(USMER=1, MEDICAL_UNIT=2, PATIENT_TYPE=1, DATE_DIED='9999-99-99', INTUBED=97, PNEUMONIA=2, AGE=10, PREGNANT=97, DIABETES=2, COPD=2, ASTHMA=2, INMSUPR=2, HIPERTENSION=2, OTHER_DISEASE=2, CARDIOVASCULAR=2, OBESITY=2, RENAL_CHRONIC=2, TOBACCO=2, CLASIFFICATION_FINAL=6, ICU=97, SEX=2),\n",
       " Row(USMER=1, MEDICAL_UNIT=2, PATIENT_TYPE=2, DATE_DIED='9999-99-99', INTUBED=2, PNEUMONIA=2, AGE=1, PREGNANT=97, DIABETES=2, COPD=2, ASTHMA=2, INMSUPR=1, HIPERTENSION=2, OTHER_DISEASE=1, CARDIOVASCULAR=1, OBESITY=2, RENAL_CHRONIC=2, TOBACCO=2, CLASIFFICATION_FINAL=7, ICU=2, SEX=2),\n",
       " Row(USMER=1, MEDICAL_UNIT=2, PATIENT_TYPE=2, DATE_DIED='9999-99-99', INTUBED=99, PNEUMONIA=99, AGE=5, PREGNANT=97, DIABETES=2, COPD=2, ASTHMA=2, INMSUPR=2, HIPERTENSION=2, OTHER_DISEASE=2, CARDIOVASCULAR=2, OBESITY=2, RENAL_CHRONIC=2, TOBACCO=2, CLASIFFICATION_FINAL=7, ICU=99, SEX=2),\n",
       " Row(USMER=1, MEDICAL_UNIT=2, PATIENT_TYPE=2, DATE_DIED='9999-99-99', INTUBED=99, PNEUMONIA=99, AGE=2, PREGNANT=97, DIABETES=2, COPD=2, ASTHMA=2, INMSUPR=2, HIPERTENSION=2, OTHER_DISEASE=2, CARDIOVASCULAR=2, OBESITY=2, RENAL_CHRONIC=2, TOBACCO=2, CLASIFFICATION_FINAL=7, ICU=99, SEX=2),\n",
       " Row(USMER=1, MEDICAL_UNIT=2, PATIENT_TYPE=2, DATE_DIED='9999-99-99', INTUBED=2, PNEUMONIA=1, AGE=7, PREGNANT=97, DIABETES=2, COPD=2, ASTHMA=2, INMSUPR=2, HIPERTENSION=2, OTHER_DISEASE=2, CARDIOVASCULAR=2, OBESITY=2, RENAL_CHRONIC=2, TOBACCO=2, CLASIFFICATION_FINAL=7, ICU=1, SEX=2),\n",
       " Row(USMER=1, MEDICAL_UNIT=2, PATIENT_TYPE=2, DATE_DIED='9999-99-99', INTUBED=2, PNEUMONIA=1, AGE=1, PREGNANT=97, DIABETES=2, COPD=2, ASTHMA=2, INMSUPR=2, HIPERTENSION=2, OTHER_DISEASE=2, CARDIOVASCULAR=2, OBESITY=2, RENAL_CHRONIC=2, TOBACCO=2, CLASIFFICATION_FINAL=7, ICU=2, SEX=2),\n",
       " Row(USMER=1, MEDICAL_UNIT=2, PATIENT_TYPE=2, DATE_DIED='9999-99-99', INTUBED=2, PNEUMONIA=1, AGE=2, PREGNANT=97, DIABETES=2, COPD=2, ASTHMA=2, INMSUPR=2, HIPERTENSION=2, OTHER_DISEASE=2, CARDIOVASCULAR=2, OBESITY=2, RENAL_CHRONIC=2, TOBACCO=2, CLASIFFICATION_FINAL=7, ICU=2, SEX=2),\n",
       " Row(USMER=1, MEDICAL_UNIT=2, PATIENT_TYPE=2, DATE_DIED='9999-99-99', INTUBED=2, PNEUMONIA=1, AGE=1, PREGNANT=97, DIABETES=2, COPD=2, ASTHMA=2, INMSUPR=2, HIPERTENSION=2, OTHER_DISEASE=2, CARDIOVASCULAR=2, OBESITY=2, RENAL_CHRONIC=2, TOBACCO=2, CLASIFFICATION_FINAL=7, ICU=2, SEX=2),\n",
       " Row(USMER=1, MEDICAL_UNIT=2, PATIENT_TYPE=2, DATE_DIED='9999-99-99', INTUBED=2, PNEUMONIA=1, AGE=1, PREGNANT=97, DIABETES=2, COPD=2, ASTHMA=2, INMSUPR=2, HIPERTENSION=2, OTHER_DISEASE=2, CARDIOVASCULAR=2, OBESITY=2, RENAL_CHRONIC=2, TOBACCO=2, CLASIFFICATION_FINAL=7, ICU=2, SEX=2),\n",
       " Row(USMER=1, MEDICAL_UNIT=2, PATIENT_TYPE=1, DATE_DIED='9999-99-99', INTUBED=97, PNEUMONIA=2, AGE=7, PREGNANT=97, DIABETES=2, COPD=2, ASTHMA=2, INMSUPR=2, HIPERTENSION=2, OTHER_DISEASE=2, CARDIOVASCULAR=2, OBESITY=2, RENAL_CHRONIC=2, TOBACCO=2, CLASIFFICATION_FINAL=7, ICU=97, SEX=2),\n",
       " Row(USMER=1, MEDICAL_UNIT=2, PATIENT_TYPE=2, DATE_DIED='9999-99-99', INTUBED=2, PNEUMONIA=1, AGE=1, PREGNANT=97, DIABETES=2, COPD=2, ASTHMA=2, INMSUPR=2, HIPERTENSION=2, OTHER_DISEASE=2, CARDIOVASCULAR=2, OBESITY=2, RENAL_CHRONIC=2, TOBACCO=2, CLASIFFICATION_FINAL=7, ICU=2, SEX=2),\n",
       " Row(USMER=1, MEDICAL_UNIT=2, PATIENT_TYPE=2, DATE_DIED='9999-99-99', INTUBED=2, PNEUMONIA=2, AGE=8, PREGNANT=97, DIABETES=2, COPD=2, ASTHMA=2, INMSUPR=2, HIPERTENSION=2, OTHER_DISEASE=2, CARDIOVASCULAR=2, OBESITY=2, RENAL_CHRONIC=2, TOBACCO=2, CLASIFFICATION_FINAL=7, ICU=2, SEX=2),\n",
       " Row(USMER=1, MEDICAL_UNIT=2, PATIENT_TYPE=2, DATE_DIED='9999-99-99', INTUBED=2, PNEUMONIA=2, AGE=1, PREGNANT=97, DIABETES=2, COPD=2, ASTHMA=2, INMSUPR=2, HIPERTENSION=2, OTHER_DISEASE=2, CARDIOVASCULAR=2, OBESITY=2, RENAL_CHRONIC=2, TOBACCO=2, CLASIFFICATION_FINAL=7, ICU=2, SEX=2),\n",
       " Row(USMER=1, MEDICAL_UNIT=2, PATIENT_TYPE=2, DATE_DIED='9999-99-99', INTUBED=2, PNEUMONIA=2, AGE=0, PREGNANT=97, DIABETES=2, COPD=2, ASTHMA=2, INMSUPR=2, HIPERTENSION=2, OTHER_DISEASE=2, CARDIOVASCULAR=2, OBESITY=2, RENAL_CHRONIC=2, TOBACCO=2, CLASIFFICATION_FINAL=7, ICU=2, SEX=2),\n",
       " Row(USMER=1, MEDICAL_UNIT=2, PATIENT_TYPE=2, DATE_DIED='9999-99-99', INTUBED=1, PNEUMONIA=1, AGE=17, PREGNANT=97, DIABETES=2, COPD=2, ASTHMA=1, INMSUPR=2, HIPERTENSION=2, OTHER_DISEASE=2, CARDIOVASCULAR=2, OBESITY=1, RENAL_CHRONIC=2, TOBACCO=2, CLASIFFICATION_FINAL=7, ICU=1, SEX=2),\n",
       " Row(USMER=2, MEDICAL_UNIT=2, PATIENT_TYPE=1, DATE_DIED='9999-99-99', INTUBED=97, PNEUMONIA=2, AGE=20, PREGNANT=97, DIABETES=2, COPD=2, ASTHMA=2, INMSUPR=2, HIPERTENSION=2, OTHER_DISEASE=2, CARDIOVASCULAR=2, OBESITY=2, RENAL_CHRONIC=2, TOBACCO=2, CLASIFFICATION_FINAL=7, ICU=97, SEX=2),\n",
       " Row(USMER=2, MEDICAL_UNIT=2, PATIENT_TYPE=1, DATE_DIED='9999-99-99', INTUBED=97, PNEUMONIA=2, AGE=49, PREGNANT=97, DIABETES=2, COPD=2, ASTHMA=2, INMSUPR=2, HIPERTENSION=2, OTHER_DISEASE=2, CARDIOVASCULAR=2, OBESITY=2, RENAL_CHRONIC=2, TOBACCO=2, CLASIFFICATION_FINAL=7, ICU=97, SEX=2),\n",
       " Row(USMER=2, MEDICAL_UNIT=2, PATIENT_TYPE=1, DATE_DIED='9999-99-99', INTUBED=97, PNEUMONIA=2, AGE=92, PREGNANT=97, DIABETES=2, COPD=2, ASTHMA=2, INMSUPR=2, HIPERTENSION=2, OTHER_DISEASE=2, CARDIOVASCULAR=2, OBESITY=2, RENAL_CHRONIC=2, TOBACCO=2, CLASIFFICATION_FINAL=7, ICU=97, SEX=2),\n",
       " Row(USMER=2, MEDICAL_UNIT=2, PATIENT_TYPE=1, DATE_DIED='9999-99-99', INTUBED=97, PNEUMONIA=2, AGE=62, PREGNANT=97, DIABETES=2, COPD=2, ASTHMA=2, INMSUPR=2, HIPERTENSION=2, OTHER_DISEASE=2, CARDIOVASCULAR=2, OBESITY=2, RENAL_CHRONIC=2, TOBACCO=2, CLASIFFICATION_FINAL=7, ICU=97, SEX=2),\n",
       " Row(USMER=2, MEDICAL_UNIT=2, PATIENT_TYPE=1, DATE_DIED='9999-99-99', INTUBED=97, PNEUMONIA=2, AGE=73, PREGNANT=97, DIABETES=2, COPD=2, ASTHMA=2, INMSUPR=2, HIPERTENSION=2, OTHER_DISEASE=2, CARDIOVASCULAR=2, OBESITY=2, RENAL_CHRONIC=2, TOBACCO=2, CLASIFFICATION_FINAL=7, ICU=97, SEX=2),\n",
       " Row(USMER=2, MEDICAL_UNIT=2, PATIENT_TYPE=1, DATE_DIED='9999-99-99', INTUBED=97, PNEUMONIA=2, AGE=75, PREGNANT=97, DIABETES=2, COPD=2, ASTHMA=2, INMSUPR=2, HIPERTENSION=2, OTHER_DISEASE=2, CARDIOVASCULAR=2, OBESITY=2, RENAL_CHRONIC=2, TOBACCO=2, CLASIFFICATION_FINAL=7, ICU=97, SEX=2),\n",
       " Row(USMER=2, MEDICAL_UNIT=2, PATIENT_TYPE=1, DATE_DIED='9999-99-99', INTUBED=97, PNEUMONIA=2, AGE=70, PREGNANT=97, DIABETES=2, COPD=2, ASTHMA=2, INMSUPR=2, HIPERTENSION=2, OTHER_DISEASE=2, CARDIOVASCULAR=2, OBESITY=2, RENAL_CHRONIC=2, TOBACCO=2, CLASIFFICATION_FINAL=7, ICU=97, SEX=2),\n",
       " Row(USMER=2, MEDICAL_UNIT=2, PATIENT_TYPE=1, DATE_DIED='9999-99-99', INTUBED=97, PNEUMONIA=2, AGE=74, PREGNANT=97, DIABETES=2, COPD=2, ASTHMA=2, INMSUPR=2, HIPERTENSION=2, OTHER_DISEASE=2, CARDIOVASCULAR=2, OBESITY=2, RENAL_CHRONIC=2, TOBACCO=2, CLASIFFICATION_FINAL=7, ICU=97, SEX=2),\n",
       " Row(USMER=2, MEDICAL_UNIT=2, PATIENT_TYPE=1, DATE_DIED='9999-99-99', INTUBED=97, PNEUMONIA=2, AGE=74, PREGNANT=97, DIABETES=1, COPD=2, ASTHMA=2, INMSUPR=2, HIPERTENSION=1, OTHER_DISEASE=2, CARDIOVASCULAR=2, OBESITY=2, RENAL_CHRONIC=2, TOBACCO=2, CLASIFFICATION_FINAL=7, ICU=97, SEX=2),\n",
       " Row(USMER=2, MEDICAL_UNIT=2, PATIENT_TYPE=1, DATE_DIED='9999-99-99', INTUBED=97, PNEUMONIA=2, AGE=81, PREGNANT=97, DIABETES=2, COPD=2, ASTHMA=2, INMSUPR=2, HIPERTENSION=2, OTHER_DISEASE=2, CARDIOVASCULAR=2, OBESITY=2, RENAL_CHRONIC=2, TOBACCO=2, CLASIFFICATION_FINAL=7, ICU=97, SEX=2),\n",
       " Row(USMER=2, MEDICAL_UNIT=2, PATIENT_TYPE=1, DATE_DIED='9999-99-99', INTUBED=97, PNEUMONIA=2, AGE=80, PREGNANT=97, DIABETES=2, COPD=2, ASTHMA=2, INMSUPR=2, HIPERTENSION=2, OTHER_DISEASE=2, CARDIOVASCULAR=2, OBESITY=2, RENAL_CHRONIC=2, TOBACCO=2, CLASIFFICATION_FINAL=7, ICU=97, SEX=2),\n",
       " Row(USMER=2, MEDICAL_UNIT=2, PATIENT_TYPE=1, DATE_DIED='9999-99-99', INTUBED=97, PNEUMONIA=2, AGE=78, PREGNANT=97, DIABETES=2, COPD=2, ASTHMA=2, INMSUPR=2, HIPERTENSION=1, OTHER_DISEASE=2, CARDIOVASCULAR=2, OBESITY=2, RENAL_CHRONIC=2, TOBACCO=2, CLASIFFICATION_FINAL=7, ICU=97, SEX=2),\n",
       " Row(USMER=2, MEDICAL_UNIT=2, PATIENT_TYPE=1, DATE_DIED='9999-99-99', INTUBED=97, PNEUMONIA=2, AGE=76, PREGNANT=97, DIABETES=2, COPD=2, ASTHMA=2, INMSUPR=2, HIPERTENSION=2, OTHER_DISEASE=2, CARDIOVASCULAR=2, OBESITY=2, RENAL_CHRONIC=2, TOBACCO=2, CLASIFFICATION_FINAL=7, ICU=97, SEX=2),\n",
       " Row(USMER=2, MEDICAL_UNIT=2, PATIENT_TYPE=1, DATE_DIED='9999-99-99', INTUBED=97, PNEUMONIA=2, AGE=74, PREGNANT=97, DIABETES=2, COPD=2, ASTHMA=2, INMSUPR=2, HIPERTENSION=2, OTHER_DISEASE=2, CARDIOVASCULAR=2, OBESITY=2, RENAL_CHRONIC=2, TOBACCO=2, CLASIFFICATION_FINAL=7, ICU=97, SEX=2),\n",
       " Row(USMER=2, MEDICAL_UNIT=2, PATIENT_TYPE=1, DATE_DIED='9999-99-99', INTUBED=97, PNEUMONIA=2, AGE=85, PREGNANT=97, DIABETES=2, COPD=2, ASTHMA=2, INMSUPR=2, HIPERTENSION=2, OTHER_DISEASE=2, CARDIOVASCULAR=2, OBESITY=2, RENAL_CHRONIC=2, TOBACCO=2, CLASIFFICATION_FINAL=7, ICU=97, SEX=2),\n",
       " Row(USMER=2, MEDICAL_UNIT=2, PATIENT_TYPE=1, DATE_DIED='9999-99-99', INTUBED=97, PNEUMONIA=2, AGE=82, PREGNANT=97, DIABETES=2, COPD=2, ASTHMA=2, INMSUPR=2, HIPERTENSION=2, OTHER_DISEASE=2, CARDIOVASCULAR=2, OBESITY=2, RENAL_CHRONIC=2, TOBACCO=2, CLASIFFICATION_FINAL=7, ICU=97, SEX=2),\n",
       " Row(USMER=2, MEDICAL_UNIT=2, PATIENT_TYPE=1, DATE_DIED='9999-99-99', INTUBED=97, PNEUMONIA=2, AGE=81, PREGNANT=97, DIABETES=2, COPD=2, ASTHMA=2, INMSUPR=2, HIPERTENSION=1, OTHER_DISEASE=2, CARDIOVASCULAR=2, OBESITY=2, RENAL_CHRONIC=2, TOBACCO=2, CLASIFFICATION_FINAL=7, ICU=97, SEX=2),\n",
       " Row(USMER=2, MEDICAL_UNIT=2, PATIENT_TYPE=1, DATE_DIED='9999-99-99', INTUBED=97, PNEUMONIA=2, AGE=75, PREGNANT=97, DIABETES=2, COPD=2, ASTHMA=2, INMSUPR=2, HIPERTENSION=1, OTHER_DISEASE=2, CARDIOVASCULAR=2, OBESITY=2, RENAL_CHRONIC=2, TOBACCO=2, CLASIFFICATION_FINAL=7, ICU=97, SEX=2),\n",
       " Row(USMER=2, MEDICAL_UNIT=2, PATIENT_TYPE=1, DATE_DIED='9999-99-99', INTUBED=97, PNEUMONIA=2, AGE=81, PREGNANT=97, DIABETES=2, COPD=2, ASTHMA=2, INMSUPR=2, HIPERTENSION=2, OTHER_DISEASE=2, CARDIOVASCULAR=2, OBESITY=2, RENAL_CHRONIC=2, TOBACCO=2, CLASIFFICATION_FINAL=7, ICU=97, SEX=2),\n",
       " Row(USMER=2, MEDICAL_UNIT=2, PATIENT_TYPE=1, DATE_DIED='9999-99-99', INTUBED=97, PNEUMONIA=2, AGE=90, PREGNANT=97, DIABETES=2, COPD=2, ASTHMA=2, INMSUPR=2, HIPERTENSION=2, OTHER_DISEASE=2, CARDIOVASCULAR=2, OBESITY=2, RENAL_CHRONIC=2, TOBACCO=2, CLASIFFICATION_FINAL=7, ICU=97, SEX=2),\n",
       " Row(USMER=2, MEDICAL_UNIT=2, PATIENT_TYPE=1, DATE_DIED='9999-99-99', INTUBED=97, PNEUMONIA=2, AGE=77, PREGNANT=97, DIABETES=2, COPD=2, ASTHMA=2, INMSUPR=2, HIPERTENSION=2, OTHER_DISEASE=2, CARDIOVASCULAR=2, OBESITY=2, RENAL_CHRONIC=2, TOBACCO=2, CLASIFFICATION_FINAL=7, ICU=97, SEX=2),\n",
       " Row(USMER=2, MEDICAL_UNIT=2, PATIENT_TYPE=1, DATE_DIED='9999-99-99', INTUBED=97, PNEUMONIA=2, AGE=86, PREGNANT=97, DIABETES=2, COPD=2, ASTHMA=2, INMSUPR=2, HIPERTENSION=2, OTHER_DISEASE=2, CARDIOVASCULAR=2, OBESITY=2, RENAL_CHRONIC=2, TOBACCO=2, CLASIFFICATION_FINAL=7, ICU=97, SEX=2),\n",
       " Row(USMER=2, MEDICAL_UNIT=2, PATIENT_TYPE=1, DATE_DIED='9999-99-99', INTUBED=97, PNEUMONIA=2, AGE=72, PREGNANT=97, DIABETES=2, COPD=2, ASTHMA=2, INMSUPR=2, HIPERTENSION=2, OTHER_DISEASE=2, CARDIOVASCULAR=2, OBESITY=2, RENAL_CHRONIC=2, TOBACCO=2, CLASIFFICATION_FINAL=7, ICU=97, SEX=2),\n",
       " Row(USMER=2, MEDICAL_UNIT=2, PATIENT_TYPE=1, DATE_DIED='9999-99-99', INTUBED=97, PNEUMONIA=2, AGE=81, PREGNANT=97, DIABETES=2, COPD=2, ASTHMA=2, INMSUPR=2, HIPERTENSION=1, OTHER_DISEASE=2, CARDIOVASCULAR=2, OBESITY=2, RENAL_CHRONIC=2, TOBACCO=2, CLASIFFICATION_FINAL=7, ICU=97, SEX=2),\n",
       " Row(USMER=2, MEDICAL_UNIT=2, PATIENT_TYPE=1, DATE_DIED='9999-99-99', INTUBED=97, PNEUMONIA=2, AGE=71, PREGNANT=97, DIABETES=2, COPD=2, ASTHMA=2, INMSUPR=2, HIPERTENSION=2, OTHER_DISEASE=2, CARDIOVASCULAR=2, OBESITY=2, RENAL_CHRONIC=2, TOBACCO=2, CLASIFFICATION_FINAL=7, ICU=97, SEX=2),\n",
       " Row(USMER=2, MEDICAL_UNIT=2, PATIENT_TYPE=1, DATE_DIED='9999-99-99', INTUBED=97, PNEUMONIA=2, AGE=95, PREGNANT=97, DIABETES=2, COPD=2, ASTHMA=2, INMSUPR=2, HIPERTENSION=2, OTHER_DISEASE=2, CARDIOVASCULAR=2, OBESITY=2, RENAL_CHRONIC=2, TOBACCO=2, CLASIFFICATION_FINAL=7, ICU=97, SEX=2),\n",
       " Row(USMER=2, MEDICAL_UNIT=2, PATIENT_TYPE=1, DATE_DIED='9999-99-99', INTUBED=97, PNEUMONIA=2, AGE=92, PREGNANT=97, DIABETES=2, COPD=2, ASTHMA=2, INMSUPR=2, HIPERTENSION=2, OTHER_DISEASE=2, CARDIOVASCULAR=2, OBESITY=2, RENAL_CHRONIC=2, TOBACCO=2, CLASIFFICATION_FINAL=7, ICU=97, SEX=2),\n",
       " Row(USMER=2, MEDICAL_UNIT=2, PATIENT_TYPE=1, DATE_DIED='9999-99-99', INTUBED=97, PNEUMONIA=2, AGE=45, PREGNANT=97, DIABETES=2, COPD=2, ASTHMA=2, INMSUPR=2, HIPERTENSION=2, OTHER_DISEASE=2, CARDIOVASCULAR=2, OBESITY=1, RENAL_CHRONIC=2, TOBACCO=2, CLASIFFICATION_FINAL=7, ICU=97, SEX=2),\n",
       " Row(USMER=2, MEDICAL_UNIT=2, PATIENT_TYPE=1, DATE_DIED='9999-99-99', INTUBED=97, PNEUMONIA=2, AGE=45, PREGNANT=97, DIABETES=2, COPD=2, ASTHMA=2, INMSUPR=2, HIPERTENSION=2, OTHER_DISEASE=2, CARDIOVASCULAR=2, OBESITY=2, RENAL_CHRONIC=2, TOBACCO=2, CLASIFFICATION_FINAL=7, ICU=97, SEX=2),\n",
       " Row(USMER=2, MEDICAL_UNIT=2, PATIENT_TYPE=1, DATE_DIED='9999-99-99', INTUBED=97, PNEUMONIA=2, AGE=51, PREGNANT=97, DIABETES=2, COPD=2, ASTHMA=2, INMSUPR=2, HIPERTENSION=2, OTHER_DISEASE=2, CARDIOVASCULAR=2, OBESITY=2, RENAL_CHRONIC=2, TOBACCO=2, CLASIFFICATION_FINAL=7, ICU=97, SEX=2),\n",
       " Row(USMER=2, MEDICAL_UNIT=2, PATIENT_TYPE=1, DATE_DIED='9999-99-99', INTUBED=97, PNEUMONIA=2, AGE=52, PREGNANT=97, DIABETES=2, COPD=2, ASTHMA=2, INMSUPR=2, HIPERTENSION=2, OTHER_DISEASE=2, CARDIOVASCULAR=2, OBESITY=1, RENAL_CHRONIC=2, TOBACCO=2, CLASIFFICATION_FINAL=7, ICU=97, SEX=2),\n",
       " Row(USMER=1, MEDICAL_UNIT=2, PATIENT_TYPE=2, DATE_DIED='9999-99-99', INTUBED=2, PNEUMONIA=1, AGE=0, PREGNANT=97, DIABETES=2, COPD=2, ASTHMA=2, INMSUPR=2, HIPERTENSION=2, OTHER_DISEASE=2, CARDIOVASCULAR=2, OBESITY=2, RENAL_CHRONIC=2, TOBACCO=2, CLASIFFICATION_FINAL=7, ICU=2, SEX=2),\n",
       " Row(USMER=1, MEDICAL_UNIT=2, PATIENT_TYPE=2, DATE_DIED='9999-99-99', INTUBED=2, PNEUMONIA=1, AGE=16, PREGNANT=97, DIABETES=2, COPD=2, ASTHMA=2, INMSUPR=2, HIPERTENSION=2, OTHER_DISEASE=2, CARDIOVASCULAR=2, OBESITY=2, RENAL_CHRONIC=2, TOBACCO=2, CLASIFFICATION_FINAL=7, ICU=2, SEX=2),\n",
       " Row(USMER=1, MEDICAL_UNIT=2, PATIENT_TYPE=2, DATE_DIED='9999-99-99', INTUBED=2, PNEUMONIA=2, AGE=1, PREGNANT=97, DIABETES=2, COPD=2, ASTHMA=2, INMSUPR=2, HIPERTENSION=2, OTHER_DISEASE=2, CARDIOVASCULAR=2, OBESITY=2, RENAL_CHRONIC=2, TOBACCO=2, CLASIFFICATION_FINAL=7, ICU=2, SEX=2),\n",
       " Row(USMER=1, MEDICAL_UNIT=2, PATIENT_TYPE=2, DATE_DIED='9999-99-99', INTUBED=2, PNEUMONIA=2, AGE=16, PREGNANT=97, DIABETES=2, COPD=2, ASTHMA=2, INMSUPR=1, HIPERTENSION=2, OTHER_DISEASE=2, CARDIOVASCULAR=2, OBESITY=2, RENAL_CHRONIC=2, TOBACCO=2, CLASIFFICATION_FINAL=7, ICU=2, SEX=2),\n",
       " Row(USMER=2, MEDICAL_UNIT=2, PATIENT_TYPE=1, DATE_DIED='9999-99-99', INTUBED=97, PNEUMONIA=2, AGE=27, PREGNANT=97, DIABETES=2, COPD=2, ASTHMA=1, INMSUPR=2, HIPERTENSION=2, OTHER_DISEASE=2, CARDIOVASCULAR=2, OBESITY=1, RENAL_CHRONIC=2, TOBACCO=2, CLASIFFICATION_FINAL=7, ICU=97, SEX=2),\n",
       " Row(USMER=1, MEDICAL_UNIT=2, PATIENT_TYPE=2, DATE_DIED='9999-99-99', INTUBED=2, PNEUMONIA=1, AGE=1, PREGNANT=97, DIABETES=2, COPD=2, ASTHMA=2, INMSUPR=2, HIPERTENSION=2, OTHER_DISEASE=2, CARDIOVASCULAR=1, OBESITY=2, RENAL_CHRONIC=2, TOBACCO=2, CLASIFFICATION_FINAL=7, ICU=2, SEX=2),\n",
       " Row(USMER=1, MEDICAL_UNIT=2, PATIENT_TYPE=2, DATE_DIED='9999-99-99', INTUBED=2, PNEUMONIA=1, AGE=1, PREGNANT=97, DIABETES=2, COPD=2, ASTHMA=2, INMSUPR=2, HIPERTENSION=2, OTHER_DISEASE=2, CARDIOVASCULAR=2, OBESITY=2, RENAL_CHRONIC=2, TOBACCO=2, CLASIFFICATION_FINAL=7, ICU=2, SEX=2),\n",
       " Row(USMER=1, MEDICAL_UNIT=3, PATIENT_TYPE=2, DATE_DIED='22/01/2020', INTUBED=99, PNEUMONIA=99, AGE=2, PREGNANT=97, DIABETES=2, COPD=2, ASTHMA=2, INMSUPR=2, HIPERTENSION=2, OTHER_DISEASE=2, CARDIOVASCULAR=2, OBESITY=2, RENAL_CHRONIC=2, TOBACCO=2, CLASIFFICATION_FINAL=7, ICU=99, SEX=2),\n",
       " Row(USMER=1, MEDICAL_UNIT=3, PATIENT_TYPE=2, DATE_DIED='29/01/2020', INTUBED=99, PNEUMONIA=99, AGE=59, PREGNANT=97, DIABETES=1, COPD=2, ASTHMA=2, INMSUPR=2, HIPERTENSION=1, OTHER_DISEASE=2, CARDIOVASCULAR=2, OBESITY=2, RENAL_CHRONIC=2, TOBACCO=2, CLASIFFICATION_FINAL=6, ICU=99, SEX=2),\n",
       " Row(USMER=1, MEDICAL_UNIT=3, PATIENT_TYPE=2, DATE_DIED='18/02/2020', INTUBED=2, PNEUMONIA=2, AGE=43, PREGNANT=97, DIABETES=1, COPD=2, ASTHMA=2, INMSUPR=2, HIPERTENSION=1, OTHER_DISEASE=2, CARDIOVASCULAR=2, OBESITY=2, RENAL_CHRONIC=1, TOBACCO=2, CLASIFFICATION_FINAL=7, ICU=2, SEX=2),\n",
       " Row(USMER=1, MEDICAL_UNIT=3, PATIENT_TYPE=2, DATE_DIED='12/03/2020', INTUBED=99, PNEUMONIA=99, AGE=64, PREGNANT=97, DIABETES=2, COPD=2, ASTHMA=2, INMSUPR=2, HIPERTENSION=2, OTHER_DISEASE=2, CARDIOVASCULAR=2, OBESITY=2, RENAL_CHRONIC=2, TOBACCO=2, CLASIFFICATION_FINAL=7, ICU=99, SEX=2),\n",
       " Row(USMER=1, MEDICAL_UNIT=3, PATIENT_TYPE=2, DATE_DIED='14/03/2020', INTUBED=2, PNEUMONIA=1, AGE=54, PREGNANT=97, DIABETES=2, COPD=2, ASTHMA=2, INMSUPR=2, HIPERTENSION=2, OTHER_DISEASE=2, CARDIOVASCULAR=2, OBESITY=2, RENAL_CHRONIC=2, TOBACCO=2, CLASIFFICATION_FINAL=7, ICU=2, SEX=2),\n",
       " Row(USMER=1, MEDICAL_UNIT=3, PATIENT_TYPE=2, DATE_DIED='18/03/2020', INTUBED=1, PNEUMONIA=1, AGE=59, PREGNANT=97, DIABETES=2, COPD=2, ASTHMA=2, INMSUPR=2, HIPERTENSION=2, OTHER_DISEASE=2, CARDIOVASCULAR=2, OBESITY=2, RENAL_CHRONIC=2, TOBACCO=2, CLASIFFICATION_FINAL=6, ICU=1, SEX=2),\n",
       " Row(USMER=1, MEDICAL_UNIT=3, PATIENT_TYPE=2, DATE_DIED='28/03/2020', INTUBED=2, PNEUMONIA=1, AGE=47, PREGNANT=97, DIABETES=2, COPD=1, ASTHMA=2, INMSUPR=2, HIPERTENSION=1, OTHER_DISEASE=2, CARDIOVASCULAR=2, OBESITY=1, RENAL_CHRONIC=2, TOBACCO=2, CLASIFFICATION_FINAL=3, ICU=2, SEX=2),\n",
       " Row(USMER=2, MEDICAL_UNIT=3, PATIENT_TYPE=2, DATE_DIED='29/03/2020', INTUBED=2, PNEUMONIA=1, AGE=43, PREGNANT=97, DIABETES=2, COPD=2, ASTHMA=2, INMSUPR=2, HIPERTENSION=2, OTHER_DISEASE=2, CARDIOVASCULAR=2, OBESITY=2, RENAL_CHRONIC=2, TOBACCO=1, CLASIFFICATION_FINAL=3, ICU=2, SEX=2),\n",
       " Row(USMER=2, MEDICAL_UNIT=3, PATIENT_TYPE=2, DATE_DIED='02/04/2020', INTUBED=2, PNEUMONIA=1, AGE=86, PREGNANT=97, DIABETES=2, COPD=1, ASTHMA=2, INMSUPR=2, HIPERTENSION=2, OTHER_DISEASE=2, CARDIOVASCULAR=2, OBESITY=2, RENAL_CHRONIC=2, TOBACCO=1, CLASIFFICATION_FINAL=3, ICU=2, SEX=2),\n",
       " Row(USMER=1, MEDICAL_UNIT=3, PATIENT_TYPE=2, DATE_DIED='06/04/2020', INTUBED=1, PNEUMONIA=1, AGE=90, PREGNANT=97, DIABETES=2, COPD=2, ASTHMA=2, INMSUPR=2, HIPERTENSION=1, OTHER_DISEASE=2, CARDIOVASCULAR=2, OBESITY=2, RENAL_CHRONIC=2, TOBACCO=2, CLASIFFICATION_FINAL=3, ICU=1, SEX=2),\n",
       " Row(USMER=1, MEDICAL_UNIT=3, PATIENT_TYPE=2, DATE_DIED='07/04/2020', INTUBED=1, PNEUMONIA=1, AGE=61, PREGNANT=97, DIABETES=2, COPD=2, ASTHMA=2, INMSUPR=2, HIPERTENSION=1, OTHER_DISEASE=2, CARDIOVASCULAR=2, OBESITY=1, RENAL_CHRONIC=2, TOBACCO=2, CLASIFFICATION_FINAL=3, ICU=1, SEX=2),\n",
       " Row(USMER=1, MEDICAL_UNIT=3, PATIENT_TYPE=2, DATE_DIED='09/04/2020', INTUBED=2, PNEUMONIA=1, AGE=88, PREGNANT=97, DIABETES=1, COPD=1, ASTHMA=2, INMSUPR=2, HIPERTENSION=1, OTHER_DISEASE=2, CARDIOVASCULAR=2, OBESITY=1, RENAL_CHRONIC=1, TOBACCO=2, CLASIFFICATION_FINAL=3, ICU=2, SEX=2),\n",
       " Row(USMER=2, MEDICAL_UNIT=3, PATIENT_TYPE=2, DATE_DIED='09/04/2020', INTUBED=1, PNEUMONIA=1, AGE=60, PREGNANT=97, DIABETES=1, COPD=2, ASTHMA=2, INMSUPR=2, HIPERTENSION=1, OTHER_DISEASE=2, CARDIOVASCULAR=2, OBESITY=2, RENAL_CHRONIC=1, TOBACCO=2, CLASIFFICATION_FINAL=3, ICU=1, SEX=2),\n",
       " Row(USMER=2, MEDICAL_UNIT=3, PATIENT_TYPE=2, DATE_DIED='10/04/2020', INTUBED=1, PNEUMONIA=1, AGE=42, PREGNANT=97, DIABETES=1, COPD=2, ASTHMA=2, INMSUPR=2, HIPERTENSION=1, OTHER_DISEASE=2, CARDIOVASCULAR=2, OBESITY=1, RENAL_CHRONIC=2, TOBACCO=2, CLASIFFICATION_FINAL=3, ICU=2, SEX=2),\n",
       " Row(USMER=1, MEDICAL_UNIT=3, PATIENT_TYPE=2, DATE_DIED='10/04/2020', INTUBED=1, PNEUMONIA=1, AGE=63, PREGNANT=97, DIABETES=1, COPD=1, ASTHMA=2, INMSUPR=2, HIPERTENSION=1, OTHER_DISEASE=98, CARDIOVASCULAR=2, OBESITY=1, RENAL_CHRONIC=2, TOBACCO=1, CLASIFFICATION_FINAL=7, ICU=1, SEX=2),\n",
       " Row(USMER=2, MEDICAL_UNIT=3, PATIENT_TYPE=2, DATE_DIED='10/04/2020', INTUBED=1, PNEUMONIA=1, AGE=62, PREGNANT=97, DIABETES=2, COPD=1, ASTHMA=2, INMSUPR=2, HIPERTENSION=1, OTHER_DISEASE=2, CARDIOVASCULAR=2, OBESITY=2, RENAL_CHRONIC=2, TOBACCO=2, CLASIFFICATION_FINAL=7, ICU=1, SEX=2),\n",
       " Row(USMER=2, MEDICAL_UNIT=3, PATIENT_TYPE=2, DATE_DIED='11/04/2020', INTUBED=2, PNEUMONIA=1, AGE=74, PREGNANT=97, DIABETES=1, COPD=2, ASTHMA=2, INMSUPR=2, HIPERTENSION=1, OTHER_DISEASE=2, CARDIOVASCULAR=2, OBESITY=2, RENAL_CHRONIC=2, TOBACCO=1, CLASIFFICATION_FINAL=3, ICU=2, SEX=2),\n",
       " Row(USMER=2, MEDICAL_UNIT=3, PATIENT_TYPE=2, DATE_DIED='11/04/2020', INTUBED=1, PNEUMONIA=1, AGE=61, PREGNANT=97, DIABETES=2, COPD=2, ASTHMA=2, INMSUPR=2, HIPERTENSION=1, OTHER_DISEASE=2, CARDIOVASCULAR=1, OBESITY=2, RENAL_CHRONIC=2, TOBACCO=2, CLASIFFICATION_FINAL=3, ICU=2, SEX=2),\n",
       " Row(USMER=2, MEDICAL_UNIT=3, PATIENT_TYPE=2, DATE_DIED='11/04/2020', INTUBED=2, PNEUMONIA=1, AGE=59, PREGNANT=97, DIABETES=1, COPD=2, ASTHMA=2, INMSUPR=2, HIPERTENSION=2, OTHER_DISEASE=2, CARDIOVASCULAR=2, OBESITY=2, RENAL_CHRONIC=2, TOBACCO=2, CLASIFFICATION_FINAL=3, ICU=2, SEX=2),\n",
       " Row(USMER=1, MEDICAL_UNIT=3, PATIENT_TYPE=2, DATE_DIED='11/04/2020', INTUBED=2, PNEUMONIA=1, AGE=61, PREGNANT=97, DIABETES=1, COPD=2, ASTHMA=2, INMSUPR=1, HIPERTENSION=2, OTHER_DISEASE=2, CARDIOVASCULAR=2, OBESITY=2, RENAL_CHRONIC=2, TOBACCO=2, CLASIFFICATION_FINAL=7, ICU=2, SEX=2),\n",
       " Row(USMER=2, MEDICAL_UNIT=3, PATIENT_TYPE=2, DATE_DIED='12/04/2020', INTUBED=1, PNEUMONIA=1, AGE=53, PREGNANT=97, DIABETES=2, COPD=2, ASTHMA=2, INMSUPR=2, HIPERTENSION=1, OTHER_DISEASE=2, CARDIOVASCULAR=2, OBESITY=2, RENAL_CHRONIC=2, TOBACCO=1, CLASIFFICATION_FINAL=3, ICU=2, SEX=2),\n",
       " Row(USMER=1, MEDICAL_UNIT=3, PATIENT_TYPE=2, DATE_DIED='12/04/2020', INTUBED=2, PNEUMONIA=1, AGE=83, PREGNANT=97, DIABETES=2, COPD=1, ASTHMA=2, INMSUPR=2, HIPERTENSION=1, OTHER_DISEASE=2, CARDIOVASCULAR=2, OBESITY=2, RENAL_CHRONIC=2, TOBACCO=2, CLASIFFICATION_FINAL=3, ICU=2, SEX=2),\n",
       " Row(USMER=2, MEDICAL_UNIT=3, PATIENT_TYPE=2, DATE_DIED='13/04/2020', INTUBED=1, PNEUMONIA=1, AGE=57, PREGNANT=97, DIABETES=2, COPD=2, ASTHMA=2, INMSUPR=2, HIPERTENSION=2, OTHER_DISEASE=2, CARDIOVASCULAR=2, OBESITY=1, RENAL_CHRONIC=2, TOBACCO=1, CLASIFFICATION_FINAL=3, ICU=2, SEX=2),\n",
       " Row(USMER=1, MEDICAL_UNIT=3, PATIENT_TYPE=2, DATE_DIED='14/04/2020', INTUBED=1, PNEUMONIA=1, AGE=68, PREGNANT=97, DIABETES=1, COPD=2, ASTHMA=2, INMSUPR=2, HIPERTENSION=1, OTHER_DISEASE=2, CARDIOVASCULAR=2, OBESITY=2, RENAL_CHRONIC=1, TOBACCO=1, CLASIFFICATION_FINAL=3, ICU=2, SEX=2),\n",
       " Row(USMER=2, MEDICAL_UNIT=3, PATIENT_TYPE=2, DATE_DIED='14/04/2020', INTUBED=1, PNEUMONIA=1, AGE=57, PREGNANT=97, DIABETES=1, COPD=2, ASTHMA=2, INMSUPR=2, HIPERTENSION=2, OTHER_DISEASE=2, CARDIOVASCULAR=2, OBESITY=2, RENAL_CHRONIC=2, TOBACCO=2, CLASIFFICATION_FINAL=3, ICU=2, SEX=2),\n",
       " Row(USMER=2, MEDICAL_UNIT=3, PATIENT_TYPE=2, DATE_DIED='17/04/2020', INTUBED=2, PNEUMONIA=1, AGE=26, PREGNANT=97, DIABETES=1, COPD=2, ASTHMA=2, INMSUPR=2, HIPERTENSION=1, OTHER_DISEASE=2, CARDIOVASCULAR=2, OBESITY=2, RENAL_CHRONIC=1, TOBACCO=2, CLASIFFICATION_FINAL=1, ICU=2, SEX=2),\n",
       " Row(USMER=2, MEDICAL_UNIT=3, PATIENT_TYPE=2, DATE_DIED='17/04/2020', INTUBED=1, PNEUMONIA=1, AGE=45, PREGNANT=97, DIABETES=2, COPD=2, ASTHMA=2, INMSUPR=2, HIPERTENSION=2, OTHER_DISEASE=2, CARDIOVASCULAR=2, OBESITY=2, RENAL_CHRONIC=2, TOBACCO=2, CLASIFFICATION_FINAL=3, ICU=2, SEX=2),\n",
       " Row(USMER=1, MEDICAL_UNIT=3, PATIENT_TYPE=2, DATE_DIED='18/04/2020', INTUBED=2, PNEUMONIA=1, AGE=70, PREGNANT=97, DIABETES=1, COPD=2, ASTHMA=2, INMSUPR=2, HIPERTENSION=2, OTHER_DISEASE=2, CARDIOVASCULAR=2, OBESITY=2, RENAL_CHRONIC=2, TOBACCO=2, CLASIFFICATION_FINAL=3, ICU=2, SEX=2),\n",
       " Row(USMER=1, MEDICAL_UNIT=3, PATIENT_TYPE=2, DATE_DIED='18/04/2020', INTUBED=1, PNEUMONIA=2, AGE=1, PREGNANT=97, DIABETES=2, COPD=2, ASTHMA=2, INMSUPR=2, HIPERTENSION=2, OTHER_DISEASE=2, CARDIOVASCULAR=2, OBESITY=2, RENAL_CHRONIC=2, TOBACCO=2, CLASIFFICATION_FINAL=3, ICU=1, SEX=2),\n",
       " Row(USMER=2, MEDICAL_UNIT=3, PATIENT_TYPE=1, DATE_DIED='18/04/2020', INTUBED=97, PNEUMONIA=1, AGE=57, PREGNANT=97, DIABETES=1, COPD=2, ASTHMA=2, INMSUPR=2, HIPERTENSION=2, OTHER_DISEASE=2, CARDIOVASCULAR=1, OBESITY=1, RENAL_CHRONIC=2, TOBACCO=98, CLASIFFICATION_FINAL=5, ICU=97, SEX=2),\n",
       " Row(USMER=2, MEDICAL_UNIT=3, PATIENT_TYPE=2, DATE_DIED='18/04/2020', INTUBED=1, PNEUMONIA=1, AGE=63, PREGNANT=97, DIABETES=1, COPD=2, ASTHMA=2, INMSUPR=2, HIPERTENSION=1, OTHER_DISEASE=1, CARDIOVASCULAR=1, OBESITY=2, RENAL_CHRONIC=1, TOBACCO=2, CLASIFFICATION_FINAL=5, ICU=2, SEX=2),\n",
       " Row(USMER=2, MEDICAL_UNIT=3, PATIENT_TYPE=2, DATE_DIED='20/04/2020', INTUBED=2, PNEUMONIA=1, AGE=57, PREGNANT=97, DIABETES=1, COPD=2, ASTHMA=2, INMSUPR=2, HIPERTENSION=1, OTHER_DISEASE=2, CARDIOVASCULAR=2, OBESITY=2, RENAL_CHRONIC=2, TOBACCO=2, CLASIFFICATION_FINAL=7, ICU=2, SEX=2),\n",
       " Row(USMER=1, MEDICAL_UNIT=3, PATIENT_TYPE=2, DATE_DIED='20/04/2020', INTUBED=1, PNEUMONIA=1, AGE=61, PREGNANT=97, DIABETES=2, COPD=2, ASTHMA=2, INMSUPR=2, HIPERTENSION=2, OTHER_DISEASE=2, CARDIOVASCULAR=2, OBESITY=2, RENAL_CHRONIC=2, TOBACCO=2, CLASIFFICATION_FINAL=7, ICU=2, SEX=2),\n",
       " Row(USMER=1, MEDICAL_UNIT=3, PATIENT_TYPE=2, DATE_DIED='21/04/2020', INTUBED=1, PNEUMONIA=1, AGE=80, PREGNANT=97, DIABETES=1, COPD=2, ASTHMA=2, INMSUPR=2, HIPERTENSION=1, OTHER_DISEASE=2, CARDIOVASCULAR=2, OBESITY=2, RENAL_CHRONIC=2, TOBACCO=2, CLASIFFICATION_FINAL=3, ICU=1, SEX=2),\n",
       " Row(USMER=1, MEDICAL_UNIT=3, PATIENT_TYPE=2, DATE_DIED='21/04/2020', INTUBED=1, PNEUMONIA=1, AGE=75, PREGNANT=97, DIABETES=1, COPD=2, ASTHMA=2, INMSUPR=2, HIPERTENSION=1, OTHER_DISEASE=2, CARDIOVASCULAR=1, OBESITY=2, RENAL_CHRONIC=2, TOBACCO=1, CLASIFFICATION_FINAL=5, ICU=1, SEX=2),\n",
       " Row(USMER=2, MEDICAL_UNIT=3, PATIENT_TYPE=1, DATE_DIED='21/04/2020', INTUBED=97, PNEUMONIA=1, AGE=75, PREGNANT=97, DIABETES=1, COPD=2, ASTHMA=2, INMSUPR=2, HIPERTENSION=1, OTHER_DISEASE=2, CARDIOVASCULAR=2, OBESITY=2, RENAL_CHRONIC=2, TOBACCO=2, CLASIFFICATION_FINAL=6, ICU=97, SEX=2),\n",
       " Row(USMER=2, MEDICAL_UNIT=3, PATIENT_TYPE=1, DATE_DIED='21/04/2020', INTUBED=97, PNEUMONIA=2, AGE=39, PREGNANT=97, DIABETES=2, COPD=2, ASTHMA=2, INMSUPR=2, HIPERTENSION=2, OTHER_DISEASE=2, CARDIOVASCULAR=2, OBESITY=2, RENAL_CHRONIC=2, TOBACCO=2, CLASIFFICATION_FINAL=6, ICU=97, SEX=2),\n",
       " Row(USMER=1, MEDICAL_UNIT=3, PATIENT_TYPE=2, DATE_DIED='22/04/2020', INTUBED=2, PNEUMONIA=1, AGE=79, PREGNANT=97, DIABETES=1, COPD=2, ASTHMA=2, INMSUPR=2, HIPERTENSION=1, OTHER_DISEASE=1, CARDIOVASCULAR=1, OBESITY=2, RENAL_CHRONIC=2, TOBACCO=2, CLASIFFICATION_FINAL=3, ICU=2, SEX=2),\n",
       " Row(USMER=2, MEDICAL_UNIT=3, PATIENT_TYPE=2, DATE_DIED='22/04/2020', INTUBED=2, PNEUMONIA=1, AGE=65, PREGNANT=97, DIABETES=2, COPD=2, ASTHMA=2, INMSUPR=2, HIPERTENSION=1, OTHER_DISEASE=2, CARDIOVASCULAR=2, OBESITY=2, RENAL_CHRONIC=2, TOBACCO=1, CLASIFFICATION_FINAL=3, ICU=2, SEX=2),\n",
       " Row(USMER=2, MEDICAL_UNIT=3, PATIENT_TYPE=2, DATE_DIED='22/04/2020', INTUBED=1, PNEUMONIA=1, AGE=60, PREGNANT=97, DIABETES=2, COPD=2, ASTHMA=2, INMSUPR=2, HIPERTENSION=2, OTHER_DISEASE=2, CARDIOVASCULAR=2, OBESITY=2, RENAL_CHRONIC=2, TOBACCO=2, CLASIFFICATION_FINAL=3, ICU=2, SEX=2),\n",
       " Row(USMER=2, MEDICAL_UNIT=3, PATIENT_TYPE=2, DATE_DIED='23/04/2020', INTUBED=2, PNEUMONIA=1, AGE=70, PREGNANT=97, DIABETES=2, COPD=2, ASTHMA=2, INMSUPR=2, HIPERTENSION=1, OTHER_DISEASE=2, CARDIOVASCULAR=2, OBESITY=2, RENAL_CHRONIC=2, TOBACCO=2, CLASIFFICATION_FINAL=3, ICU=2, SEX=2),\n",
       " Row(USMER=2, MEDICAL_UNIT=3, PATIENT_TYPE=2, DATE_DIED='23/04/2020', INTUBED=2, PNEUMONIA=1, AGE=50, PREGNANT=97, DIABETES=2, COPD=2, ASTHMA=2, INMSUPR=2, HIPERTENSION=1, OTHER_DISEASE=2, CARDIOVASCULAR=2, OBESITY=1, RENAL_CHRONIC=2, TOBACCO=2, CLASIFFICATION_FINAL=3, ICU=2, SEX=2),\n",
       " Row(USMER=2, MEDICAL_UNIT=3, PATIENT_TYPE=2, DATE_DIED='23/04/2020', INTUBED=1, PNEUMONIA=1, AGE=82, PREGNANT=97, DIABETES=2, COPD=2, ASTHMA=2, INMSUPR=2, HIPERTENSION=2, OTHER_DISEASE=2, CARDIOVASCULAR=2, OBESITY=1, RENAL_CHRONIC=2, TOBACCO=2, CLASIFFICATION_FINAL=3, ICU=2, SEX=2),\n",
       " Row(USMER=1, MEDICAL_UNIT=3, PATIENT_TYPE=2, DATE_DIED='23/04/2020', INTUBED=2, PNEUMONIA=1, AGE=51, PREGNANT=97, DIABETES=1, COPD=2, ASTHMA=2, INMSUPR=2, HIPERTENSION=2, OTHER_DISEASE=2, CARDIOVASCULAR=2, OBESITY=1, RENAL_CHRONIC=2, TOBACCO=2, CLASIFFICATION_FINAL=7, ICU=2, SEX=2),\n",
       " Row(USMER=1, MEDICAL_UNIT=3, PATIENT_TYPE=2, DATE_DIED='24/04/2020', INTUBED=2, PNEUMONIA=1, AGE=67, PREGNANT=97, DIABETES=2, COPD=2, ASTHMA=2, INMSUPR=2, HIPERTENSION=2, OTHER_DISEASE=2, CARDIOVASCULAR=2, OBESITY=2, RENAL_CHRONIC=2, TOBACCO=2, CLASIFFICATION_FINAL=3, ICU=2, SEX=2),\n",
       " Row(USMER=1, MEDICAL_UNIT=3, PATIENT_TYPE=2, DATE_DIED='24/04/2020', INTUBED=2, PNEUMONIA=1, AGE=56, PREGNANT=97, DIABETES=2, COPD=2, ASTHMA=2, INMSUPR=2, HIPERTENSION=2, OTHER_DISEASE=2, CARDIOVASCULAR=2, OBESITY=2, RENAL_CHRONIC=2, TOBACCO=1, CLASIFFICATION_FINAL=3, ICU=2, SEX=2),\n",
       " Row(USMER=1, MEDICAL_UNIT=3, PATIENT_TYPE=2, DATE_DIED='24/04/2020', INTUBED=1, PNEUMONIA=1, AGE=60, PREGNANT=97, DIABETES=2, COPD=2, ASTHMA=2, INMSUPR=2, HIPERTENSION=2, OTHER_DISEASE=2, CARDIOVASCULAR=2, OBESITY=2, RENAL_CHRONIC=2, TOBACCO=2, CLASIFFICATION_FINAL=3, ICU=1, SEX=2),\n",
       " Row(USMER=2, MEDICAL_UNIT=3, PATIENT_TYPE=2, DATE_DIED='24/04/2020', INTUBED=1, PNEUMONIA=1, AGE=77, PREGNANT=97, DIABETES=2, COPD=2, ASTHMA=2, INMSUPR=2, HIPERTENSION=1, OTHER_DISEASE=2, CARDIOVASCULAR=2, OBESITY=2, RENAL_CHRONIC=2, TOBACCO=2, CLASIFFICATION_FINAL=3, ICU=2, SEX=2),\n",
       " Row(USMER=1, MEDICAL_UNIT=3, PATIENT_TYPE=2, DATE_DIED='24/04/2020', INTUBED=1, PNEUMONIA=1, AGE=86, PREGNANT=97, DIABETES=1, COPD=2, ASTHMA=2, INMSUPR=2, HIPERTENSION=1, OTHER_DISEASE=2, CARDIOVASCULAR=2, OBESITY=2, RENAL_CHRONIC=2, TOBACCO=2, CLASIFFICATION_FINAL=3, ICU=1, SEX=2),\n",
       " Row(USMER=1, MEDICAL_UNIT=3, PATIENT_TYPE=2, DATE_DIED='24/04/2020', INTUBED=2, PNEUMONIA=1, AGE=57, PREGNANT=97, DIABETES=2, COPD=2, ASTHMA=2, INMSUPR=2, HIPERTENSION=2, OTHER_DISEASE=2, CARDIOVASCULAR=2, OBESITY=2, RENAL_CHRONIC=2, TOBACCO=1, CLASIFFICATION_FINAL=5, ICU=2, SEX=2),\n",
       " Row(USMER=2, MEDICAL_UNIT=3, PATIENT_TYPE=1, DATE_DIED='24/04/2020', INTUBED=97, PNEUMONIA=2, AGE=46, PREGNANT=97, DIABETES=1, COPD=2, ASTHMA=2, INMSUPR=2, HIPERTENSION=2, OTHER_DISEASE=2, CARDIOVASCULAR=2, OBESITY=2, RENAL_CHRONIC=2, TOBACCO=2, CLASIFFICATION_FINAL=7, ICU=97, SEX=2),\n",
       " Row(USMER=2, MEDICAL_UNIT=3, PATIENT_TYPE=2, DATE_DIED='25/04/2020', INTUBED=1, PNEUMONIA=1, AGE=55, PREGNANT=97, DIABETES=2, COPD=2, ASTHMA=2, INMSUPR=2, HIPERTENSION=2, OTHER_DISEASE=2, CARDIOVASCULAR=2, OBESITY=2, RENAL_CHRONIC=1, TOBACCO=2, CLASIFFICATION_FINAL=2, ICU=2, SEX=2),\n",
       " Row(USMER=1, MEDICAL_UNIT=3, PATIENT_TYPE=2, DATE_DIED='25/04/2020', INTUBED=99, PNEUMONIA=1, AGE=34, PREGNANT=97, DIABETES=2, COPD=2, ASTHMA=2, INMSUPR=2, HIPERTENSION=2, OTHER_DISEASE=2, CARDIOVASCULAR=2, OBESITY=1, RENAL_CHRONIC=2, TOBACCO=2, CLASIFFICATION_FINAL=3, ICU=99, SEX=2),\n",
       " Row(USMER=1, MEDICAL_UNIT=3, PATIENT_TYPE=2, DATE_DIED='25/04/2020', INTUBED=1, PNEUMONIA=1, AGE=52, PREGNANT=97, DIABETES=2, COPD=2, ASTHMA=2, INMSUPR=2, HIPERTENSION=1, OTHER_DISEASE=2, CARDIOVASCULAR=2, OBESITY=2, RENAL_CHRONIC=1, TOBACCO=2, CLASIFFICATION_FINAL=3, ICU=2, SEX=2),\n",
       " Row(USMER=2, MEDICAL_UNIT=3, PATIENT_TYPE=1, DATE_DIED='25/04/2020', INTUBED=97, PNEUMONIA=1, AGE=77, PREGNANT=97, DIABETES=1, COPD=1, ASTHMA=2, INMSUPR=2, HIPERTENSION=1, OTHER_DISEASE=1, CARDIOVASCULAR=1, OBESITY=1, RENAL_CHRONIC=1, TOBACCO=1, CLASIFFICATION_FINAL=5, ICU=97, SEX=2),\n",
       " Row(USMER=2, MEDICAL_UNIT=3, PATIENT_TYPE=1, DATE_DIED='25/04/2020', INTUBED=97, PNEUMONIA=2, AGE=52, PREGNANT=97, DIABETES=1, COPD=2, ASTHMA=2, INMSUPR=2, HIPERTENSION=1, OTHER_DISEASE=2, CARDIOVASCULAR=2, OBESITY=2, RENAL_CHRONIC=1, TOBACCO=2, CLASIFFICATION_FINAL=5, ICU=97, SEX=2),\n",
       " Row(USMER=1, MEDICAL_UNIT=3, PATIENT_TYPE=2, DATE_DIED='25/04/2020', INTUBED=2, PNEUMONIA=1, AGE=63, PREGNANT=97, DIABETES=2, COPD=2, ASTHMA=2, INMSUPR=2, HIPERTENSION=2, OTHER_DISEASE=2, CARDIOVASCULAR=2, OBESITY=2, RENAL_CHRONIC=2, TOBACCO=2, CLASIFFICATION_FINAL=5, ICU=2, SEX=2),\n",
       " Row(USMER=2, MEDICAL_UNIT=3, PATIENT_TYPE=1, DATE_DIED='25/04/2020', INTUBED=97, PNEUMONIA=2, AGE=45, PREGNANT=97, DIABETES=2, COPD=2, ASTHMA=2, INMSUPR=2, HIPERTENSION=2, OTHER_DISEASE=2, CARDIOVASCULAR=2, OBESITY=2, RENAL_CHRONIC=2, TOBACCO=2, CLASIFFICATION_FINAL=5, ICU=97, SEX=2),\n",
       " Row(USMER=2, MEDICAL_UNIT=3, PATIENT_TYPE=1, DATE_DIED='25/04/2020', INTUBED=97, PNEUMONIA=2, AGE=55, PREGNANT=97, DIABETES=1, COPD=2, ASTHMA=2, INMSUPR=1, HIPERTENSION=1, OTHER_DISEASE=2, CARDIOVASCULAR=1, OBESITY=2, RENAL_CHRONIC=1, TOBACCO=2, CLASIFFICATION_FINAL=5, ICU=97, SEX=2),\n",
       " Row(USMER=1, MEDICAL_UNIT=3, PATIENT_TYPE=2, DATE_DIED='26/04/2020', INTUBED=2, PNEUMONIA=1, AGE=65, PREGNANT=97, DIABETES=1, COPD=2, ASTHMA=2, INMSUPR=2, HIPERTENSION=2, OTHER_DISEASE=2, CARDIOVASCULAR=2, OBESITY=1, RENAL_CHRONIC=2, TOBACCO=2, CLASIFFICATION_FINAL=3, ICU=2, SEX=2),\n",
       " Row(USMER=2, MEDICAL_UNIT=3, PATIENT_TYPE=2, DATE_DIED='26/04/2020', INTUBED=1, PNEUMONIA=1, AGE=55, PREGNANT=97, DIABETES=2, COPD=2, ASTHMA=2, INMSUPR=2, HIPERTENSION=2, OTHER_DISEASE=2, CARDIOVASCULAR=2, OBESITY=2, RENAL_CHRONIC=2, TOBACCO=2, CLASIFFICATION_FINAL=3, ICU=2, SEX=2),\n",
       " Row(USMER=1, MEDICAL_UNIT=3, PATIENT_TYPE=2, DATE_DIED='26/04/2020', INTUBED=1, PNEUMONIA=1, AGE=78, PREGNANT=97, DIABETES=2, COPD=2, ASTHMA=2, INMSUPR=2, HIPERTENSION=2, OTHER_DISEASE=2, CARDIOVASCULAR=2, OBESITY=2, RENAL_CHRONIC=2, TOBACCO=2, CLASIFFICATION_FINAL=3, ICU=2, SEX=2),\n",
       " Row(USMER=2, MEDICAL_UNIT=3, PATIENT_TYPE=2, DATE_DIED='26/04/2020', INTUBED=2, PNEUMONIA=1, AGE=45, PREGNANT=97, DIABETES=2, COPD=2, ASTHMA=2, INMSUPR=2, HIPERTENSION=2, OTHER_DISEASE=2, CARDIOVASCULAR=2, OBESITY=2, RENAL_CHRONIC=2, TOBACCO=2, CLASIFFICATION_FINAL=3, ICU=2, SEX=2),\n",
       " Row(USMER=1, MEDICAL_UNIT=3, PATIENT_TYPE=2, DATE_DIED='27/04/2020', INTUBED=2, PNEUMONIA=1, AGE=56, PREGNANT=97, DIABETES=1, COPD=2, ASTHMA=2, INMSUPR=2, HIPERTENSION=2, OTHER_DISEASE=2, CARDIOVASCULAR=2, OBESITY=2, RENAL_CHRONIC=2, TOBACCO=2, CLASIFFICATION_FINAL=3, ICU=2, SEX=2),\n",
       " Row(USMER=2, MEDICAL_UNIT=3, PATIENT_TYPE=2, DATE_DIED='27/04/2020', INTUBED=1, PNEUMONIA=1, AGE=55, PREGNANT=97, DIABETES=1, COPD=2, ASTHMA=2, INMSUPR=2, HIPERTENSION=1, OTHER_DISEASE=2, CARDIOVASCULAR=1, OBESITY=1, RENAL_CHRONIC=2, TOBACCO=2, CLASIFFICATION_FINAL=3, ICU=2, SEX=2),\n",
       " Row(USMER=1, MEDICAL_UNIT=3, PATIENT_TYPE=2, DATE_DIED='27/04/2020', INTUBED=2, PNEUMONIA=1, AGE=86, PREGNANT=97, DIABETES=2, COPD=2, ASTHMA=2, INMSUPR=2, HIPERTENSION=1, OTHER_DISEASE=2, CARDIOVASCULAR=2, OBESITY=2, RENAL_CHRONIC=2, TOBACCO=2, CLASIFFICATION_FINAL=3, ICU=1, SEX=2),\n",
       " Row(USMER=2, MEDICAL_UNIT=3, PATIENT_TYPE=2, DATE_DIED='27/04/2020', INTUBED=1, PNEUMONIA=1, AGE=69, PREGNANT=97, DIABETES=2, COPD=1, ASTHMA=2, INMSUPR=2, HIPERTENSION=2, OTHER_DISEASE=2, CARDIOVASCULAR=2, OBESITY=2, RENAL_CHRONIC=2, TOBACCO=1, CLASIFFICATION_FINAL=3, ICU=2, SEX=2),\n",
       " Row(USMER=2, MEDICAL_UNIT=3, PATIENT_TYPE=1, DATE_DIED='27/04/2020', INTUBED=97, PNEUMONIA=2, AGE=55, PREGNANT=97, DIABETES=2, COPD=2, ASTHMA=2, INMSUPR=2, HIPERTENSION=2, OTHER_DISEASE=2, CARDIOVASCULAR=2, OBESITY=2, RENAL_CHRONIC=2, TOBACCO=2, CLASIFFICATION_FINAL=5, ICU=97, SEX=2),\n",
       " Row(USMER=2, MEDICAL_UNIT=3, PATIENT_TYPE=2, DATE_DIED='27/04/2020', INTUBED=2, PNEUMONIA=1, AGE=62, PREGNANT=97, DIABETES=1, COPD=2, ASTHMA=2, INMSUPR=2, HIPERTENSION=1, OTHER_DISEASE=2, CARDIOVASCULAR=2, OBESITY=2, RENAL_CHRONIC=2, TOBACCO=1, CLASIFFICATION_FINAL=6, ICU=2, SEX=2),\n",
       " Row(USMER=1, MEDICAL_UNIT=3, PATIENT_TYPE=2, DATE_DIED='28/04/2020', INTUBED=2, PNEUMONIA=2, AGE=72, PREGNANT=97, DIABETES=1, COPD=2, ASTHMA=2, INMSUPR=2, HIPERTENSION=1, OTHER_DISEASE=2, CARDIOVASCULAR=2, OBESITY=1, RENAL_CHRONIC=1, TOBACCO=1, CLASIFFICATION_FINAL=3, ICU=2, SEX=2),\n",
       " Row(USMER=1, MEDICAL_UNIT=3, PATIENT_TYPE=2, DATE_DIED='29/04/2020', INTUBED=2, PNEUMONIA=1, AGE=47, PREGNANT=97, DIABETES=2, COPD=2, ASTHMA=2, INMSUPR=2, HIPERTENSION=2, OTHER_DISEASE=2, CARDIOVASCULAR=2, OBESITY=2, RENAL_CHRONIC=2, TOBACCO=2, CLASIFFICATION_FINAL=3, ICU=2, SEX=2),\n",
       " Row(USMER=2, MEDICAL_UNIT=3, PATIENT_TYPE=1, DATE_DIED='29/04/2020', INTUBED=97, PNEUMONIA=1, AGE=53, PREGNANT=97, DIABETES=2, COPD=2, ASTHMA=2, INMSUPR=2, HIPERTENSION=2, OTHER_DISEASE=2, CARDIOVASCULAR=2, OBESITY=1, RENAL_CHRONIC=2, TOBACCO=1, CLASIFFICATION_FINAL=3, ICU=97, SEX=2),\n",
       " Row(USMER=1, MEDICAL_UNIT=3, PATIENT_TYPE=2, DATE_DIED='29/04/2020', INTUBED=2, PNEUMONIA=1, AGE=57, PREGNANT=97, DIABETES=1, COPD=2, ASTHMA=2, INMSUPR=2, HIPERTENSION=2, OTHER_DISEASE=2, CARDIOVASCULAR=2, OBESITY=2, RENAL_CHRONIC=2, TOBACCO=2, CLASIFFICATION_FINAL=5, ICU=2, SEX=2),\n",
       " Row(USMER=1, MEDICAL_UNIT=3, PATIENT_TYPE=2, DATE_DIED='30/04/2020', INTUBED=1, PNEUMONIA=1, AGE=73, PREGNANT=97, DIABETES=1, COPD=2, ASTHMA=2, INMSUPR=2, HIPERTENSION=2, OTHER_DISEASE=2, CARDIOVASCULAR=2, OBESITY=2, RENAL_CHRONIC=2, TOBACCO=2, CLASIFFICATION_FINAL=3, ICU=1, SEX=2),\n",
       " Row(USMER=2, MEDICAL_UNIT=3, PATIENT_TYPE=2, DATE_DIED='01/05/2020', INTUBED=1, PNEUMONIA=1, AGE=64, PREGNANT=97, DIABETES=2, COPD=2, ASTHMA=2, INMSUPR=2, HIPERTENSION=2, OTHER_DISEASE=2, CARDIOVASCULAR=2, OBESITY=1, RENAL_CHRONIC=2, TOBACCO=2, CLASIFFICATION_FINAL=3, ICU=2, SEX=2),\n",
       " Row(USMER=1, MEDICAL_UNIT=3, PATIENT_TYPE=2, DATE_DIED='01/05/2020', INTUBED=1, PNEUMONIA=1, AGE=59, PREGNANT=97, DIABETES=2, COPD=2, ASTHMA=2, INMSUPR=2, HIPERTENSION=1, OTHER_DISEASE=2, CARDIOVASCULAR=2, OBESITY=2, RENAL_CHRONIC=2, TOBACCO=2, CLASIFFICATION_FINAL=3, ICU=2, SEX=2),\n",
       " Row(USMER=2, MEDICAL_UNIT=3, PATIENT_TYPE=2, DATE_DIED='01/05/2020', INTUBED=2, PNEUMONIA=1, AGE=84, PREGNANT=97, DIABETES=2, COPD=2, ASTHMA=2, INMSUPR=2, HIPERTENSION=1, OTHER_DISEASE=2, CARDIOVASCULAR=2, OBESITY=2, RENAL_CHRONIC=2, TOBACCO=2, CLASIFFICATION_FINAL=3, ICU=2, SEX=2),\n",
       " Row(USMER=1, MEDICAL_UNIT=3, PATIENT_TYPE=2, DATE_DIED='01/05/2020', INTUBED=1, PNEUMONIA=1, AGE=62, PREGNANT=97, DIABETES=2, COPD=2, ASTHMA=2, INMSUPR=2, HIPERTENSION=2, OTHER_DISEASE=2, CARDIOVASCULAR=2, OBESITY=2, RENAL_CHRONIC=2, TOBACCO=2, CLASIFFICATION_FINAL=3, ICU=2, SEX=2),\n",
       " Row(USMER=2, MEDICAL_UNIT=3, PATIENT_TYPE=2, DATE_DIED='01/05/2020', INTUBED=2, PNEUMONIA=1, AGE=64, PREGNANT=97, DIABETES=2, COPD=2, ASTHMA=2, INMSUPR=2, HIPERTENSION=2, OTHER_DISEASE=2, CARDIOVASCULAR=2, OBESITY=1, RENAL_CHRONIC=2, TOBACCO=1, CLASIFFICATION_FINAL=3, ICU=2, SEX=2),\n",
       " Row(USMER=1, MEDICAL_UNIT=3, PATIENT_TYPE=2, DATE_DIED='01/05/2020', INTUBED=1, PNEUMONIA=1, AGE=60, PREGNANT=97, DIABETES=1, COPD=2, ASTHMA=2, INMSUPR=1, HIPERTENSION=1, OTHER_DISEASE=1, CARDIOVASCULAR=2, OBESITY=1, RENAL_CHRONIC=1, TOBACCO=2, CLASIFFICATION_FINAL=7, ICU=2, SEX=2),\n",
       " Row(USMER=1, MEDICAL_UNIT=3, PATIENT_TYPE=2, DATE_DIED='02/05/2020', INTUBED=1, PNEUMONIA=1, AGE=54, PREGNANT=97, DIABETES=2, COPD=2, ASTHMA=2, INMSUPR=2, HIPERTENSION=2, OTHER_DISEASE=2, CARDIOVASCULAR=2, OBESITY=2, RENAL_CHRONIC=2, TOBACCO=2, CLASIFFICATION_FINAL=3, ICU=1, SEX=2),\n",
       " Row(USMER=2, MEDICAL_UNIT=3, PATIENT_TYPE=2, DATE_DIED='02/05/2020', INTUBED=1, PNEUMONIA=1, AGE=53, PREGNANT=97, DIABETES=2, COPD=2, ASTHMA=2, INMSUPR=2, HIPERTENSION=2, OTHER_DISEASE=2, CARDIOVASCULAR=2, OBESITY=2, RENAL_CHRONIC=2, TOBACCO=2, CLASIFFICATION_FINAL=3, ICU=2, SEX=2),\n",
       " Row(USMER=1, MEDICAL_UNIT=3, PATIENT_TYPE=2, DATE_DIED='02/05/2020', INTUBED=1, PNEUMONIA=1, AGE=66, PREGNANT=97, DIABETES=2, COPD=2, ASTHMA=2, INMSUPR=2, HIPERTENSION=1, OTHER_DISEASE=2, CARDIOVASCULAR=1, OBESITY=2, RENAL_CHRONIC=2, TOBACCO=2, CLASIFFICATION_FINAL=3, ICU=2, SEX=2),\n",
       " Row(USMER=1, MEDICAL_UNIT=3, PATIENT_TYPE=2, DATE_DIED='02/05/2020', INTUBED=2, PNEUMONIA=1, AGE=63, PREGNANT=97, DIABETES=1, COPD=2, ASTHMA=2, INMSUPR=2, HIPERTENSION=1, OTHER_DISEASE=2, CARDIOVASCULAR=2, OBESITY=2, RENAL_CHRONIC=2, TOBACCO=2, CLASIFFICATION_FINAL=3, ICU=2, SEX=2),\n",
       " Row(USMER=1, MEDICAL_UNIT=3, PATIENT_TYPE=2, DATE_DIED='02/05/2020', INTUBED=2, PNEUMONIA=1, AGE=66, PREGNANT=97, DIABETES=2, COPD=2, ASTHMA=2, INMSUPR=2, HIPERTENSION=2, OTHER_DISEASE=2, CARDIOVASCULAR=2, OBESITY=2, RENAL_CHRONIC=2, TOBACCO=2, CLASIFFICATION_FINAL=5, ICU=2, SEX=2),\n",
       " Row(USMER=1, MEDICAL_UNIT=3, PATIENT_TYPE=2, DATE_DIED='02/05/2020', INTUBED=2, PNEUMONIA=1, AGE=79, PREGNANT=97, DIABETES=2, COPD=1, ASTHMA=2, INMSUPR=2, HIPERTENSION=1, OTHER_DISEASE=2, CARDIOVASCULAR=1, OBESITY=2, RENAL_CHRONIC=2, TOBACCO=1, CLASIFFICATION_FINAL=7, ICU=2, SEX=2),\n",
       " Row(USMER=2, MEDICAL_UNIT=3, PATIENT_TYPE=1, DATE_DIED='02/05/2020', INTUBED=97, PNEUMONIA=2, AGE=47, PREGNANT=97, DIABETES=2, COPD=2, ASTHMA=2, INMSUPR=2, HIPERTENSION=2, OTHER_DISEASE=2, CARDIOVASCULAR=2, OBESITY=2, RENAL_CHRONIC=2, TOBACCO=2, CLASIFFICATION_FINAL=7, ICU=97, SEX=2),\n",
       " Row(USMER=1, MEDICAL_UNIT=3, PATIENT_TYPE=2, DATE_DIED='03/05/2020', INTUBED=1, PNEUMONIA=1, AGE=61, PREGNANT=97, DIABETES=2, COPD=2, ASTHMA=2, INMSUPR=2, HIPERTENSION=1, OTHER_DISEASE=2, CARDIOVASCULAR=2, OBESITY=2, RENAL_CHRONIC=2, TOBACCO=2, CLASIFFICATION_FINAL=3, ICU=2, SEX=2),\n",
       " Row(USMER=2, MEDICAL_UNIT=3, PATIENT_TYPE=1, DATE_DIED='03/05/2020', INTUBED=97, PNEUMONIA=2, AGE=57, PREGNANT=97, DIABETES=1, COPD=2, ASTHMA=2, INMSUPR=2, HIPERTENSION=1, OTHER_DISEASE=2, CARDIOVASCULAR=2, OBESITY=2, RENAL_CHRONIC=1, TOBACCO=2, CLASIFFICATION_FINAL=3, ICU=97, SEX=2),\n",
       " Row(USMER=1, MEDICAL_UNIT=3, PATIENT_TYPE=2, DATE_DIED='03/05/2020', INTUBED=2, PNEUMONIA=1, AGE=50, PREGNANT=97, DIABETES=1, COPD=2, ASTHMA=2, INMSUPR=2, HIPERTENSION=2, OTHER_DISEASE=2, CARDIOVASCULAR=2, OBESITY=1, RENAL_CHRONIC=2, TOBACCO=2, CLASIFFICATION_FINAL=3, ICU=2, SEX=2),\n",
       " Row(USMER=1, MEDICAL_UNIT=3, PATIENT_TYPE=2, DATE_DIED='03/05/2020', INTUBED=2, PNEUMONIA=1, AGE=60, PREGNANT=97, DIABETES=1, COPD=2, ASTHMA=2, INMSUPR=2, HIPERTENSION=2, OTHER_DISEASE=2, CARDIOVASCULAR=2, OBESITY=2, RENAL_CHRONIC=2, TOBACCO=2, CLASIFFICATION_FINAL=5, ICU=2, SEX=2),\n",
       " Row(USMER=1, MEDICAL_UNIT=3, PATIENT_TYPE=2, DATE_DIED='03/05/2020', INTUBED=2, PNEUMONIA=1, AGE=64, PREGNANT=97, DIABETES=1, COPD=2, ASTHMA=2, INMSUPR=2, HIPERTENSION=2, OTHER_DISEASE=2, CARDIOVASCULAR=2, OBESITY=2, RENAL_CHRONIC=2, TOBACCO=2, CLASIFFICATION_FINAL=7, ICU=2, SEX=2),\n",
       " Row(USMER=1, MEDICAL_UNIT=3, PATIENT_TYPE=2, DATE_DIED='04/05/2020', INTUBED=2, PNEUMONIA=1, AGE=54, PREGNANT=97, DIABETES=2, COPD=2, ASTHMA=2, INMSUPR=2, HIPERTENSION=2, OTHER_DISEASE=2, CARDIOVASCULAR=2, OBESITY=2, RENAL_CHRONIC=2, TOBACCO=2, CLASIFFICATION_FINAL=3, ICU=2, SEX=2),\n",
       " Row(USMER=1, MEDICAL_UNIT=3, PATIENT_TYPE=2, DATE_DIED='04/05/2020', INTUBED=2, PNEUMONIA=1, AGE=67, PREGNANT=97, DIABETES=1, COPD=2, ASTHMA=2, INMSUPR=2, HIPERTENSION=1, OTHER_DISEASE=2, CARDIOVASCULAR=2, OBESITY=2, RENAL_CHRONIC=2, TOBACCO=2, CLASIFFICATION_FINAL=3, ICU=2, SEX=2),\n",
       " Row(USMER=1, MEDICAL_UNIT=3, PATIENT_TYPE=2, DATE_DIED='04/05/2020', INTUBED=2, PNEUMONIA=2, AGE=86, PREGNANT=97, DIABETES=1, COPD=2, ASTHMA=2, INMSUPR=2, HIPERTENSION=1, OTHER_DISEASE=2, CARDIOVASCULAR=2, OBESITY=2, RENAL_CHRONIC=2, TOBACCO=2, CLASIFFICATION_FINAL=7, ICU=2, SEX=2),\n",
       " Row(USMER=1, MEDICAL_UNIT=3, PATIENT_TYPE=2, DATE_DIED='05/05/2020', INTUBED=2, PNEUMONIA=1, AGE=57, PREGNANT=97, DIABETES=1, COPD=2, ASTHMA=2, INMSUPR=2, HIPERTENSION=1, OTHER_DISEASE=2, CARDIOVASCULAR=2, OBESITY=2, RENAL_CHRONIC=2, TOBACCO=2, CLASIFFICATION_FINAL=3, ICU=2, SEX=2),\n",
       " Row(USMER=1, MEDICAL_UNIT=3, PATIENT_TYPE=2, DATE_DIED='05/05/2020', INTUBED=2, PNEUMONIA=1, AGE=67, PREGNANT=97, DIABETES=1, COPD=2, ASTHMA=2, INMSUPR=2, HIPERTENSION=1, OTHER_DISEASE=2, CARDIOVASCULAR=2, OBESITY=1, RENAL_CHRONIC=2, TOBACCO=2, CLASIFFICATION_FINAL=3, ICU=2, SEX=2),\n",
       " Row(USMER=1, MEDICAL_UNIT=3, PATIENT_TYPE=2, DATE_DIED='05/05/2020', INTUBED=2, PNEUMONIA=1, AGE=32, PREGNANT=97, DIABETES=2, COPD=2, ASTHMA=2, INMSUPR=2, HIPERTENSION=1, OTHER_DISEASE=2, CARDIOVASCULAR=2, OBESITY=2, RENAL_CHRONIC=1, TOBACCO=2, CLASIFFICATION_FINAL=3, ICU=2, SEX=2),\n",
       " Row(USMER=1, MEDICAL_UNIT=3, PATIENT_TYPE=2, DATE_DIED='05/05/2020', INTUBED=2, PNEUMONIA=1, AGE=55, PREGNANT=97, DIABETES=2, COPD=2, ASTHMA=2, INMSUPR=2, HIPERTENSION=2, OTHER_DISEASE=2, CARDIOVASCULAR=2, OBESITY=2, RENAL_CHRONIC=2, TOBACCO=1, CLASIFFICATION_FINAL=3, ICU=2, SEX=2),\n",
       " Row(USMER=2, MEDICAL_UNIT=3, PATIENT_TYPE=2, DATE_DIED='06/05/2020', INTUBED=1, PNEUMONIA=1, AGE=57, PREGNANT=97, DIABETES=2, COPD=2, ASTHMA=2, INMSUPR=2, HIPERTENSION=2, OTHER_DISEASE=2, CARDIOVASCULAR=2, OBESITY=2, RENAL_CHRONIC=2, TOBACCO=1, CLASIFFICATION_FINAL=3, ICU=2, SEX=2),\n",
       " Row(USMER=1, MEDICAL_UNIT=3, PATIENT_TYPE=2, DATE_DIED='06/05/2020', INTUBED=1, PNEUMONIA=1, AGE=76, PREGNANT=97, DIABETES=1, COPD=2, ASTHMA=2, INMSUPR=2, HIPERTENSION=1, OTHER_DISEASE=2, CARDIOVASCULAR=1, OBESITY=2, RENAL_CHRONIC=2, TOBACCO=2, CLASIFFICATION_FINAL=3, ICU=2, SEX=2),\n",
       " Row(USMER=2, MEDICAL_UNIT=3, PATIENT_TYPE=2, DATE_DIED='06/05/2020', INTUBED=2, PNEUMONIA=2, AGE=55, PREGNANT=97, DIABETES=2, COPD=2, ASTHMA=2, INMSUPR=2, HIPERTENSION=2, OTHER_DISEASE=2, CARDIOVASCULAR=2, OBESITY=1, RENAL_CHRONIC=2, TOBACCO=1, CLASIFFICATION_FINAL=3, ICU=2, SEX=2),\n",
       " Row(USMER=1, MEDICAL_UNIT=3, PATIENT_TYPE=2, DATE_DIED='06/05/2020', INTUBED=2, PNEUMONIA=1, AGE=45, PREGNANT=97, DIABETES=2, COPD=2, ASTHMA=2, INMSUPR=2, HIPERTENSION=2, OTHER_DISEASE=2, CARDIOVASCULAR=2, OBESITY=2, RENAL_CHRONIC=2, TOBACCO=2, CLASIFFICATION_FINAL=5, ICU=2, SEX=2),\n",
       " Row(USMER=1, MEDICAL_UNIT=3, PATIENT_TYPE=2, DATE_DIED='06/05/2020', INTUBED=1, PNEUMONIA=1, AGE=70, PREGNANT=97, DIABETES=2, COPD=2, ASTHMA=2, INMSUPR=2, HIPERTENSION=2, OTHER_DISEASE=2, CARDIOVASCULAR=2, OBESITY=2, RENAL_CHRONIC=2, TOBACCO=1, CLASIFFICATION_FINAL=7, ICU=2, SEX=2),\n",
       " Row(USMER=1, MEDICAL_UNIT=3, PATIENT_TYPE=2, DATE_DIED='07/05/2020', INTUBED=2, PNEUMONIA=1, AGE=73, PREGNANT=97, DIABETES=1, COPD=2, ASTHMA=2, INMSUPR=2, HIPERTENSION=1, OTHER_DISEASE=2, CARDIOVASCULAR=2, OBESITY=2, RENAL_CHRONIC=2, TOBACCO=2, CLASIFFICATION_FINAL=3, ICU=2, SEX=2),\n",
       " Row(USMER=1, MEDICAL_UNIT=3, PATIENT_TYPE=2, DATE_DIED='07/05/2020', INTUBED=2, PNEUMONIA=2, AGE=55, PREGNANT=97, DIABETES=2, COPD=2, ASTHMA=2, INMSUPR=2, HIPERTENSION=1, OTHER_DISEASE=1, CARDIOVASCULAR=2, OBESITY=2, RENAL_CHRONIC=2, TOBACCO=2, CLASIFFICATION_FINAL=3, ICU=2, SEX=2),\n",
       " Row(USMER=1, MEDICAL_UNIT=3, PATIENT_TYPE=2, DATE_DIED='08/05/2020', INTUBED=1, PNEUMONIA=1, AGE=52, PREGNANT=97, DIABETES=1, COPD=2, ASTHMA=2, INMSUPR=2, HIPERTENSION=1, OTHER_DISEASE=2, CARDIOVASCULAR=2, OBESITY=2, RENAL_CHRONIC=2, TOBACCO=2, CLASIFFICATION_FINAL=3, ICU=1, SEX=2),\n",
       " Row(USMER=1, MEDICAL_UNIT=3, PATIENT_TYPE=2, DATE_DIED='08/05/2020', INTUBED=1, PNEUMONIA=1, AGE=46, PREGNANT=97, DIABETES=2, COPD=2, ASTHMA=2, INMSUPR=2, HIPERTENSION=2, OTHER_DISEASE=2, CARDIOVASCULAR=2, OBESITY=2, RENAL_CHRONIC=2, TOBACCO=2, CLASIFFICATION_FINAL=3, ICU=2, SEX=2),\n",
       " Row(USMER=1, MEDICAL_UNIT=3, PATIENT_TYPE=2, DATE_DIED='08/05/2020', INTUBED=1, PNEUMONIA=1, AGE=58, PREGNANT=97, DIABETES=2, COPD=2, ASTHMA=2, INMSUPR=2, HIPERTENSION=2, OTHER_DISEASE=2, CARDIOVASCULAR=2, OBESITY=2, RENAL_CHRONIC=2, TOBACCO=2, CLASIFFICATION_FINAL=3, ICU=2, SEX=2),\n",
       " Row(USMER=1, MEDICAL_UNIT=3, PATIENT_TYPE=2, DATE_DIED='08/05/2020', INTUBED=1, PNEUMONIA=1, AGE=52, PREGNANT=97, DIABETES=2, COPD=2, ASTHMA=2, INMSUPR=2, HIPERTENSION=2, OTHER_DISEASE=2, CARDIOVASCULAR=2, OBESITY=2, RENAL_CHRONIC=2, TOBACCO=2, CLASIFFICATION_FINAL=7, ICU=2, SEX=2),\n",
       " Row(USMER=2, MEDICAL_UNIT=3, PATIENT_TYPE=2, DATE_DIED='08/05/2020', INTUBED=2, PNEUMONIA=1, AGE=64, PREGNANT=97, DIABETES=1, COPD=2, ASTHMA=2, INMSUPR=2, HIPERTENSION=1, OTHER_DISEASE=2, CARDIOVASCULAR=2, OBESITY=2, RENAL_CHRONIC=2, TOBACCO=2, CLASIFFICATION_FINAL=7, ICU=2, SEX=2),\n",
       " Row(USMER=1, MEDICAL_UNIT=3, PATIENT_TYPE=2, DATE_DIED='08/05/2020', INTUBED=2, PNEUMONIA=1, AGE=84, PREGNANT=97, DIABETES=1, COPD=2, ASTHMA=2, INMSUPR=2, HIPERTENSION=2, OTHER_DISEASE=2, CARDIOVASCULAR=2, OBESITY=2, RENAL_CHRONIC=2, TOBACCO=2, CLASIFFICATION_FINAL=7, ICU=2, SEX=2),\n",
       " Row(USMER=1, MEDICAL_UNIT=3, PATIENT_TYPE=2, DATE_DIED='09/05/2020', INTUBED=1, PNEUMONIA=1, AGE=54, PREGNANT=97, DIABETES=2, COPD=2, ASTHMA=2, INMSUPR=2, HIPERTENSION=2, OTHER_DISEASE=2, CARDIOVASCULAR=2, OBESITY=2, RENAL_CHRONIC=2, TOBACCO=2, CLASIFFICATION_FINAL=3, ICU=2, SEX=2),\n",
       " Row(USMER=1, MEDICAL_UNIT=3, PATIENT_TYPE=2, DATE_DIED='09/05/2020', INTUBED=2, PNEUMONIA=1, AGE=66, PREGNANT=97, DIABETES=2, COPD=2, ASTHMA=2, INMSUPR=2, HIPERTENSION=2, OTHER_DISEASE=2, CARDIOVASCULAR=2, OBESITY=2, RENAL_CHRONIC=2, TOBACCO=2, CLASIFFICATION_FINAL=3, ICU=2, SEX=2),\n",
       " Row(USMER=2, MEDICAL_UNIT=3, PATIENT_TYPE=2, DATE_DIED='09/05/2020', INTUBED=2, PNEUMONIA=2, AGE=51, PREGNANT=97, DIABETES=1, COPD=2, ASTHMA=2, INMSUPR=2, HIPERTENSION=1, OTHER_DISEASE=2, CARDIOVASCULAR=1, OBESITY=2, RENAL_CHRONIC=1, TOBACCO=2, CLASIFFICATION_FINAL=3, ICU=2, SEX=2),\n",
       " Row(USMER=2, MEDICAL_UNIT=3, PATIENT_TYPE=2, DATE_DIED='09/05/2020', INTUBED=2, PNEUMONIA=2, AGE=78, PREGNANT=97, DIABETES=1, COPD=2, ASTHMA=2, INMSUPR=2, HIPERTENSION=2, OTHER_DISEASE=2, CARDIOVASCULAR=2, OBESITY=2, RENAL_CHRONIC=2, TOBACCO=2, CLASIFFICATION_FINAL=7, ICU=2, SEX=2),\n",
       " Row(USMER=2, MEDICAL_UNIT=3, PATIENT_TYPE=2, DATE_DIED='10/05/2020', INTUBED=1, PNEUMONIA=1, AGE=67, PREGNANT=97, DIABETES=2, COPD=2, ASTHMA=2, INMSUPR=2, HIPERTENSION=1, OTHER_DISEASE=2, CARDIOVASCULAR=2, OBESITY=2, RENAL_CHRONIC=2, TOBACCO=2, CLASIFFICATION_FINAL=3, ICU=2, SEX=2),\n",
       " Row(USMER=2, MEDICAL_UNIT=3, PATIENT_TYPE=2, DATE_DIED='10/05/2020', INTUBED=1, PNEUMONIA=1, AGE=52, PREGNANT=97, DIABETES=2, COPD=2, ASTHMA=2, INMSUPR=2, HIPERTENSION=1, OTHER_DISEASE=2, CARDIOVASCULAR=2, OBESITY=1, RENAL_CHRONIC=2, TOBACCO=2, CLASIFFICATION_FINAL=3, ICU=2, SEX=2),\n",
       " Row(USMER=1, MEDICAL_UNIT=3, PATIENT_TYPE=2, DATE_DIED='10/05/2020', INTUBED=2, PNEUMONIA=1, AGE=71, PREGNANT=97, DIABETES=1, COPD=2, ASTHMA=2, INMSUPR=2, HIPERTENSION=2, OTHER_DISEASE=2, CARDIOVASCULAR=2, OBESITY=2, RENAL_CHRONIC=2, TOBACCO=2, CLASIFFICATION_FINAL=3, ICU=2, SEX=2),\n",
       " Row(USMER=1, MEDICAL_UNIT=3, PATIENT_TYPE=2, DATE_DIED='10/05/2020', INTUBED=2, PNEUMONIA=1, AGE=60, PREGNANT=97, DIABETES=1, COPD=2, ASTHMA=2, INMSUPR=2, HIPERTENSION=1, OTHER_DISEASE=2, CARDIOVASCULAR=2, OBESITY=2, RENAL_CHRONIC=1, TOBACCO=2, CLASIFFICATION_FINAL=4, ICU=2, SEX=2),\n",
       " Row(USMER=2, MEDICAL_UNIT=3, PATIENT_TYPE=1, DATE_DIED='10/05/2020', INTUBED=97, PNEUMONIA=2, AGE=39, PREGNANT=97, DIABETES=1, COPD=2, ASTHMA=2, INMSUPR=2, HIPERTENSION=2, OTHER_DISEASE=2, CARDIOVASCULAR=2, OBESITY=2, RENAL_CHRONIC=2, TOBACCO=2, CLASIFFICATION_FINAL=7, ICU=97, SEX=2),\n",
       " Row(USMER=2, MEDICAL_UNIT=3, PATIENT_TYPE=2, DATE_DIED='10/05/2020', INTUBED=2, PNEUMONIA=1, AGE=45, PREGNANT=97, DIABETES=2, COPD=2, ASTHMA=2, INMSUPR=2, HIPERTENSION=2, OTHER_DISEASE=2, CARDIOVASCULAR=2, OBESITY=2, RENAL_CHRONIC=2, TOBACCO=2, CLASIFFICATION_FINAL=7, ICU=2, SEX=2),\n",
       " Row(USMER=1, MEDICAL_UNIT=3, PATIENT_TYPE=2, DATE_DIED='11/05/2020', INTUBED=2, PNEUMONIA=1, AGE=41, PREGNANT=97, DIABETES=1, COPD=2, ASTHMA=2, INMSUPR=2, HIPERTENSION=2, OTHER_DISEASE=2, CARDIOVASCULAR=2, OBESITY=2, RENAL_CHRONIC=2, TOBACCO=1, CLASIFFICATION_FINAL=3, ICU=1, SEX=2),\n",
       " Row(USMER=1, MEDICAL_UNIT=3, PATIENT_TYPE=2, DATE_DIED='11/05/2020', INTUBED=1, PNEUMONIA=1, AGE=86, PREGNANT=97, DIABETES=2, COPD=2, ASTHMA=2, INMSUPR=2, HIPERTENSION=2, OTHER_DISEASE=2, CARDIOVASCULAR=2, OBESITY=2, RENAL_CHRONIC=2, TOBACCO=2, CLASIFFICATION_FINAL=3, ICU=1, SEX=2),\n",
       " Row(USMER=2, MEDICAL_UNIT=3, PATIENT_TYPE=2, DATE_DIED='11/05/2020', INTUBED=99, PNEUMONIA=1, AGE=51, PREGNANT=97, DIABETES=2, COPD=2, ASTHMA=2, INMSUPR=1, HIPERTENSION=1, OTHER_DISEASE=1, CARDIOVASCULAR=1, OBESITY=2, RENAL_CHRONIC=1, TOBACCO=2, CLASIFFICATION_FINAL=3, ICU=99, SEX=2),\n",
       " Row(USMER=1, MEDICAL_UNIT=3, PATIENT_TYPE=2, DATE_DIED='11/05/2020', INTUBED=2, PNEUMONIA=2, AGE=48, PREGNANT=97, DIABETES=2, COPD=2, ASTHMA=2, INMSUPR=2, HIPERTENSION=2, OTHER_DISEASE=2, CARDIOVASCULAR=2, OBESITY=2, RENAL_CHRONIC=2, TOBACCO=2, CLASIFFICATION_FINAL=3, ICU=2, SEX=2),\n",
       " Row(USMER=1, MEDICAL_UNIT=3, PATIENT_TYPE=2, DATE_DIED='12/05/2020', INTUBED=1, PNEUMONIA=1, AGE=60, PREGNANT=97, DIABETES=1, COPD=2, ASTHMA=2, INMSUPR=2, HIPERTENSION=2, OTHER_DISEASE=2, CARDIOVASCULAR=2, OBESITY=2, RENAL_CHRONIC=2, TOBACCO=2, CLASIFFICATION_FINAL=3, ICU=1, SEX=2),\n",
       " Row(USMER=1, MEDICAL_UNIT=3, PATIENT_TYPE=2, DATE_DIED='12/05/2020', INTUBED=1, PNEUMONIA=1, AGE=60, PREGNANT=97, DIABETES=1, COPD=2, ASTHMA=2, INMSUPR=2, HIPERTENSION=1, OTHER_DISEASE=2, CARDIOVASCULAR=2, OBESITY=2, RENAL_CHRONIC=2, TOBACCO=2, CLASIFFICATION_FINAL=3, ICU=1, SEX=2),\n",
       " Row(USMER=1, MEDICAL_UNIT=3, PATIENT_TYPE=2, DATE_DIED='12/05/2020', INTUBED=2, PNEUMONIA=1, AGE=72, PREGNANT=97, DIABETES=2, COPD=2, ASTHMA=2, INMSUPR=2, HIPERTENSION=2, OTHER_DISEASE=2, CARDIOVASCULAR=2, OBESITY=1, RENAL_CHRONIC=2, TOBACCO=2, CLASIFFICATION_FINAL=3, ICU=2, SEX=2),\n",
       " Row(USMER=2, MEDICAL_UNIT=3, PATIENT_TYPE=2, DATE_DIED='12/05/2020', INTUBED=99, PNEUMONIA=2, AGE=58, PREGNANT=97, DIABETES=1, COPD=2, ASTHMA=2, INMSUPR=2, HIPERTENSION=2, OTHER_DISEASE=2, CARDIOVASCULAR=2, OBESITY=1, RENAL_CHRONIC=2, TOBACCO=2, CLASIFFICATION_FINAL=3, ICU=99, SEX=2),\n",
       " Row(USMER=2, MEDICAL_UNIT=3, PATIENT_TYPE=2, DATE_DIED='12/05/2020', INTUBED=1, PNEUMONIA=1, AGE=68, PREGNANT=97, DIABETES=2, COPD=1, ASTHMA=2, INMSUPR=1, HIPERTENSION=1, OTHER_DISEASE=2, CARDIOVASCULAR=2, OBESITY=1, RENAL_CHRONIC=2, TOBACCO=2, CLASIFFICATION_FINAL=6, ICU=2, SEX=2),\n",
       " Row(USMER=2, MEDICAL_UNIT=3, PATIENT_TYPE=2, DATE_DIED='12/05/2020', INTUBED=2, PNEUMONIA=1, AGE=20, PREGNANT=97, DIABETES=2, COPD=2, ASTHMA=2, INMSUPR=1, HIPERTENSION=2, OTHER_DISEASE=1, CARDIOVASCULAR=2, OBESITY=2, RENAL_CHRONIC=2, TOBACCO=2, CLASIFFICATION_FINAL=7, ICU=2, SEX=2),\n",
       " Row(USMER=2, MEDICAL_UNIT=3, PATIENT_TYPE=2, DATE_DIED='12/05/2020', INTUBED=1, PNEUMONIA=1, AGE=67, PREGNANT=97, DIABETES=2, COPD=2, ASTHMA=2, INMSUPR=2, HIPERTENSION=2, OTHER_DISEASE=1, CARDIOVASCULAR=2, OBESITY=1, RENAL_CHRONIC=2, TOBACCO=2, CLASIFFICATION_FINAL=7, ICU=2, SEX=2),\n",
       " Row(USMER=1, MEDICAL_UNIT=3, PATIENT_TYPE=2, DATE_DIED='13/05/2020', INTUBED=1, PNEUMONIA=1, AGE=56, PREGNANT=97, DIABETES=2, COPD=2, ASTHMA=2, INMSUPR=2, HIPERTENSION=1, OTHER_DISEASE=2, CARDIOVASCULAR=2, OBESITY=1, RENAL_CHRONIC=2, TOBACCO=1, CLASIFFICATION_FINAL=3, ICU=1, SEX=2),\n",
       " Row(USMER=1, MEDICAL_UNIT=3, PATIENT_TYPE=2, DATE_DIED='13/05/2020', INTUBED=1, PNEUMONIA=1, AGE=73, PREGNANT=97, DIABETES=1, COPD=2, ASTHMA=2, INMSUPR=2, HIPERTENSION=1, OTHER_DISEASE=2, CARDIOVASCULAR=2, OBESITY=2, RENAL_CHRONIC=2, TOBACCO=2, CLASIFFICATION_FINAL=3, ICU=2, SEX=2),\n",
       " Row(USMER=2, MEDICAL_UNIT=3, PATIENT_TYPE=2, DATE_DIED='13/05/2020', INTUBED=2, PNEUMONIA=1, AGE=87, PREGNANT=97, DIABETES=2, COPD=2, ASTHMA=2, INMSUPR=2, HIPERTENSION=1, OTHER_DISEASE=2, CARDIOVASCULAR=2, OBESITY=2, RENAL_CHRONIC=2, TOBACCO=2, CLASIFFICATION_FINAL=3, ICU=2, SEX=2),\n",
       " Row(USMER=2, MEDICAL_UNIT=3, PATIENT_TYPE=2, DATE_DIED='13/05/2020', INTUBED=2, PNEUMONIA=1, AGE=71, PREGNANT=97, DIABETES=1, COPD=2, ASTHMA=2, INMSUPR=2, HIPERTENSION=1, OTHER_DISEASE=2, CARDIOVASCULAR=2, OBESITY=2, RENAL_CHRONIC=2, TOBACCO=2, CLASIFFICATION_FINAL=3, ICU=2, SEX=2),\n",
       " Row(USMER=2, MEDICAL_UNIT=3, PATIENT_TYPE=2, DATE_DIED='14/05/2020', INTUBED=2, PNEUMONIA=1, AGE=48, PREGNANT=97, DIABETES=2, COPD=2, ASTHMA=2, INMSUPR=2, HIPERTENSION=2, OTHER_DISEASE=2, CARDIOVASCULAR=2, OBESITY=2, RENAL_CHRONIC=2, TOBACCO=2, CLASIFFICATION_FINAL=3, ICU=2, SEX=2),\n",
       " Row(USMER=1, MEDICAL_UNIT=3, PATIENT_TYPE=2, DATE_DIED='14/05/2020', INTUBED=2, PNEUMONIA=1, AGE=40, PREGNANT=97, DIABETES=2, COPD=2, ASTHMA=2, INMSUPR=2, HIPERTENSION=2, OTHER_DISEASE=2, CARDIOVASCULAR=2, OBESITY=2, RENAL_CHRONIC=2, TOBACCO=2, CLASIFFICATION_FINAL=7, ICU=2, SEX=2),\n",
       " Row(USMER=1, MEDICAL_UNIT=3, PATIENT_TYPE=2, DATE_DIED='14/05/2020', INTUBED=2, PNEUMONIA=1, AGE=68, PREGNANT=97, DIABETES=1, COPD=2, ASTHMA=2, INMSUPR=2, HIPERTENSION=1, OTHER_DISEASE=2, CARDIOVASCULAR=2, OBESITY=2, RENAL_CHRONIC=2, TOBACCO=2, CLASIFFICATION_FINAL=7, ICU=2, SEX=2),\n",
       " Row(USMER=1, MEDICAL_UNIT=3, PATIENT_TYPE=2, DATE_DIED='14/05/2020', INTUBED=1, PNEUMONIA=1, AGE=14, PREGNANT=97, DIABETES=2, COPD=2, ASTHMA=2, INMSUPR=2, HIPERTENSION=2, OTHER_DISEASE=2, CARDIOVASCULAR=2, OBESITY=2, RENAL_CHRONIC=2, TOBACCO=2, CLASIFFICATION_FINAL=7, ICU=1, SEX=2),\n",
       " Row(USMER=2, MEDICAL_UNIT=3, PATIENT_TYPE=2, DATE_DIED='15/05/2020', INTUBED=2, PNEUMONIA=2, AGE=81, PREGNANT=97, DIABETES=2, COPD=2, ASTHMA=2, INMSUPR=2, HIPERTENSION=1, OTHER_DISEASE=2, CARDIOVASCULAR=2, OBESITY=2, RENAL_CHRONIC=2, TOBACCO=2, CLASIFFICATION_FINAL=2, ICU=2, SEX=2),\n",
       " Row(USMER=1, MEDICAL_UNIT=3, PATIENT_TYPE=2, DATE_DIED='15/05/2020', INTUBED=1, PNEUMONIA=1, AGE=50, PREGNANT=97, DIABETES=1, COPD=2, ASTHMA=2, INMSUPR=2, HIPERTENSION=2, OTHER_DISEASE=2, CARDIOVASCULAR=2, OBESITY=1, RENAL_CHRONIC=2, TOBACCO=2, CLASIFFICATION_FINAL=3, ICU=1, SEX=2),\n",
       " Row(USMER=1, MEDICAL_UNIT=3, PATIENT_TYPE=2, DATE_DIED='15/05/2020', INTUBED=2, PNEUMONIA=1, AGE=62, PREGNANT=97, DIABETES=2, COPD=2, ASTHMA=2, INMSUPR=2, HIPERTENSION=1, OTHER_DISEASE=2, CARDIOVASCULAR=2, OBESITY=2, RENAL_CHRONIC=2, TOBACCO=2, CLASIFFICATION_FINAL=3, ICU=2, SEX=2),\n",
       " Row(USMER=2, MEDICAL_UNIT=3, PATIENT_TYPE=2, DATE_DIED='15/05/2020', INTUBED=2, PNEUMONIA=1, AGE=78, PREGNANT=97, DIABETES=1, COPD=2, ASTHMA=2, INMSUPR=2, HIPERTENSION=1, OTHER_DISEASE=1, CARDIOVASCULAR=1, OBESITY=1, RENAL_CHRONIC=2, TOBACCO=1, CLASIFFICATION_FINAL=3, ICU=2, SEX=2),\n",
       " Row(USMER=1, MEDICAL_UNIT=3, PATIENT_TYPE=2, DATE_DIED='15/05/2020', INTUBED=2, PNEUMONIA=1, AGE=65, PREGNANT=97, DIABETES=2, COPD=2, ASTHMA=2, INMSUPR=2, HIPERTENSION=1, OTHER_DISEASE=2, CARDIOVASCULAR=2, OBESITY=1, RENAL_CHRONIC=2, TOBACCO=2, CLASIFFICATION_FINAL=5, ICU=2, SEX=2),\n",
       " Row(USMER=1, MEDICAL_UNIT=3, PATIENT_TYPE=2, DATE_DIED='15/05/2020', INTUBED=2, PNEUMONIA=2, AGE=65, PREGNANT=97, DIABETES=2, COPD=2, ASTHMA=2, INMSUPR=2, HIPERTENSION=2, OTHER_DISEASE=2, CARDIOVASCULAR=2, OBESITY=2, RENAL_CHRONIC=2, TOBACCO=2, CLASIFFICATION_FINAL=5, ICU=2, SEX=2),\n",
       " Row(USMER=1, MEDICAL_UNIT=3, PATIENT_TYPE=2, DATE_DIED='16/05/2020', INTUBED=2, PNEUMONIA=1, AGE=75, PREGNANT=97, DIABETES=2, COPD=2, ASTHMA=2, INMSUPR=2, HIPERTENSION=2, OTHER_DISEASE=2, CARDIOVASCULAR=2, OBESITY=2, RENAL_CHRONIC=2, TOBACCO=1, CLASIFFICATION_FINAL=3, ICU=2, SEX=2),\n",
       " Row(USMER=1, MEDICAL_UNIT=3, PATIENT_TYPE=2, DATE_DIED='16/05/2020', INTUBED=2, PNEUMONIA=2, AGE=75, PREGNANT=97, DIABETES=2, COPD=2, ASTHMA=2, INMSUPR=2, HIPERTENSION=2, OTHER_DISEASE=2, CARDIOVASCULAR=2, OBESITY=2, RENAL_CHRONIC=2, TOBACCO=2, CLASIFFICATION_FINAL=3, ICU=2, SEX=2),\n",
       " Row(USMER=1, MEDICAL_UNIT=3, PATIENT_TYPE=2, DATE_DIED='16/05/2020', INTUBED=2, PNEUMONIA=1, AGE=56, PREGNANT=97, DIABETES=1, COPD=2, ASTHMA=2, INMSUPR=2, HIPERTENSION=1, OTHER_DISEASE=2, CARDIOVASCULAR=2, OBESITY=1, RENAL_CHRONIC=2, TOBACCO=2, CLASIFFICATION_FINAL=3, ICU=2, SEX=2),\n",
       " Row(USMER=1, MEDICAL_UNIT=3, PATIENT_TYPE=2, DATE_DIED='16/05/2020', INTUBED=2, PNEUMONIA=1, AGE=50, PREGNANT=97, DIABETES=2, COPD=2, ASTHMA=2, INMSUPR=2, HIPERTENSION=2, OTHER_DISEASE=2, CARDIOVASCULAR=2, OBESITY=2, RENAL_CHRONIC=2, TOBACCO=2, CLASIFFICATION_FINAL=3, ICU=2, SEX=2),\n",
       " Row(USMER=2, MEDICAL_UNIT=3, PATIENT_TYPE=2, DATE_DIED='16/05/2020', INTUBED=2, PNEUMONIA=1, AGE=69, PREGNANT=97, DIABETES=2, COPD=2, ASTHMA=2, INMSUPR=2, HIPERTENSION=2, OTHER_DISEASE=2, CARDIOVASCULAR=2, OBESITY=2, RENAL_CHRONIC=2, TOBACCO=2, CLASIFFICATION_FINAL=3, ICU=2, SEX=2),\n",
       " Row(USMER=1, MEDICAL_UNIT=3, PATIENT_TYPE=2, DATE_DIED='16/05/2020', INTUBED=1, PNEUMONIA=1, AGE=59, PREGNANT=97, DIABETES=2, COPD=2, ASTHMA=2, INMSUPR=2, HIPERTENSION=2, OTHER_DISEASE=2, CARDIOVASCULAR=2, OBESITY=2, RENAL_CHRONIC=2, TOBACCO=2, CLASIFFICATION_FINAL=5, ICU=1, SEX=2),\n",
       " Row(USMER=2, MEDICAL_UNIT=3, PATIENT_TYPE=2, DATE_DIED='16/05/2020', INTUBED=2, PNEUMONIA=1, AGE=51, PREGNANT=97, DIABETES=2, COPD=2, ASTHMA=2, INMSUPR=2, HIPERTENSION=2, OTHER_DISEASE=2, CARDIOVASCULAR=2, OBESITY=1, RENAL_CHRONIC=2, TOBACCO=2, CLASIFFICATION_FINAL=5, ICU=2, SEX=2),\n",
       " Row(USMER=2, MEDICAL_UNIT=3, PATIENT_TYPE=2, DATE_DIED='16/05/2020', INTUBED=1, PNEUMONIA=1, AGE=58, PREGNANT=97, DIABETES=2, COPD=2, ASTHMA=2, INMSUPR=2, HIPERTENSION=2, OTHER_DISEASE=2, CARDIOVASCULAR=2, OBESITY=1, RENAL_CHRONIC=2, TOBACCO=2, CLASIFFICATION_FINAL=5, ICU=2, SEX=2),\n",
       " Row(USMER=1, MEDICAL_UNIT=3, PATIENT_TYPE=2, DATE_DIED='16/05/2020', INTUBED=1, PNEUMONIA=1, AGE=56, PREGNANT=97, DIABETES=1, COPD=2, ASTHMA=2, INMSUPR=2, HIPERTENSION=1, OTHER_DISEASE=2, CARDIOVASCULAR=2, OBESITY=2, RENAL_CHRONIC=2, TOBACCO=2, CLASIFFICATION_FINAL=7, ICU=2, SEX=2),\n",
       " Row(USMER=1, MEDICAL_UNIT=3, PATIENT_TYPE=2, DATE_DIED='17/05/2020', INTUBED=1, PNEUMONIA=1, AGE=59, PREGNANT=97, DIABETES=2, COPD=2, ASTHMA=2, INMSUPR=2, HIPERTENSION=2, OTHER_DISEASE=2, CARDIOVASCULAR=2, OBESITY=1, RENAL_CHRONIC=2, TOBACCO=1, CLASIFFICATION_FINAL=3, ICU=1, SEX=2),\n",
       " Row(USMER=1, MEDICAL_UNIT=3, PATIENT_TYPE=2, DATE_DIED='17/05/2020', INTUBED=1, PNEUMONIA=1, AGE=54, PREGNANT=97, DIABETES=1, COPD=2, ASTHMA=2, INMSUPR=2, HIPERTENSION=2, OTHER_DISEASE=2, CARDIOVASCULAR=2, OBESITY=2, RENAL_CHRONIC=2, TOBACCO=2, CLASIFFICATION_FINAL=3, ICU=1, SEX=2),\n",
       " Row(USMER=1, MEDICAL_UNIT=3, PATIENT_TYPE=2, DATE_DIED='17/05/2020', INTUBED=2, PNEUMONIA=1, AGE=63, PREGNANT=97, DIABETES=1, COPD=2, ASTHMA=2, INMSUPR=2, HIPERTENSION=2, OTHER_DISEASE=2, CARDIOVASCULAR=2, OBESITY=2, RENAL_CHRONIC=2, TOBACCO=2, CLASIFFICATION_FINAL=3, ICU=2, SEX=2),\n",
       " Row(USMER=1, MEDICAL_UNIT=3, PATIENT_TYPE=2, DATE_DIED='17/05/2020', INTUBED=2, PNEUMONIA=2, AGE=45, PREGNANT=97, DIABETES=2, COPD=2, ASTHMA=2, INMSUPR=2, HIPERTENSION=1, OTHER_DISEASE=2, CARDIOVASCULAR=2, OBESITY=2, RENAL_CHRONIC=2, TOBACCO=2, CLASIFFICATION_FINAL=3, ICU=2, SEX=2),\n",
       " Row(USMER=1, MEDICAL_UNIT=3, PATIENT_TYPE=2, DATE_DIED='17/05/2020', INTUBED=2, PNEUMONIA=1, AGE=75, PREGNANT=97, DIABETES=2, COPD=2, ASTHMA=2, INMSUPR=2, HIPERTENSION=1, OTHER_DISEASE=2, CARDIOVASCULAR=2, OBESITY=2, RENAL_CHRONIC=2, TOBACCO=2, CLASIFFICATION_FINAL=3, ICU=2, SEX=2),\n",
       " Row(USMER=1, MEDICAL_UNIT=3, PATIENT_TYPE=2, DATE_DIED='17/05/2020', INTUBED=1, PNEUMONIA=1, AGE=59, PREGNANT=97, DIABETES=2, COPD=2, ASTHMA=2, INMSUPR=2, HIPERTENSION=2, OTHER_DISEASE=2, CARDIOVASCULAR=2, OBESITY=1, RENAL_CHRONIC=2, TOBACCO=1, CLASIFFICATION_FINAL=7, ICU=2, SEX=2),\n",
       " Row(USMER=1, MEDICAL_UNIT=3, PATIENT_TYPE=2, DATE_DIED='18/05/2020', INTUBED=1, PNEUMONIA=1, AGE=77, PREGNANT=97, DIABETES=1, COPD=2, ASTHMA=2, INMSUPR=2, HIPERTENSION=1, OTHER_DISEASE=2, CARDIOVASCULAR=2, OBESITY=2, RENAL_CHRONIC=2, TOBACCO=2, CLASIFFICATION_FINAL=3, ICU=1, SEX=2),\n",
       " Row(USMER=2, MEDICAL_UNIT=3, PATIENT_TYPE=2, DATE_DIED='18/05/2020', INTUBED=1, PNEUMONIA=1, AGE=65, PREGNANT=97, DIABETES=2, COPD=2, ASTHMA=2, INMSUPR=2, HIPERTENSION=2, OTHER_DISEASE=2, CARDIOVASCULAR=2, OBESITY=2, RENAL_CHRONIC=1, TOBACCO=2, CLASIFFICATION_FINAL=3, ICU=2, SEX=2),\n",
       " Row(USMER=1, MEDICAL_UNIT=3, PATIENT_TYPE=2, DATE_DIED='18/05/2020', INTUBED=1, PNEUMONIA=1, AGE=46, PREGNANT=97, DIABETES=1, COPD=2, ASTHMA=2, INMSUPR=2, HIPERTENSION=2, OTHER_DISEASE=2, CARDIOVASCULAR=2, OBESITY=2, RENAL_CHRONIC=2, TOBACCO=2, CLASIFFICATION_FINAL=3, ICU=1, SEX=2),\n",
       " Row(USMER=1, MEDICAL_UNIT=3, PATIENT_TYPE=2, DATE_DIED='18/05/2020', INTUBED=2, PNEUMONIA=1, AGE=82, PREGNANT=97, DIABETES=1, COPD=2, ASTHMA=2, INMSUPR=2, HIPERTENSION=1, OTHER_DISEASE=2, CARDIOVASCULAR=1, OBESITY=1, RENAL_CHRONIC=1, TOBACCO=1, CLASIFFICATION_FINAL=7, ICU=2, SEX=2),\n",
       " Row(USMER=1, MEDICAL_UNIT=3, PATIENT_TYPE=2, DATE_DIED='19/05/2020', INTUBED=1, PNEUMONIA=1, AGE=61, PREGNANT=97, DIABETES=1, COPD=2, ASTHMA=2, INMSUPR=2, HIPERTENSION=2, OTHER_DISEASE=2, CARDIOVASCULAR=2, OBESITY=2, RENAL_CHRONIC=2, TOBACCO=2, CLASIFFICATION_FINAL=3, ICU=1, SEX=2),\n",
       " Row(USMER=1, MEDICAL_UNIT=3, PATIENT_TYPE=2, DATE_DIED='19/05/2020', INTUBED=1, PNEUMONIA=1, AGE=52, PREGNANT=97, DIABETES=2, COPD=2, ASTHMA=2, INMSUPR=2, HIPERTENSION=1, OTHER_DISEASE=2, CARDIOVASCULAR=2, OBESITY=2, RENAL_CHRONIC=2, TOBACCO=2, CLASIFFICATION_FINAL=3, ICU=1, SEX=2),\n",
       " Row(USMER=1, MEDICAL_UNIT=3, PATIENT_TYPE=2, DATE_DIED='19/05/2020', INTUBED=2, PNEUMONIA=1, AGE=62, PREGNANT=97, DIABETES=2, COPD=2, ASTHMA=2, INMSUPR=2, HIPERTENSION=1, OTHER_DISEASE=2, CARDIOVASCULAR=2, OBESITY=2, RENAL_CHRONIC=2, TOBACCO=2, CLASIFFICATION_FINAL=3, ICU=2, SEX=2),\n",
       " Row(USMER=2, MEDICAL_UNIT=3, PATIENT_TYPE=1, DATE_DIED='19/05/2020', INTUBED=97, PNEUMONIA=1, AGE=22, PREGNANT=97, DIABETES=1, COPD=2, ASTHMA=2, INMSUPR=2, HIPERTENSION=1, OTHER_DISEASE=2, CARDIOVASCULAR=2, OBESITY=2, RENAL_CHRONIC=2, TOBACCO=2, CLASIFFICATION_FINAL=3, ICU=97, SEX=2),\n",
       " Row(USMER=1, MEDICAL_UNIT=3, PATIENT_TYPE=2, DATE_DIED='19/05/2020', INTUBED=2, PNEUMONIA=1, AGE=62, PREGNANT=97, DIABETES=2, COPD=2, ASTHMA=2, INMSUPR=2, HIPERTENSION=2, OTHER_DISEASE=2, CARDIOVASCULAR=2, OBESITY=2, RENAL_CHRONIC=2, TOBACCO=2, CLASIFFICATION_FINAL=3, ICU=2, SEX=2),\n",
       " Row(USMER=2, MEDICAL_UNIT=3, PATIENT_TYPE=2, DATE_DIED='19/05/2020', INTUBED=99, PNEUMONIA=1, AGE=72, PREGNANT=97, DIABETES=2, COPD=2, ASTHMA=2, INMSUPR=2, HIPERTENSION=1, OTHER_DISEASE=2, CARDIOVASCULAR=1, OBESITY=1, RENAL_CHRONIC=1, TOBACCO=2, CLASIFFICATION_FINAL=3, ICU=99, SEX=2),\n",
       " Row(USMER=1, MEDICAL_UNIT=3, PATIENT_TYPE=2, DATE_DIED='19/05/2020', INTUBED=2, PNEUMONIA=1, AGE=62, PREGNANT=97, DIABETES=2, COPD=2, ASTHMA=2, INMSUPR=2, HIPERTENSION=2, OTHER_DISEASE=2, CARDIOVASCULAR=2, OBESITY=2, RENAL_CHRONIC=2, TOBACCO=2, CLASIFFICATION_FINAL=4, ICU=2, SEX=2),\n",
       " Row(USMER=1, MEDICAL_UNIT=3, PATIENT_TYPE=2, DATE_DIED='19/05/2020', INTUBED=2, PNEUMONIA=1, AGE=61, PREGNANT=97, DIABETES=2, COPD=2, ASTHMA=2, INMSUPR=2, HIPERTENSION=2, OTHER_DISEASE=2, CARDIOVASCULAR=2, OBESITY=2, RENAL_CHRONIC=2, TOBACCO=2, CLASIFFICATION_FINAL=7, ICU=2, SEX=2),\n",
       " Row(USMER=1, MEDICAL_UNIT=3, PATIENT_TYPE=2, DATE_DIED='20/05/2020', INTUBED=1, PNEUMONIA=1, AGE=53, PREGNANT=97, DIABETES=2, COPD=2, ASTHMA=2, INMSUPR=2, HIPERTENSION=2, OTHER_DISEASE=2, CARDIOVASCULAR=2, OBESITY=2, RENAL_CHRONIC=2, TOBACCO=1, CLASIFFICATION_FINAL=3, ICU=1, SEX=2),\n",
       " Row(USMER=2, MEDICAL_UNIT=3, PATIENT_TYPE=2, DATE_DIED='20/05/2020', INTUBED=2, PNEUMONIA=1, AGE=88, PREGNANT=97, DIABETES=1, COPD=2, ASTHMA=2, INMSUPR=2, HIPERTENSION=1, OTHER_DISEASE=2, CARDIOVASCULAR=2, OBESITY=1, RENAL_CHRONIC=2, TOBACCO=2, CLASIFFICATION_FINAL=3, ICU=2, SEX=2),\n",
       " Row(USMER=1, MEDICAL_UNIT=3, PATIENT_TYPE=2, DATE_DIED='20/05/2020', INTUBED=1, PNEUMONIA=1, AGE=56, PREGNANT=97, DIABETES=1, COPD=2, ASTHMA=2, INMSUPR=2, HIPERTENSION=2, OTHER_DISEASE=2, CARDIOVASCULAR=2, OBESITY=2, RENAL_CHRONIC=2, TOBACCO=2, CLASIFFICATION_FINAL=3, ICU=1, SEX=2),\n",
       " Row(USMER=2, MEDICAL_UNIT=3, PATIENT_TYPE=2, DATE_DIED='21/05/2020', INTUBED=99, PNEUMONIA=1, AGE=60, PREGNANT=97, DIABETES=2, COPD=2, ASTHMA=2, INMSUPR=2, HIPERTENSION=1, OTHER_DISEASE=2, CARDIOVASCULAR=2, OBESITY=2, RENAL_CHRONIC=2, TOBACCO=2, CLASIFFICATION_FINAL=2, ICU=99, SEX=2),\n",
       " Row(USMER=2, MEDICAL_UNIT=3, PATIENT_TYPE=2, DATE_DIED='21/05/2020', INTUBED=1, PNEUMONIA=1, AGE=53, PREGNANT=97, DIABETES=2, COPD=2, ASTHMA=2, INMSUPR=1, HIPERTENSION=1, OTHER_DISEASE=1, CARDIOVASCULAR=1, OBESITY=2, RENAL_CHRONIC=2, TOBACCO=2, CLASIFFICATION_FINAL=3, ICU=2, SEX=2),\n",
       " Row(USMER=1, MEDICAL_UNIT=3, PATIENT_TYPE=2, DATE_DIED='21/05/2020', INTUBED=2, PNEUMONIA=1, AGE=65, PREGNANT=97, DIABETES=2, COPD=2, ASTHMA=2, INMSUPR=2, HIPERTENSION=1, OTHER_DISEASE=2, CARDIOVASCULAR=2, OBESITY=2, RENAL_CHRONIC=2, TOBACCO=2, CLASIFFICATION_FINAL=3, ICU=2, SEX=2),\n",
       " Row(USMER=2, MEDICAL_UNIT=3, PATIENT_TYPE=2, DATE_DIED='21/05/2020', INTUBED=1, PNEUMONIA=1, AGE=54, PREGNANT=97, DIABETES=2, COPD=2, ASTHMA=2, INMSUPR=2, HIPERTENSION=2, OTHER_DISEASE=2, CARDIOVASCULAR=2, OBESITY=2, RENAL_CHRONIC=2, TOBACCO=2, CLASIFFICATION_FINAL=3, ICU=2, SEX=2),\n",
       " Row(USMER=1, MEDICAL_UNIT=3, PATIENT_TYPE=2, DATE_DIED='21/05/2020', INTUBED=1, PNEUMONIA=1, AGE=45, PREGNANT=97, DIABETES=2, COPD=2, ASTHMA=2, INMSUPR=2, HIPERTENSION=2, OTHER_DISEASE=2, CARDIOVASCULAR=2, OBESITY=2, RENAL_CHRONIC=2, TOBACCO=2, CLASIFFICATION_FINAL=3, ICU=2, SEX=2),\n",
       " Row(USMER=1, MEDICAL_UNIT=3, PATIENT_TYPE=2, DATE_DIED='21/05/2020', INTUBED=2, PNEUMONIA=1, AGE=64, PREGNANT=97, DIABETES=2, COPD=2, ASTHMA=2, INMSUPR=2, HIPERTENSION=2, OTHER_DISEASE=2, CARDIOVASCULAR=2, OBESITY=2, RENAL_CHRONIC=2, TOBACCO=2, CLASIFFICATION_FINAL=5, ICU=2, SEX=2),\n",
       " Row(USMER=1, MEDICAL_UNIT=3, PATIENT_TYPE=2, DATE_DIED='21/05/2020', INTUBED=2, PNEUMONIA=1, AGE=40, PREGNANT=97, DIABETES=2, COPD=2, ASTHMA=2, INMSUPR=2, HIPERTENSION=2, OTHER_DISEASE=2, CARDIOVASCULAR=2, OBESITY=2, RENAL_CHRONIC=2, TOBACCO=2, CLASIFFICATION_FINAL=5, ICU=2, SEX=2),\n",
       " Row(USMER=1, MEDICAL_UNIT=3, PATIENT_TYPE=2, DATE_DIED='21/05/2020', INTUBED=2, PNEUMONIA=1, AGE=53, PREGNANT=97, DIABETES=2, COPD=2, ASTHMA=2, INMSUPR=2, HIPERTENSION=1, OTHER_DISEASE=2, CARDIOVASCULAR=2, OBESITY=2, RENAL_CHRONIC=2, TOBACCO=2, CLASIFFICATION_FINAL=7, ICU=2, SEX=2),\n",
       " Row(USMER=1, MEDICAL_UNIT=3, PATIENT_TYPE=2, DATE_DIED='21/05/2020', INTUBED=2, PNEUMONIA=2, AGE=79, PREGNANT=97, DIABETES=1, COPD=2, ASTHMA=2, INMSUPR=2, HIPERTENSION=1, OTHER_DISEASE=2, CARDIOVASCULAR=2, OBESITY=2, RENAL_CHRONIC=2, TOBACCO=2, CLASIFFICATION_FINAL=7, ICU=2, SEX=2),\n",
       " Row(USMER=1, MEDICAL_UNIT=3, PATIENT_TYPE=2, DATE_DIED='22/05/2020', INTUBED=2, PNEUMONIA=2, AGE=61, PREGNANT=97, DIABETES=1, COPD=2, ASTHMA=2, INMSUPR=2, HIPERTENSION=2, OTHER_DISEASE=2, CARDIOVASCULAR=2, OBESITY=2, RENAL_CHRONIC=2, TOBACCO=2, CLASIFFICATION_FINAL=3, ICU=2, SEX=2),\n",
       " Row(USMER=1, MEDICAL_UNIT=3, PATIENT_TYPE=2, DATE_DIED='22/05/2020', INTUBED=1, PNEUMONIA=1, AGE=38, PREGNANT=97, DIABETES=1, COPD=2, ASTHMA=2, INMSUPR=2, HIPERTENSION=1, OTHER_DISEASE=2, CARDIOVASCULAR=2, OBESITY=1, RENAL_CHRONIC=2, TOBACCO=2, CLASIFFICATION_FINAL=3, ICU=1, SEX=2),\n",
       " Row(USMER=2, MEDICAL_UNIT=3, PATIENT_TYPE=2, DATE_DIED='22/05/2020', INTUBED=2, PNEUMONIA=2, AGE=82, PREGNANT=97, DIABETES=1, COPD=2, ASTHMA=2, INMSUPR=2, HIPERTENSION=2, OTHER_DISEASE=2, CARDIOVASCULAR=2, OBESITY=2, RENAL_CHRONIC=2, TOBACCO=2, CLASIFFICATION_FINAL=3, ICU=2, SEX=2),\n",
       " Row(USMER=1, MEDICAL_UNIT=3, PATIENT_TYPE=2, DATE_DIED='22/05/2020', INTUBED=2, PNEUMONIA=1, AGE=76, PREGNANT=97, DIABETES=2, COPD=2, ASTHMA=2, INMSUPR=2, HIPERTENSION=1, OTHER_DISEASE=2, CARDIOVASCULAR=2, OBESITY=2, RENAL_CHRONIC=2, TOBACCO=2, CLASIFFICATION_FINAL=3, ICU=2, SEX=2),\n",
       " Row(USMER=2, MEDICAL_UNIT=3, PATIENT_TYPE=2, DATE_DIED='22/05/2020', INTUBED=1, PNEUMONIA=1, AGE=61, PREGNANT=97, DIABETES=1, COPD=2, ASTHMA=2, INMSUPR=2, HIPERTENSION=1, OTHER_DISEASE=2, CARDIOVASCULAR=2, OBESITY=2, RENAL_CHRONIC=2, TOBACCO=2, CLASIFFICATION_FINAL=4, ICU=2, SEX=2),\n",
       " Row(USMER=1, MEDICAL_UNIT=3, PATIENT_TYPE=2, DATE_DIED='22/05/2020', INTUBED=1, PNEUMONIA=1, AGE=57, PREGNANT=97, DIABETES=1, COPD=2, ASTHMA=2, INMSUPR=2, HIPERTENSION=2, OTHER_DISEASE=2, CARDIOVASCULAR=2, OBESITY=2, RENAL_CHRONIC=2, TOBACCO=1, CLASIFFICATION_FINAL=5, ICU=1, SEX=2),\n",
       " Row(USMER=1, MEDICAL_UNIT=3, PATIENT_TYPE=2, DATE_DIED='22/05/2020', INTUBED=2, PNEUMONIA=1, AGE=43, PREGNANT=97, DIABETES=2, COPD=2, ASTHMA=2, INMSUPR=2, HIPERTENSION=1, OTHER_DISEASE=2, CARDIOVASCULAR=2, OBESITY=2, RENAL_CHRONIC=2, TOBACCO=1, CLASIFFICATION_FINAL=7, ICU=2, SEX=2),\n",
       " Row(USMER=2, MEDICAL_UNIT=3, PATIENT_TYPE=2, DATE_DIED='23/05/2020', INTUBED=1, PNEUMONIA=1, AGE=36, PREGNANT=97, DIABETES=2, COPD=2, ASTHMA=2, INMSUPR=2, HIPERTENSION=2, OTHER_DISEASE=2, CARDIOVASCULAR=2, OBESITY=2, RENAL_CHRONIC=2, TOBACCO=2, CLASIFFICATION_FINAL=3, ICU=2, SEX=2),\n",
       " Row(USMER=1, MEDICAL_UNIT=3, PATIENT_TYPE=2, DATE_DIED='23/05/2020', INTUBED=1, PNEUMONIA=1, AGE=49, PREGNANT=97, DIABETES=2, COPD=2, ASTHMA=2, INMSUPR=2, HIPERTENSION=2, OTHER_DISEASE=2, CARDIOVASCULAR=2, OBESITY=2, RENAL_CHRONIC=2, TOBACCO=2, CLASIFFICATION_FINAL=3, ICU=1, SEX=2),\n",
       " Row(USMER=1, MEDICAL_UNIT=3, PATIENT_TYPE=2, DATE_DIED='23/05/2020', INTUBED=2, PNEUMONIA=1, AGE=50, PREGNANT=97, DIABETES=1, COPD=2, ASTHMA=2, INMSUPR=2, HIPERTENSION=2, OTHER_DISEASE=2, CARDIOVASCULAR=2, OBESITY=2, RENAL_CHRONIC=2, TOBACCO=2, CLASIFFICATION_FINAL=3, ICU=2, SEX=2),\n",
       " Row(USMER=1, MEDICAL_UNIT=3, PATIENT_TYPE=2, DATE_DIED='23/05/2020', INTUBED=2, PNEUMONIA=2, AGE=49, PREGNANT=97, DIABETES=2, COPD=2, ASTHMA=2, INMSUPR=2, HIPERTENSION=2, OTHER_DISEASE=2, CARDIOVASCULAR=2, OBESITY=2, RENAL_CHRONIC=2, TOBACCO=2, CLASIFFICATION_FINAL=3, ICU=2, SEX=2),\n",
       " Row(USMER=2, MEDICAL_UNIT=3, PATIENT_TYPE=1, DATE_DIED='23/05/2020', INTUBED=97, PNEUMONIA=1, AGE=80, PREGNANT=97, DIABETES=2, COPD=2, ASTHMA=2, INMSUPR=2, HIPERTENSION=2, OTHER_DISEASE=2, CARDIOVASCULAR=2, OBESITY=2, RENAL_CHRONIC=2, TOBACCO=2, CLASIFFICATION_FINAL=3, ICU=97, SEX=2),\n",
       " Row(USMER=1, MEDICAL_UNIT=3, PATIENT_TYPE=2, DATE_DIED='23/05/2020', INTUBED=2, PNEUMONIA=1, AGE=86, PREGNANT=97, DIABETES=1, COPD=2, ASTHMA=2, INMSUPR=2, HIPERTENSION=2, OTHER_DISEASE=2, CARDIOVASCULAR=2, OBESITY=2, RENAL_CHRONIC=2, TOBACCO=2, CLASIFFICATION_FINAL=3, ICU=1, SEX=2),\n",
       " Row(USMER=1, MEDICAL_UNIT=3, PATIENT_TYPE=2, DATE_DIED='23/05/2020', INTUBED=2, PNEUMONIA=2, AGE=80, PREGNANT=97, DIABETES=1, COPD=2, ASTHMA=2, INMSUPR=2, HIPERTENSION=1, OTHER_DISEASE=2, CARDIOVASCULAR=2, OBESITY=2, RENAL_CHRONIC=2, TOBACCO=2, CLASIFFICATION_FINAL=3, ICU=2, SEX=2),\n",
       " Row(USMER=1, MEDICAL_UNIT=3, PATIENT_TYPE=2, DATE_DIED='23/05/2020', INTUBED=2, PNEUMONIA=1, AGE=78, PREGNANT=97, DIABETES=2, COPD=2, ASTHMA=2, INMSUPR=2, HIPERTENSION=1, OTHER_DISEASE=2, CARDIOVASCULAR=1, OBESITY=2, RENAL_CHRONIC=2, TOBACCO=2, CLASIFFICATION_FINAL=3, ICU=2, SEX=2),\n",
       " Row(USMER=1, MEDICAL_UNIT=3, PATIENT_TYPE=2, DATE_DIED='23/05/2020', INTUBED=2, PNEUMONIA=2, AGE=57, PREGNANT=97, DIABETES=2, COPD=2, ASTHMA=2, INMSUPR=2, HIPERTENSION=2, OTHER_DISEASE=2, CARDIOVASCULAR=2, OBESITY=2, RENAL_CHRONIC=2, TOBACCO=2, CLASIFFICATION_FINAL=5, ICU=2, SEX=2),\n",
       " Row(USMER=2, MEDICAL_UNIT=3, PATIENT_TYPE=2, DATE_DIED='24/05/2020', INTUBED=1, PNEUMONIA=1, AGE=44, PREGNANT=97, DIABETES=2, COPD=2, ASTHMA=2, INMSUPR=2, HIPERTENSION=2, OTHER_DISEASE=2, CARDIOVASCULAR=2, OBESITY=2, RENAL_CHRONIC=2, TOBACCO=2, CLASIFFICATION_FINAL=3, ICU=2, SEX=2),\n",
       " Row(USMER=1, MEDICAL_UNIT=3, PATIENT_TYPE=2, DATE_DIED='24/05/2020', INTUBED=2, PNEUMONIA=1, AGE=51, PREGNANT=97, DIABETES=2, COPD=2, ASTHMA=2, INMSUPR=2, HIPERTENSION=2, OTHER_DISEASE=2, CARDIOVASCULAR=2, OBESITY=2, RENAL_CHRONIC=2, TOBACCO=2, CLASIFFICATION_FINAL=3, ICU=2, SEX=2),\n",
       " Row(USMER=1, MEDICAL_UNIT=3, PATIENT_TYPE=2, DATE_DIED='24/05/2020', INTUBED=2, PNEUMONIA=1, AGE=68, PREGNANT=97, DIABETES=1, COPD=2, ASTHMA=2, INMSUPR=2, HIPERTENSION=2, OTHER_DISEASE=2, CARDIOVASCULAR=2, OBESITY=2, RENAL_CHRONIC=2, TOBACCO=2, CLASIFFICATION_FINAL=3, ICU=2, SEX=2),\n",
       " Row(USMER=1, MEDICAL_UNIT=3, PATIENT_TYPE=2, DATE_DIED='24/05/2020', INTUBED=2, PNEUMONIA=1, AGE=79, PREGNANT=97, DIABETES=2, COPD=2, ASTHMA=2, INMSUPR=2, HIPERTENSION=2, OTHER_DISEASE=2, CARDIOVASCULAR=2, OBESITY=2, RENAL_CHRONIC=2, TOBACCO=2, CLASIFFICATION_FINAL=3, ICU=2, SEX=2),\n",
       " Row(USMER=2, MEDICAL_UNIT=3, PATIENT_TYPE=1, DATE_DIED='24/05/2020', INTUBED=97, PNEUMONIA=1, AGE=61, PREGNANT=97, DIABETES=2, COPD=2, ASTHMA=2, INMSUPR=2, HIPERTENSION=2, OTHER_DISEASE=2, CARDIOVASCULAR=2, OBESITY=2, RENAL_CHRONIC=2, TOBACCO=2, CLASIFFICATION_FINAL=3, ICU=97, SEX=2),\n",
       " Row(USMER=2, MEDICAL_UNIT=3, PATIENT_TYPE=2, DATE_DIED='24/05/2020', INTUBED=2, PNEUMONIA=1, AGE=48, PREGNANT=97, DIABETES=2, COPD=2, ASTHMA=2, INMSUPR=2, HIPERTENSION=2, OTHER_DISEASE=2, CARDIOVASCULAR=2, OBESITY=2, RENAL_CHRONIC=2, TOBACCO=2, CLASIFFICATION_FINAL=3, ICU=2, SEX=2),\n",
       " Row(USMER=1, MEDICAL_UNIT=3, PATIENT_TYPE=2, DATE_DIED='24/05/2020', INTUBED=1, PNEUMONIA=1, AGE=78, PREGNANT=97, DIABETES=1, COPD=2, ASTHMA=2, INMSUPR=2, HIPERTENSION=2, OTHER_DISEASE=2, CARDIOVASCULAR=1, OBESITY=2, RENAL_CHRONIC=2, TOBACCO=1, CLASIFFICATION_FINAL=3, ICU=2, SEX=2),\n",
       " Row(USMER=2, MEDICAL_UNIT=3, PATIENT_TYPE=2, DATE_DIED='24/05/2020', INTUBED=2, PNEUMONIA=1, AGE=55, PREGNANT=97, DIABETES=1, COPD=2, ASTHMA=2, INMSUPR=2, HIPERTENSION=1, OTHER_DISEASE=2, CARDIOVASCULAR=2, OBESITY=2, RENAL_CHRONIC=2, TOBACCO=2, CLASIFFICATION_FINAL=3, ICU=2, SEX=2),\n",
       " Row(USMER=2, MEDICAL_UNIT=3, PATIENT_TYPE=2, DATE_DIED='24/05/2020', INTUBED=2, PNEUMONIA=1, AGE=69, PREGNANT=97, DIABETES=1, COPD=2, ASTHMA=2, INMSUPR=2, HIPERTENSION=2, OTHER_DISEASE=2, CARDIOVASCULAR=2, OBESITY=1, RENAL_CHRONIC=2, TOBACCO=2, CLASIFFICATION_FINAL=6, ICU=2, SEX=2),\n",
       " Row(USMER=1, MEDICAL_UNIT=3, PATIENT_TYPE=2, DATE_DIED='24/05/2020', INTUBED=2, PNEUMONIA=2, AGE=50, PREGNANT=97, DIABETES=2, COPD=2, ASTHMA=2, INMSUPR=2, HIPERTENSION=2, OTHER_DISEASE=2, CARDIOVASCULAR=2, OBESITY=2, RENAL_CHRONIC=2, TOBACCO=2, CLASIFFICATION_FINAL=7, ICU=2, SEX=2),\n",
       " Row(USMER=1, MEDICAL_UNIT=3, PATIENT_TYPE=2, DATE_DIED='25/05/2020', INTUBED=1, PNEUMONIA=1, AGE=78, PREGNANT=97, DIABETES=2, COPD=2, ASTHMA=2, INMSUPR=2, HIPERTENSION=2, OTHER_DISEASE=2, CARDIOVASCULAR=2, OBESITY=2, RENAL_CHRONIC=2, TOBACCO=2, CLASIFFICATION_FINAL=3, ICU=1, SEX=2),\n",
       " Row(USMER=2, MEDICAL_UNIT=3, PATIENT_TYPE=2, DATE_DIED='25/05/2020', INTUBED=1, PNEUMONIA=1, AGE=26, PREGNANT=97, DIABETES=2, COPD=2, ASTHMA=2, INMSUPR=2, HIPERTENSION=2, OTHER_DISEASE=2, CARDIOVASCULAR=2, OBESITY=2, RENAL_CHRONIC=2, TOBACCO=2, CLASIFFICATION_FINAL=3, ICU=2, SEX=2),\n",
       " Row(USMER=1, MEDICAL_UNIT=3, PATIENT_TYPE=2, DATE_DIED='25/05/2020', INTUBED=2, PNEUMONIA=1, AGE=90, PREGNANT=97, DIABETES=1, COPD=2, ASTHMA=2, INMSUPR=2, HIPERTENSION=2, OTHER_DISEASE=2, CARDIOVASCULAR=2, OBESITY=2, RENAL_CHRONIC=2, TOBACCO=2, CLASIFFICATION_FINAL=3, ICU=2, SEX=2),\n",
       " Row(USMER=1, MEDICAL_UNIT=3, PATIENT_TYPE=2, DATE_DIED='25/05/2020', INTUBED=2, PNEUMONIA=1, AGE=54, PREGNANT=97, DIABETES=2, COPD=2, ASTHMA=2, INMSUPR=2, HIPERTENSION=2, OTHER_DISEASE=2, CARDIOVASCULAR=2, OBESITY=2, RENAL_CHRONIC=2, TOBACCO=2, CLASIFFICATION_FINAL=3, ICU=2, SEX=2),\n",
       " Row(USMER=1, MEDICAL_UNIT=3, PATIENT_TYPE=2, DATE_DIED='25/05/2020', INTUBED=2, PNEUMONIA=2, AGE=37, PREGNANT=97, DIABETES=2, COPD=2, ASTHMA=2, INMSUPR=2, HIPERTENSION=2, OTHER_DISEASE=2, CARDIOVASCULAR=2, OBESITY=2, RENAL_CHRONIC=2, TOBACCO=2, CLASIFFICATION_FINAL=3, ICU=2, SEX=2),\n",
       " Row(USMER=1, MEDICAL_UNIT=3, PATIENT_TYPE=2, DATE_DIED='25/05/2020', INTUBED=2, PNEUMONIA=2, AGE=36, PREGNANT=97, DIABETES=2, COPD=2, ASTHMA=2, INMSUPR=2, HIPERTENSION=2, OTHER_DISEASE=2, CARDIOVASCULAR=2, OBESITY=2, RENAL_CHRONIC=2, TOBACCO=2, CLASIFFICATION_FINAL=3, ICU=2, SEX=2),\n",
       " Row(USMER=2, MEDICAL_UNIT=3, PATIENT_TYPE=2, DATE_DIED='25/05/2020', INTUBED=2, PNEUMONIA=2, AGE=76, PREGNANT=97, DIABETES=2, COPD=2, ASTHMA=2, INMSUPR=2, HIPERTENSION=2, OTHER_DISEASE=2, CARDIOVASCULAR=2, OBESITY=2, RENAL_CHRONIC=2, TOBACCO=2, CLASIFFICATION_FINAL=3, ICU=2, SEX=2),\n",
       " Row(USMER=1, MEDICAL_UNIT=3, PATIENT_TYPE=2, DATE_DIED='25/05/2020', INTUBED=2, PNEUMONIA=1, AGE=50, PREGNANT=97, DIABETES=2, COPD=1, ASTHMA=2, INMSUPR=2, HIPERTENSION=2, OTHER_DISEASE=2, CARDIOVASCULAR=2, OBESITY=2, RENAL_CHRONIC=2, TOBACCO=2, CLASIFFICATION_FINAL=3, ICU=2, SEX=2),\n",
       " Row(USMER=2, MEDICAL_UNIT=3, PATIENT_TYPE=2, DATE_DIED='25/05/2020', INTUBED=2, PNEUMONIA=1, AGE=79, PREGNANT=97, DIABETES=1, COPD=2, ASTHMA=2, INMSUPR=2, HIPERTENSION=1, OTHER_DISEASE=2, CARDIOVASCULAR=2, OBESITY=2, RENAL_CHRONIC=2, TOBACCO=2, CLASIFFICATION_FINAL=3, ICU=2, SEX=2),\n",
       " Row(USMER=1, MEDICAL_UNIT=3, PATIENT_TYPE=2, DATE_DIED='25/05/2020', INTUBED=2, PNEUMONIA=1, AGE=75, PREGNANT=97, DIABETES=2, COPD=2, ASTHMA=2, INMSUPR=1, HIPERTENSION=2, OTHER_DISEASE=2, CARDIOVASCULAR=2, OBESITY=2, RENAL_CHRONIC=2, TOBACCO=2, CLASIFFICATION_FINAL=3, ICU=2, SEX=2),\n",
       " Row(USMER=2, MEDICAL_UNIT=3, PATIENT_TYPE=2, DATE_DIED='25/05/2020', INTUBED=1, PNEUMONIA=1, AGE=45, PREGNANT=97, DIABETES=2, COPD=1, ASTHMA=2, INMSUPR=2, HIPERTENSION=1, OTHER_DISEASE=2, CARDIOVASCULAR=2, OBESITY=1, RENAL_CHRONIC=2, TOBACCO=2, CLASIFFICATION_FINAL=4, ICU=2, SEX=2),\n",
       " Row(USMER=1, MEDICAL_UNIT=3, PATIENT_TYPE=2, DATE_DIED='25/05/2020', INTUBED=2, PNEUMONIA=1, AGE=67, PREGNANT=97, DIABETES=2, COPD=2, ASTHMA=2, INMSUPR=2, HIPERTENSION=2, OTHER_DISEASE=2, CARDIOVASCULAR=2, OBESITY=2, RENAL_CHRONIC=98, TOBACCO=2, CLASIFFICATION_FINAL=7, ICU=1, SEX=2),\n",
       " Row(USMER=1, MEDICAL_UNIT=3, PATIENT_TYPE=2, DATE_DIED='25/05/2020', INTUBED=1, PNEUMONIA=1, AGE=42, PREGNANT=97, DIABETES=1, COPD=2, ASTHMA=2, INMSUPR=2, HIPERTENSION=2, OTHER_DISEASE=2, CARDIOVASCULAR=2, OBESITY=2, RENAL_CHRONIC=2, TOBACCO=2, CLASIFFICATION_FINAL=7, ICU=1, SEX=2),\n",
       " Row(USMER=2, MEDICAL_UNIT=3, PATIENT_TYPE=2, DATE_DIED='25/05/2020', INTUBED=2, PNEUMONIA=1, AGE=52, PREGNANT=97, DIABETES=1, COPD=2, ASTHMA=2, INMSUPR=2, HIPERTENSION=1, OTHER_DISEASE=2, CARDIOVASCULAR=2, OBESITY=2, RENAL_CHRONIC=1, TOBACCO=2, CLASIFFICATION_FINAL=7, ICU=2, SEX=2),\n",
       " Row(USMER=2, MEDICAL_UNIT=3, PATIENT_TYPE=2, DATE_DIED='26/05/2020', INTUBED=2, PNEUMONIA=1, AGE=58, PREGNANT=97, DIABETES=2, COPD=2, ASTHMA=2, INMSUPR=2, HIPERTENSION=1, OTHER_DISEASE=2, CARDIOVASCULAR=2, OBESITY=1, RENAL_CHRONIC=2, TOBACCO=2, CLASIFFICATION_FINAL=2, ICU=2, SEX=2),\n",
       " Row(USMER=1, MEDICAL_UNIT=3, PATIENT_TYPE=2, DATE_DIED='26/05/2020', INTUBED=2, PNEUMONIA=1, AGE=53, PREGNANT=97, DIABETES=2, COPD=2, ASTHMA=2, INMSUPR=2, HIPERTENSION=2, OTHER_DISEASE=2, CARDIOVASCULAR=1, OBESITY=2, RENAL_CHRONIC=2, TOBACCO=2, CLASIFFICATION_FINAL=3, ICU=2, SEX=2),\n",
       " Row(USMER=2, MEDICAL_UNIT=3, PATIENT_TYPE=2, DATE_DIED='26/05/2020', INTUBED=2, PNEUMONIA=1, AGE=64, PREGNANT=97, DIABETES=2, COPD=2, ASTHMA=2, INMSUPR=2, HIPERTENSION=2, OTHER_DISEASE=2, CARDIOVASCULAR=2, OBESITY=2, RENAL_CHRONIC=2, TOBACCO=2, CLASIFFICATION_FINAL=3, ICU=2, SEX=2),\n",
       " Row(USMER=1, MEDICAL_UNIT=3, PATIENT_TYPE=2, DATE_DIED='26/05/2020', INTUBED=2, PNEUMONIA=1, AGE=62, PREGNANT=97, DIABETES=2, COPD=2, ASTHMA=2, INMSUPR=2, HIPERTENSION=2, OTHER_DISEASE=2, CARDIOVASCULAR=2, OBESITY=2, RENAL_CHRONIC=2, TOBACCO=2, CLASIFFICATION_FINAL=3, ICU=2, SEX=2),\n",
       " Row(USMER=1, MEDICAL_UNIT=3, PATIENT_TYPE=2, DATE_DIED='26/05/2020', INTUBED=2, PNEUMONIA=1, AGE=79, PREGNANT=97, DIABETES=2, COPD=2, ASTHMA=2, INMSUPR=2, HIPERTENSION=2, OTHER_DISEASE=2, CARDIOVASCULAR=2, OBESITY=2, RENAL_CHRONIC=2, TOBACCO=2, CLASIFFICATION_FINAL=4, ICU=2, SEX=2),\n",
       " Row(USMER=2, MEDICAL_UNIT=3, PATIENT_TYPE=2, DATE_DIED='26/05/2020', INTUBED=2, PNEUMONIA=1, AGE=51, PREGNANT=97, DIABETES=1, COPD=2, ASTHMA=2, INMSUPR=2, HIPERTENSION=2, OTHER_DISEASE=2, CARDIOVASCULAR=2, OBESITY=2, RENAL_CHRONIC=2, TOBACCO=2, CLASIFFICATION_FINAL=7, ICU=2, SEX=2),\n",
       " Row(USMER=1, MEDICAL_UNIT=3, PATIENT_TYPE=2, DATE_DIED='27/05/2020', INTUBED=1, PNEUMONIA=1, AGE=46, PREGNANT=97, DIABETES=2, COPD=2, ASTHMA=2, INMSUPR=2, HIPERTENSION=2, OTHER_DISEASE=2, CARDIOVASCULAR=2, OBESITY=2, RENAL_CHRONIC=2, TOBACCO=2, CLASIFFICATION_FINAL=3, ICU=1, SEX=2),\n",
       " Row(USMER=1, MEDICAL_UNIT=3, PATIENT_TYPE=2, DATE_DIED='27/05/2020', INTUBED=2, PNEUMONIA=1, AGE=55, PREGNANT=97, DIABETES=1, COPD=2, ASTHMA=2, INMSUPR=2, HIPERTENSION=2, OTHER_DISEASE=2, CARDIOVASCULAR=2, OBESITY=2, RENAL_CHRONIC=2, TOBACCO=2, CLASIFFICATION_FINAL=3, ICU=2, SEX=2),\n",
       " Row(USMER=2, MEDICAL_UNIT=3, PATIENT_TYPE=2, DATE_DIED='27/05/2020', INTUBED=1, PNEUMONIA=1, AGE=46, PREGNANT=97, DIABETES=2, COPD=2, ASTHMA=2, INMSUPR=2, HIPERTENSION=2, OTHER_DISEASE=2, CARDIOVASCULAR=2, OBESITY=1, RENAL_CHRONIC=2, TOBACCO=2, CLASIFFICATION_FINAL=3, ICU=2, SEX=2),\n",
       " Row(USMER=1, MEDICAL_UNIT=3, PATIENT_TYPE=2, DATE_DIED='27/05/2020', INTUBED=2, PNEUMONIA=1, AGE=36, PREGNANT=97, DIABETES=2, COPD=2, ASTHMA=2, INMSUPR=2, HIPERTENSION=2, OTHER_DISEASE=2, CARDIOVASCULAR=2, OBESITY=2, RENAL_CHRONIC=2, TOBACCO=2, CLASIFFICATION_FINAL=3, ICU=2, SEX=2),\n",
       " Row(USMER=1, MEDICAL_UNIT=3, PATIENT_TYPE=2, DATE_DIED='27/05/2020', INTUBED=2, PNEUMONIA=1, AGE=46, PREGNANT=97, DIABETES=1, COPD=2, ASTHMA=2, INMSUPR=2, HIPERTENSION=2, OTHER_DISEASE=2, CARDIOVASCULAR=2, OBESITY=2, RENAL_CHRONIC=2, TOBACCO=2, CLASIFFICATION_FINAL=3, ICU=2, SEX=2),\n",
       " Row(USMER=1, MEDICAL_UNIT=3, PATIENT_TYPE=2, DATE_DIED='27/05/2020', INTUBED=2, PNEUMONIA=1, AGE=23, PREGNANT=97, DIABETES=2, COPD=2, ASTHMA=1, INMSUPR=2, HIPERTENSION=1, OTHER_DISEASE=1, CARDIOVASCULAR=2, OBESITY=1, RENAL_CHRONIC=2, TOBACCO=1, CLASIFFICATION_FINAL=7, ICU=2, SEX=2),\n",
       " Row(USMER=2, MEDICAL_UNIT=3, PATIENT_TYPE=2, DATE_DIED='28/05/2020', INTUBED=1, PNEUMONIA=1, AGE=70, PREGNANT=97, DIABETES=1, COPD=2, ASTHMA=2, INMSUPR=2, HIPERTENSION=2, OTHER_DISEASE=2, CARDIOVASCULAR=2, OBESITY=2, RENAL_CHRONIC=2, TOBACCO=2, CLASIFFICATION_FINAL=3, ICU=2, SEX=2),\n",
       " Row(USMER=2, MEDICAL_UNIT=3, PATIENT_TYPE=2, DATE_DIED='28/05/2020', INTUBED=1, PNEUMONIA=1, AGE=42, PREGNANT=97, DIABETES=2, COPD=2, ASTHMA=2, INMSUPR=2, HIPERTENSION=2, OTHER_DISEASE=2, CARDIOVASCULAR=2, OBESITY=2, RENAL_CHRONIC=2, TOBACCO=2, CLASIFFICATION_FINAL=3, ICU=2, SEX=2),\n",
       " Row(USMER=1, MEDICAL_UNIT=3, PATIENT_TYPE=2, DATE_DIED='28/05/2020', INTUBED=1, PNEUMONIA=1, AGE=85, PREGNANT=97, DIABETES=1, COPD=2, ASTHMA=2, INMSUPR=2, HIPERTENSION=2, OTHER_DISEASE=2, CARDIOVASCULAR=1, OBESITY=1, RENAL_CHRONIC=1, TOBACCO=2, CLASIFFICATION_FINAL=3, ICU=2, SEX=2),\n",
       " Row(USMER=1, MEDICAL_UNIT=3, PATIENT_TYPE=2, DATE_DIED='28/05/2020', INTUBED=2, PNEUMONIA=1, AGE=85, PREGNANT=97, DIABETES=2, COPD=1, ASTHMA=2, INMSUPR=2, HIPERTENSION=2, OTHER_DISEASE=2, CARDIOVASCULAR=2, OBESITY=2, RENAL_CHRONIC=2, TOBACCO=2, CLASIFFICATION_FINAL=3, ICU=2, SEX=2),\n",
       " Row(USMER=2, MEDICAL_UNIT=3, PATIENT_TYPE=2, DATE_DIED='28/05/2020', INTUBED=2, PNEUMONIA=1, AGE=77, PREGNANT=97, DIABETES=1, COPD=2, ASTHMA=2, INMSUPR=2, HIPERTENSION=1, OTHER_DISEASE=2, CARDIOVASCULAR=2, OBESITY=2, RENAL_CHRONIC=1, TOBACCO=2, CLASIFFICATION_FINAL=3, ICU=2, SEX=2),\n",
       " Row(USMER=1, MEDICAL_UNIT=3, PATIENT_TYPE=2, DATE_DIED='28/05/2020', INTUBED=2, PNEUMONIA=2, AGE=62, PREGNANT=97, DIABETES=2, COPD=2, ASTHMA=2, INMSUPR=2, HIPERTENSION=2, OTHER_DISEASE=2, CARDIOVASCULAR=2, OBESITY=2, RENAL_CHRONIC=2, TOBACCO=2, CLASIFFICATION_FINAL=3, ICU=2, SEX=2),\n",
       " Row(USMER=2, MEDICAL_UNIT=3, PATIENT_TYPE=2, DATE_DIED='28/05/2020', INTUBED=1, PNEUMONIA=1, AGE=63, PREGNANT=97, DIABETES=2, COPD=2, ASTHMA=2, INMSUPR=2, HIPERTENSION=2, OTHER_DISEASE=2, CARDIOVASCULAR=2, OBESITY=2, RENAL_CHRONIC=2, TOBACCO=2, CLASIFFICATION_FINAL=3, ICU=2, SEX=2),\n",
       " Row(USMER=1, MEDICAL_UNIT=3, PATIENT_TYPE=2, DATE_DIED='28/05/2020', INTUBED=2, PNEUMONIA=1, AGE=55, PREGNANT=97, DIABETES=2, COPD=2, ASTHMA=2, INMSUPR=2, HIPERTENSION=2, OTHER_DISEASE=2, CARDIOVASCULAR=2, OBESITY=2, RENAL_CHRONIC=2, TOBACCO=2, CLASIFFICATION_FINAL=5, ICU=2, SEX=2),\n",
       " Row(USMER=1, MEDICAL_UNIT=3, PATIENT_TYPE=2, DATE_DIED='28/05/2020', INTUBED=2, PNEUMONIA=2, AGE=56, PREGNANT=97, DIABETES=2, COPD=2, ASTHMA=2, INMSUPR=2, HIPERTENSION=2, OTHER_DISEASE=2, CARDIOVASCULAR=2, OBESITY=2, RENAL_CHRONIC=2, TOBACCO=2, CLASIFFICATION_FINAL=5, ICU=2, SEX=2),\n",
       " Row(USMER=1, MEDICAL_UNIT=3, PATIENT_TYPE=2, DATE_DIED='28/05/2020', INTUBED=2, PNEUMONIA=2, AGE=57, PREGNANT=97, DIABETES=2, COPD=2, ASTHMA=2, INMSUPR=2, HIPERTENSION=2, OTHER_DISEASE=2, CARDIOVASCULAR=2, OBESITY=2, RENAL_CHRONIC=2, TOBACCO=2, CLASIFFICATION_FINAL=7, ICU=2, SEX=2),\n",
       " Row(USMER=2, MEDICAL_UNIT=3, PATIENT_TYPE=2, DATE_DIED='29/05/2020', INTUBED=1, PNEUMONIA=1, AGE=72, PREGNANT=97, DIABETES=2, COPD=2, ASTHMA=2, INMSUPR=2, HIPERTENSION=2, OTHER_DISEASE=2, CARDIOVASCULAR=2, OBESITY=2, RENAL_CHRONIC=2, TOBACCO=2, CLASIFFICATION_FINAL=3, ICU=2, SEX=2),\n",
       " Row(USMER=1, MEDICAL_UNIT=3, PATIENT_TYPE=2, DATE_DIED='29/05/2020', INTUBED=99, PNEUMONIA=1, AGE=61, PREGNANT=97, DIABETES=2, COPD=2, ASTHMA=2, INMSUPR=2, HIPERTENSION=2, OTHER_DISEASE=2, CARDIOVASCULAR=2, OBESITY=2, RENAL_CHRONIC=2, TOBACCO=2, CLASIFFICATION_FINAL=3, ICU=99, SEX=2),\n",
       " Row(USMER=1, MEDICAL_UNIT=3, PATIENT_TYPE=2, DATE_DIED='29/05/2020', INTUBED=2, PNEUMONIA=2, AGE=51, PREGNANT=97, DIABETES=2, COPD=2, ASTHMA=2, INMSUPR=2, HIPERTENSION=2, OTHER_DISEASE=2, CARDIOVASCULAR=2, OBESITY=2, RENAL_CHRONIC=2, TOBACCO=2, CLASIFFICATION_FINAL=3, ICU=2, SEX=2),\n",
       " Row(USMER=1, MEDICAL_UNIT=3, PATIENT_TYPE=2, DATE_DIED='29/05/2020', INTUBED=2, PNEUMONIA=1, AGE=59, PREGNANT=97, DIABETES=2, COPD=2, ASTHMA=2, INMSUPR=2, HIPERTENSION=2, OTHER_DISEASE=2, CARDIOVASCULAR=2, OBESITY=2, RENAL_CHRONIC=2, TOBACCO=2, CLASIFFICATION_FINAL=3, ICU=2, SEX=2),\n",
       " Row(USMER=1, MEDICAL_UNIT=3, PATIENT_TYPE=2, DATE_DIED='29/05/2020', INTUBED=2, PNEUMONIA=1, AGE=82, PREGNANT=97, DIABETES=2, COPD=2, ASTHMA=2, INMSUPR=2, HIPERTENSION=1, OTHER_DISEASE=2, CARDIOVASCULAR=2, OBESITY=2, RENAL_CHRONIC=2, TOBACCO=2, CLASIFFICATION_FINAL=3, ICU=2, SEX=2),\n",
       " Row(USMER=2, MEDICAL_UNIT=3, PATIENT_TYPE=2, DATE_DIED='29/05/2020', INTUBED=99, PNEUMONIA=1, AGE=83, PREGNANT=97, DIABETES=2, COPD=2, ASTHMA=2, INMSUPR=2, HIPERTENSION=2, OTHER_DISEASE=2, CARDIOVASCULAR=2, OBESITY=2, RENAL_CHRONIC=2, TOBACCO=2, CLASIFFICATION_FINAL=3, ICU=99, SEX=2),\n",
       " Row(USMER=1, MEDICAL_UNIT=3, PATIENT_TYPE=2, DATE_DIED='29/05/2020', INTUBED=2, PNEUMONIA=1, AGE=63, PREGNANT=97, DIABETES=1, COPD=2, ASTHMA=2, INMSUPR=1, HIPERTENSION=2, OTHER_DISEASE=2, CARDIOVASCULAR=2, OBESITY=2, RENAL_CHRONIC=2, TOBACCO=2, CLASIFFICATION_FINAL=3, ICU=1, SEX=2),\n",
       " Row(USMER=1, MEDICAL_UNIT=3, PATIENT_TYPE=2, DATE_DIED='29/05/2020', INTUBED=2, PNEUMONIA=1, AGE=54, PREGNANT=97, DIABETES=2, COPD=2, ASTHMA=2, INMSUPR=2, HIPERTENSION=2, OTHER_DISEASE=2, CARDIOVASCULAR=2, OBESITY=2, RENAL_CHRONIC=2, TOBACCO=2, CLASIFFICATION_FINAL=3, ICU=2, SEX=2),\n",
       " Row(USMER=1, MEDICAL_UNIT=3, PATIENT_TYPE=2, DATE_DIED='29/05/2020', INTUBED=2, PNEUMONIA=1, AGE=89, PREGNANT=97, DIABETES=1, COPD=2, ASTHMA=2, INMSUPR=2, HIPERTENSION=1, OTHER_DISEASE=2, CARDIOVASCULAR=2, OBESITY=2, RENAL_CHRONIC=2, TOBACCO=2, CLASIFFICATION_FINAL=7, ICU=2, SEX=2),\n",
       " Row(USMER=1, MEDICAL_UNIT=3, PATIENT_TYPE=2, DATE_DIED='30/05/2020', INTUBED=1, PNEUMONIA=1, AGE=58, PREGNANT=97, DIABETES=1, COPD=2, ASTHMA=2, INMSUPR=2, HIPERTENSION=2, OTHER_DISEASE=2, CARDIOVASCULAR=2, OBESITY=2, RENAL_CHRONIC=2, TOBACCO=2, CLASIFFICATION_FINAL=3, ICU=1, SEX=2),\n",
       " Row(USMER=2, MEDICAL_UNIT=3, PATIENT_TYPE=2, DATE_DIED='30/05/2020', INTUBED=2, PNEUMONIA=1, AGE=50, PREGNANT=97, DIABETES=1, COPD=2, ASTHMA=2, INMSUPR=1, HIPERTENSION=1, OTHER_DISEASE=2, CARDIOVASCULAR=2, OBESITY=2, RENAL_CHRONIC=1, TOBACCO=2, CLASIFFICATION_FINAL=3, ICU=2, SEX=2),\n",
       " Row(USMER=1, MEDICAL_UNIT=3, PATIENT_TYPE=2, DATE_DIED='30/05/2020', INTUBED=2, PNEUMONIA=1, AGE=46, PREGNANT=97, DIABETES=1, COPD=2, ASTHMA=2, INMSUPR=2, HIPERTENSION=2, OTHER_DISEASE=2, CARDIOVASCULAR=2, OBESITY=2, RENAL_CHRONIC=2, TOBACCO=2, CLASIFFICATION_FINAL=3, ICU=2, SEX=2),\n",
       " Row(USMER=2, MEDICAL_UNIT=3, PATIENT_TYPE=2, DATE_DIED='30/05/2020', INTUBED=2, PNEUMONIA=1, AGE=57, PREGNANT=97, DIABETES=1, COPD=2, ASTHMA=2, INMSUPR=2, HIPERTENSION=1, OTHER_DISEASE=2, CARDIOVASCULAR=2, OBESITY=2, RENAL_CHRONIC=2, TOBACCO=2, CLASIFFICATION_FINAL=3, ICU=2, SEX=2),\n",
       " Row(USMER=2, MEDICAL_UNIT=3, PATIENT_TYPE=2, DATE_DIED='30/05/2020', INTUBED=2, PNEUMONIA=1, AGE=67, PREGNANT=97, DIABETES=2, COPD=2, ASTHMA=2, INMSUPR=2, HIPERTENSION=2, OTHER_DISEASE=2, CARDIOVASCULAR=2, OBESITY=2, RENAL_CHRONIC=2, TOBACCO=1, CLASIFFICATION_FINAL=3, ICU=2, SEX=2),\n",
       " Row(USMER=1, MEDICAL_UNIT=3, PATIENT_TYPE=2, DATE_DIED='30/05/2020', INTUBED=2, PNEUMONIA=1, AGE=69, PREGNANT=97, DIABETES=2, COPD=1, ASTHMA=2, INMSUPR=2, HIPERTENSION=2, OTHER_DISEASE=2, CARDIOVASCULAR=1, OBESITY=2, RENAL_CHRONIC=2, TOBACCO=1, CLASIFFICATION_FINAL=3, ICU=2, SEX=2),\n",
       " Row(USMER=1, MEDICAL_UNIT=3, PATIENT_TYPE=2, DATE_DIED='30/05/2020', INTUBED=2, PNEUMONIA=1, AGE=85, PREGNANT=97, DIABETES=2, COPD=2, ASTHMA=2, INMSUPR=2, HIPERTENSION=1, OTHER_DISEASE=2, CARDIOVASCULAR=2, OBESITY=2, RENAL_CHRONIC=2, TOBACCO=2, CLASIFFICATION_FINAL=3, ICU=2, SEX=2),\n",
       " Row(USMER=2, MEDICAL_UNIT=3, PATIENT_TYPE=2, DATE_DIED='30/05/2020', INTUBED=2, PNEUMONIA=1, AGE=67, PREGNANT=97, DIABETES=1, COPD=2, ASTHMA=2, INMSUPR=2, HIPERTENSION=1, OTHER_DISEASE=2, CARDIOVASCULAR=2, OBESITY=2, RENAL_CHRONIC=2, TOBACCO=2, CLASIFFICATION_FINAL=3, ICU=2, SEX=2),\n",
       " Row(USMER=1, MEDICAL_UNIT=3, PATIENT_TYPE=2, DATE_DIED='30/05/2020', INTUBED=2, PNEUMONIA=1, AGE=86, PREGNANT=97, DIABETES=2, COPD=2, ASTHMA=2, INMSUPR=2, HIPERTENSION=2, OTHER_DISEASE=2, CARDIOVASCULAR=2, OBESITY=2, RENAL_CHRONIC=2, TOBACCO=2, CLASIFFICATION_FINAL=6, ICU=2, SEX=2),\n",
       " Row(USMER=1, MEDICAL_UNIT=3, PATIENT_TYPE=2, DATE_DIED='31/05/2020', INTUBED=2, PNEUMONIA=1, AGE=53, PREGNANT=97, DIABETES=2, COPD=2, ASTHMA=2, INMSUPR=2, HIPERTENSION=1, OTHER_DISEASE=2, CARDIOVASCULAR=2, OBESITY=2, RENAL_CHRONIC=2, TOBACCO=2, CLASIFFICATION_FINAL=3, ICU=2, SEX=2),\n",
       " Row(USMER=1, MEDICAL_UNIT=3, PATIENT_TYPE=2, DATE_DIED='31/05/2020', INTUBED=2, PNEUMONIA=1, AGE=77, PREGNANT=97, DIABETES=1, COPD=2, ASTHMA=2, INMSUPR=2, HIPERTENSION=1, OTHER_DISEASE=2, CARDIOVASCULAR=2, OBESITY=2, RENAL_CHRONIC=2, TOBACCO=2, CLASIFFICATION_FINAL=3, ICU=2, SEX=2),\n",
       " Row(USMER=1, MEDICAL_UNIT=3, PATIENT_TYPE=2, DATE_DIED='31/05/2020', INTUBED=1, PNEUMONIA=1, AGE=52, PREGNANT=97, DIABETES=1, COPD=2, ASTHMA=2, INMSUPR=2, HIPERTENSION=2, OTHER_DISEASE=2, CARDIOVASCULAR=2, OBESITY=2, RENAL_CHRONIC=2, TOBACCO=2, CLASIFFICATION_FINAL=3, ICU=1, SEX=2),\n",
       " Row(USMER=1, MEDICAL_UNIT=3, PATIENT_TYPE=2, DATE_DIED='31/05/2020', INTUBED=2, PNEUMONIA=1, AGE=76, PREGNANT=97, DIABETES=2, COPD=2, ASTHMA=2, INMSUPR=2, HIPERTENSION=2, OTHER_DISEASE=2, CARDIOVASCULAR=2, OBESITY=2, RENAL_CHRONIC=2, TOBACCO=2, CLASIFFICATION_FINAL=3, ICU=2, SEX=2),\n",
       " Row(USMER=1, MEDICAL_UNIT=3, PATIENT_TYPE=2, DATE_DIED='31/05/2020', INTUBED=2, PNEUMONIA=1, AGE=55, PREGNANT=97, DIABETES=2, COPD=2, ASTHMA=2, INMSUPR=2, HIPERTENSION=2, OTHER_DISEASE=2, CARDIOVASCULAR=2, OBESITY=2, RENAL_CHRONIC=2, TOBACCO=2, CLASIFFICATION_FINAL=3, ICU=2, SEX=2),\n",
       " Row(USMER=1, MEDICAL_UNIT=3, PATIENT_TYPE=2, DATE_DIED='31/05/2020', INTUBED=1, PNEUMONIA=1, AGE=45, PREGNANT=97, DIABETES=2, COPD=2, ASTHMA=2, INMSUPR=2, HIPERTENSION=1, OTHER_DISEASE=2, CARDIOVASCULAR=2, OBESITY=2, RENAL_CHRONIC=1, TOBACCO=2, CLASIFFICATION_FINAL=3, ICU=1, SEX=2),\n",
       " Row(USMER=2, MEDICAL_UNIT=3, PATIENT_TYPE=2, DATE_DIED='31/05/2020', INTUBED=2, PNEUMONIA=1, AGE=62, PREGNANT=97, DIABETES=2, COPD=2, ASTHMA=2, INMSUPR=2, HIPERTENSION=2, OTHER_DISEASE=2, CARDIOVASCULAR=2, OBESITY=2, RENAL_CHRONIC=2, TOBACCO=2, CLASIFFICATION_FINAL=3, ICU=2, SEX=2),\n",
       " Row(USMER=2, MEDICAL_UNIT=3, PATIENT_TYPE=1, DATE_DIED='31/05/2020', INTUBED=97, PNEUMONIA=2, AGE=57, PREGNANT=97, DIABETES=2, COPD=2, ASTHMA=2, INMSUPR=2, HIPERTENSION=1, OTHER_DISEASE=2, CARDIOVASCULAR=2, OBESITY=2, RENAL_CHRONIC=2, TOBACCO=2, CLASIFFICATION_FINAL=3, ICU=97, SEX=2),\n",
       " Row(USMER=2, MEDICAL_UNIT=3, PATIENT_TYPE=1, DATE_DIED='31/05/2020', INTUBED=97, PNEUMONIA=1, AGE=55, PREGNANT=97, DIABETES=2, COPD=2, ASTHMA=2, INMSUPR=2, HIPERTENSION=2, OTHER_DISEASE=2, CARDIOVASCULAR=2, OBESITY=2, RENAL_CHRONIC=2, TOBACCO=2, CLASIFFICATION_FINAL=3, ICU=97, SEX=2),\n",
       " Row(USMER=2, MEDICAL_UNIT=3, PATIENT_TYPE=2, DATE_DIED='31/05/2020', INTUBED=99, PNEUMONIA=1, AGE=88, PREGNANT=97, DIABETES=2, COPD=2, ASTHMA=2, INMSUPR=2, HIPERTENSION=2, OTHER_DISEASE=2, CARDIOVASCULAR=2, OBESITY=2, RENAL_CHRONIC=2, TOBACCO=2, CLASIFFICATION_FINAL=3, ICU=99, SEX=2),\n",
       " Row(USMER=2, MEDICAL_UNIT=3, PATIENT_TYPE=1, DATE_DIED='31/05/2020', INTUBED=97, PNEUMONIA=2, AGE=43, PREGNANT=97, DIABETES=2, COPD=2, ASTHMA=2, INMSUPR=2, HIPERTENSION=2, OTHER_DISEASE=2, CARDIOVASCULAR=2, OBESITY=2, RENAL_CHRONIC=2, TOBACCO=2, CLASIFFICATION_FINAL=6, ICU=97, SEX=2),\n",
       " Row(USMER=1, MEDICAL_UNIT=3, PATIENT_TYPE=2, DATE_DIED='31/05/2020', INTUBED=2, PNEUMONIA=2, AGE=77, PREGNANT=97, DIABETES=2, COPD=2, ASTHMA=2, INMSUPR=2, HIPERTENSION=2, OTHER_DISEASE=2, CARDIOVASCULAR=2, OBESITY=2, RENAL_CHRONIC=2, TOBACCO=2, CLASIFFICATION_FINAL=7, ICU=2, SEX=2),\n",
       " Row(USMER=1, MEDICAL_UNIT=3, PATIENT_TYPE=2, DATE_DIED='01/06/2020', INTUBED=2, PNEUMONIA=1, AGE=57, PREGNANT=97, DIABETES=1, COPD=2, ASTHMA=2, INMSUPR=2, HIPERTENSION=1, OTHER_DISEASE=2, CARDIOVASCULAR=2, OBESITY=2, RENAL_CHRONIC=2, TOBACCO=2, CLASIFFICATION_FINAL=3, ICU=2, SEX=2),\n",
       " Row(USMER=1, MEDICAL_UNIT=3, PATIENT_TYPE=2, DATE_DIED='01/06/2020', INTUBED=1, PNEUMONIA=1, AGE=42, PREGNANT=97, DIABETES=2, COPD=2, ASTHMA=2, INMSUPR=2, HIPERTENSION=2, OTHER_DISEASE=2, CARDIOVASCULAR=2, OBESITY=2, RENAL_CHRONIC=2, TOBACCO=2, CLASIFFICATION_FINAL=3, ICU=1, SEX=2),\n",
       " Row(USMER=2, MEDICAL_UNIT=3, PATIENT_TYPE=1, DATE_DIED='01/06/2020', INTUBED=97, PNEUMONIA=1, AGE=45, PREGNANT=97, DIABETES=2, COPD=2, ASTHMA=2, INMSUPR=2, HIPERTENSION=2, OTHER_DISEASE=2, CARDIOVASCULAR=2, OBESITY=2, RENAL_CHRONIC=2, TOBACCO=2, CLASIFFICATION_FINAL=3, ICU=97, SEX=2),\n",
       " Row(USMER=1, MEDICAL_UNIT=3, PATIENT_TYPE=2, DATE_DIED='01/06/2020', INTUBED=2, PNEUMONIA=1, AGE=59, PREGNANT=97, DIABETES=2, COPD=2, ASTHMA=2, INMSUPR=2, HIPERTENSION=1, OTHER_DISEASE=2, CARDIOVASCULAR=1, OBESITY=2, RENAL_CHRONIC=2, TOBACCO=2, CLASIFFICATION_FINAL=3, ICU=2, SEX=2),\n",
       " Row(USMER=1, MEDICAL_UNIT=3, PATIENT_TYPE=2, DATE_DIED='01/06/2020', INTUBED=2, PNEUMONIA=1, AGE=44, PREGNANT=97, DIABETES=2, COPD=2, ASTHMA=2, INMSUPR=2, HIPERTENSION=2, OTHER_DISEASE=2, CARDIOVASCULAR=2, OBESITY=2, RENAL_CHRONIC=2, TOBACCO=2, CLASIFFICATION_FINAL=3, ICU=2, SEX=2),\n",
       " Row(USMER=1, MEDICAL_UNIT=3, PATIENT_TYPE=2, DATE_DIED='01/06/2020', INTUBED=2, PNEUMONIA=1, AGE=43, PREGNANT=97, DIABETES=2, COPD=2, ASTHMA=2, INMSUPR=2, HIPERTENSION=2, OTHER_DISEASE=2, CARDIOVASCULAR=2, OBESITY=2, RENAL_CHRONIC=2, TOBACCO=2, CLASIFFICATION_FINAL=3, ICU=2, SEX=2),\n",
       " Row(USMER=2, MEDICAL_UNIT=3, PATIENT_TYPE=2, DATE_DIED='01/06/2020', INTUBED=1, PNEUMONIA=1, AGE=47, PREGNANT=97, DIABETES=1, COPD=2, ASTHMA=2, INMSUPR=2, HIPERTENSION=2, OTHER_DISEASE=2, CARDIOVASCULAR=2, OBESITY=2, RENAL_CHRONIC=2, TOBACCO=2, CLASIFFICATION_FINAL=3, ICU=2, SEX=2),\n",
       " Row(USMER=1, MEDICAL_UNIT=3, PATIENT_TYPE=2, DATE_DIED='01/06/2020', INTUBED=2, PNEUMONIA=1, AGE=78, PREGNANT=97, DIABETES=2, COPD=2, ASTHMA=2, INMSUPR=2, HIPERTENSION=2, OTHER_DISEASE=2, CARDIOVASCULAR=2, OBESITY=2, RENAL_CHRONIC=2, TOBACCO=1, CLASIFFICATION_FINAL=3, ICU=1, SEX=2),\n",
       " Row(USMER=1, MEDICAL_UNIT=3, PATIENT_TYPE=2, DATE_DIED='01/06/2020', INTUBED=2, PNEUMONIA=1, AGE=36, PREGNANT=97, DIABETES=2, COPD=2, ASTHMA=2, INMSUPR=2, HIPERTENSION=2, OTHER_DISEASE=2, CARDIOVASCULAR=2, OBESITY=2, RENAL_CHRONIC=2, TOBACCO=2, CLASIFFICATION_FINAL=3, ICU=2, SEX=2),\n",
       " Row(USMER=2, MEDICAL_UNIT=3, PATIENT_TYPE=1, DATE_DIED='01/06/2020', INTUBED=97, PNEUMONIA=1, AGE=61, PREGNANT=97, DIABETES=2, COPD=2, ASTHMA=2, INMSUPR=2, HIPERTENSION=2, OTHER_DISEASE=2, CARDIOVASCULAR=2, OBESITY=2, RENAL_CHRONIC=2, TOBACCO=2, CLASIFFICATION_FINAL=4, ICU=97, SEX=2),\n",
       " Row(USMER=1, MEDICAL_UNIT=3, PATIENT_TYPE=2, DATE_DIED='01/06/2020', INTUBED=2, PNEUMONIA=2, AGE=46, PREGNANT=97, DIABETES=2, COPD=2, ASTHMA=2, INMSUPR=2, HIPERTENSION=2, OTHER_DISEASE=2, CARDIOVASCULAR=2, OBESITY=2, RENAL_CHRONIC=2, TOBACCO=2, CLASIFFICATION_FINAL=5, ICU=2, SEX=2),\n",
       " Row(USMER=2, MEDICAL_UNIT=3, PATIENT_TYPE=2, DATE_DIED='01/06/2020', INTUBED=99, PNEUMONIA=2, AGE=70, PREGNANT=97, DIABETES=1, COPD=2, ASTHMA=2, INMSUPR=2, HIPERTENSION=1, OTHER_DISEASE=2, CARDIOVASCULAR=2, OBESITY=1, RENAL_CHRONIC=2, TOBACCO=2, CLASIFFICATION_FINAL=7, ICU=99, SEX=2),\n",
       " Row(USMER=2, MEDICAL_UNIT=3, PATIENT_TYPE=2, DATE_DIED='01/06/2020', INTUBED=2, PNEUMONIA=2, AGE=40, PREGNANT=97, DIABETES=2, COPD=2, ASTHMA=2, INMSUPR=2, HIPERTENSION=2, OTHER_DISEASE=2, CARDIOVASCULAR=2, OBESITY=2, RENAL_CHRONIC=2, TOBACCO=2, CLASIFFICATION_FINAL=7, ICU=2, SEX=2),\n",
       " Row(USMER=2, MEDICAL_UNIT=3, PATIENT_TYPE=2, DATE_DIED='02/06/2020', INTUBED=2, PNEUMONIA=1, AGE=58, PREGNANT=97, DIABETES=2, COPD=2, ASTHMA=2, INMSUPR=2, HIPERTENSION=2, OTHER_DISEASE=2, CARDIOVASCULAR=2, OBESITY=2, RENAL_CHRONIC=2, TOBACCO=2, CLASIFFICATION_FINAL=3, ICU=2, SEX=2),\n",
       " Row(USMER=1, MEDICAL_UNIT=3, PATIENT_TYPE=2, DATE_DIED='02/06/2020', INTUBED=1, PNEUMONIA=1, AGE=58, PREGNANT=97, DIABETES=1, COPD=2, ASTHMA=2, INMSUPR=2, HIPERTENSION=1, OTHER_DISEASE=2, CARDIOVASCULAR=2, OBESITY=1, RENAL_CHRONIC=2, TOBACCO=2, CLASIFFICATION_FINAL=3, ICU=1, SEX=2),\n",
       " Row(USMER=1, MEDICAL_UNIT=3, PATIENT_TYPE=2, DATE_DIED='02/06/2020', INTUBED=2, PNEUMONIA=1, AGE=85, PREGNANT=97, DIABETES=2, COPD=2, ASTHMA=2, INMSUPR=2, HIPERTENSION=1, OTHER_DISEASE=2, CARDIOVASCULAR=2, OBESITY=2, RENAL_CHRONIC=2, TOBACCO=2, CLASIFFICATION_FINAL=3, ICU=2, SEX=2),\n",
       " Row(USMER=1, MEDICAL_UNIT=3, PATIENT_TYPE=2, DATE_DIED='02/06/2020', INTUBED=2, PNEUMONIA=1, AGE=53, PREGNANT=97, DIABETES=2, COPD=2, ASTHMA=2, INMSUPR=2, HIPERTENSION=2, OTHER_DISEASE=2, CARDIOVASCULAR=2, OBESITY=2, RENAL_CHRONIC=2, TOBACCO=1, CLASIFFICATION_FINAL=3, ICU=2, SEX=2),\n",
       " Row(USMER=2, MEDICAL_UNIT=3, PATIENT_TYPE=2, DATE_DIED='02/06/2020', INTUBED=1, PNEUMONIA=1, AGE=63, PREGNANT=97, DIABETES=98, COPD=98, ASTHMA=98, INMSUPR=98, HIPERTENSION=98, OTHER_DISEASE=98, CARDIOVASCULAR=98, OBESITY=98, RENAL_CHRONIC=98, TOBACCO=98, CLASIFFICATION_FINAL=3, ICU=1, SEX=2),\n",
       " Row(USMER=1, MEDICAL_UNIT=3, PATIENT_TYPE=2, DATE_DIED='02/06/2020', INTUBED=2, PNEUMONIA=2, AGE=70, PREGNANT=97, DIABETES=1, COPD=2, ASTHMA=2, INMSUPR=2, HIPERTENSION=1, OTHER_DISEASE=2, CARDIOVASCULAR=2, OBESITY=1, RENAL_CHRONIC=1, TOBACCO=2, CLASIFFICATION_FINAL=3, ICU=2, SEX=2),\n",
       " Row(USMER=2, MEDICAL_UNIT=3, PATIENT_TYPE=2, DATE_DIED='02/06/2020', INTUBED=2, PNEUMONIA=2, AGE=72, PREGNANT=97, DIABETES=1, COPD=2, ASTHMA=2, INMSUPR=2, HIPERTENSION=1, OTHER_DISEASE=2, CARDIOVASCULAR=2, OBESITY=2, RENAL_CHRONIC=2, TOBACCO=2, CLASIFFICATION_FINAL=5, ICU=2, SEX=2),\n",
       " Row(USMER=2, MEDICAL_UNIT=3, PATIENT_TYPE=2, DATE_DIED='03/06/2020', INTUBED=1, PNEUMONIA=1, AGE=67, PREGNANT=97, DIABETES=1, COPD=2, ASTHMA=2, INMSUPR=2, HIPERTENSION=2, OTHER_DISEASE=2, CARDIOVASCULAR=2, OBESITY=1, RENAL_CHRONIC=2, TOBACCO=2, CLASIFFICATION_FINAL=3, ICU=2, SEX=2),\n",
       " Row(USMER=1, MEDICAL_UNIT=3, PATIENT_TYPE=2, DATE_DIED='03/06/2020', INTUBED=2, PNEUMONIA=1, AGE=59, PREGNANT=97, DIABETES=1, COPD=2, ASTHMA=2, INMSUPR=2, HIPERTENSION=1, OTHER_DISEASE=2, CARDIOVASCULAR=2, OBESITY=2, RENAL_CHRONIC=2, TOBACCO=2, CLASIFFICATION_FINAL=3, ICU=2, SEX=2),\n",
       " Row(USMER=1, MEDICAL_UNIT=3, PATIENT_TYPE=2, DATE_DIED='03/06/2020', INTUBED=2, PNEUMONIA=1, AGE=64, PREGNANT=97, DIABETES=2, COPD=2, ASTHMA=2, INMSUPR=2, HIPERTENSION=2, OTHER_DISEASE=2, CARDIOVASCULAR=2, OBESITY=2, RENAL_CHRONIC=2, TOBACCO=2, CLASIFFICATION_FINAL=3, ICU=2, SEX=2),\n",
       " Row(USMER=1, MEDICAL_UNIT=3, PATIENT_TYPE=2, DATE_DIED='03/06/2020', INTUBED=2, PNEUMONIA=1, AGE=50, PREGNANT=97, DIABETES=2, COPD=2, ASTHMA=2, INMSUPR=2, HIPERTENSION=1, OTHER_DISEASE=2, CARDIOVASCULAR=2, OBESITY=2, RENAL_CHRONIC=2, TOBACCO=2, CLASIFFICATION_FINAL=6, ICU=2, SEX=2),\n",
       " Row(USMER=2, MEDICAL_UNIT=3, PATIENT_TYPE=1, DATE_DIED='03/06/2020', INTUBED=97, PNEUMONIA=1, AGE=84, PREGNANT=97, DIABETES=2, COPD=2, ASTHMA=2, INMSUPR=2, HIPERTENSION=2, OTHER_DISEASE=2, CARDIOVASCULAR=2, OBESITY=2, RENAL_CHRONIC=2, TOBACCO=2, CLASIFFICATION_FINAL=7, ICU=97, SEX=2),\n",
       " Row(USMER=2, MEDICAL_UNIT=3, PATIENT_TYPE=2, DATE_DIED='03/06/2020', INTUBED=2, PNEUMONIA=1, AGE=73, PREGNANT=97, DIABETES=1, COPD=2, ASTHMA=2, INMSUPR=2, HIPERTENSION=1, OTHER_DISEASE=2, CARDIOVASCULAR=2, OBESITY=2, RENAL_CHRONIC=2, TOBACCO=2, CLASIFFICATION_FINAL=7, ICU=2, SEX=2),\n",
       " Row(USMER=1, MEDICAL_UNIT=3, PATIENT_TYPE=2, DATE_DIED='04/06/2020', INTUBED=2, PNEUMONIA=1, AGE=65, PREGNANT=97, DIABETES=2, COPD=2, ASTHMA=2, INMSUPR=2, HIPERTENSION=2, OTHER_DISEASE=2, CARDIOVASCULAR=2, OBESITY=2, RENAL_CHRONIC=2, TOBACCO=2, CLASIFFICATION_FINAL=3, ICU=2, SEX=2),\n",
       " Row(USMER=2, MEDICAL_UNIT=3, PATIENT_TYPE=1, DATE_DIED='04/06/2020', INTUBED=97, PNEUMONIA=1, AGE=66, PREGNANT=97, DIABETES=2, COPD=2, ASTHMA=2, INMSUPR=2, HIPERTENSION=1, OTHER_DISEASE=2, CARDIOVASCULAR=2, OBESITY=2, RENAL_CHRONIC=2, TOBACCO=2, CLASIFFICATION_FINAL=3, ICU=97, SEX=2),\n",
       " Row(USMER=1, MEDICAL_UNIT=3, PATIENT_TYPE=2, DATE_DIED='04/06/2020', INTUBED=1, PNEUMONIA=1, AGE=54, PREGNANT=97, DIABETES=2, COPD=2, ASTHMA=2, INMSUPR=2, HIPERTENSION=1, OTHER_DISEASE=2, CARDIOVASCULAR=2, OBESITY=2, RENAL_CHRONIC=2, TOBACCO=2, CLASIFFICATION_FINAL=3, ICU=1, SEX=2),\n",
       " Row(USMER=1, MEDICAL_UNIT=3, PATIENT_TYPE=2, DATE_DIED='04/06/2020', INTUBED=2, PNEUMONIA=1, AGE=67, PREGNANT=97, DIABETES=2, COPD=1, ASTHMA=2, INMSUPR=2, HIPERTENSION=2, OTHER_DISEASE=2, CARDIOVASCULAR=2, OBESITY=1, RENAL_CHRONIC=2, TOBACCO=2, CLASIFFICATION_FINAL=3, ICU=2, SEX=2),\n",
       " Row(USMER=1, MEDICAL_UNIT=3, PATIENT_TYPE=2, DATE_DIED='04/06/2020', INTUBED=1, PNEUMONIA=1, AGE=60, PREGNANT=97, DIABETES=2, COPD=2, ASTHMA=2, INMSUPR=2, HIPERTENSION=2, OTHER_DISEASE=2, CARDIOVASCULAR=2, OBESITY=2, RENAL_CHRONIC=2, TOBACCO=2, CLASIFFICATION_FINAL=3, ICU=1, SEX=2),\n",
       " Row(USMER=1, MEDICAL_UNIT=3, PATIENT_TYPE=2, DATE_DIED='04/06/2020', INTUBED=2, PNEUMONIA=1, AGE=62, PREGNANT=97, DIABETES=2, COPD=2, ASTHMA=2, INMSUPR=2, HIPERTENSION=2, OTHER_DISEASE=2, CARDIOVASCULAR=2, OBESITY=2, RENAL_CHRONIC=2, TOBACCO=2, CLASIFFICATION_FINAL=3, ICU=2, SEX=2),\n",
       " Row(USMER=2, MEDICAL_UNIT=3, PATIENT_TYPE=2, DATE_DIED='04/06/2020', INTUBED=2, PNEUMONIA=1, AGE=63, PREGNANT=97, DIABETES=1, COPD=2, ASTHMA=2, INMSUPR=2, HIPERTENSION=2, OTHER_DISEASE=2, CARDIOVASCULAR=2, OBESITY=2, RENAL_CHRONIC=2, TOBACCO=2, CLASIFFICATION_FINAL=3, ICU=2, SEX=2),\n",
       " Row(USMER=1, MEDICAL_UNIT=3, PATIENT_TYPE=2, DATE_DIED='04/06/2020', INTUBED=1, PNEUMONIA=1, AGE=75, PREGNANT=97, DIABETES=1, COPD=2, ASTHMA=2, INMSUPR=2, HIPERTENSION=1, OTHER_DISEASE=2, CARDIOVASCULAR=2, OBESITY=1, RENAL_CHRONIC=2, TOBACCO=2, CLASIFFICATION_FINAL=3, ICU=1, SEX=2),\n",
       " Row(USMER=2, MEDICAL_UNIT=3, PATIENT_TYPE=2, DATE_DIED='04/06/2020', INTUBED=2, PNEUMONIA=1, AGE=56, PREGNANT=97, DIABETES=1, COPD=2, ASTHMA=2, INMSUPR=2, HIPERTENSION=2, OTHER_DISEASE=2, CARDIOVASCULAR=2, OBESITY=2, RENAL_CHRONIC=2, TOBACCO=2, CLASIFFICATION_FINAL=3, ICU=2, SEX=2),\n",
       " Row(USMER=1, MEDICAL_UNIT=3, PATIENT_TYPE=2, DATE_DIED='04/06/2020', INTUBED=2, PNEUMONIA=1, AGE=63, PREGNANT=97, DIABETES=2, COPD=2, ASTHMA=2, INMSUPR=2, HIPERTENSION=2, OTHER_DISEASE=2, CARDIOVASCULAR=2, OBESITY=2, RENAL_CHRONIC=2, TOBACCO=2, CLASIFFICATION_FINAL=3, ICU=2, SEX=2),\n",
       " Row(USMER=2, MEDICAL_UNIT=3, PATIENT_TYPE=2, DATE_DIED='04/06/2020', INTUBED=1, PNEUMONIA=1, AGE=59, PREGNANT=97, DIABETES=2, COPD=2, ASTHMA=2, INMSUPR=2, HIPERTENSION=2, OTHER_DISEASE=2, CARDIOVASCULAR=2, OBESITY=2, RENAL_CHRONIC=1, TOBACCO=2, CLASIFFICATION_FINAL=4, ICU=2, SEX=2),\n",
       " Row(USMER=2, MEDICAL_UNIT=3, PATIENT_TYPE=2, DATE_DIED='04/06/2020', INTUBED=1, PNEUMONIA=1, AGE=48, PREGNANT=97, DIABETES=2, COPD=2, ASTHMA=2, INMSUPR=2, HIPERTENSION=1, OTHER_DISEASE=2, CARDIOVASCULAR=2, OBESITY=1, RENAL_CHRONIC=2, TOBACCO=2, CLASIFFICATION_FINAL=5, ICU=2, SEX=2),\n",
       " Row(USMER=1, MEDICAL_UNIT=3, PATIENT_TYPE=2, DATE_DIED='04/06/2020', INTUBED=1, PNEUMONIA=1, AGE=68, PREGNANT=97, DIABETES=1, COPD=2, ASTHMA=2, INMSUPR=2, HIPERTENSION=2, OTHER_DISEASE=2, CARDIOVASCULAR=2, OBESITY=2, RENAL_CHRONIC=2, TOBACCO=2, CLASIFFICATION_FINAL=7, ICU=1, SEX=2),\n",
       " Row(USMER=2, MEDICAL_UNIT=3, PATIENT_TYPE=2, DATE_DIED='05/06/2020', INTUBED=1, PNEUMONIA=1, AGE=43, PREGNANT=97, DIABETES=2, COPD=2, ASTHMA=2, INMSUPR=2, HIPERTENSION=2, OTHER_DISEASE=2, CARDIOVASCULAR=2, OBESITY=2, RENAL_CHRONIC=2, TOBACCO=1, CLASIFFICATION_FINAL=3, ICU=2, SEX=2),\n",
       " Row(USMER=1, MEDICAL_UNIT=3, PATIENT_TYPE=2, DATE_DIED='05/06/2020', INTUBED=2, PNEUMONIA=1, AGE=84, PREGNANT=97, DIABETES=2, COPD=2, ASTHMA=2, INMSUPR=2, HIPERTENSION=1, OTHER_DISEASE=1, CARDIOVASCULAR=2, OBESITY=2, RENAL_CHRONIC=2, TOBACCO=2, CLASIFFICATION_FINAL=3, ICU=2, SEX=2),\n",
       " Row(USMER=1, MEDICAL_UNIT=3, PATIENT_TYPE=2, DATE_DIED='05/06/2020', INTUBED=1, PNEUMONIA=1, AGE=68, PREGNANT=97, DIABETES=2, COPD=2, ASTHMA=2, INMSUPR=2, HIPERTENSION=1, OTHER_DISEASE=2, CARDIOVASCULAR=2, OBESITY=2, RENAL_CHRONIC=2, TOBACCO=2, CLASIFFICATION_FINAL=3, ICU=1, SEX=2),\n",
       " Row(USMER=1, MEDICAL_UNIT=3, PATIENT_TYPE=1, DATE_DIED='05/06/2020', INTUBED=97, PNEUMONIA=1, AGE=84, PREGNANT=97, DIABETES=1, COPD=1, ASTHMA=2, INMSUPR=2, HIPERTENSION=2, OTHER_DISEASE=2, CARDIOVASCULAR=2, OBESITY=2, RENAL_CHRONIC=2, TOBACCO=2, CLASIFFICATION_FINAL=3, ICU=97, SEX=2),\n",
       " Row(USMER=1, MEDICAL_UNIT=3, PATIENT_TYPE=2, DATE_DIED='05/06/2020', INTUBED=99, PNEUMONIA=1, AGE=46, PREGNANT=97, DIABETES=2, COPD=2, ASTHMA=2, INMSUPR=2, HIPERTENSION=2, OTHER_DISEASE=2, CARDIOVASCULAR=2, OBESITY=1, RENAL_CHRONIC=2, TOBACCO=2, CLASIFFICATION_FINAL=3, ICU=99, SEX=2),\n",
       " Row(USMER=2, MEDICAL_UNIT=3, PATIENT_TYPE=2, DATE_DIED='05/06/2020', INTUBED=2, PNEUMONIA=2, AGE=63, PREGNANT=97, DIABETES=1, COPD=2, ASTHMA=2, INMSUPR=2, HIPERTENSION=2, OTHER_DISEASE=2, CARDIOVASCULAR=2, OBESITY=2, RENAL_CHRONIC=2, TOBACCO=2, CLASIFFICATION_FINAL=3, ICU=2, SEX=2),\n",
       " Row(USMER=1, MEDICAL_UNIT=3, PATIENT_TYPE=2, DATE_DIED='05/06/2020', INTUBED=2, PNEUMONIA=2, AGE=64, PREGNANT=97, DIABETES=2, COPD=2, ASTHMA=2, INMSUPR=2, HIPERTENSION=2, OTHER_DISEASE=2, CARDIOVASCULAR=2, OBESITY=2, RENAL_CHRONIC=2, TOBACCO=2, CLASIFFICATION_FINAL=3, ICU=2, SEX=2),\n",
       " Row(USMER=1, MEDICAL_UNIT=3, PATIENT_TYPE=2, DATE_DIED='05/06/2020', INTUBED=1, PNEUMONIA=1, AGE=78, PREGNANT=97, DIABETES=1, COPD=2, ASTHMA=2, INMSUPR=2, HIPERTENSION=1, OTHER_DISEASE=2, CARDIOVASCULAR=2, OBESITY=1, RENAL_CHRONIC=2, TOBACCO=2, CLASIFFICATION_FINAL=3, ICU=2, SEX=2),\n",
       " Row(USMER=1, MEDICAL_UNIT=3, PATIENT_TYPE=2, DATE_DIED='05/06/2020', INTUBED=2, PNEUMONIA=1, AGE=65, PREGNANT=97, DIABETES=2, COPD=2, ASTHMA=2, INMSUPR=2, HIPERTENSION=2, OTHER_DISEASE=2, CARDIOVASCULAR=2, OBESITY=2, RENAL_CHRONIC=2, TOBACCO=2, CLASIFFICATION_FINAL=3, ICU=1, SEX=2),\n",
       " Row(USMER=1, MEDICAL_UNIT=3, PATIENT_TYPE=2, DATE_DIED='05/06/2020', INTUBED=2, PNEUMONIA=1, AGE=59, PREGNANT=97, DIABETES=2, COPD=2, ASTHMA=2, INMSUPR=2, HIPERTENSION=2, OTHER_DISEASE=2, CARDIOVASCULAR=2, OBESITY=2, RENAL_CHRONIC=1, TOBACCO=2, CLASIFFICATION_FINAL=3, ICU=2, SEX=2),\n",
       " Row(USMER=1, MEDICAL_UNIT=3, PATIENT_TYPE=2, DATE_DIED='05/06/2020', INTUBED=1, PNEUMONIA=1, AGE=75, PREGNANT=97, DIABETES=1, COPD=2, ASTHMA=2, INMSUPR=2, HIPERTENSION=1, OTHER_DISEASE=1, CARDIOVASCULAR=2, OBESITY=1, RENAL_CHRONIC=2, TOBACCO=2, CLASIFFICATION_FINAL=3, ICU=2, SEX=2),\n",
       " Row(USMER=2, MEDICAL_UNIT=3, PATIENT_TYPE=1, DATE_DIED='05/06/2020', INTUBED=97, PNEUMONIA=1, AGE=41, PREGNANT=97, DIABETES=1, COPD=2, ASTHMA=2, INMSUPR=2, HIPERTENSION=1, OTHER_DISEASE=2, CARDIOVASCULAR=1, OBESITY=1, RENAL_CHRONIC=2, TOBACCO=2, CLASIFFICATION_FINAL=6, ICU=97, SEX=2),\n",
       " Row(USMER=2, MEDICAL_UNIT=3, PATIENT_TYPE=2, DATE_DIED='06/06/2020', INTUBED=1, PNEUMONIA=1, AGE=47, PREGNANT=97, DIABETES=1, COPD=2, ASTHMA=2, INMSUPR=2, HIPERTENSION=2, OTHER_DISEASE=2, CARDIOVASCULAR=2, OBESITY=1, RENAL_CHRONIC=2, TOBACCO=2, CLASIFFICATION_FINAL=3, ICU=2, SEX=2),\n",
       " Row(USMER=1, MEDICAL_UNIT=3, PATIENT_TYPE=2, DATE_DIED='06/06/2020', INTUBED=2, PNEUMONIA=1, AGE=31, PREGNANT=97, DIABETES=2, COPD=2, ASTHMA=2, INMSUPR=2, HIPERTENSION=2, OTHER_DISEASE=2, CARDIOVASCULAR=2, OBESITY=2, RENAL_CHRONIC=2, TOBACCO=2, CLASIFFICATION_FINAL=3, ICU=2, SEX=2),\n",
       " Row(USMER=1, MEDICAL_UNIT=3, PATIENT_TYPE=2, DATE_DIED='06/06/2020', INTUBED=2, PNEUMONIA=1, AGE=75, PREGNANT=97, DIABETES=1, COPD=2, ASTHMA=2, INMSUPR=2, HIPERTENSION=1, OTHER_DISEASE=98, CARDIOVASCULAR=2, OBESITY=1, RENAL_CHRONIC=2, TOBACCO=2, CLASIFFICATION_FINAL=3, ICU=1, SEX=2),\n",
       " Row(USMER=2, MEDICAL_UNIT=3, PATIENT_TYPE=2, DATE_DIED='06/06/2020', INTUBED=1, PNEUMONIA=1, AGE=82, PREGNANT=97, DIABETES=1, COPD=2, ASTHMA=2, INMSUPR=2, HIPERTENSION=1, OTHER_DISEASE=2, CARDIOVASCULAR=2, OBESITY=2, RENAL_CHRONIC=2, TOBACCO=2, CLASIFFICATION_FINAL=5, ICU=2, SEX=2),\n",
       " Row(USMER=2, MEDICAL_UNIT=3, PATIENT_TYPE=2, DATE_DIED='06/06/2020', INTUBED=2, PNEUMONIA=2, AGE=90, PREGNANT=97, DIABETES=1, COPD=2, ASTHMA=2, INMSUPR=2, HIPERTENSION=1, OTHER_DISEASE=2, CARDIOVASCULAR=2, OBESITY=2, RENAL_CHRONIC=2, TOBACCO=2, CLASIFFICATION_FINAL=6, ICU=2, SEX=2),\n",
       " Row(USMER=1, MEDICAL_UNIT=3, PATIENT_TYPE=2, DATE_DIED='07/06/2020', INTUBED=1, PNEUMONIA=1, AGE=31, PREGNANT=97, DIABETES=2, COPD=2, ASTHMA=2, INMSUPR=2, HIPERTENSION=2, OTHER_DISEASE=2, CARDIOVASCULAR=2, OBESITY=2, RENAL_CHRONIC=2, TOBACCO=2, CLASIFFICATION_FINAL=3, ICU=1, SEX=2),\n",
       " Row(USMER=1, MEDICAL_UNIT=3, PATIENT_TYPE=2, DATE_DIED='07/06/2020', INTUBED=2, PNEUMONIA=1, AGE=74, PREGNANT=97, DIABETES=2, COPD=2, ASTHMA=2, INMSUPR=2, HIPERTENSION=2, OTHER_DISEASE=98, CARDIOVASCULAR=2, OBESITY=2, RENAL_CHRONIC=2, TOBACCO=2, CLASIFFICATION_FINAL=3, ICU=1, SEX=2),\n",
       " Row(USMER=1, MEDICAL_UNIT=3, PATIENT_TYPE=2, DATE_DIED='07/06/2020', INTUBED=1, PNEUMONIA=1, AGE=39, PREGNANT=97, DIABETES=2, COPD=2, ASTHMA=2, INMSUPR=2, HIPERTENSION=2, OTHER_DISEASE=2, CARDIOVASCULAR=2, OBESITY=2, RENAL_CHRONIC=2, TOBACCO=2, CLASIFFICATION_FINAL=3, ICU=1, SEX=2),\n",
       " Row(USMER=1, MEDICAL_UNIT=3, PATIENT_TYPE=2, DATE_DIED='07/06/2020', INTUBED=2, PNEUMONIA=1, AGE=41, PREGNANT=97, DIABETES=2, COPD=2, ASTHMA=2, INMSUPR=2, HIPERTENSION=2, OTHER_DISEASE=2, CARDIOVASCULAR=2, OBESITY=1, RENAL_CHRONIC=2, TOBACCO=1, CLASIFFICATION_FINAL=3, ICU=2, SEX=2),\n",
       " Row(USMER=1, MEDICAL_UNIT=3, PATIENT_TYPE=2, DATE_DIED='07/06/2020', INTUBED=1, PNEUMONIA=1, AGE=63, PREGNANT=97, DIABETES=2, COPD=2, ASTHMA=2, INMSUPR=2, HIPERTENSION=2, OTHER_DISEASE=2, CARDIOVASCULAR=2, OBESITY=2, RENAL_CHRONIC=2, TOBACCO=2, CLASIFFICATION_FINAL=3, ICU=1, SEX=2),\n",
       " Row(USMER=2, MEDICAL_UNIT=3, PATIENT_TYPE=2, DATE_DIED='07/06/2020', INTUBED=2, PNEUMONIA=1, AGE=66, PREGNANT=97, DIABETES=1, COPD=2, ASTHMA=2, INMSUPR=2, HIPERTENSION=1, OTHER_DISEASE=2, CARDIOVASCULAR=2, OBESITY=2, RENAL_CHRONIC=2, TOBACCO=2, CLASIFFICATION_FINAL=3, ICU=2, SEX=2),\n",
       " Row(USMER=2, MEDICAL_UNIT=3, PATIENT_TYPE=2, DATE_DIED='07/06/2020', INTUBED=1, PNEUMONIA=1, AGE=43, PREGNANT=97, DIABETES=2, COPD=2, ASTHMA=2, INMSUPR=2, HIPERTENSION=2, OTHER_DISEASE=2, CARDIOVASCULAR=2, OBESITY=2, RENAL_CHRONIC=2, TOBACCO=2, CLASIFFICATION_FINAL=3, ICU=2, SEX=2),\n",
       " Row(USMER=2, MEDICAL_UNIT=3, PATIENT_TYPE=2, DATE_DIED='08/06/2020', INTUBED=99, PNEUMONIA=2, AGE=51, PREGNANT=97, DIABETES=2, COPD=2, ASTHMA=2, INMSUPR=2, HIPERTENSION=2, OTHER_DISEASE=2, CARDIOVASCULAR=2, OBESITY=2, RENAL_CHRONIC=2, TOBACCO=2, CLASIFFICATION_FINAL=2, ICU=99, SEX=2),\n",
       " Row(USMER=1, MEDICAL_UNIT=3, PATIENT_TYPE=2, DATE_DIED='08/06/2020', INTUBED=2, PNEUMONIA=1, AGE=55, PREGNANT=97, DIABETES=2, COPD=2, ASTHMA=2, INMSUPR=2, HIPERTENSION=1, OTHER_DISEASE=2, CARDIOVASCULAR=2, OBESITY=1, RENAL_CHRONIC=2, TOBACCO=2, CLASIFFICATION_FINAL=3, ICU=2, SEX=2),\n",
       " Row(USMER=1, MEDICAL_UNIT=3, PATIENT_TYPE=2, DATE_DIED='08/06/2020', INTUBED=2, PNEUMONIA=1, AGE=71, PREGNANT=97, DIABETES=1, COPD=2, ASTHMA=2, INMSUPR=1, HIPERTENSION=1, OTHER_DISEASE=1, CARDIOVASCULAR=2, OBESITY=2, RENAL_CHRONIC=2, TOBACCO=2, CLASIFFICATION_FINAL=3, ICU=1, SEX=2),\n",
       " Row(USMER=2, MEDICAL_UNIT=3, PATIENT_TYPE=2, DATE_DIED='08/06/2020', INTUBED=1, PNEUMONIA=1, AGE=70, PREGNANT=97, DIABETES=2, COPD=2, ASTHMA=2, INMSUPR=2, HIPERTENSION=2, OTHER_DISEASE=2, CARDIOVASCULAR=2, OBESITY=2, RENAL_CHRONIC=2, TOBACCO=2, CLASIFFICATION_FINAL=3, ICU=1, SEX=2),\n",
       " Row(USMER=1, MEDICAL_UNIT=3, PATIENT_TYPE=2, DATE_DIED='08/06/2020', INTUBED=2, PNEUMONIA=1, AGE=72, PREGNANT=97, DIABETES=2, COPD=2, ASTHMA=2, INMSUPR=2, HIPERTENSION=2, OTHER_DISEASE=2, CARDIOVASCULAR=2, OBESITY=2, RENAL_CHRONIC=2, TOBACCO=2, CLASIFFICATION_FINAL=3, ICU=2, SEX=2),\n",
       " Row(USMER=1, MEDICAL_UNIT=3, PATIENT_TYPE=2, DATE_DIED='08/06/2020', INTUBED=1, PNEUMONIA=1, AGE=47, PREGNANT=97, DIABETES=2, COPD=2, ASTHMA=2, INMSUPR=2, HIPERTENSION=2, OTHER_DISEASE=2, CARDIOVASCULAR=2, OBESITY=2, RENAL_CHRONIC=2, TOBACCO=2, CLASIFFICATION_FINAL=3, ICU=2, SEX=2),\n",
       " Row(USMER=1, MEDICAL_UNIT=3, PATIENT_TYPE=2, DATE_DIED='08/06/2020', INTUBED=2, PNEUMONIA=2, AGE=73, PREGNANT=97, DIABETES=1, COPD=2, ASTHMA=2, INMSUPR=2, HIPERTENSION=1, OTHER_DISEASE=2, CARDIOVASCULAR=2, OBESITY=2, RENAL_CHRONIC=1, TOBACCO=2, CLASIFFICATION_FINAL=3, ICU=2, SEX=2),\n",
       " Row(USMER=1, MEDICAL_UNIT=3, PATIENT_TYPE=2, DATE_DIED='08/06/2020', INTUBED=2, PNEUMONIA=1, AGE=57, PREGNANT=97, DIABETES=1, COPD=2, ASTHMA=2, INMSUPR=2, HIPERTENSION=1, OTHER_DISEASE=2, CARDIOVASCULAR=2, OBESITY=2, RENAL_CHRONIC=1, TOBACCO=2, CLASIFFICATION_FINAL=3, ICU=1, SEX=2),\n",
       " Row(USMER=1, MEDICAL_UNIT=3, PATIENT_TYPE=2, DATE_DIED='08/06/2020', INTUBED=2, PNEUMONIA=1, AGE=63, PREGNANT=97, DIABETES=1, COPD=2, ASTHMA=2, INMSUPR=2, HIPERTENSION=2, OTHER_DISEASE=2, CARDIOVASCULAR=2, OBESITY=2, RENAL_CHRONIC=2, TOBACCO=2, CLASIFFICATION_FINAL=3, ICU=1, SEX=2),\n",
       " Row(USMER=2, MEDICAL_UNIT=3, PATIENT_TYPE=2, DATE_DIED='08/06/2020', INTUBED=1, PNEUMONIA=1, AGE=76, PREGNANT=97, DIABETES=1, COPD=2, ASTHMA=2, INMSUPR=2, HIPERTENSION=2, OTHER_DISEASE=2, CARDIOVASCULAR=2, OBESITY=2, RENAL_CHRONIC=1, TOBACCO=2, CLASIFFICATION_FINAL=6, ICU=2, SEX=2),\n",
       " Row(USMER=2, MEDICAL_UNIT=3, PATIENT_TYPE=2, DATE_DIED='08/06/2020', INTUBED=2, PNEUMONIA=1, AGE=89, PREGNANT=97, DIABETES=2, COPD=2, ASTHMA=2, INMSUPR=2, HIPERTENSION=2, OTHER_DISEASE=2, CARDIOVASCULAR=2, OBESITY=2, RENAL_CHRONIC=2, TOBACCO=2, CLASIFFICATION_FINAL=6, ICU=2, SEX=2),\n",
       " Row(USMER=2, MEDICAL_UNIT=3, PATIENT_TYPE=2, DATE_DIED='08/06/2020', INTUBED=2, PNEUMONIA=1, AGE=43, PREGNANT=97, DIABETES=2, COPD=2, ASTHMA=2, INMSUPR=2, HIPERTENSION=2, OTHER_DISEASE=2, CARDIOVASCULAR=2, OBESITY=1, RENAL_CHRONIC=2, TOBACCO=2, CLASIFFICATION_FINAL=7, ICU=2, SEX=2),\n",
       " Row(USMER=2, MEDICAL_UNIT=3, PATIENT_TYPE=1, DATE_DIED='08/06/2020', INTUBED=97, PNEUMONIA=1, AGE=35, PREGNANT=97, DIABETES=2, COPD=2, ASTHMA=2, INMSUPR=2, HIPERTENSION=2, OTHER_DISEASE=2, CARDIOVASCULAR=2, OBESITY=1, RENAL_CHRONIC=2, TOBACCO=2, CLASIFFICATION_FINAL=7, ICU=97, SEX=2),\n",
       " Row(USMER=1, MEDICAL_UNIT=3, PATIENT_TYPE=2, DATE_DIED='09/06/2020', INTUBED=2, PNEUMONIA=1, AGE=55, PREGNANT=97, DIABETES=1, COPD=2, ASTHMA=2, INMSUPR=2, HIPERTENSION=2, OTHER_DISEASE=2, CARDIOVASCULAR=2, OBESITY=2, RENAL_CHRONIC=2, TOBACCO=2, CLASIFFICATION_FINAL=3, ICU=2, SEX=2),\n",
       " Row(USMER=2, MEDICAL_UNIT=3, PATIENT_TYPE=2, DATE_DIED='09/06/2020', INTUBED=2, PNEUMONIA=1, AGE=50, PREGNANT=97, DIABETES=2, COPD=2, ASTHMA=2, INMSUPR=2, HIPERTENSION=2, OTHER_DISEASE=2, CARDIOVASCULAR=2, OBESITY=2, RENAL_CHRONIC=2, TOBACCO=2, CLASIFFICATION_FINAL=3, ICU=2, SEX=2),\n",
       " Row(USMER=1, MEDICAL_UNIT=3, PATIENT_TYPE=2, DATE_DIED='09/06/2020', INTUBED=2, PNEUMONIA=1, AGE=64, PREGNANT=97, DIABETES=2, COPD=2, ASTHMA=2, INMSUPR=2, HIPERTENSION=1, OTHER_DISEASE=2, CARDIOVASCULAR=2, OBESITY=2, RENAL_CHRONIC=2, TOBACCO=2, CLASIFFICATION_FINAL=3, ICU=2, SEX=2),\n",
       " Row(USMER=2, MEDICAL_UNIT=3, PATIENT_TYPE=1, DATE_DIED='09/06/2020', INTUBED=97, PNEUMONIA=1, AGE=60, PREGNANT=97, DIABETES=1, COPD=2, ASTHMA=2, INMSUPR=2, HIPERTENSION=1, OTHER_DISEASE=2, CARDIOVASCULAR=2, OBESITY=2, RENAL_CHRONIC=2, TOBACCO=2, CLASIFFICATION_FINAL=3, ICU=97, SEX=2),\n",
       " Row(USMER=1, MEDICAL_UNIT=3, PATIENT_TYPE=2, DATE_DIED='09/06/2020', INTUBED=1, PNEUMONIA=1, AGE=53, PREGNANT=97, DIABETES=2, COPD=2, ASTHMA=2, INMSUPR=2, HIPERTENSION=2, OTHER_DISEASE=2, CARDIOVASCULAR=2, OBESITY=1, RENAL_CHRONIC=2, TOBACCO=2, CLASIFFICATION_FINAL=3, ICU=2, SEX=2),\n",
       " Row(USMER=1, MEDICAL_UNIT=3, PATIENT_TYPE=2, DATE_DIED='09/06/2020', INTUBED=2, PNEUMONIA=1, AGE=78, PREGNANT=97, DIABETES=2, COPD=2, ASTHMA=2, INMSUPR=2, HIPERTENSION=1, OTHER_DISEASE=2, CARDIOVASCULAR=2, OBESITY=2, RENAL_CHRONIC=2, TOBACCO=2, CLASIFFICATION_FINAL=3, ICU=2, SEX=2),\n",
       " Row(USMER=2, MEDICAL_UNIT=3, PATIENT_TYPE=2, DATE_DIED='09/06/2020', INTUBED=1, PNEUMONIA=1, AGE=67, PREGNANT=97, DIABETES=2, COPD=2, ASTHMA=2, INMSUPR=1, HIPERTENSION=1, OTHER_DISEASE=1, CARDIOVASCULAR=2, OBESITY=1, RENAL_CHRONIC=2, TOBACCO=2, CLASIFFICATION_FINAL=3, ICU=2, SEX=2),\n",
       " Row(USMER=1, MEDICAL_UNIT=3, PATIENT_TYPE=2, DATE_DIED='09/06/2020', INTUBED=2, PNEUMONIA=1, AGE=57, PREGNANT=97, DIABETES=1, COPD=2, ASTHMA=2, INMSUPR=2, HIPERTENSION=2, OTHER_DISEASE=2, CARDIOVASCULAR=2, OBESITY=2, RENAL_CHRONIC=2, TOBACCO=2, CLASIFFICATION_FINAL=4, ICU=2, SEX=2),\n",
       " Row(USMER=1, MEDICAL_UNIT=3, PATIENT_TYPE=2, DATE_DIED='09/06/2020', INTUBED=1, PNEUMONIA=1, AGE=47, PREGNANT=97, DIABETES=2, COPD=2, ASTHMA=2, INMSUPR=2, HIPERTENSION=2, OTHER_DISEASE=2, CARDIOVASCULAR=2, OBESITY=1, RENAL_CHRONIC=2, TOBACCO=2, CLASIFFICATION_FINAL=4, ICU=1, SEX=2),\n",
       " Row(USMER=2, MEDICAL_UNIT=3, PATIENT_TYPE=1, DATE_DIED='09/06/2020', INTUBED=97, PNEUMONIA=2, AGE=80, PREGNANT=97, DIABETES=1, COPD=2, ASTHMA=2, INMSUPR=2, HIPERTENSION=1, OTHER_DISEASE=2, CARDIOVASCULAR=2, OBESITY=2, RENAL_CHRONIC=2, TOBACCO=1, CLASIFFICATION_FINAL=5, ICU=97, SEX=2),\n",
       " Row(USMER=1, MEDICAL_UNIT=3, PATIENT_TYPE=2, DATE_DIED='09/06/2020', INTUBED=1, PNEUMONIA=1, AGE=71, PREGNANT=97, DIABETES=2, COPD=2, ASTHMA=2, INMSUPR=2, HIPERTENSION=2, OTHER_DISEASE=2, CARDIOVASCULAR=2, OBESITY=2, RENAL_CHRONIC=2, TOBACCO=2, CLASIFFICATION_FINAL=7, ICU=1, SEX=2),\n",
       " Row(USMER=2, MEDICAL_UNIT=3, PATIENT_TYPE=1, DATE_DIED='09/06/2020', INTUBED=97, PNEUMONIA=2, AGE=48, PREGNANT=97, DIABETES=1, COPD=2, ASTHMA=2, INMSUPR=2, HIPERTENSION=2, OTHER_DISEASE=2, CARDIOVASCULAR=2, OBESITY=2, RENAL_CHRONIC=1, TOBACCO=2, CLASIFFICATION_FINAL=7, ICU=97, SEX=2),\n",
       " Row(USMER=2, MEDICAL_UNIT=3, PATIENT_TYPE=2, DATE_DIED='10/06/2020', INTUBED=99, PNEUMONIA=2, AGE=52, PREGNANT=97, DIABETES=1, COPD=2, ASTHMA=2, INMSUPR=2, HIPERTENSION=2, OTHER_DISEASE=2, CARDIOVASCULAR=2, OBESITY=2, RENAL_CHRONIC=2, TOBACCO=2, CLASIFFICATION_FINAL=3, ICU=99, SEX=2),\n",
       " Row(USMER=1, MEDICAL_UNIT=3, PATIENT_TYPE=2, DATE_DIED='10/06/2020', INTUBED=2, PNEUMONIA=1, AGE=78, PREGNANT=97, DIABETES=2, COPD=2, ASTHMA=2, INMSUPR=2, HIPERTENSION=2, OTHER_DISEASE=2, CARDIOVASCULAR=1, OBESITY=2, RENAL_CHRONIC=2, TOBACCO=2, CLASIFFICATION_FINAL=3, ICU=2, SEX=2),\n",
       " Row(USMER=1, MEDICAL_UNIT=3, PATIENT_TYPE=2, DATE_DIED='10/06/2020', INTUBED=2, PNEUMONIA=1, AGE=69, PREGNANT=97, DIABETES=2, COPD=2, ASTHMA=2, INMSUPR=2, HIPERTENSION=2, OTHER_DISEASE=2, CARDIOVASCULAR=2, OBESITY=2, RENAL_CHRONIC=2, TOBACCO=2, CLASIFFICATION_FINAL=3, ICU=1, SEX=2),\n",
       " Row(USMER=1, MEDICAL_UNIT=3, PATIENT_TYPE=2, DATE_DIED='10/06/2020', INTUBED=1, PNEUMONIA=1, AGE=52, PREGNANT=97, DIABETES=2, COPD=2, ASTHMA=2, INMSUPR=2, HIPERTENSION=2, OTHER_DISEASE=2, CARDIOVASCULAR=2, OBESITY=2, RENAL_CHRONIC=2, TOBACCO=2, CLASIFFICATION_FINAL=3, ICU=2, SEX=2),\n",
       " Row(USMER=1, MEDICAL_UNIT=3, PATIENT_TYPE=2, DATE_DIED='10/06/2020', INTUBED=2, PNEUMONIA=1, AGE=83, PREGNANT=97, DIABETES=1, COPD=2, ASTHMA=2, INMSUPR=2, HIPERTENSION=1, OTHER_DISEASE=2, CARDIOVASCULAR=2, OBESITY=2, RENAL_CHRONIC=2, TOBACCO=2, CLASIFFICATION_FINAL=3, ICU=1, SEX=2),\n",
       " Row(USMER=1, MEDICAL_UNIT=3, PATIENT_TYPE=2, DATE_DIED='10/06/2020', INTUBED=1, PNEUMONIA=1, AGE=42, PREGNANT=97, DIABETES=2, COPD=2, ASTHMA=2, INMSUPR=2, HIPERTENSION=2, OTHER_DISEASE=2, CARDIOVASCULAR=2, OBESITY=1, RENAL_CHRONIC=2, TOBACCO=2, CLASIFFICATION_FINAL=3, ICU=1, SEX=2),\n",
       " Row(USMER=1, MEDICAL_UNIT=3, PATIENT_TYPE=2, DATE_DIED='10/06/2020', INTUBED=1, PNEUMONIA=1, AGE=58, PREGNANT=97, DIABETES=1, COPD=2, ASTHMA=2, INMSUPR=2, HIPERTENSION=2, OTHER_DISEASE=2, CARDIOVASCULAR=2, OBESITY=2, RENAL_CHRONIC=2, TOBACCO=2, CLASIFFICATION_FINAL=3, ICU=1, SEX=2),\n",
       " Row(USMER=2, MEDICAL_UNIT=3, PATIENT_TYPE=2, DATE_DIED='10/06/2020', INTUBED=2, PNEUMONIA=1, AGE=86, PREGNANT=97, DIABETES=1, COPD=2, ASTHMA=2, INMSUPR=2, HIPERTENSION=1, OTHER_DISEASE=2, CARDIOVASCULAR=2, OBESITY=2, RENAL_CHRONIC=2, TOBACCO=2, CLASIFFICATION_FINAL=4, ICU=2, SEX=2),\n",
       " Row(USMER=2, MEDICAL_UNIT=3, PATIENT_TYPE=2, DATE_DIED='10/06/2020', INTUBED=1, PNEUMONIA=1, AGE=39, PREGNANT=97, DIABETES=2, COPD=2, ASTHMA=2, INMSUPR=2, HIPERTENSION=2, OTHER_DISEASE=2, CARDIOVASCULAR=2, OBESITY=2, RENAL_CHRONIC=1, TOBACCO=2, CLASIFFICATION_FINAL=6, ICU=2, SEX=2),\n",
       " Row(USMER=1, MEDICAL_UNIT=3, PATIENT_TYPE=2, DATE_DIED='10/06/2020', INTUBED=99, PNEUMONIA=1, AGE=84, PREGNANT=97, DIABETES=1, COPD=2, ASTHMA=2, INMSUPR=2, HIPERTENSION=1, OTHER_DISEASE=2, CARDIOVASCULAR=2, OBESITY=1, RENAL_CHRONIC=2, TOBACCO=2, CLASIFFICATION_FINAL=7, ICU=99, SEX=2),\n",
       " Row(USMER=2, MEDICAL_UNIT=3, PATIENT_TYPE=2, DATE_DIED='10/06/2020', INTUBED=1, PNEUMONIA=1, AGE=56, PREGNANT=97, DIABETES=2, COPD=2, ASTHMA=2, INMSUPR=2, HIPERTENSION=2, OTHER_DISEASE=2, CARDIOVASCULAR=2, OBESITY=2, RENAL_CHRONIC=1, TOBACCO=2, CLASIFFICATION_FINAL=7, ICU=1, SEX=2),\n",
       " Row(USMER=1, MEDICAL_UNIT=3, PATIENT_TYPE=2, DATE_DIED='11/06/2020', INTUBED=2, PNEUMONIA=1, AGE=71, PREGNANT=97, DIABETES=1, COPD=2, ASTHMA=2, INMSUPR=2, HIPERTENSION=2, OTHER_DISEASE=2, CARDIOVASCULAR=2, OBESITY=2, RENAL_CHRONIC=2, TOBACCO=2, CLASIFFICATION_FINAL=3, ICU=2, SEX=2),\n",
       " Row(USMER=1, MEDICAL_UNIT=3, PATIENT_TYPE=2, DATE_DIED='11/06/2020', INTUBED=1, PNEUMONIA=1, AGE=84, PREGNANT=97, DIABETES=2, COPD=2, ASTHMA=2, INMSUPR=2, HIPERTENSION=2, OTHER_DISEASE=2, CARDIOVASCULAR=2, OBESITY=2, RENAL_CHRONIC=2, TOBACCO=2, CLASIFFICATION_FINAL=3, ICU=1, SEX=2),\n",
       " Row(USMER=2, MEDICAL_UNIT=3, PATIENT_TYPE=1, DATE_DIED='11/06/2020', INTUBED=97, PNEUMONIA=1, AGE=77, PREGNANT=97, DIABETES=2, COPD=2, ASTHMA=2, INMSUPR=2, HIPERTENSION=2, OTHER_DISEASE=2, CARDIOVASCULAR=2, OBESITY=1, RENAL_CHRONIC=2, TOBACCO=2, CLASIFFICATION_FINAL=3, ICU=97, SEX=2),\n",
       " Row(USMER=2, MEDICAL_UNIT=3, PATIENT_TYPE=1, DATE_DIED='11/06/2020', INTUBED=97, PNEUMONIA=1, AGE=41, PREGNANT=97, DIABETES=2, COPD=2, ASTHMA=2, INMSUPR=2, HIPERTENSION=2, OTHER_DISEASE=2, CARDIOVASCULAR=2, OBESITY=2, RENAL_CHRONIC=2, TOBACCO=1, CLASIFFICATION_FINAL=3, ICU=97, SEX=2),\n",
       " Row(USMER=2, MEDICAL_UNIT=3, PATIENT_TYPE=2, DATE_DIED='11/06/2020', INTUBED=1, PNEUMONIA=2, AGE=65, PREGNANT=97, DIABETES=2, COPD=2, ASTHMA=2, INMSUPR=2, HIPERTENSION=2, OTHER_DISEASE=2, CARDIOVASCULAR=2, OBESITY=2, RENAL_CHRONIC=2, TOBACCO=2, CLASIFFICATION_FINAL=3, ICU=2, SEX=2),\n",
       " Row(USMER=1, MEDICAL_UNIT=3, PATIENT_TYPE=2, DATE_DIED='11/06/2020', INTUBED=2, PNEUMONIA=1, AGE=68, PREGNANT=97, DIABETES=1, COPD=2, ASTHMA=2, INMSUPR=2, HIPERTENSION=1, OTHER_DISEASE=2, CARDIOVASCULAR=2, OBESITY=2, RENAL_CHRONIC=1, TOBACCO=2, CLASIFFICATION_FINAL=3, ICU=2, SEX=2),\n",
       " Row(USMER=1, MEDICAL_UNIT=3, PATIENT_TYPE=2, DATE_DIED='11/06/2020', INTUBED=2, PNEUMONIA=2, AGE=44, PREGNANT=97, DIABETES=2, COPD=2, ASTHMA=2, INMSUPR=2, HIPERTENSION=2, OTHER_DISEASE=2, CARDIOVASCULAR=2, OBESITY=2, RENAL_CHRONIC=2, TOBACCO=2, CLASIFFICATION_FINAL=3, ICU=2, SEX=2),\n",
       " Row(USMER=1, MEDICAL_UNIT=3, PATIENT_TYPE=2, DATE_DIED='11/06/2020', INTUBED=2, PNEUMONIA=2, AGE=49, PREGNANT=97, DIABETES=2, COPD=2, ASTHMA=2, INMSUPR=2, HIPERTENSION=2, OTHER_DISEASE=2, CARDIOVASCULAR=2, OBESITY=2, RENAL_CHRONIC=2, TOBACCO=2, CLASIFFICATION_FINAL=3, ICU=2, SEX=2),\n",
       " Row(USMER=1, MEDICAL_UNIT=3, PATIENT_TYPE=2, DATE_DIED='11/06/2020', INTUBED=2, PNEUMONIA=1, AGE=89, PREGNANT=97, DIABETES=1, COPD=1, ASTHMA=2, INMSUPR=2, HIPERTENSION=1, OTHER_DISEASE=1, CARDIOVASCULAR=2, OBESITY=2, RENAL_CHRONIC=2, TOBACCO=2, CLASIFFICATION_FINAL=3, ICU=2, SEX=2),\n",
       " Row(USMER=1, MEDICAL_UNIT=3, PATIENT_TYPE=2, DATE_DIED='11/06/2020', INTUBED=1, PNEUMONIA=1, AGE=88, PREGNANT=97, DIABETES=2, COPD=2, ASTHMA=2, INMSUPR=2, HIPERTENSION=2, OTHER_DISEASE=2, CARDIOVASCULAR=2, OBESITY=2, RENAL_CHRONIC=2, TOBACCO=2, CLASIFFICATION_FINAL=3, ICU=1, SEX=2),\n",
       " Row(USMER=1, MEDICAL_UNIT=3, PATIENT_TYPE=2, DATE_DIED='11/06/2020', INTUBED=2, PNEUMONIA=1, AGE=45, PREGNANT=97, DIABETES=1, COPD=2, ASTHMA=2, INMSUPR=2, HIPERTENSION=2, OTHER_DISEASE=2, CARDIOVASCULAR=2, OBESITY=2, RENAL_CHRONIC=2, TOBACCO=2, CLASIFFICATION_FINAL=3, ICU=2, SEX=2),\n",
       " Row(USMER=2, MEDICAL_UNIT=3, PATIENT_TYPE=2, DATE_DIED='11/06/2020', INTUBED=1, PNEUMONIA=1, AGE=59, PREGNANT=97, DIABETES=1, COPD=1, ASTHMA=2, INMSUPR=2, HIPERTENSION=1, OTHER_DISEASE=2, CARDIOVASCULAR=2, OBESITY=2, RENAL_CHRONIC=1, TOBACCO=2, CLASIFFICATION_FINAL=3, ICU=2, SEX=2),\n",
       " Row(USMER=2, MEDICAL_UNIT=3, PATIENT_TYPE=2, DATE_DIED='11/06/2020', INTUBED=2, PNEUMONIA=2, AGE=47, PREGNANT=97, DIABETES=2, COPD=2, ASTHMA=2, INMSUPR=2, HIPERTENSION=2, OTHER_DISEASE=2, CARDIOVASCULAR=2, OBESITY=2, RENAL_CHRONIC=2, TOBACCO=1, CLASIFFICATION_FINAL=5, ICU=2, SEX=2),\n",
       " Row(USMER=2, MEDICAL_UNIT=3, PATIENT_TYPE=2, DATE_DIED='11/06/2020', INTUBED=2, PNEUMONIA=2, AGE=38, PREGNANT=97, DIABETES=2, COPD=2, ASTHMA=2, INMSUPR=2, HIPERTENSION=2, OTHER_DISEASE=2, CARDIOVASCULAR=2, OBESITY=1, RENAL_CHRONIC=2, TOBACCO=2, CLASIFFICATION_FINAL=6, ICU=2, SEX=2),\n",
       " Row(USMER=1, MEDICAL_UNIT=3, PATIENT_TYPE=2, DATE_DIED='11/06/2020', INTUBED=2, PNEUMONIA=1, AGE=62, PREGNANT=97, DIABETES=1, COPD=2, ASTHMA=2, INMSUPR=2, HIPERTENSION=1, OTHER_DISEASE=2, CARDIOVASCULAR=1, OBESITY=2, RENAL_CHRONIC=2, TOBACCO=2, CLASIFFICATION_FINAL=7, ICU=1, SEX=2),\n",
       " Row(USMER=2, MEDICAL_UNIT=3, PATIENT_TYPE=2, DATE_DIED='12/06/2020', INTUBED=2, PNEUMONIA=1, AGE=83, PREGNANT=97, DIABETES=2, COPD=2, ASTHMA=2, INMSUPR=2, HIPERTENSION=1, OTHER_DISEASE=2, CARDIOVASCULAR=2, OBESITY=1, RENAL_CHRONIC=2, TOBACCO=2, CLASIFFICATION_FINAL=2, ICU=2, SEX=2),\n",
       " Row(USMER=1, MEDICAL_UNIT=3, PATIENT_TYPE=2, DATE_DIED='12/06/2020', INTUBED=1, PNEUMONIA=1, AGE=67, PREGNANT=97, DIABETES=2, COPD=2, ASTHMA=2, INMSUPR=2, HIPERTENSION=1, OTHER_DISEASE=2, CARDIOVASCULAR=2, OBESITY=2, RENAL_CHRONIC=2, TOBACCO=2, CLASIFFICATION_FINAL=3, ICU=1, SEX=2),\n",
       " Row(USMER=1, MEDICAL_UNIT=3, PATIENT_TYPE=2, DATE_DIED='12/06/2020', INTUBED=2, PNEUMONIA=1, AGE=79, PREGNANT=97, DIABETES=2, COPD=2, ASTHMA=2, INMSUPR=2, HIPERTENSION=2, OTHER_DISEASE=2, CARDIOVASCULAR=2, OBESITY=2, RENAL_CHRONIC=2, TOBACCO=2, CLASIFFICATION_FINAL=3, ICU=2, SEX=2),\n",
       " Row(USMER=2, MEDICAL_UNIT=3, PATIENT_TYPE=2, DATE_DIED='12/06/2020', INTUBED=2, PNEUMONIA=1, AGE=66, PREGNANT=97, DIABETES=1, COPD=2, ASTHMA=2, INMSUPR=2, HIPERTENSION=2, OTHER_DISEASE=2, CARDIOVASCULAR=2, OBESITY=2, RENAL_CHRONIC=2, TOBACCO=2, CLASIFFICATION_FINAL=3, ICU=2, SEX=2),\n",
       " Row(USMER=1, MEDICAL_UNIT=3, PATIENT_TYPE=2, DATE_DIED='12/06/2020', INTUBED=2, PNEUMONIA=1, AGE=70, PREGNANT=97, DIABETES=1, COPD=2, ASTHMA=2, INMSUPR=2, HIPERTENSION=1, OTHER_DISEASE=2, CARDIOVASCULAR=2, OBESITY=2, RENAL_CHRONIC=1, TOBACCO=2, CLASIFFICATION_FINAL=3, ICU=2, SEX=2),\n",
       " Row(USMER=1, MEDICAL_UNIT=3, PATIENT_TYPE=2, DATE_DIED='12/06/2020', INTUBED=1, PNEUMONIA=1, AGE=51, PREGNANT=97, DIABETES=1, COPD=2, ASTHMA=2, INMSUPR=2, HIPERTENSION=1, OTHER_DISEASE=2, CARDIOVASCULAR=2, OBESITY=2, RENAL_CHRONIC=2, TOBACCO=2, CLASIFFICATION_FINAL=3, ICU=2, SEX=2),\n",
       " Row(USMER=1, MEDICAL_UNIT=3, PATIENT_TYPE=2, DATE_DIED='12/06/2020', INTUBED=1, PNEUMONIA=1, AGE=3, PREGNANT=97, DIABETES=2, COPD=2, ASTHMA=2, INMSUPR=2, HIPERTENSION=2, OTHER_DISEASE=2, CARDIOVASCULAR=2, OBESITY=2, RENAL_CHRONIC=2, TOBACCO=2, CLASIFFICATION_FINAL=3, ICU=2, SEX=2),\n",
       " Row(USMER=1, MEDICAL_UNIT=3, PATIENT_TYPE=2, DATE_DIED='12/06/2020', INTUBED=2, PNEUMONIA=2, AGE=65, PREGNANT=97, DIABETES=1, COPD=2, ASTHMA=2, INMSUPR=2, HIPERTENSION=1, OTHER_DISEASE=2, CARDIOVASCULAR=2, OBESITY=2, RENAL_CHRONIC=2, TOBACCO=2, CLASIFFICATION_FINAL=3, ICU=2, SEX=2),\n",
       " Row(USMER=1, MEDICAL_UNIT=3, PATIENT_TYPE=2, DATE_DIED='12/06/2020', INTUBED=1, PNEUMONIA=1, AGE=69, PREGNANT=97, DIABETES=1, COPD=2, ASTHMA=2, INMSUPR=2, HIPERTENSION=2, OTHER_DISEASE=2, CARDIOVASCULAR=2, OBESITY=2, RENAL_CHRONIC=2, TOBACCO=2, CLASIFFICATION_FINAL=3, ICU=2, SEX=2),\n",
       " Row(USMER=1, MEDICAL_UNIT=3, PATIENT_TYPE=2, DATE_DIED='12/06/2020', INTUBED=1, PNEUMONIA=1, AGE=69, PREGNANT=97, DIABETES=2, COPD=2, ASTHMA=2, INMSUPR=2, HIPERTENSION=1, OTHER_DISEASE=2, CARDIOVASCULAR=1, OBESITY=2, RENAL_CHRONIC=2, TOBACCO=2, CLASIFFICATION_FINAL=3, ICU=1, SEX=2),\n",
       " Row(USMER=1, MEDICAL_UNIT=3, PATIENT_TYPE=2, DATE_DIED='12/06/2020', INTUBED=1, PNEUMONIA=1, AGE=70, PREGNANT=97, DIABETES=2, COPD=2, ASTHMA=2, INMSUPR=2, HIPERTENSION=1, OTHER_DISEASE=2, CARDIOVASCULAR=2, OBESITY=2, RENAL_CHRONIC=2, TOBACCO=2, CLASIFFICATION_FINAL=3, ICU=2, SEX=2),\n",
       " Row(USMER=2, MEDICAL_UNIT=3, PATIENT_TYPE=2, DATE_DIED='12/06/2020', INTUBED=2, PNEUMONIA=1, AGE=82, PREGNANT=97, DIABETES=2, COPD=2, ASTHMA=2, INMSUPR=2, HIPERTENSION=1, OTHER_DISEASE=2, CARDIOVASCULAR=2, OBESITY=2, RENAL_CHRONIC=2, TOBACCO=2, CLASIFFICATION_FINAL=3, ICU=2, SEX=2),\n",
       " Row(USMER=2, MEDICAL_UNIT=3, PATIENT_TYPE=2, DATE_DIED='12/06/2020', INTUBED=1, PNEUMONIA=1, AGE=47, PREGNANT=97, DIABETES=2, COPD=2, ASTHMA=2, INMSUPR=2, HIPERTENSION=2, OTHER_DISEASE=2, CARDIOVASCULAR=2, OBESITY=1, RENAL_CHRONIC=2, TOBACCO=2, CLASIFFICATION_FINAL=3, ICU=2, SEX=2),\n",
       " Row(USMER=2, MEDICAL_UNIT=3, PATIENT_TYPE=2, DATE_DIED='12/06/2020', INTUBED=1, PNEUMONIA=1, AGE=47, PREGNANT=97, DIABETES=2, COPD=2, ASTHMA=2, INMSUPR=2, HIPERTENSION=2, OTHER_DISEASE=2, CARDIOVASCULAR=2, OBESITY=1, RENAL_CHRONIC=2, TOBACCO=2, CLASIFFICATION_FINAL=5, ICU=2, SEX=2),\n",
       " Row(USMER=2, MEDICAL_UNIT=3, PATIENT_TYPE=1, DATE_DIED='12/06/2020', INTUBED=97, PNEUMONIA=2, AGE=67, PREGNANT=97, DIABETES=1, COPD=1, ASTHMA=2, INMSUPR=2, HIPERTENSION=2, OTHER_DISEASE=2, CARDIOVASCULAR=2, OBESITY=2, RENAL_CHRONIC=2, TOBACCO=1, CLASIFFICATION_FINAL=5, ICU=97, SEX=2),\n",
       " Row(USMER=1, MEDICAL_UNIT=3, PATIENT_TYPE=2, DATE_DIED='12/06/2020', INTUBED=2, PNEUMONIA=1, AGE=76, PREGNANT=97, DIABETES=1, COPD=2, ASTHMA=2, INMSUPR=2, HIPERTENSION=1, OTHER_DISEASE=2, CARDIOVASCULAR=2, OBESITY=2, RENAL_CHRONIC=2, TOBACCO=2, CLASIFFICATION_FINAL=6, ICU=1, SEX=2),\n",
       " Row(USMER=1, MEDICAL_UNIT=3, PATIENT_TYPE=2, DATE_DIED='12/06/2020', INTUBED=1, PNEUMONIA=1, AGE=0, PREGNANT=97, DIABETES=2, COPD=2, ASTHMA=2, INMSUPR=2, HIPERTENSION=2, OTHER_DISEASE=2, CARDIOVASCULAR=1, OBESITY=2, RENAL_CHRONIC=2, TOBACCO=2, CLASIFFICATION_FINAL=7, ICU=2, SEX=2),\n",
       " Row(USMER=1, MEDICAL_UNIT=3, PATIENT_TYPE=2, DATE_DIED='12/06/2020', INTUBED=1, PNEUMONIA=1, AGE=56, PREGNANT=97, DIABETES=2, COPD=2, ASTHMA=2, INMSUPR=1, HIPERTENSION=1, OTHER_DISEASE=2, CARDIOVASCULAR=2, OBESITY=2, RENAL_CHRONIC=2, TOBACCO=2, CLASIFFICATION_FINAL=7, ICU=2, SEX=2),\n",
       " Row(USMER=1, MEDICAL_UNIT=3, PATIENT_TYPE=2, DATE_DIED='13/06/2020', INTUBED=1, PNEUMONIA=1, AGE=44, PREGNANT=97, DIABETES=2, COPD=2, ASTHMA=2, INMSUPR=2, HIPERTENSION=2, OTHER_DISEASE=2, CARDIOVASCULAR=2, OBESITY=2, RENAL_CHRONIC=2, TOBACCO=2, CLASIFFICATION_FINAL=3, ICU=1, SEX=2),\n",
       " Row(USMER=1, MEDICAL_UNIT=3, PATIENT_TYPE=2, DATE_DIED='13/06/2020', INTUBED=1, PNEUMONIA=1, AGE=56, PREGNANT=97, DIABETES=2, COPD=2, ASTHMA=2, INMSUPR=2, HIPERTENSION=2, OTHER_DISEASE=2, CARDIOVASCULAR=2, OBESITY=2, RENAL_CHRONIC=2, TOBACCO=2, CLASIFFICATION_FINAL=3, ICU=1, SEX=2),\n",
       " Row(USMER=2, MEDICAL_UNIT=3, PATIENT_TYPE=2, DATE_DIED='13/06/2020', INTUBED=1, PNEUMONIA=1, AGE=80, PREGNANT=97, DIABETES=1, COPD=2, ASTHMA=2, INMSUPR=2, HIPERTENSION=1, OTHER_DISEASE=2, CARDIOVASCULAR=2, OBESITY=1, RENAL_CHRONIC=2, TOBACCO=1, CLASIFFICATION_FINAL=3, ICU=2, SEX=2),\n",
       " Row(USMER=2, MEDICAL_UNIT=3, PATIENT_TYPE=2, DATE_DIED='13/06/2020', INTUBED=1, PNEUMONIA=1, AGE=50, PREGNANT=97, DIABETES=2, COPD=2, ASTHMA=2, INMSUPR=2, HIPERTENSION=2, OTHER_DISEASE=2, CARDIOVASCULAR=2, OBESITY=2, RENAL_CHRONIC=2, TOBACCO=2, CLASIFFICATION_FINAL=3, ICU=2, SEX=2),\n",
       " Row(USMER=1, MEDICAL_UNIT=3, PATIENT_TYPE=2, DATE_DIED='13/06/2020', INTUBED=1, PNEUMONIA=1, AGE=56, PREGNANT=97, DIABETES=2, COPD=2, ASTHMA=2, INMSUPR=2, HIPERTENSION=1, OTHER_DISEASE=2, CARDIOVASCULAR=2, OBESITY=2, RENAL_CHRONIC=2, TOBACCO=2, CLASIFFICATION_FINAL=3, ICU=1, SEX=2),\n",
       " Row(USMER=1, MEDICAL_UNIT=3, PATIENT_TYPE=2, DATE_DIED='13/06/2020', INTUBED=2, PNEUMONIA=1, AGE=69, PREGNANT=97, DIABETES=2, COPD=1, ASTHMA=2, INMSUPR=2, HIPERTENSION=2, OTHER_DISEASE=2, CARDIOVASCULAR=2, OBESITY=2, RENAL_CHRONIC=2, TOBACCO=1, CLASIFFICATION_FINAL=3, ICU=1, SEX=2),\n",
       " Row(USMER=1, MEDICAL_UNIT=3, PATIENT_TYPE=2, DATE_DIED='13/06/2020', INTUBED=2, PNEUMONIA=1, AGE=83, PREGNANT=97, DIABETES=1, COPD=2, ASTHMA=2, INMSUPR=2, HIPERTENSION=1, OTHER_DISEASE=2, CARDIOVASCULAR=2, OBESITY=2, RENAL_CHRONIC=1, TOBACCO=1, CLASIFFICATION_FINAL=3, ICU=2, SEX=2),\n",
       " Row(USMER=1, MEDICAL_UNIT=3, PATIENT_TYPE=2, DATE_DIED='13/06/2020', INTUBED=2, PNEUMONIA=1, AGE=41, PREGNANT=97, DIABETES=2, COPD=2, ASTHMA=2, INMSUPR=2, HIPERTENSION=2, OTHER_DISEASE=2, CARDIOVASCULAR=2, OBESITY=1, RENAL_CHRONIC=2, TOBACCO=2, CLASIFFICATION_FINAL=3, ICU=2, SEX=2),\n",
       " Row(USMER=1, MEDICAL_UNIT=3, PATIENT_TYPE=2, DATE_DIED='13/06/2020', INTUBED=2, PNEUMONIA=1, AGE=73, PREGNANT=97, DIABETES=2, COPD=2, ASTHMA=2, INMSUPR=2, HIPERTENSION=2, OTHER_DISEASE=2, CARDIOVASCULAR=2, OBESITY=1, RENAL_CHRONIC=2, TOBACCO=2, CLASIFFICATION_FINAL=3, ICU=2, SEX=2),\n",
       " Row(USMER=2, MEDICAL_UNIT=3, PATIENT_TYPE=2, DATE_DIED='13/06/2020', INTUBED=99, PNEUMONIA=1, AGE=74, PREGNANT=97, DIABETES=2, COPD=2, ASTHMA=2, INMSUPR=2, HIPERTENSION=1, OTHER_DISEASE=2, CARDIOVASCULAR=2, OBESITY=2, RENAL_CHRONIC=2, TOBACCO=2, CLASIFFICATION_FINAL=7, ICU=99, SEX=2),\n",
       " Row(USMER=1, MEDICAL_UNIT=3, PATIENT_TYPE=2, DATE_DIED='13/06/2020', INTUBED=2, PNEUMONIA=1, AGE=48, PREGNANT=97, DIABETES=2, COPD=2, ASTHMA=2, INMSUPR=2, HIPERTENSION=2, OTHER_DISEASE=2, CARDIOVASCULAR=2, OBESITY=2, RENAL_CHRONIC=2, TOBACCO=2, CLASIFFICATION_FINAL=7, ICU=2, SEX=2),\n",
       " Row(USMER=2, MEDICAL_UNIT=3, PATIENT_TYPE=2, DATE_DIED='14/06/2020', INTUBED=2, PNEUMONIA=1, AGE=38, PREGNANT=97, DIABETES=2, COPD=2, ASTHMA=2, INMSUPR=2, HIPERTENSION=2, OTHER_DISEASE=2, CARDIOVASCULAR=2, OBESITY=1, RENAL_CHRONIC=2, TOBACCO=2, CLASIFFICATION_FINAL=1, ICU=2, SEX=2),\n",
       " Row(USMER=2, MEDICAL_UNIT=3, PATIENT_TYPE=2, DATE_DIED='14/06/2020', INTUBED=1, PNEUMONIA=1, AGE=38, PREGNANT=97, DIABETES=2, COPD=2, ASTHMA=2, INMSUPR=2, HIPERTENSION=2, OTHER_DISEASE=2, CARDIOVASCULAR=2, OBESITY=1, RENAL_CHRONIC=2, TOBACCO=2, CLASIFFICATION_FINAL=2, ICU=2, SEX=2),\n",
       " Row(USMER=2, MEDICAL_UNIT=3, PATIENT_TYPE=2, DATE_DIED='14/06/2020', INTUBED=1, PNEUMONIA=1, AGE=66, PREGNANT=97, DIABETES=2, COPD=2, ASTHMA=2, INMSUPR=2, HIPERTENSION=1, OTHER_DISEASE=2, CARDIOVASCULAR=2, OBESITY=2, RENAL_CHRONIC=2, TOBACCO=2, CLASIFFICATION_FINAL=3, ICU=2, SEX=2),\n",
       " Row(USMER=2, MEDICAL_UNIT=3, PATIENT_TYPE=2, DATE_DIED='14/06/2020', INTUBED=2, PNEUMONIA=1, AGE=50, PREGNANT=97, DIABETES=2, COPD=2, ASTHMA=2, INMSUPR=2, HIPERTENSION=2, OTHER_DISEASE=2, CARDIOVASCULAR=2, OBESITY=2, RENAL_CHRONIC=2, TOBACCO=2, CLASIFFICATION_FINAL=3, ICU=2, SEX=2),\n",
       " Row(USMER=1, MEDICAL_UNIT=3, PATIENT_TYPE=2, DATE_DIED='14/06/2020', INTUBED=2, PNEUMONIA=1, AGE=69, PREGNANT=97, DIABETES=1, COPD=2, ASTHMA=2, INMSUPR=1, HIPERTENSION=1, OTHER_DISEASE=2, CARDIOVASCULAR=1, OBESITY=2, RENAL_CHRONIC=2, TOBACCO=2, CLASIFFICATION_FINAL=3, ICU=2, SEX=2),\n",
       " Row(USMER=2, MEDICAL_UNIT=3, PATIENT_TYPE=2, DATE_DIED='14/06/2020', INTUBED=1, PNEUMONIA=1, AGE=73, PREGNANT=97, DIABETES=1, COPD=2, ASTHMA=2, INMSUPR=2, HIPERTENSION=1, OTHER_DISEASE=2, CARDIOVASCULAR=2, OBESITY=1, RENAL_CHRONIC=2, TOBACCO=2, CLASIFFICATION_FINAL=3, ICU=2, SEX=2),\n",
       " Row(USMER=1, MEDICAL_UNIT=3, PATIENT_TYPE=2, DATE_DIED='14/06/2020', INTUBED=1, PNEUMONIA=1, AGE=57, PREGNANT=97, DIABETES=1, COPD=2, ASTHMA=2, INMSUPR=2, HIPERTENSION=1, OTHER_DISEASE=2, CARDIOVASCULAR=1, OBESITY=1, RENAL_CHRONIC=2, TOBACCO=2, CLASIFFICATION_FINAL=3, ICU=2, SEX=2),\n",
       " Row(USMER=2, MEDICAL_UNIT=3, PATIENT_TYPE=2, DATE_DIED='14/06/2020', INTUBED=1, PNEUMONIA=1, AGE=51, PREGNANT=97, DIABETES=2, COPD=2, ASTHMA=2, INMSUPR=2, HIPERTENSION=2, OTHER_DISEASE=2, CARDIOVASCULAR=2, OBESITY=2, RENAL_CHRONIC=2, TOBACCO=2, CLASIFFICATION_FINAL=3, ICU=1, SEX=2),\n",
       " Row(USMER=2, MEDICAL_UNIT=3, PATIENT_TYPE=2, DATE_DIED='14/06/2020', INTUBED=2, PNEUMONIA=1, AGE=52, PREGNANT=97, DIABETES=1, COPD=2, ASTHMA=2, INMSUPR=2, HIPERTENSION=1, OTHER_DISEASE=2, CARDIOVASCULAR=2, OBESITY=2, RENAL_CHRONIC=2, TOBACCO=2, CLASIFFICATION_FINAL=3, ICU=2, SEX=2),\n",
       " Row(USMER=1, MEDICAL_UNIT=3, PATIENT_TYPE=2, DATE_DIED='14/06/2020', INTUBED=1, PNEUMONIA=1, AGE=70, PREGNANT=97, DIABETES=1, COPD=2, ASTHMA=2, INMSUPR=2, HIPERTENSION=1, OTHER_DISEASE=2, CARDIOVASCULAR=2, OBESITY=1, RENAL_CHRONIC=2, TOBACCO=1, CLASIFFICATION_FINAL=3, ICU=1, SEX=2),\n",
       " Row(USMER=1, MEDICAL_UNIT=3, PATIENT_TYPE=2, DATE_DIED='14/06/2020', INTUBED=2, PNEUMONIA=1, AGE=52, PREGNANT=97, DIABETES=2, COPD=2, ASTHMA=2, INMSUPR=2, HIPERTENSION=2, OTHER_DISEASE=2, CARDIOVASCULAR=2, OBESITY=2, RENAL_CHRONIC=2, TOBACCO=2, CLASIFFICATION_FINAL=3, ICU=2, SEX=2),\n",
       " Row(USMER=2, MEDICAL_UNIT=3, PATIENT_TYPE=2, DATE_DIED='14/06/2020', INTUBED=2, PNEUMONIA=1, AGE=45, PREGNANT=97, DIABETES=1, COPD=2, ASTHMA=2, INMSUPR=2, HIPERTENSION=2, OTHER_DISEASE=2, CARDIOVASCULAR=2, OBESITY=2, RENAL_CHRONIC=2, TOBACCO=2, CLASIFFICATION_FINAL=6, ICU=2, SEX=2),\n",
       " Row(USMER=2, MEDICAL_UNIT=3, PATIENT_TYPE=2, DATE_DIED='14/06/2020', INTUBED=2, PNEUMONIA=1, AGE=56, PREGNANT=97, DIABETES=1, COPD=2, ASTHMA=2, INMSUPR=2, HIPERTENSION=1, OTHER_DISEASE=2, CARDIOVASCULAR=2, OBESITY=2, RENAL_CHRONIC=2, TOBACCO=2, CLASIFFICATION_FINAL=6, ICU=2, SEX=2),\n",
       " Row(USMER=1, MEDICAL_UNIT=3, PATIENT_TYPE=2, DATE_DIED='14/06/2020', INTUBED=2, PNEUMONIA=1, AGE=48, PREGNANT=97, DIABETES=1, COPD=2, ASTHMA=2, INMSUPR=2, HIPERTENSION=2, OTHER_DISEASE=2, CARDIOVASCULAR=2, OBESITY=2, RENAL_CHRONIC=2, TOBACCO=2, CLASIFFICATION_FINAL=7, ICU=2, SEX=2),\n",
       " Row(USMER=1, MEDICAL_UNIT=3, PATIENT_TYPE=2, DATE_DIED='14/06/2020', INTUBED=1, PNEUMONIA=1, AGE=50, PREGNANT=97, DIABETES=1, COPD=2, ASTHMA=2, INMSUPR=2, HIPERTENSION=2, OTHER_DISEASE=2, CARDIOVASCULAR=1, OBESITY=1, RENAL_CHRONIC=2, TOBACCO=2, CLASIFFICATION_FINAL=7, ICU=2, SEX=2),\n",
       " Row(USMER=2, MEDICAL_UNIT=3, PATIENT_TYPE=2, DATE_DIED='15/06/2020', INTUBED=2, PNEUMONIA=1, AGE=87, PREGNANT=97, DIABETES=2, COPD=2, ASTHMA=2, INMSUPR=2, HIPERTENSION=1, OTHER_DISEASE=2, CARDIOVASCULAR=2, OBESITY=2, RENAL_CHRONIC=2, TOBACCO=2, CLASIFFICATION_FINAL=2, ICU=1, SEX=2),\n",
       " Row(USMER=1, MEDICAL_UNIT=3, PATIENT_TYPE=2, DATE_DIED='15/06/2020', INTUBED=1, PNEUMONIA=1, AGE=55, PREGNANT=97, DIABETES=2, COPD=2, ASTHMA=2, INMSUPR=2, HIPERTENSION=2, OTHER_DISEASE=2, CARDIOVASCULAR=2, OBESITY=2, RENAL_CHRONIC=2, TOBACCO=2, CLASIFFICATION_FINAL=3, ICU=2, SEX=2),\n",
       " Row(USMER=2, MEDICAL_UNIT=3, PATIENT_TYPE=2, DATE_DIED='15/06/2020', INTUBED=99, PNEUMONIA=2, AGE=54, PREGNANT=97, DIABETES=2, COPD=2, ASTHMA=2, INMSUPR=2, HIPERTENSION=1, OTHER_DISEASE=2, CARDIOVASCULAR=1, OBESITY=2, RENAL_CHRONIC=1, TOBACCO=2, CLASIFFICATION_FINAL=3, ICU=99, SEX=2),\n",
       " Row(USMER=1, MEDICAL_UNIT=3, PATIENT_TYPE=2, DATE_DIED='15/06/2020', INTUBED=1, PNEUMONIA=1, AGE=39, PREGNANT=97, DIABETES=2, COPD=2, ASTHMA=2, INMSUPR=2, HIPERTENSION=2, OTHER_DISEASE=2, CARDIOVASCULAR=2, OBESITY=2, RENAL_CHRONIC=2, TOBACCO=2, CLASIFFICATION_FINAL=3, ICU=2, SEX=2),\n",
       " Row(USMER=2, MEDICAL_UNIT=3, PATIENT_TYPE=1, DATE_DIED='15/06/2020', INTUBED=97, PNEUMONIA=1, AGE=80, PREGNANT=97, DIABETES=1, COPD=2, ASTHMA=2, INMSUPR=2, HIPERTENSION=1, OTHER_DISEASE=2, CARDIOVASCULAR=2, OBESITY=1, RENAL_CHRONIC=2, TOBACCO=1, CLASIFFICATION_FINAL=3, ICU=97, SEX=2),\n",
       " Row(USMER=1, MEDICAL_UNIT=3, PATIENT_TYPE=2, DATE_DIED='15/06/2020', INTUBED=1, PNEUMONIA=1, AGE=50, PREGNANT=97, DIABETES=2, COPD=2, ASTHMA=2, INMSUPR=2, HIPERTENSION=2, OTHER_DISEASE=2, CARDIOVASCULAR=2, OBESITY=2, RENAL_CHRONIC=2, TOBACCO=2, CLASIFFICATION_FINAL=3, ICU=1, SEX=2),\n",
       " Row(USMER=2, MEDICAL_UNIT=3, PATIENT_TYPE=1, DATE_DIED='15/06/2020', INTUBED=97, PNEUMONIA=1, AGE=73, PREGNANT=97, DIABETES=1, COPD=2, ASTHMA=2, INMSUPR=2, HIPERTENSION=2, OTHER_DISEASE=2, CARDIOVASCULAR=2, OBESITY=2, RENAL_CHRONIC=2, TOBACCO=2, CLASIFFICATION_FINAL=3, ICU=97, SEX=2),\n",
       " Row(USMER=2, MEDICAL_UNIT=3, PATIENT_TYPE=1, DATE_DIED='15/06/2020', INTUBED=97, PNEUMONIA=1, AGE=34, PREGNANT=97, DIABETES=2, COPD=2, ASTHMA=2, INMSUPR=2, HIPERTENSION=2, OTHER_DISEASE=2, CARDIOVASCULAR=2, OBESITY=2, RENAL_CHRONIC=2, TOBACCO=2, CLASIFFICATION_FINAL=3, ICU=97, SEX=2),\n",
       " Row(USMER=2, MEDICAL_UNIT=3, PATIENT_TYPE=2, DATE_DIED='15/06/2020', INTUBED=2, PNEUMONIA=1, AGE=56, PREGNANT=97, DIABETES=2, COPD=2, ASTHMA=2, INMSUPR=2, HIPERTENSION=1, OTHER_DISEASE=2, CARDIOVASCULAR=2, OBESITY=2, RENAL_CHRONIC=2, TOBACCO=2, CLASIFFICATION_FINAL=3, ICU=2, SEX=2),\n",
       " Row(USMER=1, MEDICAL_UNIT=3, PATIENT_TYPE=2, DATE_DIED='15/06/2020', INTUBED=2, PNEUMONIA=1, AGE=56, PREGNANT=97, DIABETES=1, COPD=2, ASTHMA=2, INMSUPR=2, HIPERTENSION=1, OTHER_DISEASE=1, CARDIOVASCULAR=2, OBESITY=1, RENAL_CHRONIC=1, TOBACCO=2, CLASIFFICATION_FINAL=3, ICU=2, SEX=2),\n",
       " Row(USMER=1, MEDICAL_UNIT=3, PATIENT_TYPE=2, DATE_DIED='15/06/2020', INTUBED=2, PNEUMONIA=1, AGE=56, PREGNANT=97, DIABETES=1, COPD=2, ASTHMA=2, INMSUPR=2, HIPERTENSION=1, OTHER_DISEASE=2, CARDIOVASCULAR=2, OBESITY=1, RENAL_CHRONIC=2, TOBACCO=2, CLASIFFICATION_FINAL=3, ICU=2, SEX=2),\n",
       " Row(USMER=2, MEDICAL_UNIT=3, PATIENT_TYPE=2, DATE_DIED='15/06/2020', INTUBED=2, PNEUMONIA=1, AGE=79, PREGNANT=97, DIABETES=1, COPD=2, ASTHMA=2, INMSUPR=2, HIPERTENSION=1, OTHER_DISEASE=2, CARDIOVASCULAR=2, OBESITY=2, RENAL_CHRONIC=2, TOBACCO=1, CLASIFFICATION_FINAL=3, ICU=2, SEX=2),\n",
       " Row(USMER=1, MEDICAL_UNIT=3, PATIENT_TYPE=2, DATE_DIED='15/06/2020', INTUBED=2, PNEUMONIA=2, AGE=58, PREGNANT=97, DIABETES=2, COPD=2, ASTHMA=2, INMSUPR=2, HIPERTENSION=2, OTHER_DISEASE=2, CARDIOVASCULAR=2, OBESITY=2, RENAL_CHRONIC=2, TOBACCO=2, CLASIFFICATION_FINAL=3, ICU=2, SEX=2),\n",
       " Row(USMER=1, MEDICAL_UNIT=3, PATIENT_TYPE=2, DATE_DIED='15/06/2020', INTUBED=2, PNEUMONIA=1, AGE=82, PREGNANT=97, DIABETES=1, COPD=2, ASTHMA=2, INMSUPR=2, HIPERTENSION=1, OTHER_DISEASE=2, CARDIOVASCULAR=2, OBESITY=1, RENAL_CHRONIC=2, TOBACCO=2, CLASIFFICATION_FINAL=3, ICU=1, SEX=2),\n",
       " Row(USMER=1, MEDICAL_UNIT=3, PATIENT_TYPE=1, DATE_DIED='15/06/2020', INTUBED=97, PNEUMONIA=1, AGE=63, PREGNANT=97, DIABETES=1, COPD=2, ASTHMA=2, INMSUPR=2, HIPERTENSION=2, OTHER_DISEASE=2, CARDIOVASCULAR=2, OBESITY=2, RENAL_CHRONIC=2, TOBACCO=2, CLASIFFICATION_FINAL=5, ICU=97, SEX=2),\n",
       " Row(USMER=2, MEDICAL_UNIT=3, PATIENT_TYPE=2, DATE_DIED='16/06/2020', INTUBED=2, PNEUMONIA=1, AGE=50, PREGNANT=97, DIABETES=2, COPD=2, ASTHMA=2, INMSUPR=2, HIPERTENSION=2, OTHER_DISEASE=2, CARDIOVASCULAR=2, OBESITY=2, RENAL_CHRONIC=2, TOBACCO=2, CLASIFFICATION_FINAL=1, ICU=2, SEX=2),\n",
       " Row(USMER=1, MEDICAL_UNIT=3, PATIENT_TYPE=2, DATE_DIED='16/06/2020', INTUBED=2, PNEUMONIA=1, AGE=44, PREGNANT=97, DIABETES=2, COPD=2, ASTHMA=2, INMSUPR=2, HIPERTENSION=2, OTHER_DISEASE=2, CARDIOVASCULAR=2, OBESITY=2, RENAL_CHRONIC=2, TOBACCO=2, CLASIFFICATION_FINAL=3, ICU=2, SEX=2),\n",
       " Row(USMER=1, MEDICAL_UNIT=3, PATIENT_TYPE=1, DATE_DIED='16/06/2020', INTUBED=97, PNEUMONIA=1, AGE=71, PREGNANT=97, DIABETES=1, COPD=2, ASTHMA=2, INMSUPR=2, HIPERTENSION=2, OTHER_DISEASE=2, CARDIOVASCULAR=2, OBESITY=2, RENAL_CHRONIC=2, TOBACCO=2, CLASIFFICATION_FINAL=3, ICU=97, SEX=2),\n",
       " Row(USMER=2, MEDICAL_UNIT=3, PATIENT_TYPE=2, DATE_DIED='16/06/2020', INTUBED=1, PNEUMONIA=1, AGE=58, PREGNANT=97, DIABETES=1, COPD=2, ASTHMA=2, INMSUPR=2, HIPERTENSION=2, OTHER_DISEASE=2, CARDIOVASCULAR=2, OBESITY=2, RENAL_CHRONIC=2, TOBACCO=2, CLASIFFICATION_FINAL=3, ICU=2, SEX=2),\n",
       " Row(USMER=1, MEDICAL_UNIT=3, PATIENT_TYPE=2, DATE_DIED='16/06/2020', INTUBED=99, PNEUMONIA=1, AGE=47, PREGNANT=97, DIABETES=1, COPD=2, ASTHMA=2, INMSUPR=2, HIPERTENSION=1, OTHER_DISEASE=2, CARDIOVASCULAR=2, OBESITY=2, RENAL_CHRONIC=2, TOBACCO=2, CLASIFFICATION_FINAL=3, ICU=99, SEX=2),\n",
       " Row(USMER=1, MEDICAL_UNIT=3, PATIENT_TYPE=2, DATE_DIED='16/06/2020', INTUBED=1, PNEUMONIA=1, AGE=81, PREGNANT=97, DIABETES=1, COPD=2, ASTHMA=2, INMSUPR=2, HIPERTENSION=1, OTHER_DISEASE=2, CARDIOVASCULAR=2, OBESITY=1, RENAL_CHRONIC=2, TOBACCO=2, CLASIFFICATION_FINAL=3, ICU=1, SEX=2),\n",
       " Row(USMER=1, MEDICAL_UNIT=3, PATIENT_TYPE=2, DATE_DIED='16/06/2020', INTUBED=2, PNEUMONIA=1, AGE=58, PREGNANT=97, DIABETES=1, COPD=2, ASTHMA=2, INMSUPR=2, HIPERTENSION=2, OTHER_DISEASE=2, CARDIOVASCULAR=2, OBESITY=2, RENAL_CHRONIC=2, TOBACCO=2, CLASIFFICATION_FINAL=3, ICU=2, SEX=2),\n",
       " Row(USMER=1, MEDICAL_UNIT=3, PATIENT_TYPE=2, DATE_DIED='16/06/2020', INTUBED=2, PNEUMONIA=1, AGE=57, PREGNANT=97, DIABETES=1, COPD=2, ASTHMA=2, INMSUPR=2, HIPERTENSION=2, OTHER_DISEASE=2, CARDIOVASCULAR=2, OBESITY=2, RENAL_CHRONIC=2, TOBACCO=1, CLASIFFICATION_FINAL=3, ICU=1, SEX=2),\n",
       " Row(USMER=2, MEDICAL_UNIT=3, PATIENT_TYPE=2, DATE_DIED='16/06/2020', INTUBED=2, PNEUMONIA=1, AGE=69, PREGNANT=97, DIABETES=1, COPD=2, ASTHMA=2, INMSUPR=2, HIPERTENSION=1, OTHER_DISEASE=2, CARDIOVASCULAR=2, OBESITY=2, RENAL_CHRONIC=1, TOBACCO=2, CLASIFFICATION_FINAL=3, ICU=2, SEX=2),\n",
       " Row(USMER=1, MEDICAL_UNIT=3, PATIENT_TYPE=2, DATE_DIED='16/06/2020', INTUBED=1, PNEUMONIA=1, AGE=58, PREGNANT=97, DIABETES=2, COPD=2, ASTHMA=2, INMSUPR=2, HIPERTENSION=2, OTHER_DISEASE=2, CARDIOVASCULAR=2, OBESITY=1, RENAL_CHRONIC=2, TOBACCO=2, CLASIFFICATION_FINAL=3, ICU=1, SEX=2),\n",
       " Row(USMER=1, MEDICAL_UNIT=3, PATIENT_TYPE=2, DATE_DIED='16/06/2020', INTUBED=2, PNEUMONIA=1, AGE=50, PREGNANT=97, DIABETES=2, COPD=2, ASTHMA=2, INMSUPR=2, HIPERTENSION=2, OTHER_DISEASE=2, CARDIOVASCULAR=2, OBESITY=2, RENAL_CHRONIC=2, TOBACCO=2, CLASIFFICATION_FINAL=3, ICU=2, SEX=2),\n",
       " Row(USMER=1, MEDICAL_UNIT=3, PATIENT_TYPE=2, DATE_DIED='16/06/2020', INTUBED=2, PNEUMONIA=2, AGE=56, PREGNANT=97, DIABETES=2, COPD=2, ASTHMA=2, INMSUPR=2, HIPERTENSION=2, OTHER_DISEASE=2, CARDIOVASCULAR=2, OBESITY=2, RENAL_CHRONIC=2, TOBACCO=2, CLASIFFICATION_FINAL=3, ICU=2, SEX=2),\n",
       " Row(USMER=1, MEDICAL_UNIT=3, PATIENT_TYPE=2, DATE_DIED='16/06/2020', INTUBED=2, PNEUMONIA=1, AGE=90, PREGNANT=97, DIABETES=2, COPD=2, ASTHMA=2, INMSUPR=2, HIPERTENSION=2, OTHER_DISEASE=2, CARDIOVASCULAR=2, OBESITY=2, RENAL_CHRONIC=2, TOBACCO=2, CLASIFFICATION_FINAL=3, ICU=1, SEX=2),\n",
       " Row(USMER=1, MEDICAL_UNIT=3, PATIENT_TYPE=2, DATE_DIED='16/06/2020', INTUBED=2, PNEUMONIA=1, AGE=64, PREGNANT=97, DIABETES=1, COPD=2, ASTHMA=2, INMSUPR=2, HIPERTENSION=2, OTHER_DISEASE=2, CARDIOVASCULAR=2, OBESITY=1, RENAL_CHRONIC=2, TOBACCO=2, CLASIFFICATION_FINAL=3, ICU=2, SEX=2),\n",
       " Row(USMER=1, MEDICAL_UNIT=3, PATIENT_TYPE=2, DATE_DIED='16/06/2020', INTUBED=1, PNEUMONIA=1, AGE=57, PREGNANT=97, DIABETES=2, COPD=2, ASTHMA=2, INMSUPR=2, HIPERTENSION=2, OTHER_DISEASE=2, CARDIOVASCULAR=2, OBESITY=2, RENAL_CHRONIC=2, TOBACCO=2, CLASIFFICATION_FINAL=3, ICU=1, SEX=2),\n",
       " Row(USMER=1, MEDICAL_UNIT=3, PATIENT_TYPE=2, DATE_DIED='16/06/2020', INTUBED=2, PNEUMONIA=1, AGE=47, PREGNANT=97, DIABETES=2, COPD=2, ASTHMA=2, INMSUPR=2, HIPERTENSION=1, OTHER_DISEASE=2, CARDIOVASCULAR=2, OBESITY=2, RENAL_CHRONIC=2, TOBACCO=2, CLASIFFICATION_FINAL=3, ICU=2, SEX=2),\n",
       " Row(USMER=2, MEDICAL_UNIT=3, PATIENT_TYPE=2, DATE_DIED='16/06/2020', INTUBED=1, PNEUMONIA=1, AGE=76, PREGNANT=97, DIABETES=1, COPD=2, ASTHMA=2, INMSUPR=2, HIPERTENSION=2, OTHER_DISEASE=2, CARDIOVASCULAR=2, OBESITY=2, RENAL_CHRONIC=2, TOBACCO=2, CLASIFFICATION_FINAL=3, ICU=2, SEX=2),\n",
       " Row(USMER=2, MEDICAL_UNIT=3, PATIENT_TYPE=2, DATE_DIED='16/06/2020', INTUBED=2, PNEUMONIA=1, AGE=76, PREGNANT=97, DIABETES=2, COPD=2, ASTHMA=2, INMSUPR=2, HIPERTENSION=2, OTHER_DISEASE=2, CARDIOVASCULAR=2, OBESITY=2, RENAL_CHRONIC=2, TOBACCO=2, CLASIFFICATION_FINAL=3, ICU=2, SEX=2),\n",
       " Row(USMER=1, MEDICAL_UNIT=3, PATIENT_TYPE=2, DATE_DIED='16/06/2020', INTUBED=2, PNEUMONIA=1, AGE=69, PREGNANT=97, DIABETES=2, COPD=2, ASTHMA=2, INMSUPR=2, HIPERTENSION=2, OTHER_DISEASE=2, CARDIOVASCULAR=2, OBESITY=2, RENAL_CHRONIC=2, TOBACCO=2, CLASIFFICATION_FINAL=6, ICU=2, SEX=2),\n",
       " Row(USMER=2, MEDICAL_UNIT=3, PATIENT_TYPE=2, DATE_DIED='17/06/2020', INTUBED=1, PNEUMONIA=1, AGE=53, PREGNANT=97, DIABETES=2, COPD=2, ASTHMA=2, INMSUPR=2, HIPERTENSION=2, OTHER_DISEASE=2, CARDIOVASCULAR=2, OBESITY=2, RENAL_CHRONIC=2, TOBACCO=2, CLASIFFICATION_FINAL=3, ICU=2, SEX=2),\n",
       " Row(USMER=1, MEDICAL_UNIT=3, PATIENT_TYPE=2, DATE_DIED='17/06/2020', INTUBED=1, PNEUMONIA=1, AGE=72, PREGNANT=97, DIABETES=2, COPD=2, ASTHMA=2, INMSUPR=2, HIPERTENSION=2, OTHER_DISEASE=2, CARDIOVASCULAR=2, OBESITY=2, RENAL_CHRONIC=2, TOBACCO=2, CLASIFFICATION_FINAL=3, ICU=1, SEX=2),\n",
       " Row(USMER=1, MEDICAL_UNIT=3, PATIENT_TYPE=2, DATE_DIED='17/06/2020', INTUBED=1, PNEUMONIA=1, AGE=10, PREGNANT=97, DIABETES=2, COPD=2, ASTHMA=2, INMSUPR=2, HIPERTENSION=2, OTHER_DISEASE=2, CARDIOVASCULAR=2, OBESITY=2, RENAL_CHRONIC=2, TOBACCO=2, CLASIFFICATION_FINAL=3, ICU=1, SEX=2),\n",
       " Row(USMER=1, MEDICAL_UNIT=3, PATIENT_TYPE=2, DATE_DIED='17/06/2020', INTUBED=1, PNEUMONIA=1, AGE=24, PREGNANT=97, DIABETES=2, COPD=2, ASTHMA=2, INMSUPR=2, HIPERTENSION=2, OTHER_DISEASE=2, CARDIOVASCULAR=2, OBESITY=2, RENAL_CHRONIC=2, TOBACCO=2, CLASIFFICATION_FINAL=3, ICU=2, SEX=2),\n",
       " Row(USMER=2, MEDICAL_UNIT=3, PATIENT_TYPE=2, DATE_DIED='17/06/2020', INTUBED=2, PNEUMONIA=1, AGE=50, PREGNANT=97, DIABETES=2, COPD=2, ASTHMA=2, INMSUPR=2, HIPERTENSION=2, OTHER_DISEASE=2, CARDIOVASCULAR=2, OBESITY=2, RENAL_CHRONIC=2, TOBACCO=2, CLASIFFICATION_FINAL=3, ICU=2, SEX=2),\n",
       " Row(USMER=1, MEDICAL_UNIT=3, PATIENT_TYPE=2, DATE_DIED='17/06/2020', INTUBED=99, PNEUMONIA=1, AGE=77, PREGNANT=97, DIABETES=1, COPD=2, ASTHMA=2, INMSUPR=2, HIPERTENSION=1, OTHER_DISEASE=2, CARDIOVASCULAR=1, OBESITY=1, RENAL_CHRONIC=2, TOBACCO=2, CLASIFFICATION_FINAL=3, ICU=99, SEX=2),\n",
       " Row(USMER=1, MEDICAL_UNIT=3, PATIENT_TYPE=2, DATE_DIED='17/06/2020', INTUBED=1, PNEUMONIA=1, AGE=69, PREGNANT=97, DIABETES=2, COPD=2, ASTHMA=2, INMSUPR=2, HIPERTENSION=1, OTHER_DISEASE=2, CARDIOVASCULAR=2, OBESITY=1, RENAL_CHRONIC=2, TOBACCO=2, CLASIFFICATION_FINAL=3, ICU=2, SEX=2),\n",
       " Row(USMER=2, MEDICAL_UNIT=3, PATIENT_TYPE=1, DATE_DIED='17/06/2020', INTUBED=97, PNEUMONIA=1, AGE=70, PREGNANT=97, DIABETES=2, COPD=2, ASTHMA=2, INMSUPR=2, HIPERTENSION=2, OTHER_DISEASE=2, CARDIOVASCULAR=2, OBESITY=2, RENAL_CHRONIC=2, TOBACCO=2, CLASIFFICATION_FINAL=3, ICU=97, SEX=2),\n",
       " Row(USMER=1, MEDICAL_UNIT=3, PATIENT_TYPE=2, DATE_DIED='17/06/2020', INTUBED=2, PNEUMONIA=2, AGE=43, PREGNANT=97, DIABETES=2, COPD=2, ASTHMA=2, INMSUPR=2, HIPERTENSION=2, OTHER_DISEASE=2, CARDIOVASCULAR=2, OBESITY=2, RENAL_CHRONIC=2, TOBACCO=2, CLASIFFICATION_FINAL=3, ICU=2, SEX=2),\n",
       " Row(USMER=1, MEDICAL_UNIT=3, PATIENT_TYPE=2, DATE_DIED='17/06/2020', INTUBED=2, PNEUMONIA=1, AGE=59, PREGNANT=97, DIABETES=1, COPD=2, ASTHMA=2, INMSUPR=2, HIPERTENSION=1, OTHER_DISEASE=2, CARDIOVASCULAR=2, OBESITY=2, RENAL_CHRONIC=2, TOBACCO=2, CLASIFFICATION_FINAL=3, ICU=2, SEX=2),\n",
       " Row(USMER=1, MEDICAL_UNIT=3, PATIENT_TYPE=2, DATE_DIED='17/06/2020', INTUBED=2, PNEUMONIA=1, AGE=78, PREGNANT=97, DIABETES=2, COPD=2, ASTHMA=2, INMSUPR=2, HIPERTENSION=2, OTHER_DISEASE=2, CARDIOVASCULAR=2, OBESITY=2, RENAL_CHRONIC=2, TOBACCO=2, CLASIFFICATION_FINAL=3, ICU=2, SEX=2),\n",
       " Row(USMER=1, MEDICAL_UNIT=3, PATIENT_TYPE=2, DATE_DIED='17/06/2020', INTUBED=1, PNEUMONIA=1, AGE=50, PREGNANT=97, DIABETES=1, COPD=2, ASTHMA=2, INMSUPR=1, HIPERTENSION=1, OTHER_DISEASE=2, CARDIOVASCULAR=1, OBESITY=1, RENAL_CHRONIC=1, TOBACCO=2, CLASIFFICATION_FINAL=4, ICU=2, SEX=2),\n",
       " Row(USMER=1, MEDICAL_UNIT=3, PATIENT_TYPE=2, DATE_DIED='17/06/2020', INTUBED=2, PNEUMONIA=1, AGE=64, PREGNANT=97, DIABETES=2, COPD=2, ASTHMA=2, INMSUPR=2, HIPERTENSION=2, OTHER_DISEASE=2, CARDIOVASCULAR=2, OBESITY=2, RENAL_CHRONIC=2, TOBACCO=1, CLASIFFICATION_FINAL=4, ICU=2, SEX=2),\n",
       " Row(USMER=2, MEDICAL_UNIT=3, PATIENT_TYPE=2, DATE_DIED='17/06/2020', INTUBED=2, PNEUMONIA=2, AGE=7, PREGNANT=97, DIABETES=2, COPD=2, ASTHMA=2, INMSUPR=2, HIPERTENSION=2, OTHER_DISEASE=2, CARDIOVASCULAR=2, OBESITY=2, RENAL_CHRONIC=1, TOBACCO=2, CLASIFFICATION_FINAL=7, ICU=2, SEX=2),\n",
       " Row(USMER=1, MEDICAL_UNIT=3, PATIENT_TYPE=2, DATE_DIED='18/06/2020', INTUBED=2, PNEUMONIA=1, AGE=62, PREGNANT=97, DIABETES=2, COPD=2, ASTHMA=2, INMSUPR=2, HIPERTENSION=1, OTHER_DISEASE=2, CARDIOVASCULAR=2, OBESITY=1, RENAL_CHRONIC=2, TOBACCO=2, CLASIFFICATION_FINAL=3, ICU=2, SEX=2),\n",
       " Row(USMER=2, MEDICAL_UNIT=3, PATIENT_TYPE=1, DATE_DIED='18/06/2020', INTUBED=97, PNEUMONIA=1, AGE=54, PREGNANT=97, DIABETES=2, COPD=2, ASTHMA=2, INMSUPR=2, HIPERTENSION=2, OTHER_DISEASE=2, CARDIOVASCULAR=2, OBESITY=2, RENAL_CHRONIC=2, TOBACCO=2, CLASIFFICATION_FINAL=3, ICU=97, SEX=2),\n",
       " Row(USMER=1, MEDICAL_UNIT=3, PATIENT_TYPE=2, DATE_DIED='18/06/2020', INTUBED=2, PNEUMONIA=1, AGE=61, PREGNANT=97, DIABETES=2, COPD=2, ASTHMA=2, INMSUPR=2, HIPERTENSION=1, OTHER_DISEASE=2, CARDIOVASCULAR=2, OBESITY=1, RENAL_CHRONIC=2, TOBACCO=1, CLASIFFICATION_FINAL=3, ICU=2, SEX=2),\n",
       " Row(USMER=2, MEDICAL_UNIT=3, PATIENT_TYPE=1, DATE_DIED='18/06/2020', INTUBED=97, PNEUMONIA=1, AGE=40, PREGNANT=97, DIABETES=2, COPD=2, ASTHMA=2, INMSUPR=2, HIPERTENSION=2, OTHER_DISEASE=2, CARDIOVASCULAR=2, OBESITY=2, RENAL_CHRONIC=2, TOBACCO=2, CLASIFFICATION_FINAL=3, ICU=97, SEX=2),\n",
       " Row(USMER=1, MEDICAL_UNIT=3, PATIENT_TYPE=2, DATE_DIED='18/06/2020', INTUBED=1, PNEUMONIA=1, AGE=76, PREGNANT=97, DIABETES=2, COPD=2, ASTHMA=2, INMSUPR=2, HIPERTENSION=1, OTHER_DISEASE=2, CARDIOVASCULAR=2, OBESITY=2, RENAL_CHRONIC=2, TOBACCO=2, CLASIFFICATION_FINAL=3, ICU=2, SEX=2),\n",
       " Row(USMER=2, MEDICAL_UNIT=3, PATIENT_TYPE=1, DATE_DIED='18/06/2020', INTUBED=97, PNEUMONIA=1, AGE=42, PREGNANT=97, DIABETES=2, COPD=2, ASTHMA=2, INMSUPR=2, HIPERTENSION=2, OTHER_DISEASE=2, CARDIOVASCULAR=2, OBESITY=2, RENAL_CHRONIC=2, TOBACCO=2, CLASIFFICATION_FINAL=4, ICU=97, SEX=2),\n",
       " Row(USMER=1, MEDICAL_UNIT=3, PATIENT_TYPE=2, DATE_DIED='19/06/2020', INTUBED=2, PNEUMONIA=1, AGE=42, PREGNANT=97, DIABETES=1, COPD=2, ASTHMA=2, INMSUPR=2, HIPERTENSION=1, OTHER_DISEASE=2, CARDIOVASCULAR=2, OBESITY=2, RENAL_CHRONIC=2, TOBACCO=2, CLASIFFICATION_FINAL=3, ICU=2, SEX=2),\n",
       " Row(USMER=1, MEDICAL_UNIT=3, PATIENT_TYPE=2, DATE_DIED='19/06/2020', INTUBED=2, PNEUMONIA=1, AGE=78, PREGNANT=97, DIABETES=1, COPD=1, ASTHMA=2, INMSUPR=2, HIPERTENSION=1, OTHER_DISEASE=2, CARDIOVASCULAR=2, OBESITY=2, RENAL_CHRONIC=2, TOBACCO=2, CLASIFFICATION_FINAL=3, ICU=2, SEX=2),\n",
       " Row(USMER=2, MEDICAL_UNIT=3, PATIENT_TYPE=1, DATE_DIED='19/06/2020', INTUBED=97, PNEUMONIA=1, AGE=62, PREGNANT=97, DIABETES=2, COPD=2, ASTHMA=2, INMSUPR=2, HIPERTENSION=2, OTHER_DISEASE=2, CARDIOVASCULAR=2, OBESITY=2, RENAL_CHRONIC=2, TOBACCO=2, CLASIFFICATION_FINAL=3, ICU=97, SEX=2),\n",
       " Row(USMER=1, MEDICAL_UNIT=3, PATIENT_TYPE=2, DATE_DIED='19/06/2020', INTUBED=2, PNEUMONIA=1, AGE=71, PREGNANT=97, DIABETES=2, COPD=2, ASTHMA=2, INMSUPR=2, HIPERTENSION=1, OTHER_DISEASE=2, CARDIOVASCULAR=2, OBESITY=2, RENAL_CHRONIC=2, TOBACCO=2, CLASIFFICATION_FINAL=3, ICU=2, SEX=2),\n",
       " Row(USMER=2, MEDICAL_UNIT=3, PATIENT_TYPE=1, DATE_DIED='19/06/2020', INTUBED=97, PNEUMONIA=1, AGE=40, PREGNANT=97, DIABETES=2, COPD=2, ASTHMA=2, INMSUPR=2, HIPERTENSION=2, OTHER_DISEASE=2, CARDIOVASCULAR=2, OBESITY=2, RENAL_CHRONIC=2, TOBACCO=2, CLASIFFICATION_FINAL=3, ICU=97, SEX=2),\n",
       " Row(USMER=1, MEDICAL_UNIT=3, PATIENT_TYPE=2, DATE_DIED='19/06/2020', INTUBED=2, PNEUMONIA=1, AGE=67, PREGNANT=97, DIABETES=2, COPD=2, ASTHMA=2, INMSUPR=2, HIPERTENSION=2, OTHER_DISEASE=2, CARDIOVASCULAR=2, OBESITY=2, RENAL_CHRONIC=2, TOBACCO=2, CLASIFFICATION_FINAL=3, ICU=2, SEX=2),\n",
       " Row(USMER=1, MEDICAL_UNIT=3, PATIENT_TYPE=2, DATE_DIED='19/06/2020', INTUBED=2, PNEUMONIA=1, AGE=63, PREGNANT=97, DIABETES=1, COPD=2, ASTHMA=2, INMSUPR=2, HIPERTENSION=1, OTHER_DISEASE=2, CARDIOVASCULAR=2, OBESITY=1, RENAL_CHRONIC=2, TOBACCO=2, CLASIFFICATION_FINAL=3, ICU=2, SEX=2),\n",
       " Row(USMER=2, MEDICAL_UNIT=3, PATIENT_TYPE=2, DATE_DIED='19/06/2020', INTUBED=1, PNEUMONIA=1, AGE=68, PREGNANT=97, DIABETES=1, COPD=2, ASTHMA=2, INMSUPR=2, HIPERTENSION=1, OTHER_DISEASE=2, CARDIOVASCULAR=2, OBESITY=2, RENAL_CHRONIC=1, TOBACCO=2, CLASIFFICATION_FINAL=3, ICU=2, SEX=2),\n",
       " Row(USMER=1, MEDICAL_UNIT=3, PATIENT_TYPE=2, DATE_DIED='19/06/2020', INTUBED=2, PNEUMONIA=1, AGE=43, PREGNANT=97, DIABETES=2, COPD=2, ASTHMA=2, INMSUPR=2, HIPERTENSION=2, OTHER_DISEASE=2, CARDIOVASCULAR=2, OBESITY=2, RENAL_CHRONIC=2, TOBACCO=2, CLASIFFICATION_FINAL=4, ICU=2, SEX=2),\n",
       " Row(USMER=1, MEDICAL_UNIT=3, PATIENT_TYPE=2, DATE_DIED='19/06/2020', INTUBED=2, PNEUMONIA=1, AGE=53, PREGNANT=97, DIABETES=2, COPD=2, ASTHMA=2, INMSUPR=2, HIPERTENSION=1, OTHER_DISEASE=2, CARDIOVASCULAR=2, OBESITY=2, RENAL_CHRONIC=2, TOBACCO=2, CLASIFFICATION_FINAL=5, ICU=2, SEX=2),\n",
       " Row(USMER=1, MEDICAL_UNIT=3, PATIENT_TYPE=2, DATE_DIED='19/06/2020', INTUBED=2, PNEUMONIA=1, AGE=97, PREGNANT=97, DIABETES=2, COPD=2, ASTHMA=2, INMSUPR=2, HIPERTENSION=2, OTHER_DISEASE=1, CARDIOVASCULAR=2, OBESITY=2, RENAL_CHRONIC=2, TOBACCO=2, CLASIFFICATION_FINAL=6, ICU=1, SEX=2),\n",
       " Row(USMER=2, MEDICAL_UNIT=3, PATIENT_TYPE=2, DATE_DIED='19/06/2020', INTUBED=2, PNEUMONIA=2, AGE=82, PREGNANT=97, DIABETES=2, COPD=2, ASTHMA=2, INMSUPR=2, HIPERTENSION=2, OTHER_DISEASE=2, CARDIOVASCULAR=2, OBESITY=2, RENAL_CHRONIC=2, TOBACCO=2, CLASIFFICATION_FINAL=6, ICU=2, SEX=2),\n",
       " Row(USMER=1, MEDICAL_UNIT=3, PATIENT_TYPE=2, DATE_DIED='19/06/2020', INTUBED=2, PNEUMONIA=1, AGE=56, PREGNANT=97, DIABETES=2, COPD=2, ASTHMA=2, INMSUPR=2, HIPERTENSION=2, OTHER_DISEASE=2, CARDIOVASCULAR=2, OBESITY=2, RENAL_CHRONIC=2, TOBACCO=2, CLASIFFICATION_FINAL=7, ICU=2, SEX=2),\n",
       " Row(USMER=1, MEDICAL_UNIT=3, PATIENT_TYPE=2, DATE_DIED='19/06/2020', INTUBED=1, PNEUMONIA=1, AGE=50, PREGNANT=97, DIABETES=1, COPD=2, ASTHMA=2, INMSUPR=2, HIPERTENSION=1, OTHER_DISEASE=2, CARDIOVASCULAR=2, OBESITY=2, RENAL_CHRONIC=2, TOBACCO=2, CLASIFFICATION_FINAL=7, ICU=2, SEX=2),\n",
       " Row(USMER=2, MEDICAL_UNIT=3, PATIENT_TYPE=1, DATE_DIED='19/06/2020', INTUBED=97, PNEUMONIA=1, AGE=58, PREGNANT=97, DIABETES=1, COPD=2, ASTHMA=2, INMSUPR=2, HIPERTENSION=1, OTHER_DISEASE=2, CARDIOVASCULAR=2, OBESITY=2, RENAL_CHRONIC=2, TOBACCO=2, CLASIFFICATION_FINAL=7, ICU=97, SEX=2),\n",
       " Row(USMER=2, MEDICAL_UNIT=3, PATIENT_TYPE=2, DATE_DIED='20/06/2020', INTUBED=1, PNEUMONIA=1, AGE=51, PREGNANT=97, DIABETES=1, COPD=2, ASTHMA=2, INMSUPR=2, HIPERTENSION=1, OTHER_DISEASE=2, CARDIOVASCULAR=2, OBESITY=2, RENAL_CHRONIC=2, TOBACCO=2, CLASIFFICATION_FINAL=2, ICU=2, SEX=2),\n",
       " Row(USMER=1, MEDICAL_UNIT=3, PATIENT_TYPE=2, DATE_DIED='20/06/2020', INTUBED=2, PNEUMONIA=1, AGE=49, PREGNANT=97, DIABETES=1, COPD=2, ASTHMA=2, INMSUPR=2, HIPERTENSION=1, OTHER_DISEASE=2, CARDIOVASCULAR=2, OBESITY=2, RENAL_CHRONIC=2, TOBACCO=2, CLASIFFICATION_FINAL=3, ICU=2, SEX=2),\n",
       " Row(USMER=2, MEDICAL_UNIT=3, PATIENT_TYPE=2, DATE_DIED='20/06/2020', INTUBED=2, PNEUMONIA=1, AGE=63, PREGNANT=97, DIABETES=1, COPD=2, ASTHMA=2, INMSUPR=2, HIPERTENSION=1, OTHER_DISEASE=2, CARDIOVASCULAR=2, OBESITY=1, RENAL_CHRONIC=2, TOBACCO=2, CLASIFFICATION_FINAL=3, ICU=2, SEX=2),\n",
       " Row(USMER=1, MEDICAL_UNIT=3, PATIENT_TYPE=2, DATE_DIED='20/06/2020', INTUBED=1, PNEUMONIA=1, AGE=81, PREGNANT=97, DIABETES=2, COPD=2, ASTHMA=2, INMSUPR=2, HIPERTENSION=2, OTHER_DISEASE=2, CARDIOVASCULAR=2, OBESITY=2, RENAL_CHRONIC=2, TOBACCO=2, CLASIFFICATION_FINAL=3, ICU=1, SEX=2),\n",
       " Row(USMER=1, MEDICAL_UNIT=3, PATIENT_TYPE=2, DATE_DIED='20/06/2020', INTUBED=2, PNEUMONIA=1, AGE=89, PREGNANT=97, DIABETES=2, COPD=2, ASTHMA=2, INMSUPR=2, HIPERTENSION=2, OTHER_DISEASE=2, CARDIOVASCULAR=2, OBESITY=2, RENAL_CHRONIC=2, TOBACCO=2, CLASIFFICATION_FINAL=3, ICU=1, SEX=2),\n",
       " Row(USMER=1, MEDICAL_UNIT=3, PATIENT_TYPE=2, DATE_DIED='20/06/2020', INTUBED=2, PNEUMONIA=2, AGE=84, PREGNANT=97, DIABETES=2, COPD=2, ASTHMA=2, INMSUPR=2, HIPERTENSION=2, OTHER_DISEASE=2, CARDIOVASCULAR=2, OBESITY=2, RENAL_CHRONIC=2, TOBACCO=2, CLASIFFICATION_FINAL=3, ICU=2, SEX=2),\n",
       " Row(USMER=1, MEDICAL_UNIT=3, PATIENT_TYPE=2, DATE_DIED='20/06/2020', INTUBED=2, PNEUMONIA=1, AGE=65, PREGNANT=97, DIABETES=1, COPD=2, ASTHMA=2, INMSUPR=2, HIPERTENSION=1, OTHER_DISEASE=2, CARDIOVASCULAR=2, OBESITY=2, RENAL_CHRONIC=2, TOBACCO=98, CLASIFFICATION_FINAL=3, ICU=2, SEX=2),\n",
       " Row(USMER=1, MEDICAL_UNIT=3, PATIENT_TYPE=2, DATE_DIED='20/06/2020', INTUBED=1, PNEUMONIA=1, AGE=81, PREGNANT=97, DIABETES=1, COPD=2, ASTHMA=2, INMSUPR=2, HIPERTENSION=1, OTHER_DISEASE=2, CARDIOVASCULAR=2, OBESITY=2, RENAL_CHRONIC=1, TOBACCO=2, CLASIFFICATION_FINAL=3, ICU=2, SEX=2),\n",
       " Row(USMER=1, MEDICAL_UNIT=3, PATIENT_TYPE=2, DATE_DIED='20/06/2020', INTUBED=2, PNEUMONIA=1, AGE=57, PREGNANT=97, DIABETES=1, COPD=2, ASTHMA=2, INMSUPR=2, HIPERTENSION=1, OTHER_DISEASE=2, CARDIOVASCULAR=2, OBESITY=1, RENAL_CHRONIC=1, TOBACCO=2, CLASIFFICATION_FINAL=3, ICU=2, SEX=2),\n",
       " Row(USMER=1, MEDICAL_UNIT=3, PATIENT_TYPE=2, DATE_DIED='20/06/2020', INTUBED=2, PNEUMONIA=1, AGE=64, PREGNANT=97, DIABETES=1, COPD=2, ASTHMA=2, INMSUPR=2, HIPERTENSION=1, OTHER_DISEASE=2, CARDIOVASCULAR=1, OBESITY=2, RENAL_CHRONIC=1, TOBACCO=2, CLASIFFICATION_FINAL=3, ICU=2, SEX=2),\n",
       " Row(USMER=2, MEDICAL_UNIT=3, PATIENT_TYPE=2, DATE_DIED='21/06/2020', INTUBED=2, PNEUMONIA=1, AGE=62, PREGNANT=97, DIABETES=1, COPD=2, ASTHMA=2, INMSUPR=2, HIPERTENSION=2, OTHER_DISEASE=2, CARDIOVASCULAR=2, OBESITY=2, RENAL_CHRONIC=2, TOBACCO=2, CLASIFFICATION_FINAL=2, ICU=2, SEX=2),\n",
       " Row(USMER=1, MEDICAL_UNIT=3, PATIENT_TYPE=2, DATE_DIED='21/06/2020', INTUBED=1, PNEUMONIA=1, AGE=71, PREGNANT=97, DIABETES=2, COPD=2, ASTHMA=2, INMSUPR=2, HIPERTENSION=2, OTHER_DISEASE=2, CARDIOVASCULAR=2, OBESITY=2, RENAL_CHRONIC=2, TOBACCO=2, CLASIFFICATION_FINAL=3, ICU=1, SEX=2),\n",
       " Row(USMER=1, MEDICAL_UNIT=3, PATIENT_TYPE=2, DATE_DIED='21/06/2020', INTUBED=2, PNEUMONIA=1, AGE=65, PREGNANT=97, DIABETES=1, COPD=2, ASTHMA=2, INMSUPR=2, HIPERTENSION=1, OTHER_DISEASE=2, CARDIOVASCULAR=2, OBESITY=2, RENAL_CHRONIC=1, TOBACCO=2, CLASIFFICATION_FINAL=3, ICU=2, SEX=2),\n",
       " Row(USMER=1, MEDICAL_UNIT=3, PATIENT_TYPE=2, DATE_DIED='21/06/2020', INTUBED=1, PNEUMONIA=1, AGE=75, PREGNANT=97, DIABETES=2, COPD=2, ASTHMA=2, INMSUPR=2, HIPERTENSION=2, OTHER_DISEASE=2, CARDIOVASCULAR=2, OBESITY=2, RENAL_CHRONIC=2, TOBACCO=2, CLASIFFICATION_FINAL=3, ICU=2, SEX=2),\n",
       " Row(USMER=2, MEDICAL_UNIT=3, PATIENT_TYPE=2, DATE_DIED='21/06/2020', INTUBED=2, PNEUMONIA=1, AGE=64, PREGNANT=97, DIABETES=2, COPD=2, ASTHMA=2, INMSUPR=2, HIPERTENSION=1, OTHER_DISEASE=2, CARDIOVASCULAR=2, OBESITY=2, RENAL_CHRONIC=2, TOBACCO=2, CLASIFFICATION_FINAL=3, ICU=2, SEX=2),\n",
       " Row(USMER=2, MEDICAL_UNIT=3, PATIENT_TYPE=2, DATE_DIED='21/06/2020', INTUBED=2, PNEUMONIA=1, AGE=81, PREGNANT=97, DIABETES=2, COPD=2, ASTHMA=2, INMSUPR=2, HIPERTENSION=2, OTHER_DISEASE=2, CARDIOVASCULAR=2, OBESITY=2, RENAL_CHRONIC=2, TOBACCO=1, CLASIFFICATION_FINAL=3, ICU=2, SEX=2),\n",
       " Row(USMER=2, MEDICAL_UNIT=3, PATIENT_TYPE=2, DATE_DIED='21/06/2020', INTUBED=2, PNEUMONIA=1, AGE=87, PREGNANT=97, DIABETES=2, COPD=2, ASTHMA=2, INMSUPR=2, HIPERTENSION=1, OTHER_DISEASE=2, CARDIOVASCULAR=2, OBESITY=2, RENAL_CHRONIC=2, TOBACCO=2, CLASIFFICATION_FINAL=3, ICU=2, SEX=2),\n",
       " Row(USMER=2, MEDICAL_UNIT=3, PATIENT_TYPE=2, DATE_DIED='21/06/2020', INTUBED=2, PNEUMONIA=1, AGE=60, PREGNANT=97, DIABETES=1, COPD=2, ASTHMA=2, INMSUPR=2, HIPERTENSION=2, OTHER_DISEASE=2, CARDIOVASCULAR=2, OBESITY=2, RENAL_CHRONIC=2, TOBACCO=2, CLASIFFICATION_FINAL=3, ICU=2, SEX=2),\n",
       " Row(USMER=1, MEDICAL_UNIT=3, PATIENT_TYPE=2, DATE_DIED='21/06/2020', INTUBED=2, PNEUMONIA=1, AGE=51, PREGNANT=97, DIABETES=2, COPD=2, ASTHMA=2, INMSUPR=2, HIPERTENSION=2, OTHER_DISEASE=2, CARDIOVASCULAR=2, OBESITY=2, RENAL_CHRONIC=2, TOBACCO=2, CLASIFFICATION_FINAL=3, ICU=2, SEX=2),\n",
       " Row(USMER=2, MEDICAL_UNIT=3, PATIENT_TYPE=2, DATE_DIED='21/06/2020', INTUBED=2, PNEUMONIA=1, AGE=59, PREGNANT=97, DIABETES=2, COPD=2, ASTHMA=2, INMSUPR=2, HIPERTENSION=2, OTHER_DISEASE=2, CARDIOVASCULAR=2, OBESITY=1, RENAL_CHRONIC=2, TOBACCO=2, CLASIFFICATION_FINAL=3, ICU=2, SEX=2),\n",
       " Row(USMER=1, MEDICAL_UNIT=3, PATIENT_TYPE=2, DATE_DIED='21/06/2020', INTUBED=1, PNEUMONIA=1, AGE=38, PREGNANT=97, DIABETES=2, COPD=2, ASTHMA=2, INMSUPR=2, HIPERTENSION=2, OTHER_DISEASE=2, CARDIOVASCULAR=2, OBESITY=2, RENAL_CHRONIC=2, TOBACCO=2, CLASIFFICATION_FINAL=3, ICU=2, SEX=2),\n",
       " Row(USMER=1, MEDICAL_UNIT=3, PATIENT_TYPE=2, DATE_DIED='21/06/2020', INTUBED=1, PNEUMONIA=1, AGE=61, PREGNANT=97, DIABETES=2, COPD=2, ASTHMA=2, INMSUPR=2, HIPERTENSION=2, OTHER_DISEASE=2, CARDIOVASCULAR=2, OBESITY=2, RENAL_CHRONIC=2, TOBACCO=2, CLASIFFICATION_FINAL=4, ICU=2, SEX=2),\n",
       " Row(USMER=1, MEDICAL_UNIT=3, PATIENT_TYPE=2, DATE_DIED='21/06/2020', INTUBED=2, PNEUMONIA=1, AGE=83, PREGNANT=97, DIABETES=1, COPD=2, ASTHMA=2, INMSUPR=2, HIPERTENSION=1, OTHER_DISEASE=2, CARDIOVASCULAR=2, OBESITY=2, RENAL_CHRONIC=2, TOBACCO=1, CLASIFFICATION_FINAL=4, ICU=2, SEX=2),\n",
       " Row(USMER=1, MEDICAL_UNIT=3, PATIENT_TYPE=2, DATE_DIED='21/06/2020', INTUBED=2, PNEUMONIA=1, AGE=66, PREGNANT=97, DIABETES=2, COPD=2, ASTHMA=2, INMSUPR=2, HIPERTENSION=2, OTHER_DISEASE=1, CARDIOVASCULAR=2, OBESITY=2, RENAL_CHRONIC=2, TOBACCO=2, CLASIFFICATION_FINAL=5, ICU=2, SEX=2),\n",
       " Row(USMER=1, MEDICAL_UNIT=3, PATIENT_TYPE=2, DATE_DIED='21/06/2020', INTUBED=2, PNEUMONIA=1, AGE=55, PREGNANT=97, DIABETES=2, COPD=2, ASTHMA=2, INMSUPR=2, HIPERTENSION=2, OTHER_DISEASE=2, CARDIOVASCULAR=2, OBESITY=2, RENAL_CHRONIC=2, TOBACCO=2, CLASIFFICATION_FINAL=6, ICU=2, SEX=2),\n",
       " Row(USMER=2, MEDICAL_UNIT=3, PATIENT_TYPE=2, DATE_DIED='22/06/2020', INTUBED=1, PNEUMONIA=1, AGE=54, PREGNANT=97, DIABETES=2, COPD=2, ASTHMA=2, INMSUPR=2, HIPERTENSION=2, OTHER_DISEASE=2, CARDIOVASCULAR=2, OBESITY=1, RENAL_CHRONIC=2, TOBACCO=2, CLASIFFICATION_FINAL=3, ICU=2, SEX=2),\n",
       " Row(USMER=2, MEDICAL_UNIT=3, PATIENT_TYPE=1, DATE_DIED='22/06/2020', INTUBED=97, PNEUMONIA=1, AGE=47, PREGNANT=97, DIABETES=2, COPD=2, ASTHMA=2, INMSUPR=2, HIPERTENSION=1, OTHER_DISEASE=2, CARDIOVASCULAR=2, OBESITY=2, RENAL_CHRONIC=2, TOBACCO=2, CLASIFFICATION_FINAL=3, ICU=97, SEX=2),\n",
       " Row(USMER=1, MEDICAL_UNIT=3, PATIENT_TYPE=2, DATE_DIED='22/06/2020', INTUBED=1, PNEUMONIA=1, AGE=73, PREGNANT=97, DIABETES=2, COPD=2, ASTHMA=2, INMSUPR=2, HIPERTENSION=1, OTHER_DISEASE=2, CARDIOVASCULAR=2, OBESITY=1, RENAL_CHRONIC=2, TOBACCO=2, CLASIFFICATION_FINAL=3, ICU=1, SEX=2),\n",
       " Row(USMER=1, MEDICAL_UNIT=3, PATIENT_TYPE=2, DATE_DIED='22/06/2020', INTUBED=2, PNEUMONIA=1, AGE=81, PREGNANT=97, DIABETES=1, COPD=2, ASTHMA=2, INMSUPR=2, HIPERTENSION=1, OTHER_DISEASE=2, CARDIOVASCULAR=2, OBESITY=2, RENAL_CHRONIC=2, TOBACCO=2, CLASIFFICATION_FINAL=3, ICU=2, SEX=2),\n",
       " Row(USMER=1, MEDICAL_UNIT=3, PATIENT_TYPE=2, DATE_DIED='22/06/2020', INTUBED=2, PNEUMONIA=1, AGE=63, PREGNANT=97, DIABETES=2, COPD=2, ASTHMA=2, INMSUPR=2, HIPERTENSION=2, OTHER_DISEASE=2, CARDIOVASCULAR=2, OBESITY=2, RENAL_CHRONIC=2, TOBACCO=2, CLASIFFICATION_FINAL=3, ICU=2, SEX=2),\n",
       " Row(USMER=1, MEDICAL_UNIT=3, PATIENT_TYPE=1, DATE_DIED='22/06/2020', INTUBED=97, PNEUMONIA=1, AGE=75, PREGNANT=97, DIABETES=2, COPD=2, ASTHMA=2, INMSUPR=2, HIPERTENSION=2, OTHER_DISEASE=2, CARDIOVASCULAR=2, OBESITY=1, RENAL_CHRONIC=2, TOBACCO=2, CLASIFFICATION_FINAL=3, ICU=97, SEX=2),\n",
       " Row(USMER=2, MEDICAL_UNIT=3, PATIENT_TYPE=2, DATE_DIED='22/06/2020', INTUBED=2, PNEUMONIA=1, AGE=59, PREGNANT=97, DIABETES=1, COPD=2, ASTHMA=2, INMSUPR=2, HIPERTENSION=1, OTHER_DISEASE=2, CARDIOVASCULAR=2, OBESITY=1, RENAL_CHRONIC=2, TOBACCO=2, CLASIFFICATION_FINAL=3, ICU=2, SEX=2),\n",
       " Row(USMER=1, MEDICAL_UNIT=3, PATIENT_TYPE=2, DATE_DIED='22/06/2020', INTUBED=1, PNEUMONIA=1, AGE=77, PREGNANT=97, DIABETES=2, COPD=2, ASTHMA=2, INMSUPR=2, HIPERTENSION=2, OTHER_DISEASE=1, CARDIOVASCULAR=2, OBESITY=2, RENAL_CHRONIC=2, TOBACCO=2, CLASIFFICATION_FINAL=3, ICU=1, SEX=2),\n",
       " Row(USMER=1, MEDICAL_UNIT=3, PATIENT_TYPE=2, DATE_DIED='22/06/2020', INTUBED=2, PNEUMONIA=1, AGE=50, PREGNANT=97, DIABETES=2, COPD=2, ASTHMA=2, INMSUPR=2, HIPERTENSION=2, OTHER_DISEASE=2, CARDIOVASCULAR=2, OBESITY=2, RENAL_CHRONIC=2, TOBACCO=2, CLASIFFICATION_FINAL=3, ICU=2, SEX=2),\n",
       " Row(USMER=2, MEDICAL_UNIT=3, PATIENT_TYPE=2, DATE_DIED='22/06/2020', INTUBED=2, PNEUMONIA=1, AGE=47, PREGNANT=97, DIABETES=2, COPD=2, ASTHMA=1, INMSUPR=2, HIPERTENSION=1, OTHER_DISEASE=2, CARDIOVASCULAR=2, OBESITY=1, RENAL_CHRONIC=2, TOBACCO=2, CLASIFFICATION_FINAL=3, ICU=2, SEX=2),\n",
       " Row(USMER=1, MEDICAL_UNIT=3, PATIENT_TYPE=2, DATE_DIED='22/06/2020', INTUBED=1, PNEUMONIA=1, AGE=61, PREGNANT=97, DIABETES=2, COPD=2, ASTHMA=2, INMSUPR=2, HIPERTENSION=2, OTHER_DISEASE=2, CARDIOVASCULAR=2, OBESITY=2, RENAL_CHRONIC=2, TOBACCO=2, CLASIFFICATION_FINAL=3, ICU=1, SEX=2),\n",
       " Row(USMER=1, MEDICAL_UNIT=3, PATIENT_TYPE=2, DATE_DIED='22/06/2020', INTUBED=2, PNEUMONIA=1, AGE=79, PREGNANT=97, DIABETES=1, COPD=2, ASTHMA=2, INMSUPR=2, HIPERTENSION=1, OTHER_DISEASE=2, CARDIOVASCULAR=1, OBESITY=1, RENAL_CHRONIC=2, TOBACCO=2, CLASIFFICATION_FINAL=3, ICU=2, SEX=2),\n",
       " Row(USMER=1, MEDICAL_UNIT=3, PATIENT_TYPE=2, DATE_DIED='22/06/2020', INTUBED=2, PNEUMONIA=1, AGE=71, PREGNANT=97, DIABETES=1, COPD=2, ASTHMA=2, INMSUPR=2, HIPERTENSION=2, OTHER_DISEASE=2, CARDIOVASCULAR=2, OBESITY=2, RENAL_CHRONIC=2, TOBACCO=2, CLASIFFICATION_FINAL=3, ICU=1, SEX=2),\n",
       " Row(USMER=2, MEDICAL_UNIT=3, PATIENT_TYPE=1, DATE_DIED='22/06/2020', INTUBED=97, PNEUMONIA=1, AGE=49, PREGNANT=97, DIABETES=1, COPD=2, ASTHMA=2, INMSUPR=2, HIPERTENSION=2, OTHER_DISEASE=2, CARDIOVASCULAR=2, OBESITY=2, RENAL_CHRONIC=2, TOBACCO=2, CLASIFFICATION_FINAL=7, ICU=97, SEX=2),\n",
       " Row(USMER=1, MEDICAL_UNIT=3, PATIENT_TYPE=2, DATE_DIED='22/06/2020', INTUBED=2, PNEUMONIA=1, AGE=65, PREGNANT=97, DIABETES=2, COPD=2, ASTHMA=2, INMSUPR=2, HIPERTENSION=1, OTHER_DISEASE=2, CARDIOVASCULAR=1, OBESITY=2, RENAL_CHRONIC=2, TOBACCO=2, CLASIFFICATION_FINAL=7, ICU=2, SEX=2),\n",
       " Row(USMER=1, MEDICAL_UNIT=3, PATIENT_TYPE=2, DATE_DIED='22/06/2020', INTUBED=2, PNEUMONIA=1, AGE=82, PREGNANT=97, DIABETES=1, COPD=98, ASTHMA=98, INMSUPR=98, HIPERTENSION=98, OTHER_DISEASE=98, CARDIOVASCULAR=98, OBESITY=2, RENAL_CHRONIC=98, TOBACCO=98, CLASIFFICATION_FINAL=7, ICU=2, SEX=2),\n",
       " Row(USMER=2, MEDICAL_UNIT=3, PATIENT_TYPE=2, DATE_DIED='23/06/2020', INTUBED=2, PNEUMONIA=1, AGE=76, PREGNANT=97, DIABETES=2, COPD=2, ASTHMA=2, INMSUPR=2, HIPERTENSION=2, OTHER_DISEASE=2, CARDIOVASCULAR=2, OBESITY=2, RENAL_CHRONIC=2, TOBACCO=1, CLASIFFICATION_FINAL=2, ICU=2, SEX=2),\n",
       " Row(USMER=1, MEDICAL_UNIT=3, PATIENT_TYPE=2, DATE_DIED='23/06/2020', INTUBED=99, PNEUMONIA=1, AGE=48, PREGNANT=97, DIABETES=2, COPD=2, ASTHMA=2, INMSUPR=2, HIPERTENSION=2, OTHER_DISEASE=2, CARDIOVASCULAR=2, OBESITY=2, RENAL_CHRONIC=2, TOBACCO=2, CLASIFFICATION_FINAL=3, ICU=99, SEX=2),\n",
       " Row(USMER=1, MEDICAL_UNIT=3, PATIENT_TYPE=2, DATE_DIED='23/06/2020', INTUBED=2, PNEUMONIA=1, AGE=63, PREGNANT=97, DIABETES=2, COPD=2, ASTHMA=2, INMSUPR=2, HIPERTENSION=2, OTHER_DISEASE=2, CARDIOVASCULAR=2, OBESITY=2, RENAL_CHRONIC=2, TOBACCO=2, CLASIFFICATION_FINAL=3, ICU=2, SEX=2),\n",
       " Row(USMER=2, MEDICAL_UNIT=3, PATIENT_TYPE=1, DATE_DIED='23/06/2020', INTUBED=97, PNEUMONIA=1, AGE=61, PREGNANT=97, DIABETES=1, COPD=2, ASTHMA=2, INMSUPR=2, HIPERTENSION=1, OTHER_DISEASE=2, CARDIOVASCULAR=2, OBESITY=2, RENAL_CHRONIC=2, TOBACCO=2, CLASIFFICATION_FINAL=3, ICU=97, SEX=2),\n",
       " Row(USMER=1, MEDICAL_UNIT=3, PATIENT_TYPE=2, DATE_DIED='23/06/2020', INTUBED=2, PNEUMONIA=1, AGE=60, PREGNANT=97, DIABETES=2, COPD=2, ASTHMA=2, INMSUPR=2, HIPERTENSION=2, OTHER_DISEASE=2, CARDIOVASCULAR=2, OBESITY=1, RENAL_CHRONIC=2, TOBACCO=2, CLASIFFICATION_FINAL=3, ICU=2, SEX=2),\n",
       " Row(USMER=1, MEDICAL_UNIT=3, PATIENT_TYPE=2, DATE_DIED='23/06/2020', INTUBED=2, PNEUMONIA=1, AGE=74, PREGNANT=97, DIABETES=1, COPD=2, ASTHMA=2, INMSUPR=2, HIPERTENSION=2, OTHER_DISEASE=2, CARDIOVASCULAR=2, OBESITY=2, RENAL_CHRONIC=2, TOBACCO=2, CLASIFFICATION_FINAL=3, ICU=1, SEX=2),\n",
       " Row(USMER=1, MEDICAL_UNIT=3, PATIENT_TYPE=2, DATE_DIED='23/06/2020', INTUBED=1, PNEUMONIA=1, AGE=63, PREGNANT=97, DIABETES=2, COPD=2, ASTHMA=2, INMSUPR=2, HIPERTENSION=1, OTHER_DISEASE=2, CARDIOVASCULAR=2, OBESITY=1, RENAL_CHRONIC=2, TOBACCO=1, CLASIFFICATION_FINAL=3, ICU=2, SEX=2),\n",
       " Row(USMER=1, MEDICAL_UNIT=3, PATIENT_TYPE=2, DATE_DIED='23/06/2020', INTUBED=2, PNEUMONIA=1, AGE=50, PREGNANT=97, DIABETES=2, COPD=2, ASTHMA=2, INMSUPR=2, HIPERTENSION=1, OTHER_DISEASE=2, CARDIOVASCULAR=2, OBESITY=2, RENAL_CHRONIC=1, TOBACCO=2, CLASIFFICATION_FINAL=3, ICU=2, SEX=2),\n",
       " Row(USMER=2, MEDICAL_UNIT=3, PATIENT_TYPE=2, DATE_DIED='23/06/2020', INTUBED=99, PNEUMONIA=2, AGE=46, PREGNANT=97, DIABETES=1, COPD=2, ASTHMA=2, INMSUPR=2, HIPERTENSION=1, OTHER_DISEASE=2, CARDIOVASCULAR=2, OBESITY=2, RENAL_CHRONIC=2, TOBACCO=2, CLASIFFICATION_FINAL=3, ICU=99, SEX=2),\n",
       " Row(USMER=2, MEDICAL_UNIT=3, PATIENT_TYPE=2, DATE_DIED='23/06/2020', INTUBED=99, PNEUMONIA=2, AGE=68, PREGNANT=97, DIABETES=2, COPD=2, ASTHMA=2, INMSUPR=2, HIPERTENSION=2, OTHER_DISEASE=2, CARDIOVASCULAR=2, OBESITY=1, RENAL_CHRONIC=2, TOBACCO=2, CLASIFFICATION_FINAL=3, ICU=99, SEX=2),\n",
       " Row(USMER=1, MEDICAL_UNIT=3, PATIENT_TYPE=2, DATE_DIED='23/06/2020', INTUBED=2, PNEUMONIA=1, AGE=46, PREGNANT=97, DIABETES=2, COPD=2, ASTHMA=2, INMSUPR=2, HIPERTENSION=2, OTHER_DISEASE=2, CARDIOVASCULAR=2, OBESITY=2, RENAL_CHRONIC=2, TOBACCO=2, CLASIFFICATION_FINAL=4, ICU=2, SEX=2),\n",
       " Row(USMER=1, MEDICAL_UNIT=3, PATIENT_TYPE=2, DATE_DIED='23/06/2020', INTUBED=1, PNEUMONIA=1, AGE=62, PREGNANT=97, DIABETES=1, COPD=2, ASTHMA=2, INMSUPR=2, HIPERTENSION=1, OTHER_DISEASE=2, CARDIOVASCULAR=2, OBESITY=2, RENAL_CHRONIC=2, TOBACCO=1, CLASIFFICATION_FINAL=5, ICU=2, SEX=2),\n",
       " Row(USMER=1, MEDICAL_UNIT=3, PATIENT_TYPE=2, DATE_DIED='24/06/2020', INTUBED=1, PNEUMONIA=1, AGE=60, PREGNANT=97, DIABETES=2, COPD=2, ASTHMA=2, INMSUPR=2, HIPERTENSION=1, OTHER_DISEASE=2, CARDIOVASCULAR=2, OBESITY=2, RENAL_CHRONIC=2, TOBACCO=2, CLASIFFICATION_FINAL=3, ICU=2, SEX=2),\n",
       " Row(USMER=1, MEDICAL_UNIT=3, PATIENT_TYPE=2, DATE_DIED='24/06/2020', INTUBED=1, PNEUMONIA=1, AGE=84, PREGNANT=97, DIABETES=2, COPD=1, ASTHMA=2, INMSUPR=2, HIPERTENSION=2, OTHER_DISEASE=2, CARDIOVASCULAR=2, OBESITY=2, RENAL_CHRONIC=2, TOBACCO=2, CLASIFFICATION_FINAL=3, ICU=1, SEX=2),\n",
       " Row(USMER=1, MEDICAL_UNIT=3, PATIENT_TYPE=2, DATE_DIED='24/06/2020', INTUBED=1, PNEUMONIA=1, AGE=74, PREGNANT=97, DIABETES=2, COPD=2, ASTHMA=2, INMSUPR=2, HIPERTENSION=1, OTHER_DISEASE=2, CARDIOVASCULAR=1, OBESITY=1, RENAL_CHRONIC=2, TOBACCO=2, CLASIFFICATION_FINAL=3, ICU=2, SEX=2),\n",
       " Row(USMER=2, MEDICAL_UNIT=3, PATIENT_TYPE=2, DATE_DIED='24/06/2020', INTUBED=1, PNEUMONIA=1, AGE=57, PREGNANT=97, DIABETES=1, COPD=2, ASTHMA=2, INMSUPR=2, HIPERTENSION=2, OTHER_DISEASE=2, CARDIOVASCULAR=2, OBESITY=2, RENAL_CHRONIC=2, TOBACCO=2, CLASIFFICATION_FINAL=3, ICU=2, SEX=2),\n",
       " Row(USMER=1, MEDICAL_UNIT=3, PATIENT_TYPE=2, DATE_DIED='24/06/2020', INTUBED=1, PNEUMONIA=1, AGE=81, PREGNANT=97, DIABETES=2, COPD=2, ASTHMA=2, INMSUPR=2, HIPERTENSION=2, OTHER_DISEASE=2, CARDIOVASCULAR=2, OBESITY=2, RENAL_CHRONIC=2, TOBACCO=2, CLASIFFICATION_FINAL=3, ICU=2, SEX=2),\n",
       " Row(USMER=1, MEDICAL_UNIT=3, PATIENT_TYPE=2, DATE_DIED='24/06/2020', INTUBED=2, PNEUMONIA=2, AGE=45, PREGNANT=97, DIABETES=2, COPD=2, ASTHMA=2, INMSUPR=2, HIPERTENSION=2, OTHER_DISEASE=2, CARDIOVASCULAR=2, OBESITY=2, RENAL_CHRONIC=2, TOBACCO=2, CLASIFFICATION_FINAL=3, ICU=2, SEX=2),\n",
       " Row(USMER=2, MEDICAL_UNIT=3, PATIENT_TYPE=2, DATE_DIED='24/06/2020', INTUBED=1, PNEUMONIA=1, AGE=46, PREGNANT=97, DIABETES=2, COPD=2, ASTHMA=2, INMSUPR=2, HIPERTENSION=2, OTHER_DISEASE=2, CARDIOVASCULAR=2, OBESITY=2, RENAL_CHRONIC=2, TOBACCO=2, CLASIFFICATION_FINAL=3, ICU=2, SEX=2),\n",
       " Row(USMER=1, MEDICAL_UNIT=3, PATIENT_TYPE=2, DATE_DIED='24/06/2020', INTUBED=1, PNEUMONIA=1, AGE=67, PREGNANT=97, DIABETES=2, COPD=2, ASTHMA=2, INMSUPR=2, HIPERTENSION=2, OTHER_DISEASE=2, CARDIOVASCULAR=2, OBESITY=2, RENAL_CHRONIC=2, TOBACCO=2, CLASIFFICATION_FINAL=7, ICU=1, SEX=2),\n",
       " Row(USMER=1, MEDICAL_UNIT=3, PATIENT_TYPE=2, DATE_DIED='24/06/2020', INTUBED=1, PNEUMONIA=1, AGE=59, PREGNANT=97, DIABETES=2, COPD=2, ASTHMA=2, INMSUPR=2, HIPERTENSION=2, OTHER_DISEASE=2, CARDIOVASCULAR=2, OBESITY=2, RENAL_CHRONIC=2, TOBACCO=1, CLASIFFICATION_FINAL=7, ICU=2, SEX=2),\n",
       " Row(USMER=2, MEDICAL_UNIT=3, PATIENT_TYPE=2, DATE_DIED='24/06/2020', INTUBED=2, PNEUMONIA=1, AGE=42, PREGNANT=97, DIABETES=2, COPD=2, ASTHMA=2, INMSUPR=2, HIPERTENSION=2, OTHER_DISEASE=2, CARDIOVASCULAR=2, OBESITY=2, RENAL_CHRONIC=2, TOBACCO=2, CLASIFFICATION_FINAL=7, ICU=2, SEX=2),\n",
       " Row(USMER=1, MEDICAL_UNIT=3, PATIENT_TYPE=2, DATE_DIED='25/06/2020', INTUBED=1, PNEUMONIA=1, AGE=69, PREGNANT=97, DIABETES=2, COPD=2, ASTHMA=2, INMSUPR=2, HIPERTENSION=2, OTHER_DISEASE=2, CARDIOVASCULAR=2, OBESITY=2, RENAL_CHRONIC=2, TOBACCO=2, CLASIFFICATION_FINAL=3, ICU=2, SEX=2),\n",
       " Row(USMER=2, MEDICAL_UNIT=3, PATIENT_TYPE=2, DATE_DIED='25/06/2020', INTUBED=2, PNEUMONIA=1, AGE=68, PREGNANT=97, DIABETES=98, COPD=98, ASTHMA=98, INMSUPR=98, HIPERTENSION=98, OTHER_DISEASE=98, CARDIOVASCULAR=98, OBESITY=98, RENAL_CHRONIC=98, TOBACCO=98, CLASIFFICATION_FINAL=3, ICU=2, SEX=2),\n",
       " Row(USMER=1, MEDICAL_UNIT=3, PATIENT_TYPE=2, DATE_DIED='25/06/2020', INTUBED=99, PNEUMONIA=1, AGE=67, PREGNANT=97, DIABETES=1, COPD=2, ASTHMA=2, INMSUPR=2, HIPERTENSION=1, OTHER_DISEASE=2, CARDIOVASCULAR=2, OBESITY=2, RENAL_CHRONIC=2, TOBACCO=2, CLASIFFICATION_FINAL=3, ICU=99, SEX=2),\n",
       " Row(USMER=1, MEDICAL_UNIT=3, PATIENT_TYPE=2, DATE_DIED='25/06/2020', INTUBED=2, PNEUMONIA=1, AGE=64, PREGNANT=97, DIABETES=2, COPD=2, ASTHMA=2, INMSUPR=2, HIPERTENSION=2, OTHER_DISEASE=2, CARDIOVASCULAR=2, OBESITY=2, RENAL_CHRONIC=2, TOBACCO=2, CLASIFFICATION_FINAL=3, ICU=2, SEX=2),\n",
       " Row(USMER=2, MEDICAL_UNIT=3, PATIENT_TYPE=2, DATE_DIED='25/06/2020', INTUBED=1, PNEUMONIA=1, AGE=88, PREGNANT=97, DIABETES=98, COPD=98, ASTHMA=98, INMSUPR=98, HIPERTENSION=98, OTHER_DISEASE=1, CARDIOVASCULAR=98, OBESITY=1, RENAL_CHRONIC=98, TOBACCO=98, CLASIFFICATION_FINAL=3, ICU=2, SEX=2),\n",
       " Row(USMER=2, MEDICAL_UNIT=3, PATIENT_TYPE=2, DATE_DIED='25/06/2020', INTUBED=2, PNEUMONIA=1, AGE=40, PREGNANT=97, DIABETES=2, COPD=2, ASTHMA=2, INMSUPR=2, HIPERTENSION=2, OTHER_DISEASE=2, CARDIOVASCULAR=2, OBESITY=2, RENAL_CHRONIC=2, TOBACCO=2, CLASIFFICATION_FINAL=3, ICU=2, SEX=2),\n",
       " Row(USMER=2, MEDICAL_UNIT=3, PATIENT_TYPE=2, DATE_DIED='25/06/2020', INTUBED=2, PNEUMONIA=1, AGE=49, PREGNANT=97, DIABETES=1, COPD=2, ASTHMA=2, INMSUPR=2, HIPERTENSION=2, OTHER_DISEASE=2, CARDIOVASCULAR=2, OBESITY=2, RENAL_CHRONIC=2, TOBACCO=2, CLASIFFICATION_FINAL=6, ICU=2, SEX=2),\n",
       " Row(USMER=2, MEDICAL_UNIT=3, PATIENT_TYPE=2, DATE_DIED='25/06/2020', INTUBED=1, PNEUMONIA=1, AGE=65, PREGNANT=97, DIABETES=2, COPD=2, ASTHMA=2, INMSUPR=2, HIPERTENSION=2, OTHER_DISEASE=2, CARDIOVASCULAR=2, OBESITY=2, RENAL_CHRONIC=2, TOBACCO=2, CLASIFFICATION_FINAL=6, ICU=2, SEX=2),\n",
       " Row(USMER=1, MEDICAL_UNIT=3, PATIENT_TYPE=2, DATE_DIED='26/06/2020', INTUBED=2, PNEUMONIA=1, AGE=76, PREGNANT=97, DIABETES=2, COPD=2, ASTHMA=2, INMSUPR=2, HIPERTENSION=2, OTHER_DISEASE=2, CARDIOVASCULAR=2, OBESITY=2, RENAL_CHRONIC=2, TOBACCO=2, CLASIFFICATION_FINAL=3, ICU=2, SEX=2),\n",
       " Row(USMER=2, MEDICAL_UNIT=3, PATIENT_TYPE=2, DATE_DIED='26/06/2020', INTUBED=1, PNEUMONIA=1, AGE=63, PREGNANT=97, DIABETES=2, COPD=2, ASTHMA=2, INMSUPR=1, HIPERTENSION=2, OTHER_DISEASE=1, CARDIOVASCULAR=2, OBESITY=1, RENAL_CHRONIC=1, TOBACCO=2, CLASIFFICATION_FINAL=3, ICU=2, SEX=2),\n",
       " Row(USMER=1, MEDICAL_UNIT=3, PATIENT_TYPE=2, DATE_DIED='26/06/2020', INTUBED=2, PNEUMONIA=2, AGE=56, PREGNANT=97, DIABETES=2, COPD=2, ASTHMA=2, INMSUPR=2, HIPERTENSION=2, OTHER_DISEASE=2, CARDIOVASCULAR=2, OBESITY=2, RENAL_CHRONIC=2, TOBACCO=2, CLASIFFICATION_FINAL=3, ICU=2, SEX=2),\n",
       " Row(USMER=1, MEDICAL_UNIT=3, PATIENT_TYPE=2, DATE_DIED='26/06/2020', INTUBED=2, PNEUMONIA=1, AGE=67, PREGNANT=97, DIABETES=2, COPD=2, ASTHMA=2, INMSUPR=2, HIPERTENSION=2, OTHER_DISEASE=2, CARDIOVASCULAR=2, OBESITY=2, RENAL_CHRONIC=2, TOBACCO=2, CLASIFFICATION_FINAL=3, ICU=1, SEX=2),\n",
       " Row(USMER=1, MEDICAL_UNIT=3, PATIENT_TYPE=2, DATE_DIED='26/06/2020', INTUBED=2, PNEUMONIA=1, AGE=76, PREGNANT=97, DIABETES=1, COPD=2, ASTHMA=2, INMSUPR=2, HIPERTENSION=1, OTHER_DISEASE=2, CARDIOVASCULAR=2, OBESITY=1, RENAL_CHRONIC=2, TOBACCO=2, CLASIFFICATION_FINAL=3, ICU=2, SEX=2),\n",
       " Row(USMER=2, MEDICAL_UNIT=3, PATIENT_TYPE=2, DATE_DIED='26/06/2020', INTUBED=2, PNEUMONIA=1, AGE=80, PREGNANT=97, DIABETES=2, COPD=2, ASTHMA=2, INMSUPR=2, HIPERTENSION=1, OTHER_DISEASE=2, CARDIOVASCULAR=2, OBESITY=1, RENAL_CHRONIC=2, TOBACCO=2, CLASIFFICATION_FINAL=3, ICU=2, SEX=2),\n",
       " Row(USMER=1, MEDICAL_UNIT=3, PATIENT_TYPE=2, DATE_DIED='26/06/2020', INTUBED=2, PNEUMONIA=1, AGE=56, PREGNANT=97, DIABETES=2, COPD=2, ASTHMA=2, INMSUPR=2, HIPERTENSION=2, OTHER_DISEASE=2, CARDIOVASCULAR=2, OBESITY=2, RENAL_CHRONIC=2, TOBACCO=2, CLASIFFICATION_FINAL=3, ICU=2, SEX=2),\n",
       " Row(USMER=2, MEDICAL_UNIT=3, PATIENT_TYPE=2, DATE_DIED='26/06/2020', INTUBED=99, PNEUMONIA=1, AGE=80, PREGNANT=97, DIABETES=1, COPD=2, ASTHMA=2, INMSUPR=2, HIPERTENSION=1, OTHER_DISEASE=2, CARDIOVASCULAR=2, OBESITY=2, RENAL_CHRONIC=2, TOBACCO=2, CLASIFFICATION_FINAL=3, ICU=99, SEX=2),\n",
       " Row(USMER=1, MEDICAL_UNIT=3, PATIENT_TYPE=2, DATE_DIED='26/06/2020', INTUBED=2, PNEUMONIA=1, AGE=39, PREGNANT=97, DIABETES=2, COPD=2, ASTHMA=2, INMSUPR=2, HIPERTENSION=2, OTHER_DISEASE=2, CARDIOVASCULAR=2, OBESITY=1, RENAL_CHRONIC=2, TOBACCO=2, CLASIFFICATION_FINAL=3, ICU=2, SEX=2),\n",
       " Row(USMER=1, MEDICAL_UNIT=3, PATIENT_TYPE=2, DATE_DIED='26/06/2020', INTUBED=2, PNEUMONIA=1, AGE=74, PREGNANT=97, DIABETES=2, COPD=2, ASTHMA=2, INMSUPR=2, HIPERTENSION=2, OTHER_DISEASE=2, CARDIOVASCULAR=2, OBESITY=2, RENAL_CHRONIC=2, TOBACCO=2, CLASIFFICATION_FINAL=3, ICU=2, SEX=2),\n",
       " Row(USMER=1, MEDICAL_UNIT=3, PATIENT_TYPE=2, DATE_DIED='26/06/2020', INTUBED=1, PNEUMONIA=1, AGE=52, PREGNANT=97, DIABETES=2, COPD=2, ASTHMA=2, INMSUPR=2, HIPERTENSION=2, OTHER_DISEASE=2, CARDIOVASCULAR=2, OBESITY=2, RENAL_CHRONIC=2, TOBACCO=2, CLASIFFICATION_FINAL=5, ICU=2, SEX=2),\n",
       " Row(USMER=2, MEDICAL_UNIT=3, PATIENT_TYPE=2, DATE_DIED='26/06/2020', INTUBED=1, PNEUMONIA=1, AGE=53, PREGNANT=97, DIABETES=2, COPD=2, ASTHMA=2, INMSUPR=2, HIPERTENSION=1, OTHER_DISEASE=2, CARDIOVASCULAR=2, OBESITY=2, RENAL_CHRONIC=2, TOBACCO=2, CLASIFFICATION_FINAL=7, ICU=2, SEX=2),\n",
       " Row(USMER=1, MEDICAL_UNIT=3, PATIENT_TYPE=2, DATE_DIED='26/06/2020', INTUBED=2, PNEUMONIA=1, AGE=84, PREGNANT=97, DIABETES=2, COPD=2, ASTHMA=2, INMSUPR=2, HIPERTENSION=1, OTHER_DISEASE=2, CARDIOVASCULAR=1, OBESITY=2, RENAL_CHRONIC=2, TOBACCO=2, CLASIFFICATION_FINAL=7, ICU=1, SEX=2),\n",
       " Row(USMER=2, MEDICAL_UNIT=3, PATIENT_TYPE=1, DATE_DIED='27/06/2020', INTUBED=97, PNEUMONIA=1, AGE=97, PREGNANT=97, DIABETES=2, COPD=2, ASTHMA=2, INMSUPR=2, HIPERTENSION=2, OTHER_DISEASE=2, CARDIOVASCULAR=2, OBESITY=2, RENAL_CHRONIC=2, TOBACCO=2, CLASIFFICATION_FINAL=3, ICU=97, SEX=2),\n",
       " Row(USMER=1, MEDICAL_UNIT=3, PATIENT_TYPE=2, DATE_DIED='27/06/2020', INTUBED=1, PNEUMONIA=1, AGE=47, PREGNANT=97, DIABETES=2, COPD=2, ASTHMA=2, INMSUPR=2, HIPERTENSION=2, OTHER_DISEASE=2, CARDIOVASCULAR=2, OBESITY=2, RENAL_CHRONIC=2, TOBACCO=2, CLASIFFICATION_FINAL=3, ICU=2, SEX=2),\n",
       " Row(USMER=1, MEDICAL_UNIT=3, PATIENT_TYPE=2, DATE_DIED='27/06/2020', INTUBED=2, PNEUMONIA=1, AGE=78, PREGNANT=97, DIABETES=2, COPD=2, ASTHMA=2, INMSUPR=2, HIPERTENSION=2, OTHER_DISEASE=2, CARDIOVASCULAR=2, OBESITY=2, RENAL_CHRONIC=2, TOBACCO=2, CLASIFFICATION_FINAL=3, ICU=2, SEX=2),\n",
       " Row(USMER=1, MEDICAL_UNIT=3, PATIENT_TYPE=1, DATE_DIED='27/06/2020', INTUBED=97, PNEUMONIA=1, AGE=54, PREGNANT=97, DIABETES=2, COPD=2, ASTHMA=2, INMSUPR=2, HIPERTENSION=1, OTHER_DISEASE=2, CARDIOVASCULAR=2, OBESITY=2, RENAL_CHRONIC=2, TOBACCO=2, CLASIFFICATION_FINAL=3, ICU=97, SEX=2),\n",
       " Row(USMER=2, MEDICAL_UNIT=3, PATIENT_TYPE=2, DATE_DIED='27/06/2020', INTUBED=99, PNEUMONIA=2, AGE=48, PREGNANT=97, DIABETES=1, COPD=2, ASTHMA=2, INMSUPR=2, HIPERTENSION=1, OTHER_DISEASE=2, CARDIOVASCULAR=2, OBESITY=2, RENAL_CHRONIC=2, TOBACCO=2, CLASIFFICATION_FINAL=3, ICU=99, SEX=2),\n",
       " Row(USMER=1, MEDICAL_UNIT=3, PATIENT_TYPE=2, DATE_DIED='28/06/2020', INTUBED=1, PNEUMONIA=1, AGE=52, PREGNANT=97, DIABETES=1, COPD=2, ASTHMA=2, INMSUPR=1, HIPERTENSION=1, OTHER_DISEASE=2, CARDIOVASCULAR=1, OBESITY=2, RENAL_CHRONIC=2, TOBACCO=2, CLASIFFICATION_FINAL=3, ICU=2, SEX=2),\n",
       " Row(USMER=1, MEDICAL_UNIT=3, PATIENT_TYPE=2, DATE_DIED='28/06/2020', INTUBED=1, PNEUMONIA=1, AGE=77, PREGNANT=97, DIABETES=2, COPD=2, ASTHMA=2, INMSUPR=2, HIPERTENSION=2, OTHER_DISEASE=2, CARDIOVASCULAR=2, OBESITY=2, RENAL_CHRONIC=2, TOBACCO=2, CLASIFFICATION_FINAL=3, ICU=1, SEX=2),\n",
       " Row(USMER=1, MEDICAL_UNIT=3, PATIENT_TYPE=2, DATE_DIED='28/06/2020', INTUBED=2, PNEUMONIA=1, AGE=76, PREGNANT=97, DIABETES=2, COPD=2, ASTHMA=2, INMSUPR=2, HIPERTENSION=1, OTHER_DISEASE=2, CARDIOVASCULAR=2, OBESITY=2, RENAL_CHRONIC=2, TOBACCO=2, CLASIFFICATION_FINAL=3, ICU=2, SEX=2),\n",
       " Row(USMER=1, MEDICAL_UNIT=3, PATIENT_TYPE=1, DATE_DIED='28/06/2020', INTUBED=97, PNEUMONIA=2, AGE=86, PREGNANT=97, DIABETES=2, COPD=2, ASTHMA=2, INMSUPR=2, HIPERTENSION=1, OTHER_DISEASE=2, CARDIOVASCULAR=2, OBESITY=2, RENAL_CHRONIC=2, TOBACCO=2, CLASIFFICATION_FINAL=3, ICU=97, SEX=2),\n",
       " Row(USMER=1, MEDICAL_UNIT=3, PATIENT_TYPE=1, DATE_DIED='28/06/2020', INTUBED=97, PNEUMONIA=2, AGE=64, PREGNANT=97, DIABETES=2, COPD=2, ASTHMA=2, INMSUPR=2, HIPERTENSION=2, OTHER_DISEASE=2, CARDIOVASCULAR=2, OBESITY=1, RENAL_CHRONIC=2, TOBACCO=2, CLASIFFICATION_FINAL=3, ICU=97, SEX=2),\n",
       " Row(USMER=1, MEDICAL_UNIT=3, PATIENT_TYPE=2, DATE_DIED='28/06/2020', INTUBED=2, PNEUMONIA=1, AGE=56, PREGNANT=97, DIABETES=2, COPD=2, ASTHMA=2, INMSUPR=2, HIPERTENSION=2, OTHER_DISEASE=2, CARDIOVASCULAR=2, OBESITY=2, RENAL_CHRONIC=2, TOBACCO=2, CLASIFFICATION_FINAL=3, ICU=2, SEX=2),\n",
       " Row(USMER=1, MEDICAL_UNIT=3, PATIENT_TYPE=2, DATE_DIED='28/06/2020', INTUBED=2, PNEUMONIA=1, AGE=80, PREGNANT=97, DIABETES=1, COPD=2, ASTHMA=2, INMSUPR=2, HIPERTENSION=1, OTHER_DISEASE=2, CARDIOVASCULAR=2, OBESITY=2, RENAL_CHRONIC=1, TOBACCO=2, CLASIFFICATION_FINAL=3, ICU=2, SEX=2),\n",
       " Row(USMER=1, MEDICAL_UNIT=3, PATIENT_TYPE=1, DATE_DIED='28/06/2020', INTUBED=97, PNEUMONIA=1, AGE=68, PREGNANT=97, DIABETES=1, COPD=2, ASTHMA=2, INMSUPR=2, HIPERTENSION=1, OTHER_DISEASE=2, CARDIOVASCULAR=2, OBESITY=2, RENAL_CHRONIC=2, TOBACCO=2, CLASIFFICATION_FINAL=3, ICU=97, SEX=2),\n",
       " Row(USMER=1, MEDICAL_UNIT=3, PATIENT_TYPE=2, DATE_DIED='28/06/2020', INTUBED=2, PNEUMONIA=1, AGE=66, PREGNANT=97, DIABETES=2, COPD=2, ASTHMA=2, INMSUPR=2, HIPERTENSION=2, OTHER_DISEASE=2, CARDIOVASCULAR=2, OBESITY=2, RENAL_CHRONIC=2, TOBACCO=2, CLASIFFICATION_FINAL=4, ICU=2, SEX=2),\n",
       " Row(USMER=2, MEDICAL_UNIT=3, PATIENT_TYPE=2, DATE_DIED='28/06/2020', INTUBED=2, PNEUMONIA=1, AGE=83, PREGNANT=97, DIABETES=2, COPD=2, ASTHMA=2, INMSUPR=2, HIPERTENSION=2, OTHER_DISEASE=2, CARDIOVASCULAR=2, OBESITY=2, RENAL_CHRONIC=2, TOBACCO=2, CLASIFFICATION_FINAL=5, ICU=2, SEX=2),\n",
       " Row(USMER=2, MEDICAL_UNIT=3, PATIENT_TYPE=2, DATE_DIED='28/06/2020', INTUBED=2, PNEUMONIA=2, AGE=62, PREGNANT=97, DIABETES=2, COPD=2, ASTHMA=2, INMSUPR=2, HIPERTENSION=2, OTHER_DISEASE=2, CARDIOVASCULAR=1, OBESITY=2, RENAL_CHRONIC=2, TOBACCO=2, CLASIFFICATION_FINAL=6, ICU=2, SEX=2),\n",
       " Row(USMER=1, MEDICAL_UNIT=3, PATIENT_TYPE=2, DATE_DIED='28/06/2020', INTUBED=1, PNEUMONIA=1, AGE=61, PREGNANT=97, DIABETES=2, COPD=2, ASTHMA=2, INMSUPR=2, HIPERTENSION=2, OTHER_DISEASE=2, CARDIOVASCULAR=2, OBESITY=2, RENAL_CHRONIC=2, TOBACCO=2, CLASIFFICATION_FINAL=7, ICU=1, SEX=2),\n",
       " Row(USMER=2, MEDICAL_UNIT=3, PATIENT_TYPE=2, DATE_DIED='28/06/2020', INTUBED=2, PNEUMONIA=1, AGE=51, PREGNANT=97, DIABETES=2, COPD=2, ASTHMA=2, INMSUPR=2, HIPERTENSION=2, OTHER_DISEASE=2, CARDIOVASCULAR=2, OBESITY=2, RENAL_CHRONIC=2, TOBACCO=2, CLASIFFICATION_FINAL=7, ICU=2, SEX=2),\n",
       " Row(USMER=2, MEDICAL_UNIT=3, PATIENT_TYPE=2, DATE_DIED='28/06/2020', INTUBED=2, PNEUMONIA=1, AGE=0, PREGNANT=97, DIABETES=2, COPD=2, ASTHMA=2, INMSUPR=2, HIPERTENSION=2, OTHER_DISEASE=2, CARDIOVASCULAR=2, OBESITY=2, RENAL_CHRONIC=2, TOBACCO=2, CLASIFFICATION_FINAL=7, ICU=1, SEX=2),\n",
       " Row(USMER=1, MEDICAL_UNIT=3, PATIENT_TYPE=2, DATE_DIED='28/06/2020', INTUBED=2, PNEUMONIA=1, AGE=82, PREGNANT=97, DIABETES=2, COPD=2, ASTHMA=2, INMSUPR=2, HIPERTENSION=1, OTHER_DISEASE=2, CARDIOVASCULAR=2, OBESITY=2, RENAL_CHRONIC=2, TOBACCO=2, CLASIFFICATION_FINAL=7, ICU=2, SEX=2),\n",
       " Row(USMER=1, MEDICAL_UNIT=3, PATIENT_TYPE=2, DATE_DIED='29/06/2020', INTUBED=2, PNEUMONIA=1, AGE=55, PREGNANT=97, DIABETES=2, COPD=2, ASTHMA=2, INMSUPR=2, HIPERTENSION=2, OTHER_DISEASE=2, CARDIOVASCULAR=2, OBESITY=2, RENAL_CHRONIC=2, TOBACCO=2, CLASIFFICATION_FINAL=3, ICU=2, SEX=2),\n",
       " Row(USMER=1, MEDICAL_UNIT=3, PATIENT_TYPE=2, DATE_DIED='29/06/2020', INTUBED=2, PNEUMONIA=1, AGE=39, PREGNANT=97, DIABETES=2, COPD=2, ASTHMA=2, INMSUPR=2, HIPERTENSION=2, OTHER_DISEASE=2, CARDIOVASCULAR=2, OBESITY=2, RENAL_CHRONIC=2, TOBACCO=2, CLASIFFICATION_FINAL=3, ICU=2, SEX=2),\n",
       " Row(USMER=1, MEDICAL_UNIT=3, PATIENT_TYPE=2, DATE_DIED='29/06/2020', INTUBED=1, PNEUMONIA=1, AGE=46, PREGNANT=97, DIABETES=2, COPD=2, ASTHMA=1, INMSUPR=2, HIPERTENSION=2, OTHER_DISEASE=2, CARDIOVASCULAR=2, OBESITY=2, RENAL_CHRONIC=2, TOBACCO=2, CLASIFFICATION_FINAL=3, ICU=1, SEX=2),\n",
       " Row(USMER=1, MEDICAL_UNIT=3, PATIENT_TYPE=2, DATE_DIED='29/06/2020', INTUBED=2, PNEUMONIA=1, AGE=60, PREGNANT=97, DIABETES=2, COPD=2, ASTHMA=2, INMSUPR=2, HIPERTENSION=2, OTHER_DISEASE=2, CARDIOVASCULAR=2, OBESITY=2, RENAL_CHRONIC=2, TOBACCO=2, CLASIFFICATION_FINAL=3, ICU=2, SEX=2),\n",
       " Row(USMER=1, MEDICAL_UNIT=3, PATIENT_TYPE=2, DATE_DIED='29/06/2020', INTUBED=1, PNEUMONIA=1, AGE=73, PREGNANT=97, DIABETES=2, COPD=2, ASTHMA=2, INMSUPR=2, HIPERTENSION=2, OTHER_DISEASE=2, CARDIOVASCULAR=2, OBESITY=2, RENAL_CHRONIC=2, TOBACCO=2, CLASIFFICATION_FINAL=3, ICU=2, SEX=2),\n",
       " Row(USMER=1, MEDICAL_UNIT=3, PATIENT_TYPE=2, DATE_DIED='29/06/2020', INTUBED=1, PNEUMONIA=1, AGE=81, PREGNANT=97, DIABETES=2, COPD=2, ASTHMA=2, INMSUPR=2, HIPERTENSION=2, OTHER_DISEASE=2, CARDIOVASCULAR=2, OBESITY=1, RENAL_CHRONIC=2, TOBACCO=2, CLASIFFICATION_FINAL=3, ICU=1, SEX=2),\n",
       " Row(USMER=1, MEDICAL_UNIT=3, PATIENT_TYPE=2, DATE_DIED='29/06/2020', INTUBED=2, PNEUMONIA=1, AGE=71, PREGNANT=97, DIABETES=1, COPD=2, ASTHMA=2, INMSUPR=2, HIPERTENSION=1, OTHER_DISEASE=2, CARDIOVASCULAR=2, OBESITY=2, RENAL_CHRONIC=2, TOBACCO=2, CLASIFFICATION_FINAL=3, ICU=2, SEX=2),\n",
       " Row(USMER=1, MEDICAL_UNIT=3, PATIENT_TYPE=2, DATE_DIED='29/06/2020', INTUBED=1, PNEUMONIA=1, AGE=52, PREGNANT=97, DIABETES=1, COPD=2, ASTHMA=2, INMSUPR=2, HIPERTENSION=1, OTHER_DISEASE=2, CARDIOVASCULAR=2, OBESITY=1, RENAL_CHRONIC=2, TOBACCO=2, CLASIFFICATION_FINAL=3, ICU=2, SEX=2),\n",
       " Row(USMER=1, MEDICAL_UNIT=3, PATIENT_TYPE=2, DATE_DIED='29/06/2020', INTUBED=2, PNEUMONIA=1, AGE=70, PREGNANT=97, DIABETES=1, COPD=2, ASTHMA=2, INMSUPR=2, HIPERTENSION=1, OTHER_DISEASE=2, CARDIOVASCULAR=2, OBESITY=2, RENAL_CHRONIC=2, TOBACCO=1, CLASIFFICATION_FINAL=3, ICU=2, SEX=2),\n",
       " Row(USMER=1, MEDICAL_UNIT=3, PATIENT_TYPE=2, DATE_DIED='29/06/2020', INTUBED=1, PNEUMONIA=1, AGE=48, PREGNANT=97, DIABETES=2, COPD=2, ASTHMA=2, INMSUPR=2, HIPERTENSION=2, OTHER_DISEASE=2, CARDIOVASCULAR=2, OBESITY=2, RENAL_CHRONIC=2, TOBACCO=2, CLASIFFICATION_FINAL=3, ICU=1, SEX=2),\n",
       " Row(USMER=2, MEDICAL_UNIT=3, PATIENT_TYPE=2, DATE_DIED='29/06/2020', INTUBED=1, PNEUMONIA=1, AGE=32, PREGNANT=97, DIABETES=2, COPD=2, ASTHMA=2, INMSUPR=1, HIPERTENSION=2, OTHER_DISEASE=1, CARDIOVASCULAR=2, OBESITY=2, RENAL_CHRONIC=2, TOBACCO=2, CLASIFFICATION_FINAL=3, ICU=2, SEX=2),\n",
       " Row(USMER=2, MEDICAL_UNIT=3, PATIENT_TYPE=2, DATE_DIED='29/06/2020', INTUBED=2, PNEUMONIA=1, AGE=57, PREGNANT=97, DIABETES=1, COPD=2, ASTHMA=2, INMSUPR=2, HIPERTENSION=2, OTHER_DISEASE=2, CARDIOVASCULAR=2, OBESITY=2, RENAL_CHRONIC=2, TOBACCO=2, CLASIFFICATION_FINAL=3, ICU=2, SEX=2),\n",
       " Row(USMER=2, MEDICAL_UNIT=3, PATIENT_TYPE=2, DATE_DIED='29/06/2020', INTUBED=1, PNEUMONIA=1, AGE=55, PREGNANT=97, DIABETES=1, COPD=2, ASTHMA=2, INMSUPR=2, HIPERTENSION=1, OTHER_DISEASE=2, CARDIOVASCULAR=2, OBESITY=2, RENAL_CHRONIC=2, TOBACCO=2, CLASIFFICATION_FINAL=6, ICU=2, SEX=2),\n",
       " Row(USMER=2, MEDICAL_UNIT=3, PATIENT_TYPE=2, DATE_DIED='29/06/2020', INTUBED=1, PNEUMONIA=1, AGE=71, PREGNANT=97, DIABETES=1, COPD=2, ASTHMA=2, INMSUPR=2, HIPERTENSION=2, OTHER_DISEASE=2, CARDIOVASCULAR=2, OBESITY=2, RENAL_CHRONIC=2, TOBACCO=2, CLASIFFICATION_FINAL=6, ICU=2, SEX=2),\n",
       " Row(USMER=1, MEDICAL_UNIT=3, PATIENT_TYPE=2, DATE_DIED='29/06/2020', INTUBED=2, PNEUMONIA=1, AGE=61, PREGNANT=97, DIABETES=2, COPD=2, ASTHMA=2, INMSUPR=2, HIPERTENSION=1, OTHER_DISEASE=2, CARDIOVASCULAR=2, OBESITY=2, RENAL_CHRONIC=2, TOBACCO=1, CLASIFFICATION_FINAL=7, ICU=2, SEX=2),\n",
       " Row(USMER=1, MEDICAL_UNIT=3, PATIENT_TYPE=2, DATE_DIED='30/06/2020', INTUBED=1, PNEUMONIA=1, AGE=79, PREGNANT=97, DIABETES=2, COPD=2, ASTHMA=2, INMSUPR=2, HIPERTENSION=2, OTHER_DISEASE=2, CARDIOVASCULAR=2, OBESITY=2, RENAL_CHRONIC=2, TOBACCO=2, CLASIFFICATION_FINAL=3, ICU=1, SEX=2),\n",
       " Row(USMER=2, MEDICAL_UNIT=3, PATIENT_TYPE=2, DATE_DIED='30/06/2020', INTUBED=2, PNEUMONIA=1, AGE=53, PREGNANT=97, DIABETES=2, COPD=2, ASTHMA=2, INMSUPR=2, HIPERTENSION=1, OTHER_DISEASE=1, CARDIOVASCULAR=2, OBESITY=1, RENAL_CHRONIC=2, TOBACCO=2, CLASIFFICATION_FINAL=3, ICU=2, SEX=2),\n",
       " Row(USMER=1, MEDICAL_UNIT=3, PATIENT_TYPE=2, DATE_DIED='30/06/2020', INTUBED=1, PNEUMONIA=1, AGE=64, PREGNANT=97, DIABETES=2, COPD=2, ASTHMA=2, INMSUPR=2, HIPERTENSION=2, OTHER_DISEASE=2, CARDIOVASCULAR=2, OBESITY=2, RENAL_CHRONIC=2, TOBACCO=2, CLASIFFICATION_FINAL=3, ICU=2, SEX=2),\n",
       " Row(USMER=2, MEDICAL_UNIT=3, PATIENT_TYPE=2, DATE_DIED='30/06/2020', INTUBED=2, PNEUMONIA=1, AGE=59, PREGNANT=97, DIABETES=1, COPD=2, ASTHMA=98, INMSUPR=98, HIPERTENSION=1, OTHER_DISEASE=98, CARDIOVASCULAR=98, OBESITY=1, RENAL_CHRONIC=98, TOBACCO=98, CLASIFFICATION_FINAL=3, ICU=2, SEX=2),\n",
       " Row(USMER=1, MEDICAL_UNIT=3, PATIENT_TYPE=2, DATE_DIED='30/06/2020', INTUBED=2, PNEUMONIA=2, AGE=68, PREGNANT=97, DIABETES=2, COPD=2, ASTHMA=2, INMSUPR=2, HIPERTENSION=2, OTHER_DISEASE=2, CARDIOVASCULAR=2, OBESITY=2, RENAL_CHRONIC=2, TOBACCO=2, CLASIFFICATION_FINAL=3, ICU=2, SEX=2),\n",
       " Row(USMER=1, MEDICAL_UNIT=3, PATIENT_TYPE=2, DATE_DIED='30/06/2020', INTUBED=2, PNEUMONIA=1, AGE=75, PREGNANT=97, DIABETES=2, COPD=2, ASTHMA=2, INMSUPR=2, HIPERTENSION=2, OTHER_DISEASE=2, CARDIOVASCULAR=2, OBESITY=2, RENAL_CHRONIC=2, TOBACCO=2, CLASIFFICATION_FINAL=3, ICU=2, SEX=2),\n",
       " Row(USMER=1, MEDICAL_UNIT=3, PATIENT_TYPE=2, DATE_DIED='30/06/2020', INTUBED=2, PNEUMONIA=1, AGE=53, PREGNANT=97, DIABETES=2, COPD=2, ASTHMA=2, INMSUPR=2, HIPERTENSION=2, OTHER_DISEASE=2, CARDIOVASCULAR=2, OBESITY=2, RENAL_CHRONIC=2, TOBACCO=2, CLASIFFICATION_FINAL=3, ICU=2, SEX=2),\n",
       " Row(USMER=1, MEDICAL_UNIT=3, PATIENT_TYPE=2, DATE_DIED='30/06/2020', INTUBED=2, PNEUMONIA=1, AGE=58, PREGNANT=97, DIABETES=1, COPD=2, ASTHMA=2, INMSUPR=1, HIPERTENSION=2, OTHER_DISEASE=2, CARDIOVASCULAR=2, OBESITY=2, RENAL_CHRONIC=2, TOBACCO=2, CLASIFFICATION_FINAL=3, ICU=2, SEX=2),\n",
       " Row(USMER=1, MEDICAL_UNIT=3, PATIENT_TYPE=2, DATE_DIED='30/06/2020', INTUBED=2, PNEUMONIA=1, AGE=70, PREGNANT=97, DIABETES=2, COPD=2, ASTHMA=2, INMSUPR=2, HIPERTENSION=2, OTHER_DISEASE=2, CARDIOVASCULAR=2, OBESITY=2, RENAL_CHRONIC=2, TOBACCO=2, CLASIFFICATION_FINAL=3, ICU=2, SEX=2),\n",
       " Row(USMER=1, MEDICAL_UNIT=3, PATIENT_TYPE=2, DATE_DIED='30/06/2020', INTUBED=2, PNEUMONIA=1, AGE=53, PREGNANT=97, DIABETES=1, COPD=2, ASTHMA=2, INMSUPR=2, HIPERTENSION=1, OTHER_DISEASE=1, CARDIOVASCULAR=1, OBESITY=2, RENAL_CHRONIC=2, TOBACCO=2, CLASIFFICATION_FINAL=3, ICU=2, SEX=2),\n",
       " Row(USMER=1, MEDICAL_UNIT=3, PATIENT_TYPE=2, DATE_DIED='30/06/2020', INTUBED=2, PNEUMONIA=1, AGE=67, PREGNANT=97, DIABETES=2, COPD=2, ASTHMA=2, INMSUPR=2, HIPERTENSION=2, OTHER_DISEASE=2, CARDIOVASCULAR=2, OBESITY=2, RENAL_CHRONIC=2, TOBACCO=2, CLASIFFICATION_FINAL=3, ICU=2, SEX=2),\n",
       " Row(USMER=2, MEDICAL_UNIT=3, PATIENT_TYPE=2, DATE_DIED='30/06/2020', INTUBED=2, PNEUMONIA=1, AGE=61, PREGNANT=97, DIABETES=1, COPD=2, ASTHMA=2, INMSUPR=2, HIPERTENSION=1, OTHER_DISEASE=2, CARDIOVASCULAR=2, OBESITY=1, RENAL_CHRONIC=2, TOBACCO=2, CLASIFFICATION_FINAL=3, ICU=2, SEX=2),\n",
       " Row(USMER=1, MEDICAL_UNIT=3, PATIENT_TYPE=2, DATE_DIED='30/06/2020', INTUBED=2, PNEUMONIA=1, AGE=48, PREGNANT=97, DIABETES=2, COPD=2, ASTHMA=2, INMSUPR=2, HIPERTENSION=2, OTHER_DISEASE=2, CARDIOVASCULAR=2, OBESITY=2, RENAL_CHRONIC=2, TOBACCO=2, CLASIFFICATION_FINAL=4, ICU=2, SEX=2),\n",
       " Row(USMER=2, MEDICAL_UNIT=3, PATIENT_TYPE=2, DATE_DIED='01/07/2020', INTUBED=2, PNEUMONIA=1, AGE=47, PREGNANT=97, DIABETES=2, COPD=2, ASTHMA=2, INMSUPR=2, HIPERTENSION=2, OTHER_DISEASE=2, CARDIOVASCULAR=2, OBESITY=2, RENAL_CHRONIC=2, TOBACCO=2, CLASIFFICATION_FINAL=3, ICU=2, SEX=2),\n",
       " Row(USMER=1, MEDICAL_UNIT=3, PATIENT_TYPE=2, DATE_DIED='01/07/2020', INTUBED=1, PNEUMONIA=1, AGE=59, PREGNANT=97, DIABETES=2, COPD=2, ASTHMA=2, INMSUPR=2, HIPERTENSION=2, OTHER_DISEASE=2, CARDIOVASCULAR=2, OBESITY=2, RENAL_CHRONIC=2, TOBACCO=2, CLASIFFICATION_FINAL=3, ICU=2, SEX=2),\n",
       " Row(USMER=1, MEDICAL_UNIT=3, PATIENT_TYPE=2, DATE_DIED='01/07/2020', INTUBED=1, PNEUMONIA=1, AGE=70, PREGNANT=97, DIABETES=1, COPD=2, ASTHMA=2, INMSUPR=2, HIPERTENSION=1, OTHER_DISEASE=2, CARDIOVASCULAR=1, OBESITY=2, RENAL_CHRONIC=2, TOBACCO=2, CLASIFFICATION_FINAL=3, ICU=2, SEX=2),\n",
       " Row(USMER=1, MEDICAL_UNIT=3, PATIENT_TYPE=2, DATE_DIED='01/07/2020', INTUBED=1, PNEUMONIA=1, AGE=37, PREGNANT=97, DIABETES=1, COPD=2, ASTHMA=2, INMSUPR=2, HIPERTENSION=2, OTHER_DISEASE=2, CARDIOVASCULAR=2, OBESITY=1, RENAL_CHRONIC=2, TOBACCO=2, CLASIFFICATION_FINAL=3, ICU=2, SEX=2),\n",
       " Row(USMER=1, MEDICAL_UNIT=3, PATIENT_TYPE=2, DATE_DIED='01/07/2020', INTUBED=1, PNEUMONIA=1, AGE=56, PREGNANT=97, DIABETES=1, COPD=2, ASTHMA=2, INMSUPR=2, HIPERTENSION=1, OTHER_DISEASE=2, CARDIOVASCULAR=2, OBESITY=2, RENAL_CHRONIC=2, TOBACCO=2, CLASIFFICATION_FINAL=3, ICU=2, SEX=2),\n",
       " Row(USMER=1, MEDICAL_UNIT=3, PATIENT_TYPE=2, DATE_DIED='01/07/2020', INTUBED=1, PNEUMONIA=1, AGE=1, PREGNANT=97, DIABETES=2, COPD=2, ASTHMA=2, INMSUPR=2, HIPERTENSION=2, OTHER_DISEASE=2, CARDIOVASCULAR=2, OBESITY=2, RENAL_CHRONIC=2, TOBACCO=2, CLASIFFICATION_FINAL=3, ICU=1, SEX=2),\n",
       " Row(USMER=1, MEDICAL_UNIT=3, PATIENT_TYPE=2, DATE_DIED='01/07/2020', INTUBED=2, PNEUMONIA=1, AGE=52, PREGNANT=97, DIABETES=2, COPD=2, ASTHMA=2, INMSUPR=2, HIPERTENSION=2, OTHER_DISEASE=2, CARDIOVASCULAR=2, OBESITY=2, RENAL_CHRONIC=2, TOBACCO=2, CLASIFFICATION_FINAL=3, ICU=2, SEX=2),\n",
       " Row(USMER=2, MEDICAL_UNIT=3, PATIENT_TYPE=2, DATE_DIED='01/07/2020', INTUBED=2, PNEUMONIA=1, AGE=72, PREGNANT=97, DIABETES=2, COPD=2, ASTHMA=2, INMSUPR=2, HIPERTENSION=1, OTHER_DISEASE=2, CARDIOVASCULAR=2, OBESITY=2, RENAL_CHRONIC=2, TOBACCO=2, CLASIFFICATION_FINAL=3, ICU=2, SEX=2),\n",
       " Row(USMER=1, MEDICAL_UNIT=3, PATIENT_TYPE=2, DATE_DIED='01/07/2020', INTUBED=2, PNEUMONIA=1, AGE=83, PREGNANT=97, DIABETES=1, COPD=2, ASTHMA=2, INMSUPR=2, HIPERTENSION=1, OTHER_DISEASE=2, CARDIOVASCULAR=2, OBESITY=2, RENAL_CHRONIC=2, TOBACCO=2, CLASIFFICATION_FINAL=3, ICU=2, SEX=2),\n",
       " Row(USMER=2, MEDICAL_UNIT=3, PATIENT_TYPE=1, DATE_DIED='01/07/2020', INTUBED=97, PNEUMONIA=1, AGE=55, PREGNANT=97, DIABETES=1, COPD=2, ASTHMA=2, INMSUPR=2, HIPERTENSION=1, OTHER_DISEASE=2, CARDIOVASCULAR=2, OBESITY=2, RENAL_CHRONIC=1, TOBACCO=2, CLASIFFICATION_FINAL=4, ICU=97, SEX=2),\n",
       " Row(USMER=1, MEDICAL_UNIT=3, PATIENT_TYPE=2, DATE_DIED='01/07/2020', INTUBED=2, PNEUMONIA=2, AGE=53, PREGNANT=97, DIABETES=2, COPD=2, ASTHMA=2, INMSUPR=2, HIPERTENSION=1, OTHER_DISEASE=2, CARDIOVASCULAR=2, OBESITY=2, RENAL_CHRONIC=1, TOBACCO=2, CLASIFFICATION_FINAL=7, ICU=2, SEX=2),\n",
       " Row(USMER=2, MEDICAL_UNIT=3, PATIENT_TYPE=1, DATE_DIED='01/07/2020', INTUBED=97, PNEUMONIA=2, AGE=83, PREGNANT=97, DIABETES=2, COPD=2, ASTHMA=2, INMSUPR=2, HIPERTENSION=1, OTHER_DISEASE=2, CARDIOVASCULAR=2, OBESITY=2, RENAL_CHRONIC=2, TOBACCO=2, CLASIFFICATION_FINAL=7, ICU=97, SEX=2),\n",
       " Row(USMER=1, MEDICAL_UNIT=3, PATIENT_TYPE=2, DATE_DIED='02/07/2020', INTUBED=2, PNEUMONIA=1, AGE=66, PREGNANT=97, DIABETES=2, COPD=2, ASTHMA=2, INMSUPR=2, HIPERTENSION=2, OTHER_DISEASE=2, CARDIOVASCULAR=2, OBESITY=2, RENAL_CHRONIC=2, TOBACCO=2, CLASIFFICATION_FINAL=3, ICU=2, SEX=2),\n",
       " Row(USMER=1, MEDICAL_UNIT=3, PATIENT_TYPE=1, DATE_DIED='02/07/2020', INTUBED=97, PNEUMONIA=1, AGE=59, PREGNANT=97, DIABETES=1, COPD=2, ASTHMA=2, INMSUPR=2, HIPERTENSION=2, OTHER_DISEASE=2, CARDIOVASCULAR=1, OBESITY=2, RENAL_CHRONIC=2, TOBACCO=2, CLASIFFICATION_FINAL=3, ICU=97, SEX=2),\n",
       " Row(USMER=2, MEDICAL_UNIT=3, PATIENT_TYPE=2, DATE_DIED='02/07/2020', INTUBED=1, PNEUMONIA=1, AGE=74, PREGNANT=97, DIABETES=2, COPD=2, ASTHMA=2, INMSUPR=2, HIPERTENSION=2, OTHER_DISEASE=2, CARDIOVASCULAR=2, OBESITY=2, RENAL_CHRONIC=2, TOBACCO=2, CLASIFFICATION_FINAL=3, ICU=2, SEX=2),\n",
       " Row(USMER=2, MEDICAL_UNIT=3, PATIENT_TYPE=1, DATE_DIED='02/07/2020', INTUBED=97, PNEUMONIA=1, AGE=42, PREGNANT=97, DIABETES=1, COPD=2, ASTHMA=2, INMSUPR=2, HIPERTENSION=2, OTHER_DISEASE=2, CARDIOVASCULAR=2, OBESITY=2, RENAL_CHRONIC=2, TOBACCO=2, CLASIFFICATION_FINAL=3, ICU=97, SEX=2),\n",
       " Row(USMER=1, MEDICAL_UNIT=3, PATIENT_TYPE=2, DATE_DIED='02/07/2020', INTUBED=1, PNEUMONIA=1, AGE=45, PREGNANT=97, DIABETES=2, COPD=2, ASTHMA=2, INMSUPR=2, HIPERTENSION=2, OTHER_DISEASE=2, CARDIOVASCULAR=2, OBESITY=1, RENAL_CHRONIC=2, TOBACCO=2, CLASIFFICATION_FINAL=3, ICU=1, SEX=2),\n",
       " Row(USMER=1, MEDICAL_UNIT=3, PATIENT_TYPE=2, DATE_DIED='02/07/2020', INTUBED=1, PNEUMONIA=1, AGE=72, PREGNANT=97, DIABETES=1, COPD=2, ASTHMA=2, INMSUPR=2, HIPERTENSION=2, OTHER_DISEASE=2, CARDIOVASCULAR=2, OBESITY=2, RENAL_CHRONIC=2, TOBACCO=2, CLASIFFICATION_FINAL=3, ICU=2, SEX=2),\n",
       " Row(USMER=1, MEDICAL_UNIT=3, PATIENT_TYPE=2, DATE_DIED='02/07/2020', INTUBED=2, PNEUMONIA=2, AGE=50, PREGNANT=97, DIABETES=2, COPD=2, ASTHMA=2, INMSUPR=2, HIPERTENSION=2, OTHER_DISEASE=2, CARDIOVASCULAR=2, OBESITY=2, RENAL_CHRONIC=2, TOBACCO=2, CLASIFFICATION_FINAL=3, ICU=2, SEX=2),\n",
       " Row(USMER=1, MEDICAL_UNIT=3, PATIENT_TYPE=2, DATE_DIED='02/07/2020', INTUBED=99, PNEUMONIA=1, AGE=50, PREGNANT=97, DIABETES=2, COPD=2, ASTHMA=2, INMSUPR=2, HIPERTENSION=1, OTHER_DISEASE=2, CARDIOVASCULAR=2, OBESITY=1, RENAL_CHRONIC=2, TOBACCO=2, CLASIFFICATION_FINAL=3, ICU=99, SEX=2),\n",
       " Row(USMER=1, MEDICAL_UNIT=3, PATIENT_TYPE=1, DATE_DIED='02/07/2020', INTUBED=97, PNEUMONIA=1, AGE=67, PREGNANT=97, DIABETES=2, COPD=2, ASTHMA=2, INMSUPR=2, HIPERTENSION=2, OTHER_DISEASE=2, CARDIOVASCULAR=2, OBESITY=1, RENAL_CHRONIC=2, TOBACCO=2, CLASIFFICATION_FINAL=3, ICU=97, SEX=2),\n",
       " Row(USMER=1, MEDICAL_UNIT=3, PATIENT_TYPE=2, DATE_DIED='02/07/2020', INTUBED=2, PNEUMONIA=1, AGE=78, PREGNANT=97, DIABETES=1, COPD=2, ASTHMA=2, INMSUPR=2, HIPERTENSION=1, OTHER_DISEASE=2, CARDIOVASCULAR=2, OBESITY=1, RENAL_CHRONIC=2, TOBACCO=2, CLASIFFICATION_FINAL=3, ICU=2, SEX=2),\n",
       " Row(USMER=1, MEDICAL_UNIT=3, PATIENT_TYPE=2, DATE_DIED='02/07/2020', INTUBED=2, PNEUMONIA=1, AGE=42, PREGNANT=97, DIABETES=2, COPD=2, ASTHMA=2, INMSUPR=2, HIPERTENSION=2, OTHER_DISEASE=2, CARDIOVASCULAR=2, OBESITY=2, RENAL_CHRONIC=2, TOBACCO=2, CLASIFFICATION_FINAL=3, ICU=2, SEX=2),\n",
       " Row(USMER=1, MEDICAL_UNIT=3, PATIENT_TYPE=2, DATE_DIED='02/07/2020', INTUBED=2, PNEUMONIA=2, AGE=54, PREGNANT=97, DIABETES=1, COPD=2, ASTHMA=2, INMSUPR=2, HIPERTENSION=2, OTHER_DISEASE=2, CARDIOVASCULAR=2, OBESITY=2, RENAL_CHRONIC=2, TOBACCO=2, CLASIFFICATION_FINAL=3, ICU=2, SEX=2),\n",
       " Row(USMER=2, MEDICAL_UNIT=3, PATIENT_TYPE=2, DATE_DIED='02/07/2020', INTUBED=2, PNEUMONIA=1, AGE=66, PREGNANT=97, DIABETES=2, COPD=2, ASTHMA=2, INMSUPR=2, HIPERTENSION=2, OTHER_DISEASE=2, CARDIOVASCULAR=2, OBESITY=2, RENAL_CHRONIC=2, TOBACCO=2, CLASIFFICATION_FINAL=6, ICU=2, SEX=2),\n",
       " Row(USMER=2, MEDICAL_UNIT=3, PATIENT_TYPE=2, DATE_DIED='02/07/2020', INTUBED=2, PNEUMONIA=1, AGE=56, PREGNANT=97, DIABETES=2, COPD=2, ASTHMA=2, INMSUPR=2, HIPERTENSION=2, OTHER_DISEASE=2, CARDIOVASCULAR=2, OBESITY=2, RENAL_CHRONIC=1, TOBACCO=2, CLASIFFICATION_FINAL=7, ICU=2, SEX=2),\n",
       " Row(USMER=2, MEDICAL_UNIT=3, PATIENT_TYPE=2, DATE_DIED='02/07/2020', INTUBED=1, PNEUMONIA=1, AGE=63, PREGNANT=97, DIABETES=2, COPD=2, ASTHMA=2, INMSUPR=2, HIPERTENSION=2, OTHER_DISEASE=2, CARDIOVASCULAR=2, OBESITY=2, RENAL_CHRONIC=2, TOBACCO=2, CLASIFFICATION_FINAL=7, ICU=2, SEX=2),\n",
       " Row(USMER=2, MEDICAL_UNIT=3, PATIENT_TYPE=2, DATE_DIED='03/07/2020', INTUBED=1, PNEUMONIA=2, AGE=53, PREGNANT=97, DIABETES=98, COPD=98, ASTHMA=98, INMSUPR=98, HIPERTENSION=98, OTHER_DISEASE=98, CARDIOVASCULAR=98, OBESITY=98, RENAL_CHRONIC=98, TOBACCO=98, CLASIFFICATION_FINAL=2, ICU=2, SEX=2),\n",
       " Row(USMER=1, MEDICAL_UNIT=3, PATIENT_TYPE=1, DATE_DIED='03/07/2020', INTUBED=97, PNEUMONIA=1, AGE=56, PREGNANT=97, DIABETES=2, COPD=2, ASTHMA=2, INMSUPR=2, HIPERTENSION=2, OTHER_DISEASE=2, CARDIOVASCULAR=2, OBESITY=2, RENAL_CHRONIC=2, TOBACCO=2, CLASIFFICATION_FINAL=3, ICU=97, SEX=2),\n",
       " Row(USMER=1, MEDICAL_UNIT=3, PATIENT_TYPE=2, DATE_DIED='03/07/2020', INTUBED=1, PNEUMONIA=1, AGE=65, PREGNANT=97, DIABETES=2, COPD=1, ASTHMA=2, INMSUPR=2, HIPERTENSION=2, OTHER_DISEASE=2, CARDIOVASCULAR=2, OBESITY=1, RENAL_CHRONIC=2, TOBACCO=2, CLASIFFICATION_FINAL=3, ICU=1, SEX=2),\n",
       " Row(USMER=1, MEDICAL_UNIT=3, PATIENT_TYPE=2, DATE_DIED='03/07/2020', INTUBED=1, PNEUMONIA=1, AGE=65, PREGNANT=97, DIABETES=2, COPD=1, ASTHMA=2, INMSUPR=2, HIPERTENSION=1, OTHER_DISEASE=2, CARDIOVASCULAR=2, OBESITY=1, RENAL_CHRONIC=2, TOBACCO=2, CLASIFFICATION_FINAL=3, ICU=1, SEX=2),\n",
       " Row(USMER=2, MEDICAL_UNIT=3, PATIENT_TYPE=2, DATE_DIED='03/07/2020', INTUBED=1, PNEUMONIA=1, AGE=50, PREGNANT=97, DIABETES=1, COPD=2, ASTHMA=2, INMSUPR=2, HIPERTENSION=2, OTHER_DISEASE=2, CARDIOVASCULAR=2, OBESITY=2, RENAL_CHRONIC=2, TOBACCO=2, CLASIFFICATION_FINAL=3, ICU=2, SEX=2),\n",
       " Row(USMER=1, MEDICAL_UNIT=3, PATIENT_TYPE=1, DATE_DIED='03/07/2020', INTUBED=97, PNEUMONIA=2, AGE=45, PREGNANT=97, DIABETES=2, COPD=2, ASTHMA=2, INMSUPR=2, HIPERTENSION=2, OTHER_DISEASE=2, CARDIOVASCULAR=2, OBESITY=2, RENAL_CHRONIC=2, TOBACCO=2, CLASIFFICATION_FINAL=3, ICU=97, SEX=2),\n",
       " Row(USMER=2, MEDICAL_UNIT=3, PATIENT_TYPE=2, DATE_DIED='03/07/2020', INTUBED=2, PNEUMONIA=1, AGE=80, PREGNANT=97, DIABETES=1, COPD=1, ASTHMA=2, INMSUPR=2, HIPERTENSION=1, OTHER_DISEASE=2, CARDIOVASCULAR=2, OBESITY=2, RENAL_CHRONIC=2, TOBACCO=2, CLASIFFICATION_FINAL=3, ICU=2, SEX=2),\n",
       " Row(USMER=2, MEDICAL_UNIT=3, PATIENT_TYPE=2, DATE_DIED='03/07/2020', INTUBED=2, PNEUMONIA=1, AGE=72, PREGNANT=97, DIABETES=1, COPD=2, ASTHMA=2, INMSUPR=2, HIPERTENSION=1, OTHER_DISEASE=2, CARDIOVASCULAR=2, OBESITY=2, RENAL_CHRONIC=2, TOBACCO=2, CLASIFFICATION_FINAL=3, ICU=2, SEX=2),\n",
       " Row(USMER=2, MEDICAL_UNIT=3, PATIENT_TYPE=2, DATE_DIED='03/07/2020', INTUBED=2, PNEUMONIA=1, AGE=61, PREGNANT=97, DIABETES=2, COPD=2, ASTHMA=2, INMSUPR=2, HIPERTENSION=2, OTHER_DISEASE=2, CARDIOVASCULAR=2, OBESITY=2, RENAL_CHRONIC=2, TOBACCO=2, CLASIFFICATION_FINAL=4, ICU=2, SEX=2),\n",
       " Row(USMER=1, MEDICAL_UNIT=3, PATIENT_TYPE=2, DATE_DIED='03/07/2020', INTUBED=2, PNEUMONIA=2, AGE=75, PREGNANT=97, DIABETES=1, COPD=2, ASTHMA=2, INMSUPR=2, HIPERTENSION=1, OTHER_DISEASE=2, CARDIOVASCULAR=2, OBESITY=2, RENAL_CHRONIC=2, TOBACCO=2, CLASIFFICATION_FINAL=7, ICU=2, SEX=2),\n",
       " Row(USMER=1, MEDICAL_UNIT=3, PATIENT_TYPE=2, DATE_DIED='04/07/2020', INTUBED=1, PNEUMONIA=1, AGE=58, PREGNANT=97, DIABETES=2, COPD=2, ASTHMA=2, INMSUPR=2, HIPERTENSION=1, OTHER_DISEASE=2, CARDIOVASCULAR=2, OBESITY=2, RENAL_CHRONIC=2, TOBACCO=2, CLASIFFICATION_FINAL=2, ICU=1, SEX=2),\n",
       " Row(USMER=1, MEDICAL_UNIT=3, PATIENT_TYPE=1, DATE_DIED='04/07/2020', INTUBED=97, PNEUMONIA=2, AGE=67, PREGNANT=97, DIABETES=2, COPD=2, ASTHMA=2, INMSUPR=2, HIPERTENSION=2, OTHER_DISEASE=2, CARDIOVASCULAR=2, OBESITY=2, RENAL_CHRONIC=2, TOBACCO=2, CLASIFFICATION_FINAL=3, ICU=97, SEX=2),\n",
       " Row(USMER=1, MEDICAL_UNIT=3, PATIENT_TYPE=2, DATE_DIED='04/07/2020', INTUBED=2, PNEUMONIA=1, AGE=53, PREGNANT=97, DIABETES=1, COPD=2, ASTHMA=2, INMSUPR=2, HIPERTENSION=2, OTHER_DISEASE=2, CARDIOVASCULAR=2, OBESITY=2, RENAL_CHRONIC=2, TOBACCO=2, CLASIFFICATION_FINAL=3, ICU=2, SEX=2),\n",
       " Row(USMER=1, MEDICAL_UNIT=3, PATIENT_TYPE=2, DATE_DIED='04/07/2020', INTUBED=2, PNEUMONIA=1, AGE=74, PREGNANT=97, DIABETES=2, COPD=2, ASTHMA=2, INMSUPR=2, HIPERTENSION=2, OTHER_DISEASE=2, CARDIOVASCULAR=2, OBESITY=2, RENAL_CHRONIC=2, TOBACCO=2, CLASIFFICATION_FINAL=3, ICU=2, SEX=2),\n",
       " Row(USMER=2, MEDICAL_UNIT=3, PATIENT_TYPE=2, DATE_DIED='04/07/2020', INTUBED=99, PNEUMONIA=1, AGE=56, PREGNANT=97, DIABETES=2, COPD=2, ASTHMA=2, INMSUPR=2, HIPERTENSION=2, OTHER_DISEASE=2, CARDIOVASCULAR=2, OBESITY=2, RENAL_CHRONIC=2, TOBACCO=2, CLASIFFICATION_FINAL=3, ICU=99, SEX=2),\n",
       " Row(USMER=2, MEDICAL_UNIT=3, PATIENT_TYPE=2, DATE_DIED='04/07/2020', INTUBED=2, PNEUMONIA=1, AGE=43, PREGNANT=97, DIABETES=1, COPD=2, ASTHMA=2, INMSUPR=2, HIPERTENSION=1, OTHER_DISEASE=2, CARDIOVASCULAR=2, OBESITY=1, RENAL_CHRONIC=2, TOBACCO=2, CLASIFFICATION_FINAL=3, ICU=2, SEX=2),\n",
       " Row(USMER=1, MEDICAL_UNIT=3, PATIENT_TYPE=2, DATE_DIED='04/07/2020', INTUBED=2, PNEUMONIA=1, AGE=59, PREGNANT=97, DIABETES=1, COPD=2, ASTHMA=2, INMSUPR=2, HIPERTENSION=2, OTHER_DISEASE=2, CARDIOVASCULAR=2, OBESITY=2, RENAL_CHRONIC=2, TOBACCO=1, CLASIFFICATION_FINAL=3, ICU=2, SEX=2),\n",
       " Row(USMER=1, MEDICAL_UNIT=3, PATIENT_TYPE=2, DATE_DIED='04/07/2020', INTUBED=99, PNEUMONIA=2, AGE=47, PREGNANT=97, DIABETES=2, COPD=2, ASTHMA=2, INMSUPR=2, HIPERTENSION=1, OTHER_DISEASE=2, CARDIOVASCULAR=2, OBESITY=2, RENAL_CHRONIC=2, TOBACCO=2, CLASIFFICATION_FINAL=3, ICU=99, SEX=2),\n",
       " Row(USMER=1, MEDICAL_UNIT=3, PATIENT_TYPE=2, DATE_DIED='04/07/2020', INTUBED=1, PNEUMONIA=1, AGE=46, PREGNANT=97, DIABETES=2, COPD=2, ASTHMA=2, INMSUPR=2, HIPERTENSION=2, OTHER_DISEASE=2, CARDIOVASCULAR=2, OBESITY=2, RENAL_CHRONIC=2, TOBACCO=2, CLASIFFICATION_FINAL=3, ICU=2, SEX=2),\n",
       " Row(USMER=1, MEDICAL_UNIT=3, PATIENT_TYPE=2, DATE_DIED='04/07/2020', INTUBED=2, PNEUMONIA=1, AGE=56, PREGNANT=97, DIABETES=2, COPD=2, ASTHMA=2, INMSUPR=2, HIPERTENSION=2, OTHER_DISEASE=2, CARDIOVASCULAR=2, OBESITY=2, RENAL_CHRONIC=2, TOBACCO=2, CLASIFFICATION_FINAL=4, ICU=2, SEX=2),\n",
       " Row(USMER=1, MEDICAL_UNIT=3, PATIENT_TYPE=2, DATE_DIED='04/07/2020', INTUBED=1, PNEUMONIA=1, AGE=1, PREGNANT=97, DIABETES=2, COPD=2, ASTHMA=2, INMSUPR=2, HIPERTENSION=2, OTHER_DISEASE=2, CARDIOVASCULAR=2, OBESITY=2, RENAL_CHRONIC=2, TOBACCO=2, CLASIFFICATION_FINAL=7, ICU=1, SEX=2),\n",
       " Row(USMER=1, MEDICAL_UNIT=3, PATIENT_TYPE=2, DATE_DIED='04/07/2020', INTUBED=99, PNEUMONIA=1, AGE=65, PREGNANT=97, DIABETES=1, COPD=2, ASTHMA=2, INMSUPR=2, HIPERTENSION=2, OTHER_DISEASE=2, CARDIOVASCULAR=2, OBESITY=1, RENAL_CHRONIC=2, TOBACCO=2, CLASIFFICATION_FINAL=7, ICU=99, SEX=2),\n",
       " Row(USMER=1, MEDICAL_UNIT=3, PATIENT_TYPE=2, DATE_DIED='05/07/2020', INTUBED=2, PNEUMONIA=1, AGE=35, PREGNANT=97, DIABETES=2, COPD=2, ASTHMA=2, INMSUPR=2, HIPERTENSION=2, OTHER_DISEASE=2, CARDIOVASCULAR=2, OBESITY=2, RENAL_CHRONIC=2, TOBACCO=2, CLASIFFICATION_FINAL=3, ICU=2, SEX=2),\n",
       " Row(USMER=1, MEDICAL_UNIT=3, PATIENT_TYPE=1, DATE_DIED='05/07/2020', INTUBED=97, PNEUMONIA=1, AGE=49, PREGNANT=97, DIABETES=1, COPD=2, ASTHMA=2, INMSUPR=2, HIPERTENSION=2, OTHER_DISEASE=2, CARDIOVASCULAR=2, OBESITY=2, RENAL_CHRONIC=2, TOBACCO=2, CLASIFFICATION_FINAL=3, ICU=97, SEX=2),\n",
       " Row(USMER=2, MEDICAL_UNIT=3, PATIENT_TYPE=2, DATE_DIED='05/07/2020', INTUBED=2, PNEUMONIA=1, AGE=74, PREGNANT=97, DIABETES=1, COPD=2, ASTHMA=2, INMSUPR=2, HIPERTENSION=1, OTHER_DISEASE=2, CARDIOVASCULAR=2, OBESITY=1, RENAL_CHRONIC=2, TOBACCO=2, CLASIFFICATION_FINAL=3, ICU=2, SEX=2),\n",
       " Row(USMER=1, MEDICAL_UNIT=3, PATIENT_TYPE=2, DATE_DIED='05/07/2020', INTUBED=1, PNEUMONIA=1, AGE=42, PREGNANT=97, DIABETES=2, COPD=2, ASTHMA=2, INMSUPR=2, HIPERTENSION=2, OTHER_DISEASE=2, CARDIOVASCULAR=2, OBESITY=2, RENAL_CHRONIC=2, TOBACCO=2, CLASIFFICATION_FINAL=3, ICU=2, SEX=2),\n",
       " Row(USMER=1, MEDICAL_UNIT=3, PATIENT_TYPE=2, DATE_DIED='05/07/2020', INTUBED=1, PNEUMONIA=1, AGE=80, PREGNANT=97, DIABETES=2, COPD=1, ASTHMA=2, INMSUPR=2, HIPERTENSION=1, OTHER_DISEASE=2, CARDIOVASCULAR=1, OBESITY=1, RENAL_CHRONIC=2, TOBACCO=2, CLASIFFICATION_FINAL=3, ICU=2, SEX=2),\n",
       " Row(USMER=2, MEDICAL_UNIT=3, PATIENT_TYPE=1, DATE_DIED='05/07/2020', INTUBED=97, PNEUMONIA=1, AGE=100, PREGNANT=97, DIABETES=2, COPD=2, ASTHMA=2, INMSUPR=2, HIPERTENSION=1, OTHER_DISEASE=2, CARDIOVASCULAR=2, OBESITY=2, RENAL_CHRONIC=2, TOBACCO=2, CLASIFFICATION_FINAL=3, ICU=97, SEX=2),\n",
       " Row(USMER=1, MEDICAL_UNIT=3, PATIENT_TYPE=2, DATE_DIED='05/07/2020', INTUBED=1, PNEUMONIA=2, AGE=62, PREGNANT=97, DIABETES=2, COPD=2, ASTHMA=2, INMSUPR=2, HIPERTENSION=2, OTHER_DISEASE=2, CARDIOVASCULAR=2, OBESITY=2, RENAL_CHRONIC=1, TOBACCO=2, CLASIFFICATION_FINAL=5, ICU=2, SEX=2),\n",
       " Row(USMER=1, MEDICAL_UNIT=3, PATIENT_TYPE=2, DATE_DIED='05/07/2020', INTUBED=2, PNEUMONIA=1, AGE=60, PREGNANT=97, DIABETES=1, COPD=2, ASTHMA=2, INMSUPR=2, HIPERTENSION=1, OTHER_DISEASE=2, CARDIOVASCULAR=2, OBESITY=2, RENAL_CHRONIC=2, TOBACCO=2, CLASIFFICATION_FINAL=7, ICU=2, SEX=2),\n",
       " Row(USMER=2, MEDICAL_UNIT=3, PATIENT_TYPE=1, DATE_DIED='05/07/2020', INTUBED=97, PNEUMONIA=1, AGE=62, PREGNANT=97, DIABETES=1, COPD=2, ASTHMA=2, INMSUPR=2, HIPERTENSION=1, OTHER_DISEASE=2, CARDIOVASCULAR=2, OBESITY=2, RENAL_CHRONIC=1, TOBACCO=2, CLASIFFICATION_FINAL=7, ICU=97, SEX=2),\n",
       " Row(USMER=1, MEDICAL_UNIT=3, PATIENT_TYPE=2, DATE_DIED='05/07/2020', INTUBED=1, PNEUMONIA=1, AGE=61, PREGNANT=97, DIABETES=98, COPD=2, ASTHMA=2, INMSUPR=2, HIPERTENSION=98, OTHER_DISEASE=2, CARDIOVASCULAR=2, OBESITY=1, RENAL_CHRONIC=2, TOBACCO=1, CLASIFFICATION_FINAL=7, ICU=1, SEX=2),\n",
       " Row(USMER=1, MEDICAL_UNIT=3, PATIENT_TYPE=2, DATE_DIED='06/07/2020', INTUBED=1, PNEUMONIA=1, AGE=60, PREGNANT=97, DIABETES=2, COPD=2, ASTHMA=2, INMSUPR=2, HIPERTENSION=2, OTHER_DISEASE=2, CARDIOVASCULAR=2, OBESITY=2, RENAL_CHRONIC=2, TOBACCO=2, CLASIFFICATION_FINAL=3, ICU=1, SEX=2),\n",
       " Row(USMER=2, MEDICAL_UNIT=3, PATIENT_TYPE=2, DATE_DIED='06/07/2020', INTUBED=1, PNEUMONIA=1, AGE=50, PREGNANT=97, DIABETES=2, COPD=2, ASTHMA=2, INMSUPR=2, HIPERTENSION=2, OTHER_DISEASE=2, CARDIOVASCULAR=2, OBESITY=1, RENAL_CHRONIC=2, TOBACCO=2, CLASIFFICATION_FINAL=3, ICU=2, SEX=2),\n",
       " Row(USMER=1, MEDICAL_UNIT=3, PATIENT_TYPE=2, DATE_DIED='06/07/2020', INTUBED=1, PNEUMONIA=1, AGE=53, PREGNANT=97, DIABETES=1, COPD=2, ASTHMA=1, INMSUPR=2, HIPERTENSION=1, OTHER_DISEASE=2, CARDIOVASCULAR=2, OBESITY=1, RENAL_CHRONIC=2, TOBACCO=2, CLASIFFICATION_FINAL=3, ICU=2, SEX=2),\n",
       " Row(USMER=2, MEDICAL_UNIT=3, PATIENT_TYPE=2, DATE_DIED='06/07/2020', INTUBED=1, PNEUMONIA=1, AGE=30, PREGNANT=97, DIABETES=2, COPD=2, ASTHMA=2, INMSUPR=2, HIPERTENSION=2, OTHER_DISEASE=2, CARDIOVASCULAR=2, OBESITY=1, RENAL_CHRONIC=2, TOBACCO=2, CLASIFFICATION_FINAL=3, ICU=1, SEX=2),\n",
       " Row(USMER=1, MEDICAL_UNIT=3, PATIENT_TYPE=2, DATE_DIED='06/07/2020', INTUBED=1, PNEUMONIA=1, AGE=47, PREGNANT=97, DIABETES=2, COPD=2, ASTHMA=2, INMSUPR=2, HIPERTENSION=2, OTHER_DISEASE=2, CARDIOVASCULAR=2, OBESITY=2, RENAL_CHRONIC=2, TOBACCO=2, CLASIFFICATION_FINAL=3, ICU=2, SEX=2),\n",
       " Row(USMER=2, MEDICAL_UNIT=3, PATIENT_TYPE=2, DATE_DIED='06/07/2020', INTUBED=1, PNEUMONIA=1, AGE=67, PREGNANT=97, DIABETES=1, COPD=2, ASTHMA=2, INMSUPR=2, HIPERTENSION=1, OTHER_DISEASE=2, CARDIOVASCULAR=2, OBESITY=2, RENAL_CHRONIC=2, TOBACCO=2, CLASIFFICATION_FINAL=3, ICU=2, SEX=2),\n",
       " Row(USMER=1, MEDICAL_UNIT=3, PATIENT_TYPE=2, DATE_DIED='06/07/2020', INTUBED=2, PNEUMONIA=2, AGE=70, PREGNANT=97, DIABETES=2, COPD=2, ASTHMA=2, INMSUPR=2, HIPERTENSION=1, OTHER_DISEASE=2, CARDIOVASCULAR=2, OBESITY=2, RENAL_CHRONIC=2, TOBACCO=2, CLASIFFICATION_FINAL=3, ICU=2, SEX=2),\n",
       " Row(USMER=1, MEDICAL_UNIT=3, PATIENT_TYPE=2, DATE_DIED='06/07/2020', INTUBED=2, PNEUMONIA=1, AGE=60, PREGNANT=97, DIABETES=2, COPD=2, ASTHMA=2, INMSUPR=2, HIPERTENSION=2, OTHER_DISEASE=2, CARDIOVASCULAR=2, OBESITY=2, RENAL_CHRONIC=2, TOBACCO=2, CLASIFFICATION_FINAL=3, ICU=2, SEX=2),\n",
       " Row(USMER=2, MEDICAL_UNIT=3, PATIENT_TYPE=1, DATE_DIED='06/07/2020', INTUBED=97, PNEUMONIA=1, AGE=61, PREGNANT=97, DIABETES=2, COPD=2, ASTHMA=2, INMSUPR=2, HIPERTENSION=2, OTHER_DISEASE=2, CARDIOVASCULAR=2, OBESITY=2, RENAL_CHRONIC=2, TOBACCO=2, CLASIFFICATION_FINAL=3, ICU=97, SEX=2),\n",
       " Row(USMER=2, MEDICAL_UNIT=3, PATIENT_TYPE=2, DATE_DIED='06/07/2020', INTUBED=2, PNEUMONIA=1, AGE=67, PREGNANT=97, DIABETES=1, COPD=2, ASTHMA=2, INMSUPR=2, HIPERTENSION=1, OTHER_DISEASE=2, CARDIOVASCULAR=2, OBESITY=2, RENAL_CHRONIC=2, TOBACCO=2, CLASIFFICATION_FINAL=3, ICU=2, SEX=2),\n",
       " Row(USMER=1, MEDICAL_UNIT=3, PATIENT_TYPE=2, DATE_DIED='06/07/2020', INTUBED=1, PNEUMONIA=1, AGE=78, PREGNANT=97, DIABETES=2, COPD=2, ASTHMA=2, INMSUPR=2, HIPERTENSION=1, OTHER_DISEASE=2, CARDIOVASCULAR=2, OBESITY=2, RENAL_CHRONIC=2, TOBACCO=2, CLASIFFICATION_FINAL=3, ICU=1, SEX=2),\n",
       " Row(USMER=1, MEDICAL_UNIT=3, PATIENT_TYPE=1, DATE_DIED='06/07/2020', INTUBED=97, PNEUMONIA=2, AGE=37, PREGNANT=97, DIABETES=2, COPD=2, ASTHMA=2, INMSUPR=2, HIPERTENSION=2, OTHER_DISEASE=2, CARDIOVASCULAR=2, OBESITY=1, RENAL_CHRONIC=2, TOBACCO=2, CLASIFFICATION_FINAL=3, ICU=97, SEX=2),\n",
       " Row(USMER=1, MEDICAL_UNIT=3, PATIENT_TYPE=2, DATE_DIED='06/07/2020', INTUBED=2, PNEUMONIA=1, AGE=34, PREGNANT=97, DIABETES=2, COPD=2, ASTHMA=2, INMSUPR=2, HIPERTENSION=2, OTHER_DISEASE=2, CARDIOVASCULAR=2, OBESITY=1, RENAL_CHRONIC=2, TOBACCO=2, CLASIFFICATION_FINAL=3, ICU=2, SEX=2),\n",
       " Row(USMER=2, MEDICAL_UNIT=3, PATIENT_TYPE=2, DATE_DIED='06/07/2020', INTUBED=1, PNEUMONIA=1, AGE=74, PREGNANT=97, DIABETES=1, COPD=2, ASTHMA=2, INMSUPR=2, HIPERTENSION=1, OTHER_DISEASE=1, CARDIOVASCULAR=2, OBESITY=1, RENAL_CHRONIC=2, TOBACCO=2, CLASIFFICATION_FINAL=3, ICU=2, SEX=2),\n",
       " Row(USMER=2, MEDICAL_UNIT=3, PATIENT_TYPE=2, DATE_DIED='06/07/2020', INTUBED=99, PNEUMONIA=2, AGE=40, PREGNANT=97, DIABETES=2, COPD=2, ASTHMA=2, INMSUPR=2, HIPERTENSION=2, OTHER_DISEASE=2, CARDIOVASCULAR=2, OBESITY=2, RENAL_CHRONIC=2, TOBACCO=2, CLASIFFICATION_FINAL=3, ICU=99, SEX=2),\n",
       " Row(USMER=2, MEDICAL_UNIT=3, PATIENT_TYPE=2, DATE_DIED='06/07/2020', INTUBED=2, PNEUMONIA=2, AGE=85, PREGNANT=97, DIABETES=2, COPD=2, ASTHMA=2, INMSUPR=2, HIPERTENSION=1, OTHER_DISEASE=2, CARDIOVASCULAR=2, OBESITY=2, RENAL_CHRONIC=2, TOBACCO=2, CLASIFFICATION_FINAL=4, ICU=2, SEX=2),\n",
       " Row(USMER=2, MEDICAL_UNIT=3, PATIENT_TYPE=2, DATE_DIED='06/07/2020', INTUBED=2, PNEUMONIA=2, AGE=80, PREGNANT=97, DIABETES=2, COPD=2, ASTHMA=2, INMSUPR=2, HIPERTENSION=2, OTHER_DISEASE=2, CARDIOVASCULAR=2, OBESITY=2, RENAL_CHRONIC=2, TOBACCO=2, CLASIFFICATION_FINAL=5, ICU=2, SEX=2),\n",
       " Row(USMER=2, MEDICAL_UNIT=3, PATIENT_TYPE=2, DATE_DIED='06/07/2020', INTUBED=1, PNEUMONIA=1, AGE=36, PREGNANT=97, DIABETES=2, COPD=2, ASTHMA=2, INMSUPR=2, HIPERTENSION=2, OTHER_DISEASE=2, CARDIOVASCULAR=2, OBESITY=2, RENAL_CHRONIC=2, TOBACCO=2, CLASIFFICATION_FINAL=5, ICU=2, SEX=2),\n",
       " Row(USMER=2, MEDICAL_UNIT=3, PATIENT_TYPE=1, DATE_DIED='06/07/2020', INTUBED=97, PNEUMONIA=2, AGE=49, PREGNANT=97, DIABETES=2, COPD=2, ASTHMA=2, INMSUPR=2, HIPERTENSION=2, OTHER_DISEASE=2, CARDIOVASCULAR=2, OBESITY=2, RENAL_CHRONIC=2, TOBACCO=2, CLASIFFICATION_FINAL=7, ICU=97, SEX=2),\n",
       " Row(USMER=1, MEDICAL_UNIT=3, PATIENT_TYPE=2, DATE_DIED='06/07/2020', INTUBED=2, PNEUMONIA=2, AGE=47, PREGNANT=97, DIABETES=2, COPD=2, ASTHMA=2, INMSUPR=2, HIPERTENSION=1, OTHER_DISEASE=2, CARDIOVASCULAR=2, OBESITY=2, RENAL_CHRONIC=1, TOBACCO=1, CLASIFFICATION_FINAL=7, ICU=2, SEX=2),\n",
       " Row(USMER=1, MEDICAL_UNIT=3, PATIENT_TYPE=2, DATE_DIED='07/07/2020', INTUBED=1, PNEUMONIA=1, AGE=73, PREGNANT=97, DIABETES=2, COPD=2, ASTHMA=2, INMSUPR=2, HIPERTENSION=1, OTHER_DISEASE=2, CARDIOVASCULAR=2, OBESITY=2, RENAL_CHRONIC=2, TOBACCO=2, CLASIFFICATION_FINAL=3, ICU=1, SEX=2),\n",
       " Row(USMER=1, MEDICAL_UNIT=3, PATIENT_TYPE=1, DATE_DIED='07/07/2020', INTUBED=97, PNEUMONIA=1, AGE=65, PREGNANT=97, DIABETES=2, COPD=2, ASTHMA=2, INMSUPR=2, HIPERTENSION=2, OTHER_DISEASE=2, CARDIOVASCULAR=2, OBESITY=2, RENAL_CHRONIC=2, TOBACCO=2, CLASIFFICATION_FINAL=3, ICU=97, SEX=2),\n",
       " Row(USMER=1, MEDICAL_UNIT=3, PATIENT_TYPE=2, DATE_DIED='07/07/2020', INTUBED=2, PNEUMONIA=1, AGE=67, PREGNANT=97, DIABETES=2, COPD=2, ASTHMA=1, INMSUPR=2, HIPERTENSION=2, OTHER_DISEASE=2, CARDIOVASCULAR=2, OBESITY=2, RENAL_CHRONIC=2, TOBACCO=2, CLASIFFICATION_FINAL=3, ICU=2, SEX=2),\n",
       " Row(USMER=1, MEDICAL_UNIT=3, PATIENT_TYPE=2, DATE_DIED='07/07/2020', INTUBED=2, PNEUMONIA=1, AGE=51, PREGNANT=97, DIABETES=1, COPD=2, ASTHMA=2, INMSUPR=2, HIPERTENSION=2, OTHER_DISEASE=2, CARDIOVASCULAR=2, OBESITY=2, RENAL_CHRONIC=2, TOBACCO=2, CLASIFFICATION_FINAL=3, ICU=2, SEX=2),\n",
       " Row(USMER=1, MEDICAL_UNIT=3, PATIENT_TYPE=2, DATE_DIED='07/07/2020', INTUBED=2, PNEUMONIA=1, AGE=34, PREGNANT=97, DIABETES=2, COPD=2, ASTHMA=2, INMSUPR=1, HIPERTENSION=1, OTHER_DISEASE=2, CARDIOVASCULAR=2, OBESITY=2, RENAL_CHRONIC=2, TOBACCO=2, CLASIFFICATION_FINAL=3, ICU=2, SEX=2),\n",
       " Row(USMER=1, MEDICAL_UNIT=3, PATIENT_TYPE=2, DATE_DIED='07/07/2020', INTUBED=1, PNEUMONIA=1, AGE=73, PREGNANT=97, DIABETES=2, COPD=2, ASTHMA=2, INMSUPR=2, HIPERTENSION=1, OTHER_DISEASE=2, CARDIOVASCULAR=2, OBESITY=2, RENAL_CHRONIC=2, TOBACCO=2, CLASIFFICATION_FINAL=3, ICU=2, SEX=2),\n",
       " Row(USMER=1, MEDICAL_UNIT=3, PATIENT_TYPE=2, DATE_DIED='07/07/2020', INTUBED=2, PNEUMONIA=1, AGE=58, PREGNANT=97, DIABETES=2, COPD=2, ASTHMA=2, INMSUPR=2, HIPERTENSION=2, OTHER_DISEASE=2, CARDIOVASCULAR=2, OBESITY=2, RENAL_CHRONIC=2, TOBACCO=2, CLASIFFICATION_FINAL=3, ICU=2, SEX=2),\n",
       " Row(USMER=1, MEDICAL_UNIT=3, PATIENT_TYPE=2, DATE_DIED='07/07/2020', INTUBED=1, PNEUMONIA=1, AGE=67, PREGNANT=97, DIABETES=2, COPD=2, ASTHMA=2, INMSUPR=2, HIPERTENSION=1, OTHER_DISEASE=2, CARDIOVASCULAR=2, OBESITY=1, RENAL_CHRONIC=2, TOBACCO=2, CLASIFFICATION_FINAL=3, ICU=1, SEX=2),\n",
       " Row(USMER=1, MEDICAL_UNIT=3, PATIENT_TYPE=2, DATE_DIED='07/07/2020', INTUBED=2, PNEUMONIA=1, AGE=64, PREGNANT=97, DIABETES=2, COPD=2, ASTHMA=2, INMSUPR=2, HIPERTENSION=2, OTHER_DISEASE=2, CARDIOVASCULAR=1, OBESITY=2, RENAL_CHRONIC=2, TOBACCO=2, CLASIFFICATION_FINAL=3, ICU=2, SEX=2),\n",
       " Row(USMER=1, MEDICAL_UNIT=3, PATIENT_TYPE=2, DATE_DIED='07/07/2020', INTUBED=99, PNEUMONIA=1, AGE=51, PREGNANT=97, DIABETES=1, COPD=2, ASTHMA=2, INMSUPR=2, HIPERTENSION=1, OTHER_DISEASE=2, CARDIOVASCULAR=2, OBESITY=2, RENAL_CHRONIC=1, TOBACCO=2, CLASIFFICATION_FINAL=3, ICU=99, SEX=2),\n",
       " Row(USMER=1, MEDICAL_UNIT=3, PATIENT_TYPE=2, DATE_DIED='07/07/2020', INTUBED=1, PNEUMONIA=1, AGE=37, PREGNANT=97, DIABETES=2, COPD=2, ASTHMA=2, INMSUPR=2, HIPERTENSION=2, OTHER_DISEASE=2, CARDIOVASCULAR=2, OBESITY=2, RENAL_CHRONIC=2, TOBACCO=2, CLASIFFICATION_FINAL=3, ICU=2, SEX=2),\n",
       " Row(USMER=1, MEDICAL_UNIT=3, PATIENT_TYPE=2, DATE_DIED='07/07/2020', INTUBED=1, PNEUMONIA=1, AGE=58, PREGNANT=97, DIABETES=2, COPD=2, ASTHMA=2, INMSUPR=2, HIPERTENSION=2, OTHER_DISEASE=2, CARDIOVASCULAR=2, OBESITY=2, RENAL_CHRONIC=2, TOBACCO=2, CLASIFFICATION_FINAL=3, ICU=1, SEX=2),\n",
       " Row(USMER=1, MEDICAL_UNIT=3, PATIENT_TYPE=2, DATE_DIED='07/07/2020', INTUBED=99, PNEUMONIA=1, AGE=57, PREGNANT=97, DIABETES=1, COPD=2, ASTHMA=2, INMSUPR=2, HIPERTENSION=1, OTHER_DISEASE=2, CARDIOVASCULAR=1, OBESITY=1, RENAL_CHRONIC=2, TOBACCO=2, CLASIFFICATION_FINAL=3, ICU=99, SEX=2),\n",
       " Row(USMER=1, MEDICAL_UNIT=3, PATIENT_TYPE=2, DATE_DIED='07/07/2020', INTUBED=1, PNEUMONIA=1, AGE=73, PREGNANT=97, DIABETES=2, COPD=2, ASTHMA=2, INMSUPR=2, HIPERTENSION=1, OTHER_DISEASE=2, CARDIOVASCULAR=1, OBESITY=2, RENAL_CHRONIC=2, TOBACCO=2, CLASIFFICATION_FINAL=3, ICU=2, SEX=2),\n",
       " Row(USMER=1, MEDICAL_UNIT=3, PATIENT_TYPE=2, DATE_DIED='07/07/2020', INTUBED=1, PNEUMONIA=1, AGE=48, PREGNANT=97, DIABETES=2, COPD=2, ASTHMA=2, INMSUPR=2, HIPERTENSION=2, OTHER_DISEASE=2, CARDIOVASCULAR=2, OBESITY=2, RENAL_CHRONIC=2, TOBACCO=2, CLASIFFICATION_FINAL=4, ICU=2, SEX=2),\n",
       " Row(USMER=1, MEDICAL_UNIT=3, PATIENT_TYPE=2, DATE_DIED='07/07/2020', INTUBED=2, PNEUMONIA=1, AGE=47, PREGNANT=97, DIABETES=2, COPD=2, ASTHMA=2, INMSUPR=2, HIPERTENSION=2, OTHER_DISEASE=2, CARDIOVASCULAR=2, OBESITY=2, RENAL_CHRONIC=2, TOBACCO=2, CLASIFFICATION_FINAL=7, ICU=2, SEX=2),\n",
       " Row(USMER=1, MEDICAL_UNIT=3, PATIENT_TYPE=2, DATE_DIED='08/07/2020', INTUBED=1, PNEUMONIA=1, AGE=53, PREGNANT=97, DIABETES=2, COPD=2, ASTHMA=2, INMSUPR=2, HIPERTENSION=1, OTHER_DISEASE=2, CARDIOVASCULAR=2, OBESITY=2, RENAL_CHRONIC=2, TOBACCO=2, CLASIFFICATION_FINAL=3, ICU=2, SEX=2),\n",
       " Row(USMER=1, MEDICAL_UNIT=3, PATIENT_TYPE=2, DATE_DIED='08/07/2020', INTUBED=1, PNEUMONIA=1, AGE=62, PREGNANT=97, DIABETES=1, COPD=2, ASTHMA=2, INMSUPR=2, HIPERTENSION=1, OTHER_DISEASE=2, CARDIOVASCULAR=2, OBESITY=2, RENAL_CHRONIC=2, TOBACCO=2, CLASIFFICATION_FINAL=3, ICU=2, SEX=2),\n",
       " Row(USMER=2, MEDICAL_UNIT=3, PATIENT_TYPE=2, DATE_DIED='08/07/2020', INTUBED=1, PNEUMONIA=1, AGE=60, PREGNANT=97, DIABETES=1, COPD=2, ASTHMA=2, INMSUPR=2, HIPERTENSION=1, OTHER_DISEASE=2, CARDIOVASCULAR=2, OBESITY=2, RENAL_CHRONIC=2, TOBACCO=2, CLASIFFICATION_FINAL=3, ICU=2, SEX=2),\n",
       " Row(USMER=2, MEDICAL_UNIT=3, PATIENT_TYPE=2, DATE_DIED='08/07/2020', INTUBED=1, PNEUMONIA=1, AGE=49, PREGNANT=97, DIABETES=2, COPD=2, ASTHMA=2, INMSUPR=2, HIPERTENSION=2, OTHER_DISEASE=2, CARDIOVASCULAR=2, OBESITY=2, RENAL_CHRONIC=2, TOBACCO=2, CLASIFFICATION_FINAL=3, ICU=2, SEX=2),\n",
       " Row(USMER=1, MEDICAL_UNIT=3, PATIENT_TYPE=2, DATE_DIED='08/07/2020', INTUBED=1, PNEUMONIA=1, AGE=52, PREGNANT=97, DIABETES=2, COPD=2, ASTHMA=2, INMSUPR=2, HIPERTENSION=1, OTHER_DISEASE=2, CARDIOVASCULAR=2, OBESITY=1, RENAL_CHRONIC=2, TOBACCO=2, CLASIFFICATION_FINAL=3, ICU=2, SEX=2),\n",
       " Row(USMER=1, MEDICAL_UNIT=3, PATIENT_TYPE=2, DATE_DIED='08/07/2020', INTUBED=1, PNEUMONIA=1, AGE=50, PREGNANT=97, DIABETES=1, COPD=2, ASTHMA=1, INMSUPR=2, HIPERTENSION=1, OTHER_DISEASE=2, CARDIOVASCULAR=1, OBESITY=1, RENAL_CHRONIC=2, TOBACCO=2, CLASIFFICATION_FINAL=3, ICU=2, SEX=2),\n",
       " Row(USMER=1, MEDICAL_UNIT=3, PATIENT_TYPE=2, DATE_DIED='08/07/2020', INTUBED=2, PNEUMONIA=1, AGE=80, PREGNANT=97, DIABETES=2, COPD=2, ASTHMA=2, INMSUPR=2, HIPERTENSION=2, OTHER_DISEASE=2, CARDIOVASCULAR=2, OBESITY=2, RENAL_CHRONIC=2, TOBACCO=2, CLASIFFICATION_FINAL=3, ICU=2, SEX=2),\n",
       " Row(USMER=1, MEDICAL_UNIT=3, PATIENT_TYPE=2, DATE_DIED='08/07/2020', INTUBED=2, PNEUMONIA=1, AGE=84, PREGNANT=97, DIABETES=2, COPD=2, ASTHMA=2, INMSUPR=2, HIPERTENSION=2, OTHER_DISEASE=2, CARDIOVASCULAR=2, OBESITY=2, RENAL_CHRONIC=2, TOBACCO=2, CLASIFFICATION_FINAL=3, ICU=2, SEX=2),\n",
       " Row(USMER=1, MEDICAL_UNIT=3, PATIENT_TYPE=2, DATE_DIED='08/07/2020', INTUBED=2, PNEUMONIA=1, AGE=79, PREGNANT=97, DIABETES=2, COPD=2, ASTHMA=2, INMSUPR=2, HIPERTENSION=1, OTHER_DISEASE=2, CARDIOVASCULAR=2, OBESITY=2, RENAL_CHRONIC=2, TOBACCO=2, CLASIFFICATION_FINAL=3, ICU=2, SEX=2),\n",
       " Row(USMER=1, MEDICAL_UNIT=3, PATIENT_TYPE=2, DATE_DIED='08/07/2020', INTUBED=1, PNEUMONIA=1, AGE=51, PREGNANT=97, DIABETES=1, COPD=2, ASTHMA=2, INMSUPR=2, HIPERTENSION=1, OTHER_DISEASE=2, CARDIOVASCULAR=2, OBESITY=1, RENAL_CHRONIC=1, TOBACCO=2, CLASIFFICATION_FINAL=3, ICU=2, SEX=2),\n",
       " Row(USMER=1, MEDICAL_UNIT=3, PATIENT_TYPE=2, DATE_DIED='08/07/2020', INTUBED=2, PNEUMONIA=1, AGE=67, PREGNANT=97, DIABETES=2, COPD=2, ASTHMA=2, INMSUPR=2, HIPERTENSION=2, OTHER_DISEASE=2, CARDIOVASCULAR=2, OBESITY=2, RENAL_CHRONIC=2, TOBACCO=2, CLASIFFICATION_FINAL=3, ICU=2, SEX=2),\n",
       " Row(USMER=1, MEDICAL_UNIT=3, PATIENT_TYPE=1, DATE_DIED='08/07/2020', INTUBED=97, PNEUMONIA=1, AGE=46, PREGNANT=97, DIABETES=1, COPD=2, ASTHMA=2, INMSUPR=2, HIPERTENSION=2, OTHER_DISEASE=2, CARDIOVASCULAR=2, OBESITY=2, RENAL_CHRONIC=2, TOBACCO=1, CLASIFFICATION_FINAL=3, ICU=97, SEX=2),\n",
       " Row(USMER=1, MEDICAL_UNIT=3, PATIENT_TYPE=2, DATE_DIED='09/07/2020', INTUBED=1, PNEUMONIA=1, AGE=60, PREGNANT=97, DIABETES=2, COPD=2, ASTHMA=2, INMSUPR=2, HIPERTENSION=2, OTHER_DISEASE=2, CARDIOVASCULAR=2, OBESITY=2, RENAL_CHRONIC=2, TOBACCO=2, CLASIFFICATION_FINAL=3, ICU=1, SEX=2),\n",
       " Row(USMER=1, MEDICAL_UNIT=3, PATIENT_TYPE=2, DATE_DIED='09/07/2020', INTUBED=1, PNEUMONIA=1, AGE=84, PREGNANT=97, DIABETES=2, COPD=1, ASTHMA=2, INMSUPR=2, HIPERTENSION=2, OTHER_DISEASE=1, CARDIOVASCULAR=1, OBESITY=2, RENAL_CHRONIC=1, TOBACCO=1, CLASIFFICATION_FINAL=3, ICU=2, SEX=2),\n",
       " Row(USMER=1, MEDICAL_UNIT=3, PATIENT_TYPE=2, DATE_DIED='09/07/2020', INTUBED=1, PNEUMONIA=2, AGE=63, PREGNANT=97, DIABETES=2, COPD=2, ASTHMA=2, INMSUPR=2, HIPERTENSION=2, OTHER_DISEASE=2, CARDIOVASCULAR=2, OBESITY=2, RENAL_CHRONIC=2, TOBACCO=2, CLASIFFICATION_FINAL=3, ICU=2, SEX=2),\n",
       " Row(USMER=1, MEDICAL_UNIT=3, PATIENT_TYPE=1, DATE_DIED='09/07/2020', INTUBED=97, PNEUMONIA=1, AGE=49, PREGNANT=97, DIABETES=2, COPD=2, ASTHMA=2, INMSUPR=2, HIPERTENSION=2, OTHER_DISEASE=2, CARDIOVASCULAR=2, OBESITY=2, RENAL_CHRONIC=2, TOBACCO=2, CLASIFFICATION_FINAL=3, ICU=97, SEX=2),\n",
       " Row(USMER=2, MEDICAL_UNIT=3, PATIENT_TYPE=2, DATE_DIED='09/07/2020', INTUBED=99, PNEUMONIA=2, AGE=67, PREGNANT=97, DIABETES=1, COPD=2, ASTHMA=2, INMSUPR=2, HIPERTENSION=1, OTHER_DISEASE=2, CARDIOVASCULAR=2, OBESITY=2, RENAL_CHRONIC=2, TOBACCO=2, CLASIFFICATION_FINAL=3, ICU=99, SEX=2),\n",
       " Row(USMER=1, MEDICAL_UNIT=3, PATIENT_TYPE=2, DATE_DIED='09/07/2020', INTUBED=1, PNEUMONIA=1, AGE=67, PREGNANT=97, DIABETES=1, COPD=2, ASTHMA=2, INMSUPR=2, HIPERTENSION=1, OTHER_DISEASE=2, CARDIOVASCULAR=1, OBESITY=1, RENAL_CHRONIC=2, TOBACCO=2, CLASIFFICATION_FINAL=3, ICU=2, SEX=2),\n",
       " Row(USMER=1, MEDICAL_UNIT=3, PATIENT_TYPE=2, DATE_DIED='09/07/2020', INTUBED=1, PNEUMONIA=1, AGE=68, PREGNANT=97, DIABETES=2, COPD=2, ASTHMA=2, INMSUPR=2, HIPERTENSION=2, OTHER_DISEASE=2, CARDIOVASCULAR=2, OBESITY=2, RENAL_CHRONIC=2, TOBACCO=2, CLASIFFICATION_FINAL=3, ICU=2, SEX=2),\n",
       " Row(USMER=1, MEDICAL_UNIT=3, PATIENT_TYPE=2, DATE_DIED='09/07/2020', INTUBED=2, PNEUMONIA=1, AGE=52, PREGNANT=97, DIABETES=1, COPD=2, ASTHMA=2, INMSUPR=2, HIPERTENSION=1, OTHER_DISEASE=2, CARDIOVASCULAR=2, OBESITY=1, RENAL_CHRONIC=2, TOBACCO=1, CLASIFFICATION_FINAL=3, ICU=2, SEX=2),\n",
       " Row(USMER=1, MEDICAL_UNIT=3, PATIENT_TYPE=2, DATE_DIED='09/07/2020', INTUBED=1, PNEUMONIA=1, AGE=74, PREGNANT=97, DIABETES=2, COPD=2, ASTHMA=2, INMSUPR=2, HIPERTENSION=2, OTHER_DISEASE=2, CARDIOVASCULAR=2, OBESITY=2, RENAL_CHRONIC=2, TOBACCO=2, CLASIFFICATION_FINAL=7, ICU=2, SEX=2),\n",
       " Row(USMER=2, MEDICAL_UNIT=3, PATIENT_TYPE=2, DATE_DIED='10/07/2020', INTUBED=2, PNEUMONIA=1, AGE=47, PREGNANT=97, DIABETES=2, COPD=2, ASTHMA=2, INMSUPR=2, HIPERTENSION=2, OTHER_DISEASE=2, CARDIOVASCULAR=2, OBESITY=2, RENAL_CHRONIC=2, TOBACCO=2, CLASIFFICATION_FINAL=2, ICU=2, SEX=2),\n",
       " Row(USMER=1, MEDICAL_UNIT=3, PATIENT_TYPE=2, DATE_DIED='10/07/2020', INTUBED=1, PNEUMONIA=1, AGE=64, PREGNANT=97, DIABETES=2, COPD=2, ASTHMA=2, INMSUPR=2, HIPERTENSION=2, OTHER_DISEASE=2, CARDIOVASCULAR=2, OBESITY=2, RENAL_CHRONIC=2, TOBACCO=2, CLASIFFICATION_FINAL=3, ICU=2, SEX=2),\n",
       " Row(USMER=1, MEDICAL_UNIT=3, PATIENT_TYPE=2, DATE_DIED='10/07/2020', INTUBED=2, PNEUMONIA=1, AGE=73, PREGNANT=97, DIABETES=2, COPD=2, ASTHMA=2, INMSUPR=2, HIPERTENSION=1, OTHER_DISEASE=2, CARDIOVASCULAR=2, OBESITY=2, RENAL_CHRONIC=2, TOBACCO=2, CLASIFFICATION_FINAL=3, ICU=2, SEX=2),\n",
       " Row(USMER=1, MEDICAL_UNIT=3, PATIENT_TYPE=1, DATE_DIED='10/07/2020', INTUBED=97, PNEUMONIA=1, AGE=63, PREGNANT=97, DIABETES=1, COPD=1, ASTHMA=2, INMSUPR=2, HIPERTENSION=1, OTHER_DISEASE=2, CARDIOVASCULAR=2, OBESITY=2, RENAL_CHRONIC=1, TOBACCO=2, CLASIFFICATION_FINAL=3, ICU=97, SEX=2),\n",
       " Row(USMER=1, MEDICAL_UNIT=3, PATIENT_TYPE=2, DATE_DIED='10/07/2020', INTUBED=2, PNEUMONIA=1, AGE=75, PREGNANT=97, DIABETES=2, COPD=2, ASTHMA=2, INMSUPR=2, HIPERTENSION=2, OTHER_DISEASE=2, CARDIOVASCULAR=2, OBESITY=2, RENAL_CHRONIC=2, TOBACCO=2, CLASIFFICATION_FINAL=3, ICU=2, SEX=2),\n",
       " Row(USMER=1, MEDICAL_UNIT=3, PATIENT_TYPE=2, DATE_DIED='10/07/2020', INTUBED=1, PNEUMONIA=1, AGE=58, PREGNANT=97, DIABETES=2, COPD=2, ASTHMA=2, INMSUPR=2, HIPERTENSION=2, OTHER_DISEASE=2, CARDIOVASCULAR=2, OBESITY=2, RENAL_CHRONIC=2, TOBACCO=2, CLASIFFICATION_FINAL=3, ICU=2, SEX=2),\n",
       " Row(USMER=1, MEDICAL_UNIT=3, PATIENT_TYPE=2, DATE_DIED='10/07/2020', INTUBED=2, PNEUMONIA=1, AGE=61, PREGNANT=97, DIABETES=2, COPD=2, ASTHMA=2, INMSUPR=2, HIPERTENSION=2, OTHER_DISEASE=2, CARDIOVASCULAR=1, OBESITY=1, RENAL_CHRONIC=2, TOBACCO=2, CLASIFFICATION_FINAL=3, ICU=2, SEX=2),\n",
       " Row(USMER=2, MEDICAL_UNIT=3, PATIENT_TYPE=2, DATE_DIED='10/07/2020', INTUBED=2, PNEUMONIA=1, AGE=60, PREGNANT=97, DIABETES=1, COPD=1, ASTHMA=2, INMSUPR=2, HIPERTENSION=1, OTHER_DISEASE=2, CARDIOVASCULAR=2, OBESITY=1, RENAL_CHRONIC=2, TOBACCO=2, CLASIFFICATION_FINAL=3, ICU=2, SEX=2),\n",
       " Row(USMER=1, MEDICAL_UNIT=3, PATIENT_TYPE=2, DATE_DIED='10/07/2020', INTUBED=1, PNEUMONIA=1, AGE=49, PREGNANT=97, DIABETES=1, COPD=1, ASTHMA=2, INMSUPR=2, HIPERTENSION=1, OTHER_DISEASE=2, CARDIOVASCULAR=2, OBESITY=2, RENAL_CHRONIC=2, TOBACCO=2, CLASIFFICATION_FINAL=3, ICU=2, SEX=2),\n",
       " Row(USMER=1, MEDICAL_UNIT=3, PATIENT_TYPE=2, DATE_DIED='10/07/2020', INTUBED=2, PNEUMONIA=1, AGE=78, PREGNANT=97, DIABETES=2, COPD=2, ASTHMA=2, INMSUPR=2, HIPERTENSION=2, OTHER_DISEASE=2, CARDIOVASCULAR=2, OBESITY=2, RENAL_CHRONIC=2, TOBACCO=2, CLASIFFICATION_FINAL=3, ICU=2, SEX=2),\n",
       " Row(USMER=2, MEDICAL_UNIT=3, PATIENT_TYPE=2, DATE_DIED='10/07/2020', INTUBED=2, PNEUMONIA=1, AGE=68, PREGNANT=97, DIABETES=1, COPD=2, ASTHMA=2, INMSUPR=2, HIPERTENSION=1, OTHER_DISEASE=2, CARDIOVASCULAR=2, OBESITY=1, RENAL_CHRONIC=2, TOBACCO=2, CLASIFFICATION_FINAL=7, ICU=2, SEX=2),\n",
       " Row(USMER=2, MEDICAL_UNIT=3, PATIENT_TYPE=1, DATE_DIED='10/07/2020', INTUBED=97, PNEUMONIA=2, AGE=66, PREGNANT=97, DIABETES=1, COPD=2, ASTHMA=2, INMSUPR=2, HIPERTENSION=2, OTHER_DISEASE=2, CARDIOVASCULAR=2, OBESITY=2, RENAL_CHRONIC=2, TOBACCO=2, CLASIFFICATION_FINAL=7, ICU=97, SEX=2),\n",
       " Row(USMER=2, MEDICAL_UNIT=3, PATIENT_TYPE=1, DATE_DIED='10/07/2020', INTUBED=97, PNEUMONIA=2, AGE=76, PREGNANT=97, DIABETES=2, COPD=2, ASTHMA=2, INMSUPR=2, HIPERTENSION=2, OTHER_DISEASE=2, CARDIOVASCULAR=2, OBESITY=2, RENAL_CHRONIC=2, TOBACCO=2, CLASIFFICATION_FINAL=7, ICU=97, SEX=2),\n",
       " Row(USMER=2, MEDICAL_UNIT=3, PATIENT_TYPE=2, DATE_DIED='10/07/2020', INTUBED=2, PNEUMONIA=2, AGE=68, PREGNANT=97, DIABETES=1, COPD=2, ASTHMA=2, INMSUPR=2, HIPERTENSION=1, OTHER_DISEASE=2, CARDIOVASCULAR=2, OBESITY=1, RENAL_CHRONIC=2, TOBACCO=2, CLASIFFICATION_FINAL=7, ICU=2, SEX=2),\n",
       " Row(USMER=2, MEDICAL_UNIT=3, PATIENT_TYPE=2, DATE_DIED='11/07/2020', INTUBED=2, PNEUMONIA=1, AGE=53, PREGNANT=97, DIABETES=1, COPD=2, ASTHMA=2, INMSUPR=2, HIPERTENSION=1, OTHER_DISEASE=2, CARDIOVASCULAR=2, OBESITY=2, RENAL_CHRONIC=2, TOBACCO=2, CLASIFFICATION_FINAL=1, ICU=2, SEX=2),\n",
       " Row(USMER=1, MEDICAL_UNIT=3, PATIENT_TYPE=2, DATE_DIED='11/07/2020', INTUBED=1, PNEUMONIA=1, AGE=84, PREGNANT=97, DIABETES=2, COPD=2, ASTHMA=2, INMSUPR=2, HIPERTENSION=1, OTHER_DISEASE=1, CARDIOVASCULAR=2, OBESITY=2, RENAL_CHRONIC=2, TOBACCO=2, CLASIFFICATION_FINAL=3, ICU=2, SEX=2),\n",
       " Row(USMER=1, MEDICAL_UNIT=3, PATIENT_TYPE=2, DATE_DIED='11/07/2020', INTUBED=2, PNEUMONIA=1, AGE=62, PREGNANT=97, DIABETES=2, COPD=2, ASTHMA=2, INMSUPR=2, HIPERTENSION=2, OTHER_DISEASE=2, CARDIOVASCULAR=2, OBESITY=2, RENAL_CHRONIC=2, TOBACCO=2, CLASIFFICATION_FINAL=3, ICU=2, SEX=2),\n",
       " Row(USMER=2, MEDICAL_UNIT=3, PATIENT_TYPE=2, DATE_DIED='11/07/2020', INTUBED=2, PNEUMONIA=1, AGE=74, PREGNANT=97, DIABETES=2, COPD=1, ASTHMA=2, INMSUPR=2, HIPERTENSION=2, OTHER_DISEASE=2, CARDIOVASCULAR=2, OBESITY=2, RENAL_CHRONIC=2, TOBACCO=2, CLASIFFICATION_FINAL=3, ICU=2, SEX=2),\n",
       " Row(USMER=1, MEDICAL_UNIT=3, PATIENT_TYPE=2, DATE_DIED='11/07/2020', INTUBED=2, PNEUMONIA=1, AGE=44, PREGNANT=97, DIABETES=1, COPD=2, ASTHMA=2, INMSUPR=2, HIPERTENSION=2, OTHER_DISEASE=2, CARDIOVASCULAR=2, OBESITY=2, RENAL_CHRONIC=2, TOBACCO=2, CLASIFFICATION_FINAL=3, ICU=2, SEX=2),\n",
       " Row(USMER=2, MEDICAL_UNIT=3, PATIENT_TYPE=2, DATE_DIED='11/07/2020', INTUBED=2, PNEUMONIA=1, AGE=63, PREGNANT=97, DIABETES=1, COPD=2, ASTHMA=2, INMSUPR=2, HIPERTENSION=1, OTHER_DISEASE=2, CARDIOVASCULAR=1, OBESITY=1, RENAL_CHRONIC=1, TOBACCO=1, CLASIFFICATION_FINAL=3, ICU=2, SEX=2),\n",
       " Row(USMER=1, MEDICAL_UNIT=3, PATIENT_TYPE=1, DATE_DIED='11/07/2020', INTUBED=97, PNEUMONIA=1, AGE=55, PREGNANT=97, DIABETES=2, COPD=2, ASTHMA=2, INMSUPR=2, HIPERTENSION=1, OTHER_DISEASE=2, CARDIOVASCULAR=2, OBESITY=2, RENAL_CHRONIC=2, TOBACCO=2, CLASIFFICATION_FINAL=3, ICU=97, SEX=2),\n",
       " Row(USMER=2, MEDICAL_UNIT=3, PATIENT_TYPE=2, DATE_DIED='11/07/2020', INTUBED=2, PNEUMONIA=1, AGE=58, PREGNANT=97, DIABETES=1, COPD=2, ASTHMA=2, INMSUPR=2, HIPERTENSION=2, OTHER_DISEASE=2, CARDIOVASCULAR=2, OBESITY=2, RENAL_CHRONIC=2, TOBACCO=2, CLASIFFICATION_FINAL=3, ICU=2, SEX=2),\n",
       " Row(USMER=1, MEDICAL_UNIT=3, PATIENT_TYPE=2, DATE_DIED='11/07/2020', INTUBED=1, PNEUMONIA=1, AGE=62, PREGNANT=97, DIABETES=1, COPD=2, ASTHMA=2, INMSUPR=2, HIPERTENSION=1, OTHER_DISEASE=2, CARDIOVASCULAR=2, OBESITY=2, RENAL_CHRONIC=2, TOBACCO=2, CLASIFFICATION_FINAL=3, ICU=2, SEX=2),\n",
       " Row(USMER=1, MEDICAL_UNIT=3, PATIENT_TYPE=2, DATE_DIED='11/07/2020', INTUBED=99, PNEUMONIA=1, AGE=83, PREGNANT=97, DIABETES=2, COPD=2, ASTHMA=2, INMSUPR=2, HIPERTENSION=1, OTHER_DISEASE=2, CARDIOVASCULAR=2, OBESITY=1, RENAL_CHRONIC=2, TOBACCO=2, CLASIFFICATION_FINAL=3, ICU=99, SEX=2),\n",
       " Row(USMER=2, MEDICAL_UNIT=3, PATIENT_TYPE=2, DATE_DIED='11/07/2020', INTUBED=2, PNEUMONIA=1, AGE=51, PREGNANT=97, DIABETES=1, COPD=2, ASTHMA=2, INMSUPR=2, HIPERTENSION=1, OTHER_DISEASE=2, CARDIOVASCULAR=1, OBESITY=2, RENAL_CHRONIC=1, TOBACCO=2, CLASIFFICATION_FINAL=3, ICU=2, SEX=2),\n",
       " Row(USMER=1, MEDICAL_UNIT=3, PATIENT_TYPE=2, DATE_DIED='11/07/2020', INTUBED=1, PNEUMONIA=1, AGE=44, PREGNANT=97, DIABETES=1, COPD=2, ASTHMA=2, INMSUPR=2, HIPERTENSION=1, OTHER_DISEASE=2, CARDIOVASCULAR=2, OBESITY=1, RENAL_CHRONIC=2, TOBACCO=2, CLASIFFICATION_FINAL=3, ICU=2, SEX=2),\n",
       " Row(USMER=1, MEDICAL_UNIT=3, PATIENT_TYPE=2, DATE_DIED='11/07/2020', INTUBED=1, PNEUMONIA=1, AGE=56, PREGNANT=97, DIABETES=2, COPD=2, ASTHMA=2, INMSUPR=2, HIPERTENSION=1, OTHER_DISEASE=2, CARDIOVASCULAR=2, OBESITY=2, RENAL_CHRONIC=2, TOBACCO=2, CLASIFFICATION_FINAL=3, ICU=2, SEX=2),\n",
       " Row(USMER=2, MEDICAL_UNIT=3, PATIENT_TYPE=2, DATE_DIED='11/07/2020', INTUBED=1, PNEUMONIA=1, AGE=62, PREGNANT=97, DIABETES=1, COPD=2, ASTHMA=2, INMSUPR=2, HIPERTENSION=1, OTHER_DISEASE=2, CARDIOVASCULAR=1, OBESITY=1, RENAL_CHRONIC=2, TOBACCO=2, CLASIFFICATION_FINAL=3, ICU=2, SEX=2),\n",
       " Row(USMER=2, MEDICAL_UNIT=3, PATIENT_TYPE=2, DATE_DIED='11/07/2020', INTUBED=2, PNEUMONIA=1, AGE=64, PREGNANT=97, DIABETES=1, COPD=2, ASTHMA=2, INMSUPR=2, HIPERTENSION=1, OTHER_DISEASE=2, CARDIOVASCULAR=2, OBESITY=2, RENAL_CHRONIC=1, TOBACCO=2, CLASIFFICATION_FINAL=3, ICU=2, SEX=2),\n",
       " Row(USMER=2, MEDICAL_UNIT=3, PATIENT_TYPE=2, DATE_DIED='11/07/2020', INTUBED=2, PNEUMONIA=1, AGE=77, PREGNANT=97, DIABETES=1, COPD=1, ASTHMA=2, INMSUPR=2, HIPERTENSION=1, OTHER_DISEASE=2, CARDIOVASCULAR=2, OBESITY=2, RENAL_CHRONIC=1, TOBACCO=2, CLASIFFICATION_FINAL=3, ICU=2, SEX=2),\n",
       " Row(USMER=1, MEDICAL_UNIT=3, PATIENT_TYPE=2, DATE_DIED='11/07/2020', INTUBED=2, PNEUMONIA=1, AGE=44, PREGNANT=97, DIABETES=2, COPD=2, ASTHMA=2, INMSUPR=2, HIPERTENSION=2, OTHER_DISEASE=2, CARDIOVASCULAR=2, OBESITY=2, RENAL_CHRONIC=2, TOBACCO=2, CLASIFFICATION_FINAL=4, ICU=2, SEX=2),\n",
       " Row(USMER=2, MEDICAL_UNIT=3, PATIENT_TYPE=2, DATE_DIED='11/07/2020', INTUBED=99, PNEUMONIA=2, AGE=60, PREGNANT=97, DIABETES=2, COPD=2, ASTHMA=2, INMSUPR=2, HIPERTENSION=1, OTHER_DISEASE=2, CARDIOVASCULAR=2, OBESITY=2, RENAL_CHRONIC=2, TOBACCO=2, CLASIFFICATION_FINAL=7, ICU=99, SEX=2),\n",
       " Row(USMER=1, MEDICAL_UNIT=3, PATIENT_TYPE=2, DATE_DIED='12/07/2020', INTUBED=1, PNEUMONIA=1, AGE=88, PREGNANT=97, DIABETES=2, COPD=2, ASTHMA=2, INMSUPR=2, HIPERTENSION=2, OTHER_DISEASE=2, CARDIOVASCULAR=2, OBESITY=2, RENAL_CHRONIC=2, TOBACCO=2, CLASIFFICATION_FINAL=3, ICU=2, SEX=2),\n",
       " Row(USMER=2, MEDICAL_UNIT=3, PATIENT_TYPE=2, DATE_DIED='12/07/2020', INTUBED=99, PNEUMONIA=2, AGE=68, PREGNANT=97, DIABETES=2, COPD=2, ASTHMA=2, INMSUPR=2, HIPERTENSION=2, OTHER_DISEASE=2, CARDIOVASCULAR=2, OBESITY=2, RENAL_CHRONIC=2, TOBACCO=2, CLASIFFICATION_FINAL=3, ICU=99, SEX=2),\n",
       " Row(USMER=1, MEDICAL_UNIT=3, PATIENT_TYPE=2, DATE_DIED='12/07/2020', INTUBED=99, PNEUMONIA=1, AGE=68, PREGNANT=97, DIABETES=2, COPD=2, ASTHMA=2, INMSUPR=2, HIPERTENSION=1, OTHER_DISEASE=2, CARDIOVASCULAR=2, OBESITY=2, RENAL_CHRONIC=2, TOBACCO=2, CLASIFFICATION_FINAL=3, ICU=99, SEX=2),\n",
       " Row(USMER=1, MEDICAL_UNIT=3, PATIENT_TYPE=2, DATE_DIED='12/07/2020', INTUBED=1, PNEUMONIA=1, AGE=81, PREGNANT=97, DIABETES=2, COPD=2, ASTHMA=2, INMSUPR=2, HIPERTENSION=2, OTHER_DISEASE=2, CARDIOVASCULAR=2, OBESITY=2, RENAL_CHRONIC=2, TOBACCO=1, CLASIFFICATION_FINAL=3, ICU=1, SEX=2),\n",
       " Row(USMER=2, MEDICAL_UNIT=3, PATIENT_TYPE=1, DATE_DIED='12/07/2020', INTUBED=97, PNEUMONIA=1, AGE=65, PREGNANT=97, DIABETES=2, COPD=2, ASTHMA=2, INMSUPR=2, HIPERTENSION=2, OTHER_DISEASE=2, CARDIOVASCULAR=2, OBESITY=2, RENAL_CHRONIC=2, TOBACCO=2, CLASIFFICATION_FINAL=7, ICU=97, SEX=2),\n",
       " Row(USMER=1, MEDICAL_UNIT=3, PATIENT_TYPE=2, DATE_DIED='13/07/2020', INTUBED=1, PNEUMONIA=1, AGE=68, PREGNANT=97, DIABETES=2, COPD=2, ASTHMA=2, INMSUPR=2, HIPERTENSION=1, OTHER_DISEASE=2, CARDIOVASCULAR=2, OBESITY=1, RENAL_CHRONIC=2, TOBACCO=2, CLASIFFICATION_FINAL=3, ICU=1, SEX=2),\n",
       " Row(USMER=1, MEDICAL_UNIT=3, PATIENT_TYPE=2, DATE_DIED='13/07/2020', INTUBED=1, PNEUMONIA=1, AGE=81, PREGNANT=97, DIABETES=2, COPD=2, ASTHMA=2, INMSUPR=2, HIPERTENSION=2, OTHER_DISEASE=2, CARDIOVASCULAR=2, OBESITY=1, RENAL_CHRONIC=2, TOBACCO=2, CLASIFFICATION_FINAL=3, ICU=1, SEX=2),\n",
       " Row(USMER=2, MEDICAL_UNIT=3, PATIENT_TYPE=2, DATE_DIED='13/07/2020', INTUBED=1, PNEUMONIA=1, AGE=59, PREGNANT=97, DIABETES=1, COPD=2, ASTHMA=2, INMSUPR=2, HIPERTENSION=1, OTHER_DISEASE=2, CARDIOVASCULAR=2, OBESITY=1, RENAL_CHRONIC=2, TOBACCO=2, CLASIFFICATION_FINAL=3, ICU=2, SEX=2),\n",
       " Row(USMER=1, MEDICAL_UNIT=3, PATIENT_TYPE=1, DATE_DIED='13/07/2020', INTUBED=97, PNEUMONIA=1, AGE=49, PREGNANT=97, DIABETES=2, COPD=2, ASTHMA=2, INMSUPR=2, HIPERTENSION=2, OTHER_DISEASE=2, CARDIOVASCULAR=2, OBESITY=2, RENAL_CHRONIC=2, TOBACCO=2, CLASIFFICATION_FINAL=3, ICU=97, SEX=2),\n",
       " Row(USMER=2, MEDICAL_UNIT=3, PATIENT_TYPE=2, DATE_DIED='13/07/2020', INTUBED=2, PNEUMONIA=1, AGE=46, PREGNANT=97, DIABETES=1, COPD=2, ASTHMA=2, INMSUPR=2, HIPERTENSION=2, OTHER_DISEASE=2, CARDIOVASCULAR=2, OBESITY=2, RENAL_CHRONIC=2, TOBACCO=2, CLASIFFICATION_FINAL=3, ICU=2, SEX=2),\n",
       " Row(USMER=1, MEDICAL_UNIT=3, PATIENT_TYPE=1, DATE_DIED='13/07/2020', INTUBED=97, PNEUMONIA=1, AGE=75, PREGNANT=97, DIABETES=1, COPD=2, ASTHMA=2, INMSUPR=2, HIPERTENSION=1, OTHER_DISEASE=2, CARDIOVASCULAR=2, OBESITY=2, RENAL_CHRONIC=1, TOBACCO=2, CLASIFFICATION_FINAL=3, ICU=97, SEX=2),\n",
       " Row(USMER=2, MEDICAL_UNIT=3, PATIENT_TYPE=2, DATE_DIED='13/07/2020', INTUBED=2, PNEUMONIA=2, AGE=85, PREGNANT=97, DIABETES=2, COPD=2, ASTHMA=2, INMSUPR=2, HIPERTENSION=2, OTHER_DISEASE=2, CARDIOVASCULAR=2, OBESITY=2, RENAL_CHRONIC=2, TOBACCO=2, CLASIFFICATION_FINAL=3, ICU=2, SEX=2),\n",
       " Row(USMER=2, MEDICAL_UNIT=3, PATIENT_TYPE=2, DATE_DIED='13/07/2020', INTUBED=2, PNEUMONIA=1, AGE=67, PREGNANT=97, DIABETES=1, COPD=2, ASTHMA=2, INMSUPR=2, HIPERTENSION=1, OTHER_DISEASE=2, CARDIOVASCULAR=2, OBESITY=1, RENAL_CHRONIC=2, TOBACCO=2, CLASIFFICATION_FINAL=3, ICU=1, SEX=2),\n",
       " Row(USMER=2, MEDICAL_UNIT=3, PATIENT_TYPE=2, DATE_DIED='13/07/2020', INTUBED=1, PNEUMONIA=1, AGE=75, PREGNANT=97, DIABETES=1, COPD=2, ASTHMA=2, INMSUPR=2, HIPERTENSION=1, OTHER_DISEASE=2, CARDIOVASCULAR=2, OBESITY=2, RENAL_CHRONIC=2, TOBACCO=1, CLASIFFICATION_FINAL=3, ICU=1, SEX=2),\n",
       " Row(USMER=1, MEDICAL_UNIT=3, PATIENT_TYPE=2, DATE_DIED='13/07/2020', INTUBED=1, PNEUMONIA=1, AGE=77, PREGNANT=97, DIABETES=2, COPD=2, ASTHMA=2, INMSUPR=2, HIPERTENSION=2, OTHER_DISEASE=2, CARDIOVASCULAR=2, OBESITY=2, RENAL_CHRONIC=2, TOBACCO=2, CLASIFFICATION_FINAL=7, ICU=1, SEX=2),\n",
       " Row(USMER=1, MEDICAL_UNIT=3, PATIENT_TYPE=2, DATE_DIED='14/07/2020', INTUBED=2, PNEUMONIA=1, AGE=61, PREGNANT=97, DIABETES=2, COPD=2, ASTHMA=2, INMSUPR=2, HIPERTENSION=2, OTHER_DISEASE=2, CARDIOVASCULAR=2, OBESITY=2, RENAL_CHRONIC=2, TOBACCO=2, CLASIFFICATION_FINAL=1, ICU=2, SEX=2),\n",
       " Row(USMER=2, MEDICAL_UNIT=3, PATIENT_TYPE=2, DATE_DIED='14/07/2020', INTUBED=2, PNEUMONIA=1, AGE=57, PREGNANT=97, DIABETES=2, COPD=2, ASTHMA=2, INMSUPR=2, HIPERTENSION=2, OTHER_DISEASE=2, CARDIOVASCULAR=2, OBESITY=2, RENAL_CHRONIC=2, TOBACCO=2, CLASIFFICATION_FINAL=2, ICU=2, SEX=2),\n",
       " Row(USMER=1, MEDICAL_UNIT=3, PATIENT_TYPE=2, DATE_DIED='14/07/2020', INTUBED=2, PNEUMONIA=1, AGE=46, PREGNANT=97, DIABETES=1, COPD=2, ASTHMA=2, INMSUPR=2, HIPERTENSION=1, OTHER_DISEASE=2, CARDIOVASCULAR=2, OBESITY=1, RENAL_CHRONIC=2, TOBACCO=2, CLASIFFICATION_FINAL=3, ICU=2, SEX=2),\n",
       " Row(USMER=1, MEDICAL_UNIT=3, PATIENT_TYPE=2, DATE_DIED='14/07/2020', INTUBED=1, PNEUMONIA=1, AGE=67, PREGNANT=97, DIABETES=2, COPD=2, ASTHMA=2, INMSUPR=2, HIPERTENSION=1, OTHER_DISEASE=2, CARDIOVASCULAR=2, OBESITY=2, RENAL_CHRONIC=2, TOBACCO=2, CLASIFFICATION_FINAL=3, ICU=2, SEX=2),\n",
       " Row(USMER=1, MEDICAL_UNIT=3, PATIENT_TYPE=2, DATE_DIED='14/07/2020', INTUBED=2, PNEUMONIA=1, AGE=46, PREGNANT=97, DIABETES=1, COPD=2, ASTHMA=2, INMSUPR=2, HIPERTENSION=1, OTHER_DISEASE=2, CARDIOVASCULAR=2, OBESITY=2, RENAL_CHRONIC=1, TOBACCO=2, CLASIFFICATION_FINAL=3, ICU=2, SEX=2),\n",
       " Row(USMER=1, MEDICAL_UNIT=3, PATIENT_TYPE=2, DATE_DIED='14/07/2020', INTUBED=99, PNEUMONIA=1, AGE=65, PREGNANT=97, DIABETES=2, COPD=2, ASTHMA=2, INMSUPR=2, HIPERTENSION=1, OTHER_DISEASE=2, CARDIOVASCULAR=2, OBESITY=1, RENAL_CHRONIC=2, TOBACCO=2, CLASIFFICATION_FINAL=3, ICU=99, SEX=2),\n",
       " Row(USMER=2, MEDICAL_UNIT=3, PATIENT_TYPE=2, DATE_DIED='14/07/2020', INTUBED=1, PNEUMONIA=1, AGE=50, PREGNANT=97, DIABETES=2, COPD=2, ASTHMA=2, INMSUPR=2, HIPERTENSION=2, OTHER_DISEASE=2, CARDIOVASCULAR=2, OBESITY=2, RENAL_CHRONIC=2, TOBACCO=2, CLASIFFICATION_FINAL=3, ICU=2, SEX=2),\n",
       " Row(USMER=1, MEDICAL_UNIT=3, PATIENT_TYPE=2, DATE_DIED='14/07/2020', INTUBED=1, PNEUMONIA=1, AGE=87, PREGNANT=97, DIABETES=2, COPD=2, ASTHMA=2, INMSUPR=2, HIPERTENSION=1, OTHER_DISEASE=2, CARDIOVASCULAR=2, OBESITY=2, RENAL_CHRONIC=2, TOBACCO=2, CLASIFFICATION_FINAL=3, ICU=2, SEX=2),\n",
       " Row(USMER=1, MEDICAL_UNIT=3, PATIENT_TYPE=2, DATE_DIED='14/07/2020', INTUBED=2, PNEUMONIA=1, AGE=70, PREGNANT=97, DIABETES=2, COPD=2, ASTHMA=2, INMSUPR=2, HIPERTENSION=1, OTHER_DISEASE=2, CARDIOVASCULAR=2, OBESITY=1, RENAL_CHRONIC=2, TOBACCO=2, CLASIFFICATION_FINAL=3, ICU=2, SEX=2),\n",
       " Row(USMER=1, MEDICAL_UNIT=3, PATIENT_TYPE=2, DATE_DIED='14/07/2020', INTUBED=1, PNEUMONIA=1, AGE=66, PREGNANT=97, DIABETES=1, COPD=2, ASTHMA=2, INMSUPR=2, HIPERTENSION=1, OTHER_DISEASE=2, CARDIOVASCULAR=2, OBESITY=1, RENAL_CHRONIC=1, TOBACCO=2, CLASIFFICATION_FINAL=7, ICU=2, SEX=2),\n",
       " Row(USMER=1, MEDICAL_UNIT=3, PATIENT_TYPE=2, DATE_DIED='15/07/2020', INTUBED=1, PNEUMONIA=1, AGE=80, PREGNANT=97, DIABETES=1, COPD=2, ASTHMA=2, INMSUPR=2, HIPERTENSION=1, OTHER_DISEASE=2, CARDIOVASCULAR=2, OBESITY=1, RENAL_CHRONIC=2, TOBACCO=2, CLASIFFICATION_FINAL=3, ICU=1, SEX=2),\n",
       " Row(USMER=1, MEDICAL_UNIT=3, PATIENT_TYPE=2, DATE_DIED='15/07/2020', INTUBED=1, PNEUMONIA=1, AGE=34, PREGNANT=97, DIABETES=2, COPD=2, ASTHMA=2, INMSUPR=2, HIPERTENSION=2, OTHER_DISEASE=2, CARDIOVASCULAR=2, OBESITY=1, RENAL_CHRONIC=2, TOBACCO=2, CLASIFFICATION_FINAL=3, ICU=2, SEX=2),\n",
       " Row(USMER=1, MEDICAL_UNIT=3, PATIENT_TYPE=2, DATE_DIED='15/07/2020', INTUBED=1, PNEUMONIA=1, AGE=71, PREGNANT=97, DIABETES=2, COPD=2, ASTHMA=2, INMSUPR=2, HIPERTENSION=2, OTHER_DISEASE=2, CARDIOVASCULAR=2, OBESITY=2, RENAL_CHRONIC=2, TOBACCO=2, CLASIFFICATION_FINAL=3, ICU=1, SEX=2),\n",
       " Row(USMER=2, MEDICAL_UNIT=3, PATIENT_TYPE=1, DATE_DIED='15/07/2020', INTUBED=97, PNEUMONIA=1, AGE=27, PREGNANT=97, DIABETES=2, COPD=2, ASTHMA=2, INMSUPR=2, HIPERTENSION=2, OTHER_DISEASE=2, CARDIOVASCULAR=2, OBESITY=2, RENAL_CHRONIC=2, TOBACCO=2, CLASIFFICATION_FINAL=4, ICU=97, SEX=2),\n",
       " Row(USMER=2, MEDICAL_UNIT=3, PATIENT_TYPE=2, DATE_DIED='16/07/2020', INTUBED=2, PNEUMONIA=1, AGE=56, PREGNANT=97, DIABETES=2, COPD=2, ASTHMA=2, INMSUPR=1, HIPERTENSION=2, OTHER_DISEASE=1, CARDIOVASCULAR=2, OBESITY=2, RENAL_CHRONIC=2, TOBACCO=2, CLASIFFICATION_FINAL=3, ICU=2, SEX=2),\n",
       " Row(USMER=1, MEDICAL_UNIT=3, PATIENT_TYPE=2, DATE_DIED='16/07/2020', INTUBED=99, PNEUMONIA=1, AGE=61, PREGNANT=97, DIABETES=2, COPD=2, ASTHMA=2, INMSUPR=2, HIPERTENSION=1, OTHER_DISEASE=2, CARDIOVASCULAR=2, OBESITY=2, RENAL_CHRONIC=2, TOBACCO=2, CLASIFFICATION_FINAL=3, ICU=99, SEX=2),\n",
       " Row(USMER=2, MEDICAL_UNIT=3, PATIENT_TYPE=2, DATE_DIED='16/07/2020', INTUBED=2, PNEUMONIA=1, AGE=69, PREGNANT=97, DIABETES=2, COPD=98, ASTHMA=2, INMSUPR=2, HIPERTENSION=1, OTHER_DISEASE=2, CARDIOVASCULAR=2, OBESITY=2, RENAL_CHRONIC=2, TOBACCO=2, CLASIFFICATION_FINAL=3, ICU=2, SEX=2),\n",
       " Row(USMER=1, MEDICAL_UNIT=3, PATIENT_TYPE=2, DATE_DIED='16/07/2020', INTUBED=1, PNEUMONIA=1, AGE=6, PREGNANT=97, DIABETES=2, COPD=2, ASTHMA=2, INMSUPR=2, HIPERTENSION=2, OTHER_DISEASE=2, CARDIOVASCULAR=2, OBESITY=2, RENAL_CHRONIC=2, TOBACCO=2, CLASIFFICATION_FINAL=3, ICU=1, SEX=2),\n",
       " Row(USMER=1, MEDICAL_UNIT=3, PATIENT_TYPE=2, DATE_DIED='16/07/2020', INTUBED=1, PNEUMONIA=1, AGE=71, PREGNANT=97, DIABETES=1, COPD=2, ASTHMA=2, INMSUPR=2, HIPERTENSION=1, OTHER_DISEASE=2, CARDIOVASCULAR=2, OBESITY=1, RENAL_CHRONIC=2, TOBACCO=2, CLASIFFICATION_FINAL=3, ICU=2, SEX=2),\n",
       " Row(USMER=2, MEDICAL_UNIT=3, PATIENT_TYPE=2, DATE_DIED='16/07/2020', INTUBED=1, PNEUMONIA=1, AGE=66, PREGNANT=97, DIABETES=1, COPD=2, ASTHMA=2, INMSUPR=2, HIPERTENSION=2, OTHER_DISEASE=2, CARDIOVASCULAR=2, OBESITY=2, RENAL_CHRONIC=2, TOBACCO=2, CLASIFFICATION_FINAL=3, ICU=2, SEX=2),\n",
       " Row(USMER=1, MEDICAL_UNIT=3, PATIENT_TYPE=2, DATE_DIED='16/07/2020', INTUBED=2, PNEUMONIA=1, AGE=74, PREGNANT=97, DIABETES=2, COPD=2, ASTHMA=2, INMSUPR=2, HIPERTENSION=1, OTHER_DISEASE=2, CARDIOVASCULAR=2, OBESITY=2, RENAL_CHRONIC=2, TOBACCO=2, CLASIFFICATION_FINAL=3, ICU=2, SEX=2),\n",
       " Row(USMER=2, MEDICAL_UNIT=3, PATIENT_TYPE=1, DATE_DIED='16/07/2020', INTUBED=97, PNEUMONIA=1, AGE=66, PREGNANT=97, DIABETES=2, COPD=2, ASTHMA=2, INMSUPR=2, HIPERTENSION=2, OTHER_DISEASE=2, CARDIOVASCULAR=2, OBESITY=2, RENAL_CHRONIC=2, TOBACCO=2, CLASIFFICATION_FINAL=3, ICU=97, SEX=2),\n",
       " Row(USMER=1, MEDICAL_UNIT=3, PATIENT_TYPE=2, DATE_DIED='16/07/2020', INTUBED=2, PNEUMONIA=1, AGE=77, PREGNANT=97, DIABETES=2, COPD=2, ASTHMA=2, INMSUPR=2, HIPERTENSION=2, OTHER_DISEASE=2, CARDIOVASCULAR=2, OBESITY=1, RENAL_CHRONIC=2, TOBACCO=1, CLASIFFICATION_FINAL=3, ICU=2, SEX=2),\n",
       " Row(USMER=1, MEDICAL_UNIT=3, PATIENT_TYPE=2, DATE_DIED='16/07/2020', INTUBED=2, PNEUMONIA=2, AGE=68, PREGNANT=97, DIABETES=2, COPD=2, ASTHMA=2, INMSUPR=2, HIPERTENSION=2, OTHER_DISEASE=2, CARDIOVASCULAR=2, OBESITY=2, RENAL_CHRONIC=2, TOBACCO=2, CLASIFFICATION_FINAL=3, ICU=2, SEX=2),\n",
       " Row(USMER=2, MEDICAL_UNIT=3, PATIENT_TYPE=2, DATE_DIED='16/07/2020', INTUBED=2, PNEUMONIA=2, AGE=66, PREGNANT=97, DIABETES=1, COPD=2, ASTHMA=2, INMSUPR=2, HIPERTENSION=2, OTHER_DISEASE=2, CARDIOVASCULAR=2, OBESITY=2, RENAL_CHRONIC=2, TOBACCO=2, CLASIFFICATION_FINAL=3, ICU=2, SEX=2),\n",
       " Row(USMER=2, MEDICAL_UNIT=3, PATIENT_TYPE=1, DATE_DIED='16/07/2020', INTUBED=97, PNEUMONIA=1, AGE=76, PREGNANT=97, DIABETES=1, COPD=2, ASTHMA=2, INMSUPR=2, HIPERTENSION=2, OTHER_DISEASE=2, CARDIOVASCULAR=2, OBESITY=2, RENAL_CHRONIC=2, TOBACCO=2, CLASIFFICATION_FINAL=4, ICU=97, SEX=2),\n",
       " Row(USMER=2, MEDICAL_UNIT=3, PATIENT_TYPE=2, DATE_DIED='17/07/2020', INTUBED=99, PNEUMONIA=1, AGE=61, PREGNANT=97, DIABETES=2, COPD=2, ASTHMA=2, INMSUPR=2, HIPERTENSION=2, OTHER_DISEASE=2, CARDIOVASCULAR=2, OBESITY=2, RENAL_CHRONIC=2, TOBACCO=1, CLASIFFICATION_FINAL=2, ICU=99, SEX=2),\n",
       " Row(USMER=1, MEDICAL_UNIT=3, PATIENT_TYPE=2, DATE_DIED='17/07/2020', INTUBED=1, PNEUMONIA=1, AGE=53, PREGNANT=97, DIABETES=2, COPD=2, ASTHMA=2, INMSUPR=2, HIPERTENSION=2, OTHER_DISEASE=2, CARDIOVASCULAR=2, OBESITY=2, RENAL_CHRONIC=2, TOBACCO=2, CLASIFFICATION_FINAL=3, ICU=1, SEX=2),\n",
       " Row(USMER=1, MEDICAL_UNIT=3, PATIENT_TYPE=2, DATE_DIED='17/07/2020', INTUBED=1, PNEUMONIA=1, AGE=69, PREGNANT=97, DIABETES=1, COPD=2, ASTHMA=2, INMSUPR=2, HIPERTENSION=2, OTHER_DISEASE=2, CARDIOVASCULAR=2, OBESITY=2, RENAL_CHRONIC=2, TOBACCO=2, CLASIFFICATION_FINAL=3, ICU=2, SEX=2),\n",
       " Row(USMER=1, MEDICAL_UNIT=3, PATIENT_TYPE=2, DATE_DIED='17/07/2020', INTUBED=1, PNEUMONIA=1, AGE=72, PREGNANT=97, DIABETES=2, COPD=2, ASTHMA=2, INMSUPR=2, HIPERTENSION=1, OTHER_DISEASE=2, CARDIOVASCULAR=1, OBESITY=2, RENAL_CHRONIC=2, TOBACCO=2, CLASIFFICATION_FINAL=3, ICU=2, SEX=2),\n",
       " Row(USMER=1, MEDICAL_UNIT=3, PATIENT_TYPE=2, DATE_DIED='17/07/2020', INTUBED=2, PNEUMONIA=1, AGE=55, PREGNANT=97, DIABETES=1, COPD=2, ASTHMA=2, INMSUPR=2, HIPERTENSION=2, OTHER_DISEASE=2, CARDIOVASCULAR=2, OBESITY=2, RENAL_CHRONIC=2, TOBACCO=2, CLASIFFICATION_FINAL=3, ICU=2, SEX=2),\n",
       " Row(USMER=1, MEDICAL_UNIT=3, PATIENT_TYPE=1, DATE_DIED='17/07/2020', INTUBED=97, PNEUMONIA=1, AGE=83, PREGNANT=97, DIABETES=1, COPD=2, ASTHMA=2, INMSUPR=2, HIPERTENSION=1, OTHER_DISEASE=2, CARDIOVASCULAR=2, OBESITY=2, RENAL_CHRONIC=2, TOBACCO=2, CLASIFFICATION_FINAL=3, ICU=97, SEX=2),\n",
       " Row(USMER=1, MEDICAL_UNIT=3, PATIENT_TYPE=2, DATE_DIED='17/07/2020', INTUBED=2, PNEUMONIA=1, AGE=81, PREGNANT=97, DIABETES=2, COPD=2, ASTHMA=2, INMSUPR=2, HIPERTENSION=1, OTHER_DISEASE=2, CARDIOVASCULAR=2, OBESITY=2, RENAL_CHRONIC=2, TOBACCO=2, CLASIFFICATION_FINAL=3, ICU=2, SEX=2),\n",
       " Row(USMER=1, MEDICAL_UNIT=3, PATIENT_TYPE=2, DATE_DIED='17/07/2020', INTUBED=2, PNEUMONIA=1, AGE=67, PREGNANT=97, DIABETES=2, COPD=2, ASTHMA=2, INMSUPR=2, HIPERTENSION=2, OTHER_DISEASE=2, CARDIOVASCULAR=2, OBESITY=2, RENAL_CHRONIC=2, TOBACCO=2, CLASIFFICATION_FINAL=3, ICU=2, SEX=2),\n",
       " Row(USMER=1, MEDICAL_UNIT=3, PATIENT_TYPE=2, DATE_DIED='17/07/2020', INTUBED=1, PNEUMONIA=1, AGE=0, PREGNANT=97, DIABETES=2, COPD=2, ASTHMA=2, INMSUPR=2, HIPERTENSION=2, OTHER_DISEASE=2, CARDIOVASCULAR=1, OBESITY=2, RENAL_CHRONIC=2, TOBACCO=2, CLASIFFICATION_FINAL=3, ICU=1, SEX=2),\n",
       " Row(USMER=2, MEDICAL_UNIT=3, PATIENT_TYPE=2, DATE_DIED='17/07/2020', INTUBED=2, PNEUMONIA=1, AGE=82, PREGNANT=97, DIABETES=2, COPD=2, ASTHMA=2, INMSUPR=2, HIPERTENSION=1, OTHER_DISEASE=2, CARDIOVASCULAR=1, OBESITY=1, RENAL_CHRONIC=1, TOBACCO=1, CLASIFFICATION_FINAL=3, ICU=2, SEX=2),\n",
       " Row(USMER=2, MEDICAL_UNIT=3, PATIENT_TYPE=2, DATE_DIED='17/07/2020', INTUBED=99, PNEUMONIA=2, AGE=50, PREGNANT=97, DIABETES=2, COPD=2, ASTHMA=2, INMSUPR=2, HIPERTENSION=2, OTHER_DISEASE=1, CARDIOVASCULAR=2, OBESITY=2, RENAL_CHRONIC=2, TOBACCO=2, CLASIFFICATION_FINAL=3, ICU=99, SEX=2),\n",
       " Row(USMER=1, MEDICAL_UNIT=3, PATIENT_TYPE=2, DATE_DIED='18/07/2020', INTUBED=2, PNEUMONIA=1, AGE=35, PREGNANT=97, DIABETES=2, COPD=2, ASTHMA=2, INMSUPR=2, HIPERTENSION=2, OTHER_DISEASE=2, CARDIOVASCULAR=2, OBESITY=2, RENAL_CHRONIC=2, TOBACCO=2, CLASIFFICATION_FINAL=3, ICU=2, SEX=2),\n",
       " Row(USMER=2, MEDICAL_UNIT=3, PATIENT_TYPE=2, DATE_DIED='18/07/2020', INTUBED=2, PNEUMONIA=1, AGE=36, PREGNANT=97, DIABETES=2, COPD=2, ASTHMA=2, INMSUPR=2, HIPERTENSION=1, OTHER_DISEASE=2, CARDIOVASCULAR=2, OBESITY=1, RENAL_CHRONIC=2, TOBACCO=2, CLASIFFICATION_FINAL=3, ICU=2, SEX=2),\n",
       " Row(USMER=2, MEDICAL_UNIT=3, PATIENT_TYPE=2, DATE_DIED='18/07/2020', INTUBED=2, PNEUMONIA=1, AGE=78, PREGNANT=97, DIABETES=1, COPD=2, ASTHMA=2, INMSUPR=2, HIPERTENSION=1, OTHER_DISEASE=2, CARDIOVASCULAR=2, OBESITY=1, RENAL_CHRONIC=2, TOBACCO=2, CLASIFFICATION_FINAL=3, ICU=2, SEX=2),\n",
       " Row(USMER=1, MEDICAL_UNIT=3, PATIENT_TYPE=2, DATE_DIED='18/07/2020', INTUBED=1, PNEUMONIA=1, AGE=59, PREGNANT=97, DIABETES=2, COPD=2, ASTHMA=2, INMSUPR=2, HIPERTENSION=2, OTHER_DISEASE=2, CARDIOVASCULAR=2, OBESITY=2, RENAL_CHRONIC=2, TOBACCO=2, CLASIFFICATION_FINAL=3, ICU=2, SEX=2),\n",
       " Row(USMER=1, MEDICAL_UNIT=3, PATIENT_TYPE=2, DATE_DIED='18/07/2020', INTUBED=1, PNEUMONIA=1, AGE=64, PREGNANT=97, DIABETES=2, COPD=2, ASTHMA=2, INMSUPR=2, HIPERTENSION=2, OTHER_DISEASE=2, CARDIOVASCULAR=2, OBESITY=2, RENAL_CHRONIC=2, TOBACCO=2, CLASIFFICATION_FINAL=3, ICU=2, SEX=2),\n",
       " Row(USMER=1, MEDICAL_UNIT=3, PATIENT_TYPE=2, DATE_DIED='18/07/2020', INTUBED=2, PNEUMONIA=1, AGE=62, PREGNANT=97, DIABETES=2, COPD=2, ASTHMA=2, INMSUPR=2, HIPERTENSION=2, OTHER_DISEASE=2, CARDIOVASCULAR=2, OBESITY=2, RENAL_CHRONIC=2, TOBACCO=2, CLASIFFICATION_FINAL=3, ICU=2, SEX=2),\n",
       " Row(USMER=1, MEDICAL_UNIT=3, PATIENT_TYPE=2, DATE_DIED='18/07/2020', INTUBED=1, PNEUMONIA=1, AGE=61, PREGNANT=97, DIABETES=1, COPD=2, ASTHMA=2, INMSUPR=2, HIPERTENSION=2, OTHER_DISEASE=2, CARDIOVASCULAR=2, OBESITY=2, RENAL_CHRONIC=2, TOBACCO=2, CLASIFFICATION_FINAL=3, ICU=2, SEX=2),\n",
       " Row(USMER=2, MEDICAL_UNIT=3, PATIENT_TYPE=1, DATE_DIED='18/07/2020', INTUBED=97, PNEUMONIA=1, AGE=39, PREGNANT=97, DIABETES=2, COPD=2, ASTHMA=2, INMSUPR=2, HIPERTENSION=1, OTHER_DISEASE=2, CARDIOVASCULAR=2, OBESITY=2, RENAL_CHRONIC=2, TOBACCO=2, CLASIFFICATION_FINAL=3, ICU=97, SEX=2),\n",
       " Row(USMER=1, MEDICAL_UNIT=3, PATIENT_TYPE=2, DATE_DIED='18/07/2020', INTUBED=2, PNEUMONIA=1, AGE=91, PREGNANT=97, DIABETES=2, COPD=2, ASTHMA=2, INMSUPR=2, HIPERTENSION=2, OTHER_DISEASE=2, CARDIOVASCULAR=2, OBESITY=2, RENAL_CHRONIC=2, TOBACCO=2, CLASIFFICATION_FINAL=3, ICU=2, SEX=2),\n",
       " Row(USMER=2, MEDICAL_UNIT=3, PATIENT_TYPE=2, DATE_DIED='19/07/2020', INTUBED=2, PNEUMONIA=2, AGE=85, PREGNANT=97, DIABETES=2, COPD=2, ASTHMA=2, INMSUPR=2, HIPERTENSION=2, OTHER_DISEASE=2, CARDIOVASCULAR=2, OBESITY=2, RENAL_CHRONIC=2, TOBACCO=2, CLASIFFICATION_FINAL=2, ICU=2, SEX=2),\n",
       " Row(USMER=1, MEDICAL_UNIT=3, PATIENT_TYPE=2, DATE_DIED='19/07/2020', INTUBED=2, PNEUMONIA=1, AGE=70, PREGNANT=97, DIABETES=1, COPD=2, ASTHMA=2, INMSUPR=2, HIPERTENSION=1, OTHER_DISEASE=2, CARDIOVASCULAR=2, OBESITY=2, RENAL_CHRONIC=2, TOBACCO=2, CLASIFFICATION_FINAL=3, ICU=2, SEX=2),\n",
       " Row(USMER=1, MEDICAL_UNIT=3, PATIENT_TYPE=2, DATE_DIED='19/07/2020', INTUBED=2, PNEUMONIA=1, AGE=65, PREGNANT=97, DIABETES=2, COPD=2, ASTHMA=2, INMSUPR=2, HIPERTENSION=2, OTHER_DISEASE=2, CARDIOVASCULAR=2, OBESITY=2, RENAL_CHRONIC=2, TOBACCO=2, CLASIFFICATION_FINAL=3, ICU=2, SEX=2),\n",
       " Row(USMER=1, MEDICAL_UNIT=3, PATIENT_TYPE=2, DATE_DIED='19/07/2020', INTUBED=2, PNEUMONIA=1, AGE=83, PREGNANT=97, DIABETES=1, COPD=2, ASTHMA=2, INMSUPR=2, HIPERTENSION=1, OTHER_DISEASE=2, CARDIOVASCULAR=2, OBESITY=2, RENAL_CHRONIC=2, TOBACCO=1, CLASIFFICATION_FINAL=3, ICU=2, SEX=2),\n",
       " Row(USMER=2, MEDICAL_UNIT=3, PATIENT_TYPE=2, DATE_DIED='19/07/2020', INTUBED=1, PNEUMONIA=1, AGE=49, PREGNANT=97, DIABETES=2, COPD=2, ASTHMA=2, INMSUPR=2, HIPERTENSION=2, OTHER_DISEASE=2, CARDIOVASCULAR=2, OBESITY=2, RENAL_CHRONIC=2, TOBACCO=2, CLASIFFICATION_FINAL=3, ICU=2, SEX=2),\n",
       " Row(USMER=2, MEDICAL_UNIT=3, PATIENT_TYPE=2, DATE_DIED='19/07/2020', INTUBED=1, PNEUMONIA=1, AGE=74, PREGNANT=97, DIABETES=1, COPD=2, ASTHMA=2, INMSUPR=2, HIPERTENSION=1, OTHER_DISEASE=2, CARDIOVASCULAR=2, OBESITY=1, RENAL_CHRONIC=2, TOBACCO=2, CLASIFFICATION_FINAL=3, ICU=2, SEX=2),\n",
       " Row(USMER=1, MEDICAL_UNIT=3, PATIENT_TYPE=2, DATE_DIED='19/07/2020', INTUBED=2, PNEUMONIA=1, AGE=81, PREGNANT=97, DIABETES=2, COPD=2, ASTHMA=2, INMSUPR=2, HIPERTENSION=1, OTHER_DISEASE=2, CARDIOVASCULAR=2, OBESITY=2, RENAL_CHRONIC=1, TOBACCO=2, CLASIFFICATION_FINAL=3, ICU=2, SEX=2),\n",
       " Row(USMER=1, MEDICAL_UNIT=3, PATIENT_TYPE=2, DATE_DIED='19/07/2020', INTUBED=1, PNEUMONIA=1, AGE=72, PREGNANT=97, DIABETES=1, COPD=2, ASTHMA=2, INMSUPR=2, HIPERTENSION=1, OTHER_DISEASE=2, CARDIOVASCULAR=2, OBESITY=2, RENAL_CHRONIC=2, TOBACCO=2, CLASIFFICATION_FINAL=7, ICU=1, SEX=2),\n",
       " Row(USMER=1, MEDICAL_UNIT=3, PATIENT_TYPE=2, DATE_DIED='20/07/2020', INTUBED=1, PNEUMONIA=1, AGE=53, PREGNANT=97, DIABETES=2, COPD=2, ASTHMA=2, INMSUPR=2, HIPERTENSION=2, OTHER_DISEASE=2, CARDIOVASCULAR=2, OBESITY=2, RENAL_CHRONIC=2, TOBACCO=2, CLASIFFICATION_FINAL=3, ICU=1, SEX=2),\n",
       " Row(USMER=2, MEDICAL_UNIT=3, PATIENT_TYPE=2, DATE_DIED='20/07/2020', INTUBED=2, PNEUMONIA=2, AGE=72, PREGNANT=97, DIABETES=1, COPD=2, ASTHMA=2, INMSUPR=2, HIPERTENSION=1, OTHER_DISEASE=2, CARDIOVASCULAR=2, OBESITY=2, RENAL_CHRONIC=2, TOBACCO=2, CLASIFFICATION_FINAL=3, ICU=2, SEX=2),\n",
       " Row(USMER=1, MEDICAL_UNIT=3, PATIENT_TYPE=2, DATE_DIED='20/07/2020', INTUBED=1, PNEUMONIA=1, AGE=66, PREGNANT=97, DIABETES=2, COPD=2, ASTHMA=2, INMSUPR=2, HIPERTENSION=2, OTHER_DISEASE=2, CARDIOVASCULAR=2, OBESITY=2, RENAL_CHRONIC=2, TOBACCO=2, CLASIFFICATION_FINAL=3, ICU=1, SEX=2),\n",
       " Row(USMER=2, MEDICAL_UNIT=3, PATIENT_TYPE=2, DATE_DIED='20/07/2020', INTUBED=1, PNEUMONIA=1, AGE=65, PREGNANT=97, DIABETES=2, COPD=2, ASTHMA=2, INMSUPR=2, HIPERTENSION=2, OTHER_DISEASE=2, CARDIOVASCULAR=2, OBESITY=2, RENAL_CHRONIC=2, TOBACCO=2, CLASIFFICATION_FINAL=3, ICU=2, SEX=2),\n",
       " Row(USMER=2, MEDICAL_UNIT=3, PATIENT_TYPE=2, DATE_DIED='20/07/2020', INTUBED=1, PNEUMONIA=1, AGE=50, PREGNANT=97, DIABETES=2, COPD=2, ASTHMA=2, INMSUPR=2, HIPERTENSION=2, OTHER_DISEASE=1, CARDIOVASCULAR=2, OBESITY=1, RENAL_CHRONIC=2, TOBACCO=98, CLASIFFICATION_FINAL=3, ICU=2, SEX=2),\n",
       " Row(USMER=1, MEDICAL_UNIT=3, PATIENT_TYPE=2, DATE_DIED='20/07/2020', INTUBED=2, PNEUMONIA=1, AGE=53, PREGNANT=97, DIABETES=1, COPD=2, ASTHMA=2, INMSUPR=2, HIPERTENSION=1, OTHER_DISEASE=2, CARDIOVASCULAR=2, OBESITY=1, RENAL_CHRONIC=2, TOBACCO=2, CLASIFFICATION_FINAL=3, ICU=2, SEX=2),\n",
       " Row(USMER=1, MEDICAL_UNIT=3, PATIENT_TYPE=2, DATE_DIED='20/07/2020', INTUBED=2, PNEUMONIA=1, AGE=75, PREGNANT=97, DIABETES=2, COPD=2, ASTHMA=2, INMSUPR=1, HIPERTENSION=1, OTHER_DISEASE=1, CARDIOVASCULAR=2, OBESITY=2, RENAL_CHRONIC=2, TOBACCO=2, CLASIFFICATION_FINAL=3, ICU=2, SEX=2),\n",
       " Row(USMER=1, MEDICAL_UNIT=3, PATIENT_TYPE=2, DATE_DIED='21/07/2020', INTUBED=2, PNEUMONIA=1, AGE=52, PREGNANT=97, DIABETES=2, COPD=2, ASTHMA=2, INMSUPR=2, HIPERTENSION=2, OTHER_DISEASE=2, CARDIOVASCULAR=2, OBESITY=1, RENAL_CHRONIC=2, TOBACCO=1, CLASIFFICATION_FINAL=3, ICU=2, SEX=2),\n",
       " Row(USMER=1, MEDICAL_UNIT=3, PATIENT_TYPE=2, DATE_DIED='21/07/2020', INTUBED=1, PNEUMONIA=1, AGE=52, PREGNANT=97, DIABETES=1, COPD=2, ASTHMA=2, INMSUPR=2, HIPERTENSION=1, OTHER_DISEASE=2, CARDIOVASCULAR=2, OBESITY=2, RENAL_CHRONIC=2, TOBACCO=2, CLASIFFICATION_FINAL=3, ICU=2, SEX=2),\n",
       " Row(USMER=1, MEDICAL_UNIT=3, PATIENT_TYPE=2, DATE_DIED='21/07/2020', INTUBED=1, PNEUMONIA=1, AGE=4, PREGNANT=97, DIABETES=2, COPD=2, ASTHMA=2, INMSUPR=2, HIPERTENSION=2, OTHER_DISEASE=2, CARDIOVASCULAR=2, OBESITY=2, RENAL_CHRONIC=2, TOBACCO=2, CLASIFFICATION_FINAL=3, ICU=1, SEX=2),\n",
       " Row(USMER=1, MEDICAL_UNIT=3, PATIENT_TYPE=2, DATE_DIED='21/07/2020', INTUBED=2, PNEUMONIA=1, AGE=40, PREGNANT=97, DIABETES=2, COPD=2, ASTHMA=2, INMSUPR=2, HIPERTENSION=2, OTHER_DISEASE=2, CARDIOVASCULAR=2, OBESITY=2, RENAL_CHRONIC=2, TOBACCO=2, CLASIFFICATION_FINAL=3, ICU=2, SEX=2),\n",
       " Row(USMER=1, MEDICAL_UNIT=3, PATIENT_TYPE=2, DATE_DIED='21/07/2020', INTUBED=2, PNEUMONIA=1, AGE=76, PREGNANT=97, DIABETES=1, COPD=2, ASTHMA=2, INMSUPR=2, HIPERTENSION=1, OTHER_DISEASE=2, CARDIOVASCULAR=2, OBESITY=1, RENAL_CHRONIC=2, TOBACCO=2, CLASIFFICATION_FINAL=3, ICU=2, SEX=2),\n",
       " ...]"
      ]
     },
     "execution_count": 35,
     "metadata": {},
     "output_type": "execute_result"
    }
   ],
   "source": [
    "df.collect()"
   ]
  },
  {
   "cell_type": "markdown",
   "id": "370226ea",
   "metadata": {},
   "source": [
    "#### pyspark.sql.DataFrame.columns\n",
    "Returns all column names as a list."
   ]
  },
  {
   "cell_type": "code",
   "execution_count": 36,
   "id": "89d5c1e6",
   "metadata": {},
   "outputs": [
    {
     "data": {
      "text/plain": [
       "['USMER',\n",
       " 'MEDICAL_UNIT',\n",
       " 'PATIENT_TYPE',\n",
       " 'DATE_DIED',\n",
       " 'INTUBED',\n",
       " 'PNEUMONIA',\n",
       " 'AGE',\n",
       " 'PREGNANT',\n",
       " 'DIABETES',\n",
       " 'COPD',\n",
       " 'ASTHMA',\n",
       " 'INMSUPR',\n",
       " 'HIPERTENSION',\n",
       " 'OTHER_DISEASE',\n",
       " 'CARDIOVASCULAR',\n",
       " 'OBESITY',\n",
       " 'RENAL_CHRONIC',\n",
       " 'TOBACCO',\n",
       " 'CLASIFFICATION_FINAL',\n",
       " 'ICU',\n",
       " 'SEX']"
      ]
     },
     "execution_count": 36,
     "metadata": {},
     "output_type": "execute_result"
    }
   ],
   "source": [
    "df.columns"
   ]
  },
  {
   "cell_type": "markdown",
   "id": "f486c1b9",
   "metadata": {},
   "source": [
    "#### pyspark.sql.DataFrame.corr\n",
    "Calculates the correlation of two columns of a DataFrame as a double value. Currently only supports the Pearson Correlation Coefficient. DataFrame.corr() and DataFrameStatFunctions.corr() are aliases of each other."
   ]
  },
  {
   "cell_type": "code",
   "execution_count": 40,
   "id": "ee1856a1",
   "metadata": {},
   "outputs": [
    {
     "data": {
      "text/plain": [
       "0.8350178504029976"
      ]
     },
     "execution_count": 40,
     "metadata": {},
     "output_type": "execute_result"
    }
   ],
   "source": [
    "df.corr('DIABETES','HIPERTENSION')"
   ]
  },
  {
   "cell_type": "code",
   "execution_count": 41,
   "id": "340f2954",
   "metadata": {},
   "outputs": [
    {
     "data": {
      "text/plain": [
       "-0.00496418462374755"
      ]
     },
     "execution_count": 41,
     "metadata": {},
     "output_type": "execute_result"
    }
   ],
   "source": [
    "df.corr('AGE','HIPERTENSION')"
   ]
  },
  {
   "cell_type": "markdown",
   "id": "ece088ac",
   "metadata": {},
   "source": [
    "we can see +ve correlation for Diabetes and hypertension"
   ]
  },
  {
   "cell_type": "markdown",
   "id": "286e88f3",
   "metadata": {},
   "source": [
    "#### pyspark.sql.DataFrame.count¶\n",
    "Returns the number of rows in this DataFrame."
   ]
  },
  {
   "cell_type": "code",
   "execution_count": 42,
   "id": "4efbf4f0",
   "metadata": {},
   "outputs": [
    {
     "data": {
      "text/plain": [
       "1048575"
      ]
     },
     "execution_count": 42,
     "metadata": {},
     "output_type": "execute_result"
    }
   ],
   "source": [
    "df.count()"
   ]
  },
  {
   "cell_type": "markdown",
   "id": "0ee71418",
   "metadata": {},
   "source": [
    "#### pyspark.sql.DataFrame.cov¶\n",
    "Calculate the sample covariance for the given columns, specified by their names, as a double value. DataFrame.cov() and DataFrameStatFunctions.cov() are aliases."
   ]
  },
  {
   "cell_type": "code",
   "execution_count": 43,
   "id": "f9e1cc3b",
   "metadata": {},
   "outputs": [
    {
     "data": {
      "text/plain": [
       "-0.4394981469164739"
      ]
     },
     "execution_count": 43,
     "metadata": {},
     "output_type": "execute_result"
    }
   ],
   "source": [
    "df.cov('AGE','HIPERTENSION')"
   ]
  },
  {
   "cell_type": "code",
   "execution_count": 44,
   "id": "abeeb130",
   "metadata": {},
   "outputs": [
    {
     "data": {
      "text/plain": [
       "23.71741610231534"
      ]
     },
     "execution_count": 44,
     "metadata": {},
     "output_type": "execute_result"
    }
   ],
   "source": [
    "df.cov('DIABETES','HIPERTENSION')"
   ]
  },
  {
   "cell_type": "markdown",
   "id": "8273f508",
   "metadata": {},
   "source": [
    "#### pyspark.sql.DataFrame.createGlobalTempView¶\n",
    "Creates a global temporary view with this DataFrame.\n",
    "\n",
    "    The lifetime of this temporary view is tied to this Spark application. throws TempTableAlreadyExistsException, if the view name already exists in the catalog."
   ]
  },
  {
   "cell_type": "code",
   "execution_count": 52,
   "id": "89fc82bc",
   "metadata": {},
   "outputs": [],
   "source": [
    "#df.createGlobalTempView('global_tempview_patient')"
   ]
  },
  {
   "cell_type": "code",
   "execution_count": 51,
   "id": "0a107445",
   "metadata": {},
   "outputs": [
    {
     "name": "stdout",
     "output_type": "stream",
     "text": [
      "+---+---+\n",
      "|AGE|SEX|\n",
      "+---+---+\n",
      "| 72|  2|\n",
      "| 55|  2|\n",
      "| 68|  2|\n",
      "| 24|  2|\n",
      "| 30|  2|\n",
      "| 55|  2|\n",
      "| 61|  2|\n",
      "| 54|  2|\n",
      "| 59|  2|\n",
      "| 30|  2|\n",
      "| 45|  2|\n",
      "| 24|  2|\n",
      "| 32|  2|\n",
      "| 49|  2|\n",
      "| 39|  2|\n",
      "| 27|  2|\n",
      "| 45|  2|\n",
      "| 25|  2|\n",
      "| 37|  2|\n",
      "| 45|  2|\n",
      "+---+---+\n",
      "only showing top 20 rows\n",
      "\n"
     ]
    }
   ],
   "source": [
    "sparkSession.sql(\"select AGE, SEX from global_temp.global_tempview_patient;\").show()"
   ]
  },
  {
   "cell_type": "code",
   "execution_count": 54,
   "id": "f80288fe",
   "metadata": {},
   "outputs": [
    {
     "name": "stdout",
     "output_type": "stream",
     "text": [
      "+-----------+-----------------------+-----------+\n",
      "|namespace  |tableName              |isTemporary|\n",
      "+-----------+-----------------------+-----------+\n",
      "|global_temp|global_tempview_patient|true       |\n",
      "+-----------+-----------------------+-----------+\n",
      "\n"
     ]
    }
   ],
   "source": [
    "sparkSession.sql(\"show tables from global_temp;\").show(truncate=False)"
   ]
  },
  {
   "cell_type": "code",
   "execution_count": 62,
   "id": "04a0ccc3",
   "metadata": {},
   "outputs": [
    {
     "data": {
      "text/plain": [
       "True"
      ]
     },
     "execution_count": 62,
     "metadata": {},
     "output_type": "execute_result"
    }
   ],
   "source": [
    "sparkSession.catalog.dropGlobalTempView(\"global_tempview_patient\")"
   ]
  },
  {
   "cell_type": "markdown",
   "id": "6859a8fa",
   "metadata": {},
   "source": [
    "#### pyspark.sql.DataFrame.createOrReplaceGlobalTempView¶\n",
    "\n",
    "Creates or replaces a global temporary view using the given name.\n",
    "\n",
    "The lifetime of this temporary view is tied to this Spark application."
   ]
  },
  {
   "cell_type": "code",
   "execution_count": 56,
   "id": "accf7a82",
   "metadata": {},
   "outputs": [],
   "source": [
    "df.createOrReplaceGlobalTempView('global_tempview_patient')"
   ]
  },
  {
   "cell_type": "code",
   "execution_count": 57,
   "id": "46e95dce",
   "metadata": {},
   "outputs": [
    {
     "name": "stdout",
     "output_type": "stream",
     "text": [
      "+---+---+\n",
      "|AGE|SEX|\n",
      "+---+---+\n",
      "| 72|  2|\n",
      "| 55|  2|\n",
      "| 68|  2|\n",
      "| 24|  2|\n",
      "| 30|  2|\n",
      "+---+---+\n",
      "only showing top 5 rows\n",
      "\n"
     ]
    }
   ],
   "source": [
    "sparkSession.sql(\"select AGE, SEX from global_temp.global_tempview_patient;\").show(5)"
   ]
  },
  {
   "cell_type": "markdown",
   "id": "626f32ba",
   "metadata": {},
   "source": [
    "#### pyspark.sql.DataFrame.createOrReplaceTempView\n",
    "Creates or replaces a local temporary view with this DataFrame.\n",
    "\n",
    "The lifetime of this temporary table is tied to the SparkSession that was used to create this DataFrame."
   ]
  },
  {
   "cell_type": "code",
   "execution_count": 60,
   "id": "c1fee360",
   "metadata": {},
   "outputs": [],
   "source": [
    "df.createOrReplaceTempView(\"patient12\")"
   ]
  },
  {
   "cell_type": "code",
   "execution_count": 61,
   "id": "7def8ec5",
   "metadata": {},
   "outputs": [
    {
     "name": "stdout",
     "output_type": "stream",
     "text": [
      "+---+---+\n",
      "|AGE|SEX|\n",
      "+---+---+\n",
      "| 72|  2|\n",
      "| 55|  2|\n",
      "| 68|  2|\n",
      "| 24|  2|\n",
      "| 30|  2|\n",
      "+---+---+\n",
      "only showing top 5 rows\n",
      "\n"
     ]
    }
   ],
   "source": [
    "sparkSession.sql(\"select AGE, SEX from patient12;\").show(5)"
   ]
  },
  {
   "cell_type": "markdown",
   "id": "4d828a48",
   "metadata": {},
   "source": [
    "#### pyspark.sql.DataFrame.createTempView\n",
    "\n",
    "Creates a local temporary view with this DataFrame.\n",
    "\n",
    "The lifetime of this temporary table is tied to the SparkSession that was used to create this DataFrame. throws TempTableAlreadyExistsException, if the view name already exists in the catalog."
   ]
  },
  {
   "cell_type": "code",
   "execution_count": 64,
   "id": "ddbeacb2",
   "metadata": {},
   "outputs": [],
   "source": [
    "df.createTempView(\"patient12\")"
   ]
  },
  {
   "cell_type": "code",
   "execution_count": 66,
   "id": "bf781915",
   "metadata": {},
   "outputs": [
    {
     "data": {
      "text/plain": [
       "True"
      ]
     },
     "execution_count": 66,
     "metadata": {},
     "output_type": "execute_result"
    }
   ],
   "source": [
    "sparkSession.catalog.dropTempView(\"patient12\")"
   ]
  },
  {
   "cell_type": "markdown",
   "id": "296924e7",
   "metadata": {},
   "source": [
    "#### pyspark.sql.DataFrame.crossJoin\n",
    "As the number of fields is growing in each industry, in each Data sources. It is almost impossible to store all the variables in single Data table. So ideally we received Data tables in multiple files. In these situation, whenever there is a need to bring variables together in one table, merge or join is helpful. Cross join creates a table with cartesian product of observation between two tables. For each row of table 1, a mapping takes place with each row of table 2. The below article discusses how to Cross join Dataframes in Pyspark."
   ]
  },
  {
   "cell_type": "code",
   "execution_count": 73,
   "id": "ce0bf52d",
   "metadata": {},
   "outputs": [],
   "source": [
    "df1 = sparkSession.createDataFrame([('nilesh', 24),('pawan', 22)],schema=['Name','Age'])\n",
    "df2 = sparkSession.createDataFrame([('math',1),('bio',2),('history',3)], schema=['Subject', 'Id'])"
   ]
  },
  {
   "cell_type": "code",
   "execution_count": 74,
   "id": "a8fa6007",
   "metadata": {},
   "outputs": [
    {
     "name": "stdout",
     "output_type": "stream",
     "text": [
      "+-------+---+\n",
      "|Subject| Id|\n",
      "+-------+---+\n",
      "|   math|  1|\n",
      "|    bio|  2|\n",
      "|history|  3|\n",
      "+-------+---+\n",
      "\n"
     ]
    }
   ],
   "source": [
    "df2.show()"
   ]
  },
  {
   "cell_type": "code",
   "execution_count": 75,
   "id": "d7418d4b",
   "metadata": {},
   "outputs": [
    {
     "name": "stdout",
     "output_type": "stream",
     "text": [
      "+------+---+\n",
      "|  Name|Age|\n",
      "+------+---+\n",
      "|nilesh| 24|\n",
      "| pawan| 22|\n",
      "+------+---+\n",
      "\n"
     ]
    }
   ],
   "source": [
    "df1.show()"
   ]
  },
  {
   "cell_type": "code",
   "execution_count": 76,
   "id": "f9f4fb30",
   "metadata": {},
   "outputs": [
    {
     "name": "stdout",
     "output_type": "stream",
     "text": [
      "+------+---+-------+---+\n",
      "|  Name|Age|Subject| Id|\n",
      "+------+---+-------+---+\n",
      "|nilesh| 24|   math|  1|\n",
      "|nilesh| 24|    bio|  2|\n",
      "|nilesh| 24|history|  3|\n",
      "| pawan| 22|   math|  1|\n",
      "| pawan| 22|    bio|  2|\n",
      "| pawan| 22|history|  3|\n",
      "+------+---+-------+---+\n",
      "\n"
     ]
    }
   ],
   "source": [
    "df1.crossJoin(df2).show()"
   ]
  },
  {
   "cell_type": "markdown",
   "id": "c0a91d18",
   "metadata": {},
   "source": [
    "#### pyspark.sql.DataFrame.crosstab\n",
    "Computes a pair-wise frequency table of the given columns. Also known as a contingency table. The number of distinct values for each column should be less than 1e4. At most 1e6 non-zero pair frequencies will be returned. The first column of each row will be the distinct values of col1 and the column names will be the distinct values of col2. The name of the first column will be col1_\n",
    "\n",
    "col2. Pairs that have no occurrences will have zero as their counts. DataFrame.crosstab() and DataFrameStatFunctions.crosstab() are aliases."
   ]
  },
  {
   "cell_type": "code",
   "execution_count": 79,
   "id": "91343203",
   "metadata": {},
   "outputs": [
    {
     "name": "stdout",
     "output_type": "stream",
     "text": [
      "+---------------------+-----+------+----+\n",
      "|DIABETES_HIPERTENSION|    1|     2|  98|\n",
      "+---------------------+-----+------+----+\n",
      "|                    2|96545|823398| 305|\n",
      "|                   98|  178|   463|2697|\n",
      "|                    1|66006| 58881| 102|\n",
      "+---------------------+-----+------+----+\n",
      "\n"
     ]
    }
   ],
   "source": [
    "df.crosstab('DIABETES',\"HIPERTENSION\").show()"
   ]
  },
  {
   "cell_type": "markdown",
   "id": "8c8f7e2c",
   "metadata": {},
   "source": [
    "#### pyspark.sql.DataFrame.cube\n",
    "Create a multi-dimensional cube for the current DataFrame using the specified columns, so we can run aggregations on them.\n",
    "\n",
    "https://stackoverflow.com/questions/37975227/what-is-the-difference-between-cube-rollup-and-groupby-operators"
   ]
  },
  {
   "cell_type": "code",
   "execution_count": 82,
   "id": "b881a9d8",
   "metadata": {},
   "outputs": [
    {
     "name": "stdout",
     "output_type": "stream",
     "text": [
      "+------+----+-----+\n",
      "|  Name| Age|count|\n",
      "+------+----+-----+\n",
      "|nilesh|null|    1|\n",
      "|  null|null|    2|\n",
      "|nilesh|  24|    1|\n",
      "|  null|  24|    1|\n",
      "| pawan|null|    1|\n",
      "| pawan|  22|    1|\n",
      "|  null|  22|    1|\n",
      "+------+----+-----+\n",
      "\n"
     ]
    }
   ],
   "source": [
    "df1.cube('Name','Age').count().show()"
   ]
  },
  {
   "cell_type": "markdown",
   "id": "d06afc10",
   "metadata": {},
   "source": [
    "#### pyspark.sql.DataFrame.describe¶\n",
    "This include count, mean, stddev, min, and max. If no columns are given, this function computes statistics for all numerical or string columns."
   ]
  },
  {
   "cell_type": "code",
   "execution_count": 83,
   "id": "6ab6c796",
   "metadata": {},
   "outputs": [
    {
     "name": "stdout",
     "output_type": "stream",
     "text": [
      "+-------+------------------+-------------------+------------------+\n",
      "|summary|               AGE|                SEX|          DIABETES|\n",
      "+-------+------------------+-------------------+------------------+\n",
      "|  count|           1048575|            1048575|           1048575|\n",
      "|   mean|41.794102472403026| 1.4992594711870872|2.1864044059795438|\n",
      "| stddev|16.907389199431208|0.49999969003548544|  5.42424178788836|\n",
      "|    min|                 0|                  1|                 1|\n",
      "|    max|               121|                  2|                98|\n",
      "+-------+------------------+-------------------+------------------+\n",
      "\n"
     ]
    }
   ],
   "source": [
    "df.describe('AGE','SEX','DIABETES').show()"
   ]
  },
  {
   "cell_type": "code",
   "execution_count": 84,
   "id": "e3917ed0",
   "metadata": {},
   "outputs": [
    {
     "name": "stderr",
     "output_type": "stream",
     "text": [
      "                                                                                \r"
     ]
    },
    {
     "name": "stdout",
     "output_type": "stream",
     "text": [
      "+-------+------------------+-----------------+------------------+----------+-----------------+------------------+------------------+-----------------+------------------+------------------+------------------+------------------+------------------+-----------------+------------------+-----------------+------------------+------------------+--------------------+-----------------+-------------------+\n",
      "|summary|             USMER|     MEDICAL_UNIT|      PATIENT_TYPE| DATE_DIED|          INTUBED|         PNEUMONIA|               AGE|         PREGNANT|          DIABETES|              COPD|            ASTHMA|           INMSUPR|      HIPERTENSION|    OTHER_DISEASE|    CARDIOVASCULAR|          OBESITY|     RENAL_CHRONIC|           TOBACCO|CLASIFFICATION_FINAL|              ICU|                SEX|\n",
      "+-------+------------------+-----------------+------------------+----------+-----------------+------------------+------------------+-----------------+------------------+------------------+------------------+------------------+------------------+-----------------+------------------+-----------------+------------------+------------------+--------------------+-----------------+-------------------+\n",
      "|  count|           1048575|          1048575|           1048575|   1048575|          1048575|           1048575|           1048575|          1048575|           1048575|           1048575|           1048575|           1048575|           1048575|          1048575|           1048575|          1048575|           1048575|           1048575|             1048575|          1048575|            1048575|\n",
      "|   mean|1.6321941682759935|8.980565052571347|1.1907646091123667|      null|79.52287533080609|3.3468306988055216|41.794102472403026|49.76558472212288|2.1864044059795438|2.2605688672722506|2.2426264215721337|2.2981322270700715|2.1289893426793505|2.435142932074482|2.2618095987411486|2.125175595450969|2.2571795055193955|2.2143327849700785|   5.305652909901533|79.55397372624752| 1.4992594711870872|\n",
      "| stddev|0.4822083819544002|3.723277778199706|0.3929040852992836|      null|36.86888627504406|11.912881086508047|16.907389199431208|47.51073271107693|  5.42424178788836| 5.132258089760807|5.1140892594220215| 5.462843261101418| 5.236397094606084|6.646675591074718| 5.194850371652774|5.175445110188429| 5.135353853399517|5.3230972206636205|  1.8811654309355599|36.82307335289882|0.49999969003548544|\n",
      "|    min|                 1|                1|                 1|01/01/2021|                1|                 1|                 0|                1|                 1|                 1|                 1|                 1|                 1|                1|                 1|                1|                 1|                 1|                   1|                1|                  1|\n",
      "|    max|                 2|               13|                 2|9999-99-99|               99|                99|               121|               98|                98|                98|                98|                98|                98|               98|                98|               98|                98|                98|                   7|               99|                  2|\n",
      "+-------+------------------+-----------------+------------------+----------+-----------------+------------------+------------------+-----------------+------------------+------------------+------------------+------------------+------------------+-----------------+------------------+-----------------+------------------+------------------+--------------------+-----------------+-------------------+\n",
      "\n"
     ]
    }
   ],
   "source": [
    "df.describe().show()"
   ]
  },
  {
   "cell_type": "markdown",
   "id": "d2f31dc9",
   "metadata": {},
   "source": [
    "#### pyspark.sql.DataFrame.distinct\n",
    "Returns a new DataFrame containing the distinct rows in this DataFrame."
   ]
  },
  {
   "cell_type": "code",
   "execution_count": 86,
   "id": "0b7c0a87",
   "metadata": {},
   "outputs": [
    {
     "name": "stderr",
     "output_type": "stream",
     "text": [
      "[Stage 69:=============================>                            (1 + 1) / 2]\r"
     ]
    },
    {
     "name": "stdout",
     "output_type": "stream",
     "text": [
      "+-----+------------+------------+----------+-------+---------+---+--------+--------+----+------+-------+------------+-------------+--------------+-------+-------------+-------+--------------------+---+---+\n",
      "|USMER|MEDICAL_UNIT|PATIENT_TYPE| DATE_DIED|INTUBED|PNEUMONIA|AGE|PREGNANT|DIABETES|COPD|ASTHMA|INMSUPR|HIPERTENSION|OTHER_DISEASE|CARDIOVASCULAR|OBESITY|RENAL_CHRONIC|TOBACCO|CLASIFFICATION_FINAL|ICU|SEX|\n",
      "+-----+------------+------------+----------+-------+---------+---+--------+--------+----+------+-------+------------+-------------+--------------+-------+-------------+-------+--------------------+---+---+\n",
      "|    2|           2|           1|9999-99-99|     97|        2| 85|      97|       2|   2|     2|      2|           2|            2|             2|      2|            2|      2|                   7| 97|  2|\n",
      "|    2|           2|           1|9999-99-99|     97|        2| 71|      97|       2|   2|     2|      2|           2|            2|             2|      2|            2|      2|                   7| 97|  2|\n",
      "|    1|           3|           2|18/02/2020|      2|        2| 43|      97|       1|   2|     2|      2|           1|            2|             2|      2|            1|      2|                   7|  2|  2|\n",
      "|    1|           3|           2|04/06/2020|      1|        1| 60|      97|       2|   2|     2|      2|           2|            2|             2|      2|            2|      2|                   3|  1|  2|\n",
      "|    2|           3|           2|20/06/2020|      1|        1| 51|      97|       1|   2|     2|      2|           1|            2|             2|      2|            2|      2|                   2|  2|  2|\n",
      "|    1|           3|           1|9999-99-99|     97|        1| 33|      97|       2|   2|     2|      2|           2|            2|             2|      2|            2|      1|                   3| 97|  2|\n",
      "|    1|           3|           2|9999-99-99|      2|        1| 55|      97|       2|   2|     2|      2|           2|            2|             2|      2|            2|      2|                   3|  2|  2|\n",
      "|    2|           3|           1|9999-99-99|     97|        1| 45|      97|       2|   2|     2|      2|           2|            2|             2|      2|            2|      2|                   3| 97|  2|\n",
      "|    2|           3|           1|9999-99-99|     97|        2| 28|      97|       2|   2|     2|      2|           2|            2|             2|      2|            2|      2|                   5| 97|  2|\n",
      "|    2|           3|           1|9999-99-99|     97|        2| 40|      97|       2|   2|     2|      2|           2|            2|             2|      2|            2|      2|                   5| 97|  2|\n",
      "|    2|           3|           1|9999-99-99|     97|        2| 46|      97|       2|   2|     2|      2|           2|            2|             2|      1|            2|      1|                   5| 97|  2|\n",
      "|    2|           3|           2|9999-99-99|      2|        2| 48|      97|       2|   2|     2|      2|           2|            2|             2|      2|            2|      2|                   5|  2|  2|\n",
      "|    1|           3|           1|9999-99-99|     97|        2|  6|      97|       2|   2|     2|      2|           2|            2|             2|      2|            2|      2|                   5| 97|  2|\n",
      "|    2|           3|           1|9999-99-99|     97|        2| 40|      97|       1|   2|     2|      2|           1|            2|             2|      2|            2|      2|                   6| 97|  2|\n",
      "|    1|           3|           1|9999-99-99|     97|        2| 45|      97|       2|   2|     2|      2|           1|            2|             2|      2|            2|      2|                   6| 97|  2|\n",
      "|    2|           3|           1|9999-99-99|     97|        2| 34|      97|       2|   2|     2|      2|           2|            2|             2|      1|            2|      1|                   6| 97|  2|\n",
      "|    2|           3|           2|9999-99-99|      2|        1| 63|      97|       1|   2|     2|      2|           1|            2|             2|      1|            1|      2|                   6|  2|  2|\n",
      "|    1|           3|           2|9999-99-99|      2|        1|  6|      97|       2|   2|     2|      2|           2|            1|             2|      2|            2|      2|                   7|  1|  2|\n",
      "|    1|           3|           1|9999-99-99|     97|        2| 19|      97|       2|   2|     2|      2|           2|            2|             2|      2|            2|      2|                   7| 97|  2|\n",
      "|    1|           3|           1|9999-99-99|     97|        2| 46|      97|       2|   2|     2|      2|           2|            2|             2|      1|            2|      2|                   7| 97|  2|\n",
      "+-----+------------+------------+----------+-------+---------+---+--------+--------+----+------+-------+------------+-------------+--------------+-------+-------------+-------+--------------------+---+---+\n",
      "only showing top 20 rows\n",
      "\n"
     ]
    },
    {
     "name": "stderr",
     "output_type": "stream",
     "text": [
      "\r",
      "                                                                                \r"
     ]
    }
   ],
   "source": [
    "df.distinct().show()"
   ]
  },
  {
   "cell_type": "code",
   "execution_count": 87,
   "id": "9ec7495a",
   "metadata": {},
   "outputs": [
    {
     "name": "stderr",
     "output_type": "stream",
     "text": [
      "                                                                                \r"
     ]
    },
    {
     "data": {
      "text/plain": [
       "236526"
      ]
     },
     "execution_count": 87,
     "metadata": {},
     "output_type": "execute_result"
    }
   ],
   "source": [
    "df.distinct().count()"
   ]
  },
  {
   "cell_type": "markdown",
   "id": "f85f0ee2",
   "metadata": {},
   "source": [
    "#### pyspark.sql.DataFrame.drop\n",
    "Returns a new DataFrame that drops the specified column. This is a no-op if schema doesn’t contain the given column name(s)."
   ]
  },
  {
   "cell_type": "code",
   "execution_count": 88,
   "id": "362c5128",
   "metadata": {},
   "outputs": [
    {
     "data": {
      "text/plain": [
       "['USMER',\n",
       " 'MEDICAL_UNIT',\n",
       " 'PATIENT_TYPE',\n",
       " 'DATE_DIED',\n",
       " 'INTUBED',\n",
       " 'PNEUMONIA',\n",
       " 'AGE',\n",
       " 'PREGNANT',\n",
       " 'DIABETES',\n",
       " 'COPD',\n",
       " 'ASTHMA',\n",
       " 'INMSUPR',\n",
       " 'HIPERTENSION',\n",
       " 'OTHER_DISEASE',\n",
       " 'CARDIOVASCULAR',\n",
       " 'OBESITY',\n",
       " 'RENAL_CHRONIC',\n",
       " 'TOBACCO',\n",
       " 'CLASIFFICATION_FINAL',\n",
       " 'ICU',\n",
       " 'SEX']"
      ]
     },
     "execution_count": 88,
     "metadata": {},
     "output_type": "execute_result"
    }
   ],
   "source": [
    "df.columns"
   ]
  },
  {
   "cell_type": "code",
   "execution_count": 89,
   "id": "12e22d69",
   "metadata": {},
   "outputs": [],
   "source": [
    "df = df.drop('COPD')"
   ]
  },
  {
   "cell_type": "code",
   "execution_count": 90,
   "id": "6609e5f6",
   "metadata": {},
   "outputs": [
    {
     "data": {
      "text/plain": [
       "['USMER',\n",
       " 'MEDICAL_UNIT',\n",
       " 'PATIENT_TYPE',\n",
       " 'DATE_DIED',\n",
       " 'INTUBED',\n",
       " 'PNEUMONIA',\n",
       " 'AGE',\n",
       " 'PREGNANT',\n",
       " 'DIABETES',\n",
       " 'ASTHMA',\n",
       " 'INMSUPR',\n",
       " 'HIPERTENSION',\n",
       " 'OTHER_DISEASE',\n",
       " 'CARDIOVASCULAR',\n",
       " 'OBESITY',\n",
       " 'RENAL_CHRONIC',\n",
       " 'TOBACCO',\n",
       " 'CLASIFFICATION_FINAL',\n",
       " 'ICU',\n",
       " 'SEX']"
      ]
     },
     "execution_count": 90,
     "metadata": {},
     "output_type": "execute_result"
    }
   ],
   "source": [
    "df.columns"
   ]
  },
  {
   "cell_type": "markdown",
   "id": "8ab8b946",
   "metadata": {},
   "source": [
    "#### pyspark.sql.DataFrame.dropDuplicates¶\n",
    "Return a new DataFrame with duplicate rows removed, optionally only considering certain columns.\n",
    "\n",
    "For a static batch DataFrame, it just drops duplicate rows. For a streaming DataFrame, it will keep all data across triggers as intermediate state to drop duplicates rows. You can use withWatermark() to limit how late the duplicate data can be and system will accordingly limit the state. In addition, too late data older than watermark will be dropped to avoid any possibility of duplicates.\n",
    "\n",
    "drop_duplicates() is an alias for dropDuplicates()."
   ]
  },
  {
   "cell_type": "code",
   "execution_count": 93,
   "id": "46b7deed",
   "metadata": {},
   "outputs": [
    {
     "name": "stdout",
     "output_type": "stream",
     "text": [
      "+-----+---+------+\n",
      "| name|age|height|\n",
      "+-----+---+------+\n",
      "|Alice|  5|    80|\n",
      "|Alice|  5|    80|\n",
      "|Alice| 10|    80|\n",
      "+-----+---+------+\n",
      "\n"
     ]
    }
   ],
   "source": [
    "from pyspark.sql import Row\n",
    "\n",
    "df = sparkSession.sparkContext.parallelize([ \\\n",
    "    Row(name='Alice', age=5, height=80), \\\n",
    "    Row(name='Alice', age=5, height=80), \\\n",
    "    Row(name='Alice', age=10, height=80)]).toDF()\n",
    "\n",
    "df.show()"
   ]
  },
  {
   "cell_type": "code",
   "execution_count": 94,
   "id": "a5f5bd51",
   "metadata": {},
   "outputs": [
    {
     "name": "stdout",
     "output_type": "stream",
     "text": [
      "+-----+---+------+\n",
      "| name|age|height|\n",
      "+-----+---+------+\n",
      "|Alice|  5|    80|\n",
      "|Alice| 10|    80|\n",
      "+-----+---+------+\n",
      "\n"
     ]
    }
   ],
   "source": [
    "df.dropDuplicates().show()"
   ]
  },
  {
   "cell_type": "code",
   "execution_count": 95,
   "id": "8b712dd0",
   "metadata": {},
   "outputs": [
    {
     "name": "stdout",
     "output_type": "stream",
     "text": [
      "+-----+---+------+\n",
      "| name|age|height|\n",
      "+-----+---+------+\n",
      "|Alice|  5|    80|\n",
      "+-----+---+------+\n",
      "\n"
     ]
    }
   ],
   "source": [
    "df.dropDuplicates(['name', 'height']).show()"
   ]
  },
  {
   "cell_type": "markdown",
   "id": "e31c3544",
   "metadata": {},
   "source": [
    "#### pyspark.sql.DataFrame.dropna\n",
    "Returns a new DataFrame omitting rows with null values. DataFrame.dropna() and DataFrameNaFunctions.drop() are aliases of each other.\n",
    "\n",
    "\n",
    "        how str, optional\n",
    "\n",
    "            ‘any’ or ‘all’. If ‘any’, drop a row if it contains any nulls. If ‘all’, drop a row only if all its values are null.\n",
    "        thresh: int, optional\n",
    "\n",
    "            default None If specified, drop rows that have less than thresh non-null values. This overwrites the how parameter.\n",
    "        subsetstr, tuple or list, optional\n",
    "\n",
    "            optional list of column names to consider.\n",
    "\n"
   ]
  },
  {
   "cell_type": "code",
   "execution_count": 98,
   "id": "1c2105e9",
   "metadata": {},
   "outputs": [
    {
     "name": "stdout",
     "output_type": "stream",
     "text": [
      "+-----+----+------+\n",
      "| name| age|height|\n",
      "+-----+----+------+\n",
      "|Alice|   5|    80|\n",
      "|Alice|null|    80|\n",
      "|Alice|  10|    80|\n",
      "|  BOB|null|    80|\n",
      "| null|null|  null|\n",
      "+-----+----+------+\n",
      "\n"
     ]
    }
   ],
   "source": [
    "df = sparkSession.sparkContext.parallelize([ \\\n",
    "    Row(name='Alice', age=5, height=80), \\\n",
    "    Row(name='Alice', age=None, height=80), \\\n",
    "    Row(name='Alice', age=10, height=80),\n",
    "    Row(name='BOB', age=None, height=80), \\\n",
    "    Row(name=None, age=None, height=None)]).toDF()\n",
    "\n",
    "df.show()"
   ]
  },
  {
   "cell_type": "code",
   "execution_count": 99,
   "id": "8f6857ac",
   "metadata": {},
   "outputs": [
    {
     "name": "stdout",
     "output_type": "stream",
     "text": [
      "+-----+---+------+\n",
      "| name|age|height|\n",
      "+-----+---+------+\n",
      "|Alice|  5|    80|\n",
      "|Alice| 10|    80|\n",
      "+-----+---+------+\n",
      "\n"
     ]
    }
   ],
   "source": [
    "df.dropna().show()"
   ]
  },
  {
   "cell_type": "code",
   "execution_count": 101,
   "id": "93da5266",
   "metadata": {},
   "outputs": [
    {
     "name": "stdout",
     "output_type": "stream",
     "text": [
      "+-----+----+------+\n",
      "| name| age|height|\n",
      "+-----+----+------+\n",
      "|Alice|   5|    80|\n",
      "|Alice|null|    80|\n",
      "|Alice|  10|    80|\n",
      "|  BOB|null|    80|\n",
      "+-----+----+------+\n",
      "\n"
     ]
    }
   ],
   "source": [
    "df.dropna(how='all').show()"
   ]
  },
  {
   "cell_type": "code",
   "execution_count": 102,
   "id": "a4c7d378",
   "metadata": {},
   "outputs": [
    {
     "name": "stdout",
     "output_type": "stream",
     "text": [
      "+-----+---+------+\n",
      "| name|age|height|\n",
      "+-----+---+------+\n",
      "|Alice|  5|    80|\n",
      "|Alice| 10|    80|\n",
      "+-----+---+------+\n",
      "\n"
     ]
    }
   ],
   "source": [
    "df.dropna(how='any').show()"
   ]
  },
  {
   "cell_type": "markdown",
   "id": "9623a68d",
   "metadata": {},
   "source": [
    "#### pyspark.sql.DataFrame.dtypes\n",
    "Returns all column names and their data types as a list."
   ]
  },
  {
   "cell_type": "code",
   "execution_count": 106,
   "id": "fe94865e",
   "metadata": {},
   "outputs": [
    {
     "data": {
      "text/plain": [
       "[('name', 'string'), ('age', 'bigint'), ('height', 'bigint')]"
      ]
     },
     "execution_count": 106,
     "metadata": {},
     "output_type": "execute_result"
    }
   ],
   "source": [
    "df.dtypes"
   ]
  },
  {
   "cell_type": "code",
   "execution_count": 107,
   "id": "2bfc145e",
   "metadata": {},
   "outputs": [
    {
     "name": "stdout",
     "output_type": "stream",
     "text": [
      "root\n",
      " |-- name: string (nullable = true)\n",
      " |-- age: long (nullable = true)\n",
      " |-- height: long (nullable = true)\n",
      "\n"
     ]
    }
   ],
   "source": [
    "df.printSchema()"
   ]
  },
  {
   "cell_type": "markdown",
   "id": "ecc68329",
   "metadata": {},
   "source": [
    "#### pyspark.sql.DataFrame.explain\n",
    "Prints the (logical and physical) plans to the console for debugging purpose.\n",
    "\n",
    "    Parameters\n",
    "\n",
    "        extended bool, optional\n",
    "\n",
    "            default False. If False, prints only the physical plan. When this is a string without specifying the mode, it works as the mode is specified.\n",
    "        modestr, optional\n",
    "\n",
    "            specifies the expected output format of plans.\n",
    "\n",
    "                simple: Print only a physical plan.\n",
    "\n",
    "                extended: Print both logical and physical plans.\n",
    "\n",
    "                codegen: Print a physical plan and generated codes if they are available.\n",
    "\n",
    "                cost: Print a logical plan and statistics if they are available.\n",
    "\n",
    "                formatted: Split explain output into two sections: a physical plan outline and node details.\n",
    "\n",
    "            "
   ]
  },
  {
   "cell_type": "code",
   "execution_count": 108,
   "id": "19b5a45c",
   "metadata": {},
   "outputs": [
    {
     "name": "stdout",
     "output_type": "stream",
     "text": [
      "== Physical Plan ==\n",
      "*(1) Scan ExistingRDD[name#10975,age#10976L,height#10977L]\n",
      "\n",
      "\n"
     ]
    }
   ],
   "source": [
    "df.explain()"
   ]
  },
  {
   "cell_type": "code",
   "execution_count": 109,
   "id": "d29a81ab",
   "metadata": {},
   "outputs": [
    {
     "name": "stdout",
     "output_type": "stream",
     "text": [
      "== Physical Plan ==\n",
      "*(1) Scan ExistingRDD[name#10975,age#10976L,height#10977L]\n",
      "\n",
      "\n"
     ]
    }
   ],
   "source": [
    "df.explain(mode='simple')"
   ]
  },
  {
   "cell_type": "code",
   "execution_count": 110,
   "id": "67ddcb66",
   "metadata": {},
   "outputs": [
    {
     "name": "stdout",
     "output_type": "stream",
     "text": [
      "== Parsed Logical Plan ==\n",
      "LogicalRDD [name#10975, age#10976L, height#10977L], false\n",
      "\n",
      "== Analyzed Logical Plan ==\n",
      "name: string, age: bigint, height: bigint\n",
      "LogicalRDD [name#10975, age#10976L, height#10977L], false\n",
      "\n",
      "== Optimized Logical Plan ==\n",
      "LogicalRDD [name#10975, age#10976L, height#10977L], false\n",
      "\n",
      "== Physical Plan ==\n",
      "*(1) Scan ExistingRDD[name#10975,age#10976L,height#10977L]\n",
      "\n"
     ]
    }
   ],
   "source": [
    "df.explain(mode='extended')"
   ]
  },
  {
   "cell_type": "code",
   "execution_count": 111,
   "id": "a4afce03",
   "metadata": {},
   "outputs": [
    {
     "name": "stdout",
     "output_type": "stream",
     "text": [
      "Found 1 WholeStageCodegen subtrees.\n",
      "== Subtree 1 / 1 (maxMethodCodeSize:252; maxConstantPoolSize:115(0.18% used); numInnerClasses:0) ==\n",
      "*(1) Scan ExistingRDD[name#10975,age#10976L,height#10977L]\n",
      "\n",
      "Generated code:\n",
      "/* 001 */ public Object generate(Object[] references) {\n",
      "/* 002 */   return new GeneratedIteratorForCodegenStage1(references);\n",
      "/* 003 */ }\n",
      "/* 004 */\n",
      "/* 005 */ // codegenStageId=1\n",
      "/* 006 */ final class GeneratedIteratorForCodegenStage1 extends org.apache.spark.sql.execution.BufferedRowIterator {\n",
      "/* 007 */   private Object[] references;\n",
      "/* 008 */   private scala.collection.Iterator[] inputs;\n",
      "/* 009 */   private scala.collection.Iterator rdd_input_0;\n",
      "/* 010 */   private org.apache.spark.sql.catalyst.expressions.codegen.UnsafeRowWriter[] rdd_mutableStateArray_0 = new org.apache.spark.sql.catalyst.expressions.codegen.UnsafeRowWriter[1];\n",
      "/* 011 */\n",
      "/* 012 */   public GeneratedIteratorForCodegenStage1(Object[] references) {\n",
      "/* 013 */     this.references = references;\n",
      "/* 014 */   }\n",
      "/* 015 */\n",
      "/* 016 */   public void init(int index, scala.collection.Iterator[] inputs) {\n",
      "/* 017 */     partitionIndex = index;\n",
      "/* 018 */     this.inputs = inputs;\n",
      "/* 019 */     rdd_input_0 = inputs[0];\n",
      "/* 020 */     rdd_mutableStateArray_0[0] = new org.apache.spark.sql.catalyst.expressions.codegen.UnsafeRowWriter(3, 32);\n",
      "/* 021 */\n",
      "/* 022 */   }\n",
      "/* 023 */\n",
      "/* 024 */   protected void processNext() throws java.io.IOException {\n",
      "/* 025 */     while ( rdd_input_0.hasNext()) {\n",
      "/* 026 */       InternalRow rdd_row_0 = (InternalRow) rdd_input_0.next();\n",
      "/* 027 */       ((org.apache.spark.sql.execution.metric.SQLMetric) references[0] /* numOutputRows */).add(1);\n",
      "/* 028 */       boolean rdd_isNull_0 = rdd_row_0.isNullAt(0);\n",
      "/* 029 */       UTF8String rdd_value_0 = rdd_isNull_0 ?\n",
      "/* 030 */       null : (rdd_row_0.getUTF8String(0));\n",
      "/* 031 */       boolean rdd_isNull_1 = rdd_row_0.isNullAt(1);\n",
      "/* 032 */       long rdd_value_1 = rdd_isNull_1 ?\n",
      "/* 033 */       -1L : (rdd_row_0.getLong(1));\n",
      "/* 034 */       boolean rdd_isNull_2 = rdd_row_0.isNullAt(2);\n",
      "/* 035 */       long rdd_value_2 = rdd_isNull_2 ?\n",
      "/* 036 */       -1L : (rdd_row_0.getLong(2));\n",
      "/* 037 */       rdd_mutableStateArray_0[0].reset();\n",
      "/* 038 */\n",
      "/* 039 */       rdd_mutableStateArray_0[0].zeroOutNullBytes();\n",
      "/* 040 */\n",
      "/* 041 */       if (rdd_isNull_0) {\n",
      "/* 042 */         rdd_mutableStateArray_0[0].setNullAt(0);\n",
      "/* 043 */       } else {\n",
      "/* 044 */         rdd_mutableStateArray_0[0].write(0, rdd_value_0);\n",
      "/* 045 */       }\n",
      "/* 046 */\n",
      "/* 047 */       if (rdd_isNull_1) {\n",
      "/* 048 */         rdd_mutableStateArray_0[0].setNullAt(1);\n",
      "/* 049 */       } else {\n",
      "/* 050 */         rdd_mutableStateArray_0[0].write(1, rdd_value_1);\n",
      "/* 051 */       }\n",
      "/* 052 */\n",
      "/* 053 */       if (rdd_isNull_2) {\n",
      "/* 054 */         rdd_mutableStateArray_0[0].setNullAt(2);\n",
      "/* 055 */       } else {\n",
      "/* 056 */         rdd_mutableStateArray_0[0].write(2, rdd_value_2);\n",
      "/* 057 */       }\n",
      "/* 058 */       append((rdd_mutableStateArray_0[0].getRow()));\n",
      "/* 059 */       if (shouldStop()) return;\n",
      "/* 060 */     }\n",
      "/* 061 */   }\n",
      "/* 062 */\n",
      "/* 063 */ }\n",
      "\n",
      "\n"
     ]
    }
   ],
   "source": [
    "df.explain(mode='codegen')"
   ]
  },
  {
   "cell_type": "markdown",
   "id": "317c9af5",
   "metadata": {},
   "source": [
    "#### pyspark.sql.DataFrame.fillna"
   ]
  },
  {
   "cell_type": "code",
   "execution_count": 112,
   "id": "0dc91910",
   "metadata": {},
   "outputs": [
    {
     "name": "stdout",
     "output_type": "stream",
     "text": [
      "+-----+----+------+\n",
      "| name| age|height|\n",
      "+-----+----+------+\n",
      "|Alice|   5|    80|\n",
      "|Alice|null|    80|\n",
      "|Alice|  10|    80|\n",
      "|  BOB|null|    80|\n",
      "| null|null|  null|\n",
      "+-----+----+------+\n",
      "\n"
     ]
    }
   ],
   "source": [
    "df.show()"
   ]
  },
  {
   "cell_type": "code",
   "execution_count": 117,
   "id": "776bb21e",
   "metadata": {},
   "outputs": [
    {
     "name": "stdout",
     "output_type": "stream",
     "text": [
      "+-------+----+------+\n",
      "|   name| age|height|\n",
      "+-------+----+------+\n",
      "|  Alice|   5|    80|\n",
      "|  Alice|null|    80|\n",
      "|  Alice|  10|    80|\n",
      "|    BOB|null|    80|\n",
      "|no name|null|  null|\n",
      "+-------+----+------+\n",
      "\n"
     ]
    }
   ],
   "source": [
    "df.fillna(value='no name').show()"
   ]
  },
  {
   "cell_type": "code",
   "execution_count": 115,
   "id": "2062e017",
   "metadata": {},
   "outputs": [
    {
     "name": "stdout",
     "output_type": "stream",
     "text": [
      "+-----+---+------+\n",
      "| name|age|height|\n",
      "+-----+---+------+\n",
      "|Alice|  5|    80|\n",
      "|Alice| 50|    80|\n",
      "|Alice| 10|    80|\n",
      "|  BOB| 50|    80|\n",
      "| null| 50|    50|\n",
      "+-----+---+------+\n",
      "\n"
     ]
    }
   ],
   "source": [
    "df.fillna(value=50).show()"
   ]
  },
  {
   "cell_type": "code",
   "execution_count": 118,
   "id": "95a1b660",
   "metadata": {},
   "outputs": [
    {
     "name": "stdout",
     "output_type": "stream",
     "text": [
      "+-------+---+------+\n",
      "|   name|age|height|\n",
      "+-------+---+------+\n",
      "|  Alice|  5|    80|\n",
      "|  Alice|555|    80|\n",
      "|  Alice| 10|    80|\n",
      "|    BOB|555|    80|\n",
      "|No Name|555|   100|\n",
      "+-------+---+------+\n",
      "\n"
     ]
    }
   ],
   "source": [
    "df.na.fill({'name':'No Name', 'age':555, 'height':100}).show()"
   ]
  },
  {
   "cell_type": "code",
   "execution_count": 119,
   "id": "7334df70",
   "metadata": {},
   "outputs": [
    {
     "name": "stdout",
     "output_type": "stream",
     "text": [
      "+-----+---+------+\n",
      "| name|age|height|\n",
      "+-----+---+------+\n",
      "|Alice|  5|    80|\n",
      "|Alice| 10|    80|\n",
      "+-----+---+------+\n",
      "\n"
     ]
    }
   ],
   "source": [
    "df.na.drop(how='any').show()"
   ]
  },
  {
   "cell_type": "code",
   "execution_count": 120,
   "id": "f7b2b8f8",
   "metadata": {},
   "outputs": [
    {
     "name": "stdout",
     "output_type": "stream",
     "text": [
      "+-----+----+------+\n",
      "| name| age|height|\n",
      "+-----+----+------+\n",
      "|Alice|   5|    80|\n",
      "|Alice|null|    80|\n",
      "|Alice|  10|    80|\n",
      "|  BOB|null|    80|\n",
      "+-----+----+------+\n",
      "\n"
     ]
    }
   ],
   "source": [
    "df.na.drop(how='all').show()"
   ]
  },
  {
   "cell_type": "markdown",
   "id": "2c5b1176",
   "metadata": {},
   "source": [
    "#### pyspark.sql.DataFrame.filter\n",
    "Filters rows using the given condition.\n",
    "\n",
    "    where() is an alias for filter()."
   ]
  },
  {
   "cell_type": "code",
   "execution_count": 122,
   "id": "ee86dd9b",
   "metadata": {},
   "outputs": [
    {
     "name": "stdout",
     "output_type": "stream",
     "text": [
      "+-----+------------+------------+----------+-------+---------+---+--------+--------+----+------+-------+------------+-------------+--------------+-------+-------------+-------+--------------------+---+---+\n",
      "|USMER|MEDICAL_UNIT|PATIENT_TYPE| DATE_DIED|INTUBED|PNEUMONIA|AGE|PREGNANT|DIABETES|COPD|ASTHMA|INMSUPR|HIPERTENSION|OTHER_DISEASE|CARDIOVASCULAR|OBESITY|RENAL_CHRONIC|TOBACCO|CLASIFFICATION_FINAL|ICU|SEX|\n",
      "+-----+------------+------------+----------+-------+---------+---+--------+--------+----+------+-------+------------+-------------+--------------+-------+-------------+-------+--------------------+---+---+\n",
      "|    2|           1|           1|03/06/2020|     97|        1| 72|      97|       2|   2|     2|      2|           1|            2|             2|      1|            1|      2|                   5| 97|  2|\n",
      "|    2|           1|           2|09/06/2020|      1|        2| 55|      97|       1|   2|     2|      2|           2|            2|             2|      2|            2|      2|                   3|  2|  2|\n",
      "|    2|           1|           1|21/06/2020|     97|        2| 68|      97|       1|   2|     2|      2|           1|            2|             2|      2|            2|      2|                   3| 97|  2|\n",
      "|    2|           1|           1|9999-99-99|     97|        2| 55|      97|       2|   2|     2|      2|           2|            2|             2|      2|            2|      2|                   3| 97|  2|\n",
      "|    2|           1|           1|9999-99-99|     97|        2| 61|      97|       2|   2|     2|      2|           2|            2|             2|      2|            2|      2|                   3| 97|  2|\n",
      "|    2|           1|           1|9999-99-99|     97|        2| 54|      97|       2|   2|     2|      2|           2|            2|             2|      2|            2|      2|                   3| 97|  2|\n",
      "|    2|           1|           2|9999-99-99|      2|        1| 59|      97|       1|   2|     2|      2|           2|            2|             2|      2|            2|      1|                   3|  1|  2|\n",
      "|    2|           1|           1|9999-99-99|     97|        2| 59|      97|       2|   1|     2|      2|           2|            2|             2|      2|            2|      1|                   7| 97|  2|\n",
      "|    2|           1|           2|9999-99-99|      2|        2| 56|      97|       2|   2|     2|      2|           2|            2|             2|      2|            2|      2|                   7|  2|  2|\n",
      "|    2|           1|           1|9999-99-99|     97|        2| 57|      97|       2|   2|     2|      2|           2|            2|             2|      1|            2|      2|                   7| 97|  2|\n",
      "|    2|           1|           1|9999-99-99|     97|        2| 57|      97|       2|   2|     2|      2|           2|            2|             2|      2|            2|      1|                   7| 97|  2|\n",
      "|    2|           1|           1|9999-99-99|     97|        2| 57|      97|       2|   2|     2|      2|           2|            2|             2|      2|            2|      2|                   7| 97|  2|\n",
      "|    2|           1|           1|9999-99-99|     97|        2| 66|      97|       2|   2|     2|      2|           1|            2|             2|      2|            2|      2|                   7| 97|  2|\n",
      "|    2|           1|           2|9999-99-99|      2|        2| 90|      97|       2|   2|     2|      2|           2|            2|             2|      2|            2|      2|                   7|  2|  2|\n",
      "|    2|           1|           1|9999-99-99|     97|        2| 62|      97|       1|   2|     2|      2|           2|            2|             2|      2|            2|      2|                   7| 97|  2|\n",
      "|    2|           1|           1|9999-99-99|     97|        2| 52|      97|       2|   2|     2|      2|           2|            2|             2|      2|            2|      2|                   7| 97|  2|\n",
      "|    2|           1|           1|9999-99-99|     97|        2| 56|      97|       1|   2|     2|      2|           2|            2|             2|      2|            2|      2|                   7| 97|  2|\n",
      "|    2|           1|           1|9999-99-99|     97|        2| 59|      97|       2|   2|     2|      2|           2|            2|             2|      2|            2|      2|                   7| 97|  2|\n",
      "|    2|           1|           1|9999-99-99|     97|        2| 66|      97|       2|   2|     2|      2|           2|            2|             2|      2|            2|      2|                   7| 97|  2|\n",
      "|    2|           1|           1|9999-99-99|     97|        2| 58|      97|       2|   2|     2|      2|           2|            2|             2|      2|            2|      2|                   7| 97|  2|\n",
      "+-----+------------+------------+----------+-------+---------+---+--------+--------+----+------+-------+------------+-------------+--------------+-------+-------------+-------+--------------------+---+---+\n",
      "only showing top 20 rows\n",
      "\n"
     ]
    }
   ],
   "source": [
    "df.select('*').filter(df.AGE >50).show()"
   ]
  },
  {
   "cell_type": "code",
   "execution_count": 123,
   "id": "d97fedfa",
   "metadata": {},
   "outputs": [
    {
     "data": {
      "text/plain": [
       "523511"
      ]
     },
     "execution_count": 123,
     "metadata": {},
     "output_type": "execute_result"
    }
   ],
   "source": [
    "df.filter(df.SEX == 2).count()"
   ]
  },
  {
   "cell_type": "code",
   "execution_count": 124,
   "id": "9562e842",
   "metadata": {},
   "outputs": [
    {
     "data": {
      "text/plain": [
       "525064"
      ]
     },
     "execution_count": 124,
     "metadata": {},
     "output_type": "execute_result"
    }
   ],
   "source": [
    "df.filter(df.SEX != 2).count()"
   ]
  },
  {
   "cell_type": "code",
   "execution_count": 125,
   "id": "80ddbe1c",
   "metadata": {},
   "outputs": [
    {
     "data": {
      "text/plain": [
       "767388"
      ]
     },
     "execution_count": 125,
     "metadata": {},
     "output_type": "execute_result"
    }
   ],
   "source": [
    "df.where(df.AGE > 30).count()"
   ]
  },
  {
   "cell_type": "code",
   "execution_count": 127,
   "id": "fe577c1e",
   "metadata": {},
   "outputs": [
    {
     "data": {
      "text/plain": [
       "386763"
      ]
     },
     "execution_count": 127,
     "metadata": {},
     "output_type": "execute_result"
    }
   ],
   "source": [
    "df.filter((df.SEX == 2)&(df.AGE > 30)).count()"
   ]
  },
  {
   "cell_type": "code",
   "execution_count": 128,
   "id": "4119d4d4",
   "metadata": {},
   "outputs": [
    {
     "data": {
      "text/plain": [
       "904136"
      ]
     },
     "execution_count": 128,
     "metadata": {},
     "output_type": "execute_result"
    }
   ],
   "source": [
    "df.filter((df.SEX == 2)|(df.AGE > 30)).count()"
   ]
  },
  {
   "cell_type": "markdown",
   "id": "ce9532e6",
   "metadata": {},
   "source": [
    "#### pyspark.sql.DataFrame.first"
   ]
  },
  {
   "cell_type": "code",
   "execution_count": 130,
   "id": "c69fccff",
   "metadata": {},
   "outputs": [
    {
     "data": {
      "text/plain": [
       "Row(USMER=2, MEDICAL_UNIT=1, PATIENT_TYPE=1, DATE_DIED='03/06/2020', INTUBED=97, PNEUMONIA=1, AGE=72, PREGNANT=97, DIABETES=2, COPD=2, ASTHMA=2, INMSUPR=2, HIPERTENSION=1, OTHER_DISEASE=2, CARDIOVASCULAR=2, OBESITY=1, RENAL_CHRONIC=1, TOBACCO=2, CLASIFFICATION_FINAL=5, ICU=97, SEX=2)"
      ]
     },
     "execution_count": 130,
     "metadata": {},
     "output_type": "execute_result"
    }
   ],
   "source": [
    "df.first()"
   ]
  },
  {
   "cell_type": "markdown",
   "id": "154049d0",
   "metadata": {},
   "source": [
    "#### pyspark.sql.DataFrame.foreach¶\n",
    "Applies the f function to all Row of this DataFrame.\n",
    "\n",
    "    This is a shorthand for df.rdd.foreach()"
   ]
  },
  {
   "cell_type": "code",
   "execution_count": 132,
   "id": "dc961e80",
   "metadata": {},
   "outputs": [
    {
     "name": "stderr",
     "output_type": "stream",
     "text": [
      "                                                                                \r"
     ]
    }
   ],
   "source": [
    "accum = sparkSession.sparkContext.accumulator(0)\n",
    "df.foreach(lambda data: accum.add(data.AGE))"
   ]
  },
  {
   "cell_type": "code",
   "execution_count": 134,
   "id": "696df243",
   "metadata": {},
   "outputs": [
    {
     "data": {
      "text/plain": [
       "43824251"
      ]
     },
     "execution_count": 134,
     "metadata": {},
     "output_type": "execute_result"
    }
   ],
   "source": [
    "accum.value"
   ]
  },
  {
   "cell_type": "markdown",
   "id": "cc9b857f",
   "metadata": {},
   "source": [
    "#### pyspark.sql.DataFrame.groupBy\n",
    "Groups the DataFrame using the specified columns, so we can run aggregation on them. See GroupedData for all the available aggregate functions.\n",
    "\n",
    "    groupby() is an alias for groupBy()."
   ]
  },
  {
   "cell_type": "code",
   "execution_count": 3,
   "id": "6a2b1680",
   "metadata": {},
   "outputs": [
    {
     "name": "stderr",
     "output_type": "stream",
     "text": [
      "                                                                                \r"
     ]
    },
    {
     "name": "stdout",
     "output_type": "stream",
     "text": [
      "+---------+-----------------+--------------------+----------------------+---------------+---------------+------------------+----------------+---------------+---------------+\n",
      "|  country|total_consumption|recorded_consumption|unrecorded_consumption|beer_percentage|wine_percentage|spirits_percentage|other_percentage|2020_projection|2025_projection|\n",
      "+---------+-----------------+--------------------+----------------------+---------------+---------------+------------------+----------------+---------------+---------------+\n",
      "|  Estonia|             16.9|                15.8|                   1.1|           32.7|            7.4|              50.3|             9.6|           11.5|           11.9|\n",
      "|Lithuania|             15.0|                13.8|                   1.2|           43.6|            7.3|              37.1|            12.1|           14.4|           13.9|\n",
      "+---------+-----------------+--------------------+----------------------+---------------+---------------+------------------+----------------+---------------+---------------+\n",
      "only showing top 2 rows\n",
      "\n"
     ]
    }
   ],
   "source": [
    "data = sparkSession.read.csv('/Datasets/alcohol.csv', header=True, inferSchema=True)\n",
    "data.show(2)"
   ]
  },
  {
   "cell_type": "code",
   "execution_count": 4,
   "id": "27229b76",
   "metadata": {},
   "outputs": [
    {
     "name": "stderr",
     "output_type": "stream",
     "text": [
      "\r",
      "[Stage 5:>                                                          (0 + 1) / 1]\r"
     ]
    },
    {
     "name": "stdout",
     "output_type": "stream",
     "text": [
      "+-----------+-----+\n",
      "|    country|count|\n",
      "+-----------+-----+\n",
      "|       Chad|    1|\n",
      "|     Russia|    1|\n",
      "|   Paraguay|    1|\n",
      "|      Yemen|    1|\n",
      "|    Senegal|    1|\n",
      "|     Sweden|    1|\n",
      "|   Kiribati|    1|\n",
      "|     Guyana|    1|\n",
      "|Philippines|    1|\n",
      "|    Eritrea|    1|\n",
      "|      Tonga|    1|\n",
      "|   Djibouti|    1|\n",
      "|  Singapore|    1|\n",
      "|   Malaysia|    1|\n",
      "|       Fiji|    1|\n",
      "|     Turkey|    1|\n",
      "|     Malawi|    1|\n",
      "|       Iraq|    1|\n",
      "|    Germany|    1|\n",
      "|    Comoros|    1|\n",
      "+-----------+-----+\n",
      "only showing top 20 rows\n",
      "\n"
     ]
    },
    {
     "name": "stderr",
     "output_type": "stream",
     "text": [
      "\r",
      "                                                                                \r"
     ]
    }
   ],
   "source": [
    "data.groupBy('country').count().show()"
   ]
  },
  {
   "cell_type": "code",
   "execution_count": 6,
   "id": "0029ff41",
   "metadata": {},
   "outputs": [
    {
     "data": {
      "text/plain": [
       "['USMER',\n",
       " 'MEDICAL_UNIT',\n",
       " 'PATIENT_TYPE',\n",
       " 'DATE_DIED',\n",
       " 'INTUBED',\n",
       " 'PNEUMONIA',\n",
       " 'AGE',\n",
       " 'PREGNANT',\n",
       " 'DIABETES',\n",
       " 'COPD',\n",
       " 'ASTHMA',\n",
       " 'INMSUPR',\n",
       " 'HIPERTENSION',\n",
       " 'OTHER_DISEASE',\n",
       " 'CARDIOVASCULAR',\n",
       " 'OBESITY',\n",
       " 'RENAL_CHRONIC',\n",
       " 'TOBACCO',\n",
       " 'CLASIFFICATION_FINAL',\n",
       " 'ICU',\n",
       " 'SEX']"
      ]
     },
     "execution_count": 6,
     "metadata": {},
     "output_type": "execute_result"
    }
   ],
   "source": [
    "df.columns"
   ]
  },
  {
   "cell_type": "code",
   "execution_count": 7,
   "id": "7a195b95",
   "metadata": {},
   "outputs": [
    {
     "name": "stdout",
     "output_type": "stream",
     "text": [
      "+---+------+\n",
      "|SEX| count|\n",
      "+---+------+\n",
      "|  1|525064|\n",
      "|  2|523511|\n",
      "+---+------+\n",
      "\n"
     ]
    }
   ],
   "source": [
    "df.groupBy('SEX').count().show()"
   ]
  },
  {
   "cell_type": "code",
   "execution_count": 12,
   "id": "867fdbb0",
   "metadata": {},
   "outputs": [
    {
     "name": "stderr",
     "output_type": "stream",
     "text": [
      "\r",
      "[Stage 15:=============================>                            (1 + 1) / 2]\r"
     ]
    },
    {
     "name": "stdout",
     "output_type": "stream",
     "text": [
      "+---+--------+\n",
      "|SEX|max(AGE)|\n",
      "+---+--------+\n",
      "|  1|     121|\n",
      "|  2|     120|\n",
      "+---+--------+\n",
      "\n"
     ]
    },
    {
     "name": "stderr",
     "output_type": "stream",
     "text": [
      "\r",
      "                                                                                \r"
     ]
    }
   ],
   "source": [
    "df.groupBy('SEX').agg({'AGE':'max'}).show()"
   ]
  },
  {
   "cell_type": "code",
   "execution_count": 13,
   "id": "7c23355a",
   "metadata": {},
   "outputs": [
    {
     "name": "stdout",
     "output_type": "stream",
     "text": [
      "+---+--------+\n",
      "|SEX|min(AGE)|\n",
      "+---+--------+\n",
      "|  1|       0|\n",
      "|  2|       0|\n",
      "+---+--------+\n",
      "\n"
     ]
    }
   ],
   "source": [
    "df.groupBy('SEX').agg({'AGE':'min'}).show()"
   ]
  },
  {
   "cell_type": "code",
   "execution_count": 14,
   "id": "0e144743",
   "metadata": {},
   "outputs": [
    {
     "name": "stdout",
     "output_type": "stream",
     "text": [
      "+---+------------------+\n",
      "|SEX|          avg(AGE)|\n",
      "+---+------------------+\n",
      "|  1|41.315197766367525|\n",
      "|  2|42.274427853473945|\n",
      "+---+------------------+\n",
      "\n"
     ]
    }
   ],
   "source": [
    "df.groupBy('SEX').agg({'AGE':'avg'}).show()"
   ]
  },
  {
   "cell_type": "code",
   "execution_count": 15,
   "id": "49a70884",
   "metadata": {},
   "outputs": [
    {
     "name": "stderr",
     "output_type": "stream",
     "text": [
      "\r",
      "[Stage 24:=============================>                            (1 + 1) / 2]\r",
      "\r",
      "                                                                                \r"
     ]
    },
    {
     "name": "stdout",
     "output_type": "stream",
     "text": [
      "+---+--------+------+\n",
      "|SEX|DIABETES| count|\n",
      "+---+--------+------+\n",
      "|  2|       2|457318|\n",
      "|  1|       2|462930|\n",
      "|  1|       1| 60745|\n",
      "|  2|      98|  1949|\n",
      "|  2|       1| 64244|\n",
      "|  1|      98|  1389|\n",
      "+---+--------+------+\n",
      "\n"
     ]
    }
   ],
   "source": [
    "df.groupBy('SEX','DIABETES').count().show()"
   ]
  },
  {
   "cell_type": "code",
   "execution_count": 19,
   "id": "d6bf7475",
   "metadata": {},
   "outputs": [
    {
     "name": "stdout",
     "output_type": "stream",
     "text": [
      "+---+--------+--------+\n",
      "|SEX|DIABETES|max(AGE)|\n",
      "+---+--------+--------+\n",
      "|  2|       2|     120|\n",
      "|  1|       2|     121|\n",
      "|  1|       1|     108|\n",
      "|  2|      98|     101|\n",
      "|  2|       1|     120|\n",
      "|  1|      98|     102|\n",
      "+---+--------+--------+\n",
      "\n"
     ]
    }
   ],
   "source": [
    "df.groupBy('SEX','DIABETES').agg({'AGE':'max'}).show()"
   ]
  },
  {
   "cell_type": "code",
   "execution_count": 20,
   "id": "a5b90637",
   "metadata": {},
   "outputs": [
    {
     "name": "stdout",
     "output_type": "stream",
     "text": [
      "+---+--------+------------------+\n",
      "|SEX|DIABETES|          avg(AGE)|\n",
      "+---+--------+------------------+\n",
      "|  2|       2| 40.16971997603418|\n",
      "|  1|       2| 39.25069664960145|\n",
      "|  1|       1| 56.88099432052021|\n",
      "|  2|      98|49.321190354027706|\n",
      "|  2|       1| 57.04291451341759|\n",
      "|  1|      98| 48.64074874010079|\n",
      "+---+--------+------------------+\n",
      "\n"
     ]
    }
   ],
   "source": [
    "df.groupBy('SEX','DIABETES').agg({'AGE':'avg'}).show()"
   ]
  },
  {
   "cell_type": "markdown",
   "id": "e4f8d8b8",
   "metadata": {},
   "source": [
    "#### pyspark.sql.DataFrame.head\n",
    "Returns the first n rows."
   ]
  },
  {
   "cell_type": "code",
   "execution_count": 21,
   "id": "51d29ba0",
   "metadata": {},
   "outputs": [
    {
     "data": {
      "text/plain": [
       "Row(USMER=2, MEDICAL_UNIT=1, PATIENT_TYPE=1, DATE_DIED='03/06/2020', INTUBED=97, PNEUMONIA=1, AGE=72, PREGNANT=97, DIABETES=2, COPD=2, ASTHMA=2, INMSUPR=2, HIPERTENSION=1, OTHER_DISEASE=2, CARDIOVASCULAR=2, OBESITY=1, RENAL_CHRONIC=1, TOBACCO=2, CLASIFFICATION_FINAL=5, ICU=97, SEX=2)"
      ]
     },
     "execution_count": 21,
     "metadata": {},
     "output_type": "execute_result"
    }
   ],
   "source": [
    "df.head()"
   ]
  },
  {
   "cell_type": "code",
   "execution_count": 22,
   "id": "2935e0d8",
   "metadata": {},
   "outputs": [
    {
     "data": {
      "text/plain": [
       "[Row(USMER=2, MEDICAL_UNIT=1, PATIENT_TYPE=1, DATE_DIED='03/06/2020', INTUBED=97, PNEUMONIA=1, AGE=72, PREGNANT=97, DIABETES=2, COPD=2, ASTHMA=2, INMSUPR=2, HIPERTENSION=1, OTHER_DISEASE=2, CARDIOVASCULAR=2, OBESITY=1, RENAL_CHRONIC=1, TOBACCO=2, CLASIFFICATION_FINAL=5, ICU=97, SEX=2),\n",
       " Row(USMER=2, MEDICAL_UNIT=1, PATIENT_TYPE=2, DATE_DIED='09/06/2020', INTUBED=1, PNEUMONIA=2, AGE=55, PREGNANT=97, DIABETES=1, COPD=2, ASTHMA=2, INMSUPR=2, HIPERTENSION=2, OTHER_DISEASE=2, CARDIOVASCULAR=2, OBESITY=2, RENAL_CHRONIC=2, TOBACCO=2, CLASIFFICATION_FINAL=3, ICU=2, SEX=2),\n",
       " Row(USMER=2, MEDICAL_UNIT=1, PATIENT_TYPE=1, DATE_DIED='21/06/2020', INTUBED=97, PNEUMONIA=2, AGE=68, PREGNANT=97, DIABETES=1, COPD=2, ASTHMA=2, INMSUPR=2, HIPERTENSION=1, OTHER_DISEASE=2, CARDIOVASCULAR=2, OBESITY=2, RENAL_CHRONIC=2, TOBACCO=2, CLASIFFICATION_FINAL=3, ICU=97, SEX=2),\n",
       " Row(USMER=2, MEDICAL_UNIT=1, PATIENT_TYPE=2, DATE_DIED='9999-99-99', INTUBED=2, PNEUMONIA=2, AGE=24, PREGNANT=97, DIABETES=2, COPD=2, ASTHMA=2, INMSUPR=2, HIPERTENSION=2, OTHER_DISEASE=2, CARDIOVASCULAR=2, OBESITY=2, RENAL_CHRONIC=2, TOBACCO=2, CLASIFFICATION_FINAL=3, ICU=2, SEX=2),\n",
       " Row(USMER=2, MEDICAL_UNIT=1, PATIENT_TYPE=2, DATE_DIED='9999-99-99', INTUBED=2, PNEUMONIA=2, AGE=30, PREGNANT=97, DIABETES=2, COPD=2, ASTHMA=2, INMSUPR=2, HIPERTENSION=2, OTHER_DISEASE=2, CARDIOVASCULAR=2, OBESITY=2, RENAL_CHRONIC=2, TOBACCO=2, CLASIFFICATION_FINAL=3, ICU=2, SEX=2)]"
      ]
     },
     "execution_count": 22,
     "metadata": {},
     "output_type": "execute_result"
    }
   ],
   "source": [
    "df.head(5)"
   ]
  },
  {
   "cell_type": "markdown",
   "id": "ed25a936",
   "metadata": {},
   "source": [
    "#### pyspark.sql.DataFrame.intersect\n",
    "Return a new DataFrame containing rows only in both this DataFrame and another DataFrame.\n",
    "This is equivalent to INTERSECT in SQL."
   ]
  },
  {
   "cell_type": "code",
   "execution_count": 34,
   "id": "89968dd6",
   "metadata": {},
   "outputs": [],
   "source": [
    "df1 = sparkSession.createDataFrame([('nilesh',23),('pawan', 21),('ramesh',23),('ram', 21)], schema=['Name','Age'])\n",
    "df2 = sparkSession.createDataFrame([('rakesh',24),('pawan', 21),('nilesh',23),('raj', 21)], schema=['Name','Age'])"
   ]
  },
  {
   "cell_type": "code",
   "execution_count": 35,
   "id": "e22ccddb",
   "metadata": {},
   "outputs": [
    {
     "name": "stdout",
     "output_type": "stream",
     "text": [
      "+------+---+\n",
      "|  Name|Age|\n",
      "+------+---+\n",
      "| pawan| 21|\n",
      "|nilesh| 23|\n",
      "+------+---+\n",
      "\n"
     ]
    }
   ],
   "source": [
    "df1.intersect(df2).show()"
   ]
  },
  {
   "cell_type": "markdown",
   "id": "fdbd72c6",
   "metadata": {},
   "source": [
    "#### pyspark.sql.DataFrame.intersectAll\n",
    "Return a new DataFrame containing rows in both this DataFrame and another DataFrame while preserving duplicates.\n",
    "This is equivalent to INTERSECT ALL in SQL. As standard in SQL, this function resolves columns by position (not by name)."
   ]
  },
  {
   "cell_type": "code",
   "execution_count": 36,
   "id": "3d7e0318",
   "metadata": {},
   "outputs": [
    {
     "name": "stdout",
     "output_type": "stream",
     "text": [
      "+------+---+\n",
      "|  Name|Age|\n",
      "+------+---+\n",
      "| pawan| 21|\n",
      "|nilesh| 23|\n",
      "+------+---+\n",
      "\n"
     ]
    }
   ],
   "source": [
    "df1.intersectAll(df2).show()"
   ]
  },
  {
   "cell_type": "markdown",
   "id": "0eb386d0",
   "metadata": {},
   "source": [
    "#### pyspark.sql.DataFrame.isEmpty"
   ]
  },
  {
   "cell_type": "code",
   "execution_count": 37,
   "id": "86b6bd1d",
   "metadata": {},
   "outputs": [
    {
     "data": {
      "text/plain": [
       "False"
      ]
     },
     "execution_count": 37,
     "metadata": {},
     "output_type": "execute_result"
    }
   ],
   "source": [
    "df1.isEmpty()"
   ]
  },
  {
   "cell_type": "markdown",
   "id": "f8220a03",
   "metadata": {},
   "source": [
    "#### pyspark.sql.DataFrame.join"
   ]
  },
  {
   "cell_type": "markdown",
   "id": "cca353bc",
   "metadata": {},
   "source": [
    "PySpark Join is used to combine two DataFrames and by chaining these you can join multiple DataFrames; it supports all basic join type operations available in traditional SQL like INNER, LEFT OUTER, RIGHT OUTER, LEFT ANTI, LEFT SEMI, CROSS, SELF JOIN. PySpark Joins are wider transformations that involve data shuffling across the network.\n",
    "\n",
    "PySpark SQL Joins comes with more optimization by default (thanks to DataFrames) however still there would be some performance issues to consider while using. \n",
    "\n",
    "\n",
    "\n",
    "join() operation takes parameters as below and returns DataFrame.\n",
    "\n",
    "    param other: Right side of the join\n",
    "    param on: a string for the join column name\n",
    "    param how: default inner. Must be one of inner, cross, outer,full, full_outer, left, left_outer, right, right_outer,left_semi, and left_anti.\n",
    "\n",
    "You can also write Join expression by adding where() and filter() methods on DataFrame and can have Join on multiple columns. \n",
    "\n",
    "#### PySpark Inner Join DataFrame\n",
    "\n",
    "Inner join is the default join in PySpark and it’s mostly used. This joins two datasets on key columns, where keys don’t match the rows get dropped from both datasets (emp & dept). "
   ]
  },
  {
   "cell_type": "code",
   "execution_count": 4,
   "id": "a37a099e",
   "metadata": {},
   "outputs": [
    {
     "name": "stdout",
     "output_type": "stream",
     "text": [
      "root\n",
      " |-- emp_id: long (nullable = true)\n",
      " |-- name: string (nullable = true)\n",
      " |-- superior_emp_id: long (nullable = true)\n",
      " |-- year_joined: string (nullable = true)\n",
      " |-- emp_dept_id: string (nullable = true)\n",
      " |-- gender: string (nullable = true)\n",
      " |-- salary: long (nullable = true)\n",
      "\n"
     ]
    },
    {
     "name": "stderr",
     "output_type": "stream",
     "text": [
      "                                                                                \r"
     ]
    },
    {
     "name": "stdout",
     "output_type": "stream",
     "text": [
      "+------+--------+---------------+-----------+-----------+------+------+\n",
      "|emp_id|name    |superior_emp_id|year_joined|emp_dept_id|gender|salary|\n",
      "+------+--------+---------------+-----------+-----------+------+------+\n",
      "|1     |Smith   |-1             |2018       |10         |M     |3000  |\n",
      "|2     |Rose    |1              |2010       |20         |M     |4000  |\n",
      "|3     |Williams|1              |2010       |10         |M     |1000  |\n",
      "|4     |Jones   |2              |2005       |10         |F     |2000  |\n",
      "|5     |Brown   |2              |2010       |40         |      |-1    |\n",
      "|6     |Brown   |2              |2010       |50         |      |-1    |\n",
      "+------+--------+---------------+-----------+-----------+------+------+\n",
      "\n",
      "root\n",
      " |-- dept_name: string (nullable = true)\n",
      " |-- dept_id: long (nullable = true)\n",
      "\n",
      "+---------+-------+\n",
      "|dept_name|dept_id|\n",
      "+---------+-------+\n",
      "|Finance  |10     |\n",
      "|Marketing|20     |\n",
      "|Sales    |30     |\n",
      "|IT       |40     |\n",
      "+---------+-------+\n",
      "\n"
     ]
    }
   ],
   "source": [
    "\n",
    "emp = [(1,\"Smith\",-1,\"2018\",\"10\",\"M\",3000), \\\n",
    "    (2,\"Rose\",1,\"2010\",\"20\",\"M\",4000), \\\n",
    "    (3,\"Williams\",1,\"2010\",\"10\",\"M\",1000), \\\n",
    "    (4,\"Jones\",2,\"2005\",\"10\",\"F\",2000), \\\n",
    "    (5,\"Brown\",2,\"2010\",\"40\",\"\",-1), \\\n",
    "      (6,\"Brown\",2,\"2010\",\"50\",\"\",-1) \\\n",
    "  ]\n",
    "empColumns = [\"emp_id\",\"name\",\"superior_emp_id\",\"year_joined\", \\\n",
    "       \"emp_dept_id\",\"gender\",\"salary\"]\n",
    "\n",
    "empDF = sparkSession.createDataFrame(data=emp, schema = empColumns)\n",
    "empDF.printSchema()\n",
    "empDF.show(truncate=False)\n",
    "\n",
    "dept = [(\"Finance\",10), \\\n",
    "    (\"Marketing\",20), \\\n",
    "    (\"Sales\",30), \\\n",
    "    (\"IT\",40) \\\n",
    "  ]\n",
    "deptColumns = [\"dept_name\",\"dept_id\"]\n",
    "deptDF = sparkSession.createDataFrame(data=dept, schema = deptColumns)\n",
    "deptDF.printSchema()\n",
    "deptDF.show(truncate=False)\n"
   ]
  },
  {
   "cell_type": "code",
   "execution_count": 42,
   "id": "78675c67",
   "metadata": {},
   "outputs": [
    {
     "name": "stdout",
     "output_type": "stream",
     "text": [
      "+------+--------+---------------+-----------+-----------+------+------+---------+-------+\n",
      "|emp_id|name    |superior_emp_id|year_joined|emp_dept_id|gender|salary|dept_name|dept_id|\n",
      "+------+--------+---------------+-----------+-----------+------+------+---------+-------+\n",
      "|1     |Smith   |-1             |2018       |10         |M     |3000  |Finance  |10     |\n",
      "|3     |Williams|1              |2010       |10         |M     |1000  |Finance  |10     |\n",
      "|4     |Jones   |2              |2005       |10         |F     |2000  |Finance  |10     |\n",
      "|2     |Rose    |1              |2010       |20         |M     |4000  |Marketing|20     |\n",
      "|5     |Brown   |2              |2010       |40         |      |-1    |IT       |40     |\n",
      "+------+--------+---------------+-----------+-----------+------+------+---------+-------+\n",
      "\n"
     ]
    }
   ],
   "source": [
    "empDF.join(deptDF, empDF.emp_dept_id == deptDF.dept_id, 'inner').show(truncate=False)"
   ]
  },
  {
   "cell_type": "code",
   "execution_count": 43,
   "id": "2fa27fbd",
   "metadata": {},
   "outputs": [
    {
     "ename": "AnalysisException",
     "evalue": "USING column `dept_id` cannot be resolved on the left side of the join. The left-side columns: [emp_id, name, superior_emp_id, year_joined, emp_dept_id, gender, salary]",
     "output_type": "error",
     "traceback": [
      "\u001b[0;31m---------------------------------------------------------------------------\u001b[0m",
      "\u001b[0;31mAnalysisException\u001b[0m                         Traceback (most recent call last)",
      "\u001b[0;32m/tmp/ipykernel_84184/1390367909.py\u001b[0m in \u001b[0;36m<module>\u001b[0;34m\u001b[0m\n\u001b[0;32m----> 1\u001b[0;31m \u001b[0mempDF\u001b[0m\u001b[0;34m.\u001b[0m\u001b[0mjoin\u001b[0m\u001b[0;34m(\u001b[0m\u001b[0mother\u001b[0m\u001b[0;34m=\u001b[0m\u001b[0mdeptDF\u001b[0m\u001b[0;34m,\u001b[0m \u001b[0mon\u001b[0m\u001b[0;34m=\u001b[0m\u001b[0;34m'dept_id'\u001b[0m\u001b[0;34m,\u001b[0m \u001b[0mhow\u001b[0m\u001b[0;34m=\u001b[0m\u001b[0;34m'inner'\u001b[0m\u001b[0;34m)\u001b[0m\u001b[0;34m.\u001b[0m\u001b[0mshow\u001b[0m\u001b[0;34m(\u001b[0m\u001b[0;34m)\u001b[0m\u001b[0;34m\u001b[0m\u001b[0;34m\u001b[0m\u001b[0m\n\u001b[0m",
      "\u001b[0;32m~/.local/lib/python3.10/site-packages/pyspark/sql/dataframe.py\u001b[0m in \u001b[0;36mjoin\u001b[0;34m(self, other, on, how)\u001b[0m\n\u001b[1;32m   1537\u001b[0m                 \u001b[0mon\u001b[0m \u001b[0;34m=\u001b[0m \u001b[0mself\u001b[0m\u001b[0;34m.\u001b[0m\u001b[0m_jseq\u001b[0m\u001b[0;34m(\u001b[0m\u001b[0;34m[\u001b[0m\u001b[0;34m]\u001b[0m\u001b[0;34m)\u001b[0m\u001b[0;34m\u001b[0m\u001b[0;34m\u001b[0m\u001b[0m\n\u001b[1;32m   1538\u001b[0m             \u001b[0;32massert\u001b[0m \u001b[0misinstance\u001b[0m\u001b[0;34m(\u001b[0m\u001b[0mhow\u001b[0m\u001b[0;34m,\u001b[0m \u001b[0mstr\u001b[0m\u001b[0;34m)\u001b[0m\u001b[0;34m,\u001b[0m \u001b[0;34m\"how should be a string\"\u001b[0m\u001b[0;34m\u001b[0m\u001b[0;34m\u001b[0m\u001b[0m\n\u001b[0;32m-> 1539\u001b[0;31m             \u001b[0mjdf\u001b[0m \u001b[0;34m=\u001b[0m \u001b[0mself\u001b[0m\u001b[0;34m.\u001b[0m\u001b[0m_jdf\u001b[0m\u001b[0;34m.\u001b[0m\u001b[0mjoin\u001b[0m\u001b[0;34m(\u001b[0m\u001b[0mother\u001b[0m\u001b[0;34m.\u001b[0m\u001b[0m_jdf\u001b[0m\u001b[0;34m,\u001b[0m \u001b[0mon\u001b[0m\u001b[0;34m,\u001b[0m \u001b[0mhow\u001b[0m\u001b[0;34m)\u001b[0m\u001b[0;34m\u001b[0m\u001b[0;34m\u001b[0m\u001b[0m\n\u001b[0m\u001b[1;32m   1540\u001b[0m         \u001b[0;32mreturn\u001b[0m \u001b[0mDataFrame\u001b[0m\u001b[0;34m(\u001b[0m\u001b[0mjdf\u001b[0m\u001b[0;34m,\u001b[0m \u001b[0mself\u001b[0m\u001b[0;34m.\u001b[0m\u001b[0msparkSession\u001b[0m\u001b[0;34m)\u001b[0m\u001b[0;34m\u001b[0m\u001b[0;34m\u001b[0m\u001b[0m\n\u001b[1;32m   1541\u001b[0m \u001b[0;34m\u001b[0m\u001b[0m\n",
      "\u001b[0;32m~/.local/lib/python3.10/site-packages/py4j/java_gateway.py\u001b[0m in \u001b[0;36m__call__\u001b[0;34m(self, *args)\u001b[0m\n\u001b[1;32m   1319\u001b[0m \u001b[0;34m\u001b[0m\u001b[0m\n\u001b[1;32m   1320\u001b[0m         \u001b[0manswer\u001b[0m \u001b[0;34m=\u001b[0m \u001b[0mself\u001b[0m\u001b[0;34m.\u001b[0m\u001b[0mgateway_client\u001b[0m\u001b[0;34m.\u001b[0m\u001b[0msend_command\u001b[0m\u001b[0;34m(\u001b[0m\u001b[0mcommand\u001b[0m\u001b[0;34m)\u001b[0m\u001b[0;34m\u001b[0m\u001b[0;34m\u001b[0m\u001b[0m\n\u001b[0;32m-> 1321\u001b[0;31m         return_value = get_return_value(\n\u001b[0m\u001b[1;32m   1322\u001b[0m             answer, self.gateway_client, self.target_id, self.name)\n\u001b[1;32m   1323\u001b[0m \u001b[0;34m\u001b[0m\u001b[0m\n",
      "\u001b[0;32m~/.local/lib/python3.10/site-packages/pyspark/sql/utils.py\u001b[0m in \u001b[0;36mdeco\u001b[0;34m(*a, **kw)\u001b[0m\n\u001b[1;32m    194\u001b[0m                 \u001b[0;31m# Hide where the exception came from that shows a non-Pythonic\u001b[0m\u001b[0;34m\u001b[0m\u001b[0;34m\u001b[0m\u001b[0m\n\u001b[1;32m    195\u001b[0m                 \u001b[0;31m# JVM exception message.\u001b[0m\u001b[0;34m\u001b[0m\u001b[0;34m\u001b[0m\u001b[0m\n\u001b[0;32m--> 196\u001b[0;31m                 \u001b[0;32mraise\u001b[0m \u001b[0mconverted\u001b[0m \u001b[0;32mfrom\u001b[0m \u001b[0;32mNone\u001b[0m\u001b[0;34m\u001b[0m\u001b[0;34m\u001b[0m\u001b[0m\n\u001b[0m\u001b[1;32m    197\u001b[0m             \u001b[0;32melse\u001b[0m\u001b[0;34m:\u001b[0m\u001b[0;34m\u001b[0m\u001b[0;34m\u001b[0m\u001b[0m\n\u001b[1;32m    198\u001b[0m                 \u001b[0;32mraise\u001b[0m\u001b[0;34m\u001b[0m\u001b[0;34m\u001b[0m\u001b[0m\n",
      "\u001b[0;31mAnalysisException\u001b[0m: USING column `dept_id` cannot be resolved on the left side of the join. The left-side columns: [emp_id, name, superior_emp_id, year_joined, emp_dept_id, gender, salary]"
     ]
    }
   ],
   "source": [
    "empDF.join(other=deptDF, on='dept_id', how='inner').show() # keys names are different, need same keys name"
   ]
  },
  {
   "cell_type": "markdown",
   "id": "6691177c",
   "metadata": {},
   "source": [
    "#### PySpark Full Outer Join\n",
    "\n",
    "Outer a.k.a full, fullouter join returns all rows from both datasets, where join expression doesn’t match it returns null on respective record columns. "
   ]
  },
  {
   "cell_type": "code",
   "execution_count": 44,
   "id": "73cbb8e4",
   "metadata": {},
   "outputs": [
    {
     "name": "stdout",
     "output_type": "stream",
     "text": [
      "+------+--------+---------------+-----------+-----------+------+------+---------+-------+\n",
      "|emp_id|    name|superior_emp_id|year_joined|emp_dept_id|gender|salary|dept_name|dept_id|\n",
      "+------+--------+---------------+-----------+-----------+------+------+---------+-------+\n",
      "|     1|   Smith|             -1|       2018|         10|     M|  3000|  Finance|     10|\n",
      "|     3|Williams|              1|       2010|         10|     M|  1000|  Finance|     10|\n",
      "|     4|   Jones|              2|       2005|         10|     F|  2000|  Finance|     10|\n",
      "|     2|    Rose|              1|       2010|         20|     M|  4000|Marketing|     20|\n",
      "|  null|    null|           null|       null|       null|  null|  null|    Sales|     30|\n",
      "|     5|   Brown|              2|       2010|         40|      |    -1|       IT|     40|\n",
      "|     6|   Brown|              2|       2010|         50|      |    -1|     null|   null|\n",
      "+------+--------+---------------+-----------+-----------+------+------+---------+-------+\n",
      "\n"
     ]
    }
   ],
   "source": [
    "empDF.join(deptDF, empDF.emp_dept_id==deptDF.dept_id, 'outer').show()"
   ]
  },
  {
   "cell_type": "code",
   "execution_count": 45,
   "id": "5b33a044",
   "metadata": {},
   "outputs": [
    {
     "name": "stdout",
     "output_type": "stream",
     "text": [
      "+------+--------+---------------+-----------+-----------+------+------+---------+-------+\n",
      "|emp_id|    name|superior_emp_id|year_joined|emp_dept_id|gender|salary|dept_name|dept_id|\n",
      "+------+--------+---------------+-----------+-----------+------+------+---------+-------+\n",
      "|     1|   Smith|             -1|       2018|         10|     M|  3000|  Finance|     10|\n",
      "|     3|Williams|              1|       2010|         10|     M|  1000|  Finance|     10|\n",
      "|     4|   Jones|              2|       2005|         10|     F|  2000|  Finance|     10|\n",
      "|     2|    Rose|              1|       2010|         20|     M|  4000|Marketing|     20|\n",
      "|  null|    null|           null|       null|       null|  null|  null|    Sales|     30|\n",
      "|     5|   Brown|              2|       2010|         40|      |    -1|       IT|     40|\n",
      "|     6|   Brown|              2|       2010|         50|      |    -1|     null|   null|\n",
      "+------+--------+---------------+-----------+-----------+------+------+---------+-------+\n",
      "\n"
     ]
    }
   ],
   "source": [
    "empDF.join(deptDF, empDF.emp_dept_id==deptDF.dept_id, 'fullouter').show()"
   ]
  },
  {
   "cell_type": "code",
   "execution_count": 46,
   "id": "d737f38e",
   "metadata": {},
   "outputs": [
    {
     "name": "stdout",
     "output_type": "stream",
     "text": [
      "+------+--------+---------------+-----------+-----------+------+------+---------+-------+\n",
      "|emp_id|    name|superior_emp_id|year_joined|emp_dept_id|gender|salary|dept_name|dept_id|\n",
      "+------+--------+---------------+-----------+-----------+------+------+---------+-------+\n",
      "|     1|   Smith|             -1|       2018|         10|     M|  3000|  Finance|     10|\n",
      "|     3|Williams|              1|       2010|         10|     M|  1000|  Finance|     10|\n",
      "|     4|   Jones|              2|       2005|         10|     F|  2000|  Finance|     10|\n",
      "|     2|    Rose|              1|       2010|         20|     M|  4000|Marketing|     20|\n",
      "|  null|    null|           null|       null|       null|  null|  null|    Sales|     30|\n",
      "|     5|   Brown|              2|       2010|         40|      |    -1|       IT|     40|\n",
      "|     6|   Brown|              2|       2010|         50|      |    -1|     null|   null|\n",
      "+------+--------+---------------+-----------+-----------+------+------+---------+-------+\n",
      "\n"
     ]
    }
   ],
   "source": [
    "empDF.join(deptDF, empDF.emp_dept_id==deptDF.dept_id, 'full').show()"
   ]
  },
  {
   "cell_type": "markdown",
   "id": "c06bb7dc",
   "metadata": {},
   "source": [
    "#### PySpark Left Outer Join\n",
    "\n",
    "Left a.k.a Leftouter join returns all rows from the left dataset regardless of match found on the right dataset when join expression doesn’t match, it assigns null for that record and drops records from right where match not found. "
   ]
  },
  {
   "cell_type": "code",
   "execution_count": 47,
   "id": "bcbf740b",
   "metadata": {},
   "outputs": [
    {
     "name": "stdout",
     "output_type": "stream",
     "text": [
      "+------+--------+---------------+-----------+-----------+------+------+---------+-------+\n",
      "|emp_id|    name|superior_emp_id|year_joined|emp_dept_id|gender|salary|dept_name|dept_id|\n",
      "+------+--------+---------------+-----------+-----------+------+------+---------+-------+\n",
      "|     1|   Smith|             -1|       2018|         10|     M|  3000|  Finance|     10|\n",
      "|     3|Williams|              1|       2010|         10|     M|  1000|  Finance|     10|\n",
      "|     2|    Rose|              1|       2010|         20|     M|  4000|Marketing|     20|\n",
      "|     6|   Brown|              2|       2010|         50|      |    -1|     null|   null|\n",
      "|     4|   Jones|              2|       2005|         10|     F|  2000|  Finance|     10|\n",
      "|     5|   Brown|              2|       2010|         40|      |    -1|       IT|     40|\n",
      "+------+--------+---------------+-----------+-----------+------+------+---------+-------+\n",
      "\n"
     ]
    }
   ],
   "source": [
    "empDF.join(deptDF, empDF.emp_dept_id == deptDF.dept_id, 'left').show()"
   ]
  },
  {
   "cell_type": "code",
   "execution_count": 48,
   "id": "d3198521",
   "metadata": {},
   "outputs": [
    {
     "name": "stdout",
     "output_type": "stream",
     "text": [
      "+------+--------+---------------+-----------+-----------+------+------+---------+-------+\n",
      "|emp_id|    name|superior_emp_id|year_joined|emp_dept_id|gender|salary|dept_name|dept_id|\n",
      "+------+--------+---------------+-----------+-----------+------+------+---------+-------+\n",
      "|     1|   Smith|             -1|       2018|         10|     M|  3000|  Finance|     10|\n",
      "|     3|Williams|              1|       2010|         10|     M|  1000|  Finance|     10|\n",
      "|     2|    Rose|              1|       2010|         20|     M|  4000|Marketing|     20|\n",
      "|     6|   Brown|              2|       2010|         50|      |    -1|     null|   null|\n",
      "|     4|   Jones|              2|       2005|         10|     F|  2000|  Finance|     10|\n",
      "|     5|   Brown|              2|       2010|         40|      |    -1|       IT|     40|\n",
      "+------+--------+---------------+-----------+-----------+------+------+---------+-------+\n",
      "\n"
     ]
    }
   ],
   "source": [
    "empDF.join(deptDF, empDF.emp_dept_id == deptDF.dept_id, 'leftouter').show()"
   ]
  },
  {
   "cell_type": "markdown",
   "id": "2be11c9e",
   "metadata": {},
   "source": [
    "#### Right Outer Join\n",
    "\n",
    "Right a.k.a Rightouter join is opposite of left join, here it returns all rows from the right dataset regardless of math found on the left dataset, when join expression doesn’t match, it assigns null for that record and drops records from left where match not found. "
   ]
  },
  {
   "cell_type": "code",
   "execution_count": 49,
   "id": "ef961054",
   "metadata": {},
   "outputs": [
    {
     "name": "stdout",
     "output_type": "stream",
     "text": [
      "+------+--------+---------------+-----------+-----------+------+------+---------+-------+\n",
      "|emp_id|    name|superior_emp_id|year_joined|emp_dept_id|gender|salary|dept_name|dept_id|\n",
      "+------+--------+---------------+-----------+-----------+------+------+---------+-------+\n",
      "|     4|   Jones|              2|       2005|         10|     F|  2000|  Finance|     10|\n",
      "|     3|Williams|              1|       2010|         10|     M|  1000|  Finance|     10|\n",
      "|     1|   Smith|             -1|       2018|         10|     M|  3000|  Finance|     10|\n",
      "|     2|    Rose|              1|       2010|         20|     M|  4000|Marketing|     20|\n",
      "|  null|    null|           null|       null|       null|  null|  null|    Sales|     30|\n",
      "|     5|   Brown|              2|       2010|         40|      |    -1|       IT|     40|\n",
      "+------+--------+---------------+-----------+-----------+------+------+---------+-------+\n",
      "\n"
     ]
    }
   ],
   "source": [
    "empDF.join(deptDF, empDF.emp_dept_id == deptDF.dept_id, 'right').show()"
   ]
  },
  {
   "cell_type": "code",
   "execution_count": 50,
   "id": "90ec72bc",
   "metadata": {},
   "outputs": [
    {
     "name": "stdout",
     "output_type": "stream",
     "text": [
      "+------+--------+---------------+-----------+-----------+------+------+---------+-------+\n",
      "|emp_id|    name|superior_emp_id|year_joined|emp_dept_id|gender|salary|dept_name|dept_id|\n",
      "+------+--------+---------------+-----------+-----------+------+------+---------+-------+\n",
      "|     4|   Jones|              2|       2005|         10|     F|  2000|  Finance|     10|\n",
      "|     3|Williams|              1|       2010|         10|     M|  1000|  Finance|     10|\n",
      "|     1|   Smith|             -1|       2018|         10|     M|  3000|  Finance|     10|\n",
      "|     2|    Rose|              1|       2010|         20|     M|  4000|Marketing|     20|\n",
      "|  null|    null|           null|       null|       null|  null|  null|    Sales|     30|\n",
      "|     5|   Brown|              2|       2010|         40|      |    -1|       IT|     40|\n",
      "+------+--------+---------------+-----------+-----------+------+------+---------+-------+\n",
      "\n"
     ]
    }
   ],
   "source": [
    "empDF.join(deptDF, empDF.emp_dept_id == deptDF.dept_id, 'rightouter').show()"
   ]
  },
  {
   "cell_type": "markdown",
   "id": "5f881cff",
   "metadata": {},
   "source": [
    "#### Left Semi Join\n",
    "\n",
    "leftsemi join is similar to inner join difference being leftsemi join returns all columns from the left dataset and ignores all columns from the right dataset. In other words, this join returns columns from the only left dataset for the records match in the right dataset on join expression, records not matched on join expression are ignored from both left and right datasets.\n",
    "\n",
    "The same result can be achieved using select on the result of the inner join however, using this join would be efficient. "
   ]
  },
  {
   "cell_type": "code",
   "execution_count": 51,
   "id": "cb3af013",
   "metadata": {},
   "outputs": [
    {
     "name": "stdout",
     "output_type": "stream",
     "text": [
      "+------+--------+---------------+-----------+-----------+------+------+\n",
      "|emp_id|    name|superior_emp_id|year_joined|emp_dept_id|gender|salary|\n",
      "+------+--------+---------------+-----------+-----------+------+------+\n",
      "|     1|   Smith|             -1|       2018|         10|     M|  3000|\n",
      "|     3|Williams|              1|       2010|         10|     M|  1000|\n",
      "|     4|   Jones|              2|       2005|         10|     F|  2000|\n",
      "|     2|    Rose|              1|       2010|         20|     M|  4000|\n",
      "|     5|   Brown|              2|       2010|         40|      |    -1|\n",
      "+------+--------+---------------+-----------+-----------+------+------+\n",
      "\n"
     ]
    }
   ],
   "source": [
    "empDF.join(deptDF, empDF.emp_dept_id == deptDF.dept_id, 'leftsemi').show()"
   ]
  },
  {
   "cell_type": "markdown",
   "id": "213eb940",
   "metadata": {},
   "source": [
    "#### Left Anti Join\n",
    "\n",
    "leftanti join does the exact opposite of the leftsemi, leftanti join returns only columns from the left dataset for non-matched records."
   ]
  },
  {
   "cell_type": "code",
   "execution_count": 53,
   "id": "b63966ac",
   "metadata": {},
   "outputs": [
    {
     "name": "stdout",
     "output_type": "stream",
     "text": [
      "+------+-----+---------------+-----------+-----------+------+------+\n",
      "|emp_id| name|superior_emp_id|year_joined|emp_dept_id|gender|salary|\n",
      "+------+-----+---------------+-----------+-----------+------+------+\n",
      "|     6|Brown|              2|       2010|         50|      |    -1|\n",
      "+------+-----+---------------+-----------+-----------+------+------+\n",
      "\n"
     ]
    }
   ],
   "source": [
    "empDF.join(deptDF, empDF.emp_dept_id == deptDF.dept_id, 'leftanti').show()"
   ]
  },
  {
   "cell_type": "markdown",
   "id": "8eae38c3",
   "metadata": {},
   "source": [
    "#### PySpark Self Join\n",
    "\n",
    "Joins are not complete without a self join, Though there is no self-join type available, we can use any of the above-explained join types to join DataFrame to itself. below example use inner self join."
   ]
  },
  {
   "cell_type": "code",
   "execution_count": 54,
   "id": "cadca841",
   "metadata": {},
   "outputs": [
    {
     "name": "stdout",
     "output_type": "stream",
     "text": [
      "+------+--------+---------------+-----------+-----------+------+------+--------+---------------+-----------+-----------+------+------+\n",
      "|emp_id|    name|superior_emp_id|year_joined|emp_dept_id|gender|salary|    name|superior_emp_id|year_joined|emp_dept_id|gender|salary|\n",
      "+------+--------+---------------+-----------+-----------+------+------+--------+---------------+-----------+-----------+------+------+\n",
      "|     1|   Smith|             -1|       2018|         10|     M|  3000|   Smith|             -1|       2018|         10|     M|  3000|\n",
      "|     2|    Rose|              1|       2010|         20|     M|  4000|    Rose|              1|       2010|         20|     M|  4000|\n",
      "|     3|Williams|              1|       2010|         10|     M|  1000|Williams|              1|       2010|         10|     M|  1000|\n",
      "|     4|   Jones|              2|       2005|         10|     F|  2000|   Jones|              2|       2005|         10|     F|  2000|\n",
      "|     5|   Brown|              2|       2010|         40|      |    -1|   Brown|              2|       2010|         40|      |    -1|\n",
      "|     6|   Brown|              2|       2010|         50|      |    -1|   Brown|              2|       2010|         50|      |    -1|\n",
      "+------+--------+---------------+-----------+-----------+------+------+--------+---------------+-----------+-----------+------+------+\n",
      "\n"
     ]
    }
   ],
   "source": [
    "empDF.join(empDF, on='emp_id', how='inner').show()"
   ]
  },
  {
   "cell_type": "markdown",
   "id": "b1c08d29",
   "metadata": {},
   "source": [
    "#### pyspark.sql.DataFrame.limit¶\n",
    "Limits the result count to the number specified."
   ]
  },
  {
   "cell_type": "code",
   "execution_count": 56,
   "id": "2567b4cf",
   "metadata": {},
   "outputs": [
    {
     "name": "stdout",
     "output_type": "stream",
     "text": [
      "+-----+------------+------------+----------+-------+---------+---+--------+--------+----+------+-------+------------+-------------+--------------+-------+-------------+-------+--------------------+---+---+\n",
      "|USMER|MEDICAL_UNIT|PATIENT_TYPE| DATE_DIED|INTUBED|PNEUMONIA|AGE|PREGNANT|DIABETES|COPD|ASTHMA|INMSUPR|HIPERTENSION|OTHER_DISEASE|CARDIOVASCULAR|OBESITY|RENAL_CHRONIC|TOBACCO|CLASIFFICATION_FINAL|ICU|SEX|\n",
      "+-----+------------+------------+----------+-------+---------+---+--------+--------+----+------+-------+------------+-------------+--------------+-------+-------------+-------+--------------------+---+---+\n",
      "|    2|           1|           1|03/06/2020|     97|        1| 72|      97|       2|   2|     2|      2|           1|            2|             2|      1|            1|      2|                   5| 97|  2|\n",
      "|    2|           1|           2|09/06/2020|      1|        2| 55|      97|       1|   2|     2|      2|           2|            2|             2|      2|            2|      2|                   3|  2|  2|\n",
      "+-----+------------+------------+----------+-------+---------+---+--------+--------+----+------+-------+------------+-------------+--------------+-------+-------------+-------+--------------------+---+---+\n",
      "\n"
     ]
    }
   ],
   "source": [
    "df.limit(2).show()"
   ]
  },
  {
   "cell_type": "markdown",
   "id": "8c62832c",
   "metadata": {},
   "source": [
    "#### pyspark.sql.DataFrame.orderBy"
   ]
  },
  {
   "cell_type": "code",
   "execution_count": 58,
   "id": "e8a25fab",
   "metadata": {},
   "outputs": [
    {
     "name": "stdout",
     "output_type": "stream",
     "text": [
      "+-----+------------+------------+----------+-------+---------+---+--------+--------+----+------+-------+------------+-------------+--------------+-------+-------------+-------+--------------------+---+---+\n",
      "|USMER|MEDICAL_UNIT|PATIENT_TYPE| DATE_DIED|INTUBED|PNEUMONIA|AGE|PREGNANT|DIABETES|COPD|ASTHMA|INMSUPR|HIPERTENSION|OTHER_DISEASE|CARDIOVASCULAR|OBESITY|RENAL_CHRONIC|TOBACCO|CLASIFFICATION_FINAL|ICU|SEX|\n",
      "+-----+------------+------------+----------+-------+---------+---+--------+--------+----+------+-------+------------+-------------+--------------+-------+-------------+-------+--------------------+---+---+\n",
      "|    1|           2|           2|9999-99-99|      2|        2|  0|      97|       2|   2|     2|      2|           2|            2|             2|      2|            2|      2|                   7|  2|  2|\n",
      "|    1|           3|           2|9999-99-99|      2|        1|  0|      97|       2|   2|     2|      2|           2|            2|             2|      2|            2|      2|                   3|  2|  2|\n",
      "|    1|           2|           2|9999-99-99|      2|        1|  0|      97|       2|   2|     2|      2|           2|            2|             2|      2|            2|      2|                   7|  2|  2|\n",
      "|    1|           2|           1|9999-99-99|     97|        2|  0|      97|       2|   2|     2|      2|           2|            2|             2|      2|            2|      2|                   6| 97|  2|\n",
      "|    1|           3|           2|12/06/2020|      1|        1|  0|      97|       2|   2|     2|      2|           2|            2|             1|      2|            2|      2|                   7|  2|  2|\n",
      "+-----+------------+------------+----------+-------+---------+---+--------+--------+----+------+-------+------------+-------------+--------------+-------+-------------+-------+--------------------+---+---+\n",
      "only showing top 5 rows\n",
      "\n"
     ]
    },
    {
     "name": "stderr",
     "output_type": "stream",
     "text": [
      "\r",
      "[Stage 159:============================>                            (1 + 1) / 2]\r",
      "\r",
      "                                                                                \r"
     ]
    }
   ],
   "source": [
    "df.sort(df.AGE).show(5)"
   ]
  },
  {
   "cell_type": "code",
   "execution_count": 60,
   "id": "9814255e",
   "metadata": {},
   "outputs": [
    {
     "name": "stdout",
     "output_type": "stream",
     "text": [
      "+-----+------------+------------+----------+-------+---------+---+--------+--------+----+------+-------+------------+-------------+--------------+-------+-------------+-------+--------------------+---+---+\n",
      "|USMER|MEDICAL_UNIT|PATIENT_TYPE| DATE_DIED|INTUBED|PNEUMONIA|AGE|PREGNANT|DIABETES|COPD|ASTHMA|INMSUPR|HIPERTENSION|OTHER_DISEASE|CARDIOVASCULAR|OBESITY|RENAL_CHRONIC|TOBACCO|CLASIFFICATION_FINAL|ICU|SEX|\n",
      "+-----+------------+------------+----------+-------+---------+---+--------+--------+----+------+-------+------------+-------------+--------------+-------+-------------+-------+--------------------+---+---+\n",
      "|    2|          12|           1|9999-99-99|     97|        2|121|       2|       2|   2|     2|      2|           2|            2|             2|      2|            2|      2|                   6| 97|  1|\n",
      "|    2|          12|           1|9999-99-99|     97|        2|120|      98|       2|   2|     2|      2|           2|            2|             2|      2|            2|      2|                   7| 97|  1|\n",
      "|    2|           9|           1|9999-99-99|     97|        1|120|      97|       1|   2|     2|      2|           1|            2|             2|      1|            2|      1|                   1| 97|  2|\n",
      "|    2|          12|           1|9999-99-99|     97|        2|120|      97|       2|   2|     2|      2|           2|            2|             2|      2|            2|      2|                   7| 97|  2|\n",
      "|    2|          12|           1|9999-99-99|     97|        2|120|      97|       2|   2|     2|      2|           2|            2|             2|      2|            2|      2|                   6| 97|  2|\n",
      "+-----+------------+------------+----------+-------+---------+---+--------+--------+----+------+-------+------------+-------------+--------------+-------+-------------+-------+--------------------+---+---+\n",
      "only showing top 5 rows\n",
      "\n"
     ]
    }
   ],
   "source": [
    "df.sort(df.AGE.desc()).show(5)"
   ]
  },
  {
   "cell_type": "code",
   "execution_count": 62,
   "id": "97cba381",
   "metadata": {},
   "outputs": [
    {
     "name": "stdout",
     "output_type": "stream",
     "text": [
      "+-----+------------+------------+----------+-------+---------+---+--------+--------+----+------+-------+------------+-------------+--------------+-------+-------------+-------+--------------------+---+---+\n",
      "|USMER|MEDICAL_UNIT|PATIENT_TYPE| DATE_DIED|INTUBED|PNEUMONIA|AGE|PREGNANT|DIABETES|COPD|ASTHMA|INMSUPR|HIPERTENSION|OTHER_DISEASE|CARDIOVASCULAR|OBESITY|RENAL_CHRONIC|TOBACCO|CLASIFFICATION_FINAL|ICU|SEX|\n",
      "+-----+------------+------------+----------+-------+---------+---+--------+--------+----+------+-------+------------+-------------+--------------+-------+-------------+-------+--------------------+---+---+\n",
      "|    1|           2|           2|9999-99-99|      2|        2|  0|      97|       2|   2|     2|      2|           2|            2|             2|      2|            2|      2|                   7|  2|  2|\n",
      "|    1|           3|           2|9999-99-99|      2|        1|  0|      97|       2|   2|     2|      2|           2|            2|             2|      2|            2|      2|                   3|  2|  2|\n",
      "|    1|           2|           2|9999-99-99|      2|        1|  0|      97|       2|   2|     2|      2|           2|            2|             2|      2|            2|      2|                   7|  2|  2|\n",
      "|    1|           2|           1|9999-99-99|     97|        2|  0|      97|       2|   2|     2|      2|           2|            2|             2|      2|            2|      2|                   6| 97|  2|\n",
      "|    1|           3|           2|12/06/2020|      1|        1|  0|      97|       2|   2|     2|      2|           2|            2|             1|      2|            2|      2|                   7|  2|  2|\n",
      "+-----+------------+------------+----------+-------+---------+---+--------+--------+----+------+-------+------------+-------------+--------------+-------+-------------+-------+--------------------+---+---+\n",
      "only showing top 5 rows\n",
      "\n"
     ]
    },
    {
     "name": "stderr",
     "output_type": "stream",
     "text": [
      "\r",
      "[Stage 162:=========================================================(2 + 0) / 2]\r",
      "\r",
      "                                                                                \r"
     ]
    }
   ],
   "source": [
    "df.sort('AGE', ascending=True).show(5)"
   ]
  },
  {
   "cell_type": "code",
   "execution_count": 63,
   "id": "331a24ef",
   "metadata": {},
   "outputs": [
    {
     "name": "stdout",
     "output_type": "stream",
     "text": [
      "+-----+------------+------------+----------+-------+---------+---+--------+--------+----+------+-------+------------+-------------+--------------+-------+-------------+-------+--------------------+---+---+\n",
      "|USMER|MEDICAL_UNIT|PATIENT_TYPE| DATE_DIED|INTUBED|PNEUMONIA|AGE|PREGNANT|DIABETES|COPD|ASTHMA|INMSUPR|HIPERTENSION|OTHER_DISEASE|CARDIOVASCULAR|OBESITY|RENAL_CHRONIC|TOBACCO|CLASIFFICATION_FINAL|ICU|SEX|\n",
      "+-----+------------+------------+----------+-------+---------+---+--------+--------+----+------+-------+------------+-------------+--------------+-------+-------------+-------+--------------------+---+---+\n",
      "|    2|          12|           1|9999-99-99|     97|        2|121|       2|       2|   2|     2|      2|           2|            2|             2|      2|            2|      2|                   6| 97|  1|\n",
      "|    2|          12|           1|9999-99-99|     97|        2|120|      98|       2|   2|     2|      2|           2|            2|             2|      2|            2|      2|                   7| 97|  1|\n",
      "|    2|           9|           1|9999-99-99|     97|        1|120|      97|       1|   2|     2|      2|           1|            2|             2|      1|            2|      1|                   1| 97|  2|\n",
      "|    2|          12|           1|9999-99-99|     97|        2|120|      97|       2|   2|     2|      2|           2|            2|             2|      2|            2|      2|                   7| 97|  2|\n",
      "|    2|          12|           1|9999-99-99|     97|        2|120|      97|       2|   2|     2|      2|           2|            2|             2|      2|            2|      2|                   6| 97|  2|\n",
      "+-----+------------+------------+----------+-------+---------+---+--------+--------+----+------+-------+------------+-------------+--------------+-------+-------------+-------+--------------------+---+---+\n",
      "only showing top 5 rows\n",
      "\n"
     ]
    }
   ],
   "source": [
    "df.sort('AGE', ascending=False).show(5)"
   ]
  },
  {
   "cell_type": "code",
   "execution_count": 64,
   "id": "73f9dc05",
   "metadata": {},
   "outputs": [
    {
     "name": "stdout",
     "output_type": "stream",
     "text": [
      "+-----+------------+------------+----------+-------+---------+---+--------+--------+----+------+-------+------------+-------------+--------------+-------+-------------+-------+--------------------+---+---+\n",
      "|USMER|MEDICAL_UNIT|PATIENT_TYPE| DATE_DIED|INTUBED|PNEUMONIA|AGE|PREGNANT|DIABETES|COPD|ASTHMA|INMSUPR|HIPERTENSION|OTHER_DISEASE|CARDIOVASCULAR|OBESITY|RENAL_CHRONIC|TOBACCO|CLASIFFICATION_FINAL|ICU|SEX|\n",
      "+-----+------------+------------+----------+-------+---------+---+--------+--------+----+------+-------+------------+-------------+--------------+-------+-------------+-------+--------------------+---+---+\n",
      "|    1|           2|           2|9999-99-99|      2|        2|  0|      97|       2|   2|     2|      2|           2|            2|             2|      2|            2|      2|                   7|  2|  2|\n",
      "|    1|           3|           2|9999-99-99|      2|        1|  0|      97|       2|   2|     2|      2|           2|            2|             2|      2|            2|      2|                   3|  2|  2|\n",
      "|    1|           2|           2|9999-99-99|      2|        1|  0|      97|       2|   2|     2|      2|           2|            2|             2|      2|            2|      2|                   7|  2|  2|\n",
      "|    1|           2|           1|9999-99-99|     97|        2|  0|      97|       2|   2|     2|      2|           2|            2|             2|      2|            2|      2|                   6| 97|  2|\n",
      "|    1|           3|           2|12/06/2020|      1|        1|  0|      97|       2|   2|     2|      2|           2|            2|             1|      2|            2|      2|                   7|  2|  2|\n",
      "+-----+------------+------------+----------+-------+---------+---+--------+--------+----+------+-------+------------+-------------+--------------+-------+-------------+-------+--------------------+---+---+\n",
      "only showing top 5 rows\n",
      "\n"
     ]
    }
   ],
   "source": [
    "df.orderBy(df.AGE).show(5)"
   ]
  },
  {
   "cell_type": "code",
   "execution_count": 66,
   "id": "a26fde81",
   "metadata": {},
   "outputs": [
    {
     "name": "stdout",
     "output_type": "stream",
     "text": [
      "+-----+------------+------------+----------+-------+---------+---+--------+--------+----+------+-------+------------+-------------+--------------+-------+-------------+-------+--------------------+---+---+\n",
      "|USMER|MEDICAL_UNIT|PATIENT_TYPE| DATE_DIED|INTUBED|PNEUMONIA|AGE|PREGNANT|DIABETES|COPD|ASTHMA|INMSUPR|HIPERTENSION|OTHER_DISEASE|CARDIOVASCULAR|OBESITY|RENAL_CHRONIC|TOBACCO|CLASIFFICATION_FINAL|ICU|SEX|\n",
      "+-----+------------+------------+----------+-------+---------+---+--------+--------+----+------+-------+------------+-------------+--------------+-------+-------------+-------+--------------------+---+---+\n",
      "|    2|          12|           1|9999-99-99|     97|        2|121|       2|       2|   2|     2|      2|           2|            2|             2|      2|            2|      2|                   6| 97|  1|\n",
      "|    2|          12|           1|9999-99-99|     97|        2|120|      98|       2|   2|     2|      2|           2|            2|             2|      2|            2|      2|                   7| 97|  1|\n",
      "|    2|           9|           1|9999-99-99|     97|        1|120|      97|       1|   2|     2|      2|           1|            2|             2|      1|            2|      1|                   1| 97|  2|\n",
      "|    2|          12|           1|9999-99-99|     97|        2|120|      97|       2|   2|     2|      2|           2|            2|             2|      2|            2|      2|                   7| 97|  2|\n",
      "|    2|          12|           1|9999-99-99|     97|        2|120|      97|       2|   2|     2|      2|           2|            2|             2|      2|            2|      2|                   6| 97|  2|\n",
      "+-----+------------+------------+----------+-------+---------+---+--------+--------+----+------+-------+------------+-------------+--------------+-------+-------------+-------+--------------------+---+---+\n",
      "only showing top 5 rows\n",
      "\n"
     ]
    }
   ],
   "source": [
    "df.orderBy(df.AGE.desc()).show(5)"
   ]
  },
  {
   "cell_type": "code",
   "execution_count": 67,
   "id": "75693dc3",
   "metadata": {},
   "outputs": [
    {
     "data": {
      "text/plain": [
       "['country',\n",
       " 'total_consumption',\n",
       " 'recorded_consumption',\n",
       " 'unrecorded_consumption',\n",
       " 'beer_percentage',\n",
       " 'wine_percentage',\n",
       " 'spirits_percentage',\n",
       " 'other_percentage',\n",
       " '2020_projection',\n",
       " '2025_projection']"
      ]
     },
     "execution_count": 67,
     "metadata": {},
     "output_type": "execute_result"
    }
   ],
   "source": [
    "data.columns"
   ]
  },
  {
   "cell_type": "code",
   "execution_count": 68,
   "id": "a65c8cc9",
   "metadata": {},
   "outputs": [
    {
     "name": "stdout",
     "output_type": "stream",
     "text": [
      "+-----------+-----------------+--------------------+----------------------+---------------+---------------+------------------+----------------+---------------+---------------+\n",
      "|    country|total_consumption|recorded_consumption|unrecorded_consumption|beer_percentage|wine_percentage|spirits_percentage|other_percentage|2020_projection|2025_projection|\n",
      "+-----------+-----------------+--------------------+----------------------+---------------+---------------+------------------+----------------+---------------+---------------+\n",
      "|Afghanistan|              0.2|                 0.0|                   0.2|           null|           null|              null|            null|            0.2|            0.2|\n",
      "|      Libya|              0.0|                 0.0|                   0.0|           null|           null|              null|            null|            0.0|            0.0|\n",
      "|      Yemen|              0.1|                 0.0|                   0.0|           89.5|            0.0|              10.5|             0.0|            0.1|            0.1|\n",
      "|     Kuwait|              0.0|                 0.0|                   0.0|           null|           null|              null|            null|            0.0|            0.0|\n",
      "| Bangladesh|              0.0|                 0.0|                   0.0|           null|           null|              null|            null|            0.0|            0.0|\n",
      "+-----------+-----------------+--------------------+----------------------+---------------+---------------+------------------+----------------+---------------+---------------+\n",
      "only showing top 5 rows\n",
      "\n"
     ]
    }
   ],
   "source": [
    "data.orderBy(data.recorded_consumption, ascedning=False).show(5)"
   ]
  },
  {
   "cell_type": "code",
   "execution_count": 69,
   "id": "9979d3b0",
   "metadata": {},
   "outputs": [
    {
     "name": "stdout",
     "output_type": "stream",
     "text": [
      "+-----------+-----------------+--------------------+----------------------+---------------+---------------+------------------+----------------+---------------+---------------+\n",
      "|    country|total_consumption|recorded_consumption|unrecorded_consumption|beer_percentage|wine_percentage|spirits_percentage|other_percentage|2020_projection|2025_projection|\n",
      "+-----------+-----------------+--------------------+----------------------+---------------+---------------+------------------+----------------+---------------+---------------+\n",
      "|Afghanistan|              0.2|                 0.0|                   0.2|           null|           null|              null|            null|            0.2|            0.2|\n",
      "|      Libya|              0.0|                 0.0|                   0.0|           null|           null|              null|            null|            0.0|            0.0|\n",
      "|      Yemen|              0.1|                 0.0|                   0.0|           89.5|            0.0|              10.5|             0.0|            0.1|            0.1|\n",
      "|     Kuwait|              0.0|                 0.0|                   0.0|           null|           null|              null|            null|            0.0|            0.0|\n",
      "| Bangladesh|              0.0|                 0.0|                   0.0|           null|           null|              null|            null|            0.0|            0.0|\n",
      "+-----------+-----------------+--------------------+----------------------+---------------+---------------+------------------+----------------+---------------+---------------+\n",
      "only showing top 5 rows\n",
      "\n"
     ]
    }
   ],
   "source": [
    "data.orderBy(data.recorded_consumption, ascedning=True).show(5)"
   ]
  },
  {
   "cell_type": "markdown",
   "id": "755cc989",
   "metadata": {},
   "source": [
    "#### pyspark.sql.DataFrame.persist¶\n",
    "Sets the storage level to persist the contents of the DataFrame across operations after the first time it is computed. This can only be used to assign a new storage level if the DataFrame does not have a storage level set yet. If no storage level is specified defaults to (MEMORY_AND_DISK_DESER)"
   ]
  },
  {
   "cell_type": "code",
   "execution_count": 70,
   "id": "94de333e",
   "metadata": {},
   "outputs": [],
   "source": [
    "from pyspark.storagelevel import StorageLevel"
   ]
  },
  {
   "cell_type": "code",
   "execution_count": 72,
   "id": "45fb2f63",
   "metadata": {},
   "outputs": [
    {
     "name": "stderr",
     "output_type": "stream",
     "text": [
      "22/12/30 15:34:55 WARN CacheManager: Asked to cache already cached data.\n"
     ]
    }
   ],
   "source": [
    "df = df.persist(storageLevel=StorageLevel.MEMORY_ONLY)"
   ]
  },
  {
   "cell_type": "code",
   "execution_count": 73,
   "id": "cfeca64c",
   "metadata": {},
   "outputs": [
    {
     "name": "stderr",
     "output_type": "stream",
     "text": [
      "22/12/30 15:35:18 WARN CacheManager: Asked to cache already cached data.\n"
     ]
    }
   ],
   "source": [
    "df = df.persist(storageLevel=StorageLevel.MEMORY_ONLY_2)"
   ]
  },
  {
   "cell_type": "markdown",
   "id": "e655bc22",
   "metadata": {},
   "source": [
    "#### pyspark.sql.DataFrame.printSchema\n",
    "Prints out the schema in the tree format."
   ]
  },
  {
   "cell_type": "code",
   "execution_count": 74,
   "id": "94b158b1",
   "metadata": {},
   "outputs": [
    {
     "name": "stdout",
     "output_type": "stream",
     "text": [
      "root\n",
      " |-- USMER: integer (nullable = true)\n",
      " |-- MEDICAL_UNIT: integer (nullable = true)\n",
      " |-- PATIENT_TYPE: integer (nullable = true)\n",
      " |-- DATE_DIED: string (nullable = true)\n",
      " |-- INTUBED: integer (nullable = true)\n",
      " |-- PNEUMONIA: integer (nullable = true)\n",
      " |-- AGE: integer (nullable = true)\n",
      " |-- PREGNANT: integer (nullable = true)\n",
      " |-- DIABETES: integer (nullable = true)\n",
      " |-- COPD: integer (nullable = true)\n",
      " |-- ASTHMA: integer (nullable = true)\n",
      " |-- INMSUPR: integer (nullable = true)\n",
      " |-- HIPERTENSION: integer (nullable = true)\n",
      " |-- OTHER_DISEASE: integer (nullable = true)\n",
      " |-- CARDIOVASCULAR: integer (nullable = true)\n",
      " |-- OBESITY: integer (nullable = true)\n",
      " |-- RENAL_CHRONIC: integer (nullable = true)\n",
      " |-- TOBACCO: integer (nullable = true)\n",
      " |-- CLASIFFICATION_FINAL: integer (nullable = true)\n",
      " |-- ICU: integer (nullable = true)\n",
      " |-- SEX: integer (nullable = true)\n",
      "\n"
     ]
    }
   ],
   "source": [
    "df.printSchema()"
   ]
  },
  {
   "cell_type": "code",
   "execution_count": 75,
   "id": "6ad82b49",
   "metadata": {},
   "outputs": [
    {
     "name": "stdout",
     "output_type": "stream",
     "text": [
      "root\n",
      " |-- country: string (nullable = true)\n",
      " |-- total_consumption: double (nullable = true)\n",
      " |-- recorded_consumption: double (nullable = true)\n",
      " |-- unrecorded_consumption: double (nullable = true)\n",
      " |-- beer_percentage: double (nullable = true)\n",
      " |-- wine_percentage: double (nullable = true)\n",
      " |-- spirits_percentage: double (nullable = true)\n",
      " |-- other_percentage: double (nullable = true)\n",
      " |-- 2020_projection: double (nullable = true)\n",
      " |-- 2025_projection: double (nullable = true)\n",
      "\n"
     ]
    }
   ],
   "source": [
    "data.printSchema()"
   ]
  },
  {
   "cell_type": "markdown",
   "id": "d21a891a",
   "metadata": {},
   "source": [
    "#### pyspark.sql.DataFrame.randomSplit\n",
    "\n",
    "    Randomly splits this DataFrame with the provided weights.\n",
    "\n",
    "    Parameters\n",
    "\n",
    "        weights list\n",
    "\n",
    "            list of doubles as weights with which to split the DataFrame. Weights will be normalized if they don’t sum up to 1.0.\n",
    "        seedint, optional\n",
    "\n",
    "            The seed for sampling.\n",
    "\n"
   ]
  },
  {
   "cell_type": "code",
   "execution_count": 76,
   "id": "9a26a5ee",
   "metadata": {},
   "outputs": [],
   "source": [
    "df4, df5 = df.randomSplit(weights=[0.10,0.90], seed=26)"
   ]
  },
  {
   "cell_type": "code",
   "execution_count": 78,
   "id": "3107b3ef",
   "metadata": {},
   "outputs": [
    {
     "name": "stderr",
     "output_type": "stream",
     "text": [
      "\r",
      "[Stage 170:>                                                        (0 + 1) / 1]\r"
     ]
    },
    {
     "name": "stdout",
     "output_type": "stream",
     "text": [
      "+-----+------------+------------+----------+-------+---------+---+--------+--------+----+------+-------+------------+-------------+--------------+-------+-------------+-------+--------------------+---+---+\n",
      "|USMER|MEDICAL_UNIT|PATIENT_TYPE| DATE_DIED|INTUBED|PNEUMONIA|AGE|PREGNANT|DIABETES|COPD|ASTHMA|INMSUPR|HIPERTENSION|OTHER_DISEASE|CARDIOVASCULAR|OBESITY|RENAL_CHRONIC|TOBACCO|CLASIFFICATION_FINAL|ICU|SEX|\n",
      "+-----+------------+------------+----------+-------+---------+---+--------+--------+----+------+-------+------------+-------------+--------------+-------+-------------+-------+--------------------+---+---+\n",
      "|    1|           2|           1|9999-99-99|     97|        2|  0|      97|       2|   2|     2|      2|           2|            2|             2|      2|            2|      2|                   6| 97|  2|\n",
      "|    1|           2|           2|9999-99-99|      2|        1| 10|       2|       2|   2|     2|      2|           2|            1|             1|      2|            2|      2|                   3|  2|  1|\n",
      "+-----+------------+------------+----------+-------+---------+---+--------+--------+----+------+-------+------------+-------------+--------------+-------+-------------+-------+--------------------+---+---+\n",
      "only showing top 2 rows\n",
      "\n"
     ]
    },
    {
     "name": "stderr",
     "output_type": "stream",
     "text": [
      "\r",
      "                                                                                \r"
     ]
    }
   ],
   "source": [
    "df4.show(2)"
   ]
  },
  {
   "cell_type": "code",
   "execution_count": 79,
   "id": "44a84a47",
   "metadata": {},
   "outputs": [
    {
     "name": "stderr",
     "output_type": "stream",
     "text": [
      "\r",
      "[Stage 171:>                                                        (0 + 1) / 1]\r"
     ]
    },
    {
     "name": "stdout",
     "output_type": "stream",
     "text": [
      "+-----+------------+------------+----------+-------+---------+---+--------+--------+----+------+-------+------------+-------------+--------------+-------+-------------+-------+--------------------+---+---+\n",
      "|USMER|MEDICAL_UNIT|PATIENT_TYPE| DATE_DIED|INTUBED|PNEUMONIA|AGE|PREGNANT|DIABETES|COPD|ASTHMA|INMSUPR|HIPERTENSION|OTHER_DISEASE|CARDIOVASCULAR|OBESITY|RENAL_CHRONIC|TOBACCO|CLASIFFICATION_FINAL|ICU|SEX|\n",
      "+-----+------------+------------+----------+-------+---------+---+--------+--------+----+------+-------+------------+-------------+--------------+-------+-------------+-------+--------------------+---+---+\n",
      "|    1|           2|           1|9999-99-99|     97|        2|  1|      97|       2|   2|     2|      2|           2|            2|             2|      2|            2|      2|                   6| 97|  2|\n",
      "|    1|           2|           1|9999-99-99|     97|        2|  2|      97|       2|   2|     2|      2|           2|            2|             2|      2|            2|      2|                   3| 97|  2|\n",
      "|    1|           2|           1|9999-99-99|     97|        2|  4|       2|       2|   2|     2|      2|           2|            2|             1|      2|            2|      2|                   6| 97|  1|\n",
      "+-----+------------+------------+----------+-------+---------+---+--------+--------+----+------+-------+------------+-------------+--------------+-------+-------------+-------+--------------------+---+---+\n",
      "only showing top 3 rows\n",
      "\n"
     ]
    },
    {
     "name": "stderr",
     "output_type": "stream",
     "text": [
      "\r",
      "                                                                                \r"
     ]
    }
   ],
   "source": [
    "df5.show(3)"
   ]
  },
  {
   "cell_type": "code",
   "execution_count": 80,
   "id": "7e345954",
   "metadata": {},
   "outputs": [
    {
     "name": "stderr",
     "output_type": "stream",
     "text": [
      "                                                                                \r"
     ]
    },
    {
     "data": {
      "text/plain": [
       "104801"
      ]
     },
     "execution_count": 80,
     "metadata": {},
     "output_type": "execute_result"
    }
   ],
   "source": [
    "df4.count()"
   ]
  },
  {
   "cell_type": "code",
   "execution_count": 81,
   "id": "0ff2114c",
   "metadata": {},
   "outputs": [
    {
     "name": "stderr",
     "output_type": "stream",
     "text": [
      "                                                                                \r"
     ]
    },
    {
     "data": {
      "text/plain": [
       "943774"
      ]
     },
     "execution_count": 81,
     "metadata": {},
     "output_type": "execute_result"
    }
   ],
   "source": [
    "df5.count()"
   ]
  },
  {
   "cell_type": "markdown",
   "id": "aab34a2b",
   "metadata": {},
   "source": [
    "#### pyspark.sql.DataFrame.repartition\n",
    "Returns a new DataFrame partitioned by the given partitioning expressions. The resulting DataFrame is hash partitioned.\n",
    "\n",
    "\n",
    "        numPartitionsint\n",
    "\n",
    "            can be an int to specify the target number of partitions or a Column. If it is a Column, it will be used as the first partitioning column. If not specified, the default number of partitions is used.\n",
    "        colsstr or Column\n",
    "\n",
    "            partitioning columns.\n",
    "\n",
    "            Changed in version 1.6: Added optional arguments to specify the partitioning columns. Also made numPartitions optional if partitioning columns are specified.\n",
    "\n"
   ]
  },
  {
   "cell_type": "code",
   "execution_count": 82,
   "id": "2f3d59b3",
   "metadata": {},
   "outputs": [],
   "source": [
    "df = df.repartition(10, df.AGE)"
   ]
  },
  {
   "cell_type": "code",
   "execution_count": 83,
   "id": "b15536ee",
   "metadata": {},
   "outputs": [
    {
     "data": {
      "text/plain": [
       "10"
      ]
     },
     "execution_count": 83,
     "metadata": {},
     "output_type": "execute_result"
    }
   ],
   "source": [
    "df.rdd.getNumPartitions()"
   ]
  },
  {
   "cell_type": "code",
   "execution_count": 86,
   "id": "08af09ea",
   "metadata": {},
   "outputs": [
    {
     "name": "stderr",
     "output_type": "stream",
     "text": [
      "\r",
      "[Stage 179:============================>                            (1 + 1) / 2]\r"
     ]
    },
    {
     "data": {
      "text/plain": [
       "2"
      ]
     },
     "execution_count": 86,
     "metadata": {},
     "output_type": "execute_result"
    }
   ],
   "source": [
    "df = df.repartition(df.SEX)\n",
    "df.rdd.getNumPartitions()"
   ]
  },
  {
   "cell_type": "code",
   "execution_count": 87,
   "id": "56a16800",
   "metadata": {},
   "outputs": [
    {
     "name": "stderr",
     "output_type": "stream",
     "text": [
      "[Stage 180:============================>                            (1 + 1) / 2]\r"
     ]
    },
    {
     "data": {
      "text/plain": [
       "5"
      ]
     },
     "execution_count": 87,
     "metadata": {},
     "output_type": "execute_result"
    }
   ],
   "source": [
    "df = df.repartition(5)\n",
    "df.rdd.getNumPartitions()"
   ]
  },
  {
   "cell_type": "code",
   "execution_count": 88,
   "id": "78398217",
   "metadata": {},
   "outputs": [
    {
     "name": "stderr",
     "output_type": "stream",
     "text": [
      "\r",
      "[Stage 181:============================>                            (1 + 1) / 2]\r"
     ]
    },
    {
     "data": {
      "text/plain": [
       "2"
      ]
     },
     "execution_count": 88,
     "metadata": {},
     "output_type": "execute_result"
    }
   ],
   "source": [
    "df = df.repartition(df.DIABETES)\n",
    "df.rdd.getNumPartitions()"
   ]
  },
  {
   "cell_type": "markdown",
   "id": "e5522273",
   "metadata": {},
   "source": [
    "#### pyspark.sql.DataFrame.replace\n",
    "\n",
    "    Returns a new DataFrame replacing a value with another value. DataFrame.replace() and DataFrameNaFunctions.replace() are aliases of each other. Values to_replace and value must have the same type and can only be numerics, booleans, or strings. Value can have None. When replacing, the new value will be cast to the type of the existing column. For numeric replacements all values to be replaced should have unique floating point representation. In case of conflicts (for example with {42: -1, 42.0: 1}) and arbitrary replacement will be used."
   ]
  },
  {
   "cell_type": "code",
   "execution_count": 89,
   "id": "566a61ce",
   "metadata": {},
   "outputs": [
    {
     "name": "stdout",
     "output_type": "stream",
     "text": [
      "+------+---+\n",
      "|  Name|Age|\n",
      "+------+---+\n",
      "|nilesh| 23|\n",
      "| pawan| 21|\n",
      "|ramesh| 23|\n",
      "|   ram| 21|\n",
      "+------+---+\n",
      "\n"
     ]
    },
    {
     "name": "stderr",
     "output_type": "stream",
     "text": [
      "\r",
      "                                                                                \r"
     ]
    }
   ],
   "source": [
    "df1.show()"
   ]
  },
  {
   "cell_type": "code",
   "execution_count": 90,
   "id": "beb5d556",
   "metadata": {},
   "outputs": [
    {
     "name": "stdout",
     "output_type": "stream",
     "text": [
      "+------+---+\n",
      "|  Name|Age|\n",
      "+------+---+\n",
      "| purvi| 23|\n",
      "| pawan| 21|\n",
      "|ramesh| 23|\n",
      "|   ram| 21|\n",
      "+------+---+\n",
      "\n"
     ]
    }
   ],
   "source": [
    "df1.replace(to_replace='nilesh', value='purvi').show()"
   ]
  },
  {
   "cell_type": "code",
   "execution_count": 91,
   "id": "3d15655f",
   "metadata": {},
   "outputs": [
    {
     "name": "stdout",
     "output_type": "stream",
     "text": [
      "+------+---+\n",
      "|  Name|Age|\n",
      "+------+---+\n",
      "|nilesh| 10|\n",
      "| pawan| 21|\n",
      "|ramesh| 10|\n",
      "|   ram| 21|\n",
      "+------+---+\n",
      "\n"
     ]
    }
   ],
   "source": [
    "df1.replace(23, 10).show()"
   ]
  },
  {
   "cell_type": "markdown",
   "id": "cfd7e0cf",
   "metadata": {},
   "source": [
    "#### pyspark.sql.DataFrame.sample¶\n",
    "Returns a sampled subset of this DataFrame."
   ]
  },
  {
   "cell_type": "code",
   "execution_count": 92,
   "id": "602636ed",
   "metadata": {},
   "outputs": [
    {
     "name": "stdout",
     "output_type": "stream",
     "text": [
      "+-----+------------+------------+----------+-------+---------+---+--------+--------+----+------+-------+------------+-------------+--------------+-------+-------------+-------+--------------------+---+---+\n",
      "|USMER|MEDICAL_UNIT|PATIENT_TYPE| DATE_DIED|INTUBED|PNEUMONIA|AGE|PREGNANT|DIABETES|COPD|ASTHMA|INMSUPR|HIPERTENSION|OTHER_DISEASE|CARDIOVASCULAR|OBESITY|RENAL_CHRONIC|TOBACCO|CLASIFFICATION_FINAL|ICU|SEX|\n",
      "+-----+------------+------------+----------+-------+---------+---+--------+--------+----+------+-------+------------+-------------+--------------+-------+-------------+-------+--------------------+---+---+\n",
      "|    2|           1|           2|09/06/2020|      1|        2| 55|      97|       1|   2|     2|      2|           2|            2|             2|      2|            2|      2|                   3|  2|  2|\n",
      "|    1|           3|           2|03/05/2020|      2|        1| 60|      97|       1|   2|     2|      2|           2|            2|             2|      2|            2|      2|                   5|  2|  2|\n",
      "|    1|           3|           2|05/05/2020|      2|        1| 67|      97|       1|   2|     2|      2|           1|            2|             2|      1|            2|      2|                   3|  2|  2|\n",
      "|    1|           3|           2|12/05/2020|      1|        1| 60|      97|       1|   2|     2|      2|           2|            2|             2|      2|            2|      2|                   3|  1|  2|\n",
      "|    1|           3|           2|23/05/2020|      2|        2| 80|      97|       1|   2|     2|      2|           1|            2|             2|      2|            2|      2|                   3|  2|  2|\n",
      "|    1|           3|           2|05/06/2020|      1|        1| 75|      97|       1|   2|     2|      2|           1|            1|             2|      1|            2|      2|                   3|  2|  2|\n",
      "|    2|           3|           2|08/06/2020|      1|        1| 76|      97|       1|   2|     2|      2|           2|            2|             2|      2|            1|      2|                   6|  2|  2|\n",
      "|    2|           3|           2|10/06/2020|      2|        1| 86|      97|       1|   2|     2|      2|           1|            2|             2|      2|            2|      2|                   4|  2|  2|\n",
      "|    2|           3|           2|14/06/2020|      2|        1| 56|      97|       1|   2|     2|      2|           1|            2|             2|      2|            2|      2|                   6|  2|  2|\n",
      "|    1|           3|           2|15/06/2020|      2|        1| 56|      97|       1|   2|     2|      2|           1|            2|             2|      1|            2|      2|                   3|  2|  2|\n",
      "|    1|           3|           2|19/06/2020|      1|        1| 50|      97|       1|   2|     2|      2|           1|            2|             2|      2|            2|      2|                   7|  2|  2|\n",
      "|    1|           3|           2|21/06/2020|      2|        1| 83|      97|       1|   2|     2|      2|           1|            2|             2|      2|            2|      1|                   4|  2|  2|\n",
      "|    1|           3|           2|22/06/2020|      2|        1| 71|      97|       1|   2|     2|      2|           2|            2|             2|      2|            2|      2|                   3|  1|  2|\n",
      "|    1|           3|           2|23/06/2020|      1|        1| 62|      97|       1|   2|     2|      2|           1|            2|             2|      2|            2|      1|                   5|  2|  2|\n",
      "|    1|           3|           2|28/06/2020|      1|        1| 52|      97|       1|   2|     2|      1|           1|            2|             1|      2|            2|      2|                   3|  2|  2|\n",
      "|    1|           3|           2|29/06/2020|      2|        1| 71|      97|       1|   2|     2|      2|           1|            2|             2|      2|            2|      2|                   3|  2|  2|\n",
      "|    1|           3|           2|01/07/2020|      1|        1| 56|      97|       1|   2|     2|      2|           1|            2|             2|      2|            2|      2|                   3|  2|  2|\n",
      "|    1|           3|           2|01/07/2020|      2|        1| 83|      97|       1|   2|     2|      2|           1|            2|             2|      2|            2|      2|                   3|  2|  2|\n",
      "|    1|           3|           2|02/07/2020|      1|        1| 72|      97|       1|   2|     2|      2|           2|            2|             2|      2|            2|      2|                   3|  2|  2|\n",
      "|    2|           3|           2|05/07/2020|      2|        1| 74|      97|       1|   2|     2|      2|           1|            2|             2|      1|            2|      2|                   3|  2|  2|\n",
      "+-----+------------+------------+----------+-------+---------+---+--------+--------+----+------+-------+------------+-------------+--------------+-------+-------------+-------+--------------------+---+---+\n",
      "only showing top 20 rows\n",
      "\n"
     ]
    },
    {
     "name": "stderr",
     "output_type": "stream",
     "text": [
      "\r",
      "[Stage 188:============================>                            (1 + 1) / 2]\r",
      "\r",
      "                                                                                \r"
     ]
    }
   ],
   "source": [
    "df.sample(fraction=0.10, seed=26).show()"
   ]
  },
  {
   "cell_type": "markdown",
   "id": "858dcf25",
   "metadata": {},
   "source": [
    "#### pyspark.sql.DataFrame.schema¶\n",
    "Returns the schema of this DataFrame as a pyspark.sql.types.StructType."
   ]
  },
  {
   "cell_type": "code",
   "execution_count": 94,
   "id": "738826fe",
   "metadata": {},
   "outputs": [
    {
     "data": {
      "text/plain": [
       "StructType([StructField('USMER', IntegerType(), True), StructField('MEDICAL_UNIT', IntegerType(), True), StructField('PATIENT_TYPE', IntegerType(), True), StructField('DATE_DIED', StringType(), True), StructField('INTUBED', IntegerType(), True), StructField('PNEUMONIA', IntegerType(), True), StructField('AGE', IntegerType(), True), StructField('PREGNANT', IntegerType(), True), StructField('DIABETES', IntegerType(), True), StructField('COPD', IntegerType(), True), StructField('ASTHMA', IntegerType(), True), StructField('INMSUPR', IntegerType(), True), StructField('HIPERTENSION', IntegerType(), True), StructField('OTHER_DISEASE', IntegerType(), True), StructField('CARDIOVASCULAR', IntegerType(), True), StructField('OBESITY', IntegerType(), True), StructField('RENAL_CHRONIC', IntegerType(), True), StructField('TOBACCO', IntegerType(), True), StructField('CLASIFFICATION_FINAL', IntegerType(), True), StructField('ICU', IntegerType(), True), StructField('SEX', IntegerType(), True)])"
      ]
     },
     "execution_count": 94,
     "metadata": {},
     "output_type": "execute_result"
    }
   ],
   "source": [
    "df.schema"
   ]
  },
  {
   "cell_type": "code",
   "execution_count": 95,
   "id": "4107d47b",
   "metadata": {},
   "outputs": [
    {
     "data": {
      "text/plain": [
       "StructType([StructField('Name', StringType(), True), StructField('Age', LongType(), True)])"
      ]
     },
     "execution_count": 95,
     "metadata": {},
     "output_type": "execute_result"
    }
   ],
   "source": [
    "df1.schema"
   ]
  },
  {
   "cell_type": "markdown",
   "id": "28312d68",
   "metadata": {},
   "source": [
    "#### pyspark.sql.DataFrame.select\n",
    "Projects a set of expressions and returns a new DataFrame."
   ]
  },
  {
   "cell_type": "code",
   "execution_count": 96,
   "id": "333edc37",
   "metadata": {},
   "outputs": [
    {
     "name": "stderr",
     "output_type": "stream",
     "text": [
      "\r",
      "[Stage 191:============================>                            (1 + 1) / 2]\r"
     ]
    },
    {
     "name": "stdout",
     "output_type": "stream",
     "text": [
      "+-----+------------+------------+----------+-------+---------+---+--------+--------+----+------+-------+------------+-------------+--------------+-------+-------------+-------+--------------------+---+---+\n",
      "|USMER|MEDICAL_UNIT|PATIENT_TYPE| DATE_DIED|INTUBED|PNEUMONIA|AGE|PREGNANT|DIABETES|COPD|ASTHMA|INMSUPR|HIPERTENSION|OTHER_DISEASE|CARDIOVASCULAR|OBESITY|RENAL_CHRONIC|TOBACCO|CLASIFFICATION_FINAL|ICU|SEX|\n",
      "+-----+------------+------------+----------+-------+---------+---+--------+--------+----+------+-------+------------+-------------+--------------+-------+-------------+-------+--------------------+---+---+\n",
      "|    2|           1|           2|09/06/2020|      1|        2| 55|      97|       1|   2|     2|      2|           2|            2|             2|      2|            2|      2|                   3|  2|  2|\n",
      "|    2|           1|           1|21/06/2020|     97|        2| 68|      97|       1|   2|     2|      2|           1|            2|             2|      2|            2|      2|                   3| 97|  2|\n",
      "|    2|           1|           2|9999-99-99|      2|        1| 59|      97|       1|   2|     2|      2|           2|            2|             2|      2|            2|      1|                   3|  1|  2|\n",
      "+-----+------------+------------+----------+-------+---------+---+--------+--------+----+------+-------+------------+-------------+--------------+-------+-------------+-------+--------------------+---+---+\n",
      "only showing top 3 rows\n",
      "\n"
     ]
    },
    {
     "name": "stderr",
     "output_type": "stream",
     "text": [
      "\r",
      "                                                                                \r"
     ]
    }
   ],
   "source": [
    "df.select('*').show(3)"
   ]
  },
  {
   "cell_type": "code",
   "execution_count": 97,
   "id": "209d5add",
   "metadata": {},
   "outputs": [
    {
     "name": "stdout",
     "output_type": "stream",
     "text": [
      "+---+---+\n",
      "|AGE|SEX|\n",
      "+---+---+\n",
      "| 55|  2|\n",
      "| 68|  2|\n",
      "| 59|  2|\n",
      "| 30|  2|\n",
      "| 62|  2|\n",
      "| 56|  2|\n",
      "+---+---+\n",
      "only showing top 6 rows\n",
      "\n"
     ]
    }
   ],
   "source": [
    "df.select(df.AGE, df.SEX).show(6)"
   ]
  },
  {
   "cell_type": "code",
   "execution_count": 98,
   "id": "3d5616ae",
   "metadata": {},
   "outputs": [
    {
     "name": "stdout",
     "output_type": "stream",
     "text": [
      "+---+---+\n",
      "|AGE|SEX|\n",
      "+---+---+\n",
      "| 55|  2|\n",
      "| 68|  2|\n",
      "+---+---+\n",
      "only showing top 2 rows\n",
      "\n"
     ]
    }
   ],
   "source": [
    "df.select('AGE','SEX').show(2)"
   ]
  },
  {
   "cell_type": "markdown",
   "id": "e5c61e88",
   "metadata": {},
   "source": [
    "#### pyspark.sql.DataFrame.show\n",
    "Prints the first n rows to the console."
   ]
  },
  {
   "cell_type": "code",
   "execution_count": 110,
   "id": "5e4b609a",
   "metadata": {},
   "outputs": [
    {
     "ename": "Py4JJavaError",
     "evalue": "An error occurred while calling o598.showString.\n: java.lang.IllegalStateException: Cannot call methods on a stopped SparkContext.\nThis stopped SparkContext was created at:\n\norg.apache.spark.api.java.JavaSparkContext.<init>(JavaSparkContext.scala:58)\nsun.reflect.NativeConstructorAccessorImpl.newInstance0(Native Method)\nsun.reflect.NativeConstructorAccessorImpl.newInstance(NativeConstructorAccessorImpl.java:62)\nsun.reflect.DelegatingConstructorAccessorImpl.newInstance(DelegatingConstructorAccessorImpl.java:45)\njava.lang.reflect.Constructor.newInstance(Constructor.java:423)\npy4j.reflection.MethodInvoker.invoke(MethodInvoker.java:247)\npy4j.reflection.ReflectionEngine.invoke(ReflectionEngine.java:357)\npy4j.Gateway.invoke(Gateway.java:238)\npy4j.commands.ConstructorCommand.invokeConstructor(ConstructorCommand.java:80)\npy4j.commands.ConstructorCommand.execute(ConstructorCommand.java:69)\npy4j.ClientServerConnection.waitForCommands(ClientServerConnection.java:182)\npy4j.ClientServerConnection.run(ClientServerConnection.java:106)\njava.lang.Thread.run(Thread.java:750)\n\nThe currently active SparkContext was created at:\n\n(No active SparkContext.)\n         \n\tat org.apache.spark.SparkContext.assertNotStopped(SparkContext.scala:120)\n\tat org.apache.spark.SparkContext.defaultParallelism(SparkContext.scala:2524)\n\tat org.apache.spark.sql.execution.adaptive.CoalesceShufflePartitions.$anonfun$apply$1(CoalesceShufflePartitions.scala:60)\n\tat scala.runtime.java8.JFunction0$mcI$sp.apply(JFunction0$mcI$sp.java:23)\n\tat scala.Option.getOrElse(Option.scala:189)\n\tat org.apache.spark.sql.execution.adaptive.CoalesceShufflePartitions.apply(CoalesceShufflePartitions.scala:57)\n\tat org.apache.spark.sql.execution.adaptive.CoalesceShufflePartitions.apply(CoalesceShufflePartitions.scala:33)\n\tat org.apache.spark.sql.execution.adaptive.AdaptiveSparkPlanExec.$anonfun$optimizeQueryStage$1(AdaptiveSparkPlanExec.scala:155)\n\tat scala.collection.LinearSeqOptimized.foldLeft(LinearSeqOptimized.scala:126)\n\tat scala.collection.LinearSeqOptimized.foldLeft$(LinearSeqOptimized.scala:122)\n\tat scala.collection.immutable.List.foldLeft(List.scala:91)\n\tat org.apache.spark.sql.execution.adaptive.AdaptiveSparkPlanExec.optimizeQueryStage(AdaptiveSparkPlanExec.scala:154)\n\tat org.apache.spark.sql.execution.adaptive.AdaptiveSparkPlanExec.newQueryStage(AdaptiveSparkPlanExec.scala:530)\n\tat org.apache.spark.sql.execution.adaptive.AdaptiveSparkPlanExec.createQueryStages(AdaptiveSparkPlanExec.scala:491)\n\tat org.apache.spark.sql.execution.adaptive.AdaptiveSparkPlanExec.$anonfun$createQueryStages$2(AdaptiveSparkPlanExec.scala:521)\n\tat scala.collection.TraversableLike.$anonfun$map$1(TraversableLike.scala:286)\n\tat scala.collection.Iterator.foreach(Iterator.scala:943)\n\tat scala.collection.Iterator.foreach$(Iterator.scala:943)\n\tat scala.collection.AbstractIterator.foreach(Iterator.scala:1431)\n\tat scala.collection.IterableLike.foreach(IterableLike.scala:74)\n\tat scala.collection.IterableLike.foreach$(IterableLike.scala:73)\n\tat scala.collection.AbstractIterable.foreach(Iterable.scala:56)\n\tat scala.collection.TraversableLike.map(TraversableLike.scala:286)\n\tat scala.collection.TraversableLike.map$(TraversableLike.scala:279)\n\tat scala.collection.AbstractTraversable.map(Traversable.scala:108)\n\tat org.apache.spark.sql.execution.adaptive.AdaptiveSparkPlanExec.createQueryStages(AdaptiveSparkPlanExec.scala:521)\n\tat org.apache.spark.sql.execution.adaptive.AdaptiveSparkPlanExec.$anonfun$createQueryStages$2(AdaptiveSparkPlanExec.scala:521)\n\tat scala.collection.TraversableLike.$anonfun$map$1(TraversableLike.scala:286)\n\tat scala.collection.Iterator.foreach(Iterator.scala:943)\n\tat scala.collection.Iterator.foreach$(Iterator.scala:943)\n\tat scala.collection.AbstractIterator.foreach(Iterator.scala:1431)\n\tat scala.collection.IterableLike.foreach(IterableLike.scala:74)\n\tat scala.collection.IterableLike.foreach$(IterableLike.scala:73)\n\tat scala.collection.AbstractIterable.foreach(Iterable.scala:56)\n\tat scala.collection.TraversableLike.map(TraversableLike.scala:286)\n\tat scala.collection.TraversableLike.map$(TraversableLike.scala:279)\n\tat scala.collection.AbstractTraversable.map(Traversable.scala:108)\n\tat org.apache.spark.sql.execution.adaptive.AdaptiveSparkPlanExec.createQueryStages(AdaptiveSparkPlanExec.scala:521)\n\tat org.apache.spark.sql.execution.adaptive.AdaptiveSparkPlanExec.$anonfun$getFinalPhysicalPlan$1(AdaptiveSparkPlanExec.scala:235)\n\tat org.apache.spark.sql.SparkSession.withActive(SparkSession.scala:779)\n\tat org.apache.spark.sql.execution.adaptive.AdaptiveSparkPlanExec.getFinalPhysicalPlan(AdaptiveSparkPlanExec.scala:230)\n\tat org.apache.spark.sql.execution.adaptive.AdaptiveSparkPlanExec.withFinalPlanUpdate(AdaptiveSparkPlanExec.scala:372)\n\tat org.apache.spark.sql.execution.adaptive.AdaptiveSparkPlanExec.executeCollect(AdaptiveSparkPlanExec.scala:345)\n\tat org.apache.spark.sql.Dataset.collectFromPlan(Dataset.scala:3868)\n\tat org.apache.spark.sql.Dataset.$anonfun$head$1(Dataset.scala:2863)\n\tat org.apache.spark.sql.Dataset.$anonfun$withAction$2(Dataset.scala:3858)\n\tat org.apache.spark.sql.execution.QueryExecution$.withInternalError(QueryExecution.scala:510)\n\tat org.apache.spark.sql.Dataset.$anonfun$withAction$1(Dataset.scala:3856)\n\tat org.apache.spark.sql.execution.SQLExecution$.$anonfun$withNewExecutionId$6(SQLExecution.scala:109)\n\tat org.apache.spark.sql.execution.SQLExecution$.withSQLConfPropagated(SQLExecution.scala:169)\n\tat org.apache.spark.sql.execution.SQLExecution$.$anonfun$withNewExecutionId$1(SQLExecution.scala:95)\n\tat org.apache.spark.sql.SparkSession.withActive(SparkSession.scala:779)\n\tat org.apache.spark.sql.execution.SQLExecution$.withNewExecutionId(SQLExecution.scala:64)\n\tat org.apache.spark.sql.Dataset.withAction(Dataset.scala:3856)\n\tat org.apache.spark.sql.Dataset.head(Dataset.scala:2863)\n\tat org.apache.spark.sql.Dataset.take(Dataset.scala:3084)\n\tat org.apache.spark.sql.Dataset.getRows(Dataset.scala:288)\n\tat org.apache.spark.sql.Dataset.showString(Dataset.scala:327)\n\tat sun.reflect.GeneratedMethodAccessor71.invoke(Unknown Source)\n\tat sun.reflect.DelegatingMethodAccessorImpl.invoke(DelegatingMethodAccessorImpl.java:43)\n\tat java.lang.reflect.Method.invoke(Method.java:498)\n\tat py4j.reflection.MethodInvoker.invoke(MethodInvoker.java:244)\n\tat py4j.reflection.ReflectionEngine.invoke(ReflectionEngine.java:357)\n\tat py4j.Gateway.invoke(Gateway.java:282)\n\tat py4j.commands.AbstractCommand.invokeMethod(AbstractCommand.java:132)\n\tat py4j.commands.CallCommand.execute(CallCommand.java:79)\n\tat py4j.ClientServerConnection.waitForCommands(ClientServerConnection.java:182)\n\tat py4j.ClientServerConnection.run(ClientServerConnection.java:106)\n\tat java.lang.Thread.run(Thread.java:750)\n",
     "output_type": "error",
     "traceback": [
      "\u001b[0;31m---------------------------------------------------------------------------\u001b[0m",
      "\u001b[0;31mPy4JJavaError\u001b[0m                             Traceback (most recent call last)",
      "\u001b[0;32m/tmp/ipykernel_84184/1842469281.py\u001b[0m in \u001b[0;36m<module>\u001b[0;34m\u001b[0m\n\u001b[0;32m----> 1\u001b[0;31m \u001b[0mdf\u001b[0m\u001b[0;34m.\u001b[0m\u001b[0mshow\u001b[0m\u001b[0;34m(\u001b[0m\u001b[0;36m5\u001b[0m\u001b[0;34m)\u001b[0m\u001b[0;34m\u001b[0m\u001b[0;34m\u001b[0m\u001b[0m\n\u001b[0m",
      "\u001b[0;32m~/.local/lib/python3.10/site-packages/pyspark/sql/dataframe.py\u001b[0m in \u001b[0;36mshow\u001b[0;34m(self, n, truncate, vertical)\u001b[0m\n\u001b[1;32m    604\u001b[0m \u001b[0;34m\u001b[0m\u001b[0m\n\u001b[1;32m    605\u001b[0m         \u001b[0;32mif\u001b[0m \u001b[0misinstance\u001b[0m\u001b[0;34m(\u001b[0m\u001b[0mtruncate\u001b[0m\u001b[0;34m,\u001b[0m \u001b[0mbool\u001b[0m\u001b[0;34m)\u001b[0m \u001b[0;32mand\u001b[0m \u001b[0mtruncate\u001b[0m\u001b[0;34m:\u001b[0m\u001b[0;34m\u001b[0m\u001b[0;34m\u001b[0m\u001b[0m\n\u001b[0;32m--> 606\u001b[0;31m             \u001b[0mprint\u001b[0m\u001b[0;34m(\u001b[0m\u001b[0mself\u001b[0m\u001b[0;34m.\u001b[0m\u001b[0m_jdf\u001b[0m\u001b[0;34m.\u001b[0m\u001b[0mshowString\u001b[0m\u001b[0;34m(\u001b[0m\u001b[0mn\u001b[0m\u001b[0;34m,\u001b[0m \u001b[0;36m20\u001b[0m\u001b[0;34m,\u001b[0m \u001b[0mvertical\u001b[0m\u001b[0;34m)\u001b[0m\u001b[0;34m)\u001b[0m\u001b[0;34m\u001b[0m\u001b[0;34m\u001b[0m\u001b[0m\n\u001b[0m\u001b[1;32m    607\u001b[0m         \u001b[0;32melse\u001b[0m\u001b[0;34m:\u001b[0m\u001b[0;34m\u001b[0m\u001b[0;34m\u001b[0m\u001b[0m\n\u001b[1;32m    608\u001b[0m             \u001b[0;32mtry\u001b[0m\u001b[0;34m:\u001b[0m\u001b[0;34m\u001b[0m\u001b[0;34m\u001b[0m\u001b[0m\n",
      "\u001b[0;32m~/.local/lib/python3.10/site-packages/py4j/java_gateway.py\u001b[0m in \u001b[0;36m__call__\u001b[0;34m(self, *args)\u001b[0m\n\u001b[1;32m   1319\u001b[0m \u001b[0;34m\u001b[0m\u001b[0m\n\u001b[1;32m   1320\u001b[0m         \u001b[0manswer\u001b[0m \u001b[0;34m=\u001b[0m \u001b[0mself\u001b[0m\u001b[0;34m.\u001b[0m\u001b[0mgateway_client\u001b[0m\u001b[0;34m.\u001b[0m\u001b[0msend_command\u001b[0m\u001b[0;34m(\u001b[0m\u001b[0mcommand\u001b[0m\u001b[0;34m)\u001b[0m\u001b[0;34m\u001b[0m\u001b[0;34m\u001b[0m\u001b[0m\n\u001b[0;32m-> 1321\u001b[0;31m         return_value = get_return_value(\n\u001b[0m\u001b[1;32m   1322\u001b[0m             answer, self.gateway_client, self.target_id, self.name)\n\u001b[1;32m   1323\u001b[0m \u001b[0;34m\u001b[0m\u001b[0m\n",
      "\u001b[0;32m~/.local/lib/python3.10/site-packages/pyspark/sql/utils.py\u001b[0m in \u001b[0;36mdeco\u001b[0;34m(*a, **kw)\u001b[0m\n\u001b[1;32m    188\u001b[0m     \u001b[0;32mdef\u001b[0m \u001b[0mdeco\u001b[0m\u001b[0;34m(\u001b[0m\u001b[0;34m*\u001b[0m\u001b[0ma\u001b[0m\u001b[0;34m:\u001b[0m \u001b[0mAny\u001b[0m\u001b[0;34m,\u001b[0m \u001b[0;34m**\u001b[0m\u001b[0mkw\u001b[0m\u001b[0;34m:\u001b[0m \u001b[0mAny\u001b[0m\u001b[0;34m)\u001b[0m \u001b[0;34m->\u001b[0m \u001b[0mAny\u001b[0m\u001b[0;34m:\u001b[0m\u001b[0;34m\u001b[0m\u001b[0;34m\u001b[0m\u001b[0m\n\u001b[1;32m    189\u001b[0m         \u001b[0;32mtry\u001b[0m\u001b[0;34m:\u001b[0m\u001b[0;34m\u001b[0m\u001b[0;34m\u001b[0m\u001b[0m\n\u001b[0;32m--> 190\u001b[0;31m             \u001b[0;32mreturn\u001b[0m \u001b[0mf\u001b[0m\u001b[0;34m(\u001b[0m\u001b[0;34m*\u001b[0m\u001b[0ma\u001b[0m\u001b[0;34m,\u001b[0m \u001b[0;34m**\u001b[0m\u001b[0mkw\u001b[0m\u001b[0;34m)\u001b[0m\u001b[0;34m\u001b[0m\u001b[0;34m\u001b[0m\u001b[0m\n\u001b[0m\u001b[1;32m    191\u001b[0m         \u001b[0;32mexcept\u001b[0m \u001b[0mPy4JJavaError\u001b[0m \u001b[0;32mas\u001b[0m \u001b[0me\u001b[0m\u001b[0;34m:\u001b[0m\u001b[0;34m\u001b[0m\u001b[0;34m\u001b[0m\u001b[0m\n\u001b[1;32m    192\u001b[0m             \u001b[0mconverted\u001b[0m \u001b[0;34m=\u001b[0m \u001b[0mconvert_exception\u001b[0m\u001b[0;34m(\u001b[0m\u001b[0me\u001b[0m\u001b[0;34m.\u001b[0m\u001b[0mjava_exception\u001b[0m\u001b[0;34m)\u001b[0m\u001b[0;34m\u001b[0m\u001b[0;34m\u001b[0m\u001b[0m\n",
      "\u001b[0;32m~/.local/lib/python3.10/site-packages/py4j/protocol.py\u001b[0m in \u001b[0;36mget_return_value\u001b[0;34m(answer, gateway_client, target_id, name)\u001b[0m\n\u001b[1;32m    324\u001b[0m             \u001b[0mvalue\u001b[0m \u001b[0;34m=\u001b[0m \u001b[0mOUTPUT_CONVERTER\u001b[0m\u001b[0;34m[\u001b[0m\u001b[0mtype\u001b[0m\u001b[0;34m]\u001b[0m\u001b[0;34m(\u001b[0m\u001b[0manswer\u001b[0m\u001b[0;34m[\u001b[0m\u001b[0;36m2\u001b[0m\u001b[0;34m:\u001b[0m\u001b[0;34m]\u001b[0m\u001b[0;34m,\u001b[0m \u001b[0mgateway_client\u001b[0m\u001b[0;34m)\u001b[0m\u001b[0;34m\u001b[0m\u001b[0;34m\u001b[0m\u001b[0m\n\u001b[1;32m    325\u001b[0m             \u001b[0;32mif\u001b[0m \u001b[0manswer\u001b[0m\u001b[0;34m[\u001b[0m\u001b[0;36m1\u001b[0m\u001b[0;34m]\u001b[0m \u001b[0;34m==\u001b[0m \u001b[0mREFERENCE_TYPE\u001b[0m\u001b[0;34m:\u001b[0m\u001b[0;34m\u001b[0m\u001b[0;34m\u001b[0m\u001b[0m\n\u001b[0;32m--> 326\u001b[0;31m                 raise Py4JJavaError(\n\u001b[0m\u001b[1;32m    327\u001b[0m                     \u001b[0;34m\"An error occurred while calling {0}{1}{2}.\\n\"\u001b[0m\u001b[0;34m.\u001b[0m\u001b[0;34m\u001b[0m\u001b[0;34m\u001b[0m\u001b[0m\n\u001b[1;32m    328\u001b[0m                     format(target_id, \".\", name), value)\n",
      "\u001b[0;31mPy4JJavaError\u001b[0m: An error occurred while calling o598.showString.\n: java.lang.IllegalStateException: Cannot call methods on a stopped SparkContext.\nThis stopped SparkContext was created at:\n\norg.apache.spark.api.java.JavaSparkContext.<init>(JavaSparkContext.scala:58)\nsun.reflect.NativeConstructorAccessorImpl.newInstance0(Native Method)\nsun.reflect.NativeConstructorAccessorImpl.newInstance(NativeConstructorAccessorImpl.java:62)\nsun.reflect.DelegatingConstructorAccessorImpl.newInstance(DelegatingConstructorAccessorImpl.java:45)\njava.lang.reflect.Constructor.newInstance(Constructor.java:423)\npy4j.reflection.MethodInvoker.invoke(MethodInvoker.java:247)\npy4j.reflection.ReflectionEngine.invoke(ReflectionEngine.java:357)\npy4j.Gateway.invoke(Gateway.java:238)\npy4j.commands.ConstructorCommand.invokeConstructor(ConstructorCommand.java:80)\npy4j.commands.ConstructorCommand.execute(ConstructorCommand.java:69)\npy4j.ClientServerConnection.waitForCommands(ClientServerConnection.java:182)\npy4j.ClientServerConnection.run(ClientServerConnection.java:106)\njava.lang.Thread.run(Thread.java:750)\n\nThe currently active SparkContext was created at:\n\n(No active SparkContext.)\n         \n\tat org.apache.spark.SparkContext.assertNotStopped(SparkContext.scala:120)\n\tat org.apache.spark.SparkContext.defaultParallelism(SparkContext.scala:2524)\n\tat org.apache.spark.sql.execution.adaptive.CoalesceShufflePartitions.$anonfun$apply$1(CoalesceShufflePartitions.scala:60)\n\tat scala.runtime.java8.JFunction0$mcI$sp.apply(JFunction0$mcI$sp.java:23)\n\tat scala.Option.getOrElse(Option.scala:189)\n\tat org.apache.spark.sql.execution.adaptive.CoalesceShufflePartitions.apply(CoalesceShufflePartitions.scala:57)\n\tat org.apache.spark.sql.execution.adaptive.CoalesceShufflePartitions.apply(CoalesceShufflePartitions.scala:33)\n\tat org.apache.spark.sql.execution.adaptive.AdaptiveSparkPlanExec.$anonfun$optimizeQueryStage$1(AdaptiveSparkPlanExec.scala:155)\n\tat scala.collection.LinearSeqOptimized.foldLeft(LinearSeqOptimized.scala:126)\n\tat scala.collection.LinearSeqOptimized.foldLeft$(LinearSeqOptimized.scala:122)\n\tat scala.collection.immutable.List.foldLeft(List.scala:91)\n\tat org.apache.spark.sql.execution.adaptive.AdaptiveSparkPlanExec.optimizeQueryStage(AdaptiveSparkPlanExec.scala:154)\n\tat org.apache.spark.sql.execution.adaptive.AdaptiveSparkPlanExec.newQueryStage(AdaptiveSparkPlanExec.scala:530)\n\tat org.apache.spark.sql.execution.adaptive.AdaptiveSparkPlanExec.createQueryStages(AdaptiveSparkPlanExec.scala:491)\n\tat org.apache.spark.sql.execution.adaptive.AdaptiveSparkPlanExec.$anonfun$createQueryStages$2(AdaptiveSparkPlanExec.scala:521)\n\tat scala.collection.TraversableLike.$anonfun$map$1(TraversableLike.scala:286)\n\tat scala.collection.Iterator.foreach(Iterator.scala:943)\n\tat scala.collection.Iterator.foreach$(Iterator.scala:943)\n\tat scala.collection.AbstractIterator.foreach(Iterator.scala:1431)\n\tat scala.collection.IterableLike.foreach(IterableLike.scala:74)\n\tat scala.collection.IterableLike.foreach$(IterableLike.scala:73)\n\tat scala.collection.AbstractIterable.foreach(Iterable.scala:56)\n\tat scala.collection.TraversableLike.map(TraversableLike.scala:286)\n\tat scala.collection.TraversableLike.map$(TraversableLike.scala:279)\n\tat scala.collection.AbstractTraversable.map(Traversable.scala:108)\n\tat org.apache.spark.sql.execution.adaptive.AdaptiveSparkPlanExec.createQueryStages(AdaptiveSparkPlanExec.scala:521)\n\tat org.apache.spark.sql.execution.adaptive.AdaptiveSparkPlanExec.$anonfun$createQueryStages$2(AdaptiveSparkPlanExec.scala:521)\n\tat scala.collection.TraversableLike.$anonfun$map$1(TraversableLike.scala:286)\n\tat scala.collection.Iterator.foreach(Iterator.scala:943)\n\tat scala.collection.Iterator.foreach$(Iterator.scala:943)\n\tat scala.collection.AbstractIterator.foreach(Iterator.scala:1431)\n\tat scala.collection.IterableLike.foreach(IterableLike.scala:74)\n\tat scala.collection.IterableLike.foreach$(IterableLike.scala:73)\n\tat scala.collection.AbstractIterable.foreach(Iterable.scala:56)\n\tat scala.collection.TraversableLike.map(TraversableLike.scala:286)\n\tat scala.collection.TraversableLike.map$(TraversableLike.scala:279)\n\tat scala.collection.AbstractTraversable.map(Traversable.scala:108)\n\tat org.apache.spark.sql.execution.adaptive.AdaptiveSparkPlanExec.createQueryStages(AdaptiveSparkPlanExec.scala:521)\n\tat org.apache.spark.sql.execution.adaptive.AdaptiveSparkPlanExec.$anonfun$getFinalPhysicalPlan$1(AdaptiveSparkPlanExec.scala:235)\n\tat org.apache.spark.sql.SparkSession.withActive(SparkSession.scala:779)\n\tat org.apache.spark.sql.execution.adaptive.AdaptiveSparkPlanExec.getFinalPhysicalPlan(AdaptiveSparkPlanExec.scala:230)\n\tat org.apache.spark.sql.execution.adaptive.AdaptiveSparkPlanExec.withFinalPlanUpdate(AdaptiveSparkPlanExec.scala:372)\n\tat org.apache.spark.sql.execution.adaptive.AdaptiveSparkPlanExec.executeCollect(AdaptiveSparkPlanExec.scala:345)\n\tat org.apache.spark.sql.Dataset.collectFromPlan(Dataset.scala:3868)\n\tat org.apache.spark.sql.Dataset.$anonfun$head$1(Dataset.scala:2863)\n\tat org.apache.spark.sql.Dataset.$anonfun$withAction$2(Dataset.scala:3858)\n\tat org.apache.spark.sql.execution.QueryExecution$.withInternalError(QueryExecution.scala:510)\n\tat org.apache.spark.sql.Dataset.$anonfun$withAction$1(Dataset.scala:3856)\n\tat org.apache.spark.sql.execution.SQLExecution$.$anonfun$withNewExecutionId$6(SQLExecution.scala:109)\n\tat org.apache.spark.sql.execution.SQLExecution$.withSQLConfPropagated(SQLExecution.scala:169)\n\tat org.apache.spark.sql.execution.SQLExecution$.$anonfun$withNewExecutionId$1(SQLExecution.scala:95)\n\tat org.apache.spark.sql.SparkSession.withActive(SparkSession.scala:779)\n\tat org.apache.spark.sql.execution.SQLExecution$.withNewExecutionId(SQLExecution.scala:64)\n\tat org.apache.spark.sql.Dataset.withAction(Dataset.scala:3856)\n\tat org.apache.spark.sql.Dataset.head(Dataset.scala:2863)\n\tat org.apache.spark.sql.Dataset.take(Dataset.scala:3084)\n\tat org.apache.spark.sql.Dataset.getRows(Dataset.scala:288)\n\tat org.apache.spark.sql.Dataset.showString(Dataset.scala:327)\n\tat sun.reflect.GeneratedMethodAccessor71.invoke(Unknown Source)\n\tat sun.reflect.DelegatingMethodAccessorImpl.invoke(DelegatingMethodAccessorImpl.java:43)\n\tat java.lang.reflect.Method.invoke(Method.java:498)\n\tat py4j.reflection.MethodInvoker.invoke(MethodInvoker.java:244)\n\tat py4j.reflection.ReflectionEngine.invoke(ReflectionEngine.java:357)\n\tat py4j.Gateway.invoke(Gateway.java:282)\n\tat py4j.commands.AbstractCommand.invokeMethod(AbstractCommand.java:132)\n\tat py4j.commands.CallCommand.execute(CallCommand.java:79)\n\tat py4j.ClientServerConnection.waitForCommands(ClientServerConnection.java:182)\n\tat py4j.ClientServerConnection.run(ClientServerConnection.java:106)\n\tat java.lang.Thread.run(Thread.java:750)\n"
     ]
    }
   ],
   "source": [
    "df.show(5)"
   ]
  },
  {
   "cell_type": "code",
   "execution_count": 101,
   "id": "422cc0ff",
   "metadata": {},
   "outputs": [
    {
     "name": "stdout",
     "output_type": "stream",
     "text": [
      "+-----+------------+------------+----------+-------+---------+---+--------+--------+----+------+-------+------------+-------------+--------------+-------+-------------+-------+--------------------+---+---+\n",
      "|USMER|MEDICAL_UNIT|PATIENT_TYPE|DATE_DIED |INTUBED|PNEUMONIA|AGE|PREGNANT|DIABETES|COPD|ASTHMA|INMSUPR|HIPERTENSION|OTHER_DISEASE|CARDIOVASCULAR|OBESITY|RENAL_CHRONIC|TOBACCO|CLASIFFICATION_FINAL|ICU|SEX|\n",
      "+-----+------------+------------+----------+-------+---------+---+--------+--------+----+------+-------+------------+-------------+--------------+-------+-------------+-------+--------------------+---+---+\n",
      "|2    |1           |2           |09/06/2020|1      |2        |55 |97      |1       |2   |2     |2      |2           |2            |2             |2      |2            |2      |3                   |2  |2  |\n",
      "|2    |1           |1           |21/06/2020|97     |2        |68 |97      |1       |2   |2     |2      |1           |2            |2             |2      |2            |2      |3                   |97 |2  |\n",
      "|2    |1           |2           |9999-99-99|2      |1        |59 |97      |1       |2   |2     |2      |2           |2            |2             |2      |2            |1      |3                   |1  |2  |\n",
      "|2    |1           |2           |9999-99-99|2      |2        |30 |97      |1       |2   |2     |2      |2           |2            |2             |1      |2            |1      |7                   |2  |2  |\n",
      "|2    |1           |1           |9999-99-99|97     |2        |62 |97      |1       |2   |2     |2      |2           |2            |2             |2      |2            |2      |7                   |97 |2  |\n",
      "+-----+------------+------------+----------+-------+---------+---+--------+--------+----+------+-------+------------+-------------+--------------+-------+-------------+-------+--------------------+---+---+\n",
      "only showing top 5 rows\n",
      "\n"
     ]
    },
    {
     "name": "stderr",
     "output_type": "stream",
     "text": [
      "\r",
      "[Stage 206:============================>                            (1 + 1) / 2]\r",
      "\r",
      "                                                                                \r"
     ]
    }
   ],
   "source": [
    "df.show(n=5, truncate=False)"
   ]
  },
  {
   "cell_type": "code",
   "execution_count": 5,
   "id": "9376cd7b",
   "metadata": {},
   "outputs": [
    {
     "name": "stdout",
     "output_type": "stream",
     "text": [
      "-RECORD 0--------------------------\n",
      " USMER                | 2          \n",
      " MEDICAL_UNIT         | 1          \n",
      " PATIENT_TYPE         | 1          \n",
      " DATE_DIED            | 03/06/2020 \n",
      " INTUBED              | 97         \n",
      " PNEUMONIA            | 1          \n",
      " AGE                  | 72         \n",
      " PREGNANT             | 97         \n",
      " DIABETES             | 2          \n",
      " COPD                 | 2          \n",
      " ASTHMA               | 2          \n",
      " INMSUPR              | 2          \n",
      " HIPERTENSION         | 1          \n",
      " OTHER_DISEASE        | 2          \n",
      " CARDIOVASCULAR       | 2          \n",
      " OBESITY              | 1          \n",
      " RENAL_CHRONIC        | 1          \n",
      " TOBACCO              | 2          \n",
      " CLASIFFICATION_FINAL | 5          \n",
      " ICU                  | 97         \n",
      " SEX                  | 2          \n",
      "-RECORD 1--------------------------\n",
      " USMER                | 2          \n",
      " MEDICAL_UNIT         | 1          \n",
      " PATIENT_TYPE         | 2          \n",
      " DATE_DIED            | 09/06/2020 \n",
      " INTUBED              | 1          \n",
      " PNEUMONIA            | 2          \n",
      " AGE                  | 55         \n",
      " PREGNANT             | 97         \n",
      " DIABETES             | 1          \n",
      " COPD                 | 2          \n",
      " ASTHMA               | 2          \n",
      " INMSUPR              | 2          \n",
      " HIPERTENSION         | 2          \n",
      " OTHER_DISEASE        | 2          \n",
      " CARDIOVASCULAR       | 2          \n",
      " OBESITY              | 2          \n",
      " RENAL_CHRONIC        | 2          \n",
      " TOBACCO              | 2          \n",
      " CLASIFFICATION_FINAL | 3          \n",
      " ICU                  | 2          \n",
      " SEX                  | 2          \n",
      "-RECORD 2--------------------------\n",
      " USMER                | 2          \n",
      " MEDICAL_UNIT         | 1          \n",
      " PATIENT_TYPE         | 1          \n",
      " DATE_DIED            | 21/06/2020 \n",
      " INTUBED              | 97         \n",
      " PNEUMONIA            | 2          \n",
      " AGE                  | 68         \n",
      " PREGNANT             | 97         \n",
      " DIABETES             | 1          \n",
      " COPD                 | 2          \n",
      " ASTHMA               | 2          \n",
      " INMSUPR              | 2          \n",
      " HIPERTENSION         | 1          \n",
      " OTHER_DISEASE        | 2          \n",
      " CARDIOVASCULAR       | 2          \n",
      " OBESITY              | 2          \n",
      " RENAL_CHRONIC        | 2          \n",
      " TOBACCO              | 2          \n",
      " CLASIFFICATION_FINAL | 3          \n",
      " ICU                  | 97         \n",
      " SEX                  | 2          \n",
      "-RECORD 3--------------------------\n",
      " USMER                | 2          \n",
      " MEDICAL_UNIT         | 1          \n",
      " PATIENT_TYPE         | 2          \n",
      " DATE_DIED            | 9999-99-99 \n",
      " INTUBED              | 2          \n",
      " PNEUMONIA            | 2          \n",
      " AGE                  | 24         \n",
      " PREGNANT             | 97         \n",
      " DIABETES             | 2          \n",
      " COPD                 | 2          \n",
      " ASTHMA               | 2          \n",
      " INMSUPR              | 2          \n",
      " HIPERTENSION         | 2          \n",
      " OTHER_DISEASE        | 2          \n",
      " CARDIOVASCULAR       | 2          \n",
      " OBESITY              | 2          \n",
      " RENAL_CHRONIC        | 2          \n",
      " TOBACCO              | 2          \n",
      " CLASIFFICATION_FINAL | 3          \n",
      " ICU                  | 2          \n",
      " SEX                  | 2          \n",
      "-RECORD 4--------------------------\n",
      " USMER                | 2          \n",
      " MEDICAL_UNIT         | 1          \n",
      " PATIENT_TYPE         | 2          \n",
      " DATE_DIED            | 9999-99-99 \n",
      " INTUBED              | 2          \n",
      " PNEUMONIA            | 2          \n",
      " AGE                  | 30         \n",
      " PREGNANT             | 97         \n",
      " DIABETES             | 2          \n",
      " COPD                 | 2          \n",
      " ASTHMA               | 2          \n",
      " INMSUPR              | 2          \n",
      " HIPERTENSION         | 2          \n",
      " OTHER_DISEASE        | 2          \n",
      " CARDIOVASCULAR       | 2          \n",
      " OBESITY              | 2          \n",
      " RENAL_CHRONIC        | 2          \n",
      " TOBACCO              | 2          \n",
      " CLASIFFICATION_FINAL | 3          \n",
      " ICU                  | 2          \n",
      " SEX                  | 2          \n",
      "only showing top 5 rows\n",
      "\n"
     ]
    }
   ],
   "source": [
    "df.show(n=5, vertical=True)"
   ]
  },
  {
   "cell_type": "markdown",
   "id": "96b1b4d0",
   "metadata": {},
   "source": [
    "#### pyspark.sql.DataFrame.stat"
   ]
  },
  {
   "cell_type": "code",
   "execution_count": 6,
   "id": "676d58fa",
   "metadata": {},
   "outputs": [
    {
     "data": {
      "text/plain": [
       "0.004421690181632975"
      ]
     },
     "execution_count": 6,
     "metadata": {},
     "output_type": "execute_result"
    }
   ],
   "source": [
    "df.stat.corr('AGE','DIABETES')"
   ]
  },
  {
   "cell_type": "markdown",
   "id": "35136138",
   "metadata": {},
   "source": [
    "#### pyspark.sql.DataFrame.subtract"
   ]
  },
  {
   "cell_type": "code",
   "execution_count": 10,
   "id": "085142a8",
   "metadata": {},
   "outputs": [],
   "source": [
    "df1 = sparkSession.createDataFrame([('nilesh',24),('pawan', 21),('nilesh3',24)])\n",
    "df2 = sparkSession.createDataFrame([('nilesh2',25),('pawan2', 22),('nilesh3',24)])"
   ]
  },
  {
   "cell_type": "code",
   "execution_count": 11,
   "id": "bd3d0290",
   "metadata": {},
   "outputs": [
    {
     "name": "stderr",
     "output_type": "stream",
     "text": [
      "\r",
      "[Stage 21:=============================>                            (1 + 1) / 2]\r",
      "\r",
      "                                                                                \r"
     ]
    },
    {
     "name": "stdout",
     "output_type": "stream",
     "text": [
      "+------+---+\n",
      "|    _1| _2|\n",
      "+------+---+\n",
      "| pawan| 21|\n",
      "|nilesh| 24|\n",
      "+------+---+\n",
      "\n"
     ]
    }
   ],
   "source": [
    "df1.subtract(df2).show()"
   ]
  },
  {
   "cell_type": "markdown",
   "id": "96c2fba4",
   "metadata": {},
   "source": [
    "#### pyspark.sql.DataFrame.summary¶\n",
    "Computes specified statistics for numeric and string columns. Available statistics are: - count - mean - stddev - min - max - arbitrary approximate percentiles specified as a percentage (e.g., 75%)\n",
    "\n",
    "    If no statistics are given, this function computes count, mean, stddev, min, approximate quartiles (percentiles at 25%, 50%, and 75%), and max."
   ]
  },
  {
   "cell_type": "code",
   "execution_count": 3,
   "id": "4e2e3ba9",
   "metadata": {},
   "outputs": [
    {
     "name": "stderr",
     "output_type": "stream",
     "text": [
      "[Stage 2:=============================>                             (1 + 1) / 2]\r"
     ]
    },
    {
     "name": "stdout",
     "output_type": "stream",
     "text": [
      "+-------+----+------------------+-----------------+\n",
      "|summary| age|            weight|           height|\n",
      "+-------+----+------------------+-----------------+\n",
      "|  count|   3|                 3|                3|\n",
      "|   mean|12.0|40.733333333333334|            145.0|\n",
      "| stddev| 1.0| 3.172275734127371|4.763402145525822|\n",
      "|    min|  11|              37.8|            142.2|\n",
      "|    25%|  11|              37.8|            142.2|\n",
      "|    50%|  12|              40.3|            142.3|\n",
      "|    75%|  13|              44.1|            150.5|\n",
      "|    max|  13|              44.1|            150.5|\n",
      "+-------+----+------------------+-----------------+\n",
      "\n"
     ]
    },
    {
     "name": "stderr",
     "output_type": "stream",
     "text": [
      "\r",
      "                                                                                \r"
     ]
    }
   ],
   "source": [
    "df = sparkSession.createDataFrame([(\"Bob\", 13, 40.3, 150.5), (\"Alice\", 12, 37.8, 142.3), (\"Tom\", 11, 44.1, 142.2)],[\"name\", \"age\", \"weight\", \"height\"])\n",
    "\n",
    "df.select(\"age\", \"weight\", \"height\").summary().show()"
   ]
  },
  {
   "cell_type": "code",
   "execution_count": 14,
   "id": "08ecb1ca",
   "metadata": {},
   "outputs": [
    {
     "name": "stdout",
     "output_type": "stream",
     "text": [
      "+-------+---+------+------+\n",
      "|summary|age|weight|height|\n",
      "+-------+---+------+------+\n",
      "|    max| 13|  44.1| 150.5|\n",
      "|    min| 11|  37.8| 142.2|\n",
      "+-------+---+------+------+\n",
      "\n"
     ]
    }
   ],
   "source": [
    "df.select(\"age\", \"weight\", \"height\").summary('max','min').show()"
   ]
  },
  {
   "cell_type": "code",
   "execution_count": 15,
   "id": "ad0668a4",
   "metadata": {},
   "outputs": [
    {
     "name": "stdout",
     "output_type": "stream",
     "text": [
      "+-------+----+------------------+-----------------+\n",
      "|summary| age|            weight|           height|\n",
      "+-------+----+------------------+-----------------+\n",
      "|  count|   3|                 3|                3|\n",
      "|   mean|12.0|40.733333333333334|            145.0|\n",
      "| stddev| 1.0| 3.172275734127371|4.763402145525822|\n",
      "|    min|  11|              37.8|            142.2|\n",
      "|    max|  13|              44.1|            150.5|\n",
      "+-------+----+------------------+-----------------+\n",
      "\n"
     ]
    }
   ],
   "source": [
    "df.select(\"age\", \"weight\", \"height\").describe().show()"
   ]
  },
  {
   "cell_type": "markdown",
   "id": "1e753024",
   "metadata": {},
   "source": [
    "#### pyspark.sql.DataFrame.tail¶\n",
    "Returns the last num rows as a list of Row.\n",
    "\n",
    "Running tail requires moving data into the application’s driver process, and doing so with a very large num can crash the driver process with OutOfMemoryError."
   ]
  },
  {
   "cell_type": "code",
   "execution_count": 17,
   "id": "76b09a19",
   "metadata": {},
   "outputs": [
    {
     "data": {
      "text/plain": [
       "[Row(name='Alice', age=12, weight=37.8, height=142.3),\n",
       " Row(name='Tom', age=11, weight=44.1, height=142.2)]"
      ]
     },
     "execution_count": 17,
     "metadata": {},
     "output_type": "execute_result"
    }
   ],
   "source": [
    "df.tail(2)"
   ]
  },
  {
   "cell_type": "code",
   "execution_count": 18,
   "id": "1a45cd15",
   "metadata": {},
   "outputs": [
    {
     "data": {
      "text/plain": [
       "[Row(name='Bob', age=13, weight=40.3, height=150.5),\n",
       " Row(name='Alice', age=12, weight=37.8, height=142.3)]"
      ]
     },
     "execution_count": 18,
     "metadata": {},
     "output_type": "execute_result"
    }
   ],
   "source": [
    "df.head(2)"
   ]
  },
  {
   "cell_type": "markdown",
   "id": "b271dc2c",
   "metadata": {},
   "source": [
    "##### pyspark.sql.DataFrame.take¶\n",
    "Returns the first num rows as a list of Row."
   ]
  },
  {
   "cell_type": "code",
   "execution_count": 19,
   "id": "64a13359",
   "metadata": {},
   "outputs": [
    {
     "data": {
      "text/plain": [
       "[Row(name='Bob', age=13, weight=40.3, height=150.5),\n",
       " Row(name='Alice', age=12, weight=37.8, height=142.3),\n",
       " Row(name='Tom', age=11, weight=44.1, height=142.2)]"
      ]
     },
     "execution_count": 19,
     "metadata": {},
     "output_type": "execute_result"
    }
   ],
   "source": [
    "df.take(4)"
   ]
  },
  {
   "cell_type": "code",
   "execution_count": 4,
   "id": "50d8386f",
   "metadata": {},
   "outputs": [
    {
     "data": {
      "text/plain": [
       "[Row(name='Bob', age=13, weight=40.3, height=150.5),\n",
       " Row(name='Alice', age=12, weight=37.8, height=142.3)]"
      ]
     },
     "execution_count": 4,
     "metadata": {},
     "output_type": "execute_result"
    }
   ],
   "source": [
    "df.take(2)"
   ]
  },
  {
   "cell_type": "markdown",
   "id": "aff399ac",
   "metadata": {},
   "source": [
    "#### pyspark.sql.DataFrame.toDF"
   ]
  },
  {
   "cell_type": "code",
   "execution_count": 7,
   "id": "cedd956f",
   "metadata": {},
   "outputs": [
    {
     "name": "stdout",
     "output_type": "stream",
     "text": [
      "+---+\n",
      "|AGE|\n",
      "+---+\n",
      "| 13|\n",
      "| 12|\n",
      "| 11|\n",
      "+---+\n",
      "\n"
     ]
    }
   ],
   "source": [
    "df.select('age').toDF('AGE').show()"
   ]
  },
  {
   "cell_type": "markdown",
   "id": "2cbdad76",
   "metadata": {},
   "source": [
    "#### pyspark.sql.DataFrame.toJSON\n",
    "Converts a DataFrame into a RDD of string.\n",
    "\n",
    "Each row is turned into a JSON document as one element in the returned RDD."
   ]
  },
  {
   "cell_type": "code",
   "execution_count": 9,
   "id": "7ce02085",
   "metadata": {},
   "outputs": [
    {
     "name": "stderr",
     "output_type": "stream",
     "text": [
      "                                                                                \r"
     ]
    },
    {
     "data": {
      "text/plain": [
       "'{\"name\":\"Bob\",\"age\":13,\"weight\":40.3,\"height\":150.5}'"
      ]
     },
     "execution_count": 9,
     "metadata": {},
     "output_type": "execute_result"
    }
   ],
   "source": [
    "df.toJSON().first()"
   ]
  },
  {
   "cell_type": "code",
   "execution_count": 11,
   "id": "629549d5",
   "metadata": {},
   "outputs": [
    {
     "data": {
      "text/plain": [
       "['{\"name\":\"Bob\",\"age\":13,\"weight\":40.3,\"height\":150.5}',\n",
       " '{\"name\":\"Alice\",\"age\":12,\"weight\":37.8,\"height\":142.3}',\n",
       " '{\"name\":\"Tom\",\"age\":11,\"weight\":44.1,\"height\":142.2}']"
      ]
     },
     "execution_count": 11,
     "metadata": {},
     "output_type": "execute_result"
    }
   ],
   "source": [
    "df.toJSON().collect()"
   ]
  },
  {
   "cell_type": "markdown",
   "id": "3250480a",
   "metadata": {},
   "source": [
    "#### pyspark.sql.DataFrame.toPandas\n",
    "\n",
    "    Returns the contents of this DataFrame as Pandas pandas.DataFrame.\n",
    "\n",
    "    This is only available if Pandas is installed and available.\n",
    "\n",
    "    Notes: This method should only be used if the resulting Pandas pandas.DataFrame is expected to be small, as all the data is loaded into the driver’s memory."
   ]
  },
  {
   "cell_type": "code",
   "execution_count": 12,
   "id": "d2f2827b",
   "metadata": {},
   "outputs": [
    {
     "data": {
      "text/html": [
       "<div>\n",
       "<style scoped>\n",
       "    .dataframe tbody tr th:only-of-type {\n",
       "        vertical-align: middle;\n",
       "    }\n",
       "\n",
       "    .dataframe tbody tr th {\n",
       "        vertical-align: top;\n",
       "    }\n",
       "\n",
       "    .dataframe thead th {\n",
       "        text-align: right;\n",
       "    }\n",
       "</style>\n",
       "<table border=\"1\" class=\"dataframe\">\n",
       "  <thead>\n",
       "    <tr style=\"text-align: right;\">\n",
       "      <th></th>\n",
       "      <th>name</th>\n",
       "      <th>age</th>\n",
       "      <th>weight</th>\n",
       "      <th>height</th>\n",
       "    </tr>\n",
       "  </thead>\n",
       "  <tbody>\n",
       "    <tr>\n",
       "      <th>0</th>\n",
       "      <td>Bob</td>\n",
       "      <td>13</td>\n",
       "      <td>40.3</td>\n",
       "      <td>150.5</td>\n",
       "    </tr>\n",
       "    <tr>\n",
       "      <th>1</th>\n",
       "      <td>Alice</td>\n",
       "      <td>12</td>\n",
       "      <td>37.8</td>\n",
       "      <td>142.3</td>\n",
       "    </tr>\n",
       "    <tr>\n",
       "      <th>2</th>\n",
       "      <td>Tom</td>\n",
       "      <td>11</td>\n",
       "      <td>44.1</td>\n",
       "      <td>142.2</td>\n",
       "    </tr>\n",
       "  </tbody>\n",
       "</table>\n",
       "</div>"
      ],
      "text/plain": [
       "    name  age  weight  height\n",
       "0    Bob   13    40.3   150.5\n",
       "1  Alice   12    37.8   142.3\n",
       "2    Tom   11    44.1   142.2"
      ]
     },
     "execution_count": 12,
     "metadata": {},
     "output_type": "execute_result"
    }
   ],
   "source": [
    "df.toPandas()"
   ]
  },
  {
   "cell_type": "markdown",
   "id": "7e60e867",
   "metadata": {},
   "source": [
    "#### pyspark.sql.DataFrame.transform"
   ]
  },
  {
   "cell_type": "code",
   "execution_count": 23,
   "id": "6f0bbe54",
   "metadata": {},
   "outputs": [
    {
     "name": "stdout",
     "output_type": "stream",
     "text": [
      "+----------+\n",
      "|(age + 10)|\n",
      "+----------+\n",
      "|        23|\n",
      "|        22|\n",
      "|        21|\n",
      "+----------+\n",
      "\n"
     ]
    }
   ],
   "source": [
    "def lowerf(df1):\n",
    "    return df1.select(df1.age+10)\n",
    "\n",
    "df.transform(lowerf).show()"
   ]
  },
  {
   "cell_type": "code",
   "execution_count": 25,
   "id": "eb5e7e00",
   "metadata": {},
   "outputs": [
    {
     "name": "stdout",
     "output_type": "stream",
     "text": [
      "+-------------+\n",
      "|(height - 10)|\n",
      "+-------------+\n",
      "|        140.5|\n",
      "|        132.3|\n",
      "|        132.2|\n",
      "+-------------+\n",
      "\n"
     ]
    }
   ],
   "source": [
    "df.transform(lambda data: data.select(data.height-10)).show()"
   ]
  },
  {
   "cell_type": "markdown",
   "id": "3b7ec546",
   "metadata": {},
   "source": [
    "\n",
    "#### PySpark Union and UnionAll Explained\n",
    "\n",
    "PySpark union() and unionAll() transformations are used to merge two or more DataFrame’s of the same schema or structure. In this PySpark article, I will explain both union transformations with PySpark examples.\n",
    "\n",
    "Dataframe union() – union() method of the DataFrame is used to merge two DataFrame’s of the same structure/schema. If schemas are not the same it returns an error.\n",
    "\n",
    "DataFrame unionAll() – unionAll() is deprecated since Spark “2.0.0” version and replaced with union().\n",
    "\n",
    "Note: In other SQL languages, Union eliminates the duplicates but UnionAll merges two datasets including duplicate records. But, in PySpark both behave the same and recommend using DataFrame duplicate() function to remove duplicate rows."
   ]
  },
  {
   "cell_type": "code",
   "execution_count": 26,
   "id": "c124ee27",
   "metadata": {},
   "outputs": [
    {
     "name": "stdout",
     "output_type": "stream",
     "text": [
      "root\n",
      " |-- employee_name: string (nullable = true)\n",
      " |-- department: string (nullable = true)\n",
      " |-- state: string (nullable = true)\n",
      " |-- salary: long (nullable = true)\n",
      " |-- age: long (nullable = true)\n",
      " |-- bonus: long (nullable = true)\n",
      "\n",
      "+-------------+----------+-----+------+---+-----+\n",
      "|employee_name|department|state|salary|age|bonus|\n",
      "+-------------+----------+-----+------+---+-----+\n",
      "|James        |Sales     |NY   |90000 |34 |10000|\n",
      "|Michael      |Sales     |NY   |86000 |56 |20000|\n",
      "|Robert       |Sales     |CA   |81000 |30 |23000|\n",
      "|Maria        |Finance   |CA   |90000 |24 |23000|\n",
      "+-------------+----------+-----+------+---+-----+\n",
      "\n"
     ]
    }
   ],
   "source": [
    "simpleData = [(\"James\",\"Sales\",\"NY\",90000,34,10000), \\\n",
    "    (\"Michael\",\"Sales\",\"NY\",86000,56,20000), \\\n",
    "    (\"Robert\",\"Sales\",\"CA\",81000,30,23000), \\\n",
    "    (\"Maria\",\"Finance\",\"CA\",90000,24,23000) \\\n",
    "  ]\n",
    "\n",
    "columns= [\"employee_name\",\"department\",\"state\",\"salary\",\"age\",\"bonus\"]\n",
    "df = sparkSession.createDataFrame(data = simpleData, schema = columns)\n",
    "df.printSchema()\n",
    "df.show(truncate=False)"
   ]
  },
  {
   "cell_type": "code",
   "execution_count": 27,
   "id": "2962eb7e",
   "metadata": {},
   "outputs": [
    {
     "name": "stdout",
     "output_type": "stream",
     "text": [
      "root\n",
      " |-- employee_name: string (nullable = true)\n",
      " |-- department: string (nullable = true)\n",
      " |-- state: string (nullable = true)\n",
      " |-- salary: long (nullable = true)\n",
      " |-- age: long (nullable = true)\n",
      " |-- bonus: long (nullable = true)\n",
      "\n",
      "+-------------+----------+-----+------+---+-----+\n",
      "|employee_name|department|state|salary|age|bonus|\n",
      "+-------------+----------+-----+------+---+-----+\n",
      "|James        |Sales     |NY   |90000 |34 |10000|\n",
      "|Maria        |Finance   |CA   |90000 |24 |23000|\n",
      "|Jen          |Finance   |NY   |79000 |53 |15000|\n",
      "|Jeff         |Marketing |CA   |80000 |25 |18000|\n",
      "|Kumar        |Marketing |NY   |91000 |50 |21000|\n",
      "+-------------+----------+-----+------+---+-----+\n",
      "\n"
     ]
    }
   ],
   "source": [
    "simpleData2 = [(\"James\",\"Sales\",\"NY\",90000,34,10000), \\\n",
    "    (\"Maria\",\"Finance\",\"CA\",90000,24,23000), \\\n",
    "    (\"Jen\",\"Finance\",\"NY\",79000,53,15000), \\\n",
    "    (\"Jeff\",\"Marketing\",\"CA\",80000,25,18000), \\\n",
    "    (\"Kumar\",\"Marketing\",\"NY\",91000,50,21000) \\\n",
    "  ]\n",
    "columns2= [\"employee_name\",\"department\",\"state\",\"salary\",\"age\",\"bonus\"]\n",
    "\n",
    "df2 = sparkSession.createDataFrame(data = simpleData2, schema = columns2)\n",
    "\n",
    "df2.printSchema()\n",
    "df2.show(truncate=False)"
   ]
  },
  {
   "cell_type": "code",
   "execution_count": 28,
   "id": "8e3d5969",
   "metadata": {},
   "outputs": [
    {
     "name": "stdout",
     "output_type": "stream",
     "text": [
      "+-------------+----------+-----+------+---+-----+\n",
      "|employee_name|department|state|salary|age|bonus|\n",
      "+-------------+----------+-----+------+---+-----+\n",
      "|James        |Sales     |NY   |90000 |34 |10000|\n",
      "|Michael      |Sales     |NY   |86000 |56 |20000|\n",
      "|Robert       |Sales     |CA   |81000 |30 |23000|\n",
      "|Maria        |Finance   |CA   |90000 |24 |23000|\n",
      "|James        |Sales     |NY   |90000 |34 |10000|\n",
      "|Maria        |Finance   |CA   |90000 |24 |23000|\n",
      "|Jen          |Finance   |NY   |79000 |53 |15000|\n",
      "|Jeff         |Marketing |CA   |80000 |25 |18000|\n",
      "|Kumar        |Marketing |NY   |91000 |50 |21000|\n",
      "+-------------+----------+-----+------+---+-----+\n",
      "\n"
     ]
    }
   ],
   "source": [
    "df.union(df2).show(truncate=False)"
   ]
  },
  {
   "cell_type": "code",
   "execution_count": 29,
   "id": "b0a24dc7",
   "metadata": {},
   "outputs": [
    {
     "name": "stdout",
     "output_type": "stream",
     "text": [
      "+-------------+----------+-----+------+---+-----+\n",
      "|employee_name|department|state|salary|age|bonus|\n",
      "+-------------+----------+-----+------+---+-----+\n",
      "|        James|     Sales|   NY| 90000| 34|10000|\n",
      "|      Michael|     Sales|   NY| 86000| 56|20000|\n",
      "|       Robert|     Sales|   CA| 81000| 30|23000|\n",
      "|        Maria|   Finance|   CA| 90000| 24|23000|\n",
      "|        James|     Sales|   NY| 90000| 34|10000|\n",
      "|        Maria|   Finance|   CA| 90000| 24|23000|\n",
      "|          Jen|   Finance|   NY| 79000| 53|15000|\n",
      "|         Jeff| Marketing|   CA| 80000| 25|18000|\n",
      "|        Kumar| Marketing|   NY| 91000| 50|21000|\n",
      "+-------------+----------+-----+------+---+-----+\n",
      "\n"
     ]
    }
   ],
   "source": [
    "df.unionAll(df2).show()"
   ]
  },
  {
   "cell_type": "code",
   "execution_count": 30,
   "id": "5c73cf29",
   "metadata": {},
   "outputs": [
    {
     "name": "stderr",
     "output_type": "stream",
     "text": [
      "\r",
      "[Stage 30:=============================>                            (2 + 1) / 4]\r"
     ]
    },
    {
     "name": "stdout",
     "output_type": "stream",
     "text": [
      "+-------------+----------+-----+------+---+-----+\n",
      "|employee_name|department|state|salary|age|bonus|\n",
      "+-------------+----------+-----+------+---+-----+\n",
      "|        James|     Sales|   NY| 90000| 34|10000|\n",
      "|      Michael|     Sales|   NY| 86000| 56|20000|\n",
      "|        Maria|   Finance|   CA| 90000| 24|23000|\n",
      "|       Robert|     Sales|   CA| 81000| 30|23000|\n",
      "|        Kumar| Marketing|   NY| 91000| 50|21000|\n",
      "|          Jen|   Finance|   NY| 79000| 53|15000|\n",
      "|         Jeff| Marketing|   CA| 80000| 25|18000|\n",
      "+-------------+----------+-----+------+---+-----+\n",
      "\n"
     ]
    },
    {
     "name": "stderr",
     "output_type": "stream",
     "text": [
      "\r",
      "                                                                                \r"
     ]
    }
   ],
   "source": [
    "df.union(df2).distinct().show()"
   ]
  },
  {
   "cell_type": "markdown",
   "id": "84cdc251",
   "metadata": {},
   "source": [
    "#### pyspark.sql.DataFrame.unionByName\n",
    "\n",
    "    Returns a new DataFrame containing union of rows in this and another DataFrame.\n",
    "\n",
    "    This is different from both UNION ALL and UNION DISTINCT in SQL. To do a SQL-style set union (that does deduplication of elements), use this function followed by distinct().\n",
    "\n",
    "    Examples\n",
    "\n",
    "    The difference between this function and union() is that this function resolves columns by name (not by position):"
   ]
  },
  {
   "cell_type": "code",
   "execution_count": 32,
   "id": "b7e90019",
   "metadata": {},
   "outputs": [
    {
     "name": "stdout",
     "output_type": "stream",
     "text": [
      "+----+----+----+\n",
      "|col0|col1|col2|\n",
      "+----+----+----+\n",
      "|   1|   2|   3|\n",
      "|   6|   4|   5|\n",
      "+----+----+----+\n",
      "\n"
     ]
    }
   ],
   "source": [
    "df1 = sparkSession.createDataFrame([[1, 2, 3]], [\"col0\", \"col1\", \"col2\"])\n",
    "df2 = sparkSession.createDataFrame([[4, 5, 6]], [\"col1\", \"col2\", \"col0\"])\n",
    "df1.unionByName(df2).show()"
   ]
  },
  {
   "cell_type": "markdown",
   "id": "7987ac8d",
   "metadata": {},
   "source": [
    "When the parameter allowMissingColumns is True, the set of column names in this and other DataFrame can differ; missing columns will be filled with null. Further, the missing columns of this DataFrame will be added at the end in the schema of the union result:"
   ]
  },
  {
   "cell_type": "code",
   "execution_count": 34,
   "id": "be767146",
   "metadata": {},
   "outputs": [
    {
     "name": "stdout",
     "output_type": "stream",
     "text": [
      "+----+----+----+----+\n",
      "|col0|col1|col2|col3|\n",
      "+----+----+----+----+\n",
      "|   1|   2|   3|null|\n",
      "|null|   4|   5|   6|\n",
      "+----+----+----+----+\n",
      "\n"
     ]
    }
   ],
   "source": [
    "df1 = sparkSession.createDataFrame([[1, 2, 3]], [\"col0\", \"col1\", \"col2\"])\n",
    "df2 = sparkSession.createDataFrame([[4, 5, 6]], [\"col1\", \"col2\", \"col3\"])\n",
    "df1.unionByName(df2, allowMissingColumns=True).show()"
   ]
  },
  {
   "cell_type": "markdown",
   "id": "e5723d42",
   "metadata": {},
   "source": [
    "#### pyspark.sql.DataFrame.unpersist\n",
    "Marks the DataFrame as non-persistent, and remove all blocks for it from memory and disk."
   ]
  },
  {
   "cell_type": "code",
   "execution_count": 35,
   "id": "97c880f2",
   "metadata": {},
   "outputs": [
    {
     "data": {
      "text/plain": [
       "DataFrame[employee_name: string, department: string, state: string, salary: bigint, age: bigint, bonus: bigint]"
      ]
     },
     "execution_count": 35,
     "metadata": {},
     "output_type": "execute_result"
    }
   ],
   "source": [
    "df.unpersist()"
   ]
  },
  {
   "cell_type": "markdown",
   "id": "cff6bd24",
   "metadata": {},
   "source": [
    "#### pyspark.sql.DataFrame.withColumn\n",
    "\n",
    "Returns a new DataFrame by adding a column or replacing the existing column that has the same name.\n",
    "\n",
    "The column expression must be an expression over this DataFrame; attempting to add a column from some other DataFrame will raise an error.\n",
    "\n",
    "    Parameters\n",
    "\n",
    "        col Name str\n",
    "\n",
    "            string, name of the new column.\n",
    "        col Column\n",
    "\n",
    "            a Column expression for the new column.\n",
    "\n",
    "Notes: This method introduces a projection internally. Therefore, calling it multiple times, for instance, via loops in order to add multiple columns can generate big plans which can cause performance issues and even StackOverflowException. To avoid this, use select() with the multiple columns at once."
   ]
  },
  {
   "cell_type": "code",
   "execution_count": 36,
   "id": "0f8b7deb",
   "metadata": {},
   "outputs": [
    {
     "name": "stdout",
     "output_type": "stream",
     "text": [
      "+-------------+----------+-----+------+---+-----+\n",
      "|employee_name|department|state|salary|age|bonus|\n",
      "+-------------+----------+-----+------+---+-----+\n",
      "|        James|     Sales|   NY| 90000| 34|10000|\n",
      "|      Michael|     Sales|   NY| 86000| 56|20000|\n",
      "|       Robert|     Sales|   CA| 81000| 30|23000|\n",
      "|        Maria|   Finance|   CA| 90000| 24|23000|\n",
      "+-------------+----------+-----+------+---+-----+\n",
      "\n"
     ]
    }
   ],
   "source": [
    "df.show()"
   ]
  },
  {
   "cell_type": "code",
   "execution_count": 37,
   "id": "9b41ad23",
   "metadata": {},
   "outputs": [
    {
     "name": "stdout",
     "output_type": "stream",
     "text": [
      "+-------------+----------+-----+------+---+-----+------------+\n",
      "|employee_name|department|state|salary|age|bonus|total_salary|\n",
      "+-------------+----------+-----+------+---+-----+------------+\n",
      "|        James|     Sales|   NY| 90000| 34|10000|      100000|\n",
      "|      Michael|     Sales|   NY| 86000| 56|20000|      106000|\n",
      "|       Robert|     Sales|   CA| 81000| 30|23000|      104000|\n",
      "|        Maria|   Finance|   CA| 90000| 24|23000|      113000|\n",
      "+-------------+----------+-----+------+---+-----+------------+\n",
      "\n"
     ]
    }
   ],
   "source": [
    "df.withColumn('total_salary', df.salary+df.bonus).show()"
   ]
  },
  {
   "cell_type": "code",
   "execution_count": 39,
   "id": "0fc4b02f",
   "metadata": {},
   "outputs": [
    {
     "name": "stdout",
     "output_type": "stream",
     "text": [
      "+-------------+----------+-----+------+---+-----+----------+------------+\n",
      "|employee_name|department|state|salary|age|bonus|net_income|total_salary|\n",
      "+-------------+----------+-----+------+---+-----+----------+------------+\n",
      "|        James|     Sales|   NY| 90000| 34|10000|     95000|      100000|\n",
      "|      Michael|     Sales|   NY| 86000| 56|20000|    101000|      106000|\n",
      "|       Robert|     Sales|   CA| 81000| 30|23000|     99000|      104000|\n",
      "|        Maria|   Finance|   CA| 90000| 24|23000|    108000|      113000|\n",
      "+-------------+----------+-----+------+---+-----+----------+------------+\n",
      "\n"
     ]
    }
   ],
   "source": [
    "df.withColumns({'net_income':df.salary+df.bonus-5000, 'total_salary': df.salary+df.bonus}).show()"
   ]
  },
  {
   "cell_type": "markdown",
   "id": "f1c32ef7",
   "metadata": {},
   "source": [
    "#### pyspark.sql.DataFrame.withColumnRenamed\n",
    "Returns a new DataFrame by renaming an existing column. This is a no-op if schema doesn’t contain the given column name."
   ]
  },
  {
   "cell_type": "code",
   "execution_count": 40,
   "id": "40b8bdf4",
   "metadata": {},
   "outputs": [
    {
     "name": "stdout",
     "output_type": "stream",
     "text": [
      "+-------------+-------+-----+------+---+-----+\n",
      "|employee_name|   Dept|state|salary|age|bonus|\n",
      "+-------------+-------+-----+------+---+-----+\n",
      "|        James|  Sales|   NY| 90000| 34|10000|\n",
      "|      Michael|  Sales|   NY| 86000| 56|20000|\n",
      "|       Robert|  Sales|   CA| 81000| 30|23000|\n",
      "|        Maria|Finance|   CA| 90000| 24|23000|\n",
      "+-------------+-------+-----+------+---+-----+\n",
      "\n"
     ]
    }
   ],
   "source": [
    "df.withColumnRenamed('department','Dept').show()"
   ]
  },
  {
   "cell_type": "code",
   "execution_count": null,
   "id": "205c01b0",
   "metadata": {},
   "outputs": [],
   "source": []
  }
 ],
 "metadata": {
  "kernelspec": {
   "display_name": "Python 3 (ipykernel)",
   "language": "python",
   "name": "python3"
  },
  "language_info": {
   "codemirror_mode": {
    "name": "ipython",
    "version": 3
   },
   "file_extension": ".py",
   "mimetype": "text/x-python",
   "name": "python",
   "nbconvert_exporter": "python",
   "pygments_lexer": "ipython3",
   "version": "3.10.6"
  }
 },
 "nbformat": 4,
 "nbformat_minor": 5
}
