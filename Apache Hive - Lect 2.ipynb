{
 "cells": [
  {
   "cell_type": "markdown",
   "id": "a7e33a99",
   "metadata": {},
   "source": [
    "### Create Table"
   ]
  },
  {
   "cell_type": "raw",
   "id": "7f1ca5c7",
   "metadata": {},
   "source": [
    "CREATE [TEMPORARY] [EXTERNAL] TABLE [IF NOT EXISTS] [db_name.]table_name    -- (Note: TEMPORARY available in Hive                                                                                     0.14.0 and later)\n",
    "  [(col_name data_type [column_constraint_specification] [COMMENT col_comment], ... [constraint_specification])]\n",
    "  [COMMENT table_comment]\n",
    "  [PARTITIONED BY (col_name data_type [COMMENT col_comment], ...)]\n",
    "  [CLUSTERED BY (col_name, col_name, ...) [SORTED BY (col_name [ASC|DESC], ...)] INTO num_buckets BUCKETS]\n",
    "  [SKEWED BY (col_name, col_name, ...)                  -- (Note: Available in Hive 0.10.0 and later)]\n",
    "     ON ((col_value, col_value, ...), (col_value, col_value, ...), ...)\n",
    "     [STORED AS DIRECTORIES]\n",
    "  [\n",
    "   [ROW FORMAT row_format] \n",
    "   [STORED AS file_format]\n",
    "     | STORED BY 'storage.handler.class.name' [WITH SERDEPROPERTIES (...)]  -- (Note: Available in Hive 0.6.0 and later)\n",
    "  ]\n",
    "  [LOCATION hdfs_path]\n",
    "  [TBLPROPERTIES (property_name=property_value, ...)]   -- (Note: Available in Hive 0.6.0 and later)\n",
    "  [AS select_statement];   -- (Note: Available in Hive 0.5.0 and later; not supported for external tables)"
   ]
  },
  {
   "cell_type": "raw",
   "id": "7e813bcc",
   "metadata": {},
   "source": [
    "CREATE [TEMPORARY] [EXTERNAL] TABLE [IF NOT EXISTS] [db_name.]table_name\n",
    "  LIKE existing_table_or_view_name\n",
    "  [LOCATION hdfs_path];"
   ]
  },
  {
   "cell_type": "raw",
   "id": "daa68de6",
   "metadata": {},
   "source": [
    "data_type\n",
    "  : primitive_type\n",
    "  | array_type\n",
    "  | map_type\n",
    "  | struct_type\n",
    "  | union_type  -- (Note: Available in Hive 0.7.0 and later)\n",
    " \n",
    "primitive_type\n",
    "  : TINYINT\n",
    "  | SMALLINT\n",
    "  | INT\n",
    "  | BIGINT\n",
    "  | BOOLEAN\n",
    "  | FLOAT\n",
    "  | DOUBLE\n",
    "  | DOUBLE PRECISION -- (Note: Available in Hive 2.2.0 and later)\n",
    "  | STRING\n",
    "  | BINARY      -- (Note: Available in Hive 0.8.0 and later)\n",
    "  | TIMESTAMP   -- (Note: Available in Hive 0.8.0 and later)\n",
    "  | DECIMAL     -- (Note: Available in Hive 0.11.0 and later)\n",
    "  | DECIMAL(precision, scale)  -- (Note: Available in Hive 0.13.0 and later)\n",
    "  | DATE        -- (Note: Available in Hive 0.12.0 and later)\n",
    "  | VARCHAR     -- (Note: Available in Hive 0.12.0 and later)\n",
    "  | CHAR        -- (Note: Available in Hive 0.13.0 and later)\n"
   ]
  },
  {
   "cell_type": "raw",
   "id": "2bf289b3",
   "metadata": {},
   "source": [
    "array_type\n",
    "  : ARRAY < data_type >\n",
    " \n",
    "map_type\n",
    "  : MAP < primitive_type, data_type >\n",
    " \n",
    "struct_type\n",
    "  : STRUCT < col_name : data_type [COMMENT col_comment], ...>\n",
    " \n",
    "union_type\n",
    "   : UNIONTYPE < data_type, data_type, ... >  -- (Note: Available in Hive 0.7.0 and later)\n",
    " \n",
    "row_format\n",
    "  : DELIMITED [FIELDS TERMINATED BY char [ESCAPED BY char]] [COLLECTION ITEMS TERMINATED BY char]\n",
    "        [MAP KEYS TERMINATED BY char] [LINES TERMINATED BY char]\n",
    "        [NULL DEFINED AS char]   -- (Note: Available in Hive 0.13 and later)\n",
    "  | SERDE serde_name [WITH SERDEPROPERTIES (property_name=property_value, property_name=property_value, ...)]"
   ]
  },
  {
   "cell_type": "raw",
   "id": "cb7b9014",
   "metadata": {},
   "source": [
    " \n",
    "file_format:\n",
    "  : SEQUENCEFILE\n",
    "  | TEXTFILE    -- (Default, depending on hive.default.fileformat configuration)\n",
    "  | RCFILE      -- (Note: Available in Hive 0.6.0 and later)\n",
    "  | ORC         -- (Note: Available in Hive 0.11.0 and later)\n",
    "  | PARQUET     -- (Note: Available in Hive 0.13.0 and later)\n",
    "  | AVRO        -- (Note: Available in Hive 0.14.0 and later)\n",
    "  | JSONFILE    -- (Note: Available in Hive 4.0.0 and later)\n",
    "  | INPUTFORMAT input_format_classname OUTPUTFORMAT output_format_classname\n",
    " "
   ]
  },
  {
   "cell_type": "raw",
   "id": "ed7568ff",
   "metadata": {},
   "source": [
    "column_constraint_specification:\n",
    "  : [ PRIMARY KEY|UNIQUE|NOT NULL|DEFAULT [default_value]|CHECK  [check_expression] ENABLE|DISABLE NOVALIDATE RELY/NORELY ]\n",
    " \n",
    "default_value:\n",
    "  : [ LITERAL|CURRENT_USER()|CURRENT_DATE()|CURRENT_TIMESTAMP()|NULL ] \n",
    " \n",
    "constraint_specification:\n",
    "  : [, PRIMARY KEY (col_name, ...) DISABLE NOVALIDATE RELY/NORELY ]\n",
    "    [, PRIMARY KEY (col_name, ...) DISABLE NOVALIDATE RELY/NORELY ]\n",
    "    [, CONSTRAINT constraint_name FOREIGN KEY (col_name, ...) REFERENCES table_name(col_name, ...) DISABLE NOVALIDATE \n",
    "    [, CONSTRAINT constraint_name UNIQUE (col_name, ...) DISABLE NOVALIDATE RELY/NORELY ]\n",
    "    [, CONSTRAINT constraint_name CHECK [check_expression] ENABLE|DISABLE NOVALIDATE RELY/NORELY ]"
   ]
  },
  {
   "cell_type": "code",
   "execution_count": 1,
   "id": "6f3705d4",
   "metadata": {},
   "outputs": [],
   "source": [
    "### Create Table"
   ]
  },
  {
   "cell_type": "raw",
   "id": "e19adc8d",
   "metadata": {},
   "source": [
    "CREATE TABLE practice.table_basic(ids INT\n",
    "                                    , name STRING);"
   ]
  },
  {
   "cell_type": "raw",
   "id": "8f4e8996",
   "metadata": {},
   "source": [
    "CREATE TABLE practice.table_basic2(ids INT, name STRING, transaction BIGINT) COMMENT 'giving comment to table'"
   ]
  },
  {
   "cell_type": "raw",
   "id": "175506b0",
   "metadata": {},
   "source": [
    "CREATE TABLE practice.table_withlocation(ids BIGINT, name VARCHAR(100), sex CHAR(10)) \n",
    "            COMMENT 'location setting' LOCATION '/datasets/practice/';"
   ]
  },
  {
   "cell_type": "raw",
   "id": "83c2c4a4",
   "metadata": {},
   "source": [
    "CREATE TABLE practice.table_rowformat(ids INT, name STRING) \n",
    "    COMMENT 'specify row format' \n",
    "    ROW FORMAT DELIMITED \n",
    "    FIELDS TERMINATED BY ','\n",
    "    LOCATION '/datasets/practice/'"
   ]
  },
  {
   "cell_type": "raw",
   "id": "a553484a",
   "metadata": {},
   "source": [
    "CREATE TABLE practice.table_rowformat1(ids BIGINT, names STRING) \n",
    "    COMMENT 'non' \n",
    "    ROW FORMAT DELIMITED\n",
    "    FIELDS TERMINATED BY '|'\n",
    "    LOCATION '/databases/practice/'"
   ]
  },
  {
   "cell_type": "raw",
   "id": "64c3dcdf",
   "metadata": {},
   "source": [
    "CREATE TABLE practice.tablestoredas(ids INT, name VARCHAR(100), is_live BOOLEAN)\n",
    "    COMMENT 'table with stored as'\n",
    "    ROW FORMAT DELIMITED\n",
    "    FIELDS TERMINATED BY ','\n",
    "    STORED AS TEXTFILE\n",
    "    LOCATION '/databases/practice/'"
   ]
  },
  {
   "cell_type": "raw",
   "id": "936d999a",
   "metadata": {},
   "source": [
    "CREATE TABLE practice.table_storedas_parquet(ids BIGINT, names STRING, is_live BOOLEAN, `date` DATE)\n",
    "    COMMENT 'table stored format'\n",
    "    ROW FORMAT DELIMITED\n",
    "    FIELDS TERMINATED BY '|'\n",
    "    STORED AS PARQUET\n",
    "    LOCATION '/databases/practice/'"
   ]
  },
  {
   "cell_type": "raw",
   "id": "9acb34d0",
   "metadata": {},
   "source": [
    "CREATE TABLE practice.table_storedasavro(ids BIGINT, name STRING, datetime TIMESTAMP)\n",
    "    COMMENT 'avro table'\n",
    "    ROW FORMAT DELIMITED\n",
    "    FIELDS TERMINATED BY '|'\n",
    "    STORED AS AVRO\n",
    "    LOCATION '/databases/practice/'"
   ]
  },
  {
   "cell_type": "raw",
   "id": "c0528d62",
   "metadata": {},
   "source": [
    "CREATE TABLE practice.table_storedasavro(ids BIGINT, name STRING, datetime TIMESTAMP)\n",
    "    COMMENT 'avro table'\n",
    "    ROW FORMAT DELIMITED\n",
    "    FIELDS TERMINATED BY '|'\n",
    "    STORED AS ORC\n",
    "    LOCATION '/databases/practice/'"
   ]
  },
  {
   "cell_type": "code",
   "execution_count": null,
   "id": "b0cebbc2",
   "metadata": {},
   "outputs": [],
   "source": [
    "CREATE TABLE practice.table_storedasrcfile(ids BIGINT, name STRING, datetime TIMESTAMP)\n",
    "    COMMENT 'avro table'\n",
    "    ROW FORMAT DELIMITED\n",
    "    FIELDS TERMINATED BY '|'\n",
    "    STORED AS RCFile\n",
    "    LOCATION '/databases/practice/'"
   ]
  },
  {
   "cell_type": "raw",
   "id": "bde808f5",
   "metadata": {},
   "source": [
    "DESCRIBE FORMATTED table_storedasrcfile"
   ]
  },
  {
   "cell_type": "raw",
   "id": "d3b17d4f",
   "metadata": {},
   "source": [
    "DESCRIBE table_storedasrcfile"
   ]
  },
  {
   "cell_type": "raw",
   "id": "c635be77",
   "metadata": {},
   "source": [
    "CREATE TABLE practice.table_partitioned(ids BIGINT NOT NULL, name STRING, point DECIMAL)\n",
    "    COMMENT 'partitioned table'\n",
    "    PARTITIONED BY (state STRING)\n",
    "    ROW FORMAT DELIMITED\n",
    "    FIELDS TERMINATED BY '|'\n",
    "    STORED AS PARQUET\n",
    "    LOCATION '/databases/practice/'"
   ]
  },
  {
   "cell_type": "raw",
   "id": "6ffd593d",
   "metadata": {},
   "source": [
    "CREATE TABLE practice.table_partitomed_orc(ids INT UNIQUE DISABLE NOVALIDATE, \n",
    "                                           name STRING NOT NULL, points DECIMAL CHECK (points >10))\n",
    "    COMMENT 'constrains'\n",
    "    PARTITIONED BY (state STRING, country STRING)\n",
    "    ROW FORMAT DELIMITED\n",
    "    FIELDS TERMINATED BY '|'\n",
    "    STORED AS PARQUET\n",
    "    LOCATION '/databases/practice/'"
   ]
  },
  {
   "cell_type": "raw",
   "id": "8d6840e6",
   "metadata": {},
   "source": [
    "CREATE TABLE practice.table_withconstrains(ids BIGINT PRIMARY KEY DISABLE NOVALIDATE, \n",
    "                                           name STRING NOT NULL, point DECIMAL)\n",
    "    COMMENT 'table iwth novalidate disable'\n",
    "    PARTITIONED BY (state STRING, country STRING)\n",
    "    ROW FORMAT DELIMITED\n",
    "    FIELDS TERMINATED BY '|'\n",
    "    STORED AS PARQUET\n",
    "    LOCATION '/databases/practice/';"
   ]
  },
  {
   "cell_type": "raw",
   "id": "95ca8507",
   "metadata": {},
   "source": [
    "CREATE TABLE practice.table_withbuckest(ids BIGINT PRIMARY KEY DISABLE NOVALIDATE,\n",
    "                                       name STRING NOT NULL, points DATE)\n",
    "    COMMENT 'backeting'\n",
    "    PARTITIONED BY (state STRING, country STRING)\n",
    "    CLUSTERED BY(ids) SORTED  BY (points) INTO 10 BUCKETS\n",
    "    ROW FORMAT DELIMITED\n",
    "    FIELDS TERMINATED BY '|'\n",
    "    STORED AS ORC\n",
    "    LOCATION '/databases/practice/'"
   ]
  },
  {
   "cell_type": "raw",
   "id": "20ecb0d4",
   "metadata": {},
   "source": [
    "CREATE TABLE practice.table_rcfile(ids BIGINT PRIMARY KEY DISABLE NOVALIDATE, \n",
    "                                  name STRING NOT NULL, class VARCHAR(10))\n",
    "    PARTITIONED BY (state STRING, district STRING)\n",
    "    CLUSTERED BY (ids) SORTED BY (ids) INTO 32 BUCKETS\n",
    "    ROW FORMAT DELIMITED\n",
    "    FIELDS TERMINATED BY '|'\n",
    "    STORED AS RCFile\n",
    "    LOCATION '/databases/practice/';"
   ]
  },
  {
   "cell_type": "code",
   "execution_count": null,
   "id": "a9764019",
   "metadata": {},
   "outputs": [],
   "source": [
    "## TO CREATE EXTERNAL TABLE NEED TO JUST SPECIFY THE EXTERNAL KEYWORD\n",
    "#    AND LOCATION IN TERMS OF MANAGE TABLE NO NEED TO SPECIFY LOCATION NUT WE CAN SPECIFY "
   ]
  },
  {
   "cell_type": "raw",
   "id": "aba72682",
   "metadata": {},
   "source": [
    "DROP TABLE table_rcfile"
   ]
  },
  {
   "cell_type": "raw",
   "id": "7c18f284",
   "metadata": {},
   "source": [
    "TRUNCATE TABLE table_withbuckest"
   ]
  },
  {
   "cell_type": "markdown",
   "id": "e6883b59",
   "metadata": {},
   "source": [
    "### Complex data type"
   ]
  },
  {
   "cell_type": "raw",
   "id": "307e6d94",
   "metadata": {},
   "source": [
    "CREATE TABLE practice.array_table(ids STRING, data ARRAY<STRING>);"
   ]
  },
  {
   "cell_type": "raw",
   "id": "300d2035",
   "metadata": {},
   "source": [
    "INSERT INTO array_table values(1, array('nilesh','pise'))"
   ]
  },
  {
   "cell_type": "raw",
   "id": "ffe46b45",
   "metadata": {},
   "source": [
    "select a.data[0] from array_table a;"
   ]
  },
  {
   "cell_type": "raw",
   "id": "57d3d949",
   "metadata": {},
   "source": [
    "select * from array_table a;"
   ]
  },
  {
   "cell_type": "raw",
   "id": "a823c635",
   "metadata": {},
   "source": [
    "CREATE TABLE practice.array2_table(ids BIGINT, test ARRAY<INT>, test2 ARRAY<STRING>)"
   ]
  },
  {
   "cell_type": "raw",
   "id": "64f9e628",
   "metadata": {},
   "source": [
    "CREATE TABLE practice.array2(ids BIGINT, test ARRAY<INT>)\n",
    "    PARTITIONED BY (state STRING)\n",
    "    CLUSTERED BY (ids) SORTED BY (ids) INTO 4 BUCKETS\n",
    "    ROW FORMAT DELIMITED\n",
    "    FIELDS TERMINATED BY ','\n",
    "    COLLECTION ITEMS TERMINATED BY '|'\n",
    "    MAP KEYS TERMINATED BY '='\n",
    "    STORED AS PARQUET\n",
    "    LOCATION '/databases/practice/'\n",
    "    "
   ]
  },
  {
   "cell_type": "raw",
   "id": "b81ff2fd",
   "metadata": {},
   "source": [
    "CREATE TABLE practice.array3(ids BIGINT,\n",
    "                            test ARRAY<INT>, test1 ARRAY<BOOLEAN>)\n",
    "    PARTITIONED BY (state STRING)\n",
    "    CLUSTERED BY (ids) SORTED BY (ids) INTO 32 BUCKETS\n",
    "    ROW FORMAT DELIMITED\n",
    "    FIELDS TERMINATED BY ','\n",
    "    COLLECTION ITEMS TERMINATED BY '|'\n",
    "    MAP KEYS TERMINATED BY '='\n",
    "    STORED AS PARQUET\n",
    "    LOCATION '/databases/practice/'"
   ]
  },
  {
   "cell_type": "raw",
   "id": "c4d45368",
   "metadata": {},
   "source": [
    "CREATE TABLE practice.struct_table(ids BIGINT,\n",
    "                                  test MAP<STRING,INT >,\n",
    "                                  test2 ARRAY <INT>)\n",
    "    PARTITIONED BY (state STRING) \n",
    "    CLUSTERED BY (ids) SORTED BY (ids) INTO 32 BUCKETS\n",
    "    ROW FORMAT DELIMITED\n",
    "    FIELDS TERMINATED BY ','\n",
    "    COLLECTION ITEMS TERMINATED BY '|'\n",
    "    MAP KEYS TERMINATED BY '+'\n",
    "    STORED AS PARQUET\n",
    "    LOCATION '/databases/practice/'"
   ]
  },
  {
   "cell_type": "code",
   "execution_count": null,
   "id": "782839cb",
   "metadata": {},
   "outputs": [],
   "source": [
    "CREATE TABLE practice.struct2(ids BIGINT, data STRUCT <Fname: STRING, Lname: STRING >)"
   ]
  },
  {
   "cell_type": "markdown",
   "id": "2890967b",
   "metadata": {},
   "source": [
    "#### Rename Table"
   ]
  },
  {
   "cell_type": "raw",
   "id": "d980b2e1",
   "metadata": {},
   "source": [
    "ALTER TABLE table_name RENAME TO new_table_name;"
   ]
  },
  {
   "cell_type": "raw",
   "id": "f21e23f2",
   "metadata": {},
   "source": [
    "ALTER TABLE practice.table_basis_rename RENAME TO practice.table_basic"
   ]
  },
  {
   "cell_type": "markdown",
   "id": "52c3f127",
   "metadata": {},
   "source": [
    "#### Alter Table Properties"
   ]
  },
  {
   "cell_type": "raw",
   "id": "1ae9dbf6",
   "metadata": {},
   "source": [
    "ALTER TABLE table_name SET TBLPROPERTIES table_properties;"
   ]
  },
  {
   "cell_type": "code",
   "execution_count": null,
   "id": "0a6250b0",
   "metadata": {},
   "outputs": [],
   "source": [
    "DESCRIBE EXTENDED practice.table_basic # to get the table properties"
   ]
  },
  {
   "cell_type": "raw",
   "id": "682f46fc",
   "metadata": {},
   "source": [
    "ALTER TABLE practice.table_basic SET TBLPROPERTIES('owner'='spark');"
   ]
  },
  {
   "cell_type": "raw",
   "id": "1401aafd",
   "metadata": {},
   "source": [
    "ALTER TABLE practice.table_basic SET TBLPROPERTIES('ownerType'='user')"
   ]
  },
  {
   "cell_type": "raw",
   "id": "e6d85313",
   "metadata": {},
   "source": [
    "ALTER TABLE practice.table_basic UNSET TBLPROPERTIES('ownerType')"
   ]
  },
  {
   "cell_type": "markdown",
   "id": "f4862523",
   "metadata": {},
   "source": [
    "#### Add SerDe Properties"
   ]
  },
  {
   "cell_type": "raw",
   "id": "54bb6b8e",
   "metadata": {},
   "source": [
    "\n",
    "ALTER TABLE table_name [PARTITION partition_spec] SET SERDE serde_class_name [WITH SERDEPROPERTIES serde_properties];\n",
    " \n",
    "ALTER TABLE table_name [PARTITION partition_spec] SET SERDEPROPERTIES serde_properties;"
   ]
  },
  {
   "cell_type": "raw",
   "id": "172c8932",
   "metadata": {},
   "source": [
    "ALTER TABLE practice.table_basic SET SERDEPROPERTIES('field.delim'=',');"
   ]
  },
  {
   "cell_type": "raw",
   "id": "63938daf",
   "metadata": {},
   "source": [
    "ALTER TABLE practice.table_basic SET SERDEPROPERTIES('field.delim'='|');"
   ]
  },
  {
   "cell_type": "markdown",
   "id": "e2c52852",
   "metadata": {},
   "source": [
    "#### Remove SerDe Properties\n"
   ]
  },
  {
   "cell_type": "raw",
   "id": "755d77ba",
   "metadata": {},
   "source": [
    "ALTER TABLE table_name [PARTITION partition_spec] UNSET SERDEPROPERTIES (property_name, ... );"
   ]
  },
  {
   "cell_type": "raw",
   "id": "e2a76e5b",
   "metadata": {},
   "source": [
    "ALTER TABLE practice.table_basic UNSET SERDEPROPERTIES ('field.delim');"
   ]
  },
  {
   "cell_type": "markdown",
   "id": "2f454d19",
   "metadata": {},
   "source": [
    "#### Alter Table Storage Properties\n"
   ]
  },
  {
   "cell_type": "raw",
   "id": "5b76b706",
   "metadata": {},
   "source": [
    "ALTER TABLE table_name CLUSTERED BY (col_name, col_name, ...) [SORTED BY (col_name, ...)]\n",
    "  INTO num_buckets BUCKETS;"
   ]
  },
  {
   "cell_type": "raw",
   "id": "83a33492",
   "metadata": {},
   "source": [
    "ALTER TABLE practice.table_basic CLUSTERED BY (ids) SORTED BY (ids) INTO 32 BUCKETS;"
   ]
  },
  {
   "cell_type": "markdown",
   "id": "586d35d5",
   "metadata": {},
   "source": [
    "#### Alter Table Constraints\n"
   ]
  },
  {
   "cell_type": "raw",
   "id": "ea10a021",
   "metadata": {},
   "source": [
    "ALTER TABLE table_name ADD CONSTRAINT constraint_name PRIMARY KEY (column, ...) DISABLE NOVALIDATE;\n",
    "ALTER TABLE table_name ADD CONSTRAINT constraint_name FOREIGN KEY (column, ...) REFERENCES table_name(column, ...) DISABLE NOVALIDATE RELY;\n",
    "ALTER TABLE table_name ADD CONSTRAINT constraint_name UNIQUE (column, ...) DISABLE NOVALIDATE;\n",
    "ALTER TABLE table_name CHANGE COLUMN column_name column_name data_type CONSTRAINT constraint_name NOT NULL ENABLE;\n",
    "ALTER TABLE table_name CHANGE COLUMN column_name column_name data_type CONSTRAINT constraint_name DEFAULT default_value ENABLE;\n",
    "ALTER TABLE table_name CHANGE COLUMN column_name column_name data_type CONSTRAINT constraint_name CHECK check_expression ENABLE;\n",
    " \n",
    "ALTER TABLE table_name DROP CONSTRAINT constraint_name;"
   ]
  },
  {
   "cell_type": "raw",
   "id": "66141a16",
   "metadata": {},
   "source": [
    "ALTER TABLE practice.table_basic ADD CONSTRAINT table_basic_un UNIQUE(ids) DISABLE NOVALIDATE;"
   ]
  },
  {
   "cell_type": "raw",
   "id": "af8e2001",
   "metadata": {},
   "source": [
    "ALTER TABLE practice.table_basic ADD CONSTRAINT table_basic_pk PRIMARY KEY(ids) DISABLE NOVALIDATE;"
   ]
  },
  {
   "cell_type": "raw",
   "id": "3a7fdc2f",
   "metadata": {},
   "source": [
    "ALTER TABLE practice.table_basic CHANGE name Name VARCHAR(200) CONSTRAINT table_baisc_nn NOT NULL ENABLE;"
   ]
  },
  {
   "cell_type": "raw",
   "id": "08835b06",
   "metadata": {},
   "source": [
    "ALTER TABLE practice.table_basic CHANGE Name FirstName STRING CONSTRAINT table_date DEFAULT 'O' ENABLE;\n"
   ]
  },
  {
   "cell_type": "raw",
   "id": "afa67aeb",
   "metadata": {},
   "source": [
    "ALTER TABLE practice.table_basic ADD CONSTRAINT check_col CHECK ids >10;"
   ]
  },
  {
   "cell_type": "markdown",
   "id": "5ad828b6",
   "metadata": {},
   "source": [
    "#### Change Column Name/Type/Position/Comment"
   ]
  },
  {
   "cell_type": "raw",
   "id": "e989c54d",
   "metadata": {},
   "source": [
    "ALTER TABLE table_name [PARTITION partition_spec] CHANGE [COLUMN] co_old_name col_new_name column_type\n",
    "  [COMMENT col_comment] [FIRST|AFTER column_name] [CASCADE|RESTRICT];"
   ]
  },
  {
   "cell_type": "markdown",
   "id": "6c42340c",
   "metadata": {},
   "source": [
    "This command will allow users to change a column's name, data type, comment, or position, or an arbitrary combination of them. The PARTITION clause is available in Hive 0.14.0 and later; see Upgrading Pre-Hive 0.13.0 Decimal Columns for usage. A patch for Hive 0.13 is also available (see HIVE-7971).\n",
    "\n",
    "The CASCADE|RESTRICT clause is available in Hive 1.1.0. ALTER TABLE CHANGE COLUMN with CASCADE command changes the columns of a table's metadata, and cascades the same change to all the partition metadata. RESTRICT is the default, limiting column change only to table metadata."
   ]
  },
  {
   "cell_type": "raw",
   "id": "6b518c88",
   "metadata": {},
   "source": [
    "CREATE TABLE test_change (a int, b int, c int);\n",
    " \n",
    "// First change column a's name to a1.\n",
    "ALTER TABLE test_change CHANGE a a1 INT;\n",
    " \n",
    "// Next change column a1's name to a2, its data type to string, and put it after column b.\n",
    "ALTER TABLE test_change CHANGE a1 a2 STRING AFTER b;\n",
    "// The new table's structure is:  b int, a2 string, c int.\n",
    "  \n",
    "// Then change column c's name to c1, and put it as the first column.\n",
    "ALTER TABLE test_change CHANGE c c1 INT FIRST;\n",
    "// The new table's structure is:  c1 int, b int, a2 string.\n",
    "  \n",
    "// Add a comment to column a1\n",
    "ALTER TABLE test_change CHANGE a1 a1 INT COMMENT 'this is column a1';"
   ]
  },
  {
   "cell_type": "markdown",
   "id": "b1b06827",
   "metadata": {},
   "source": [
    "#### Add/Replace Columns"
   ]
  },
  {
   "cell_type": "raw",
   "id": "02d5d00f",
   "metadata": {},
   "source": [
    "ALTER TABLE table_name \n",
    "  [PARTITION partition_spec]                 -- (Note: Hive 0.14.0 and later)\n",
    "  ADD|REPLACE COLUMNS (col_name data_type [COMMENT col_comment], ...)\n",
    "  [CASCADE|RESTRICT]     "
   ]
  },
  {
   "cell_type": "raw",
   "id": "a0eba975",
   "metadata": {},
   "source": [
    "ALTER TABLE practice.table_basic ADD COLUMNS(t_date DATE);"
   ]
  },
  {
   "cell_type": "raw",
   "id": "87d4dfc2",
   "metadata": {},
   "source": [
    "ALTER TABLE practice.table_basic ADD COLUMNS(`date` DATE)"
   ]
  },
  {
   "cell_type": "markdown",
   "id": "f0c1a34a",
   "metadata": {},
   "source": [
    "#### Create View"
   ]
  },
  {
   "cell_type": "raw",
   "id": "1611d75b",
   "metadata": {},
   "source": [
    "CREATE VIEW [IF NOT EXISTS] [db_name.]view_name [(column_name [COMMENT column_comment], ...) ]\n",
    "  [COMMENT view_comment]\n",
    "  [TBLPROPERTIES (property_name = property_value, ...)]\n",
    "  AS SELECT ...;"
   ]
  },
  {
   "cell_type": "raw",
   "id": "e55e131f",
   "metadata": {},
   "source": [
    "CREATE VIEW practice.table_view COMMENT 'FIRST VIEW' AS SELECT * FROM testing.alcohol;\n"
   ]
  },
  {
   "cell_type": "raw",
   "id": "3c26af1f",
   "metadata": {},
   "source": [
    "CREATE VIEW practice.sec_view(age) AS SELECT AGE FROM testing.health;"
   ]
  },
  {
   "cell_type": "raw",
   "id": "d2ce204a",
   "metadata": {},
   "source": [
    "DROP VIEW [IF EXISTS] [db_name.]view_name;"
   ]
  },
  {
   "cell_type": "raw",
   "id": "652b7a28",
   "metadata": {},
   "source": [
    "DROP VIEW practice.table_view;"
   ]
  },
  {
   "cell_type": "raw",
   "id": "abaafe44",
   "metadata": {},
   "source": [
    "ALTER VIEW [db_name.]view_name AS select_statement;"
   ]
  },
  {
   "cell_type": "markdown",
   "id": "c62d627f",
   "metadata": {},
   "source": [
    "#### Create Materialized View"
   ]
  },
  {
   "cell_type": "raw",
   "id": "001becb3",
   "metadata": {},
   "source": [
    "\n",
    "CREATE MATERIALIZED VIEW [IF NOT EXISTS] [db_name.]materialized_view_name\n",
    "  [DISABLE REWRITE]\n",
    "  [COMMENT materialized_view_comment]\n",
    "  [PARTITIONED ON (col_name, ...)]\n",
    "  [CLUSTERED ON (col_name, ...) | DISTRIBUTED ON (col_name, ...) SORTED ON (col_name, ...)]\n",
    "  [\n",
    "    [ROW FORMAT row_format]\n",
    "    [STORED AS file_format]\n",
    "      | STORED BY 'storage.handler.class.name' [WITH SERDEPROPERTIES (...)]\n",
    "  ]\n",
    "  [LOCATION hdfs_path]\n",
    "  [TBLPROPERTIES (property_name=property_value, ...)]\n",
    "AS SELECT ...;"
   ]
  },
  {
   "cell_type": "markdown",
   "id": "968f664b",
   "metadata": {},
   "source": [
    "#### Alter Materialized View\n",
    "\n",
    "Once a materialized view has been created, the optimizer will be able to exploit its definition semantics to automatically rewrite incoming queries using materialized views, and hence, accelerate query execution. \n",
    "\n",
    "Users can selectively enable/disable materialized views for rewriting. Recall that, by default, materialized views are enabled for rewriting at creation time. To alter that behavior, the following statement can be used:\n"
   ]
  },
  {
   "cell_type": "raw",
   "id": "67df953e",
   "metadata": {},
   "source": [
    "ALTER MATERIALIZED VIEW [db_name.]materialized_view_name ENABLE|DISABLE REWRITE;"
   ]
  },
  {
   "cell_type": "markdown",
   "id": "38e5ec0b",
   "metadata": {},
   "source": [
    "#### Loading files into tables\n",
    "\n",
    "Hive does not do any transformation while loading data into tables. Load operations are currently pure copy/move operations that move datafiles into locations corresponding to Hive tables.\n",
    "Syntax\n"
   ]
  },
  {
   "cell_type": "raw",
   "id": "c2f18513",
   "metadata": {},
   "source": [
    "LOAD DATA [LOCAL] INPATH 'filepath' [OVERWRITE] INTO TABLE tablename [PARTITION (partcol1=val1, partcol2=val2 ...)]\n",
    " \n",
    "LOAD DATA [LOCAL] INPATH 'filepath' [OVERWRITE] INTO TABLE tablename [PARTITION (partcol1=val1, partcol2=val2 ...)] [INPUTFORMAT 'inputfo"
   ]
  },
  {
   "cell_type": "raw",
   "id": "2df847f0",
   "metadata": {},
   "source": [
    "CREATE TABLE tab1 (col1 int, col2 int) PARTITIONED BY (col3 int) STORED AS ORC;\n",
    "LOAD DATA LOCAL INPATH 'filepath' INTO TABLE tab1;"
   ]
  },
  {
   "cell_type": "raw",
   "id": "fc32ee14",
   "metadata": {},
   "source": [
    "Standard syntax:\n",
    "\n",
    "INSERT OVERWRITE TABLE tablename1 [PARTITION (partcol1=val1, partcol2=val2 ...) [IF NOT EXISTS]] select_statement1 FROM from_statement;\n",
    "\n",
    "INSERT INTO TABLE tablename1 [PARTITION (partcol1=val1, partcol2=val2 ...)] select_statement1 FROM from_statement;\n",
    " \n",
    "Hive extension (multiple inserts):\n",
    "FROM from_statement\n",
    "INSERT OVERWRITE TABLE tablename1 [PARTITION (partcol1=val1, partcol2=val2 ...) [IF NOT EXISTS]] select_statement1\n",
    "[INSERT OVERWRITE TABLE tablename2 [PARTITION ... [IF NOT EXISTS]] select_statement2]\n",
    "[INSERT INTO TABLE tablename2 [PARTITION ...] select_statement2] ...;\n",
    "\n",
    "FROM from_statement\n",
    "INSERT INTO TABLE tablename1 [PARTITION (partcol1=val1, partcol2=val2 ...)] select_statement1\n",
    "[INSERT INTO TABLE tablename2 [PARTITION ...] select_statement2]\n",
    "[INSERT OVERWRITE TABLE tablename2 [PARTITION ... [IF NOT EXISTS]] select_statement2] ...;\n",
    " \n",
    "Hive extension (dynamic partition inserts):\n",
    "\n",
    "INSERT OVERWRITE TABLE tablename PARTITION (partcol1[=val1], partcol2[=val2] ...) select_statement FROM from_statement;\n",
    "\n",
    "INSERT INTO TABLE tablename PARTITION (partcol1[=val1], partcol2[=val2] ...) select_statement FROM from_statement;"
   ]
  },
  {
   "cell_type": "raw",
   "id": "412714ed",
   "metadata": {},
   "source": [
    "CREATE TABLE students (name VARCHAR(64), age INT, gpa DECIMAL(3, 2))\n",
    "  CLUSTERED BY (age) INTO 2 BUCKETS STORED AS ORC;\n",
    " \n",
    "INSERT INTO TABLE students\n",
    "  VALUES ('fred flintstone', 35, 1.28), ('barney rubble', 32, 2.32);\n",
    " \n",
    " \n",
    "CREATE TABLE pageviews (userid VARCHAR(64), link STRING, came_from STRING)\n",
    "  PARTITIONED BY (datestamp STRING) CLUSTERED BY (userid) INTO 256 BUCKETS STORED AS ORC;\n",
    " \n",
    "INSERT INTO TABLE pageviews PARTITION (datestamp = '2014-09-23')\n",
    "  VALUES ('jsmith', 'mail.com', 'sports.com'), ('jdoe', 'mail.com', null);\n",
    " \n",
    "INSERT INTO TABLE pageviews PARTITION (datestamp)\n",
    "  VALUES ('tjohnson', 'sports.com', 'finance.com', '2014-09-23'), ('tlee', 'finance.com', null, '2014-09-21');\n",
    "  \n",
    "INSERT INTO TABLE pageviews\n",
    "  VALUES ('tjohnson', 'sports.com', 'finance.com', '2014-09-23'), ('tlee', 'finance.com', null, '2014-09-21');"
   ]
  },
  {
   "cell_type": "code",
   "execution_count": 3,
   "id": "bc33b9f3",
   "metadata": {},
   "outputs": [],
   "source": [
    "#### update table"
   ]
  },
  {
   "cell_type": "raw",
   "id": "d819a6a2",
   "metadata": {},
   "source": [
    "UPDATE tablename SET column = value [, column = value ...] [WHERE expression]"
   ]
  },
  {
   "cell_type": "code",
   "execution_count": 4,
   "id": "c7c70ace",
   "metadata": {},
   "outputs": [],
   "source": [
    "### delete table"
   ]
  },
  {
   "cell_type": "raw",
   "id": "e3e45138",
   "metadata": {},
   "source": [
    "DELETE FROM tablename [WHERE expression]"
   ]
  },
  {
   "cell_type": "code",
   "execution_count": null,
   "id": "ee4c4adf",
   "metadata": {},
   "outputs": [],
   "source": []
  },
  {
   "cell_type": "raw",
   "id": "9673aae8",
   "metadata": {},
   "source": [
    "show create table testing.health;"
   ]
  },
  {
   "cell_type": "raw",
   "id": "915ddedd",
   "metadata": {},
   "source": [
    "show tables from testing;"
   ]
  },
  {
   "cell_type": "raw",
   "id": "040aca93",
   "metadata": {},
   "source": [
    "select distinct diabetes from testing.health;"
   ]
  },
  {
   "cell_type": "raw",
   "id": "7a5433b6",
   "metadata": {},
   "source": [
    "CREATE TABLE table2 LIKE testing.health;"
   ]
  },
  {
   "cell_type": "raw",
   "id": "148d5186",
   "metadata": {},
   "source": [
    "CREATE TABLE tble1 AS SELECT * FROM testing.health LIMIT 5;"
   ]
  },
  {
   "cell_type": "raw",
   "id": "fff875ee",
   "metadata": {},
   "source": [
    "insert into newdb.table2 select * from testing.health h where h.age >50;"
   ]
  },
  {
   "cell_type": "code",
   "execution_count": null,
   "id": "62276a6d",
   "metadata": {},
   "outputs": [],
   "source": [
    "insert overwrite table newdb.table2 select * from testing.health h where h.age < 10;"
   ]
  },
  {
   "cell_type": "raw",
   "id": "4ffec515",
   "metadata": {},
   "source": [
    "from testing.health h\n",
    "insert into newdb.table1 select * where h.age <10;"
   ]
  },
  {
   "cell_type": "raw",
   "id": "7bcd14e9",
   "metadata": {},
   "source": [
    "from testing.health h\n",
    "    insert into newdb.table1 select * where h.age <10\n",
    "    insert overwrite table newdb.table2 select * where h.age >10;"
   ]
  },
  {
   "cell_type": "raw",
   "id": "be56b5e4",
   "metadata": {},
   "source": [
    "from testing.health h\n",
    "    insert into table newdb.table1 select * where h.age > 50\n",
    "    insert into table newdb.table2 select * where h.age >40\n",
    "    insert into table newdb.table3 select * where h.age < 10;"
   ]
  },
  {
   "cell_type": "raw",
   "id": "d902a39c",
   "metadata": {},
   "source": [
    "from testing.health h\n",
    "    insert overwrite table newdb.table1 select * where h.age > 50\n",
    "    insert overwrite table newdb.table2 select * where h.age >40\n",
    "    insert overwrite table newdb.table3 select * where h.age < 10;"
   ]
  },
  {
   "cell_type": "code",
   "execution_count": null,
   "id": "8aa27521",
   "metadata": {},
   "outputs": [],
   "source": []
  }
 ],
 "metadata": {
  "kernelspec": {
   "display_name": "Python 3 (ipykernel)",
   "language": "python",
   "name": "python3"
  },
  "language_info": {
   "codemirror_mode": {
    "name": "ipython",
    "version": 3
   },
   "file_extension": ".py",
   "mimetype": "text/x-python",
   "name": "python",
   "nbconvert_exporter": "python",
   "pygments_lexer": "ipython3",
   "version": "3.10.6"
  }
 },
 "nbformat": 4,
 "nbformat_minor": 5
}
