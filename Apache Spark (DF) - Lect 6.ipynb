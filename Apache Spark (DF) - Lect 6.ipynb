{
 "cells": [
  {
   "cell_type": "code",
   "execution_count": 1,
   "id": "56023edb",
   "metadata": {},
   "outputs": [
    {
     "name": "stderr",
     "output_type": "stream",
     "text": [
      "Setting default log level to \"WARN\".\n",
      "To adjust logging level use sc.setLogLevel(newLevel). For SparkR, use setLogLevel(newLevel).\n",
      "23/01/02 14:13:57 WARN Utils: Service 'SparkUI' could not bind on port 4040. Attempting port 4041.\n",
      "23/01/02 14:13:57 WARN Utils: Service 'SparkUI' could not bind on port 4041. Attempting port 4042.\n",
      "23/01/02 14:13:57 WARN Utils: Service 'SparkUI' could not bind on port 4042. Attempting port 4043.\n",
      "23/01/02 14:13:57 WARN Utils: Service 'SparkUI' could not bind on port 4043. Attempting port 4044.\n",
      "23/01/02 14:13:57 WARN Utils: Service 'SparkUI' could not bind on port 4044. Attempting port 4045.\n",
      "23/01/02 14:13:57 WARN Utils: Service 'SparkUI' could not bind on port 4045. Attempting port 4046.\n",
      "23/01/02 14:13:57 WARN Utils: Service 'SparkUI' could not bind on port 4046. Attempting port 4047.\n",
      "23/01/02 14:13:57 WARN Utils: Service 'SparkUI' could not bind on port 4047. Attempting port 4048.\n",
      "23/01/02 14:13:57 WARN Utils: Service 'SparkUI' could not bind on port 4048. Attempting port 4049.\n"
     ]
    }
   ],
   "source": [
    "from pyspark.sql import SparkSession\n",
    "from pyspark import SparkConf\n",
    "from pyspark.sql import functions as f\n",
    "from pyspark.sql import types as t\n",
    "from pyspark.sql.window import Window\n",
    "\n",
    "sparkSession = SparkSession.builder.config(conf=SparkConf() \\\n",
    "                                    .setAppName('Windows') \\\n",
    "                                    .setMaster('local[2]')).enableHiveSupport() \\\n",
    "                                    .getOrCreate()"
   ]
  },
  {
   "cell_type": "markdown",
   "id": "cf9bdd4d",
   "metadata": {},
   "source": [
    "#### PySpark Window Functions\n",
    "\n",
    "PySpark Window functions are used to calculate results such as the rank, row number e.t.c over a range of input rows. In this article, I’ve explained the concept of window functions, syntax, and finally how to use them with PySpark SQL and PySpark DataFrame API. These come in handy when we need to make aggregate operations in a specific window frame on DataFrame columns.\n",
    "\n",
    "When possible try to leverage standard library as they are little bit more compile-time safety, handles null and perform better when compared to UDF’s. If your application is critical on performance try to avoid using custom UDF at all costs as these are not guarantee on performance.\n",
    "\n",
    "Window Functions\n",
    "\n",
    "PySpark Window functions operate on a group of rows (like frame, partition) and return a single value for every input row. PySpark SQL supports three kinds of window functions:\n",
    "\n",
    "1. ranking functions\n",
    "2. analytic functions\n",
    "3. aggregate functions\n",
    "\n",
    "The below table defines Ranking and Analytic functions and for aggregate functions, we can use any existing aggregate functions as a window function.\n",
    "\n",
    "To perform an operation on a group first, we need to partition the data using Window.partitionBy() , and for row number and rank function we need to additionally order by on partition data using orderBy clause.\n",
    "\n",
    "Click on each link to know more about these functions along with the Scala examples."
   ]
  },
  {
   "cell_type": "code",
   "execution_count": 3,
   "id": "b0e8beff",
   "metadata": {},
   "outputs": [
    {
     "name": "stdout",
     "output_type": "stream",
     "text": [
      "root\n",
      " |-- employee_name: string (nullable = true)\n",
      " |-- department: string (nullable = true)\n",
      " |-- salary: long (nullable = true)\n",
      "\n"
     ]
    },
    {
     "name": "stderr",
     "output_type": "stream",
     "text": [
      "                                                                                \r"
     ]
    },
    {
     "name": "stdout",
     "output_type": "stream",
     "text": [
      "+-------------+----------+------+\n",
      "|employee_name|department|salary|\n",
      "+-------------+----------+------+\n",
      "|James        |Sales     |3000  |\n",
      "|Michael      |Sales     |4600  |\n",
      "|Robert       |Sales     |4100  |\n",
      "|Maria        |Finance   |3000  |\n",
      "|James        |Sales     |3000  |\n",
      "|Scott        |Finance   |3300  |\n",
      "|Jen          |Finance   |3900  |\n",
      "|Jeff         |Marketing |3000  |\n",
      "|Kumar        |Marketing |2000  |\n",
      "|Saif         |Sales     |4100  |\n",
      "+-------------+----------+------+\n",
      "\n"
     ]
    }
   ],
   "source": [
    "simpleData = ((\"James\", \"Sales\", 3000), \\\n",
    "    (\"Michael\", \"Sales\", 4600),  \\\n",
    "    (\"Robert\", \"Sales\", 4100),   \\\n",
    "    (\"Maria\", \"Finance\", 3000),  \\\n",
    "    (\"James\", \"Sales\", 3000),    \\\n",
    "    (\"Scott\", \"Finance\", 3300),  \\\n",
    "    (\"Jen\", \"Finance\", 3900),    \\\n",
    "    (\"Jeff\", \"Marketing\", 3000), \\\n",
    "    (\"Kumar\", \"Marketing\", 2000),\\\n",
    "    (\"Saif\", \"Sales\", 4100) \\\n",
    "  )\n",
    " \n",
    "columns= [\"employee_name\", \"department\", \"salary\"]\n",
    "df = sparkSession.createDataFrame(data = simpleData, schema = columns)\n",
    "df.printSchema()\n",
    "df.show(truncate=False)\n"
   ]
  },
  {
   "cell_type": "code",
   "execution_count": 23,
   "id": "47b68fbd",
   "metadata": {},
   "outputs": [
    {
     "name": "stdout",
     "output_type": "stream",
     "text": [
      "+--------------------+--------------+-------------+------+-----------------------+--------------------+\n",
      "|          Department|EmployeeNumber|MonthlyIncome|Over18|YearsSinceLastPromotion|YearsWithCurrManager|\n",
      "+--------------------+--------------+-------------+------+-----------------------+--------------------+\n",
      "|               Sales|             1|         5993|     Y|                      0|                   5|\n",
      "|Research & Develo...|             2|         5130|     Y|                      1|                   7|\n",
      "|Research & Develo...|             4|         2090|     Y|                      0|                   0|\n",
      "|Research & Develo...|             5|         2909|     Y|                      3|                   0|\n",
      "|Research & Develo...|             7|         3468|     Y|                      2|                   2|\n",
      "+--------------------+--------------+-------------+------+-----------------------+--------------------+\n",
      "only showing top 5 rows\n",
      "\n"
     ]
    }
   ],
   "source": [
    "data = sparkSession.read.csv('/Datasets/emp/train.csv', inferSchema=True, header=True).select(\n",
    " 'Department',\n",
    " 'EmployeeNumber',\n",
    " 'MonthlyIncome',\n",
    " 'Over18',\n",
    " 'YearsSinceLastPromotion',\n",
    " 'YearsWithCurrManager')\n",
    "data.show(5)"
   ]
  },
  {
   "cell_type": "markdown",
   "id": "c6a88426",
   "metadata": {},
   "source": [
    "#### PySpark Window Aggregate Functions\n",
    "\n",
    "In this section, I will explain how to calculate sum, min, max for each department using PySpark SQL Aggregate window functions and WindowSpec. When working with Aggregate functions, we don’t need to use order by clause. "
   ]
  },
  {
   "cell_type": "code",
   "execution_count": 9,
   "id": "b64640a3",
   "metadata": {},
   "outputs": [
    {
     "name": "stdout",
     "output_type": "stream",
     "text": [
      "+-------------+----------+------+\n",
      "|employee_name|department|salary|\n",
      "+-------------+----------+------+\n",
      "|        James|     Sales|  3000|\n",
      "|      Michael|     Sales|  4600|\n",
      "|       Robert|     Sales|  4100|\n",
      "|        Maria|   Finance|  3000|\n",
      "|        James|     Sales|  3000|\n",
      "|        Scott|   Finance|  3300|\n",
      "|          Jen|   Finance|  3900|\n",
      "|         Jeff| Marketing|  3000|\n",
      "|        Kumar| Marketing|  2000|\n",
      "|         Saif|     Sales|  4100|\n",
      "+-------------+----------+------+\n",
      "\n"
     ]
    }
   ],
   "source": [
    "df.show()"
   ]
  },
  {
   "cell_type": "code",
   "execution_count": 11,
   "id": "c0aafa7d",
   "metadata": {},
   "outputs": [
    {
     "name": "stdout",
     "output_type": "stream",
     "text": [
      "+----------+----------+----------+----------+--------------------+\n",
      "|department|salary_sum|salary_avg|salary_max|                list|\n",
      "+----------+----------+----------+----------+--------------------+\n",
      "|     Sales|     18800|    3760.0|      4600|[3000, 4600, 4100...|\n",
      "|   Finance|     10200|    3400.0|      3900|  [3000, 3300, 3900]|\n",
      "| Marketing|      5000|    2500.0|      3000|        [3000, 2000]|\n",
      "+----------+----------+----------+----------+--------------------+\n",
      "\n"
     ]
    }
   ],
   "source": [
    "df.groupBy('department').agg(f.sum(f.col('salary')).alias('salary_sum'), \\\n",
    "                             f.avg(f.col('salary')).alias('salary_avg'), \\\n",
    "                            f.max(f.col('salary')).alias('salary_max'), \\\n",
    "                            f.collect_list(f.col('salary')).alias('list')).show()"
   ]
  },
  {
   "cell_type": "code",
   "execution_count": 31,
   "id": "e526c55d",
   "metadata": {},
   "outputs": [
    {
     "name": "stdout",
     "output_type": "stream",
     "text": [
      "+-------------+----------+------+--------------------+----------+----------+----------+\n",
      "|employee_name|department|salary|               list1|salary_sum|salary_avg|salary_max|\n",
      "+-------------+----------+------+--------------------+----------+----------+----------+\n",
      "|        Maria|   Finance|  3000|  [3000, 3300, 3900]|     10200|    3400.0|      3900|\n",
      "|        Scott|   Finance|  3300|  [3000, 3300, 3900]|     10200|    3400.0|      3900|\n",
      "|          Jen|   Finance|  3900|  [3000, 3300, 3900]|     10200|    3400.0|      3900|\n",
      "|         Jeff| Marketing|  3000|        [3000, 2000]|      5000|    2500.0|      3000|\n",
      "|        Kumar| Marketing|  2000|        [3000, 2000]|      5000|    2500.0|      3000|\n",
      "|        James|     Sales|  3000|[3000, 4600, 4100...|     18800|    3760.0|      4600|\n",
      "|      Michael|     Sales|  4600|[3000, 4600, 4100...|     18800|    3760.0|      4600|\n",
      "|       Robert|     Sales|  4100|[3000, 4600, 4100...|     18800|    3760.0|      4600|\n",
      "|        James|     Sales|  3000|[3000, 4600, 4100...|     18800|    3760.0|      4600|\n",
      "|         Saif|     Sales|  4100|[3000, 4600, 4100...|     18800|    3760.0|      4600|\n",
      "+-------------+----------+------+--------------------+----------+----------+----------+\n",
      "\n"
     ]
    }
   ],
   "source": [
    "window1 = Window.partitionBy('department')\n",
    "df.withColumn('list1', f.collect_list(f.col('salary')).over(window1)) \\\n",
    "    .withColumn('salary_sum', f.sum(f.col('salary')).over(window1)) \\\n",
    "    .withColumn('salary_avg', f.avg(f.col('salary')).over(window1)) \\\n",
    "    .withColumn('salary_max', f.max(f.col('salary')).over(window1)).select('*').show()"
   ]
  },
  {
   "cell_type": "code",
   "execution_count": 34,
   "id": "93ab8899",
   "metadata": {},
   "outputs": [
    {
     "name": "stdout",
     "output_type": "stream",
     "text": [
      "+-------------+----------+------+--------------------+----------+----------+----------+\n",
      "|employee_name|department|salary|               list1|salary_sum|salary_avg|salary_max|\n",
      "+-------------+----------+------+--------------------+----------+----------+----------+\n",
      "|        Maria|   Finance|  3000|              [3000]|      3000|    3000.0|      3000|\n",
      "|        Scott|   Finance|  3300|        [3000, 3300]|      6300|    3150.0|      3300|\n",
      "|          Jen|   Finance|  3900|  [3000, 3300, 3900]|     10200|    3400.0|      3900|\n",
      "|        Kumar| Marketing|  2000|              [2000]|      2000|    2000.0|      2000|\n",
      "|         Jeff| Marketing|  3000|        [2000, 3000]|      5000|    2500.0|      3000|\n",
      "|        James|     Sales|  3000|        [3000, 3000]|      6000|    3000.0|      3000|\n",
      "|        James|     Sales|  3000|        [3000, 3000]|      6000|    3000.0|      3000|\n",
      "|       Robert|     Sales|  4100|[3000, 3000, 4100...|     14200|    3550.0|      4100|\n",
      "|         Saif|     Sales|  4100|[3000, 3000, 4100...|     14200|    3550.0|      4100|\n",
      "|      Michael|     Sales|  4600|[3000, 3000, 4100...|     18800|    3760.0|      4600|\n",
      "+-------------+----------+------+--------------------+----------+----------+----------+\n",
      "\n"
     ]
    }
   ],
   "source": [
    "window1 = Window.partitionBy('department').orderBy('salary')\n",
    "\n",
    "df.withColumn('list1', f.collect_list(f.col('salary')).over(window1)) \\\n",
    "    .withColumn('salary_sum', f.sum(f.col('salary')).over(window1)) \\\n",
    "    .withColumn('salary_avg', f.avg(f.col('salary')).over(window1)) \\\n",
    "    .withColumn('salary_max', f.max(f.col('salary')).over(window1)).select('*').show()"
   ]
  },
  {
   "cell_type": "code",
   "execution_count": 35,
   "id": "9a3ecf1f",
   "metadata": {},
   "outputs": [
    {
     "name": "stdout",
     "output_type": "stream",
     "text": [
      "+-------------+----------+------+--------------------+----------+------------------+----------+\n",
      "|employee_name|department|salary|               list1|salary_sum|        salary_avg|salary_max|\n",
      "+-------------+----------+------+--------------------+----------+------------------+----------+\n",
      "|        Maria|   Finance|  3000|              [3000]|      3000|            3000.0|      3000|\n",
      "|        Scott|   Finance|  3300|        [3000, 3300]|      6300|            3150.0|      3300|\n",
      "|          Jen|   Finance|  3900|  [3000, 3300, 3900]|     10200|            3400.0|      3900|\n",
      "|        Kumar| Marketing|  2000|              [2000]|      2000|            2000.0|      2000|\n",
      "|         Jeff| Marketing|  3000|        [2000, 3000]|      5000|            2500.0|      3000|\n",
      "|        James|     Sales|  3000|              [3000]|      3000|            3000.0|      3000|\n",
      "|        James|     Sales|  3000|        [3000, 3000]|      6000|            3000.0|      3000|\n",
      "|       Robert|     Sales|  4100|  [3000, 3000, 4100]|     10100|3366.6666666666665|      4100|\n",
      "|         Saif|     Sales|  4100|[3000, 3000, 4100...|     14200|            3550.0|      4100|\n",
      "|      Michael|     Sales|  4600|[3000, 3000, 4100...|     18800|            3760.0|      4600|\n",
      "+-------------+----------+------+--------------------+----------+------------------+----------+\n",
      "\n"
     ]
    }
   ],
   "source": [
    "window1 = Window.partitionBy('department').orderBy('salary') \\\n",
    "            .rowsBetween(Window.unboundedPreceding, Window.currentRow)\n",
    "\n",
    "df.withColumn('list1', f.collect_list(f.col('salary')).over(window1)) \\\n",
    "    .withColumn('salary_sum', f.sum(f.col('salary')).over(window1)) \\\n",
    "    .withColumn('salary_avg', f.avg(f.col('salary')).over(window1)) \\\n",
    "    .withColumn('salary_max', f.max(f.col('salary')).over(window1)).select('*').show()"
   ]
  },
  {
   "cell_type": "code",
   "execution_count": 36,
   "id": "91a74ba0",
   "metadata": {},
   "outputs": [
    {
     "name": "stdout",
     "output_type": "stream",
     "text": [
      "+-------------+----------+------+------------+----------+----------+----------+\n",
      "|employee_name|department|salary|       list1|salary_sum|salary_avg|salary_max|\n",
      "+-------------+----------+------+------------+----------+----------+----------+\n",
      "|        Maria|   Finance|  3000|      [3000]|      3000|    3000.0|      3000|\n",
      "|        Scott|   Finance|  3300|[3000, 3300]|      6300|    3150.0|      3300|\n",
      "|          Jen|   Finance|  3900|[3300, 3900]|      7200|    3600.0|      3900|\n",
      "|        Kumar| Marketing|  2000|      [2000]|      2000|    2000.0|      2000|\n",
      "|         Jeff| Marketing|  3000|[2000, 3000]|      5000|    2500.0|      3000|\n",
      "|        James|     Sales|  3000|      [3000]|      3000|    3000.0|      3000|\n",
      "|        James|     Sales|  3000|[3000, 3000]|      6000|    3000.0|      3000|\n",
      "|       Robert|     Sales|  4100|[3000, 4100]|      7100|    3550.0|      4100|\n",
      "|         Saif|     Sales|  4100|[4100, 4100]|      8200|    4100.0|      4100|\n",
      "|      Michael|     Sales|  4600|[4100, 4600]|      8700|    4350.0|      4600|\n",
      "+-------------+----------+------+------------+----------+----------+----------+\n",
      "\n"
     ]
    }
   ],
   "source": [
    "window1 = Window.partitionBy('department').orderBy('salary') \\\n",
    "            .rowsBetween(-1, Window.currentRow)\n",
    "\n",
    "df.withColumn('list1', f.collect_list(f.col('salary')).over(window1)) \\\n",
    "    .withColumn('salary_sum', f.sum(f.col('salary')).over(window1)) \\\n",
    "    .withColumn('salary_avg', f.avg(f.col('salary')).over(window1)) \\\n",
    "    .withColumn('salary_max', f.max(f.col('salary')).over(window1)).select('*').show()"
   ]
  },
  {
   "cell_type": "code",
   "execution_count": 39,
   "id": "a5fbda72",
   "metadata": {},
   "outputs": [
    {
     "name": "stdout",
     "output_type": "stream",
     "text": [
      "+--------------------+--------------+-------------+------+-----------------------+--------------------+\n",
      "|          Department|EmployeeNumber|MonthlyIncome|Over18|YearsSinceLastPromotion|YearsWithCurrManager|\n",
      "+--------------------+--------------+-------------+------+-----------------------+--------------------+\n",
      "|               Sales|             1|         5993|     Y|                      0|                   5|\n",
      "|Research & Develo...|             2|         5130|     Y|                      1|                   7|\n",
      "|Research & Develo...|             4|         2090|     Y|                      0|                   0|\n",
      "+--------------------+--------------+-------------+------+-----------------------+--------------------+\n",
      "only showing top 3 rows\n",
      "\n"
     ]
    }
   ],
   "source": [
    "data.show(3)"
   ]
  },
  {
   "cell_type": "code",
   "execution_count": 42,
   "id": "01faa7ad",
   "metadata": {},
   "outputs": [
    {
     "name": "stdout",
     "output_type": "stream",
     "text": [
      "+--------------------+--------------------+----------+-----------------+----------+\n",
      "|          Department|               list1|salary_sum|       salary_avg|salary_max|\n",
      "+--------------------+--------------------+----------+-----------------+----------+\n",
      "|               Sales|[5993, 15427, 340...|   2241789|7027.551724137931|     19847|\n",
      "|Research & Develo...|[5130, 2090, 2909...|   4488018|6402.308131241084|     19999|\n",
      "|     Human Resources|[5021, 2073, 1884...|    280443|7380.078947368421|     19717|\n",
      "+--------------------+--------------------+----------+-----------------+----------+\n",
      "\n"
     ]
    }
   ],
   "source": [
    "data.groupBy('Department').agg(f.collect_list(f.col('MonthlyIncome')).alias('list1') \\\n",
    "                              ,f.sum(f.col('MonthlyIncome')).alias('salary_sum') \\\n",
    "                              ,f.avg(f.col('MonthlyIncome')).alias('salary_avg') \\\n",
    "                              ,f.max(f.col('MonthlyIncome')).alias('salary_max')).show()\n",
    "                                "
   ]
  },
  {
   "cell_type": "code",
   "execution_count": 48,
   "id": "ad7e312f",
   "metadata": {},
   "outputs": [
    {
     "name": "stdout",
     "output_type": "stream",
     "text": [
      "+---------------+--------------------+----------+-----------------+----------+\n",
      "|     Department|               list1|salary_sum|       salary_avg|salary_max|\n",
      "+---------------+--------------------+----------+-----------------+----------+\n",
      "|Human Resources|[5021, 2073, 1884...|    280443|7380.078947368421|     19717|\n",
      "|Human Resources|[5021, 2073, 1884...|    280443|7380.078947368421|     19717|\n",
      "|Human Resources|[5021, 2073, 1884...|    280443|7380.078947368421|     19717|\n",
      "|Human Resources|[5021, 2073, 1884...|    280443|7380.078947368421|     19717|\n",
      "|Human Resources|[5021, 2073, 1884...|    280443|7380.078947368421|     19717|\n",
      "|Human Resources|[5021, 2073, 1884...|    280443|7380.078947368421|     19717|\n",
      "|Human Resources|[5021, 2073, 1884...|    280443|7380.078947368421|     19717|\n",
      "|Human Resources|[5021, 2073, 1884...|    280443|7380.078947368421|     19717|\n",
      "|Human Resources|[5021, 2073, 1884...|    280443|7380.078947368421|     19717|\n",
      "|Human Resources|[5021, 2073, 1884...|    280443|7380.078947368421|     19717|\n",
      "|Human Resources|[5021, 2073, 1884...|    280443|7380.078947368421|     19717|\n",
      "|Human Resources|[5021, 2073, 1884...|    280443|7380.078947368421|     19717|\n",
      "|Human Resources|[5021, 2073, 1884...|    280443|7380.078947368421|     19717|\n",
      "|Human Resources|[5021, 2073, 1884...|    280443|7380.078947368421|     19717|\n",
      "|Human Resources|[5021, 2073, 1884...|    280443|7380.078947368421|     19717|\n",
      "|Human Resources|[5021, 2073, 1884...|    280443|7380.078947368421|     19717|\n",
      "|Human Resources|[5021, 2073, 1884...|    280443|7380.078947368421|     19717|\n",
      "|Human Resources|[5021, 2073, 1884...|    280443|7380.078947368421|     19717|\n",
      "|Human Resources|[5021, 2073, 1884...|    280443|7380.078947368421|     19717|\n",
      "|Human Resources|[5021, 2073, 1884...|    280443|7380.078947368421|     19717|\n",
      "+---------------+--------------------+----------+-----------------+----------+\n",
      "only showing top 20 rows\n",
      "\n"
     ]
    }
   ],
   "source": [
    "window1 = Window.partitionBy('Department')\n",
    "data.withColumn('list1', f.collect_list(f.col('MonthlyIncome')).over(window1)) \\\n",
    "    .withColumn('salary_sum', f.sum(f.col('MonthlyIncome')).over(window1)) \\\n",
    "    .withColumn('salary_avg', f.avg(f.col('MonthlyIncome')).over(window1)) \\\n",
    "    .withColumn('salary_max', f.max(f.col('MonthlyIncome')).over(window1)).select('Department', \\\n",
    "    'list1', 'salary_sum', 'salary_avg', 'salary_max').show()"
   ]
  },
  {
   "cell_type": "code",
   "execution_count": 49,
   "id": "a4394142",
   "metadata": {},
   "outputs": [
    {
     "name": "stdout",
     "output_type": "stream",
     "text": [
      "+---------------+--------------------+----------+------------------+----------+\n",
      "|     Department|               list1|salary_sum|        salary_avg|salary_max|\n",
      "+---------------+--------------------+----------+------------------+----------+\n",
      "|Human Resources|              [2073]|      2073|            2073.0|      2073|\n",
      "|Human Resources|        [2073, 2109]|      4182|            2091.0|      2109|\n",
      "|Human Resources|  [2073, 2109, 2143]|      6325|2108.3333333333335|      2143|\n",
      "|Human Resources|[2073, 2109, 2143...|      8502|            2125.5|      2177|\n",
      "|Human Resources|[2073, 2109, 2143...|     10769|            2153.8|      2267|\n",
      "|Human Resources|[2073, 2109, 2143...|     13046|2174.3333333333335|      2277|\n",
      "|Human Resources|[2073, 2109, 2143...|     15388| 2198.285714285714|      2342|\n",
      "|Human Resources|[2073, 2109, 2143...|     17952|            2244.0|      2564|\n",
      "|Human Resources|[2073, 2109, 2143...|     20648| 2294.222222222222|      2696|\n",
      "|Human Resources|[2073, 2109, 2143...|     23389|            2338.9|      2741|\n",
      "|Human Resources|[2073, 2109, 2143...|     26131|2375.5454545454545|      2742|\n",
      "|Human Resources|[2073, 2109, 2143...|     28975|2414.5833333333335|      2844|\n",
      "|Human Resources|[2073, 2109, 2143...|     31917| 2455.153846153846|      2942|\n",
      "|Human Resources|[2073, 2109, 2143...|     35340| 2524.285714285714|      3423|\n",
      "|Human Resources|[2073, 2109, 2143...|     38940|            2596.0|      3600|\n",
      "|Human Resources|[2073, 2109, 2143...|     42677|         2667.3125|      3737|\n",
      "|Human Resources|[2073, 2109, 2143...|     47000| 2764.705882352941|      4323|\n",
      "|Human Resources|[2073, 2109, 2143...|     51490|2860.5555555555557|      4490|\n",
      "|Human Resources|[2073, 2109, 2143...|     56426|2969.7894736842104|      4936|\n",
      "|Human Resources|[2073, 2109, 2143...|     61447|           3072.35|      5021|\n",
      "+---------------+--------------------+----------+------------------+----------+\n",
      "only showing top 20 rows\n",
      "\n"
     ]
    }
   ],
   "source": [
    "window1 = Window.partitionBy('Department').orderBy('MonthlyIncome')\n",
    "data.withColumn('list1', f.collect_list(f.col('MonthlyIncome')).over(window1)) \\\n",
    "    .withColumn('salary_sum', f.sum(f.col('MonthlyIncome')).over(window1)) \\\n",
    "    .withColumn('salary_avg', f.avg(f.col('MonthlyIncome')).over(window1)) \\\n",
    "    .withColumn('salary_max', f.max(f.col('MonthlyIncome')).over(window1)).select('Department', \\\n",
    "    'list1', 'salary_sum', 'salary_avg', 'salary_max').show()"
   ]
  },
  {
   "cell_type": "code",
   "execution_count": 50,
   "id": "5282a721",
   "metadata": {},
   "outputs": [
    {
     "name": "stdout",
     "output_type": "stream",
     "text": [
      "+---------------+--------------------+----------+------------------+----------+\n",
      "|     Department|               list1|salary_sum|        salary_avg|salary_max|\n",
      "+---------------+--------------------+----------+------------------+----------+\n",
      "|Human Resources|              [2073]|      2073|            2073.0|      2073|\n",
      "|Human Resources|        [2073, 2109]|      4182|            2091.0|      2109|\n",
      "|Human Resources|  [2073, 2109, 2143]|      6325|2108.3333333333335|      2143|\n",
      "|Human Resources|[2073, 2109, 2143...|      8502|            2125.5|      2177|\n",
      "|Human Resources|[2073, 2109, 2143...|     10769|            2153.8|      2267|\n",
      "|Human Resources|[2073, 2109, 2143...|     13046|2174.3333333333335|      2277|\n",
      "|Human Resources|[2073, 2109, 2143...|     15388| 2198.285714285714|      2342|\n",
      "|Human Resources|[2073, 2109, 2143...|     17952|            2244.0|      2564|\n",
      "|Human Resources|[2073, 2109, 2143...|     20648| 2294.222222222222|      2696|\n",
      "|Human Resources|[2073, 2109, 2143...|     23389|            2338.9|      2741|\n",
      "|Human Resources|[2073, 2109, 2143...|     26131|2375.5454545454545|      2742|\n",
      "|Human Resources|[2073, 2109, 2143...|     28975|2414.5833333333335|      2844|\n",
      "|Human Resources|[2073, 2109, 2143...|     31917| 2455.153846153846|      2942|\n",
      "|Human Resources|[2073, 2109, 2143...|     35340| 2524.285714285714|      3423|\n",
      "|Human Resources|[2073, 2109, 2143...|     38940|            2596.0|      3600|\n",
      "|Human Resources|[2073, 2109, 2143...|     42677|         2667.3125|      3737|\n",
      "|Human Resources|[2073, 2109, 2143...|     47000| 2764.705882352941|      4323|\n",
      "|Human Resources|[2073, 2109, 2143...|     51490|2860.5555555555557|      4490|\n",
      "|Human Resources|[2073, 2109, 2143...|     56426|2969.7894736842104|      4936|\n",
      "|Human Resources|[2073, 2109, 2143...|     61447|           3072.35|      5021|\n",
      "+---------------+--------------------+----------+------------------+----------+\n",
      "only showing top 20 rows\n",
      "\n"
     ]
    }
   ],
   "source": [
    "window1 = Window.partitionBy('Department').orderBy('MonthlyIncome').rowsBetween(\\\n",
    "                Window.unboundedPreceding, Window.currentRow)\n",
    "data.withColumn('list1', f.collect_list(f.col('MonthlyIncome')).over(window1)) \\\n",
    "    .withColumn('salary_sum', f.sum(f.col('MonthlyIncome')).over(window1)) \\\n",
    "    .withColumn('salary_avg', f.avg(f.col('MonthlyIncome')).over(window1)) \\\n",
    "    .withColumn('salary_max', f.max(f.col('MonthlyIncome')).over(window1)).select('Department', \\\n",
    "    'list1', 'salary_sum', 'salary_avg', 'salary_max').show()"
   ]
  },
  {
   "cell_type": "markdown",
   "id": "cad598f2",
   "metadata": {},
   "source": [
    "#### PySpark Window Ranking functions\n",
    "\n",
    "row_number Window Function\n",
    "\n",
    "row_number() window function is used to give the sequential row number starting from 1 to the result of each window partition. "
   ]
  },
  {
   "cell_type": "code",
   "execution_count": 51,
   "id": "a14d928b",
   "metadata": {},
   "outputs": [
    {
     "name": "stdout",
     "output_type": "stream",
     "text": [
      "+-------------+----------+------+\n",
      "|employee_name|department|salary|\n",
      "+-------------+----------+------+\n",
      "|        James|     Sales|  3000|\n",
      "|      Michael|     Sales|  4600|\n",
      "|       Robert|     Sales|  4100|\n",
      "|        Maria|   Finance|  3000|\n",
      "|        James|     Sales|  3000|\n",
      "+-------------+----------+------+\n",
      "only showing top 5 rows\n",
      "\n"
     ]
    }
   ],
   "source": [
    "df.show(5)"
   ]
  },
  {
   "cell_type": "code",
   "execution_count": 52,
   "id": "7a804874",
   "metadata": {},
   "outputs": [
    {
     "name": "stdout",
     "output_type": "stream",
     "text": [
      "+-------------+----------+------+----------+\n",
      "|employee_name|department|salary|row_number|\n",
      "+-------------+----------+------+----------+\n",
      "|        Maria|   Finance|  3000|         1|\n",
      "|        Scott|   Finance|  3300|         2|\n",
      "|          Jen|   Finance|  3900|         3|\n",
      "|        Kumar| Marketing|  2000|         1|\n",
      "|         Jeff| Marketing|  3000|         2|\n",
      "|        James|     Sales|  3000|         1|\n",
      "|        James|     Sales|  3000|         2|\n",
      "|       Robert|     Sales|  4100|         3|\n",
      "|         Saif|     Sales|  4100|         4|\n",
      "|      Michael|     Sales|  4600|         5|\n",
      "+-------------+----------+------+----------+\n",
      "\n"
     ]
    }
   ],
   "source": [
    "window = Window.partitionBy('department').orderBy('salary')\n",
    "\n",
    "df.withColumn('row_number', f.row_number().over(window)).show()"
   ]
  },
  {
   "cell_type": "code",
   "execution_count": 54,
   "id": "e21a21b7",
   "metadata": {},
   "outputs": [
    {
     "name": "stdout",
     "output_type": "stream",
     "text": [
      "+---------------+--------------+-------------+------+-----------------------+--------------------+----------+\n",
      "|     Department|EmployeeNumber|MonthlyIncome|Over18|YearsSinceLastPromotion|YearsWithCurrManager|row_number|\n",
      "+---------------+--------------+-------------+------+-----------------------+--------------------+----------+\n",
      "|Human Resources|           133|         2073|     Y|                      0|                   2|         1|\n",
      "|Human Resources|          1461|         2109|     Y|                      0|                   2|         2|\n",
      "|Human Resources|           829|         2143|     Y|                      0|                   4|         3|\n",
      "|Human Resources|          1049|         2177|     Y|                      0|                   4|         4|\n",
      "|Human Resources|           321|         2267|     Y|                      2|                   2|         5|\n",
      "+---------------+--------------+-------------+------+-----------------------+--------------------+----------+\n",
      "only showing top 5 rows\n",
      "\n"
     ]
    }
   ],
   "source": [
    "window = Window.partitionBy('Department').orderBy('MonthlyIncome')\n",
    "\n",
    "data.withColumn('row_number', f.row_number().over(window)).show(5)"
   ]
  },
  {
   "cell_type": "markdown",
   "id": "f00d019f",
   "metadata": {},
   "source": [
    "### rank Window Function\n",
    "\n",
    "rank() window function is used to provide a rank to the result within a window partition. This function leaves gaps in rank when there are ties."
   ]
  },
  {
   "cell_type": "code",
   "execution_count": 56,
   "id": "524e7867",
   "metadata": {},
   "outputs": [
    {
     "name": "stdout",
     "output_type": "stream",
     "text": [
      "+---------------+--------------+-------------+------+-----------------------+--------------------+----+\n",
      "|     Department|EmployeeNumber|MonthlyIncome|Over18|YearsSinceLastPromotion|YearsWithCurrManager|rank|\n",
      "+---------------+--------------+-------------+------+-----------------------+--------------------+----+\n",
      "|Human Resources|           133|         2073|     Y|                      0|                   2|   1|\n",
      "|Human Resources|          1461|         2109|     Y|                      0|                   2|   2|\n",
      "|Human Resources|           829|         2143|     Y|                      0|                   4|   3|\n",
      "|Human Resources|          1049|         2177|     Y|                      0|                   4|   4|\n",
      "|Human Resources|           321|         2267|     Y|                      2|                   2|   5|\n",
      "+---------------+--------------+-------------+------+-----------------------+--------------------+----+\n",
      "only showing top 5 rows\n",
      "\n"
     ]
    }
   ],
   "source": [
    "window = Window.partitionBy('Department').orderBy('MonthlyIncome')\n",
    "data.withColumn('rank', f.rank().over(window)).show(5)"
   ]
  },
  {
   "cell_type": "code",
   "execution_count": 58,
   "id": "18a6706d",
   "metadata": {},
   "outputs": [
    {
     "name": "stdout",
     "output_type": "stream",
     "text": [
      "+-------------+----------+------+----+\n",
      "|employee_name|department|salary|rank|\n",
      "+-------------+----------+------+----+\n",
      "|        Maria|   Finance|  3000|   1|\n",
      "|        Scott|   Finance|  3300|   2|\n",
      "|          Jen|   Finance|  3900|   3|\n",
      "|        Kumar| Marketing|  2000|   1|\n",
      "|         Jeff| Marketing|  3000|   2|\n",
      "|        James|     Sales|  3000|   1|\n",
      "|        James|     Sales|  3000|   1|\n",
      "|       Robert|     Sales|  4100|   3|\n",
      "|         Saif|     Sales|  4100|   3|\n",
      "|      Michael|     Sales|  4600|   5|\n",
      "+-------------+----------+------+----+\n",
      "\n"
     ]
    }
   ],
   "source": [
    "window = Window.partitionBy('department').orderBy('salary')\n",
    "df.withColumn('rank', f.rank().over(window)).show()"
   ]
  },
  {
   "cell_type": "markdown",
   "id": "6e7166a0",
   "metadata": {},
   "source": [
    "#### dense_rank Window Function\n",
    "\n",
    "dense_rank() window function is used to get the result with rank of rows within a window partition without any gaps. This is similar to rank() function difference being rank function leaves gaps in rank when there are ties."
   ]
  },
  {
   "cell_type": "code",
   "execution_count": 59,
   "id": "a81b74a7",
   "metadata": {},
   "outputs": [
    {
     "name": "stdout",
     "output_type": "stream",
     "text": [
      "+---------------+--------------+-------------+------+-----------------------+--------------------+----------+\n",
      "|     Department|EmployeeNumber|MonthlyIncome|Over18|YearsSinceLastPromotion|YearsWithCurrManager|dense_rank|\n",
      "+---------------+--------------+-------------+------+-----------------------+--------------------+----------+\n",
      "|Human Resources|           133|         2073|     Y|                      0|                   2|         1|\n",
      "|Human Resources|          1461|         2109|     Y|                      0|                   2|         2|\n",
      "|Human Resources|           829|         2143|     Y|                      0|                   4|         3|\n",
      "|Human Resources|          1049|         2177|     Y|                      0|                   4|         4|\n",
      "|Human Resources|           321|         2267|     Y|                      2|                   2|         5|\n",
      "|Human Resources|           910|         2277|     Y|                      0|                   3|         6|\n",
      "|Human Resources|           878|         2342|     Y|                      0|                   3|         7|\n",
      "|Human Resources|           566|         2564|     Y|                      0|                   0|         8|\n",
      "|Human Resources|           470|         2696|     Y|                      1|                   0|         9|\n",
      "|Human Resources|           608|         2741|     Y|                      1|                   0|        10|\n",
      "|Human Resources|          1467|         2742|     Y|                      2|                   2|        11|\n",
      "|Human Resources|          1152|         2844|     Y|                      5|                   0|        12|\n",
      "|Human Resources|           177|         2942|     Y|                      5|                   7|        13|\n",
      "|Human Resources|          1314|         3423|     Y|                      5|                   7|        14|\n",
      "|Human Resources|          1207|         3600|     Y|                      1|                   4|        15|\n",
      "|Human Resources|           847|         3737|     Y|                      0|                   2|        16|\n",
      "|Human Resources|          1164|         4323|     Y|                      1|                   4|        17|\n",
      "|Human Resources|          1289|         4490|     Y|                      1|                   8|        18|\n",
      "|Human Resources|           869|         4936|     Y|                      0|                   4|        19|\n",
      "|Human Resources|           103|         5021|     Y|                      0|                   2|        20|\n",
      "+---------------+--------------+-------------+------+-----------------------+--------------------+----------+\n",
      "only showing top 20 rows\n",
      "\n"
     ]
    }
   ],
   "source": [
    "window = Window.partitionBy('Department').orderBy('MonthlyIncome')\n",
    "data.withColumn('dense_rank', f.dense_rank().over(window)).show()"
   ]
  },
  {
   "cell_type": "code",
   "execution_count": 60,
   "id": "8f597ae9",
   "metadata": {},
   "outputs": [
    {
     "name": "stdout",
     "output_type": "stream",
     "text": [
      "+-------------+----------+------+----------+\n",
      "|employee_name|department|salary|dense_rank|\n",
      "+-------------+----------+------+----------+\n",
      "|        Maria|   Finance|  3000|         1|\n",
      "|        Scott|   Finance|  3300|         2|\n",
      "|          Jen|   Finance|  3900|         3|\n",
      "|        Kumar| Marketing|  2000|         1|\n",
      "|         Jeff| Marketing|  3000|         2|\n",
      "|        James|     Sales|  3000|         1|\n",
      "|        James|     Sales|  3000|         1|\n",
      "|       Robert|     Sales|  4100|         2|\n",
      "|         Saif|     Sales|  4100|         2|\n",
      "|      Michael|     Sales|  4600|         3|\n",
      "+-------------+----------+------+----------+\n",
      "\n"
     ]
    }
   ],
   "source": [
    "window = Window.partitionBy('department').orderBy('salary')\n",
    "df.withColumn('dense_rank', f.dense_rank().over(window)).show()"
   ]
  },
  {
   "cell_type": "markdown",
   "id": "397c2cc1",
   "metadata": {},
   "source": [
    "#### percent_rank Window Function "
   ]
  },
  {
   "cell_type": "code",
   "execution_count": 61,
   "id": "a9b7e6eb",
   "metadata": {},
   "outputs": [
    {
     "name": "stdout",
     "output_type": "stream",
     "text": [
      "+-------------+----------+------+------------+\n",
      "|employee_name|department|salary|percent_rank|\n",
      "+-------------+----------+------+------------+\n",
      "|        Maria|   Finance|  3000|         0.0|\n",
      "|        Scott|   Finance|  3300|         0.5|\n",
      "|          Jen|   Finance|  3900|         1.0|\n",
      "|        Kumar| Marketing|  2000|         0.0|\n",
      "|         Jeff| Marketing|  3000|         1.0|\n",
      "|        James|     Sales|  3000|         0.0|\n",
      "|        James|     Sales|  3000|         0.0|\n",
      "|       Robert|     Sales|  4100|         0.5|\n",
      "|         Saif|     Sales|  4100|         0.5|\n",
      "|      Michael|     Sales|  4600|         1.0|\n",
      "+-------------+----------+------+------------+\n",
      "\n"
     ]
    }
   ],
   "source": [
    "window = Window.partitionBy('department').orderBy('salary')\n",
    "df.withColumn('percent_rank', f.percent_rank().over(window)).show()"
   ]
  },
  {
   "cell_type": "code",
   "execution_count": 62,
   "id": "3789b86f",
   "metadata": {},
   "outputs": [
    {
     "name": "stdout",
     "output_type": "stream",
     "text": [
      "+---------------+--------------+-------------+------+-----------------------+--------------------+-------------------+\n",
      "|     Department|EmployeeNumber|MonthlyIncome|Over18|YearsSinceLastPromotion|YearsWithCurrManager|       percent_rank|\n",
      "+---------------+--------------+-------------+------+-----------------------+--------------------+-------------------+\n",
      "|Human Resources|           133|         2073|     Y|                      0|                   2|                0.0|\n",
      "|Human Resources|          1461|         2109|     Y|                      0|                   2|0.02702702702702703|\n",
      "|Human Resources|           829|         2143|     Y|                      0|                   4|0.05405405405405406|\n",
      "|Human Resources|          1049|         2177|     Y|                      0|                   4|0.08108108108108109|\n",
      "|Human Resources|           321|         2267|     Y|                      2|                   2|0.10810810810810811|\n",
      "|Human Resources|           910|         2277|     Y|                      0|                   3|0.13513513513513514|\n",
      "|Human Resources|           878|         2342|     Y|                      0|                   3|0.16216216216216217|\n",
      "|Human Resources|           566|         2564|     Y|                      0|                   0| 0.1891891891891892|\n",
      "|Human Resources|           470|         2696|     Y|                      1|                   0|0.21621621621621623|\n",
      "|Human Resources|           608|         2741|     Y|                      1|                   0|0.24324324324324326|\n",
      "|Human Resources|          1467|         2742|     Y|                      2|                   2| 0.2702702702702703|\n",
      "|Human Resources|          1152|         2844|     Y|                      5|                   0| 0.2972972972972973|\n",
      "|Human Resources|           177|         2942|     Y|                      5|                   7|0.32432432432432434|\n",
      "|Human Resources|          1314|         3423|     Y|                      5|                   7|0.35135135135135137|\n",
      "|Human Resources|          1207|         3600|     Y|                      1|                   4| 0.3783783783783784|\n",
      "|Human Resources|           847|         3737|     Y|                      0|                   2|0.40540540540540543|\n",
      "|Human Resources|          1164|         4323|     Y|                      1|                   4|0.43243243243243246|\n",
      "|Human Resources|          1289|         4490|     Y|                      1|                   8| 0.4594594594594595|\n",
      "|Human Resources|           869|         4936|     Y|                      0|                   4| 0.4864864864864865|\n",
      "|Human Resources|           103|         5021|     Y|                      0|                   2| 0.5135135135135135|\n",
      "+---------------+--------------+-------------+------+-----------------------+--------------------+-------------------+\n",
      "only showing top 20 rows\n",
      "\n"
     ]
    }
   ],
   "source": [
    "window = Window.partitionBy('Department').orderBy('MonthlyIncome')\n",
    "data.withColumn('percent_rank', f.percent_rank().over(window)).show()"
   ]
  },
  {
   "cell_type": "markdown",
   "id": "8c219a74",
   "metadata": {},
   "source": [
    "#### ntile Window Function\n",
    "\n",
    "ntile() window function returns the relative rank of result rows within a window partition. In below example we have used 2 as an argument to ntile hence it returns ranking between 2 values (1 and 2) "
   ]
  },
  {
   "cell_type": "code",
   "execution_count": 64,
   "id": "9e13f6df",
   "metadata": {},
   "outputs": [
    {
     "name": "stdout",
     "output_type": "stream",
     "text": [
      "+-------------+----------+------+-----+\n",
      "|employee_name|department|salary|ntile|\n",
      "+-------------+----------+------+-----+\n",
      "|        Maria|   Finance|  3000|    1|\n",
      "|        Scott|   Finance|  3300|    1|\n",
      "|          Jen|   Finance|  3900|    2|\n",
      "|        Kumar| Marketing|  2000|    1|\n",
      "|         Jeff| Marketing|  3000|    2|\n",
      "|        James|     Sales|  3000|    1|\n",
      "|        James|     Sales|  3000|    1|\n",
      "|       Robert|     Sales|  4100|    1|\n",
      "|         Saif|     Sales|  4100|    2|\n",
      "|      Michael|     Sales|  4600|    2|\n",
      "+-------------+----------+------+-----+\n",
      "\n"
     ]
    }
   ],
   "source": [
    "window = Window.partitionBy('department').orderBy('salary')\n",
    "df.withColumn('ntile', f.ntile(2).over(window)).show()"
   ]
  },
  {
   "cell_type": "code",
   "execution_count": 65,
   "id": "72914ef9",
   "metadata": {},
   "outputs": [
    {
     "name": "stdout",
     "output_type": "stream",
     "text": [
      "+-------------+----------+------+-----+\n",
      "|employee_name|department|salary|ntile|\n",
      "+-------------+----------+------+-----+\n",
      "|        Maria|   Finance|  3000|    1|\n",
      "|        Scott|   Finance|  3300|    2|\n",
      "|          Jen|   Finance|  3900|    3|\n",
      "|        Kumar| Marketing|  2000|    1|\n",
      "|         Jeff| Marketing|  3000|    2|\n",
      "|        James|     Sales|  3000|    1|\n",
      "|        James|     Sales|  3000|    1|\n",
      "|       Robert|     Sales|  4100|    2|\n",
      "|         Saif|     Sales|  4100|    2|\n",
      "|      Michael|     Sales|  4600|    3|\n",
      "+-------------+----------+------+-----+\n",
      "\n"
     ]
    }
   ],
   "source": [
    "window = Window.partitionBy('department').orderBy('salary')\n",
    "df.withColumn('ntile', f.ntile(3).over(window)).show()"
   ]
  },
  {
   "cell_type": "code",
   "execution_count": 66,
   "id": "b4449036",
   "metadata": {},
   "outputs": [
    {
     "name": "stdout",
     "output_type": "stream",
     "text": [
      "+-------------+----------+------+-----+\n",
      "|employee_name|department|salary|ntile|\n",
      "+-------------+----------+------+-----+\n",
      "|        Maria|   Finance|  3000|    1|\n",
      "|        Scott|   Finance|  3300|    2|\n",
      "|          Jen|   Finance|  3900|    3|\n",
      "|        Kumar| Marketing|  2000|    1|\n",
      "|         Jeff| Marketing|  3000|    2|\n",
      "|        James|     Sales|  3000|    1|\n",
      "|        James|     Sales|  3000|    1|\n",
      "|       Robert|     Sales|  4100|    2|\n",
      "|         Saif|     Sales|  4100|    3|\n",
      "|      Michael|     Sales|  4600|    4|\n",
      "+-------------+----------+------+-----+\n",
      "\n"
     ]
    }
   ],
   "source": [
    "window = Window.partitionBy('department').orderBy('salary')\n",
    "df.withColumn('ntile', f.ntile(4).over(window)).show()"
   ]
  },
  {
   "cell_type": "code",
   "execution_count": 67,
   "id": "eb432a92",
   "metadata": {},
   "outputs": [
    {
     "name": "stdout",
     "output_type": "stream",
     "text": [
      "+---------------+--------------+-------------+------+-----------------------+--------------------+-----+\n",
      "|     Department|EmployeeNumber|MonthlyIncome|Over18|YearsSinceLastPromotion|YearsWithCurrManager|ntile|\n",
      "+---------------+--------------+-------------+------+-----------------------+--------------------+-----+\n",
      "|Human Resources|           133|         2073|     Y|                      0|                   2|    1|\n",
      "|Human Resources|          1461|         2109|     Y|                      0|                   2|    1|\n",
      "|Human Resources|           829|         2143|     Y|                      0|                   4|    1|\n",
      "|Human Resources|          1049|         2177|     Y|                      0|                   4|    1|\n",
      "|Human Resources|           321|         2267|     Y|                      2|                   2|    1|\n",
      "|Human Resources|           910|         2277|     Y|                      0|                   3|    1|\n",
      "|Human Resources|           878|         2342|     Y|                      0|                   3|    1|\n",
      "|Human Resources|           566|         2564|     Y|                      0|                   0|    1|\n",
      "|Human Resources|           470|         2696|     Y|                      1|                   0|    1|\n",
      "|Human Resources|           608|         2741|     Y|                      1|                   0|    1|\n",
      "|Human Resources|          1467|         2742|     Y|                      2|                   2|    1|\n",
      "|Human Resources|          1152|         2844|     Y|                      5|                   0|    1|\n",
      "|Human Resources|           177|         2942|     Y|                      5|                   7|    1|\n",
      "|Human Resources|          1314|         3423|     Y|                      5|                   7|    1|\n",
      "|Human Resources|          1207|         3600|     Y|                      1|                   4|    1|\n",
      "|Human Resources|           847|         3737|     Y|                      0|                   2|    1|\n",
      "|Human Resources|          1164|         4323|     Y|                      1|                   4|    1|\n",
      "|Human Resources|          1289|         4490|     Y|                      1|                   8|    1|\n",
      "|Human Resources|           869|         4936|     Y|                      0|                   4|    1|\n",
      "|Human Resources|           103|         5021|     Y|                      0|                   2|    2|\n",
      "+---------------+--------------+-------------+------+-----------------------+--------------------+-----+\n",
      "only showing top 20 rows\n",
      "\n"
     ]
    }
   ],
   "source": [
    "window = Window.partitionBy('Department').orderBy('MonthlyIncome')\n",
    "data.withColumn('ntile', f.ntile(2).over(window)).show()"
   ]
  },
  {
   "cell_type": "code",
   "execution_count": 68,
   "id": "20ae77d8",
   "metadata": {},
   "outputs": [
    {
     "name": "stdout",
     "output_type": "stream",
     "text": [
      "+---------------+--------------+-------------+------+-----------------------+--------------------+-----+\n",
      "|     Department|EmployeeNumber|MonthlyIncome|Over18|YearsSinceLastPromotion|YearsWithCurrManager|ntile|\n",
      "+---------------+--------------+-------------+------+-----------------------+--------------------+-----+\n",
      "|Human Resources|           133|         2073|     Y|                      0|                   2|    1|\n",
      "|Human Resources|          1461|         2109|     Y|                      0|                   2|    1|\n",
      "|Human Resources|           829|         2143|     Y|                      0|                   4|    1|\n",
      "|Human Resources|          1049|         2177|     Y|                      0|                   4|    1|\n",
      "|Human Resources|           321|         2267|     Y|                      2|                   2|    1|\n",
      "|Human Resources|           910|         2277|     Y|                      0|                   3|    1|\n",
      "|Human Resources|           878|         2342|     Y|                      0|                   3|    1|\n",
      "|Human Resources|           566|         2564|     Y|                      0|                   0|    1|\n",
      "|Human Resources|           470|         2696|     Y|                      1|                   0|    1|\n",
      "|Human Resources|           608|         2741|     Y|                      1|                   0|    1|\n",
      "|Human Resources|          1467|         2742|     Y|                      2|                   2|    2|\n",
      "|Human Resources|          1152|         2844|     Y|                      5|                   0|    2|\n",
      "|Human Resources|           177|         2942|     Y|                      5|                   7|    2|\n",
      "|Human Resources|          1314|         3423|     Y|                      5|                   7|    2|\n",
      "|Human Resources|          1207|         3600|     Y|                      1|                   4|    2|\n",
      "|Human Resources|           847|         3737|     Y|                      0|                   2|    2|\n",
      "|Human Resources|          1164|         4323|     Y|                      1|                   4|    2|\n",
      "|Human Resources|          1289|         4490|     Y|                      1|                   8|    2|\n",
      "|Human Resources|           869|         4936|     Y|                      0|                   4|    2|\n",
      "|Human Resources|           103|         5021|     Y|                      0|                   2|    2|\n",
      "+---------------+--------------+-------------+------+-----------------------+--------------------+-----+\n",
      "only showing top 20 rows\n",
      "\n"
     ]
    }
   ],
   "source": [
    "window = Window.partitionBy('Department').orderBy('MonthlyIncome')\n",
    "data.withColumn('ntile', f.ntile(4).over(window)).show()"
   ]
  },
  {
   "cell_type": "code",
   "execution_count": 69,
   "id": "59b0061c",
   "metadata": {},
   "outputs": [
    {
     "name": "stdout",
     "output_type": "stream",
     "text": [
      "+---------------+--------------+-------------+------+-----------------------+--------------------+-----+\n",
      "|     Department|EmployeeNumber|MonthlyIncome|Over18|YearsSinceLastPromotion|YearsWithCurrManager|ntile|\n",
      "+---------------+--------------+-------------+------+-----------------------+--------------------+-----+\n",
      "|Human Resources|           133|         2073|     Y|                      0|                   2|    1|\n",
      "|Human Resources|          1461|         2109|     Y|                      0|                   2|    1|\n",
      "|Human Resources|           829|         2143|     Y|                      0|                   4|    1|\n",
      "|Human Resources|          1049|         2177|     Y|                      0|                   4|    1|\n",
      "|Human Resources|           321|         2267|     Y|                      2|                   2|    2|\n",
      "|Human Resources|           910|         2277|     Y|                      0|                   3|    2|\n",
      "|Human Resources|           878|         2342|     Y|                      0|                   3|    2|\n",
      "|Human Resources|           566|         2564|     Y|                      0|                   0|    2|\n",
      "|Human Resources|           470|         2696|     Y|                      1|                   0|    3|\n",
      "|Human Resources|           608|         2741|     Y|                      1|                   0|    3|\n",
      "|Human Resources|          1467|         2742|     Y|                      2|                   2|    3|\n",
      "|Human Resources|          1152|         2844|     Y|                      5|                   0|    3|\n",
      "|Human Resources|           177|         2942|     Y|                      5|                   7|    4|\n",
      "|Human Resources|          1314|         3423|     Y|                      5|                   7|    4|\n",
      "|Human Resources|          1207|         3600|     Y|                      1|                   4|    4|\n",
      "|Human Resources|           847|         3737|     Y|                      0|                   2|    4|\n",
      "|Human Resources|          1164|         4323|     Y|                      1|                   4|    5|\n",
      "|Human Resources|          1289|         4490|     Y|                      1|                   8|    5|\n",
      "|Human Resources|           869|         4936|     Y|                      0|                   4|    5|\n",
      "|Human Resources|           103|         5021|     Y|                      0|                   2|    5|\n",
      "+---------------+--------------+-------------+------+-----------------------+--------------------+-----+\n",
      "only showing top 20 rows\n",
      "\n"
     ]
    }
   ],
   "source": [
    "window = Window.partitionBy('Department').orderBy('MonthlyIncome')\n",
    "data.withColumn('ntile', f.ntile(10).over(window)).show()"
   ]
  },
  {
   "cell_type": "markdown",
   "id": "33ef8a63",
   "metadata": {},
   "source": [
    "#### PySpark Window Analytic functions\n",
    "\n",
    "#### cume_dist Window Function\n",
    "\n",
    "cume_dist() window function is used to get the cumulative distribution of values within a window partition.\n",
    "\n",
    "This is the same as the DENSE_RANK function in SQL. "
   ]
  },
  {
   "cell_type": "code",
   "execution_count": 71,
   "id": "0617e0c2",
   "metadata": {},
   "outputs": [
    {
     "name": "stdout",
     "output_type": "stream",
     "text": [
      "+-------------+----------+------+------------------+\n",
      "|employee_name|department|salary|          cum_dist|\n",
      "+-------------+----------+------+------------------+\n",
      "|        Maria|   Finance|  3000|0.3333333333333333|\n",
      "|        Scott|   Finance|  3300|0.6666666666666666|\n",
      "|          Jen|   Finance|  3900|               1.0|\n",
      "|        Kumar| Marketing|  2000|               0.5|\n",
      "|         Jeff| Marketing|  3000|               1.0|\n",
      "|        James|     Sales|  3000|               0.4|\n",
      "|        James|     Sales|  3000|               0.4|\n",
      "|       Robert|     Sales|  4100|               0.8|\n",
      "|         Saif|     Sales|  4100|               0.8|\n",
      "|      Michael|     Sales|  4600|               1.0|\n",
      "+-------------+----------+------+------------------+\n",
      "\n"
     ]
    }
   ],
   "source": [
    "window = Window.partitionBy('department').orderBy('salary')\n",
    "df.withColumn('cum_dist', f.cume_dist().over(window)).show()"
   ]
  },
  {
   "cell_type": "code",
   "execution_count": 74,
   "id": "af83b815",
   "metadata": {},
   "outputs": [
    {
     "name": "stdout",
     "output_type": "stream",
     "text": [
      "+-------------+----------+------+----+\n",
      "|employee_name|department|salary|lead|\n",
      "+-------------+----------+------+----+\n",
      "|        Maria|   Finance|  3000|3300|\n",
      "|        Scott|   Finance|  3300|3900|\n",
      "|          Jen|   Finance|  3900|null|\n",
      "|        Kumar| Marketing|  2000|3000|\n",
      "|         Jeff| Marketing|  3000|null|\n",
      "|        James|     Sales|  3000|3000|\n",
      "|        James|     Sales|  3000|4100|\n",
      "|       Robert|     Sales|  4100|4100|\n",
      "|         Saif|     Sales|  4100|4600|\n",
      "|      Michael|     Sales|  4600|null|\n",
      "+-------------+----------+------+----+\n",
      "\n"
     ]
    }
   ],
   "source": [
    "window = Window.partitionBy('department').orderBy('salary')\n",
    "df.withColumn('lead', f.lead(f.col('salary'), 1).over(window)).show()"
   ]
  },
  {
   "cell_type": "code",
   "execution_count": 75,
   "id": "e3970946",
   "metadata": {},
   "outputs": [
    {
     "name": "stdout",
     "output_type": "stream",
     "text": [
      "+-------------+----------+------+----+\n",
      "|employee_name|department|salary|lead|\n",
      "+-------------+----------+------+----+\n",
      "|        Maria|   Finance|  3000|3900|\n",
      "|        Scott|   Finance|  3300|null|\n",
      "|          Jen|   Finance|  3900|null|\n",
      "|        Kumar| Marketing|  2000|null|\n",
      "|         Jeff| Marketing|  3000|null|\n",
      "|        James|     Sales|  3000|4100|\n",
      "|        James|     Sales|  3000|4100|\n",
      "|       Robert|     Sales|  4100|4600|\n",
      "|         Saif|     Sales|  4100|null|\n",
      "|      Michael|     Sales|  4600|null|\n",
      "+-------------+----------+------+----+\n",
      "\n"
     ]
    }
   ],
   "source": [
    "window = Window.partitionBy('department').orderBy('salary')\n",
    "df.withColumn('lead', f.lead(f.col('salary'), 2).over(window)).show()"
   ]
  },
  {
   "cell_type": "code",
   "execution_count": 76,
   "id": "49602f96",
   "metadata": {},
   "outputs": [
    {
     "name": "stdout",
     "output_type": "stream",
     "text": [
      "+-------------+----------+------+----+\n",
      "|employee_name|department|salary|lead|\n",
      "+-------------+----------+------+----+\n",
      "|        Maria|   Finance|  3000|null|\n",
      "|        Scott|   Finance|  3300|3000|\n",
      "|          Jen|   Finance|  3900|3300|\n",
      "|        Kumar| Marketing|  2000|null|\n",
      "|         Jeff| Marketing|  3000|2000|\n",
      "|        James|     Sales|  3000|null|\n",
      "|        James|     Sales|  3000|3000|\n",
      "|       Robert|     Sales|  4100|3000|\n",
      "|         Saif|     Sales|  4100|4100|\n",
      "|      Michael|     Sales|  4600|4100|\n",
      "+-------------+----------+------+----+\n",
      "\n"
     ]
    }
   ],
   "source": [
    "window = Window.partitionBy('department').orderBy('salary')\n",
    "df.withColumn('lead', f.lag(f.col('salary'), 1).over(window)).show()"
   ]
  },
  {
   "cell_type": "code",
   "execution_count": 77,
   "id": "23c7964b",
   "metadata": {},
   "outputs": [
    {
     "name": "stdout",
     "output_type": "stream",
     "text": [
      "+-------------+----------+------+----+\n",
      "|employee_name|department|salary|lead|\n",
      "+-------------+----------+------+----+\n",
      "|        Maria|   Finance|  3000|3900|\n",
      "|        Scott|   Finance|  3300|null|\n",
      "|          Jen|   Finance|  3900|null|\n",
      "|        Kumar| Marketing|  2000|null|\n",
      "|         Jeff| Marketing|  3000|null|\n",
      "|        James|     Sales|  3000|4100|\n",
      "|        James|     Sales|  3000|4100|\n",
      "|       Robert|     Sales|  4100|4600|\n",
      "|         Saif|     Sales|  4100|null|\n",
      "|      Michael|     Sales|  4600|null|\n",
      "+-------------+----------+------+----+\n",
      "\n"
     ]
    }
   ],
   "source": [
    "window = Window.partitionBy('department').orderBy('salary')\n",
    "df.withColumn('lead', f.lead(f.col('salary'), 2).over(window)).show()"
   ]
  },
  {
   "cell_type": "code",
   "execution_count": 78,
   "id": "5b399fe8",
   "metadata": {},
   "outputs": [
    {
     "name": "stdout",
     "output_type": "stream",
     "text": [
      "+---------------+--------------+-------------+------+-----------------------+--------------------+----+\n",
      "|     Department|EmployeeNumber|MonthlyIncome|Over18|YearsSinceLastPromotion|YearsWithCurrManager|lead|\n",
      "+---------------+--------------+-------------+------+-----------------------+--------------------+----+\n",
      "|Human Resources|           133|         2073|     Y|                      0|                   2|2109|\n",
      "|Human Resources|          1461|         2109|     Y|                      0|                   2|2143|\n",
      "|Human Resources|           829|         2143|     Y|                      0|                   4|2177|\n",
      "|Human Resources|          1049|         2177|     Y|                      0|                   4|2267|\n",
      "|Human Resources|           321|         2267|     Y|                      2|                   2|2277|\n",
      "|Human Resources|           910|         2277|     Y|                      0|                   3|2342|\n",
      "|Human Resources|           878|         2342|     Y|                      0|                   3|2564|\n",
      "|Human Resources|           566|         2564|     Y|                      0|                   0|2696|\n",
      "|Human Resources|           470|         2696|     Y|                      1|                   0|2741|\n",
      "|Human Resources|           608|         2741|     Y|                      1|                   0|2742|\n",
      "|Human Resources|          1467|         2742|     Y|                      2|                   2|2844|\n",
      "|Human Resources|          1152|         2844|     Y|                      5|                   0|2942|\n",
      "|Human Resources|           177|         2942|     Y|                      5|                   7|3423|\n",
      "|Human Resources|          1314|         3423|     Y|                      5|                   7|3600|\n",
      "|Human Resources|          1207|         3600|     Y|                      1|                   4|3737|\n",
      "|Human Resources|           847|         3737|     Y|                      0|                   2|4323|\n",
      "|Human Resources|          1164|         4323|     Y|                      1|                   4|4490|\n",
      "|Human Resources|          1289|         4490|     Y|                      1|                   8|4936|\n",
      "|Human Resources|           869|         4936|     Y|                      0|                   4|5021|\n",
      "|Human Resources|           103|         5021|     Y|                      0|                   2|5204|\n",
      "+---------------+--------------+-------------+------+-----------------------+--------------------+----+\n",
      "only showing top 20 rows\n",
      "\n"
     ]
    }
   ],
   "source": [
    "window = Window.partitionBy('Department').orderBy('MonthlyIncome')\n",
    "data.withColumn('lead', f.lead(f.col('MonthlyIncome'),1).over(window)).show()"
   ]
  },
  {
   "cell_type": "code",
   "execution_count": 79,
   "id": "512acfc6",
   "metadata": {},
   "outputs": [
    {
     "name": "stdout",
     "output_type": "stream",
     "text": [
      "+---------------+--------------+-------------+------+-----------------------+--------------------+----+\n",
      "|     Department|EmployeeNumber|MonthlyIncome|Over18|YearsSinceLastPromotion|YearsWithCurrManager|lead|\n",
      "+---------------+--------------+-------------+------+-----------------------+--------------------+----+\n",
      "|Human Resources|           133|         2073|     Y|                      0|                   2|2143|\n",
      "|Human Resources|          1461|         2109|     Y|                      0|                   2|2177|\n",
      "|Human Resources|           829|         2143|     Y|                      0|                   4|2267|\n",
      "|Human Resources|          1049|         2177|     Y|                      0|                   4|2277|\n",
      "|Human Resources|           321|         2267|     Y|                      2|                   2|2342|\n",
      "|Human Resources|           910|         2277|     Y|                      0|                   3|2564|\n",
      "|Human Resources|           878|         2342|     Y|                      0|                   3|2696|\n",
      "|Human Resources|           566|         2564|     Y|                      0|                   0|2741|\n",
      "|Human Resources|           470|         2696|     Y|                      1|                   0|2742|\n",
      "|Human Resources|           608|         2741|     Y|                      1|                   0|2844|\n",
      "|Human Resources|          1467|         2742|     Y|                      2|                   2|2942|\n",
      "|Human Resources|          1152|         2844|     Y|                      5|                   0|3423|\n",
      "|Human Resources|           177|         2942|     Y|                      5|                   7|3600|\n",
      "|Human Resources|          1314|         3423|     Y|                      5|                   7|3737|\n",
      "|Human Resources|          1207|         3600|     Y|                      1|                   4|4323|\n",
      "|Human Resources|           847|         3737|     Y|                      0|                   2|4490|\n",
      "|Human Resources|          1164|         4323|     Y|                      1|                   4|4936|\n",
      "|Human Resources|          1289|         4490|     Y|                      1|                   8|5021|\n",
      "|Human Resources|           869|         4936|     Y|                      0|                   4|5204|\n",
      "|Human Resources|           103|         5021|     Y|                      0|                   2|5985|\n",
      "+---------------+--------------+-------------+------+-----------------------+--------------------+----+\n",
      "only showing top 20 rows\n",
      "\n"
     ]
    }
   ],
   "source": [
    "window = Window.partitionBy('Department').orderBy('MonthlyIncome')\n",
    "data.withColumn('lead', f.lead(f.col('MonthlyIncome'),2).over(window)).show()"
   ]
  },
  {
   "cell_type": "code",
   "execution_count": 80,
   "id": "a4cb56b3",
   "metadata": {},
   "outputs": [
    {
     "name": "stdout",
     "output_type": "stream",
     "text": [
      "+---------------+--------------+-------------+------+-----------------------+--------------------+----+\n",
      "|     Department|EmployeeNumber|MonthlyIncome|Over18|YearsSinceLastPromotion|YearsWithCurrManager| lag|\n",
      "+---------------+--------------+-------------+------+-----------------------+--------------------+----+\n",
      "|Human Resources|           133|         2073|     Y|                      0|                   2|null|\n",
      "|Human Resources|          1461|         2109|     Y|                      0|                   2|2073|\n",
      "|Human Resources|           829|         2143|     Y|                      0|                   4|2109|\n",
      "|Human Resources|          1049|         2177|     Y|                      0|                   4|2143|\n",
      "|Human Resources|           321|         2267|     Y|                      2|                   2|2177|\n",
      "|Human Resources|           910|         2277|     Y|                      0|                   3|2267|\n",
      "|Human Resources|           878|         2342|     Y|                      0|                   3|2277|\n",
      "|Human Resources|           566|         2564|     Y|                      0|                   0|2342|\n",
      "|Human Resources|           470|         2696|     Y|                      1|                   0|2564|\n",
      "|Human Resources|           608|         2741|     Y|                      1|                   0|2696|\n",
      "|Human Resources|          1467|         2742|     Y|                      2|                   2|2741|\n",
      "|Human Resources|          1152|         2844|     Y|                      5|                   0|2742|\n",
      "|Human Resources|           177|         2942|     Y|                      5|                   7|2844|\n",
      "|Human Resources|          1314|         3423|     Y|                      5|                   7|2942|\n",
      "|Human Resources|          1207|         3600|     Y|                      1|                   4|3423|\n",
      "|Human Resources|           847|         3737|     Y|                      0|                   2|3600|\n",
      "|Human Resources|          1164|         4323|     Y|                      1|                   4|3737|\n",
      "|Human Resources|          1289|         4490|     Y|                      1|                   8|4323|\n",
      "|Human Resources|           869|         4936|     Y|                      0|                   4|4490|\n",
      "|Human Resources|           103|         5021|     Y|                      0|                   2|4936|\n",
      "+---------------+--------------+-------------+------+-----------------------+--------------------+----+\n",
      "only showing top 20 rows\n",
      "\n"
     ]
    }
   ],
   "source": [
    "window = Window.partitionBy('Department').orderBy('MonthlyIncome')\n",
    "data.withColumn('lag', f.lag(f.col('MonthlyIncome'),1).over(window)).show()"
   ]
  },
  {
   "cell_type": "code",
   "execution_count": 81,
   "id": "e3318f49",
   "metadata": {},
   "outputs": [
    {
     "name": "stdout",
     "output_type": "stream",
     "text": [
      "+---------------+--------------+-------------+------+-----------------------+--------------------+----+\n",
      "|     Department|EmployeeNumber|MonthlyIncome|Over18|YearsSinceLastPromotion|YearsWithCurrManager| lag|\n",
      "+---------------+--------------+-------------+------+-----------------------+--------------------+----+\n",
      "|Human Resources|           133|         2073|     Y|                      0|                   2|null|\n",
      "|Human Resources|          1461|         2109|     Y|                      0|                   2|null|\n",
      "|Human Resources|           829|         2143|     Y|                      0|                   4|2073|\n",
      "|Human Resources|          1049|         2177|     Y|                      0|                   4|2109|\n",
      "|Human Resources|           321|         2267|     Y|                      2|                   2|2143|\n",
      "|Human Resources|           910|         2277|     Y|                      0|                   3|2177|\n",
      "|Human Resources|           878|         2342|     Y|                      0|                   3|2267|\n",
      "|Human Resources|           566|         2564|     Y|                      0|                   0|2277|\n",
      "|Human Resources|           470|         2696|     Y|                      1|                   0|2342|\n",
      "|Human Resources|           608|         2741|     Y|                      1|                   0|2564|\n",
      "|Human Resources|          1467|         2742|     Y|                      2|                   2|2696|\n",
      "|Human Resources|          1152|         2844|     Y|                      5|                   0|2741|\n",
      "|Human Resources|           177|         2942|     Y|                      5|                   7|2742|\n",
      "|Human Resources|          1314|         3423|     Y|                      5|                   7|2844|\n",
      "|Human Resources|          1207|         3600|     Y|                      1|                   4|2942|\n",
      "|Human Resources|           847|         3737|     Y|                      0|                   2|3423|\n",
      "|Human Resources|          1164|         4323|     Y|                      1|                   4|3600|\n",
      "|Human Resources|          1289|         4490|     Y|                      1|                   8|3737|\n",
      "|Human Resources|           869|         4936|     Y|                      0|                   4|4323|\n",
      "|Human Resources|           103|         5021|     Y|                      0|                   2|4490|\n",
      "+---------------+--------------+-------------+------+-----------------------+--------------------+----+\n",
      "only showing top 20 rows\n",
      "\n"
     ]
    }
   ],
   "source": [
    "window = Window.partitionBy('Department').orderBy('MonthlyIncome')\n",
    "data.withColumn('lag', f.lag(f.col('MonthlyIncome'),2).over(window)).show()"
   ]
  },
  {
   "cell_type": "code",
   "execution_count": null,
   "id": "16285f8d",
   "metadata": {},
   "outputs": [],
   "source": []
  }
 ],
 "metadata": {
  "kernelspec": {
   "display_name": "Python 3 (ipykernel)",
   "language": "python",
   "name": "python3"
  },
  "language_info": {
   "codemirror_mode": {
    "name": "ipython",
    "version": 3
   },
   "file_extension": ".py",
   "mimetype": "text/x-python",
   "name": "python",
   "nbconvert_exporter": "python",
   "pygments_lexer": "ipython3",
   "version": "3.10.6"
  }
 },
 "nbformat": 4,
 "nbformat_minor": 5
}
